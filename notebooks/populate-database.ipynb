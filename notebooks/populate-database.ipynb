{
 "cells": [
  {
   "cell_type": "markdown",
   "metadata": {
    "application/vnd.databricks.v1+cell": {
     "cellMetadata": {},
     "inputWidgets": {},
     "nuid": "bb601ce6-f290-42ea-90a6-ca550d38e3ca",
     "showTitle": false,
     "title": ""
    }
   },
   "source": [
    "### Notebook Set-Up"
   ]
  },
  {
   "cell_type": "markdown",
   "metadata": {
    "application/vnd.databricks.v1+cell": {
     "cellMetadata": {},
     "inputWidgets": {},
     "nuid": "d89d1a2f-ce6b-4b4e-8779-eb60c1c7676d",
     "showTitle": false,
     "title": ""
    }
   },
   "source": [
    "#### Import Required Modules"
   ]
  },
  {
   "cell_type": "code",
   "execution_count": null,
   "metadata": {
    "application/vnd.databricks.v1+cell": {
     "cellMetadata": {
      "byteLimit": 2048000,
      "rowLimit": 10000
     },
     "inputWidgets": {},
     "nuid": "6c0275d4-0791-4bc1-b740-7754bfe76f27",
     "showTitle": false,
     "title": ""
    }
   },
   "outputs": [],
   "source": [
    "# %pip install python-dotenv sqlalchemy duckdb duckdb-engine cloud-sql-python-connector[pg8000]"
   ]
  },
  {
   "cell_type": "code",
   "execution_count": 3,
   "metadata": {
    "application/vnd.databricks.v1+cell": {
     "cellMetadata": {
      "byteLimit": 2048000,
      "rowLimit": 10000
     },
     "inputWidgets": {},
     "nuid": "7ad92141-2202-40f0-8029-bebb8b63e18b",
     "showTitle": false,
     "title": ""
    }
   },
   "outputs": [],
   "source": [
    "import os\n",
    "import csv\n",
    "import json\n",
    "# import duckdb\n",
    "\n",
    "from typing import List, Dict\n",
    "from dotenv import load_dotenv\n",
    "from datetime import datetime\n",
    "\n",
    "import numpy as np\n",
    "import pandas as pd\n",
    "\n",
    "# from pyspark.sql import SparkSession\n",
    "# from pyspark.sql import functions as f\n",
    "# from pyspark.sql.window import Window"
   ]
  },
  {
   "cell_type": "markdown",
   "metadata": {
    "application/vnd.databricks.v1+cell": {
     "cellMetadata": {},
     "inputWidgets": {},
     "nuid": "3c66a3f9-fe90-46e2-ae65-5100be81faf0",
     "showTitle": false,
     "title": ""
    }
   },
   "source": [
    "#### Load Secrets"
   ]
  },
  {
   "cell_type": "code",
   "execution_count": 7,
   "metadata": {
    "application/vnd.databricks.v1+cell": {
     "cellMetadata": {
      "byteLimit": 2048000,
      "rowLimit": 10000
     },
     "inputWidgets": {},
     "nuid": "34c6e1a3-0a28-4d1b-92aa-659c6b047bd2",
     "showTitle": false,
     "title": ""
    }
   },
   "outputs": [
    {
     "data": {
      "text/plain": [
       "True"
      ]
     },
     "execution_count": 7,
     "metadata": {},
     "output_type": "execute_result"
    }
   ],
   "source": [
    "load_dotenv(\"../.env\")"
   ]
  },
  {
   "cell_type": "markdown",
   "metadata": {
    "application/vnd.databricks.v1+cell": {
     "cellMetadata": {},
     "inputWidgets": {},
     "nuid": "8de77a0b-a968-4306-a01f-cbf21973a372",
     "showTitle": false,
     "title": ""
    }
   },
   "source": [
    "#### Get or Create SparkSession"
   ]
  },
  {
   "cell_type": "code",
   "execution_count": null,
   "metadata": {
    "application/vnd.databricks.v1+cell": {
     "cellMetadata": {
      "byteLimit": 2048000,
      "rowLimit": 10000
     },
     "inputWidgets": {},
     "nuid": "fcc0d9be-c3dd-4fbb-ba4f-5a413ce03d97",
     "showTitle": false,
     "title": ""
    }
   },
   "outputs": [
    {
     "data": {
      "text/html": [
       "\n",
       "            <div>\n",
       "                <p><b>SparkSession - hive</b></p>\n",
       "                \n",
       "        <div>\n",
       "            <p><b>SparkContext</b></p>\n",
       "\n",
       "            <p><a href=\"/?o=8355974179873438#setting/sparkui/1017-161542-o0dq748r/driver-7928559540882837674\">Spark UI</a></p>\n",
       "\n",
       "            <dl>\n",
       "              <dt>Version</dt>\n",
       "                <dd><code>v3.3.2</code></dd>\n",
       "              <dt>Master</dt>\n",
       "                <dd><code>spark://driver-proxy:7077</code></dd>\n",
       "              <dt>AppName</dt>\n",
       "                <dd><code>Databricks Shell</code></dd>\n",
       "            </dl>\n",
       "        </div>\n",
       "        \n",
       "            </div>\n",
       "        "
      ]
     },
     "metadata": {
      "application/vnd.databricks.v1+output": {
       "addedWidgets": {},
       "arguments": {},
       "data": "\n            <div>\n                <p><b>SparkSession - hive</b></p>\n                \n        <div>\n            <p><b>SparkContext</b></p>\n\n            <p><a href=\"/?o=8355974179873438#setting/sparkui/1017-161542-o0dq748r/driver-7928559540882837674\">Spark UI</a></p>\n\n            <dl>\n              <dt>Version</dt>\n                <dd><code>v3.3.2</code></dd>\n              <dt>Master</dt>\n                <dd><code>spark://driver-proxy:7077</code></dd>\n              <dt>AppName</dt>\n                <dd><code>Databricks Shell</code></dd>\n            </dl>\n        </div>\n        \n            </div>\n        ",
       "datasetInfos": [],
       "metadata": {},
       "removedWidgets": [],
       "textData": null,
       "type": "htmlSandbox"
      }
     },
     "output_type": "display_data"
    }
   ],
   "source": [
    "spark = SparkSession.builder.getOrCreate()\n",
    "spark.sparkContext.setLogLevel(\"error\")\n",
    "spark"
   ]
  },
  {
   "cell_type": "markdown",
   "metadata": {
    "application/vnd.databricks.v1+cell": {
     "cellMetadata": {},
     "inputWidgets": {},
     "nuid": "5870cbce-ba16-4855-a63d-67980c8d7b86",
     "showTitle": false,
     "title": ""
    }
   },
   "source": [
    "#### Set Workflow Constants"
   ]
  },
  {
   "cell_type": "code",
   "execution_count": null,
   "metadata": {
    "application/vnd.databricks.v1+cell": {
     "cellMetadata": {
      "byteLimit": 2048000,
      "rowLimit": 10000
     },
     "inputWidgets": {},
     "nuid": "826f1837-ac90-4994-8645-70638b65e705",
     "showTitle": false,
     "title": ""
    }
   },
   "outputs": [],
   "source": [
    "CLEAN_PATH = \"dbfs:/FileStore/data/clean\"\n",
    "JSON_PATH = \"/dbfs/FileStore/data/json\""
   ]
  },
  {
   "cell_type": "markdown",
   "metadata": {
    "application/vnd.databricks.v1+cell": {
     "cellMetadata": {},
     "inputWidgets": {},
     "nuid": "bf1ed547-e039-45c0-9636-27233c358ed7",
     "showTitle": false,
     "title": ""
    }
   },
   "source": [
    "### Load the Clean Data"
   ]
  },
  {
   "cell_type": "markdown",
   "metadata": {
    "application/vnd.databricks.v1+cell": {
     "cellMetadata": {},
     "inputWidgets": {},
     "nuid": "58b83bf9-b222-4579-87c9-89f6ade58186",
     "showTitle": false,
     "title": ""
    }
   },
   "source": [
    "#### Import Clean Movies Data"
   ]
  },
  {
   "cell_type": "code",
   "execution_count": null,
   "metadata": {
    "application/vnd.databricks.v1+cell": {
     "cellMetadata": {
      "byteLimit": 2048000,
      "rowLimit": 10000
     },
     "inputWidgets": {},
     "nuid": "0d2451d2-3b0d-4456-9716-3dc8fcc7a1a2",
     "showTitle": false,
     "title": ""
    }
   },
   "outputs": [
    {
     "name": "stdout",
     "output_type": "stream",
     "text": [
      "-RECORD 0------------------------------------------------------------------------------------------------------------------------------------------------------------------------------------------------------------------------------------------------------\n",
      " budget        | 4000000                                                                                                                                                                                                                                       \n",
      " cast          | [Tim Roth, Jennifer Beals, Antonio Banderas, Valeria Golino, David Proval]                                                                                                                                                                    \n",
      " director      | Allison Anders                                                                                                                                                                                                                                \n",
      " genres        | [Comedy]                                                                                                                                                                                                                                      \n",
      " keywords      | [hotel, new year's eve, witch, bet, hotel room, sperm, anthology, los angeles, california, hoodlum, multiple storylines, woman director]                                                                                                      \n",
      " language      | en                                                                                                                                                                                                                                            \n",
      " overview      | It's Ted the Bellhop's first night on the job...and the hotel's very unusual guests are about to place him in some outrageous predicaments. It seems that this evening's room service is serving up one unbelievable happening after another. \n",
      " popularity    | 21.138                                                                                                                                                                                                                                        \n",
      " release_date  | 1995-12-09                                                                                                                                                                                                                                    \n",
      " revenue       | 4257354                                                                                                                                                                                                                                       \n",
      " runtime       | 98                                                                                                                                                                                                                                            \n",
      " status        | Released                                                                                                                                                                                                                                      \n",
      " title         | Four Rooms                                                                                                                                                                                                                                    \n",
      " tmdb_homepage | https://www.themoviedb.org/movie/5                                                                                                                                                                                                            \n",
      " tmdb_id       | 5                                                                                                                                                                                                                                             \n",
      " vote_average  | 5.789                                                                                                                                                                                                                                         \n",
      " vote_count    | 2443                                                                                                                                                                                                                                          \n",
      "only showing top 1 row\n",
      "\n",
      "root\n",
      " |-- budget: long (nullable = true)\n",
      " |-- cast: array (nullable = true)\n",
      " |    |-- element: string (containsNull = true)\n",
      " |-- director: string (nullable = true)\n",
      " |-- genres: array (nullable = true)\n",
      " |    |-- element: string (containsNull = true)\n",
      " |-- keywords: array (nullable = true)\n",
      " |    |-- element: string (containsNull = true)\n",
      " |-- language: string (nullable = true)\n",
      " |-- overview: string (nullable = true)\n",
      " |-- popularity: double (nullable = true)\n",
      " |-- release_date: string (nullable = true)\n",
      " |-- revenue: long (nullable = true)\n",
      " |-- runtime: long (nullable = true)\n",
      " |-- status: string (nullable = true)\n",
      " |-- title: string (nullable = true)\n",
      " |-- tmdb_homepage: string (nullable = true)\n",
      " |-- tmdb_id: string (nullable = true)\n",
      " |-- vote_average: double (nullable = true)\n",
      " |-- vote_count: long (nullable = true)\n",
      "\n",
      "Out[58]: 2264"
     ]
    }
   ],
   "source": [
    "movies = spark.read.parquet(os.path.join(CLEAN_PATH, \"movies\"))\n",
    "movies.show(1, truncate=False, vertical=True)\n",
    "movies.printSchema()\n",
    "movies.count()"
   ]
  },
  {
   "cell_type": "markdown",
   "metadata": {
    "application/vnd.databricks.v1+cell": {
     "cellMetadata": {},
     "inputWidgets": {},
     "nuid": "60d9a261-ba42-4361-a421-2d6cec9f1142",
     "showTitle": false,
     "title": ""
    }
   },
   "source": [
    "#### Import Clean Ratings Data"
   ]
  },
  {
   "cell_type": "code",
   "execution_count": null,
   "metadata": {
    "application/vnd.databricks.v1+cell": {
     "cellMetadata": {
      "byteLimit": 2048000,
      "rowLimit": 10000
     },
     "inputWidgets": {},
     "nuid": "f1761695-94b2-443e-aee4-65fe284ad765",
     "showTitle": false,
     "title": ""
    }
   },
   "outputs": [
    {
     "name": "stdout",
     "output_type": "stream",
     "text": [
      "+-------+-------+------+-------------------+\n",
      "|user_id|tmdb_id|rating|timestamp          |\n",
      "+-------+-------+------+-------------------+\n",
      "|304    |1572   |4.0   |1998-03-29 12:12:08|\n",
      "|469    |2108   |5.0   |2000-08-04 21:46:05|\n",
      "|247    |98     |4.0   |2016-07-04 14:55:39|\n",
      "|307    |1592   |4.0   |2007-10-29 13:08:15|\n",
      "|477    |2048   |3.5   |2008-01-21 18:45:47|\n",
      "+-------+-------+------+-------------------+\n",
      "only showing top 5 rows\n",
      "\n",
      "Out[59]: 81116"
     ]
    }
   ],
   "source": [
    "ratings = spark.read.parquet(os.path.join(CLEAN_PATH, \"ratings\"))\n",
    "ratings.show(5, truncate=False)\n",
    "ratings.count()"
   ]
  },
  {
   "cell_type": "markdown",
   "metadata": {
    "application/vnd.databricks.v1+cell": {
     "cellMetadata": {},
     "inputWidgets": {},
     "nuid": "be4e9f2d-023b-40ef-93b6-1c74f02513fd",
     "showTitle": false,
     "title": ""
    }
   },
   "source": [
    "### Populate the ApplicationDB Tables"
   ]
  },
  {
   "cell_type": "code",
   "execution_count": null,
   "metadata": {
    "application/vnd.databricks.v1+cell": {
     "cellMetadata": {
      "byteLimit": 2048000,
      "rowLimit": 10000
     },
     "inputWidgets": {},
     "nuid": "40e60bff-0ed0-4d85-b8ae-1e788edd4e43",
     "showTitle": false,
     "title": ""
    }
   },
   "outputs": [
    {
     "name": "stdout",
     "output_type": "stream",
     "text": [
      "Out[60]: datetime.datetime(2023, 10, 24, 22, 21, 59, 26204)"
     ]
    }
   ],
   "source": [
    "updated_at = datetime.now()\n",
    "updated_at"
   ]
  },
  {
   "cell_type": "markdown",
   "metadata": {
    "application/vnd.databricks.v1+cell": {
     "cellMetadata": {},
     "inputWidgets": {},
     "nuid": "34ad17af-b078-4173-8c36-b2b413ca8987",
     "showTitle": false,
     "title": ""
    }
   },
   "source": [
    "#### Format the `Users` Table"
   ]
  },
  {
   "cell_type": "code",
   "execution_count": null,
   "metadata": {
    "application/vnd.databricks.v1+cell": {
     "cellMetadata": {
      "byteLimit": 2048000,
      "rowLimit": 10000
     },
     "inputWidgets": {},
     "nuid": "a3ab6a96-631b-4fbb-8839-024b01f0c1d4",
     "showTitle": false,
     "title": ""
    }
   },
   "outputs": [
    {
     "data": {
      "text/html": [
       "<div>\n",
       "<style scoped>\n",
       "    .dataframe tbody tr th:only-of-type {\n",
       "        vertical-align: middle;\n",
       "    }\n",
       "\n",
       "    .dataframe tbody tr th {\n",
       "        vertical-align: top;\n",
       "    }\n",
       "\n",
       "    .dataframe thead th {\n",
       "        text-align: right;\n",
       "    }\n",
       "</style>\n",
       "<table border=\"1\" class=\"dataframe\">\n",
       "  <thead>\n",
       "    <tr style=\"text-align: right;\">\n",
       "      <th></th>\n",
       "      <th>user_id</th>\n",
       "      <th>email</th>\n",
       "      <th>hashed_password</th>\n",
       "      <th>fname</th>\n",
       "      <th>lname</th>\n",
       "      <th>updated_at</th>\n",
       "    </tr>\n",
       "  </thead>\n",
       "  <tbody>\n",
       "    <tr>\n",
       "      <th>0</th>\n",
       "      <td>467</td>\n",
       "      <td>ANONYMOUS@ANONYMOUS.COM</td>\n",
       "      <td>37dac418e085726bf77f285c48558dcf9b3486ed184386...</td>\n",
       "      <td>ANONYMOUS</td>\n",
       "      <td>ANONYMOUS</td>\n",
       "      <td>2023-10-24 22:21:59.026204</td>\n",
       "    </tr>\n",
       "    <tr>\n",
       "      <th>1</th>\n",
       "      <td>296</td>\n",
       "      <td>ANONYMOUS@ANONYMOUS.COM</td>\n",
       "      <td>37dac418e085726bf77f285c48558dcf9b3486ed184386...</td>\n",
       "      <td>ANONYMOUS</td>\n",
       "      <td>ANONYMOUS</td>\n",
       "      <td>2023-10-24 22:21:59.026204</td>\n",
       "    </tr>\n",
       "    <tr>\n",
       "      <th>2</th>\n",
       "      <td>125</td>\n",
       "      <td>ANONYMOUS@ANONYMOUS.COM</td>\n",
       "      <td>37dac418e085726bf77f285c48558dcf9b3486ed184386...</td>\n",
       "      <td>ANONYMOUS</td>\n",
       "      <td>ANONYMOUS</td>\n",
       "      <td>2023-10-24 22:21:59.026204</td>\n",
       "    </tr>\n",
       "    <tr>\n",
       "      <th>3</th>\n",
       "      <td>451</td>\n",
       "      <td>ANONYMOUS@ANONYMOUS.COM</td>\n",
       "      <td>37dac418e085726bf77f285c48558dcf9b3486ed184386...</td>\n",
       "      <td>ANONYMOUS</td>\n",
       "      <td>ANONYMOUS</td>\n",
       "      <td>2023-10-24 22:21:59.026204</td>\n",
       "    </tr>\n",
       "    <tr>\n",
       "      <th>4</th>\n",
       "      <td>51</td>\n",
       "      <td>ANONYMOUS@ANONYMOUS.COM</td>\n",
       "      <td>37dac418e085726bf77f285c48558dcf9b3486ed184386...</td>\n",
       "      <td>ANONYMOUS</td>\n",
       "      <td>ANONYMOUS</td>\n",
       "      <td>2023-10-24 22:21:59.026204</td>\n",
       "    </tr>\n",
       "  </tbody>\n",
       "</table>\n",
       "</div>"
      ]
     },
     "metadata": {
      "application/vnd.databricks.v1+output": {
       "addedWidgets": {},
       "arguments": {},
       "data": "<div>\n<style scoped>\n    .dataframe tbody tr th:only-of-type {\n        vertical-align: middle;\n    }\n\n    .dataframe tbody tr th {\n        vertical-align: top;\n    }\n\n    .dataframe thead th {\n        text-align: right;\n    }\n</style>\n<table border=\"1\" class=\"dataframe\">\n  <thead>\n    <tr style=\"text-align: right;\">\n      <th></th>\n      <th>user_id</th>\n      <th>email</th>\n      <th>hashed_password</th>\n      <th>fname</th>\n      <th>lname</th>\n      <th>updated_at</th>\n    </tr>\n  </thead>\n  <tbody>\n    <tr>\n      <th>0</th>\n      <td>467</td>\n      <td>ANONYMOUS@ANONYMOUS.COM</td>\n      <td>37dac418e085726bf77f285c48558dcf9b3486ed184386...</td>\n      <td>ANONYMOUS</td>\n      <td>ANONYMOUS</td>\n      <td>2023-10-24 22:21:59.026204</td>\n    </tr>\n    <tr>\n      <th>1</th>\n      <td>296</td>\n      <td>ANONYMOUS@ANONYMOUS.COM</td>\n      <td>37dac418e085726bf77f285c48558dcf9b3486ed184386...</td>\n      <td>ANONYMOUS</td>\n      <td>ANONYMOUS</td>\n      <td>2023-10-24 22:21:59.026204</td>\n    </tr>\n    <tr>\n      <th>2</th>\n      <td>125</td>\n      <td>ANONYMOUS@ANONYMOUS.COM</td>\n      <td>37dac418e085726bf77f285c48558dcf9b3486ed184386...</td>\n      <td>ANONYMOUS</td>\n      <td>ANONYMOUS</td>\n      <td>2023-10-24 22:21:59.026204</td>\n    </tr>\n    <tr>\n      <th>3</th>\n      <td>451</td>\n      <td>ANONYMOUS@ANONYMOUS.COM</td>\n      <td>37dac418e085726bf77f285c48558dcf9b3486ed184386...</td>\n      <td>ANONYMOUS</td>\n      <td>ANONYMOUS</td>\n      <td>2023-10-24 22:21:59.026204</td>\n    </tr>\n    <tr>\n      <th>4</th>\n      <td>51</td>\n      <td>ANONYMOUS@ANONYMOUS.COM</td>\n      <td>37dac418e085726bf77f285c48558dcf9b3486ed184386...</td>\n      <td>ANONYMOUS</td>\n      <td>ANONYMOUS</td>\n      <td>2023-10-24 22:21:59.026204</td>\n    </tr>\n  </tbody>\n</table>\n</div>",
       "datasetInfos": [],
       "metadata": {},
       "removedWidgets": [],
       "textData": null,
       "type": "htmlSandbox"
      }
     },
     "output_type": "display_data"
    }
   ],
   "source": [
    "users_pandas = ratings \\\n",
    "    .select(\"user_id\") \\\n",
    "    .distinct() \\\n",
    "    .withColumn(\"email\", f.lit(\"ANONYMOUS@ANONYMOUS.COM\")) \\\n",
    "    .withColumn(\"hashed_password\", f.sha2(\"email\", 256)) \\\n",
    "    .withColumn(\"fname\", f.lit(\"ANONYMOUS\")) \\\n",
    "    .withColumn(\"lname\", f.lit(\"ANONYMOUS\")) \\\n",
    "    .withColumn(\"updated_at\", f.lit(updated_at)) \\\n",
    "    .select(\"user_id\", \"email\", \"hashed_password\", \"fname\", \"lname\", \"updated_at\") \\\n",
    "    .toPandas()\n",
    "\n",
    "users_pandas.head()"
   ]
  },
  {
   "cell_type": "markdown",
   "metadata": {
    "application/vnd.databricks.v1+cell": {
     "cellMetadata": {},
     "inputWidgets": {},
     "nuid": "5de4e9b4-fe11-48c6-a353-872a03d8b4f6",
     "showTitle": false,
     "title": ""
    }
   },
   "source": [
    "#### Format the `Movies` Table"
   ]
  },
  {
   "cell_type": "code",
   "execution_count": null,
   "metadata": {
    "application/vnd.databricks.v1+cell": {
     "cellMetadata": {
      "byteLimit": 2048000,
      "rowLimit": 10000
     },
     "inputWidgets": {},
     "nuid": "03921348-01a1-416d-b41f-a29d4dd372ec",
     "showTitle": false,
     "title": ""
    }
   },
   "outputs": [
    {
     "data": {
      "text/html": [
       "<div>\n",
       "<style scoped>\n",
       "    .dataframe tbody tr th:only-of-type {\n",
       "        vertical-align: middle;\n",
       "    }\n",
       "\n",
       "    .dataframe tbody tr th {\n",
       "        vertical-align: top;\n",
       "    }\n",
       "\n",
       "    .dataframe thead th {\n",
       "        text-align: right;\n",
       "    }\n",
       "</style>\n",
       "<table border=\"1\" class=\"dataframe\">\n",
       "  <thead>\n",
       "    <tr style=\"text-align: right;\">\n",
       "      <th></th>\n",
       "      <th>tmdb_id</th>\n",
       "      <th>tmdb_homepage</th>\n",
       "      <th>title</th>\n",
       "      <th>language</th>\n",
       "      <th>release_date</th>\n",
       "      <th>runtime</th>\n",
       "      <th>director</th>\n",
       "      <th>actors</th>\n",
       "      <th>genres</th>\n",
       "      <th>keywords</th>\n",
       "      <th>overview</th>\n",
       "      <th>budget</th>\n",
       "      <th>revenue</th>\n",
       "      <th>popularity</th>\n",
       "      <th>vote_average</th>\n",
       "      <th>vote_count</th>\n",
       "      <th>updated_at</th>\n",
       "    </tr>\n",
       "  </thead>\n",
       "  <tbody>\n",
       "    <tr>\n",
       "      <th>0</th>\n",
       "      <td>5</td>\n",
       "      <td>https://www.themoviedb.org/movie/5</td>\n",
       "      <td>Four Rooms</td>\n",
       "      <td>en</td>\n",
       "      <td>1995-12-09</td>\n",
       "      <td>98</td>\n",
       "      <td>Allison Anders</td>\n",
       "      <td>[Tim Roth, Jennifer Beals, Antonio Banderas, V...</td>\n",
       "      <td>[Comedy]</td>\n",
       "      <td>[hotel, new year's eve, witch, bet, hotel room...</td>\n",
       "      <td>It's Ted the Bellhop's first night on the job....</td>\n",
       "      <td>4000000</td>\n",
       "      <td>4257354</td>\n",
       "      <td>21.138</td>\n",
       "      <td>5.789</td>\n",
       "      <td>2443</td>\n",
       "      <td>2023-10-24 22:21:59.026204</td>\n",
       "    </tr>\n",
       "    <tr>\n",
       "      <th>1</th>\n",
       "      <td>11</td>\n",
       "      <td>https://www.themoviedb.org/movie/11</td>\n",
       "      <td>Star Wars</td>\n",
       "      <td>en</td>\n",
       "      <td>1977-05-25</td>\n",
       "      <td>121</td>\n",
       "      <td>George Lucas</td>\n",
       "      <td>[Mark Hamill, Harrison Ford, Carrie Fisher, Pe...</td>\n",
       "      <td>[Adventure, Action, Science Fiction]</td>\n",
       "      <td>[android, galaxy, hermit, smuggling (contraban...</td>\n",
       "      <td>Princess Leia is captured and held hostage by ...</td>\n",
       "      <td>11000000</td>\n",
       "      <td>775398007</td>\n",
       "      <td>88.613</td>\n",
       "      <td>8.204</td>\n",
       "      <td>19236</td>\n",
       "      <td>2023-10-24 22:21:59.026204</td>\n",
       "    </tr>\n",
       "    <tr>\n",
       "      <th>2</th>\n",
       "      <td>12</td>\n",
       "      <td>https://www.themoviedb.org/movie/12</td>\n",
       "      <td>Finding Nemo</td>\n",
       "      <td>en</td>\n",
       "      <td>2003-05-30</td>\n",
       "      <td>100</td>\n",
       "      <td>Andrew Stanton</td>\n",
       "      <td>[Albert Brooks, Ellen DeGeneres, Alexander Gou...</td>\n",
       "      <td>[Animation, Family]</td>\n",
       "      <td>[parent child relationship, sydney, australia,...</td>\n",
       "      <td>Nemo, an adventurous young clownfish, is unexp...</td>\n",
       "      <td>94000000</td>\n",
       "      <td>940335536</td>\n",
       "      <td>92.459</td>\n",
       "      <td>7.824</td>\n",
       "      <td>18132</td>\n",
       "      <td>2023-10-24 22:21:59.026204</td>\n",
       "    </tr>\n",
       "    <tr>\n",
       "      <th>3</th>\n",
       "      <td>13</td>\n",
       "      <td>https://www.themoviedb.org/movie/13</td>\n",
       "      <td>Forrest Gump</td>\n",
       "      <td>en</td>\n",
       "      <td>1994-06-23</td>\n",
       "      <td>142</td>\n",
       "      <td>Robert Zemeckis</td>\n",
       "      <td>[Tom Hanks, Robin Wright, Gary Sinise, Sally F...</td>\n",
       "      <td>[Comedy, Drama, Romance]</td>\n",
       "      <td>[vietnam veteran, post-traumatic stress disord...</td>\n",
       "      <td>A man with a low IQ has accomplished great thi...</td>\n",
       "      <td>55000000</td>\n",
       "      <td>677387716</td>\n",
       "      <td>84.723</td>\n",
       "      <td>8.477</td>\n",
       "      <td>25544</td>\n",
       "      <td>2023-10-24 22:21:59.026204</td>\n",
       "    </tr>\n",
       "    <tr>\n",
       "      <th>4</th>\n",
       "      <td>14</td>\n",
       "      <td>https://www.themoviedb.org/movie/14</td>\n",
       "      <td>American Beauty</td>\n",
       "      <td>en</td>\n",
       "      <td>1999-09-15</td>\n",
       "      <td>122</td>\n",
       "      <td>Sam Mendes</td>\n",
       "      <td>[Kevin Spacey, Annette Bening, Thora Birch, We...</td>\n",
       "      <td>[Drama]</td>\n",
       "      <td>[adultery, age difference, parent child relati...</td>\n",
       "      <td>Lester Burnham, a depressed suburban father in...</td>\n",
       "      <td>15000000</td>\n",
       "      <td>356296601</td>\n",
       "      <td>35.477</td>\n",
       "      <td>8.021</td>\n",
       "      <td>11317</td>\n",
       "      <td>2023-10-24 22:21:59.026204</td>\n",
       "    </tr>\n",
       "  </tbody>\n",
       "</table>\n",
       "</div>"
      ]
     },
     "metadata": {
      "application/vnd.databricks.v1+output": {
       "addedWidgets": {},
       "arguments": {},
       "data": "<div>\n<style scoped>\n    .dataframe tbody tr th:only-of-type {\n        vertical-align: middle;\n    }\n\n    .dataframe tbody tr th {\n        vertical-align: top;\n    }\n\n    .dataframe thead th {\n        text-align: right;\n    }\n</style>\n<table border=\"1\" class=\"dataframe\">\n  <thead>\n    <tr style=\"text-align: right;\">\n      <th></th>\n      <th>tmdb_id</th>\n      <th>tmdb_homepage</th>\n      <th>title</th>\n      <th>language</th>\n      <th>release_date</th>\n      <th>runtime</th>\n      <th>director</th>\n      <th>actors</th>\n      <th>genres</th>\n      <th>keywords</th>\n      <th>overview</th>\n      <th>budget</th>\n      <th>revenue</th>\n      <th>popularity</th>\n      <th>vote_average</th>\n      <th>vote_count</th>\n      <th>updated_at</th>\n    </tr>\n  </thead>\n  <tbody>\n    <tr>\n      <th>0</th>\n      <td>5</td>\n      <td>https://www.themoviedb.org/movie/5</td>\n      <td>Four Rooms</td>\n      <td>en</td>\n      <td>1995-12-09</td>\n      <td>98</td>\n      <td>Allison Anders</td>\n      <td>[Tim Roth, Jennifer Beals, Antonio Banderas, V...</td>\n      <td>[Comedy]</td>\n      <td>[hotel, new year's eve, witch, bet, hotel room...</td>\n      <td>It's Ted the Bellhop's first night on the job....</td>\n      <td>4000000</td>\n      <td>4257354</td>\n      <td>21.138</td>\n      <td>5.789</td>\n      <td>2443</td>\n      <td>2023-10-24 22:21:59.026204</td>\n    </tr>\n    <tr>\n      <th>1</th>\n      <td>11</td>\n      <td>https://www.themoviedb.org/movie/11</td>\n      <td>Star Wars</td>\n      <td>en</td>\n      <td>1977-05-25</td>\n      <td>121</td>\n      <td>George Lucas</td>\n      <td>[Mark Hamill, Harrison Ford, Carrie Fisher, Pe...</td>\n      <td>[Adventure, Action, Science Fiction]</td>\n      <td>[android, galaxy, hermit, smuggling (contraban...</td>\n      <td>Princess Leia is captured and held hostage by ...</td>\n      <td>11000000</td>\n      <td>775398007</td>\n      <td>88.613</td>\n      <td>8.204</td>\n      <td>19236</td>\n      <td>2023-10-24 22:21:59.026204</td>\n    </tr>\n    <tr>\n      <th>2</th>\n      <td>12</td>\n      <td>https://www.themoviedb.org/movie/12</td>\n      <td>Finding Nemo</td>\n      <td>en</td>\n      <td>2003-05-30</td>\n      <td>100</td>\n      <td>Andrew Stanton</td>\n      <td>[Albert Brooks, Ellen DeGeneres, Alexander Gou...</td>\n      <td>[Animation, Family]</td>\n      <td>[parent child relationship, sydney, australia,...</td>\n      <td>Nemo, an adventurous young clownfish, is unexp...</td>\n      <td>94000000</td>\n      <td>940335536</td>\n      <td>92.459</td>\n      <td>7.824</td>\n      <td>18132</td>\n      <td>2023-10-24 22:21:59.026204</td>\n    </tr>\n    <tr>\n      <th>3</th>\n      <td>13</td>\n      <td>https://www.themoviedb.org/movie/13</td>\n      <td>Forrest Gump</td>\n      <td>en</td>\n      <td>1994-06-23</td>\n      <td>142</td>\n      <td>Robert Zemeckis</td>\n      <td>[Tom Hanks, Robin Wright, Gary Sinise, Sally F...</td>\n      <td>[Comedy, Drama, Romance]</td>\n      <td>[vietnam veteran, post-traumatic stress disord...</td>\n      <td>A man with a low IQ has accomplished great thi...</td>\n      <td>55000000</td>\n      <td>677387716</td>\n      <td>84.723</td>\n      <td>8.477</td>\n      <td>25544</td>\n      <td>2023-10-24 22:21:59.026204</td>\n    </tr>\n    <tr>\n      <th>4</th>\n      <td>14</td>\n      <td>https://www.themoviedb.org/movie/14</td>\n      <td>American Beauty</td>\n      <td>en</td>\n      <td>1999-09-15</td>\n      <td>122</td>\n      <td>Sam Mendes</td>\n      <td>[Kevin Spacey, Annette Bening, Thora Birch, We...</td>\n      <td>[Drama]</td>\n      <td>[adultery, age difference, parent child relati...</td>\n      <td>Lester Burnham, a depressed suburban father in...</td>\n      <td>15000000</td>\n      <td>356296601</td>\n      <td>35.477</td>\n      <td>8.021</td>\n      <td>11317</td>\n      <td>2023-10-24 22:21:59.026204</td>\n    </tr>\n  </tbody>\n</table>\n</div>",
       "datasetInfos": [],
       "metadata": {},
       "removedWidgets": [],
       "textData": null,
       "type": "htmlSandbox"
      }
     },
     "output_type": "display_data"
    }
   ],
   "source": [
    "movies_pandas = movies \\\n",
    "    .drop(\"status\") \\\n",
    "    .withColumnRenamed(\"cast\", \"actors\") \\\n",
    "    .withColumn(\"updated_at\", f.lit(updated_at)) \\\n",
    "    .select(\n",
    "        \"tmdb_id\", \"tmdb_homepage\", \"title\", \"language\", \"release_date\", \"runtime\", \"director\", \"actors\", \"genres\", \n",
    "        \"keywords\", \"overview\", \"budget\", \"revenue\", \"popularity\",\"vote_average\", \"vote_count\", \"updated_at\"\n",
    "    ) \\\n",
    "    .toPandas()\n",
    "movies_pandas.head()"
   ]
  },
  {
   "cell_type": "markdown",
   "metadata": {
    "application/vnd.databricks.v1+cell": {
     "cellMetadata": {},
     "inputWidgets": {},
     "nuid": "9cece492-c13e-48d4-93e0-a5a595a25c05",
     "showTitle": false,
     "title": ""
    }
   },
   "source": [
    "#### Format the `Ratings` Table"
   ]
  },
  {
   "cell_type": "code",
   "execution_count": null,
   "metadata": {
    "application/vnd.databricks.v1+cell": {
     "cellMetadata": {
      "byteLimit": 2048000,
      "rowLimit": 10000
     },
     "inputWidgets": {},
     "nuid": "ceecd3d0-262a-455e-a902-527319cc04fc",
     "showTitle": false,
     "title": ""
    }
   },
   "outputs": [
    {
     "data": {
      "text/html": [
       "<div>\n",
       "<style scoped>\n",
       "    .dataframe tbody tr th:only-of-type {\n",
       "        vertical-align: middle;\n",
       "    }\n",
       "\n",
       "    .dataframe tbody tr th {\n",
       "        vertical-align: top;\n",
       "    }\n",
       "\n",
       "    .dataframe thead th {\n",
       "        text-align: right;\n",
       "    }\n",
       "</style>\n",
       "<table border=\"1\" class=\"dataframe\">\n",
       "  <thead>\n",
       "    <tr style=\"text-align: right;\">\n",
       "      <th></th>\n",
       "      <th>user_id</th>\n",
       "      <th>tmdb_id</th>\n",
       "      <th>rating</th>\n",
       "      <th>updated_at</th>\n",
       "    </tr>\n",
       "  </thead>\n",
       "  <tbody>\n",
       "    <tr>\n",
       "      <th>0</th>\n",
       "      <td>304</td>\n",
       "      <td>1572</td>\n",
       "      <td>4.0</td>\n",
       "      <td>2023-10-24 22:21:59.026204</td>\n",
       "    </tr>\n",
       "    <tr>\n",
       "      <th>1</th>\n",
       "      <td>469</td>\n",
       "      <td>2108</td>\n",
       "      <td>5.0</td>\n",
       "      <td>2023-10-24 22:21:59.026204</td>\n",
       "    </tr>\n",
       "    <tr>\n",
       "      <th>2</th>\n",
       "      <td>247</td>\n",
       "      <td>98</td>\n",
       "      <td>4.0</td>\n",
       "      <td>2023-10-24 22:21:59.026204</td>\n",
       "    </tr>\n",
       "    <tr>\n",
       "      <th>3</th>\n",
       "      <td>307</td>\n",
       "      <td>1592</td>\n",
       "      <td>4.0</td>\n",
       "      <td>2023-10-24 22:21:59.026204</td>\n",
       "    </tr>\n",
       "    <tr>\n",
       "      <th>4</th>\n",
       "      <td>477</td>\n",
       "      <td>2048</td>\n",
       "      <td>3.5</td>\n",
       "      <td>2023-10-24 22:21:59.026204</td>\n",
       "    </tr>\n",
       "  </tbody>\n",
       "</table>\n",
       "</div>"
      ]
     },
     "metadata": {
      "application/vnd.databricks.v1+output": {
       "addedWidgets": {},
       "arguments": {},
       "data": "<div>\n<style scoped>\n    .dataframe tbody tr th:only-of-type {\n        vertical-align: middle;\n    }\n\n    .dataframe tbody tr th {\n        vertical-align: top;\n    }\n\n    .dataframe thead th {\n        text-align: right;\n    }\n</style>\n<table border=\"1\" class=\"dataframe\">\n  <thead>\n    <tr style=\"text-align: right;\">\n      <th></th>\n      <th>user_id</th>\n      <th>tmdb_id</th>\n      <th>rating</th>\n      <th>updated_at</th>\n    </tr>\n  </thead>\n  <tbody>\n    <tr>\n      <th>0</th>\n      <td>304</td>\n      <td>1572</td>\n      <td>4.0</td>\n      <td>2023-10-24 22:21:59.026204</td>\n    </tr>\n    <tr>\n      <th>1</th>\n      <td>469</td>\n      <td>2108</td>\n      <td>5.0</td>\n      <td>2023-10-24 22:21:59.026204</td>\n    </tr>\n    <tr>\n      <th>2</th>\n      <td>247</td>\n      <td>98</td>\n      <td>4.0</td>\n      <td>2023-10-24 22:21:59.026204</td>\n    </tr>\n    <tr>\n      <th>3</th>\n      <td>307</td>\n      <td>1592</td>\n      <td>4.0</td>\n      <td>2023-10-24 22:21:59.026204</td>\n    </tr>\n    <tr>\n      <th>4</th>\n      <td>477</td>\n      <td>2048</td>\n      <td>3.5</td>\n      <td>2023-10-24 22:21:59.026204</td>\n    </tr>\n  </tbody>\n</table>\n</div>",
       "datasetInfos": [],
       "metadata": {},
       "removedWidgets": [],
       "textData": null,
       "type": "htmlSandbox"
      }
     },
     "output_type": "display_data"
    }
   ],
   "source": [
    "ratings_pandas = ratings.drop('timestamp').withColumn(\"updated_at\", f.lit(updated_at)).toPandas()\n",
    "ratings_pandas.head()"
   ]
  },
  {
   "cell_type": "markdown",
   "metadata": {
    "application/vnd.databricks.v1+cell": {
     "cellMetadata": {},
     "inputWidgets": {},
     "nuid": "7815d492-68c0-4b58-82cf-ad46cb01eb3d",
     "showTitle": false,
     "title": ""
    }
   },
   "source": [
    "#### Save the Formatted Data as JSONLines"
   ]
  },
  {
   "cell_type": "code",
   "execution_count": null,
   "metadata": {
    "application/vnd.databricks.v1+cell": {
     "cellMetadata": {
      "byteLimit": 2048000,
      "rowLimit": 10000
     },
     "inputWidgets": {},
     "nuid": "ca9faac7-6868-4928-aa17-093b5d3ad945",
     "showTitle": false,
     "title": ""
    }
   },
   "outputs": [],
   "source": [
    "users_pandas.to_json(os.path.join(JSON_PATH, \"users.json\"), orient=\"records\", lines=True, date_format=\"iso\")"
   ]
  },
  {
   "cell_type": "code",
   "execution_count": null,
   "metadata": {
    "application/vnd.databricks.v1+cell": {
     "cellMetadata": {
      "byteLimit": 2048000,
      "rowLimit": 10000
     },
     "inputWidgets": {},
     "nuid": "0d1495cd-9022-4774-ad67-584318c57546",
     "showTitle": false,
     "title": ""
    }
   },
   "outputs": [],
   "source": [
    "movies_pandas.to_json(os.path.join(JSON_PATH, \"movies.json\"), orient=\"records\", lines=True, date_format=\"iso\")"
   ]
  },
  {
   "cell_type": "code",
   "execution_count": null,
   "metadata": {
    "application/vnd.databricks.v1+cell": {
     "cellMetadata": {
      "byteLimit": 2048000,
      "rowLimit": 10000
     },
     "inputWidgets": {},
     "nuid": "aa8dd03f-d4c7-4b67-b9fe-8f4fdcaa0327",
     "showTitle": false,
     "title": ""
    }
   },
   "outputs": [],
   "source": [
    "ratings_pandas.to_json(os.path.join(JSON_PATH, \"ratings.json\"), orient=\"records\", lines=True, date_format=\"iso\")"
   ]
  },
  {
   "cell_type": "markdown",
   "metadata": {
    "application/vnd.databricks.v1+cell": {
     "cellMetadata": {},
     "inputWidgets": {},
     "nuid": "8432c94c-2aab-4da3-b253-289a6f66465d",
     "showTitle": false,
     "title": ""
    }
   },
   "source": [
    "#### Read the Formatted Data as JSONLines"
   ]
  },
  {
   "cell_type": "code",
   "execution_count": null,
   "metadata": {
    "application/vnd.databricks.v1+cell": {
     "cellMetadata": {
      "byteLimit": 2048000,
      "rowLimit": 10000
     },
     "inputWidgets": {},
     "nuid": "a32f0aef-0d52-43c7-b871-749c1b225330",
     "showTitle": false,
     "title": ""
    }
   },
   "outputs": [
    {
     "data": {
      "text/html": [
       "<div>\n",
       "<style scoped>\n",
       "    .dataframe tbody tr th:only-of-type {\n",
       "        vertical-align: middle;\n",
       "    }\n",
       "\n",
       "    .dataframe tbody tr th {\n",
       "        vertical-align: top;\n",
       "    }\n",
       "\n",
       "    .dataframe thead th {\n",
       "        text-align: right;\n",
       "    }\n",
       "</style>\n",
       "<table border=\"1\" class=\"dataframe\">\n",
       "  <thead>\n",
       "    <tr style=\"text-align: right;\">\n",
       "      <th></th>\n",
       "      <th>user_id</th>\n",
       "      <th>email</th>\n",
       "      <th>hashed_password</th>\n",
       "      <th>fname</th>\n",
       "      <th>lname</th>\n",
       "      <th>updated_at</th>\n",
       "    </tr>\n",
       "  </thead>\n",
       "  <tbody>\n",
       "    <tr>\n",
       "      <th>0</th>\n",
       "      <td>467</td>\n",
       "      <td>ANONYMOUS@ANONYMOUS.COM</td>\n",
       "      <td>37dac418e085726bf77f285c48558dcf9b3486ed184386...</td>\n",
       "      <td>ANONYMOUS</td>\n",
       "      <td>ANONYMOUS</td>\n",
       "      <td>2023-10-24 22:21:59.026000+00:00</td>\n",
       "    </tr>\n",
       "    <tr>\n",
       "      <th>1</th>\n",
       "      <td>296</td>\n",
       "      <td>ANONYMOUS@ANONYMOUS.COM</td>\n",
       "      <td>37dac418e085726bf77f285c48558dcf9b3486ed184386...</td>\n",
       "      <td>ANONYMOUS</td>\n",
       "      <td>ANONYMOUS</td>\n",
       "      <td>2023-10-24 22:21:59.026000+00:00</td>\n",
       "    </tr>\n",
       "    <tr>\n",
       "      <th>2</th>\n",
       "      <td>125</td>\n",
       "      <td>ANONYMOUS@ANONYMOUS.COM</td>\n",
       "      <td>37dac418e085726bf77f285c48558dcf9b3486ed184386...</td>\n",
       "      <td>ANONYMOUS</td>\n",
       "      <td>ANONYMOUS</td>\n",
       "      <td>2023-10-24 22:21:59.026000+00:00</td>\n",
       "    </tr>\n",
       "    <tr>\n",
       "      <th>3</th>\n",
       "      <td>451</td>\n",
       "      <td>ANONYMOUS@ANONYMOUS.COM</td>\n",
       "      <td>37dac418e085726bf77f285c48558dcf9b3486ed184386...</td>\n",
       "      <td>ANONYMOUS</td>\n",
       "      <td>ANONYMOUS</td>\n",
       "      <td>2023-10-24 22:21:59.026000+00:00</td>\n",
       "    </tr>\n",
       "    <tr>\n",
       "      <th>4</th>\n",
       "      <td>51</td>\n",
       "      <td>ANONYMOUS@ANONYMOUS.COM</td>\n",
       "      <td>37dac418e085726bf77f285c48558dcf9b3486ed184386...</td>\n",
       "      <td>ANONYMOUS</td>\n",
       "      <td>ANONYMOUS</td>\n",
       "      <td>2023-10-24 22:21:59.026000+00:00</td>\n",
       "    </tr>\n",
       "  </tbody>\n",
       "</table>\n",
       "</div>"
      ]
     },
     "metadata": {
      "application/vnd.databricks.v1+output": {
       "addedWidgets": {},
       "arguments": {},
       "data": "<div>\n<style scoped>\n    .dataframe tbody tr th:only-of-type {\n        vertical-align: middle;\n    }\n\n    .dataframe tbody tr th {\n        vertical-align: top;\n    }\n\n    .dataframe thead th {\n        text-align: right;\n    }\n</style>\n<table border=\"1\" class=\"dataframe\">\n  <thead>\n    <tr style=\"text-align: right;\">\n      <th></th>\n      <th>user_id</th>\n      <th>email</th>\n      <th>hashed_password</th>\n      <th>fname</th>\n      <th>lname</th>\n      <th>updated_at</th>\n    </tr>\n  </thead>\n  <tbody>\n    <tr>\n      <th>0</th>\n      <td>467</td>\n      <td>ANONYMOUS@ANONYMOUS.COM</td>\n      <td>37dac418e085726bf77f285c48558dcf9b3486ed184386...</td>\n      <td>ANONYMOUS</td>\n      <td>ANONYMOUS</td>\n      <td>2023-10-24 22:21:59.026000+00:00</td>\n    </tr>\n    <tr>\n      <th>1</th>\n      <td>296</td>\n      <td>ANONYMOUS@ANONYMOUS.COM</td>\n      <td>37dac418e085726bf77f285c48558dcf9b3486ed184386...</td>\n      <td>ANONYMOUS</td>\n      <td>ANONYMOUS</td>\n      <td>2023-10-24 22:21:59.026000+00:00</td>\n    </tr>\n    <tr>\n      <th>2</th>\n      <td>125</td>\n      <td>ANONYMOUS@ANONYMOUS.COM</td>\n      <td>37dac418e085726bf77f285c48558dcf9b3486ed184386...</td>\n      <td>ANONYMOUS</td>\n      <td>ANONYMOUS</td>\n      <td>2023-10-24 22:21:59.026000+00:00</td>\n    </tr>\n    <tr>\n      <th>3</th>\n      <td>451</td>\n      <td>ANONYMOUS@ANONYMOUS.COM</td>\n      <td>37dac418e085726bf77f285c48558dcf9b3486ed184386...</td>\n      <td>ANONYMOUS</td>\n      <td>ANONYMOUS</td>\n      <td>2023-10-24 22:21:59.026000+00:00</td>\n    </tr>\n    <tr>\n      <th>4</th>\n      <td>51</td>\n      <td>ANONYMOUS@ANONYMOUS.COM</td>\n      <td>37dac418e085726bf77f285c48558dcf9b3486ed184386...</td>\n      <td>ANONYMOUS</td>\n      <td>ANONYMOUS</td>\n      <td>2023-10-24 22:21:59.026000+00:00</td>\n    </tr>\n  </tbody>\n</table>\n</div>",
       "datasetInfos": [],
       "metadata": {},
       "removedWidgets": [],
       "textData": null,
       "type": "htmlSandbox"
      }
     },
     "output_type": "display_data"
    }
   ],
   "source": [
    "users = pd.read_json(os.path.join(JSON_PATH, \"users.json\"), orient=\"records\", lines=True)\n",
    "users.head()"
   ]
  },
  {
   "cell_type": "code",
   "execution_count": null,
   "metadata": {
    "application/vnd.databricks.v1+cell": {
     "cellMetadata": {
      "byteLimit": 2048000,
      "rowLimit": 10000
     },
     "inputWidgets": {},
     "nuid": "abea6c99-13b5-441a-8ef7-00d138d7fea0",
     "showTitle": false,
     "title": ""
    }
   },
   "outputs": [
    {
     "data": {
      "text/html": [
       "<div>\n",
       "<style scoped>\n",
       "    .dataframe tbody tr th:only-of-type {\n",
       "        vertical-align: middle;\n",
       "    }\n",
       "\n",
       "    .dataframe tbody tr th {\n",
       "        vertical-align: top;\n",
       "    }\n",
       "\n",
       "    .dataframe thead th {\n",
       "        text-align: right;\n",
       "    }\n",
       "</style>\n",
       "<table border=\"1\" class=\"dataframe\">\n",
       "  <thead>\n",
       "    <tr style=\"text-align: right;\">\n",
       "      <th></th>\n",
       "      <th>tmdb_id</th>\n",
       "      <th>tmdb_homepage</th>\n",
       "      <th>title</th>\n",
       "      <th>language</th>\n",
       "      <th>release_date</th>\n",
       "      <th>runtime</th>\n",
       "      <th>director</th>\n",
       "      <th>actors</th>\n",
       "      <th>genres</th>\n",
       "      <th>keywords</th>\n",
       "      <th>overview</th>\n",
       "      <th>budget</th>\n",
       "      <th>revenue</th>\n",
       "      <th>popularity</th>\n",
       "      <th>vote_average</th>\n",
       "      <th>vote_count</th>\n",
       "      <th>updated_at</th>\n",
       "    </tr>\n",
       "  </thead>\n",
       "  <tbody>\n",
       "    <tr>\n",
       "      <th>0</th>\n",
       "      <td>5</td>\n",
       "      <td>https://www.themoviedb.org/movie/5</td>\n",
       "      <td>Four Rooms</td>\n",
       "      <td>en</td>\n",
       "      <td>1995-12-09</td>\n",
       "      <td>98</td>\n",
       "      <td>Allison Anders</td>\n",
       "      <td>[Tim Roth, Jennifer Beals, Antonio Banderas, V...</td>\n",
       "      <td>[Comedy]</td>\n",
       "      <td>[hotel, new year's eve, witch, bet, hotel room...</td>\n",
       "      <td>It's Ted the Bellhop's first night on the job....</td>\n",
       "      <td>4000000</td>\n",
       "      <td>4257354</td>\n",
       "      <td>21.138</td>\n",
       "      <td>5.789</td>\n",
       "      <td>2443</td>\n",
       "      <td>2023-10-24 22:21:59.026000+00:00</td>\n",
       "    </tr>\n",
       "    <tr>\n",
       "      <th>1</th>\n",
       "      <td>11</td>\n",
       "      <td>https://www.themoviedb.org/movie/11</td>\n",
       "      <td>Star Wars</td>\n",
       "      <td>en</td>\n",
       "      <td>1977-05-25</td>\n",
       "      <td>121</td>\n",
       "      <td>George Lucas</td>\n",
       "      <td>[Mark Hamill, Harrison Ford, Carrie Fisher, Pe...</td>\n",
       "      <td>[Adventure, Action, Science Fiction]</td>\n",
       "      <td>[android, galaxy, hermit, smuggling (contraban...</td>\n",
       "      <td>Princess Leia is captured and held hostage by ...</td>\n",
       "      <td>11000000</td>\n",
       "      <td>775398007</td>\n",
       "      <td>88.613</td>\n",
       "      <td>8.204</td>\n",
       "      <td>19236</td>\n",
       "      <td>2023-10-24 22:21:59.026000+00:00</td>\n",
       "    </tr>\n",
       "    <tr>\n",
       "      <th>2</th>\n",
       "      <td>12</td>\n",
       "      <td>https://www.themoviedb.org/movie/12</td>\n",
       "      <td>Finding Nemo</td>\n",
       "      <td>en</td>\n",
       "      <td>2003-05-30</td>\n",
       "      <td>100</td>\n",
       "      <td>Andrew Stanton</td>\n",
       "      <td>[Albert Brooks, Ellen DeGeneres, Alexander Gou...</td>\n",
       "      <td>[Animation, Family]</td>\n",
       "      <td>[parent child relationship, sydney, australia,...</td>\n",
       "      <td>Nemo, an adventurous young clownfish, is unexp...</td>\n",
       "      <td>94000000</td>\n",
       "      <td>940335536</td>\n",
       "      <td>92.459</td>\n",
       "      <td>7.824</td>\n",
       "      <td>18132</td>\n",
       "      <td>2023-10-24 22:21:59.026000+00:00</td>\n",
       "    </tr>\n",
       "    <tr>\n",
       "      <th>3</th>\n",
       "      <td>13</td>\n",
       "      <td>https://www.themoviedb.org/movie/13</td>\n",
       "      <td>Forrest Gump</td>\n",
       "      <td>en</td>\n",
       "      <td>1994-06-23</td>\n",
       "      <td>142</td>\n",
       "      <td>Robert Zemeckis</td>\n",
       "      <td>[Tom Hanks, Robin Wright, Gary Sinise, Sally F...</td>\n",
       "      <td>[Comedy, Drama, Romance]</td>\n",
       "      <td>[vietnam veteran, post-traumatic stress disord...</td>\n",
       "      <td>A man with a low IQ has accomplished great thi...</td>\n",
       "      <td>55000000</td>\n",
       "      <td>677387716</td>\n",
       "      <td>84.723</td>\n",
       "      <td>8.477</td>\n",
       "      <td>25544</td>\n",
       "      <td>2023-10-24 22:21:59.026000+00:00</td>\n",
       "    </tr>\n",
       "    <tr>\n",
       "      <th>4</th>\n",
       "      <td>14</td>\n",
       "      <td>https://www.themoviedb.org/movie/14</td>\n",
       "      <td>American Beauty</td>\n",
       "      <td>en</td>\n",
       "      <td>1999-09-15</td>\n",
       "      <td>122</td>\n",
       "      <td>Sam Mendes</td>\n",
       "      <td>[Kevin Spacey, Annette Bening, Thora Birch, We...</td>\n",
       "      <td>[Drama]</td>\n",
       "      <td>[adultery, age difference, parent child relati...</td>\n",
       "      <td>Lester Burnham, a depressed suburban father in...</td>\n",
       "      <td>15000000</td>\n",
       "      <td>356296601</td>\n",
       "      <td>35.477</td>\n",
       "      <td>8.021</td>\n",
       "      <td>11317</td>\n",
       "      <td>2023-10-24 22:21:59.026000+00:00</td>\n",
       "    </tr>\n",
       "  </tbody>\n",
       "</table>\n",
       "</div>"
      ]
     },
     "metadata": {
      "application/vnd.databricks.v1+output": {
       "addedWidgets": {},
       "arguments": {},
       "data": "<div>\n<style scoped>\n    .dataframe tbody tr th:only-of-type {\n        vertical-align: middle;\n    }\n\n    .dataframe tbody tr th {\n        vertical-align: top;\n    }\n\n    .dataframe thead th {\n        text-align: right;\n    }\n</style>\n<table border=\"1\" class=\"dataframe\">\n  <thead>\n    <tr style=\"text-align: right;\">\n      <th></th>\n      <th>tmdb_id</th>\n      <th>tmdb_homepage</th>\n      <th>title</th>\n      <th>language</th>\n      <th>release_date</th>\n      <th>runtime</th>\n      <th>director</th>\n      <th>actors</th>\n      <th>genres</th>\n      <th>keywords</th>\n      <th>overview</th>\n      <th>budget</th>\n      <th>revenue</th>\n      <th>popularity</th>\n      <th>vote_average</th>\n      <th>vote_count</th>\n      <th>updated_at</th>\n    </tr>\n  </thead>\n  <tbody>\n    <tr>\n      <th>0</th>\n      <td>5</td>\n      <td>https://www.themoviedb.org/movie/5</td>\n      <td>Four Rooms</td>\n      <td>en</td>\n      <td>1995-12-09</td>\n      <td>98</td>\n      <td>Allison Anders</td>\n      <td>[Tim Roth, Jennifer Beals, Antonio Banderas, V...</td>\n      <td>[Comedy]</td>\n      <td>[hotel, new year's eve, witch, bet, hotel room...</td>\n      <td>It's Ted the Bellhop's first night on the job....</td>\n      <td>4000000</td>\n      <td>4257354</td>\n      <td>21.138</td>\n      <td>5.789</td>\n      <td>2443</td>\n      <td>2023-10-24 22:21:59.026000+00:00</td>\n    </tr>\n    <tr>\n      <th>1</th>\n      <td>11</td>\n      <td>https://www.themoviedb.org/movie/11</td>\n      <td>Star Wars</td>\n      <td>en</td>\n      <td>1977-05-25</td>\n      <td>121</td>\n      <td>George Lucas</td>\n      <td>[Mark Hamill, Harrison Ford, Carrie Fisher, Pe...</td>\n      <td>[Adventure, Action, Science Fiction]</td>\n      <td>[android, galaxy, hermit, smuggling (contraban...</td>\n      <td>Princess Leia is captured and held hostage by ...</td>\n      <td>11000000</td>\n      <td>775398007</td>\n      <td>88.613</td>\n      <td>8.204</td>\n      <td>19236</td>\n      <td>2023-10-24 22:21:59.026000+00:00</td>\n    </tr>\n    <tr>\n      <th>2</th>\n      <td>12</td>\n      <td>https://www.themoviedb.org/movie/12</td>\n      <td>Finding Nemo</td>\n      <td>en</td>\n      <td>2003-05-30</td>\n      <td>100</td>\n      <td>Andrew Stanton</td>\n      <td>[Albert Brooks, Ellen DeGeneres, Alexander Gou...</td>\n      <td>[Animation, Family]</td>\n      <td>[parent child relationship, sydney, australia,...</td>\n      <td>Nemo, an adventurous young clownfish, is unexp...</td>\n      <td>94000000</td>\n      <td>940335536</td>\n      <td>92.459</td>\n      <td>7.824</td>\n      <td>18132</td>\n      <td>2023-10-24 22:21:59.026000+00:00</td>\n    </tr>\n    <tr>\n      <th>3</th>\n      <td>13</td>\n      <td>https://www.themoviedb.org/movie/13</td>\n      <td>Forrest Gump</td>\n      <td>en</td>\n      <td>1994-06-23</td>\n      <td>142</td>\n      <td>Robert Zemeckis</td>\n      <td>[Tom Hanks, Robin Wright, Gary Sinise, Sally F...</td>\n      <td>[Comedy, Drama, Romance]</td>\n      <td>[vietnam veteran, post-traumatic stress disord...</td>\n      <td>A man with a low IQ has accomplished great thi...</td>\n      <td>55000000</td>\n      <td>677387716</td>\n      <td>84.723</td>\n      <td>8.477</td>\n      <td>25544</td>\n      <td>2023-10-24 22:21:59.026000+00:00</td>\n    </tr>\n    <tr>\n      <th>4</th>\n      <td>14</td>\n      <td>https://www.themoviedb.org/movie/14</td>\n      <td>American Beauty</td>\n      <td>en</td>\n      <td>1999-09-15</td>\n      <td>122</td>\n      <td>Sam Mendes</td>\n      <td>[Kevin Spacey, Annette Bening, Thora Birch, We...</td>\n      <td>[Drama]</td>\n      <td>[adultery, age difference, parent child relati...</td>\n      <td>Lester Burnham, a depressed suburban father in...</td>\n      <td>15000000</td>\n      <td>356296601</td>\n      <td>35.477</td>\n      <td>8.021</td>\n      <td>11317</td>\n      <td>2023-10-24 22:21:59.026000+00:00</td>\n    </tr>\n  </tbody>\n</table>\n</div>",
       "datasetInfos": [],
       "metadata": {},
       "removedWidgets": [],
       "textData": null,
       "type": "htmlSandbox"
      }
     },
     "output_type": "display_data"
    }
   ],
   "source": [
    "movies = pd.read_json(os.path.join(JSON_PATH, \"movies.json\"), orient=\"records\", lines=True)\n",
    "movies.head()"
   ]
  },
  {
   "cell_type": "code",
   "execution_count": null,
   "metadata": {
    "application/vnd.databricks.v1+cell": {
     "cellMetadata": {
      "byteLimit": 2048000,
      "rowLimit": 10000
     },
     "inputWidgets": {},
     "nuid": "3167bffe-7bf4-4fb0-8915-efd8478436b8",
     "showTitle": false,
     "title": ""
    }
   },
   "outputs": [
    {
     "data": {
      "text/html": [
       "<div>\n",
       "<style scoped>\n",
       "    .dataframe tbody tr th:only-of-type {\n",
       "        vertical-align: middle;\n",
       "    }\n",
       "\n",
       "    .dataframe tbody tr th {\n",
       "        vertical-align: top;\n",
       "    }\n",
       "\n",
       "    .dataframe thead th {\n",
       "        text-align: right;\n",
       "    }\n",
       "</style>\n",
       "<table border=\"1\" class=\"dataframe\">\n",
       "  <thead>\n",
       "    <tr style=\"text-align: right;\">\n",
       "      <th></th>\n",
       "      <th>user_id</th>\n",
       "      <th>tmdb_id</th>\n",
       "      <th>rating</th>\n",
       "      <th>updated_at</th>\n",
       "    </tr>\n",
       "  </thead>\n",
       "  <tbody>\n",
       "    <tr>\n",
       "      <th>0</th>\n",
       "      <td>304</td>\n",
       "      <td>1572</td>\n",
       "      <td>4.0</td>\n",
       "      <td>2023-10-24 22:21:59.026000+00:00</td>\n",
       "    </tr>\n",
       "    <tr>\n",
       "      <th>1</th>\n",
       "      <td>469</td>\n",
       "      <td>2108</td>\n",
       "      <td>5.0</td>\n",
       "      <td>2023-10-24 22:21:59.026000+00:00</td>\n",
       "    </tr>\n",
       "    <tr>\n",
       "      <th>2</th>\n",
       "      <td>247</td>\n",
       "      <td>98</td>\n",
       "      <td>4.0</td>\n",
       "      <td>2023-10-24 22:21:59.026000+00:00</td>\n",
       "    </tr>\n",
       "    <tr>\n",
       "      <th>3</th>\n",
       "      <td>307</td>\n",
       "      <td>1592</td>\n",
       "      <td>4.0</td>\n",
       "      <td>2023-10-24 22:21:59.026000+00:00</td>\n",
       "    </tr>\n",
       "    <tr>\n",
       "      <th>4</th>\n",
       "      <td>477</td>\n",
       "      <td>2048</td>\n",
       "      <td>3.5</td>\n",
       "      <td>2023-10-24 22:21:59.026000+00:00</td>\n",
       "    </tr>\n",
       "  </tbody>\n",
       "</table>\n",
       "</div>"
      ]
     },
     "metadata": {
      "application/vnd.databricks.v1+output": {
       "addedWidgets": {},
       "arguments": {},
       "data": "<div>\n<style scoped>\n    .dataframe tbody tr th:only-of-type {\n        vertical-align: middle;\n    }\n\n    .dataframe tbody tr th {\n        vertical-align: top;\n    }\n\n    .dataframe thead th {\n        text-align: right;\n    }\n</style>\n<table border=\"1\" class=\"dataframe\">\n  <thead>\n    <tr style=\"text-align: right;\">\n      <th></th>\n      <th>user_id</th>\n      <th>tmdb_id</th>\n      <th>rating</th>\n      <th>updated_at</th>\n    </tr>\n  </thead>\n  <tbody>\n    <tr>\n      <th>0</th>\n      <td>304</td>\n      <td>1572</td>\n      <td>4.0</td>\n      <td>2023-10-24 22:21:59.026000+00:00</td>\n    </tr>\n    <tr>\n      <th>1</th>\n      <td>469</td>\n      <td>2108</td>\n      <td>5.0</td>\n      <td>2023-10-24 22:21:59.026000+00:00</td>\n    </tr>\n    <tr>\n      <th>2</th>\n      <td>247</td>\n      <td>98</td>\n      <td>4.0</td>\n      <td>2023-10-24 22:21:59.026000+00:00</td>\n    </tr>\n    <tr>\n      <th>3</th>\n      <td>307</td>\n      <td>1592</td>\n      <td>4.0</td>\n      <td>2023-10-24 22:21:59.026000+00:00</td>\n    </tr>\n    <tr>\n      <th>4</th>\n      <td>477</td>\n      <td>2048</td>\n      <td>3.5</td>\n      <td>2023-10-24 22:21:59.026000+00:00</td>\n    </tr>\n  </tbody>\n</table>\n</div>",
       "datasetInfos": [],
       "metadata": {},
       "removedWidgets": [],
       "textData": null,
       "type": "htmlSandbox"
      }
     },
     "output_type": "display_data"
    }
   ],
   "source": [
    "ratings = pd.read_json(os.path.join(JSON_PATH, \"ratings.json\"), orient=\"records\", lines=True)\n",
    "ratings.head()"
   ]
  },
  {
   "cell_type": "markdown",
   "metadata": {
    "application/vnd.databricks.v1+cell": {
     "cellMetadata": {},
     "inputWidgets": {},
     "nuid": "85a5ec6a-4238-435f-9f97-52ee0f4c3a21",
     "showTitle": false,
     "title": ""
    }
   },
   "source": [
    "#### Create a DB Engine for SQLAlchemy Insertion"
   ]
  },
  {
   "cell_type": "code",
   "execution_count": null,
   "metadata": {
    "application/vnd.databricks.v1+cell": {
     "cellMetadata": {},
     "inputWidgets": {},
     "nuid": "ff330673-63a9-495a-8897-5c4e8f7857ae",
     "showTitle": false,
     "title": ""
    }
   },
   "outputs": [],
   "source": [
    "# FIXME"
   ]
  },
  {
   "cell_type": "markdown",
   "metadata": {
    "application/vnd.databricks.v1+cell": {
     "cellMetadata": {},
     "inputWidgets": {},
     "nuid": "4318ee91-2b93-4ebc-bde3-03253d3a05d1",
     "showTitle": false,
     "title": ""
    }
   },
   "source": [
    "#### Insert Into the Database"
   ]
  },
  {
   "cell_type": "code",
   "execution_count": null,
   "metadata": {
    "application/vnd.databricks.v1+cell": {
     "cellMetadata": {},
     "inputWidgets": {},
     "nuid": "2dc6fd1d-d92e-4566-bfdb-9ef226f1bdec",
     "showTitle": false,
     "title": ""
    }
   },
   "outputs": [],
   "source": [
    "# users.to_sql(name=\"users\", con=engine, index=False, if_exists=\"append\", chunksize=1000, method=\"multi\")"
   ]
  },
  {
   "cell_type": "code",
   "execution_count": null,
   "metadata": {
    "application/vnd.databricks.v1+cell": {
     "cellMetadata": {},
     "inputWidgets": {},
     "nuid": "58dd9a38-4596-44fc-89c2-3abe6f3cddae",
     "showTitle": false,
     "title": ""
    }
   },
   "outputs": [],
   "source": [
    "# movies.to_sql(name=\"movies\", con=engine, index=False, if_exists=\"append\", chunksize=1000, method=\"multi\")"
   ]
  },
  {
   "cell_type": "code",
   "execution_count": null,
   "metadata": {
    "application/vnd.databricks.v1+cell": {
     "cellMetadata": {},
     "inputWidgets": {},
     "nuid": "13fc6709-f9d3-4973-8934-0d4634ff4148",
     "showTitle": false,
     "title": ""
    }
   },
   "outputs": [],
   "source": [
    "# ratings.to_sql(name=\"ratings\", con=engine, index=False, if_exists=\"append\", chunksize=1000, method=\"multi\")"
   ]
  },
  {
   "cell_type": "code",
   "execution_count": 5,
   "metadata": {
    "application/vnd.databricks.v1+cell": {
     "cellMetadata": {},
     "inputWidgets": {},
     "nuid": "12898425-95de-4d07-96ea-0a1f3a3f74bd",
     "showTitle": false,
     "title": ""
    }
   },
   "outputs": [
    {
     "ename": "ModuleNotFoundError",
     "evalue": "No module named 'app'",
     "output_type": "error",
     "traceback": [
      "\u001b[0;31m---------------------------------------------------------------------------\u001b[0m",
      "\u001b[0;31mModuleNotFoundError\u001b[0m                       Traceback (most recent call last)",
      "Cell \u001b[0;32mIn[5], line 2\u001b[0m\n\u001b[1;32m      1\u001b[0m \u001b[38;5;28;01mfrom\u001b[39;00m \u001b[38;5;21;01msqlalchemy\u001b[39;00m \u001b[38;5;28;01mimport\u001b[39;00m insert, select, update, delete\n\u001b[0;32m----> 2\u001b[0m \u001b[38;5;28;01mfrom\u001b[39;00m \u001b[38;5;21;01mapp\u001b[39;00m \u001b[38;5;28;01mimport\u001b[39;00m database\n",
      "\u001b[0;31mModuleNotFoundError\u001b[0m: No module named 'app'"
     ]
    }
   ],
   "source": [
    "from sqlalchemy import insert, select, update, delete\n",
    "from app import database"
   ]
  },
  {
   "cell_type": "code",
   "execution_count": null,
   "metadata": {
    "application/vnd.databricks.v1+cell": {
     "cellMetadata": {},
     "inputWidgets": {},
     "nuid": "22a1b970-6b79-415b-adb1-22e610d7af93",
     "showTitle": false,
     "title": ""
    }
   },
   "outputs": [],
   "source": [
    "with engine.begin() as cnx:\n",
    "    for m, movie in enumerate(movies.to_dict(orient=\"records\")):\n",
    "        try:\n",
    "            cnx.execute(insert(database.movies).values(**movie))\n",
    "        except DatabaseError:\n",
    "            print(f\"error with tmdb_id={movie['tmdb_id']}\")\n",
    "        if m % 10 == 0:\n",
    "            print(f\"iteration={m} tmdb_id={movie['tmdb_id']}\")"
   ]
  },
  {
   "cell_type": "markdown",
   "metadata": {},
   "source": [
    "### Start Sandbox Code"
   ]
  },
  {
   "cell_type": "code",
   "execution_count": 10,
   "metadata": {},
   "outputs": [],
   "source": [
    "import os\n",
    "\n",
    "from argparse import ArgumentParser\n",
    "from sqlalchemy import MetaData, Table, Column, PrimaryKeyConstraint, Engine, create_engine, text\n",
    "from sqlalchemy.types import ARRAY, BIGINT, Date, DateTime, Double, Integer, Text\n",
    "from google.cloud.sql.connector import Connector\n",
    "from dotenv import load_dotenv\n",
    "from pg8000 import Connection\n",
    "\n",
    "\n",
    "load_dotenv()\n",
    "\n",
    "\n",
    "def make_connection() -> Connection:\n",
    "    \"\"\"generate a new pg8000 connection for a CloudSQL instance\"\"\"\n",
    "\n",
    "    project = \"robot-ebert\"\n",
    "    region = \"us-west1\"\n",
    "    instance = \"robot-ebert\"\n",
    "    instance_connection_string = f\"{project}:{region}:{instance}\"\n",
    "\n",
    "    connector = Connector()\n",
    "    cnx = connector.connect(\n",
    "        instance_connection_string=instance_connection_string,\n",
    "        driver=\"pg8000\",\n",
    "        user=\"postgres\",\n",
    "        password=os.environ[\"POSTGRES_PASSWORD\"],\n",
    "        db=\"app\"\n",
    "    )\n",
    "    return cnx\n",
    "\n",
    "\n",
    "def get_prod_engine(echo: bool = False) -> Engine:\n",
    "    \"\"\"get a new SQLAlchemy Engine to manage DB connections to the application CloudSQL database\"\"\"\n",
    "\n",
    "    engine = create_engine(\"postgresql+pg8000://\", creator=make_connection, echo=echo)\n",
    "    return engine"
   ]
  },
  {
   "cell_type": "code",
   "execution_count": 9,
   "metadata": {},
   "outputs": [],
   "source": [
    "engine = get_prod_engine(echo=True)"
   ]
  },
  {
   "cell_type": "code",
   "execution_count": 15,
   "metadata": {
    "application/vnd.databricks.v1+cell": {
     "cellMetadata": {},
     "inputWidgets": {},
     "nuid": "3b1e7b52-09b8-4175-9a4c-e80d490d4d44",
     "showTitle": false,
     "title": ""
    }
   },
   "outputs": [
    {
     "name": "stdout",
     "output_type": "stream",
     "text": [
      "2023-12-24 17:05:01,051 INFO sqlalchemy.engine.Engine BEGIN (implicit)\n",
      "2023-12-24 17:05:01,057 INFO sqlalchemy.engine.Engine SELECT * FROM movies LIMIT 10\n",
      "2023-12-24 17:05:01,059 INFO sqlalchemy.engine.Engine [cached since 147.8s ago] ()\n",
      "2023-12-24 17:05:01,269 INFO sqlalchemy.engine.Engine COMMIT\n"
     ]
    }
   ],
   "source": [
    "with engine.begin() as cnx:\n",
    "    statement = text(\"SELECT * FROM movies LIMIT 10\")\n",
    "    movies = [row._asdict() for row in cnx.execute(statement).all()]"
   ]
  },
  {
   "cell_type": "code",
   "execution_count": 16,
   "metadata": {},
   "outputs": [
    {
     "data": {
      "text/plain": [
       "[{'tmdb_id': '5',\n",
       "  'tmdb_homepage': 'https://www.themoviedb.org/movie/5',\n",
       "  'title': 'Four Rooms',\n",
       "  'language': 'en',\n",
       "  'release_date': datetime.date(1995, 12, 9),\n",
       "  'runtime': 98,\n",
       "  'director': 'Allison Anders',\n",
       "  'actors': ['Tim Roth',\n",
       "   'Jennifer Beals',\n",
       "   'Antonio Banderas',\n",
       "   'Valeria Golino',\n",
       "   'David Proval'],\n",
       "  'genres': ['Comedy'],\n",
       "  'keywords': ['hotel',\n",
       "   \"new year's eve\",\n",
       "   'witch',\n",
       "   'bet',\n",
       "   'hotel room',\n",
       "   'sperm',\n",
       "   'anthology',\n",
       "   'los angeles, california',\n",
       "   'hoodlum',\n",
       "   'multiple storylines',\n",
       "   'woman director'],\n",
       "  'overview': \"It's Ted the Bellhop's first night on the job...and the hotel's very unusual guests are about to place him in some outrageous predicaments. It seems that this evening's room service is serving up one unbelievable happening after another.\",\n",
       "  'budget': 4000000,\n",
       "  'revenue': 4257354,\n",
       "  'popularity': 21.138,\n",
       "  'vote_average': 5.789,\n",
       "  'vote_count': 2443,\n",
       "  'updated_at': datetime.datetime(2023, 10, 24, 21, 38, 29, 594000)},\n",
       " {'tmdb_id': '11',\n",
       "  'tmdb_homepage': 'https://www.themoviedb.org/movie/11',\n",
       "  'title': 'Star Wars',\n",
       "  'language': 'en',\n",
       "  'release_date': datetime.date(1977, 5, 25),\n",
       "  'runtime': 121,\n",
       "  'director': 'George Lucas',\n",
       "  'actors': ['Mark Hamill',\n",
       "   'Harrison Ford',\n",
       "   'Carrie Fisher',\n",
       "   'Peter Cushing',\n",
       "   'Alec Guinness'],\n",
       "  'genres': ['Adventure', 'Action', 'Science Fiction'],\n",
       "  'keywords': ['android',\n",
       "   'galaxy',\n",
       "   'hermit',\n",
       "   'smuggling (contraband)',\n",
       "   'superhero',\n",
       "   'space',\n",
       "   'rescue mission',\n",
       "   'empire',\n",
       "   'rebellion',\n",
       "   'planet',\n",
       "   'desert',\n",
       "   'super power',\n",
       "   'space opera',\n",
       "   'wizard',\n",
       "   'totalitarianism'],\n",
       "  'overview': 'Princess Leia is captured and held hostage by the evil Imperial forces in their effort to take over the galactic Empire. Venturesome Luke Skywalker and dashing captain Han Solo team together with the loveable robot duo R2-D2 and C-3PO to rescue the beautiful princess and restore peace and justice in the Empire.',\n",
       "  'budget': 11000000,\n",
       "  'revenue': 775398007,\n",
       "  'popularity': 88.613,\n",
       "  'vote_average': 8.204,\n",
       "  'vote_count': 19236,\n",
       "  'updated_at': datetime.datetime(2023, 10, 24, 21, 38, 29, 594000)},\n",
       " {'tmdb_id': '12',\n",
       "  'tmdb_homepage': 'https://www.themoviedb.org/movie/12',\n",
       "  'title': 'Finding Nemo',\n",
       "  'language': 'en',\n",
       "  'release_date': datetime.date(2003, 5, 30),\n",
       "  'runtime': 100,\n",
       "  'director': 'Andrew Stanton',\n",
       "  'actors': ['Albert Brooks',\n",
       "   'Ellen DeGeneres',\n",
       "   'Alexander Gould',\n",
       "   'Willem Dafoe',\n",
       "   'Geoffrey Rush'],\n",
       "  'genres': ['Animation', 'Family'],\n",
       "  'keywords': ['parent child relationship',\n",
       "   'sydney, australia',\n",
       "   'harbor',\n",
       "   'anthropomorphism',\n",
       "   'underwater',\n",
       "   'shark',\n",
       "   'pelican',\n",
       "   'fish tank',\n",
       "   'great barrier reef',\n",
       "   'sea turtle',\n",
       "   'missing child',\n",
       "   'aftercreditsstinger',\n",
       "   'duringcreditsstinger',\n",
       "   'short term memory loss',\n",
       "   'clownfish',\n",
       "   'father son reunion',\n",
       "   'protective father'],\n",
       "  'overview': \"Nemo, an adventurous young clownfish, is unexpectedly taken from his Great Barrier Reef home to a dentist's office aquarium. It's up to his worrisome father Marlin and a friendly but forgetful fish Dory to bring Nemo home -- meeting vegetarian sharks, surfer dude turtles, hypnotic jellyfish, hungry seagulls, and more along the way.\",\n",
       "  'budget': 94000000,\n",
       "  'revenue': 940335536,\n",
       "  'popularity': 92.459,\n",
       "  'vote_average': 7.824,\n",
       "  'vote_count': 18132,\n",
       "  'updated_at': datetime.datetime(2023, 10, 24, 21, 38, 29, 594000)},\n",
       " {'tmdb_id': '13',\n",
       "  'tmdb_homepage': 'https://www.themoviedb.org/movie/13',\n",
       "  'title': 'Forrest Gump',\n",
       "  'language': 'en',\n",
       "  'release_date': datetime.date(1994, 6, 23),\n",
       "  'runtime': 142,\n",
       "  'director': 'Robert Zemeckis',\n",
       "  'actors': ['Tom Hanks',\n",
       "   'Robin Wright',\n",
       "   'Gary Sinise',\n",
       "   'Sally Field',\n",
       "   'Mykelti Williamson'],\n",
       "  'genres': ['Comedy', 'Drama', 'Romance'],\n",
       "  'keywords': ['vietnam veteran',\n",
       "   'post-traumatic stress disorder (ptsd)',\n",
       "   'hippie',\n",
       "   'china',\n",
       "   'washington dc, usa',\n",
       "   'single parent',\n",
       "   'mentally disabled',\n",
       "   'based on novel or book',\n",
       "   'waitress',\n",
       "   'usa president',\n",
       "   'optimism',\n",
       "   'parent child relationship',\n",
       "   '1970s',\n",
       "   'autism',\n",
       "   'drug addiction',\n",
       "   'alabama',\n",
       "   'vietnam war',\n",
       "   'black panther party',\n",
       "   'bus stop',\n",
       "   'friendship',\n",
       "   'family relationships',\n",
       "   'single mother',\n",
       "   'military',\n",
       "   'anti war protest',\n",
       "   '1960s',\n",
       "   'college american football',\n",
       "   'mother son relationship'],\n",
       "  'overview': 'A man with a low IQ has accomplished great things in his life and been present during significant historic events—in each case, far exceeding what anyone imagined he could do. But despite all he has achieved, his one true love eludes him.',\n",
       "  'budget': 55000000,\n",
       "  'revenue': 677387716,\n",
       "  'popularity': 84.723,\n",
       "  'vote_average': 8.477,\n",
       "  'vote_count': 25544,\n",
       "  'updated_at': datetime.datetime(2023, 10, 24, 21, 38, 29, 594000)},\n",
       " {'tmdb_id': '14',\n",
       "  'tmdb_homepage': 'https://www.themoviedb.org/movie/14',\n",
       "  'title': 'American Beauty',\n",
       "  'language': 'en',\n",
       "  'release_date': datetime.date(1999, 9, 15),\n",
       "  'runtime': 122,\n",
       "  'director': 'Sam Mendes',\n",
       "  'actors': ['Kevin Spacey',\n",
       "   'Annette Bening',\n",
       "   'Thora Birch',\n",
       "   'Wes Bentley',\n",
       "   'Mena Suvari'],\n",
       "  'genres': ['Drama'],\n",
       "  'keywords': ['adultery',\n",
       "   'age difference',\n",
       "   'parent child relationship',\n",
       "   'cheating',\n",
       "   'midlife crisis',\n",
       "   'coming out',\n",
       "   'first time',\n",
       "   'virgin',\n",
       "   'estate agent',\n",
       "   'cheerleader',\n",
       "   'rose',\n",
       "   'satire',\n",
       "   'sexual fantasy',\n",
       "   'loneliness',\n",
       "   'dysfunctional family',\n",
       "   'dysfunctional marriage',\n",
       "   'dark comedy',\n",
       "   'suburbia',\n",
       "   'coming of age',\n",
       "   'marijuana',\n",
       "   'love affair',\n",
       "   'exercise',\n",
       "   'extramarital affair',\n",
       "   'realtor',\n",
       "   'quitting a job',\n",
       "   'voyeur',\n",
       "   'neighborhood',\n",
       "   'retired army man',\n",
       "   'closeted homosexual',\n",
       "   'singing in a car',\n",
       "   'gay theme',\n",
       "   'teenager',\n",
       "   'camcorder'],\n",
       "  'overview': \"Lester Burnham, a depressed suburban father in a mid-life crisis, decides to turn his hectic life around after developing an infatuation with his daughter's attractive friend.\",\n",
       "  'budget': 15000000,\n",
       "  'revenue': 356296601,\n",
       "  'popularity': 35.477,\n",
       "  'vote_average': 8.021,\n",
       "  'vote_count': 11317,\n",
       "  'updated_at': datetime.datetime(2023, 10, 24, 21, 38, 29, 594000)},\n",
       " {'tmdb_id': '15',\n",
       "  'tmdb_homepage': 'https://www.themoviedb.org/movie/15',\n",
       "  'title': 'Citizen Kane',\n",
       "  'language': 'en',\n",
       "  'release_date': datetime.date(1941, 4, 17),\n",
       "  'runtime': 119,\n",
       "  'director': 'Orson Welles',\n",
       "  'actors': ['Orson Welles',\n",
       "   'Joseph Cotten',\n",
       "   'Dorothy Comingore',\n",
       "   'Ray Collins',\n",
       "   'George Coulouris'],\n",
       "  'genres': ['Mystery', 'Drama'],\n",
       "  'keywords': ['journalist',\n",
       "   'newspaper',\n",
       "   'florida',\n",
       "   'capitalist',\n",
       "   'american dream',\n",
       "   'banker',\n",
       "   'media tycoon',\n",
       "   'art collector',\n",
       "   'sleigh',\n",
       "   'failure',\n",
       "   'money',\n",
       "   'black and white',\n",
       "   'snowglobes',\n",
       "   'child',\n",
       "   'rosebud',\n",
       "   'last word'],\n",
       "  'overview': 'Newspaper magnate, Charles Foster Kane is taken from his mother as a boy and made the ward of a rich industrialist. As a result, every well-meaning, tyrannical or self-destructive move he makes for the rest of his life appears in some way to be a reaction to that deeply wounding event.',\n",
       "  'budget': 839727,\n",
       "  'revenue': 23218000,\n",
       "  'popularity': 29.025,\n",
       "  'vote_average': 8.0,\n",
       "  'vote_count': 5069,\n",
       "  'updated_at': datetime.datetime(2023, 10, 24, 21, 38, 29, 594000)},\n",
       " {'tmdb_id': '16',\n",
       "  'tmdb_homepage': 'https://www.themoviedb.org/movie/16',\n",
       "  'title': 'Dancer in the Dark',\n",
       "  'language': 'en',\n",
       "  'release_date': datetime.date(2000, 6, 30),\n",
       "  'runtime': 141,\n",
       "  'director': 'Lars von Trier',\n",
       "  'actors': ['Björk',\n",
       "   'Catherine Deneuve',\n",
       "   'David Morse',\n",
       "   'Peter Stormare',\n",
       "   'Joel Grey'],\n",
       "  'genres': ['Drama', 'Crime'],\n",
       "  'keywords': ['individual',\n",
       "   'dancing',\n",
       "   'robbery',\n",
       "   'factory worker',\n",
       "   'small town',\n",
       "   'blindness and impaired vision',\n",
       "   'immigrant',\n",
       "   'eye operation',\n",
       "   'naivety',\n",
       "   'hereditary disease',\n",
       "   'dying and death',\n",
       "   'musical',\n",
       "   'debt',\n",
       "   'police officer'],\n",
       "  'overview': \"Selma, a Czech immigrant on the verge of blindness, struggles to make ends meet for herself and her son, who has inherited the same genetic disorder and will suffer the same fate without an expensive operation. When life gets too difficult, Selma learns to cope through her love of musicals, escaping life's troubles - even if just for a moment - by dreaming up little numbers to the rhythmic beats of her surroundings.\",\n",
       "  'budget': 12800000,\n",
       "  'revenue': 40031879,\n",
       "  'popularity': 17.399,\n",
       "  'vote_average': 7.871,\n",
       "  'vote_count': 1626,\n",
       "  'updated_at': datetime.datetime(2023, 10, 24, 21, 38, 29, 594000)},\n",
       " {'tmdb_id': '703',\n",
       "  'tmdb_homepage': 'https://www.themoviedb.org/movie/703',\n",
       "  'title': 'Annie Hall',\n",
       "  'language': 'en',\n",
       "  'release_date': datetime.date(1977, 4, 19),\n",
       "  'runtime': 93,\n",
       "  'director': 'Woody Allen',\n",
       "  'actors': ['Woody Allen',\n",
       "   'Diane Keaton',\n",
       "   'Tony Roberts',\n",
       "   'Carol Kane',\n",
       "   'Paul Simon'],\n",
       "  'genres': ['Comedy', 'Drama', 'Romance'],\n",
       "  'keywords': ['new york city',\n",
       "   'tennis',\n",
       "   'cocaine',\n",
       "   'narration',\n",
       "   'neurosis',\n",
       "   'comedian',\n",
       "   'job interview',\n",
       "   'sports',\n",
       "   'love',\n",
       "   'romantic comedy',\n",
       "   'singer',\n",
       "   'breaking the fourth wall',\n",
       "   'volkswagen beetle',\n",
       "   'lobster'],\n",
       "  'overview': 'New York comedian Alvy Singer falls in love with the ditsy Annie Hall.',\n",
       "  'budget': 4000000,\n",
       "  'revenue': 38288028,\n",
       "  'popularity': 18.34,\n",
       "  'vote_average': 7.752,\n",
       "  'vote_count': 3573,\n",
       "  'updated_at': datetime.datetime(2023, 10, 24, 21, 38, 29, 594000)},\n",
       " {'tmdb_id': '18',\n",
       "  'tmdb_homepage': 'https://www.themoviedb.org/movie/18',\n",
       "  'title': 'The Fifth Element',\n",
       "  'language': 'en',\n",
       "  'release_date': datetime.date(1997, 5, 2),\n",
       "  'runtime': 126,\n",
       "  'director': 'Luc Besson',\n",
       "  'actors': ['Bruce Willis',\n",
       "   'Milla Jovovich',\n",
       "   'Gary Oldman',\n",
       "   'Ian Holm',\n",
       "   'Chris Tucker'],\n",
       "  'genres': ['Adventure', 'Fantasy', 'Action', 'Thriller', 'Science Fiction'],\n",
       "  'keywords': ['saving the world',\n",
       "   'new york city',\n",
       "   'flying car',\n",
       "   'taxi',\n",
       "   'cyborg',\n",
       "   'egypt',\n",
       "   'anti hero',\n",
       "   'stowaway',\n",
       "   'space travel',\n",
       "   'dystopia',\n",
       "   'race against time',\n",
       "   'alien life-form',\n",
       "   'arms dealer',\n",
       "   'priest',\n",
       "   'end of the world',\n",
       "   'shootout',\n",
       "   'police chase',\n",
       "   'cab driver',\n",
       "   'cyberpunk',\n",
       "   'archaeologist',\n",
       "   'space opera',\n",
       "   'military',\n",
       "   'opera singer',\n",
       "   'futuristic city',\n",
       "   'ancient evil',\n",
       "   'cruise liner',\n",
       "   'elemental',\n",
       "   'hieroglyphics',\n",
       "   'spaceship',\n",
       "   'good versus evil',\n",
       "   'alien robot'],\n",
       "  'overview': 'In 2257, a taxi driver is unintentionally given the task of saving a young girl who is part of the key that will ensure the survival of humanity.',\n",
       "  'budget': 90000000,\n",
       "  'revenue': 263920180,\n",
       "  'popularity': 61.551,\n",
       "  'vote_average': 7.532,\n",
       "  'vote_count': 9997,\n",
       "  'updated_at': datetime.datetime(2023, 10, 24, 21, 38, 29, 594000)},\n",
       " {'tmdb_id': '19',\n",
       "  'tmdb_homepage': 'https://www.themoviedb.org/movie/19',\n",
       "  'title': 'Metropolis',\n",
       "  'language': 'de',\n",
       "  'release_date': datetime.date(1927, 2, 6),\n",
       "  'runtime': 149,\n",
       "  'director': 'Fritz Lang',\n",
       "  'actors': ['Gustav Fröhlich',\n",
       "   'Brigitte Helm',\n",
       "   'Alfred Abel',\n",
       "   'Rudolf Klein-Rogge',\n",
       "   'Theodor Loos'],\n",
       "  'genres': ['Drama', 'Science Fiction'],\n",
       "  'keywords': ['man vs machine',\n",
       "   'based on novel or book',\n",
       "   'underground world',\n",
       "   'inventor',\n",
       "   'metropolis',\n",
       "   'future',\n",
       "   'class society',\n",
       "   'dystopia',\n",
       "   'tower of babel',\n",
       "   'delirium',\n",
       "   'steampunk',\n",
       "   'mad scientist',\n",
       "   'grim reaper',\n",
       "   'prophet',\n",
       "   'robot',\n",
       "   'destruction',\n",
       "   'silent film',\n",
       "   'expressionism',\n",
       "   'seven deadly sins',\n",
       "   'depravity',\n",
       "   'mob justice',\n",
       "   'downtrodden',\n",
       "   'saviour',\n",
       "   'social unrest',\n",
       "   'german expressionism',\n",
       "   'mediator'],\n",
       "  'overview': \"In a futuristic city sharply divided between the rich and the poor, the son of the city's mastermind meets a prophet who predicts the coming of a savior to mediate their differences.\",\n",
       "  'budget': 1300000,\n",
       "  'revenue': 650422,\n",
       "  'popularity': 22.184,\n",
       "  'vote_average': 8.152,\n",
       "  'vote_count': 2445,\n",
       "  'updated_at': datetime.datetime(2023, 10, 24, 21, 38, 29, 594000)}]"
      ]
     },
     "execution_count": 16,
     "metadata": {},
     "output_type": "execute_result"
    }
   ],
   "source": [
    "movies"
   ]
  },
  {
   "cell_type": "code",
   "execution_count": null,
   "metadata": {},
   "outputs": [],
   "source": []
  }
 ],
 "metadata": {
  "application/vnd.databricks.v1+notebook": {
   "dashboards": [],
   "language": "python",
   "notebookMetadata": {
    "pythonIndentUnit": 4
   },
   "notebookName": "populate-application-database",
   "widgets": {}
  },
  "kernelspec": {
   "display_name": "Python 3 (ipykernel)",
   "language": "python",
   "name": "python3"
  },
  "language_info": {
   "codemirror_mode": {
    "name": "ipython",
    "version": 3
   },
   "file_extension": ".py",
   "mimetype": "text/x-python",
   "name": "python",
   "nbconvert_exporter": "python",
   "pygments_lexer": "ipython3",
   "version": "3.10.13"
  }
 },
 "nbformat": 4,
 "nbformat_minor": 4
}
