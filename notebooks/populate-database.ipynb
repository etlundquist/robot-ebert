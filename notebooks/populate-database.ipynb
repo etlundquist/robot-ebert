{
 "cells": [
  {
   "cell_type": "markdown",
   "metadata": {
    "application/vnd.databricks.v1+cell": {
     "cellMetadata": {},
     "inputWidgets": {},
     "nuid": "bb601ce6-f290-42ea-90a6-ca550d38e3ca",
     "showTitle": false,
     "title": ""
    }
   },
   "source": [
    "### Notebook Set-Up"
   ]
  },
  {
   "cell_type": "markdown",
   "metadata": {
    "application/vnd.databricks.v1+cell": {
     "cellMetadata": {},
     "inputWidgets": {},
     "nuid": "d89d1a2f-ce6b-4b4e-8779-eb60c1c7676d",
     "showTitle": false,
     "title": ""
    }
   },
   "source": [
    "#### Import Required Modules"
   ]
  },
  {
   "cell_type": "code",
   "execution_count": 0,
   "metadata": {
    "application/vnd.databricks.v1+cell": {
     "cellMetadata": {
      "byteLimit": 2048000,
      "rowLimit": 10000
     },
     "inputWidgets": {},
     "nuid": "6c0275d4-0791-4bc1-b740-7754bfe76f27",
     "showTitle": false,
     "title": ""
    }
   },
   "outputs": [],
   "source": [
    "# %pip install sqlalchemy duckdb duckdb-engine cloud-sql-python-connector[pg8000]"
   ]
  },
  {
   "cell_type": "code",
   "execution_count": 0,
   "metadata": {
    "application/vnd.databricks.v1+cell": {
     "cellMetadata": {
      "byteLimit": 2048000,
      "rowLimit": 10000
     },
     "inputWidgets": {},
     "nuid": "7ad92141-2202-40f0-8029-bebb8b63e18b",
     "showTitle": false,
     "title": ""
    }
   },
   "outputs": [],
   "source": [
    "import os\n",
    "import csv\n",
    "import json\n",
    "import duckdb\n",
    "\n",
    "from typing import List, Dict\n",
    "from dotenv import load_dotenv\n",
    "from datetime import datetime\n",
    "\n",
    "import numpy as np\n",
    "import pandas as pd\n",
    "\n",
    "from pyspark.sql import SparkSession\n",
    "from pyspark.sql import functions as f\n",
    "from pyspark.sql.window import Window"
   ]
  },
  {
   "cell_type": "markdown",
   "metadata": {
    "application/vnd.databricks.v1+cell": {
     "cellMetadata": {},
     "inputWidgets": {},
     "nuid": "3c66a3f9-fe90-46e2-ae65-5100be81faf0",
     "showTitle": false,
     "title": ""
    }
   },
   "source": [
    "#### Load Secrets as Environment Variables"
   ]
  },
  {
   "cell_type": "code",
   "execution_count": 0,
   "metadata": {
    "application/vnd.databricks.v1+cell": {
     "cellMetadata": {
      "byteLimit": 2048000,
      "rowLimit": 10000
     },
     "inputWidgets": {},
     "nuid": "34c6e1a3-0a28-4d1b-92aa-659c6b047bd2",
     "showTitle": false,
     "title": ""
    }
   },
   "outputs": [
    {
     "output_type": "stream",
     "name": "stdout",
     "output_type": "stream",
     "text": [
      "Out[49]: True"
     ]
    }
   ],
   "source": [
    "load_dotenv(\"/dbfs/FileStore/env/.env\")"
   ]
  },
  {
   "cell_type": "markdown",
   "metadata": {
    "application/vnd.databricks.v1+cell": {
     "cellMetadata": {},
     "inputWidgets": {},
     "nuid": "8de77a0b-a968-4306-a01f-cbf21973a372",
     "showTitle": false,
     "title": ""
    }
   },
   "source": [
    "#### Get or Create SparkSession"
   ]
  },
  {
   "cell_type": "code",
   "execution_count": 0,
   "metadata": {
    "application/vnd.databricks.v1+cell": {
     "cellMetadata": {
      "byteLimit": 2048000,
      "rowLimit": 10000
     },
     "inputWidgets": {},
     "nuid": "fcc0d9be-c3dd-4fbb-ba4f-5a413ce03d97",
     "showTitle": false,
     "title": ""
    }
   },
   "outputs": [
    {
     "output_type": "display_data",
     "data": {
      "text/html": [
       "\n",
       "            <div>\n",
       "                <p><b>SparkSession - hive</b></p>\n",
       "                \n",
       "        <div>\n",
       "            <p><b>SparkContext</b></p>\n",
       "\n",
       "            <p><a href=\"/?o=8355974179873438#setting/sparkui/1017-161542-o0dq748r/driver-1493717450109132364\">Spark UI</a></p>\n",
       "\n",
       "            <dl>\n",
       "              <dt>Version</dt>\n",
       "                <dd><code>v3.3.2</code></dd>\n",
       "              <dt>Master</dt>\n",
       "                <dd><code>spark://driver-proxy:7077</code></dd>\n",
       "              <dt>AppName</dt>\n",
       "                <dd><code>Databricks Shell</code></dd>\n",
       "            </dl>\n",
       "        </div>\n",
       "        \n",
       "            </div>\n",
       "        "
      ]
     },
     "metadata": {
      "application/vnd.databricks.v1+output": {
       "addedWidgets": {},
       "arguments": {},
       "data": "\n            <div>\n                <p><b>SparkSession - hive</b></p>\n                \n        <div>\n            <p><b>SparkContext</b></p>\n\n            <p><a href=\"/?o=8355974179873438#setting/sparkui/1017-161542-o0dq748r/driver-1493717450109132364\">Spark UI</a></p>\n\n            <dl>\n              <dt>Version</dt>\n                <dd><code>v3.3.2</code></dd>\n              <dt>Master</dt>\n                <dd><code>spark://driver-proxy:7077</code></dd>\n              <dt>AppName</dt>\n                <dd><code>Databricks Shell</code></dd>\n            </dl>\n        </div>\n        \n            </div>\n        ",
       "datasetInfos": [],
       "metadata": {},
       "removedWidgets": [],
       "textData": null,
       "type": "htmlSandbox"
      }
     },
     "output_type": "display_data"
    }
   ],
   "source": [
    "spark = SparkSession.builder.getOrCreate()\n",
    "spark.sparkContext.setLogLevel(\"error\")\n",
    "spark"
   ]
  },
  {
   "cell_type": "markdown",
   "metadata": {
    "application/vnd.databricks.v1+cell": {
     "cellMetadata": {},
     "inputWidgets": {},
     "nuid": "5870cbce-ba16-4855-a63d-67980c8d7b86",
     "showTitle": false,
     "title": ""
    }
   },
   "source": [
    "#### Set Workflow Constants"
   ]
  },
  {
   "cell_type": "code",
   "execution_count": 0,
   "metadata": {
    "application/vnd.databricks.v1+cell": {
     "cellMetadata": {
      "byteLimit": 2048000,
      "rowLimit": 10000
     },
     "inputWidgets": {},
     "nuid": "826f1837-ac90-4994-8645-70638b65e705",
     "showTitle": false,
     "title": ""
    }
   },
   "outputs": [],
   "source": [
    "RAW_PATH = \"dbfs:/FileStore/data/raw\"\n",
    "CLN_PATH = \"dbfs:/FileStore/data/clean\"\n",
    "JSON_PATH = \"/dbfs/FileStore/data/json\""
   ]
  },
  {
   "cell_type": "markdown",
   "metadata": {
    "application/vnd.databricks.v1+cell": {
     "cellMetadata": {},
     "inputWidgets": {},
     "nuid": "bf1ed547-e039-45c0-9636-27233c358ed7",
     "showTitle": false,
     "title": ""
    }
   },
   "source": [
    "### Export the Data as CSV Files to Bulk Insert into the Database"
   ]
  },
  {
   "cell_type": "markdown",
   "metadata": {
    "application/vnd.databricks.v1+cell": {
     "cellMetadata": {},
     "inputWidgets": {},
     "nuid": "be4e9f2d-023b-40ef-93b6-1c74f02513fd",
     "showTitle": false,
     "title": ""
    }
   },
   "source": [
    "#### Import Cleaned Static Data"
   ]
  },
  {
   "cell_type": "code",
   "execution_count": 0,
   "metadata": {
    "application/vnd.databricks.v1+cell": {
     "cellMetadata": {
      "byteLimit": 2048000,
      "rowLimit": 10000
     },
     "inputWidgets": {},
     "nuid": "a3ab6a96-631b-4fbb-8839-024b01f0c1d4",
     "showTitle": false,
     "title": ""
    }
   },
   "outputs": [
    {
     "output_type": "stream",
     "name": "stdout",
     "output_type": "stream",
     "text": [
      "+-------+--------------------+------------+-------+--------------------+--------------------+---------+---------+----------+------------+----------+--------------------+\n|tmdb_id|               title|release_date|runtime|              genres|            overview|   budget|  revenue|popularity|vote_average|vote_count|            keywords|\n+-------+--------------------+------------+-------+--------------------+--------------------+---------+---------+----------+------------+----------+--------------------+\n|  10010|      Brother Bear 2|  2006-08-17|   73.0|[Adventure, Anima...|Kenai finds his c...|     null|     null| 10.861154|         6.3|       318|[grizzly bear, hu...|\n|  10012|              Cursed|  2005-02-25|   97.0|    [Horror, Comedy]|A werewolf loose ...| 35000000| 19294901|  8.949722|         5.1|       168|[brother sister r...|\n| 100402|Captain America: ...|  2014-03-20|  136.0|[Action, Adventur...|After the catacly...|170000000|714766572| 18.717704|         7.6|      5881|[washington d.c.,...|\n|  10068|      Nine 1/2 Weeks|  1986-02-14|  117.0|    [Drama, Romance]|An erotic story a...| 17000000|  6735922|  6.706262|         5.8|       183|                null|\n|  10096|      13 Going on 30|  2004-04-13|   98.0|[Comedy, Fantasy,...|After total humil...| 37000000| 96455697| 12.632595|         6.3|      1260|[new york, photog...|\n+-------+--------------------+------------+-------+--------------------+--------------------+---------+---------+----------+------------+----------+--------------------+\nonly showing top 5 rows\n\nOut[52]: 6918"
     ]
    }
   ],
   "source": [
    "movies = spark.read.parquet(os.path.join(CLN_PATH, \"movies\"))\n",
    "movies.show(5)\n",
    "movies.count()"
   ]
  },
  {
   "cell_type": "code",
   "execution_count": 0,
   "metadata": {
    "application/vnd.databricks.v1+cell": {
     "cellMetadata": {
      "byteLimit": 2048000,
      "rowLimit": 10000
     },
     "inputWidgets": {},
     "nuid": "a9b671a8-2c35-4904-9a1b-2d4fbab5a031",
     "showTitle": false,
     "title": ""
    }
   },
   "outputs": [
    {
     "output_type": "stream",
     "name": "stdout",
     "output_type": "stream",
     "text": [
      "+-------+-------+------+-------------------+\n|user_id|tmdb_id|rating|          timestamp|\n+-------+-------+------+-------------------+\n|  42017|     14|   4.0|2015-09-10 22:15:39|\n|  54926|    165|   2.5|2006-03-19 20:54:43|\n|  47629|   1637|   4.0|1996-07-01 14:27:03|\n|  68508|  13920|   5.0|2003-11-14 01:18:56|\n|  59910|  24746|   4.0|2017-07-29 19:41:07|\n+-------+-------+------+-------------------+\nonly showing top 5 rows\n\nOut[53]: 26024289"
     ]
    }
   ],
   "source": [
    "ratings = spark.read.parquet(os.path.join(CLN_PATH, \"ratings\"))\n",
    "ratings.show(5)\n",
    "ratings.count()"
   ]
  },
  {
   "cell_type": "code",
   "execution_count": 0,
   "metadata": {
    "application/vnd.databricks.v1+cell": {
     "cellMetadata": {
      "byteLimit": 2048000,
      "rowLimit": 10000
     },
     "inputWidgets": {},
     "nuid": "e5283c51-8e86-4ab0-9bc1-05546b3bb8fe",
     "showTitle": false,
     "title": ""
    }
   },
   "outputs": [
    {
     "output_type": "stream",
     "name": "stdout",
     "output_type": "stream",
     "text": [
      "+-------+-------+------+-------------------+---------+----------+\n|user_id|tmdb_id|rating|          timestamp|cnt_users|cnt_movies|\n+-------+-------+------+-------------------+---------+----------+\n| 171679|   2255|   2.0|2013-04-23 14:39:05|    13641|       133|\n| 217667|  10427|   2.0|1996-11-08 17:21:30|     3441|        58|\n|  31793|    532|   3.0|1997-05-07 15:14:38|    12698|       107|\n|  96489|    197|   3.0|2015-10-25 19:42:18|    61076|        84|\n| 198045|    641|   2.5|2015-11-04 04:07:02|    19478|       689|\n+-------+-------+------+-------------------+---------+----------+\nonly showing top 5 rows\n\nOut[54]: 15372729"
     ]
    }
   ],
   "source": [
    "model_frame = spark.read.parquet(os.path.join(CLN_PATH, \"model_frame\"))\n",
    "model_frame.show(5)\n",
    "model_frame.count()"
   ]
  },
  {
   "cell_type": "markdown",
   "metadata": {
    "application/vnd.databricks.v1+cell": {
     "cellMetadata": {},
     "inputWidgets": {},
     "nuid": "170b4844-878d-4fae-b120-f9c0c74de8f9",
     "showTitle": false,
     "title": ""
    }
   },
   "source": [
    "#### Select the Subset of Users/Movies/Ratings Making it Into the Model Frame"
   ]
  },
  {
   "cell_type": "code",
   "execution_count": 0,
   "metadata": {
    "application/vnd.databricks.v1+cell": {
     "cellMetadata": {
      "byteLimit": 2048000,
      "rowLimit": 10000
     },
     "inputWidgets": {},
     "nuid": "79e098fa-10f7-4f75-bf40-a976c2137389",
     "showTitle": false,
     "title": ""
    }
   },
   "outputs": [
    {
     "output_type": "stream",
     "name": "stdout",
     "output_type": "stream",
     "text": [
      "Out[55]: 195899"
     ]
    }
   ],
   "source": [
    "model_users = model_frame.select('user_id').distinct().withColumn('user_id', f.col('user_id').cast('STRING')).filter(f.col('user_id').isNotNull())\n",
    "model_users.count()"
   ]
  },
  {
   "cell_type": "code",
   "execution_count": 0,
   "metadata": {
    "application/vnd.databricks.v1+cell": {
     "cellMetadata": {
      "byteLimit": 2048000,
      "rowLimit": 10000
     },
     "inputWidgets": {},
     "nuid": "c4941849-7b3d-4026-b45d-3d4127d2c490",
     "showTitle": false,
     "title": ""
    }
   },
   "outputs": [
    {
     "output_type": "stream",
     "name": "stdout",
     "output_type": "stream",
     "text": [
      "Out[56]: 6235"
     ]
    }
   ],
   "source": [
    "model_movies = model_frame.select('tmdb_id').distinct().withColumn('tmdb_id', f.col('tmdb_id').cast('STRING')).filter(f.col('tmdb_id').isNotNull())\n",
    "model_movies.count()"
   ]
  },
  {
   "cell_type": "code",
   "execution_count": 0,
   "metadata": {
    "application/vnd.databricks.v1+cell": {
     "cellMetadata": {
      "byteLimit": 2048000,
      "rowLimit": 10000
     },
     "inputWidgets": {},
     "nuid": "8a984b15-6f14-4ec8-a383-a0e7fbd930a5",
     "showTitle": false,
     "title": ""
    }
   },
   "outputs": [
    {
     "output_type": "stream",
     "name": "stdout",
     "output_type": "stream",
     "text": [
      "Out[57]: 15372666"
     ]
    }
   ],
   "source": [
    "model_ratings = model_frame \\\n",
    "    .select('user_id', 'tmdb_id').distinct() \\\n",
    "    .withColumn('user_id', f.col('user_id').cast('STRING')) \\\n",
    "    .withColumn('tmdb_id', f.col('tmdb_id').cast('STRING')) \\\n",
    "    .filter(f.col('user_id').isNotNull()) \\\n",
    "    .filter(f.col('tmdb_id').isNotNull())\n",
    "\n",
    "model_ratings.count() "
   ]
  },
  {
   "cell_type": "markdown",
   "metadata": {
    "application/vnd.databricks.v1+cell": {
     "cellMetadata": {},
     "inputWidgets": {},
     "nuid": "bd002a92-6d10-4ce3-9612-cb045b8ca6af",
     "showTitle": false,
     "title": ""
    }
   },
   "source": [
    "#### Create Users/Movies/Ratings Datasets for Export"
   ]
  },
  {
   "cell_type": "code",
   "execution_count": 0,
   "metadata": {
    "application/vnd.databricks.v1+cell": {
     "cellMetadata": {
      "byteLimit": 2048000,
      "rowLimit": 10000
     },
     "inputWidgets": {},
     "nuid": "15c7255e-a865-480a-a7bc-6907fef9a841",
     "showTitle": false,
     "title": ""
    }
   },
   "outputs": [
    {
     "output_type": "stream",
     "name": "stdout",
     "output_type": "stream",
     "text": [
      "Out[58]: datetime.datetime(2023, 10, 23, 18, 44, 55, 294176)"
     ]
    }
   ],
   "source": [
    "updated_at = datetime.now()\n",
    "updated_at"
   ]
  },
  {
   "cell_type": "code",
   "execution_count": 0,
   "metadata": {
    "application/vnd.databricks.v1+cell": {
     "cellMetadata": {
      "byteLimit": 2048000,
      "rowLimit": 10000
     },
     "inputWidgets": {},
     "nuid": "4cdd709e-6535-4db6-ba26-0fdcc6cd742b",
     "showTitle": false,
     "title": ""
    }
   },
   "outputs": [
    {
     "output_type": "stream",
     "name": "stdout",
     "output_type": "stream",
     "text": [
      "+------+-------+\n| users|records|\n+------+-------+\n|195899| 195899|\n+------+-------+\n\nroot\n |-- user_id: string (nullable = true)\n |-- fname: string (nullable = false)\n |-- lname: string (nullable = false)\n |-- email: string (nullable = false)\n |-- updated_at: timestamp (nullable = false)\n\n+-------+---------+---------+--------------------+--------------------+\n|user_id|    fname|    lname|               email|          updated_at|\n+-------+---------+---------+--------------------+--------------------+\n| 231350|ANONYMOUS|ANONYMOUS|ANONYMOUS@ANONYMO...|2023-10-23 18:44:...|\n| 228408|ANONYMOUS|ANONYMOUS|ANONYMOUS@ANONYMO...|2023-10-23 18:44:...|\n| 209326|ANONYMOUS|ANONYMOUS|ANONYMOUS@ANONYMO...|2023-10-23 18:44:...|\n| 207398|ANONYMOUS|ANONYMOUS|ANONYMOUS@ANONYMO...|2023-10-23 18:44:...|\n|  83250|ANONYMOUS|ANONYMOUS|ANONYMOUS@ANONYMO...|2023-10-23 18:44:...|\n+-------+---------+---------+--------------------+--------------------+\nonly showing top 5 rows\n\n"
     ]
    }
   ],
   "source": [
    "export_users = model_users \\\n",
    "    .withColumn('fname', f.lit(\"ANONYMOUS\")) \\\n",
    "    .withColumn('lname', f.lit(\"ANONYMOUS\")) \\\n",
    "    .withColumn('email', f.lit(\"ANONYMOUS@ANONYMOUS.COM\")) \\\n",
    "    .withColumn('updated_at', f.lit(updated_at))\n",
    "\n",
    "export_users.agg(f.countDistinct('user_id').alias('users'), f.count('*').alias('records')).show()\n",
    "export_users.printSchema()\n",
    "export_users.show(5)"
   ]
  },
  {
   "cell_type": "code",
   "execution_count": 0,
   "metadata": {
    "application/vnd.databricks.v1+cell": {
     "cellMetadata": {
      "byteLimit": 2048000,
      "rowLimit": 10000
     },
     "inputWidgets": {},
     "nuid": "b34a8af9-af31-4cf3-87c7-32d1fcced94c",
     "showTitle": false,
     "title": ""
    }
   },
   "outputs": [
    {
     "output_type": "stream",
     "name": "stdout",
     "output_type": "stream",
     "text": [
      "+------+-------+\n|movies|records|\n+------+-------+\n|  6235|   6235|\n+------+-------+\n\nroot\n |-- tmdb_id: string (nullable = true)\n |-- title: string (nullable = true)\n |-- release_date: date (nullable = true)\n |-- runtime: double (nullable = true)\n |-- genres: array (nullable = true)\n |    |-- element: string (containsNull = true)\n |-- keywords: array (nullable = true)\n |    |-- element: string (containsNull = true)\n |-- overview: string (nullable = true)\n |-- budget: integer (nullable = true)\n |-- revenue: integer (nullable = true)\n |-- popularity: double (nullable = true)\n |-- vote_average: double (nullable = true)\n |-- vote_count: integer (nullable = true)\n |-- updated_at: timestamp (nullable = false)\n\n+-------+--------------------+------------+-------+--------------------+--------------------+--------------------+---------+---------+----------+------------+----------+--------------------+\n|tmdb_id|               title|release_date|runtime|              genres|            keywords|            overview|   budget|  revenue|popularity|vote_average|vote_count|          updated_at|\n+-------+--------------------+------------+-------+--------------------+--------------------+--------------------+---------+---------+----------+------------+----------+--------------------+\n|   9427|      The Full Monty|  1997-08-13|   91.0|            [Comedy]|[suicide attempt,...|Sheffield, Englan...|  3500000|257850122|  8.333322|         6.9|       372|2023-10-23 18:44:...|\n|  57201|     The Lone Ranger|  2013-07-03|  149.0|[Action, Adventur...|[texas, horse, su...|The Texas Rangers...|255000000| 89289910| 12.729104|         5.9|      2361|2023-10-23 18:44:...|\n|   1645|      A Time to Kill|  1996-07-24|  149.0|[Crime, Drama, Th...|[ku klux klan, ra...|A young lawyer de...| 40000000|152266007| 13.309013|         7.0|       522|2023-10-23 18:44:...|\n|  76493|        The Dictator|  2012-05-15|   83.0|            [Comedy]|           [kurdish]|The heroic story ...| 65000000|179379533|  7.446085|         5.9|      1789|2023-10-23 18:44:...|\n|    496|Borat: Cultural L...|  2006-11-01|   82.0|            [Comedy]|[male nudity, usa...|Kazakh journalist...| 18000000|261572744|  8.278336|         6.5|      1617|2023-10-23 18:44:...|\n+-------+--------------------+------------+-------+--------------------+--------------------+--------------------+---------+---------+----------+------------+----------+--------------------+\nonly showing top 5 rows\n\n"
     ]
    }
   ],
   "source": [
    "export_movies = movies \\\n",
    "    .join(model_movies, on='tmdb_id', how='inner') \\\n",
    "    .select(\"tmdb_id\", \"title\", \"release_date\", \"runtime\", \"genres\", \"keywords\", \"overview\", \"budget\", \"revenue\", \"popularity\", \"vote_average\", \"vote_count\") \\\n",
    "    .withColumn('updated_at', f.lit(updated_at))\n",
    "\n",
    "export_movies.agg(f.countDistinct('tmdb_id').alias('movies'), f.count('*').alias('records')).show()\n",
    "export_movies.printSchema()   \n",
    "export_movies.show(5)"
   ]
  },
  {
   "cell_type": "code",
   "execution_count": 0,
   "metadata": {
    "application/vnd.databricks.v1+cell": {
     "cellMetadata": {
      "byteLimit": 2048000,
      "rowLimit": 10000
     },
     "inputWidgets": {},
     "nuid": "1f0334e9-d02e-4b80-bfc6-626c317bd59f",
     "showTitle": false,
     "title": ""
    }
   },
   "outputs": [
    {
     "output_type": "stream",
     "name": "stdout",
     "output_type": "stream",
     "text": [
      "+--------+--------+\n| ratings| records|\n+--------+--------+\n|15372666|15372666|\n+--------+--------+\n\nroot\n |-- user_id: string (nullable = true)\n |-- tmdb_id: string (nullable = true)\n |-- rating: double (nullable = true)\n |-- updated_at: timestamp (nullable = false)\n\n+-------+-------+------+--------------------+\n|user_id|tmdb_id|rating|          updated_at|\n+-------+-------+------+--------------------+\n| 100000|    280|   4.0|2023-10-23 18:44:...|\n| 100001|  10158|   4.0|2023-10-23 18:44:...|\n| 100002|  10923|   3.5|2023-10-23 18:44:...|\n| 100002|  11529|   4.0|2023-10-23 18:44:...|\n| 100002|    120|   4.0|2023-10-23 18:44:...|\n+-------+-------+------+--------------------+\nonly showing top 5 rows\n\n"
     ]
    }
   ],
   "source": [
    "export_ratings = ratings \\\n",
    "    .join(model_ratings, on=[\"user_id\", \"tmdb_id\"], how='inner') \\\n",
    "    .withColumn(\"rank\", f.row_number().over(Window.partitionBy(\"user_id\", \"tmdb_id\").orderBy(f.rand(seed=1492)))) \\\n",
    "    .filter(f.col(\"rank\") == 1) \\\n",
    "    .select(\"user_id\", \"tmdb_id\", \"rating\") \\\n",
    "    .withColumn('updated_at', f.lit(updated_at))\n",
    "\n",
    "export_ratings.agg(f.countDistinct('user_id', 'tmdb_id').alias('ratings'), f.count('*').alias('records')).show()\n",
    "export_ratings.printSchema()   \n",
    "export_ratings.show(5)"
   ]
  },
  {
   "cell_type": "markdown",
   "metadata": {
    "application/vnd.databricks.v1+cell": {
     "cellMetadata": {},
     "inputWidgets": {},
     "nuid": "242fdb35-33a1-40e4-8f8a-a64bcad7edb0",
     "showTitle": false,
     "title": ""
    }
   },
   "source": [
    "#### Export the Static User/Movie/Rating Data to JSONLINES"
   ]
  },
  {
   "cell_type": "code",
   "execution_count": 0,
   "metadata": {
    "application/vnd.databricks.v1+cell": {
     "cellMetadata": {
      "byteLimit": 2048000,
      "rowLimit": 10000
     },
     "inputWidgets": {},
     "nuid": "202a2973-79d8-4d87-aa90-2249aa63fc8e",
     "showTitle": false,
     "title": ""
    }
   },
   "outputs": [],
   "source": [
    "export_users.toPandas().to_json(os.path.join(JSON_PATH, \"users.json\"), orient=\"records\", lines=True, date_format=\"iso\")"
   ]
  },
  {
   "cell_type": "code",
   "execution_count": 0,
   "metadata": {
    "application/vnd.databricks.v1+cell": {
     "cellMetadata": {
      "byteLimit": 2048000,
      "rowLimit": 10000
     },
     "inputWidgets": {},
     "nuid": "c8ceb9e9-56dd-415f-a7cb-8da72ecda824",
     "showTitle": false,
     "title": ""
    }
   },
   "outputs": [],
   "source": [
    "export_movies.toPandas().to_json(os.path.join(JSON_PATH, \"movies.json\"), orient=\"records\", lines=True, date_format=\"iso\")"
   ]
  },
  {
   "cell_type": "code",
   "execution_count": 0,
   "metadata": {
    "application/vnd.databricks.v1+cell": {
     "cellMetadata": {
      "byteLimit": 2048000,
      "rowLimit": 10000
     },
     "inputWidgets": {},
     "nuid": "4f1d2c7d-b7ea-4c61-9a77-f49bcc9738a7",
     "showTitle": false,
     "title": ""
    }
   },
   "outputs": [],
   "source": [
    "export_ratings.toPandas().to_json(os.path.join(JSON_PATH, \"ratings.json\"), orient=\"records\", lines=True, date_format=\"iso\")"
   ]
  },
  {
   "cell_type": "markdown",
   "metadata": {
    "application/vnd.databricks.v1+cell": {
     "cellMetadata": {},
     "inputWidgets": {},
     "nuid": "593c60a3-4a4a-46c8-8c57-6225a762f084",
     "showTitle": false,
     "title": ""
    }
   },
   "source": [
    "### Load the JSON Exports into the Application Database Using Pandas"
   ]
  },
  {
   "cell_type": "markdown",
   "metadata": {
    "application/vnd.databricks.v1+cell": {
     "cellMetadata": {},
     "inputWidgets": {},
     "nuid": "029d9321-eb55-438d-beab-c0350c48cf71",
     "showTitle": false,
     "title": ""
    }
   },
   "source": [
    "#### Import Relevant First-Party Modules"
   ]
  },
  {
   "cell_type": "code",
   "execution_count": 0,
   "metadata": {
    "application/vnd.databricks.v1+cell": {
     "cellMetadata": {},
     "inputWidgets": {},
     "nuid": "8e66479f-a61b-4a55-9e40-fd7248e8036b",
     "showTitle": false,
     "title": ""
    }
   },
   "outputs": [
    {
     "output_type": "execute_result",
     "data": {
      "text/plain": [
       "<duckdb.duckdb.DuckDBPyConnection at 0x122fceef0>"
      ]
     },
     "execution_count": 4,
     "metadata": {},
     "output_type": "execute_result"
    }
   ],
   "source": [
    "cnx = duckdb.connect('../app/database.duckdb')\n",
    "cnx"
   ]
  },
  {
   "cell_type": "markdown",
   "metadata": {
    "application/vnd.databricks.v1+cell": {
     "cellMetadata": {},
     "inputWidgets": {},
     "nuid": "a23cb67d-725e-4102-9a0c-f4c286d51c8e",
     "showTitle": false,
     "title": ""
    }
   },
   "source": [
    "### Populate the Database with the Static Kaggle Data"
   ]
  },
  {
   "cell_type": "markdown",
   "metadata": {
    "application/vnd.databricks.v1+cell": {
     "cellMetadata": {},
     "inputWidgets": {},
     "nuid": "28e7e150-9794-4dd7-a434-9aa73442ae01",
     "showTitle": false,
     "title": ""
    }
   },
   "source": [
    "#### Populate the `movies` Table"
   ]
  },
  {
   "cell_type": "code",
   "execution_count": 0,
   "metadata": {
    "application/vnd.databricks.v1+cell": {
     "cellMetadata": {},
     "inputWidgets": {},
     "nuid": "492f60f6-78e3-457c-82fc-2b76be3361f0",
     "showTitle": false,
     "title": ""
    }
   },
   "outputs": [
    {
     "output_type": "execute_result",
     "data": {
      "text/plain": [
       "['tmdb_id',\n",
       " 'title',\n",
       " 'release_date',\n",
       " 'runtime',\n",
       " 'genres',\n",
       " 'keywords',\n",
       " 'overview',\n",
       " 'budget',\n",
       " 'revenue',\n",
       " 'popularity',\n",
       " 'vote_average',\n",
       " 'vote_count',\n",
       " 'updated_at']"
      ]
     },
     "execution_count": 5,
     "metadata": {},
     "output_type": "execute_result"
    }
   ],
   "source": [
    "result = cnx.execute(f\"PRAGMA table_info('movies');\").fetchall()\n",
    "columns = [row[1] for row in result]\n",
    "columns"
   ]
  },
  {
   "cell_type": "code",
   "execution_count": 0,
   "metadata": {
    "application/vnd.databricks.v1+cell": {
     "cellMetadata": {},
     "inputWidgets": {},
     "nuid": "249646ee-7e5f-45a2-b9f6-25961039c0a2",
     "showTitle": false,
     "title": ""
    }
   },
   "outputs": [
    {
     "output_type": "stream",
     "name": "stderr",
     "output_type": "stream",
     "text": [
      "                                                                                \r"
     ]
    },
    {
     "output_type": "stream",
     "name": "stdout",
     "output_type": "stream",
     "text": [
      "root\n |-- tmdb_id: string (nullable = true)\n |-- title: string (nullable = true)\n |-- release_date: date (nullable = true)\n |-- runtime: double (nullable = true)\n |-- genres: array (nullable = true)\n |    |-- element: string (containsNull = true)\n |-- keywords: array (nullable = true)\n |    |-- element: string (containsNull = true)\n |-- overview: string (nullable = true)\n |-- budget: integer (nullable = true)\n |-- revenue: integer (nullable = true)\n |-- popularity: double (nullable = true)\n |-- vote_average: double (nullable = true)\n |-- vote_count: integer (nullable = true)\n |-- updated_at: timestamp (nullable = false)\n\n"
     ]
    },
    {
     "output_type": "stream",
     "name": "stderr",
     "output_type": "stream",
     "text": [
      "[Stage 1:>                                                          (0 + 1) / 1]\r"
     ]
    },
    {
     "output_type": "stream",
     "name": "stdout",
     "output_type": "stream",
     "text": [
      "-RECORD 0----------------------------\n tmdb_id      | 10010                \n title        | Brother Bear 2       \n release_date | 2006-08-17           \n runtime      | 73.0                 \n genres       | [Adventure, Anima... \n keywords     | [grizzly bear, hu... \n overview     | Kenai finds his c... \n budget       | null                 \n revenue      | null                 \n popularity   | 10.861154            \n vote_average | 6.3                  \n vote_count   | 318                  \n updated_at   | 2023-10-21 21:33:... \nonly showing top 1 row\n\n"
     ]
    },
    {
     "output_type": "stream",
     "name": "stderr",
     "output_type": "stream",
     "text": [
      "                                                                                \r"
     ]
    }
   ],
   "source": [
    "movies_spark = spark.read.parquet(\"../data/clean/movies\").withColumn(\"updated_at\", f.lit(datetime.now())).select(columns)\n",
    "movies_spark.printSchema()\n",
    "movies_spark.show(1, vertical=True)"
   ]
  },
  {
   "cell_type": "code",
   "execution_count": 0,
   "metadata": {
    "application/vnd.databricks.v1+cell": {
     "cellMetadata": {},
     "inputWidgets": {},
     "nuid": "0fddb59f-1a2b-4e1d-946b-75d8666a02f3",
     "showTitle": false,
     "title": ""
    }
   },
   "outputs": [
    {
     "output_type": "stream",
     "name": "stdout",
     "output_type": "stream",
     "text": [
      "<class 'pandas.core.frame.DataFrame'>\nRangeIndex: 6918 entries, 0 to 6917\nData columns (total 13 columns):\n #   Column        Non-Null Count  Dtype         \n---  ------        --------------  -----         \n 0   tmdb_id       6918 non-null   object        \n 1   title         6918 non-null   object        \n 2   release_date  6918 non-null   object        \n 3   runtime       6918 non-null   float64       \n 4   genres        6918 non-null   object        \n 5   keywords      6674 non-null   object        \n 6   overview      6918 non-null   object        \n 7   budget        4252 non-null   float64       \n 8   revenue       4252 non-null   float64       \n 9   popularity    6918 non-null   float64       \n 10  vote_average  6914 non-null   float64       \n 11  vote_count    6916 non-null   float64       \n 12  updated_at    6918 non-null   datetime64[ns]\ndtypes: datetime64[ns](1), float64(6), object(6)\nmemory usage: 702.7+ KB\n"
     ]
    }
   ],
   "source": [
    "movies_pandas = movies_spark.toPandas()\n",
    "movies_pandas.info()"
   ]
  },
  {
   "cell_type": "code",
   "execution_count": 0,
   "metadata": {
    "application/vnd.databricks.v1+cell": {
     "cellMetadata": {},
     "inputWidgets": {},
     "nuid": "dd37a976-4ded-409f-a11c-7b2b3d40a4a5",
     "showTitle": false,
     "title": ""
    }
   },
   "outputs": [
    {
     "output_type": "execute_result",
     "data": {
      "text/plain": [
       "<duckdb.duckdb.DuckDBPyConnection at 0x122fceef0>"
      ]
     },
     "execution_count": 8,
     "metadata": {},
     "output_type": "execute_result"
    }
   ],
   "source": [
    "cnx.execute(\"DELETE FROM movies\")\n",
    "cnx.register(\"movies_pandas\", movies_pandas)\n",
    "cnx.execute(\"INSERT INTO movies SELECT * FROM movies_pandas\")\n",
    "cnx.execute(\"CHECKPOINT\")"
   ]
  },
  {
   "cell_type": "markdown",
   "metadata": {
    "application/vnd.databricks.v1+cell": {
     "cellMetadata": {},
     "inputWidgets": {},
     "nuid": "40bd8192-1921-4244-8316-2bb5825146dc",
     "showTitle": false,
     "title": ""
    }
   },
   "source": [
    "#### Populate the `ratings` Table"
   ]
  },
  {
   "cell_type": "code",
   "execution_count": 0,
   "metadata": {
    "application/vnd.databricks.v1+cell": {
     "cellMetadata": {},
     "inputWidgets": {},
     "nuid": "0029bb9a-24e5-4897-9099-d5e1b9f6b3b3",
     "showTitle": false,
     "title": ""
    }
   },
   "outputs": [
    {
     "output_type": "execute_result",
     "data": {
      "text/plain": [
       "['user_id', 'tmdb_id', 'rating', 'updated_at']"
      ]
     },
     "execution_count": 9,
     "metadata": {},
     "output_type": "execute_result"
    }
   ],
   "source": [
    "result = cnx.execute(f\"PRAGMA table_info('ratings');\").fetchall()\n",
    "columns = [row[1] for row in result]\n",
    "columns"
   ]
  },
  {
   "cell_type": "code",
   "execution_count": 0,
   "metadata": {
    "application/vnd.databricks.v1+cell": {
     "cellMetadata": {},
     "inputWidgets": {},
     "nuid": "cd38afd2-a967-42f3-93b9-af4e4a6ed3eb",
     "showTitle": false,
     "title": ""
    }
   },
   "outputs": [
    {
     "output_type": "stream",
     "name": "stdout",
     "output_type": "stream",
     "text": [
      "root\n |-- user_id: string (nullable = true)\n |-- tmdb_id: string (nullable = true)\n |-- rating: double (nullable = true)\n |-- updated_at: timestamp (nullable = false)\n\n"
     ]
    },
    {
     "output_type": "stream",
     "name": "stderr",
     "output_type": "stream",
     "text": [
      "[Stage 6:>                                                          (0 + 1) / 1]\r"
     ]
    },
    {
     "output_type": "stream",
     "name": "stdout",
     "output_type": "stream",
     "text": [
      "+-------+-------+------+--------------------+\n|user_id|tmdb_id|rating|          updated_at|\n+-------+-------+------+--------------------+\n|      1|   9685|   5.0|2023-10-21 21:33:...|\n|    100|    765|   3.5|2023-10-21 21:33:...|\n|  10000|  82690|   5.0|2023-10-21 21:33:...|\n| 100000|    280|   4.0|2023-10-21 21:33:...|\n| 100001|  10158|   4.0|2023-10-21 21:33:...|\n| 100002|  10923|   3.5|2023-10-21 21:33:...|\n| 100002|  11529|   4.0|2023-10-21 21:33:...|\n| 100002|    120|   4.0|2023-10-21 21:33:...|\n| 100002|    121|   4.0|2023-10-21 21:33:...|\n| 100002|  15472|   5.0|2023-10-21 21:33:...|\n+-------+-------+------+--------------------+\nonly showing top 10 rows\n\n"
     ]
    },
    {
     "output_type": "stream",
     "name": "stderr",
     "output_type": "stream",
     "text": [
      "                                                                                \r"
     ]
    }
   ],
   "source": [
    "ratings_spark = spark \\\n",
    "  .read.parquet(\"../data/clean/ratings\") \\\n",
    "  .withColumn(\"updated_at\", f.lit(datetime.now())) \\\n",
    "  .withColumn(\"rank\", f.row_number().over(Window.partitionBy(\"user_id\", \"tmdb_id\").orderBy(f.rand(seed=1492)))) \\\n",
    "  .filter(f.col(\"tmdb_id\").isNotNull()) \\\n",
    "  .filter(f.col(\"rank\") == 1) \\\n",
    "  .select(columns)\n",
    "\n",
    "ratings_spark.printSchema()\n",
    "ratings_spark.show(10)"
   ]
  },
  {
   "cell_type": "code",
   "execution_count": 0,
   "metadata": {
    "application/vnd.databricks.v1+cell": {
     "cellMetadata": {},
     "inputWidgets": {},
     "nuid": "0e6e3e13-0e0a-419c-89ed-71f52c105a51",
     "showTitle": false,
     "title": ""
    }
   },
   "outputs": [],
   "source": [
    "ratings_splits = ratings_spark.randomSplit([0.1] * 10)"
   ]
  },
  {
   "cell_type": "code",
   "execution_count": 0,
   "metadata": {
    "application/vnd.databricks.v1+cell": {
     "cellMetadata": {},
     "inputWidgets": {},
     "nuid": "ac80d15e-77e3-40f1-b3f6-dbc8ac0a3115",
     "showTitle": false,
     "title": ""
    }
   },
   "outputs": [
    {
     "output_type": "stream",
     "name": "stdout",
     "output_type": "stream",
     "text": [
      "split=0\n"
     ]
    },
    {
     "output_type": "stream",
     "name": "stderr",
     "output_type": "stream",
     "text": [
      "                                                                                \r"
     ]
    },
    {
     "output_type": "stream",
     "name": "stdout",
     "output_type": "stream",
     "text": [
      "split=1\n"
     ]
    },
    {
     "output_type": "stream",
     "name": "stderr",
     "output_type": "stream",
     "text": [
      "                                                                                \r"
     ]
    },
    {
     "output_type": "display_data",
     "data": {
      "application/vnd.jupyter.widget-view+json": {
       "model_id": "8d6141badaac4e61962a0ea10d7daa3f",
       "version_major": 2,
       "version_minor": 0
      },
      "text/plain": [
       "FloatProgress(value=0.0, layout=Layout(width='auto'), style=ProgressStyle(bar_color='black'))"
      ]
     },
     "metadata": {},
     "output_type": "display_data"
    },
    {
     "output_type": "stream",
     "name": "stdout",
     "output_type": "stream",
     "text": [
      "split=2\n"
     ]
    },
    {
     "output_type": "stream",
     "name": "stderr",
     "output_type": "stream",
     "text": [
      "                                                                                \r"
     ]
    },
    {
     "output_type": "display_data",
     "data": {
      "application/vnd.jupyter.widget-view+json": {
       "model_id": "c6fe44aada4040008cd35ac27a773832",
       "version_major": 2,
       "version_minor": 0
      },
      "text/plain": [
       "FloatProgress(value=0.0, layout=Layout(width='auto'), style=ProgressStyle(bar_color='black'))"
      ]
     },
     "metadata": {},
     "output_type": "display_data"
    },
    {
     "output_type": "stream",
     "name": "stdout",
     "output_type": "stream",
     "text": [
      "split=3\n"
     ]
    },
    {
     "output_type": "stream",
     "name": "stderr",
     "output_type": "stream",
     "text": [
      "                                                                                \r"
     ]
    },
    {
     "output_type": "display_data",
     "data": {
      "application/vnd.jupyter.widget-view+json": {
       "model_id": "de4a4b5d9c4547cf92318077e2313e05",
       "version_major": 2,
       "version_minor": 0
      },
      "text/plain": [
       "FloatProgress(value=0.0, layout=Layout(width='auto'), style=ProgressStyle(bar_color='black'))"
      ]
     },
     "metadata": {},
     "output_type": "display_data"
    },
    {
     "output_type": "stream",
     "name": "stdout",
     "output_type": "stream",
     "text": [
      "split=4\n"
     ]
    },
    {
     "output_type": "stream",
     "name": "stderr",
     "output_type": "stream",
     "text": [
      "                                                                                \r"
     ]
    },
    {
     "output_type": "display_data",
     "data": {
      "application/vnd.jupyter.widget-view+json": {
       "model_id": "d9a4cbc0b0be4d839fcd22fd942fe9ed",
       "version_major": 2,
       "version_minor": 0
      },
      "text/plain": [
       "FloatProgress(value=0.0, layout=Layout(width='auto'), style=ProgressStyle(bar_color='black'))"
      ]
     },
     "metadata": {},
     "output_type": "display_data"
    },
    {
     "output_type": "stream",
     "name": "stdout",
     "output_type": "stream",
     "text": [
      "split=5\n"
     ]
    },
    {
     "output_type": "stream",
     "name": "stderr",
     "output_type": "stream",
     "text": [
      "                                                                                \r"
     ]
    },
    {
     "output_type": "display_data",
     "data": {
      "application/vnd.jupyter.widget-view+json": {
       "model_id": "56c0cbd3633947419e46bbdbb89816b0",
       "version_major": 2,
       "version_minor": 0
      },
      "text/plain": [
       "FloatProgress(value=0.0, layout=Layout(width='auto'), style=ProgressStyle(bar_color='black'))"
      ]
     },
     "metadata": {},
     "output_type": "display_data"
    },
    {
     "output_type": "stream",
     "name": "stdout",
     "output_type": "stream",
     "text": [
      "split=6\n"
     ]
    },
    {
     "output_type": "stream",
     "name": "stderr",
     "output_type": "stream",
     "text": [
      "                                                                                \r"
     ]
    },
    {
     "output_type": "display_data",
     "data": {
      "application/vnd.jupyter.widget-view+json": {
       "model_id": "34ea27cee32a4a2ab70a3e1250c70605",
       "version_major": 2,
       "version_minor": 0
      },
      "text/plain": [
       "FloatProgress(value=0.0, layout=Layout(width='auto'), style=ProgressStyle(bar_color='black'))"
      ]
     },
     "metadata": {},
     "output_type": "display_data"
    },
    {
     "output_type": "stream",
     "name": "stdout",
     "output_type": "stream",
     "text": [
      "split=7\n"
     ]
    },
    {
     "output_type": "stream",
     "name": "stderr",
     "output_type": "stream",
     "text": [
      "                                                                                \r"
     ]
    },
    {
     "output_type": "display_data",
     "data": {
      "application/vnd.jupyter.widget-view+json": {
       "model_id": "bb27540c56614736b4ca0705528610f6",
       "version_major": 2,
       "version_minor": 0
      },
      "text/plain": [
       "FloatProgress(value=0.0, layout=Layout(width='auto'), style=ProgressStyle(bar_color='black'))"
      ]
     },
     "metadata": {},
     "output_type": "display_data"
    },
    {
     "output_type": "stream",
     "name": "stdout",
     "output_type": "stream",
     "text": [
      "split=8\n"
     ]
    },
    {
     "output_type": "stream",
     "name": "stderr",
     "output_type": "stream",
     "text": [
      "                                                                                \r"
     ]
    },
    {
     "output_type": "display_data",
     "data": {
      "application/vnd.jupyter.widget-view+json": {
       "model_id": "44bda2c1be2b4b468c5463a54f5c4518",
       "version_major": 2,
       "version_minor": 0
      },
      "text/plain": [
       "FloatProgress(value=0.0, layout=Layout(width='auto'), style=ProgressStyle(bar_color='black'))"
      ]
     },
     "metadata": {},
     "output_type": "display_data"
    },
    {
     "output_type": "stream",
     "name": "stdout",
     "output_type": "stream",
     "text": [
      "split=9\n"
     ]
    },
    {
     "output_type": "stream",
     "name": "stderr",
     "output_type": "stream",
     "text": [
      "                                                                                \r"
     ]
    },
    {
     "output_type": "display_data",
     "data": {
      "application/vnd.jupyter.widget-view+json": {
       "model_id": "12533e64b49d442284123f05931c6188",
       "version_major": 2,
       "version_minor": 0
      },
      "text/plain": [
       "FloatProgress(value=0.0, layout=Layout(width='auto'), style=ProgressStyle(bar_color='black'))"
      ]
     },
     "metadata": {},
     "output_type": "display_data"
    },
    {
     "output_type": "execute_result",
     "data": {
      "text/plain": [
       "<duckdb.duckdb.DuckDBPyConnection at 0x122fceef0>"
      ]
     },
     "execution_count": 13,
     "metadata": {},
     "output_type": "execute_result"
    }
   ],
   "source": [
    "cnx.execute(\"DELETE FROM ratings\")\n",
    "for i, split in enumerate(ratings_splits):\n",
    "    print(f\"split={i}\")\n",
    "    ratings_pandas = split.toPandas()\n",
    "    cnx.register(\"ratings_pandas\", ratings_pandas)\n",
    "    cnx.execute(\"INSERT INTO ratings SELECT * FROM ratings_pandas\")\n",
    "cnx.execute(\"CHECKPOINT\")"
   ]
  },
  {
   "cell_type": "markdown",
   "metadata": {
    "application/vnd.databricks.v1+cell": {
     "cellMetadata": {},
     "inputWidgets": {},
     "nuid": "6707f6bf-012a-4188-8e0e-1d23e9f90665",
     "showTitle": false,
     "title": ""
    }
   },
   "source": [
    "#### Populate the `users` Table"
   ]
  },
  {
   "cell_type": "code",
   "execution_count": 0,
   "metadata": {
    "application/vnd.databricks.v1+cell": {
     "cellMetadata": {},
     "inputWidgets": {},
     "nuid": "3fb1d999-4fee-4d2a-a0a6-4ac2b94b8d27",
     "showTitle": false,
     "title": ""
    }
   },
   "outputs": [
    {
     "output_type": "execute_result",
     "data": {
      "text/plain": [
       "['user_id', 'fname', 'lname', 'email', 'updated_at']"
      ]
     },
     "execution_count": 14,
     "metadata": {},
     "output_type": "execute_result"
    }
   ],
   "source": [
    "result = cnx.execute(f\"PRAGMA table_info('users');\").fetchall()\n",
    "columns = [row[1] for row in result]\n",
    "columns"
   ]
  },
  {
   "cell_type": "code",
   "execution_count": 0,
   "metadata": {
    "application/vnd.databricks.v1+cell": {
     "cellMetadata": {},
     "inputWidgets": {},
     "nuid": "94923155-73a6-4271-8fd9-662c12a14afb",
     "showTitle": false,
     "title": ""
    }
   },
   "outputs": [
    {
     "output_type": "stream",
     "name": "stderr",
     "output_type": "stream",
     "text": [
      "                                                                                \r"
     ]
    },
    {
     "output_type": "stream",
     "name": "stdout",
     "output_type": "stream",
     "text": [
      "+-------+---------+---------+--------------------+--------------------+\n|user_id|    fname|    lname|               email|          updated_at|\n+-------+---------+---------+--------------------+--------------------+\n| 100010|ANONYMOUS|ANONYMOUS|ANONYMOUS@ANONYMO...|2023-10-21 21:50:...|\n| 100140|ANONYMOUS|ANONYMOUS|ANONYMOUS@ANONYMO...|2023-10-21 21:50:...|\n| 100227|ANONYMOUS|ANONYMOUS|ANONYMOUS@ANONYMO...|2023-10-21 21:50:...|\n| 100263|ANONYMOUS|ANONYMOUS|ANONYMOUS@ANONYMO...|2023-10-21 21:50:...|\n| 100320|ANONYMOUS|ANONYMOUS|ANONYMOUS@ANONYMO...|2023-10-21 21:50:...|\n| 100553|ANONYMOUS|ANONYMOUS|ANONYMOUS@ANONYMO...|2023-10-21 21:50:...|\n| 100704|ANONYMOUS|ANONYMOUS|ANONYMOUS@ANONYMO...|2023-10-21 21:50:...|\n| 100735|ANONYMOUS|ANONYMOUS|ANONYMOUS@ANONYMO...|2023-10-21 21:50:...|\n| 100768|ANONYMOUS|ANONYMOUS|ANONYMOUS@ANONYMO...|2023-10-21 21:50:...|\n|  10096|ANONYMOUS|ANONYMOUS|ANONYMOUS@ANONYMO...|2023-10-21 21:50:...|\n+-------+---------+---------+--------------------+--------------------+\nonly showing top 10 rows\n\n"
     ]
    },
    {
     "output_type": "stream",
     "name": "stderr",
     "output_type": "stream",
     "text": [
      "                                                                                \r"
     ]
    },
    {
     "output_type": "execute_result",
     "data": {
      "text/plain": [
       "270888"
      ]
     },
     "execution_count": 17,
     "metadata": {},
     "output_type": "execute_result"
    }
   ],
   "source": [
    "users_spark = ratings_spark \\\n",
    "    .select('user_id') \\\n",
    "    .distinct() \\\n",
    "    .withColumn(\"fname\", f.lit(\"ANONYMOUS\")) \\\n",
    "    .withColumn(\"lname\", f.lit(\"ANONYMOUS\")) \\\n",
    "    .withColumn(\"email\", f.lit(\"ANONYMOUS@ANONYMOUS.COM\")) \\\n",
    "    .withColumn(\"updated_at\", f.lit(datetime.now())) \\\n",
    "    .select(columns)\n",
    "\n",
    "users_spark.show(10)\n",
    "users_spark.count()"
   ]
  },
  {
   "cell_type": "code",
   "execution_count": 0,
   "metadata": {
    "application/vnd.databricks.v1+cell": {
     "cellMetadata": {},
     "inputWidgets": {},
     "nuid": "0fc69771-cdc0-4e10-8bab-0fe81201640c",
     "showTitle": false,
     "title": ""
    }
   },
   "outputs": [
    {
     "output_type": "stream",
     "name": "stderr",
     "output_type": "stream",
     "text": [
      "                                                                                \r"
     ]
    },
    {
     "output_type": "stream",
     "name": "stdout",
     "output_type": "stream",
     "text": [
      "<class 'pandas.core.frame.DataFrame'>\nRangeIndex: 270888 entries, 0 to 270887\nData columns (total 5 columns):\n #   Column      Non-Null Count   Dtype         \n---  ------      --------------   -----         \n 0   user_id     270888 non-null  object        \n 1   fname       270888 non-null  object        \n 2   lname       270888 non-null  object        \n 3   email       270888 non-null  object        \n 4   updated_at  270888 non-null  datetime64[ns]\ndtypes: datetime64[ns](1), object(4)\nmemory usage: 10.3+ MB\n"
     ]
    }
   ],
   "source": [
    "users_pandas = users_spark.toPandas()\n",
    "users_pandas.info()"
   ]
  },
  {
   "cell_type": "code",
   "execution_count": 0,
   "metadata": {
    "application/vnd.databricks.v1+cell": {
     "cellMetadata": {},
     "inputWidgets": {},
     "nuid": "0ddd3244-5c5f-43b2-9507-77bbe3df4db0",
     "showTitle": false,
     "title": ""
    }
   },
   "outputs": [
    {
     "output_type": "execute_result",
     "data": {
      "text/plain": [
       "<duckdb.duckdb.DuckDBPyConnection at 0x122fceef0>"
      ]
     },
     "execution_count": 19,
     "metadata": {},
     "output_type": "execute_result"
    }
   ],
   "source": [
    "cnx.execute(\"DELETE FROM users\")\n",
    "cnx.register(\"users_pandas\", users_pandas)\n",
    "cnx.execute(\"INSERT INTO users SELECT * FROM users_pandas\")\n",
    "cnx.execute(\"CHECKPOINT\")"
   ]
  },
  {
   "cell_type": "markdown",
   "metadata": {
    "application/vnd.databricks.v1+cell": {
     "cellMetadata": {},
     "inputWidgets": {},
     "nuid": "676423d6-2699-49d0-ba9a-0e8f6e0bb4fd",
     "showTitle": false,
     "title": ""
    }
   },
   "source": [
    "#### Close the Connection to Flush Changes to the Database"
   ]
  },
  {
   "cell_type": "code",
   "execution_count": 0,
   "metadata": {
    "application/vnd.databricks.v1+cell": {
     "cellMetadata": {},
     "inputWidgets": {},
     "nuid": "03921348-01a1-416d-b41f-a29d4dd372ec",
     "showTitle": false,
     "title": ""
    }
   },
   "outputs": [],
   "source": [
    "cnx.close()"
   ]
  },
  {
   "cell_type": "markdown",
   "metadata": {
    "application/vnd.databricks.v1+cell": {
     "cellMetadata": {},
     "inputWidgets": {},
     "nuid": "69e90657-2627-47e6-8bc0-c373c9f1d850",
     "showTitle": false,
     "title": ""
    }
   },
   "source": [
    "### Test Out Query Functionality Using SQLAlchemy"
   ]
  },
  {
   "cell_type": "code",
   "execution_count": 0,
   "metadata": {
    "application/vnd.databricks.v1+cell": {
     "cellMetadata": {},
     "inputWidgets": {},
     "nuid": "33043ae8-3d6a-49b2-9ff4-acad0ff60837",
     "showTitle": false,
     "title": ""
    }
   },
   "outputs": [],
   "source": [
    "from sqlalchemy import create_engine, MetaData, Table, select, text"
   ]
  },
  {
   "cell_type": "code",
   "execution_count": 0,
   "metadata": {
    "application/vnd.databricks.v1+cell": {
     "cellMetadata": {},
     "inputWidgets": {},
     "nuid": "f86f176e-fc96-44f1-b4cb-3ffd38cdecdb",
     "showTitle": false,
     "title": ""
    }
   },
   "outputs": [
    {
     "output_type": "stream",
     "name": "stdout",
     "output_type": "stream",
     "text": [
      "('10010', 'Brother Bear 2', datetime.date(2006, 8, 17), 73.0, ['Adventure', 'Animation', 'Family'], ['grizzly bear', 'human animal relationship', 'forest', 'hibernation', 'moose'], \"Kenai finds his childhood human friend Nita and the two embark on a journey to burn the amulet he gave to her before he was a bear, much to Koda's dismay.\", None, None, 10.861154, 6.3, 318, datetime.datetime(2023, 10, 21, 21, 33, 48, 25511))\n('10012', 'Cursed', datetime.date(2005, 2, 25), 97.0, ['Horror', 'Comedy'], ['brother sister relationship', 'bite', 'transformation', 'supernatural powers', 'werewolf'], 'A werewolf loose in Los Angeles changes the lives of three young adults, who, after being mauled by the beast, learn they must kill their attacker if they hope to change their fate to avoid becoming werewolves too.', 35000000, 19294901, 8.949722, 5.1, 168, datetime.datetime(2023, 10, 21, 21, 33, 48, 25511))\n('100402', 'Captain America: The Winter Soldier', datetime.date(2014, 3, 20), 136.0, ['Action', 'Adventure', 'Science Fiction'], ['washington d.c.', 'future', 'shield', 'marvel comic', 'superhero', 'based on comic', 'captain america', 'aftercreditsstinger', 'duringcreditsstinger', 'marvel cinematic universe', '3d', 'political thriller'], 'After the cataclysmic events in New York with The Avengers, Steve Rogers, aka Captain America is living quietly in Washington, D.C. and trying to adj ... (430 characters truncated) ... Widow enlist the help of a new ally, the Falcon. However, they soon find themselves up against an unexpected and formidable enemy—the Winter Soldier.', 170000000, 714766572, 18.717704, 7.6, 5881, datetime.datetime(2023, 10, 21, 21, 33, 48, 25511))\n('10068', 'Nine 1/2 Weeks', datetime.date(1986, 2, 14), 117.0, ['Drama', 'Romance'], None, 'An erotic story about a woman, the assistant of an art gallery, who gets involved in an impersonal affair with a man. She barely knows about his life, only about the sex games they play, so the relationship begins to get complicated.', 17000000, 6735922, 6.706262, 5.8, 183, datetime.datetime(2023, 10, 21, 21, 33, 48, 25511))\n('10096', '13 Going on 30', datetime.date(2004, 4, 13), 98.0, ['Comedy', 'Fantasy', 'Romance'], ['new york', 'photographer', 'editor-in-chief', 'wish', 'michael jackson', 'child as an adult', 'best friends in love'], \"After total humiliation at her thirteenth birthday party, Jenna Rink wants to just hide until she's thirty. With a little magic, her wish is granted, but it turns out that being thirty isn't as always as awesome as she thought it would be!\", 37000000, 96455697, 12.632595, 6.3, 1260, datetime.datetime(2023, 10, 21, 21, 33, 48, 25511))\n"
     ]
    }
   ],
   "source": [
    "engine = create_engine(f\"duckdb:///../app/database.duckdb\")\n",
    "with engine.connect() as cnx:\n",
    "    result = cnx.execute(text(\"SELECT * FROM movies LIMIT 5\"))\n",
    "    for row in result:\n",
    "        print(row)"
   ]
  },
  {
   "cell_type": "code",
   "execution_count": 0,
   "metadata": {
    "application/vnd.databricks.v1+cell": {
     "cellMetadata": {},
     "inputWidgets": {},
     "nuid": "9ee579c8-875f-41da-ac31-5bf8eed0f960",
     "showTitle": false,
     "title": ""
    }
   },
   "outputs": [],
   "source": [
    "cnx.close()"
   ]
  },
  {
   "cell_type": "code",
   "execution_count": 0,
   "metadata": {
    "application/vnd.databricks.v1+cell": {
     "cellMetadata": {},
     "inputWidgets": {},
     "nuid": "56f28c65-6191-496e-80af-3886e98d9a88",
     "showTitle": false,
     "title": ""
    }
   },
   "outputs": [],
   "source": []
  }
 ],
 "metadata": {
  "application/vnd.databricks.v1+notebook": {
   "dashboards": [],
   "language": "python",
   "notebookMetadata": {
    "pythonIndentUnit": 4
   },
   "notebookName": "populate-database",
   "widgets": {}
  },
  "kernelspec": {
   "display_name": "Python 3 (ipykernel)",
   "language": "python",
   "name": "python3"
  },
  "language_info": {
   "codemirror_mode": {
    "name": "ipython",
    "version": 3
   },
   "file_extension": ".py",
   "mimetype": "text/x-python",
   "name": "python",
   "nbconvert_exporter": "python",
   "pygments_lexer": "ipython3",
   "version": "3.9.16"
  }
 },
 "nbformat": 4,
 "nbformat_minor": 0
}
