{
 "cells": [
  {
   "cell_type": "markdown",
   "metadata": {
    "application/vnd.databricks.v1+cell": {
     "cellMetadata": {},
     "inputWidgets": {},
     "nuid": "bb601ce6-f290-42ea-90a6-ca550d38e3ca",
     "showTitle": false,
     "title": ""
    }
   },
   "source": [
    "### Notebook Set-Up"
   ]
  },
  {
   "cell_type": "markdown",
   "metadata": {
    "application/vnd.databricks.v1+cell": {
     "cellMetadata": {},
     "inputWidgets": {},
     "nuid": "d89d1a2f-ce6b-4b4e-8779-eb60c1c7676d",
     "showTitle": false,
     "title": ""
    }
   },
   "source": [
    "#### Import Required Modules"
   ]
  },
  {
   "cell_type": "code",
   "execution_count": null,
   "metadata": {
    "application/vnd.databricks.v1+cell": {
     "cellMetadata": {
      "byteLimit": 2048000,
      "rowLimit": 10000
     },
     "inputWidgets": {},
     "nuid": "6c0275d4-0791-4bc1-b740-7754bfe76f27",
     "showTitle": false,
     "title": ""
    }
   },
   "outputs": [],
   "source": [
    "# %pip install sqlalchemy duckdb duckdb-engine cloud-sql-python-connector[pg8000]"
   ]
  },
  {
   "cell_type": "code",
   "execution_count": 1,
   "metadata": {
    "application/vnd.databricks.v1+cell": {
     "cellMetadata": {
      "byteLimit": 2048000,
      "rowLimit": 10000
     },
     "inputWidgets": {},
     "nuid": "7ad92141-2202-40f0-8029-bebb8b63e18b",
     "showTitle": false,
     "title": ""
    }
   },
   "outputs": [],
   "source": [
    "import os\n",
    "import sys\n",
    "import csv\n",
    "import json\n",
    "import duckdb\n",
    "\n",
    "from typing import List, Dict\n",
    "from dotenv import load_dotenv\n",
    "from datetime import datetime\n",
    "\n",
    "import numpy as np\n",
    "import pandas as pd\n",
    "\n",
    "# from pyspark.sql import SparkSession\n",
    "# from pyspark.sql import functions as f\n",
    "# from pyspark.sql.window import Window"
   ]
  },
  {
   "cell_type": "markdown",
   "metadata": {
    "application/vnd.databricks.v1+cell": {
     "cellMetadata": {},
     "inputWidgets": {},
     "nuid": "3c66a3f9-fe90-46e2-ae65-5100be81faf0",
     "showTitle": false,
     "title": ""
    }
   },
   "source": [
    "#### Load Secrets as Environment Variables"
   ]
  },
  {
   "cell_type": "code",
   "execution_count": 2,
   "metadata": {
    "application/vnd.databricks.v1+cell": {
     "cellMetadata": {
      "byteLimit": 2048000,
      "rowLimit": 10000
     },
     "inputWidgets": {},
     "nuid": "34c6e1a3-0a28-4d1b-92aa-659c6b047bd2",
     "showTitle": false,
     "title": ""
    }
   },
   "outputs": [
    {
     "data": {
      "text/plain": [
       "True"
      ]
     },
     "execution_count": 2,
     "metadata": {},
     "output_type": "execute_result"
    }
   ],
   "source": [
    "load_dotenv()"
   ]
  },
  {
   "cell_type": "markdown",
   "metadata": {
    "application/vnd.databricks.v1+cell": {
     "cellMetadata": {},
     "inputWidgets": {},
     "nuid": "5870cbce-ba16-4855-a63d-67980c8d7b86",
     "showTitle": false,
     "title": ""
    }
   },
   "source": [
    "#### Set Workflow Constants"
   ]
  },
  {
   "cell_type": "code",
   "execution_count": 3,
   "metadata": {
    "application/vnd.databricks.v1+cell": {
     "cellMetadata": {
      "byteLimit": 2048000,
      "rowLimit": 10000
     },
     "inputWidgets": {},
     "nuid": "826f1837-ac90-4994-8645-70638b65e705",
     "showTitle": false,
     "title": ""
    }
   },
   "outputs": [],
   "source": [
    "RAW_PATH = \"dbfs:/FileStore/data/raw\"\n",
    "CLN_PATH = \"dbfs:/FileStore/data/clean\"\n",
    "JSON_PATH = \"../data/json\""
   ]
  },
  {
   "cell_type": "markdown",
   "metadata": {
    "application/vnd.databricks.v1+cell": {
     "cellMetadata": {},
     "inputWidgets": {},
     "nuid": "593c60a3-4a4a-46c8-8c57-6225a762f084",
     "showTitle": false,
     "title": ""
    }
   },
   "source": [
    "### Load Static Data into the Application Database"
   ]
  },
  {
   "cell_type": "markdown",
   "metadata": {
    "application/vnd.databricks.v1+cell": {
     "cellMetadata": {},
     "inputWidgets": {},
     "nuid": "029d9321-eb55-438d-beab-c0350c48cf71",
     "showTitle": false,
     "title": ""
    }
   },
   "source": [
    "#### Import Static Data in JSONLines Format"
   ]
  },
  {
   "cell_type": "code",
   "execution_count": 4,
   "metadata": {
    "application/vnd.databricks.v1+cell": {
     "cellMetadata": {},
     "inputWidgets": {},
     "nuid": "8e66479f-a61b-4a55-9e40-fd7248e8036b",
     "showTitle": false,
     "title": ""
    }
   },
   "outputs": [
    {
     "data": {
      "text/html": [
       "<div>\n",
       "<style scoped>\n",
       "    .dataframe tbody tr th:only-of-type {\n",
       "        vertical-align: middle;\n",
       "    }\n",
       "\n",
       "    .dataframe tbody tr th {\n",
       "        vertical-align: top;\n",
       "    }\n",
       "\n",
       "    .dataframe thead th {\n",
       "        text-align: right;\n",
       "    }\n",
       "</style>\n",
       "<table border=\"1\" class=\"dataframe\">\n",
       "  <thead>\n",
       "    <tr style=\"text-align: right;\">\n",
       "      <th></th>\n",
       "      <th>user_id</th>\n",
       "      <th>email</th>\n",
       "      <th>hashed_password</th>\n",
       "      <th>fname</th>\n",
       "      <th>lname</th>\n",
       "      <th>updated_at</th>\n",
       "    </tr>\n",
       "  </thead>\n",
       "  <tbody>\n",
       "    <tr>\n",
       "      <th>0</th>\n",
       "      <td>467</td>\n",
       "      <td>ANONYMOUS@ANONYMOUS.COM</td>\n",
       "      <td>37dac418e085726bf77f285c48558dcf9b3486ed184386...</td>\n",
       "      <td>ANONYMOUS</td>\n",
       "      <td>ANONYMOUS</td>\n",
       "      <td>2023-10-24 21:38:29.594000+00:00</td>\n",
       "    </tr>\n",
       "    <tr>\n",
       "      <th>1</th>\n",
       "      <td>296</td>\n",
       "      <td>ANONYMOUS@ANONYMOUS.COM</td>\n",
       "      <td>37dac418e085726bf77f285c48558dcf9b3486ed184386...</td>\n",
       "      <td>ANONYMOUS</td>\n",
       "      <td>ANONYMOUS</td>\n",
       "      <td>2023-10-24 21:38:29.594000+00:00</td>\n",
       "    </tr>\n",
       "    <tr>\n",
       "      <th>2</th>\n",
       "      <td>125</td>\n",
       "      <td>ANONYMOUS@ANONYMOUS.COM</td>\n",
       "      <td>37dac418e085726bf77f285c48558dcf9b3486ed184386...</td>\n",
       "      <td>ANONYMOUS</td>\n",
       "      <td>ANONYMOUS</td>\n",
       "      <td>2023-10-24 21:38:29.594000+00:00</td>\n",
       "    </tr>\n",
       "    <tr>\n",
       "      <th>3</th>\n",
       "      <td>451</td>\n",
       "      <td>ANONYMOUS@ANONYMOUS.COM</td>\n",
       "      <td>37dac418e085726bf77f285c48558dcf9b3486ed184386...</td>\n",
       "      <td>ANONYMOUS</td>\n",
       "      <td>ANONYMOUS</td>\n",
       "      <td>2023-10-24 21:38:29.594000+00:00</td>\n",
       "    </tr>\n",
       "    <tr>\n",
       "      <th>4</th>\n",
       "      <td>51</td>\n",
       "      <td>ANONYMOUS@ANONYMOUS.COM</td>\n",
       "      <td>37dac418e085726bf77f285c48558dcf9b3486ed184386...</td>\n",
       "      <td>ANONYMOUS</td>\n",
       "      <td>ANONYMOUS</td>\n",
       "      <td>2023-10-24 21:38:29.594000+00:00</td>\n",
       "    </tr>\n",
       "  </tbody>\n",
       "</table>\n",
       "</div>"
      ],
      "text/plain": [
       "   user_id                    email  \\\n",
       "0      467  ANONYMOUS@ANONYMOUS.COM   \n",
       "1      296  ANONYMOUS@ANONYMOUS.COM   \n",
       "2      125  ANONYMOUS@ANONYMOUS.COM   \n",
       "3      451  ANONYMOUS@ANONYMOUS.COM   \n",
       "4       51  ANONYMOUS@ANONYMOUS.COM   \n",
       "\n",
       "                                     hashed_password      fname      lname  \\\n",
       "0  37dac418e085726bf77f285c48558dcf9b3486ed184386...  ANONYMOUS  ANONYMOUS   \n",
       "1  37dac418e085726bf77f285c48558dcf9b3486ed184386...  ANONYMOUS  ANONYMOUS   \n",
       "2  37dac418e085726bf77f285c48558dcf9b3486ed184386...  ANONYMOUS  ANONYMOUS   \n",
       "3  37dac418e085726bf77f285c48558dcf9b3486ed184386...  ANONYMOUS  ANONYMOUS   \n",
       "4  37dac418e085726bf77f285c48558dcf9b3486ed184386...  ANONYMOUS  ANONYMOUS   \n",
       "\n",
       "                        updated_at  \n",
       "0 2023-10-24 21:38:29.594000+00:00  \n",
       "1 2023-10-24 21:38:29.594000+00:00  \n",
       "2 2023-10-24 21:38:29.594000+00:00  \n",
       "3 2023-10-24 21:38:29.594000+00:00  \n",
       "4 2023-10-24 21:38:29.594000+00:00  "
      ]
     },
     "execution_count": 4,
     "metadata": {},
     "output_type": "execute_result"
    }
   ],
   "source": [
    "users = pd.read_json(os.path.join(JSON_PATH, \"users.json\"), orient=\"records\", lines=True)\n",
    "users.head()"
   ]
  },
  {
   "cell_type": "code",
   "execution_count": 5,
   "metadata": {},
   "outputs": [
    {
     "data": {
      "text/html": [
       "<div>\n",
       "<style scoped>\n",
       "    .dataframe tbody tr th:only-of-type {\n",
       "        vertical-align: middle;\n",
       "    }\n",
       "\n",
       "    .dataframe tbody tr th {\n",
       "        vertical-align: top;\n",
       "    }\n",
       "\n",
       "    .dataframe thead th {\n",
       "        text-align: right;\n",
       "    }\n",
       "</style>\n",
       "<table border=\"1\" class=\"dataframe\">\n",
       "  <thead>\n",
       "    <tr style=\"text-align: right;\">\n",
       "      <th></th>\n",
       "      <th>tmdb_id</th>\n",
       "      <th>tmdb_homepage</th>\n",
       "      <th>title</th>\n",
       "      <th>language</th>\n",
       "      <th>release_date</th>\n",
       "      <th>runtime</th>\n",
       "      <th>director</th>\n",
       "      <th>actors</th>\n",
       "      <th>genres</th>\n",
       "      <th>keywords</th>\n",
       "      <th>overview</th>\n",
       "      <th>budget</th>\n",
       "      <th>revenue</th>\n",
       "      <th>popularity</th>\n",
       "      <th>vote_average</th>\n",
       "      <th>vote_count</th>\n",
       "      <th>updated_at</th>\n",
       "    </tr>\n",
       "  </thead>\n",
       "  <tbody>\n",
       "    <tr>\n",
       "      <th>0</th>\n",
       "      <td>5</td>\n",
       "      <td>https://www.themoviedb.org/movie/5</td>\n",
       "      <td>Four Rooms</td>\n",
       "      <td>en</td>\n",
       "      <td>1995-12-09</td>\n",
       "      <td>98</td>\n",
       "      <td>Allison Anders</td>\n",
       "      <td>[Tim Roth, Jennifer Beals, Antonio Banderas, V...</td>\n",
       "      <td>[Comedy]</td>\n",
       "      <td>[hotel, new year's eve, witch, bet, hotel room...</td>\n",
       "      <td>It's Ted the Bellhop's first night on the job....</td>\n",
       "      <td>4000000</td>\n",
       "      <td>4257354</td>\n",
       "      <td>21.138</td>\n",
       "      <td>5.789</td>\n",
       "      <td>2443</td>\n",
       "      <td>2023-10-24 21:38:29.594000+00:00</td>\n",
       "    </tr>\n",
       "    <tr>\n",
       "      <th>1</th>\n",
       "      <td>11</td>\n",
       "      <td>https://www.themoviedb.org/movie/11</td>\n",
       "      <td>Star Wars</td>\n",
       "      <td>en</td>\n",
       "      <td>1977-05-25</td>\n",
       "      <td>121</td>\n",
       "      <td>George Lucas</td>\n",
       "      <td>[Mark Hamill, Harrison Ford, Carrie Fisher, Pe...</td>\n",
       "      <td>[Adventure, Action, Science Fiction]</td>\n",
       "      <td>[android, galaxy, hermit, smuggling (contraban...</td>\n",
       "      <td>Princess Leia is captured and held hostage by ...</td>\n",
       "      <td>11000000</td>\n",
       "      <td>775398007</td>\n",
       "      <td>88.613</td>\n",
       "      <td>8.204</td>\n",
       "      <td>19236</td>\n",
       "      <td>2023-10-24 21:38:29.594000+00:00</td>\n",
       "    </tr>\n",
       "    <tr>\n",
       "      <th>2</th>\n",
       "      <td>12</td>\n",
       "      <td>https://www.themoviedb.org/movie/12</td>\n",
       "      <td>Finding Nemo</td>\n",
       "      <td>en</td>\n",
       "      <td>2003-05-30</td>\n",
       "      <td>100</td>\n",
       "      <td>Andrew Stanton</td>\n",
       "      <td>[Albert Brooks, Ellen DeGeneres, Alexander Gou...</td>\n",
       "      <td>[Animation, Family]</td>\n",
       "      <td>[parent child relationship, sydney, australia,...</td>\n",
       "      <td>Nemo, an adventurous young clownfish, is unexp...</td>\n",
       "      <td>94000000</td>\n",
       "      <td>940335536</td>\n",
       "      <td>92.459</td>\n",
       "      <td>7.824</td>\n",
       "      <td>18132</td>\n",
       "      <td>2023-10-24 21:38:29.594000+00:00</td>\n",
       "    </tr>\n",
       "    <tr>\n",
       "      <th>3</th>\n",
       "      <td>13</td>\n",
       "      <td>https://www.themoviedb.org/movie/13</td>\n",
       "      <td>Forrest Gump</td>\n",
       "      <td>en</td>\n",
       "      <td>1994-06-23</td>\n",
       "      <td>142</td>\n",
       "      <td>Robert Zemeckis</td>\n",
       "      <td>[Tom Hanks, Robin Wright, Gary Sinise, Sally F...</td>\n",
       "      <td>[Comedy, Drama, Romance]</td>\n",
       "      <td>[vietnam veteran, post-traumatic stress disord...</td>\n",
       "      <td>A man with a low IQ has accomplished great thi...</td>\n",
       "      <td>55000000</td>\n",
       "      <td>677387716</td>\n",
       "      <td>84.723</td>\n",
       "      <td>8.477</td>\n",
       "      <td>25544</td>\n",
       "      <td>2023-10-24 21:38:29.594000+00:00</td>\n",
       "    </tr>\n",
       "    <tr>\n",
       "      <th>4</th>\n",
       "      <td>14</td>\n",
       "      <td>https://www.themoviedb.org/movie/14</td>\n",
       "      <td>American Beauty</td>\n",
       "      <td>en</td>\n",
       "      <td>1999-09-15</td>\n",
       "      <td>122</td>\n",
       "      <td>Sam Mendes</td>\n",
       "      <td>[Kevin Spacey, Annette Bening, Thora Birch, We...</td>\n",
       "      <td>[Drama]</td>\n",
       "      <td>[adultery, age difference, parent child relati...</td>\n",
       "      <td>Lester Burnham, a depressed suburban father in...</td>\n",
       "      <td>15000000</td>\n",
       "      <td>356296601</td>\n",
       "      <td>35.477</td>\n",
       "      <td>8.021</td>\n",
       "      <td>11317</td>\n",
       "      <td>2023-10-24 21:38:29.594000+00:00</td>\n",
       "    </tr>\n",
       "  </tbody>\n",
       "</table>\n",
       "</div>"
      ],
      "text/plain": [
       "   tmdb_id                        tmdb_homepage            title language  \\\n",
       "0        5   https://www.themoviedb.org/movie/5       Four Rooms       en   \n",
       "1       11  https://www.themoviedb.org/movie/11        Star Wars       en   \n",
       "2       12  https://www.themoviedb.org/movie/12     Finding Nemo       en   \n",
       "3       13  https://www.themoviedb.org/movie/13     Forrest Gump       en   \n",
       "4       14  https://www.themoviedb.org/movie/14  American Beauty       en   \n",
       "\n",
       "  release_date  runtime         director  \\\n",
       "0   1995-12-09       98   Allison Anders   \n",
       "1   1977-05-25      121     George Lucas   \n",
       "2   2003-05-30      100   Andrew Stanton   \n",
       "3   1994-06-23      142  Robert Zemeckis   \n",
       "4   1999-09-15      122       Sam Mendes   \n",
       "\n",
       "                                              actors  \\\n",
       "0  [Tim Roth, Jennifer Beals, Antonio Banderas, V...   \n",
       "1  [Mark Hamill, Harrison Ford, Carrie Fisher, Pe...   \n",
       "2  [Albert Brooks, Ellen DeGeneres, Alexander Gou...   \n",
       "3  [Tom Hanks, Robin Wright, Gary Sinise, Sally F...   \n",
       "4  [Kevin Spacey, Annette Bening, Thora Birch, We...   \n",
       "\n",
       "                                 genres  \\\n",
       "0                              [Comedy]   \n",
       "1  [Adventure, Action, Science Fiction]   \n",
       "2                   [Animation, Family]   \n",
       "3              [Comedy, Drama, Romance]   \n",
       "4                               [Drama]   \n",
       "\n",
       "                                            keywords  \\\n",
       "0  [hotel, new year's eve, witch, bet, hotel room...   \n",
       "1  [android, galaxy, hermit, smuggling (contraban...   \n",
       "2  [parent child relationship, sydney, australia,...   \n",
       "3  [vietnam veteran, post-traumatic stress disord...   \n",
       "4  [adultery, age difference, parent child relati...   \n",
       "\n",
       "                                            overview    budget    revenue  \\\n",
       "0  It's Ted the Bellhop's first night on the job....   4000000    4257354   \n",
       "1  Princess Leia is captured and held hostage by ...  11000000  775398007   \n",
       "2  Nemo, an adventurous young clownfish, is unexp...  94000000  940335536   \n",
       "3  A man with a low IQ has accomplished great thi...  55000000  677387716   \n",
       "4  Lester Burnham, a depressed suburban father in...  15000000  356296601   \n",
       "\n",
       "   popularity  vote_average  vote_count                       updated_at  \n",
       "0      21.138         5.789        2443 2023-10-24 21:38:29.594000+00:00  \n",
       "1      88.613         8.204       19236 2023-10-24 21:38:29.594000+00:00  \n",
       "2      92.459         7.824       18132 2023-10-24 21:38:29.594000+00:00  \n",
       "3      84.723         8.477       25544 2023-10-24 21:38:29.594000+00:00  \n",
       "4      35.477         8.021       11317 2023-10-24 21:38:29.594000+00:00  "
      ]
     },
     "execution_count": 5,
     "metadata": {},
     "output_type": "execute_result"
    }
   ],
   "source": [
    "movies = pd.read_json(os.path.join(JSON_PATH, \"movies.json\"), orient=\"records\", lines=True)\n",
    "movies.head()"
   ]
  },
  {
   "cell_type": "code",
   "execution_count": 6,
   "metadata": {},
   "outputs": [
    {
     "data": {
      "text/html": [
       "<div>\n",
       "<style scoped>\n",
       "    .dataframe tbody tr th:only-of-type {\n",
       "        vertical-align: middle;\n",
       "    }\n",
       "\n",
       "    .dataframe tbody tr th {\n",
       "        vertical-align: top;\n",
       "    }\n",
       "\n",
       "    .dataframe thead th {\n",
       "        text-align: right;\n",
       "    }\n",
       "</style>\n",
       "<table border=\"1\" class=\"dataframe\">\n",
       "  <thead>\n",
       "    <tr style=\"text-align: right;\">\n",
       "      <th></th>\n",
       "      <th>user_id</th>\n",
       "      <th>tmdb_id</th>\n",
       "      <th>rating</th>\n",
       "      <th>updated_at</th>\n",
       "    </tr>\n",
       "  </thead>\n",
       "  <tbody>\n",
       "    <tr>\n",
       "      <th>0</th>\n",
       "      <td>304</td>\n",
       "      <td>1572</td>\n",
       "      <td>4.0</td>\n",
       "      <td>2023-10-24 21:38:29.594000+00:00</td>\n",
       "    </tr>\n",
       "    <tr>\n",
       "      <th>1</th>\n",
       "      <td>469</td>\n",
       "      <td>2108</td>\n",
       "      <td>5.0</td>\n",
       "      <td>2023-10-24 21:38:29.594000+00:00</td>\n",
       "    </tr>\n",
       "    <tr>\n",
       "      <th>2</th>\n",
       "      <td>247</td>\n",
       "      <td>98</td>\n",
       "      <td>4.0</td>\n",
       "      <td>2023-10-24 21:38:29.594000+00:00</td>\n",
       "    </tr>\n",
       "    <tr>\n",
       "      <th>3</th>\n",
       "      <td>307</td>\n",
       "      <td>1592</td>\n",
       "      <td>4.0</td>\n",
       "      <td>2023-10-24 21:38:29.594000+00:00</td>\n",
       "    </tr>\n",
       "    <tr>\n",
       "      <th>4</th>\n",
       "      <td>477</td>\n",
       "      <td>2048</td>\n",
       "      <td>3.5</td>\n",
       "      <td>2023-10-24 21:38:29.594000+00:00</td>\n",
       "    </tr>\n",
       "  </tbody>\n",
       "</table>\n",
       "</div>"
      ],
      "text/plain": [
       "   user_id  tmdb_id  rating                       updated_at\n",
       "0      304     1572     4.0 2023-10-24 21:38:29.594000+00:00\n",
       "1      469     2108     5.0 2023-10-24 21:38:29.594000+00:00\n",
       "2      247       98     4.0 2023-10-24 21:38:29.594000+00:00\n",
       "3      307     1592     4.0 2023-10-24 21:38:29.594000+00:00\n",
       "4      477     2048     3.5 2023-10-24 21:38:29.594000+00:00"
      ]
     },
     "execution_count": 6,
     "metadata": {},
     "output_type": "execute_result"
    }
   ],
   "source": [
    "ratings = pd.read_json(os.path.join(JSON_PATH, \"ratings.json\"), orient=\"records\", lines=True)\n",
    "ratings.head()"
   ]
  },
  {
   "cell_type": "markdown",
   "metadata": {},
   "source": [
    "#### Create a SQLAlchemy Database Engine"
   ]
  },
  {
   "cell_type": "code",
   "execution_count": 9,
   "metadata": {},
   "outputs": [],
   "source": [
    "import os\n",
    "from sqlalchemy import create_engine, Engine\n",
    "from google.cloud.sql.connector import Connector\n",
    "from dotenv import load_dotenv\n",
    "from pg8000 import Connection\n",
    "from pg8000 import DatabaseError"
   ]
  },
  {
   "cell_type": "code",
   "execution_count": 10,
   "metadata": {},
   "outputs": [],
   "source": [
    "def make_connection() -> Connection:\n",
    "    \"\"\"generate a new pg8000 connection for a CloudSQL instance\"\"\"\n",
    "\n",
    "    project = \"robot-ebert\"\n",
    "    region = \"us-west1\"\n",
    "    instance = \"robot-ebert\"\n",
    "    instance_connection_string = f\"{project}:{region}:{instance}\"\n",
    "\n",
    "    connector = Connector()\n",
    "    cnx = connector.connect(\n",
    "        instance_connection_string=instance_connection_string,\n",
    "        driver=\"pg8000\",\n",
    "        user=\"postgres\",\n",
    "        password=os.environ[\"POSTGRES_PASSWORD\"],\n",
    "        db=\"app\"\n",
    "    )\n",
    "    return cnx\n",
    "\n",
    "\n",
    "def get_prod_engine(echo: bool = False) -> Engine:\n",
    "    \"\"\"get a new SQLAlchemy Engine to manage DB connections to the application CloudSQL database\"\"\"\n",
    "\n",
    "    engine = create_engine(\"postgresql+pg8000://\", creator=make_connection, echo=echo)\n",
    "    return engine\n",
    "\n",
    "\n",
    "def get_test_engine(echo: bool = False) -> Engine:\n",
    "    \"\"\"get a new SQLAlchemy Engine to manage DB connections to a local test DuckDB database\"\"\"\n",
    "\n",
    "    engine = create_engine(\"duckdb:///database.duckdb\", echo=echo)\n",
    "    return engine"
   ]
  },
  {
   "cell_type": "code",
   "execution_count": 11,
   "metadata": {},
   "outputs": [
    {
     "data": {
      "text/plain": [
       "Engine(postgresql+pg8000://)"
      ]
     },
     "execution_count": 11,
     "metadata": {},
     "output_type": "execute_result"
    }
   ],
   "source": [
    "engine = get_prod_engine(echo=False)\n",
    "engine"
   ]
  },
  {
   "cell_type": "markdown",
   "metadata": {
    "application/vnd.databricks.v1+cell": {
     "cellMetadata": {},
     "inputWidgets": {},
     "nuid": "a23cb67d-725e-4102-9a0c-f4c286d51c8e",
     "showTitle": false,
     "title": ""
    }
   },
   "source": [
    "#### Insert Static Data into the Application Database"
   ]
  },
  {
   "cell_type": "code",
   "execution_count": 12,
   "metadata": {},
   "outputs": [
    {
     "data": {
      "text/plain": [
       "610"
      ]
     },
     "execution_count": 12,
     "metadata": {},
     "output_type": "execute_result"
    }
   ],
   "source": [
    "users.to_sql(name=\"users\", con=engine, index=False, if_exists=\"append\", chunksize=1000, method=\"multi\")"
   ]
  },
  {
   "cell_type": "code",
   "execution_count": 21,
   "metadata": {},
   "outputs": [],
   "source": [
    "# movies.to_sql(name=\"movies\", con=engine, index=False, if_exists=\"append\", chunksize=1000, method=\"multi\")"
   ]
  },
  {
   "cell_type": "code",
   "execution_count": 14,
   "metadata": {},
   "outputs": [
    {
     "data": {
      "text/plain": [
       "81116"
      ]
     },
     "execution_count": 14,
     "metadata": {},
     "output_type": "execute_result"
    }
   ],
   "source": [
    "ratings.to_sql(name=\"ratings\", con=engine, index=False, if_exists=\"append\", chunksize=1000, method=\"multi\")"
   ]
  },
  {
   "cell_type": "markdown",
   "metadata": {},
   "source": [
    "#### Insert Static Data Using SQLAlchemy"
   ]
  },
  {
   "cell_type": "code",
   "execution_count": 15,
   "metadata": {},
   "outputs": [
    {
     "data": {
      "text/plain": [
       "{'tmdb_id': 5,\n",
       " 'tmdb_homepage': 'https://www.themoviedb.org/movie/5',\n",
       " 'title': 'Four Rooms',\n",
       " 'language': 'en',\n",
       " 'release_date': '1995-12-09',\n",
       " 'runtime': 98,\n",
       " 'director': 'Allison Anders',\n",
       " 'actors': ['Tim Roth',\n",
       "  'Jennifer Beals',\n",
       "  'Antonio Banderas',\n",
       "  'Valeria Golino',\n",
       "  'David Proval'],\n",
       " 'genres': ['Comedy'],\n",
       " 'keywords': ['hotel',\n",
       "  \"new year's eve\",\n",
       "  'witch',\n",
       "  'bet',\n",
       "  'hotel room',\n",
       "  'sperm',\n",
       "  'anthology',\n",
       "  'los angeles, california',\n",
       "  'hoodlum',\n",
       "  'multiple storylines',\n",
       "  'woman director'],\n",
       " 'overview': \"It's Ted the Bellhop's first night on the job...and the hotel's very unusual guests are about to place him in some outrageous predicaments. It seems that this evening's room service is serving up one unbelievable happening after another.\",\n",
       " 'budget': 4000000,\n",
       " 'revenue': 4257354,\n",
       " 'popularity': 21.138,\n",
       " 'vote_average': 5.789,\n",
       " 'vote_count': 2443,\n",
       " 'updated_at': Timestamp('2023-10-24 21:38:29.594000+0000', tz='UTC')}"
      ]
     },
     "execution_count": 15,
     "metadata": {},
     "output_type": "execute_result"
    }
   ],
   "source": [
    "movies.to_dict(orient=\"records\")[0]"
   ]
  },
  {
   "cell_type": "code",
   "execution_count": 16,
   "metadata": {},
   "outputs": [],
   "source": [
    "sys.path.append(\"..\")"
   ]
  },
  {
   "cell_type": "code",
   "execution_count": 17,
   "metadata": {},
   "outputs": [],
   "source": [
    "from sqlalchemy import insert, select, update, delete\n",
    "from app import database"
   ]
  },
  {
   "cell_type": "code",
   "execution_count": 22,
   "metadata": {},
   "outputs": [
    {
     "name": "stdout",
     "output_type": "stream",
     "text": [
      "iteration=0 tmdb_id=5\n",
      "iteration=10 tmdb_id=24\n",
      "iteration=20 tmdb_id=63\n",
      "iteration=30 tmdb_id=75\n",
      "iteration=40 tmdb_id=88\n",
      "iteration=50 tmdb_id=103\n",
      "iteration=60 tmdb_id=114\n",
      "iteration=70 tmdb_id=129\n",
      "iteration=80 tmdb_id=150\n",
      "iteration=90 tmdb_id=165\n",
      "iteration=100 tmdb_id=177\n",
      "iteration=110 tmdb_id=196\n",
      "iteration=120 tmdb_id=215\n",
      "iteration=130 tmdb_id=238\n",
      "iteration=140 tmdb_id=252\n",
      "iteration=150 tmdb_id=278\n",
      "iteration=160 tmdb_id=293\n",
      "iteration=170 tmdb_id=310\n",
      "iteration=180 tmdb_id=334\n",
      "iteration=190 tmdb_id=378\n",
      "iteration=200 tmdb_id=395\n",
      "iteration=210 tmdb_id=409\n",
      "iteration=220 tmdb_id=429\n",
      "iteration=230 tmdb_id=473\n",
      "iteration=240 tmdb_id=497\n",
      "iteration=250 tmdb_id=526\n",
      "iteration=260 tmdb_id=548\n",
      "iteration=270 tmdb_id=564\n",
      "iteration=280 tmdb_id=581\n",
      "iteration=290 tmdb_id=592\n",
      "iteration=300 tmdb_id=603\n",
      "iteration=310 tmdb_id=616\n",
      "iteration=320 tmdb_id=628\n",
      "iteration=330 tmdb_id=643\n",
      "iteration=340 tmdb_id=657\n",
      "iteration=350 tmdb_id=673\n",
      "iteration=360 tmdb_id=688\n",
      "iteration=370 tmdb_id=703\n",
      "iteration=380 tmdb_id=714\n",
      "iteration=390 tmdb_id=763\n",
      "iteration=400 tmdb_id=773\n",
      "iteration=410 tmdb_id=796\n",
      "iteration=420 tmdb_id=814\n",
      "iteration=430 tmdb_id=830\n",
      "iteration=440 tmdb_id=850\n",
      "iteration=450 tmdb_id=862\n",
      "iteration=460 tmdb_id=879\n",
      "iteration=470 tmdb_id=903\n",
      "iteration=480 tmdb_id=924\n",
      "iteration=490 tmdb_id=942\n",
      "iteration=500 tmdb_id=955\n",
      "iteration=510 tmdb_id=982\n",
      "iteration=520 tmdb_id=1073\n",
      "iteration=530 tmdb_id=1213\n",
      "iteration=540 tmdb_id=1281\n",
      "iteration=550 tmdb_id=1372\n",
      "iteration=560 tmdb_id=1417\n",
      "iteration=570 tmdb_id=1491\n",
      "iteration=580 tmdb_id=1542\n",
      "iteration=590 tmdb_id=1574\n",
      "iteration=600 tmdb_id=1587\n",
      "iteration=610 tmdb_id=1630\n",
      "iteration=620 tmdb_id=1645\n",
      "iteration=630 tmdb_id=1685\n",
      "iteration=640 tmdb_id=1724\n",
      "iteration=650 tmdb_id=1781\n",
      "iteration=660 tmdb_id=1850\n",
      "iteration=670 tmdb_id=1891\n",
      "iteration=680 tmdb_id=1907\n",
      "iteration=690 tmdb_id=1946\n",
      "iteration=700 tmdb_id=1985\n",
      "iteration=710 tmdb_id=2020\n",
      "iteration=720 tmdb_id=2046\n",
      "iteration=730 tmdb_id=2074\n",
      "iteration=740 tmdb_id=2114\n",
      "iteration=750 tmdb_id=2164\n",
      "iteration=760 tmdb_id=2288\n",
      "iteration=770 tmdb_id=2322\n",
      "iteration=780 tmdb_id=2503\n",
      "iteration=790 tmdb_id=2636\n",
      "iteration=800 tmdb_id=2667\n",
      "iteration=810 tmdb_id=2758\n",
      "iteration=820 tmdb_id=2898\n",
      "iteration=830 tmdb_id=3034\n",
      "iteration=840 tmdb_id=3085\n",
      "iteration=850 tmdb_id=3509\n",
      "iteration=860 tmdb_id=3600\n",
      "iteration=870 tmdb_id=4133\n",
      "iteration=880 tmdb_id=4256\n",
      "iteration=890 tmdb_id=4476\n",
      "iteration=900 tmdb_id=4547\n",
      "iteration=910 tmdb_id=4808\n",
      "iteration=920 tmdb_id=4954\n",
      "iteration=930 tmdb_id=5143\n",
      "iteration=940 tmdb_id=5528\n",
      "iteration=950 tmdb_id=5851\n",
      "iteration=960 tmdb_id=6068\n",
      "iteration=970 tmdb_id=6282\n",
      "iteration=980 tmdb_id=6557\n",
      "iteration=990 tmdb_id=6964\n",
      "iteration=1000 tmdb_id=7300\n",
      "iteration=1010 tmdb_id=7451\n",
      "iteration=1020 tmdb_id=7553\n",
      "iteration=1030 tmdb_id=8051\n",
      "iteration=1040 tmdb_id=8197\n",
      "iteration=1050 tmdb_id=8346\n",
      "iteration=1060 tmdb_id=8393\n",
      "iteration=1070 tmdb_id=8512\n",
      "iteration=1080 tmdb_id=8698\n",
      "iteration=1090 tmdb_id=8834\n",
      "iteration=1100 tmdb_id=8856\n",
      "iteration=1110 tmdb_id=8914\n",
      "iteration=1120 tmdb_id=8989\n",
      "iteration=1130 tmdb_id=9061\n",
      "iteration=1140 tmdb_id=9090\n",
      "iteration=1150 tmdb_id=9267\n",
      "iteration=1160 tmdb_id=9283\n",
      "iteration=1170 tmdb_id=9312\n",
      "iteration=1180 tmdb_id=9327\n",
      "iteration=1190 tmdb_id=9346\n",
      "iteration=1200 tmdb_id=9359\n",
      "iteration=1210 tmdb_id=9382\n",
      "iteration=1220 tmdb_id=9398\n",
      "iteration=1230 tmdb_id=9427\n",
      "iteration=1240 tmdb_id=9443\n",
      "iteration=1250 tmdb_id=9465\n",
      "iteration=1260 tmdb_id=9481\n",
      "iteration=1270 tmdb_id=9504\n",
      "iteration=1280 tmdb_id=9536\n",
      "iteration=1290 tmdb_id=9576\n",
      "iteration=1300 tmdb_id=9606\n",
      "iteration=1310 tmdb_id=9623\n",
      "iteration=1320 tmdb_id=9671\n",
      "iteration=1330 tmdb_id=9718\n",
      "iteration=1340 tmdb_id=9778\n",
      "iteration=1350 tmdb_id=9816\n",
      "iteration=1360 tmdb_id=9870\n",
      "iteration=1370 tmdb_id=9894\n",
      "iteration=1380 tmdb_id=9946\n",
      "iteration=1390 tmdb_id=10029\n",
      "iteration=1400 tmdb_id=10122\n",
      "iteration=1410 tmdb_id=10152\n",
      "iteration=1420 tmdb_id=10184\n",
      "iteration=1430 tmdb_id=10215\n",
      "iteration=1440 tmdb_id=10280\n",
      "iteration=1450 tmdb_id=10329\n",
      "iteration=1460 tmdb_id=10388\n",
      "iteration=1470 tmdb_id=10414\n",
      "iteration=1480 tmdb_id=10451\n",
      "iteration=1490 tmdb_id=10501\n",
      "iteration=1500 tmdb_id=10535\n",
      "iteration=1510 tmdb_id=10559\n",
      "iteration=1520 tmdb_id=10625\n",
      "iteration=1530 tmdb_id=10661\n",
      "iteration=1540 tmdb_id=10705\n",
      "iteration=1550 tmdb_id=10764\n",
      "iteration=1560 tmdb_id=10806\n",
      "iteration=1570 tmdb_id=10873\n",
      "iteration=1580 tmdb_id=10948\n",
      "iteration=1590 tmdb_id=11005\n",
      "iteration=1600 tmdb_id=11040\n",
      "iteration=1610 tmdb_id=11086\n",
      "iteration=1620 tmdb_id=11176\n",
      "iteration=1630 tmdb_id=11239\n",
      "iteration=1640 tmdb_id=11314\n",
      "iteration=1650 tmdb_id=11355\n",
      "iteration=1660 tmdb_id=11381\n",
      "iteration=1670 tmdb_id=11426\n",
      "iteration=1680 tmdb_id=11478\n",
      "iteration=1690 tmdb_id=11527\n",
      "iteration=1700 tmdb_id=11562\n",
      "iteration=1710 tmdb_id=11597\n",
      "iteration=1720 tmdb_id=11663\n",
      "iteration=1730 tmdb_id=11770\n",
      "iteration=1740 tmdb_id=11812\n",
      "iteration=1750 tmdb_id=11843\n",
      "iteration=1760 tmdb_id=11878\n",
      "iteration=1770 tmdb_id=11967\n",
      "iteration=1780 tmdb_id=11979\n",
      "iteration=1790 tmdb_id=12110\n",
      "iteration=1800 tmdb_id=12155\n",
      "iteration=1810 tmdb_id=12230\n",
      "iteration=1820 tmdb_id=12498\n",
      "iteration=1830 tmdb_id=12665\n",
      "iteration=1840 tmdb_id=13203\n",
      "iteration=1850 tmdb_id=13466\n",
      "iteration=1860 tmdb_id=13776\n",
      "iteration=1870 tmdb_id=14069\n",
      "iteration=1880 tmdb_id=14292\n",
      "iteration=1890 tmdb_id=14534\n",
      "iteration=1900 tmdb_id=15037\n",
      "iteration=1910 tmdb_id=15596\n",
      "iteration=1920 tmdb_id=16320\n",
      "iteration=1930 tmdb_id=16619\n",
      "iteration=1940 tmdb_id=17654\n",
      "iteration=1950 tmdb_id=18402\n",
      "iteration=1960 tmdb_id=19186\n",
      "iteration=1970 tmdb_id=20306\n",
      "iteration=1980 tmdb_id=22538\n",
      "iteration=1990 tmdb_id=23629\n",
      "iteration=2000 tmdb_id=26141\n",
      "iteration=2010 tmdb_id=30197\n",
      "iteration=2020 tmdb_id=36355\n",
      "iteration=2030 tmdb_id=36669\n",
      "iteration=2040 tmdb_id=37233\n",
      "iteration=2050 tmdb_id=38356\n",
      "iteration=2060 tmdb_id=41154\n",
      "iteration=2070 tmdb_id=44912\n",
      "iteration=2080 tmdb_id=49049\n",
      "iteration=2090 tmdb_id=50348\n",
      "iteration=2100 tmdb_id=55931\n",
      "iteration=2110 tmdb_id=61791\n",
      "iteration=2120 tmdb_id=68718\n",
      "iteration=2130 tmdb_id=74643\n",
      "iteration=2140 tmdb_id=76493\n",
      "iteration=2150 tmdb_id=83542\n",
      "iteration=2160 tmdb_id=100402\n",
      "iteration=2170 tmdb_id=109443\n",
      "iteration=2180 tmdb_id=122917\n",
      "iteration=2190 tmdb_id=140607\n",
      "iteration=2200 tmdb_id=181808\n",
      "iteration=2210 tmdb_id=205596\n",
      "iteration=2220 tmdb_id=238713\n",
      "iteration=2230 tmdb_id=264660\n",
      "iteration=2240 tmdb_id=281957\n",
      "iteration=2250 tmdb_id=297762\n",
      "iteration=2260 tmdb_id=381284\n"
     ]
    }
   ],
   "source": [
    "with engine.begin() as cnx:\n",
    "    for m, movie in enumerate(movies.to_dict(orient=\"records\")):\n",
    "        try:\n",
    "            cnx.execute(insert(database.movies).values(**movie))\n",
    "        except DatabaseError:\n",
    "            print(f\"error with tmdb_id={movie['tmdb_id']}\")\n",
    "        if m % 10 == 0:\n",
    "            print(f\"iteration={m} tmdb_id={movie['tmdb_id']}\")"
   ]
  },
  {
   "cell_type": "markdown",
   "metadata": {
    "application/vnd.databricks.v1+cell": {
     "cellMetadata": {},
     "inputWidgets": {},
     "nuid": "69e90657-2627-47e6-8bc0-c373c9f1d850",
     "showTitle": false,
     "title": ""
    }
   },
   "source": [
    "### Test Out Query Functionality Using SQLAlchemy"
   ]
  },
  {
   "cell_type": "code",
   "execution_count": 71,
   "metadata": {
    "application/vnd.databricks.v1+cell": {
     "cellMetadata": {},
     "inputWidgets": {},
     "nuid": "33043ae8-3d6a-49b2-9ff4-acad0ff60837",
     "showTitle": false,
     "title": ""
    }
   },
   "outputs": [],
   "source": [
    "from sqlalchemy import text"
   ]
  },
  {
   "cell_type": "code",
   "execution_count": 93,
   "metadata": {
    "application/vnd.databricks.v1+cell": {
     "cellMetadata": {},
     "inputWidgets": {},
     "nuid": "f86f176e-fc96-44f1-b4cb-3ffd38cdecdb",
     "showTitle": false,
     "title": ""
    }
   },
   "outputs": [
    {
     "name": "stdout",
     "output_type": "stream",
     "text": [
      "CPU times: user 5 µs, sys: 2 µs, total: 7 µs\n",
      "Wall time: 13.8 µs\n",
      "('1', '272', 4.0, datetime.datetime(2023, 10, 23, 18, 44, 55, 294000))\n",
      "('1', '9685', 5.0, datetime.datetime(2023, 10, 23, 18, 44, 55, 294000))\n",
      "('1', '2108', 4.0, datetime.datetime(2023, 10, 23, 18, 44, 55, 294000))\n",
      "('1', '64678', 5.0, datetime.datetime(2023, 10, 23, 18, 44, 55, 294000))\n",
      "('1', '84892', 5.0, datetime.datetime(2023, 10, 23, 18, 44, 55, 294000))\n",
      "('1', '12444', 5.0, datetime.datetime(2023, 10, 23, 18, 44, 55, 294000))\n",
      "('1', '13475', 5.0, datetime.datetime(2023, 10, 23, 18, 44, 55, 294000))\n",
      "('1', '141', 5.0, datetime.datetime(2023, 10, 23, 18, 44, 55, 294000))\n",
      "('1', '1726', 5.0, datetime.datetime(2023, 10, 23, 18, 44, 55, 294000))\n",
      "('1', '9377', 5.0, datetime.datetime(2023, 10, 23, 18, 44, 55, 294000))\n",
      "('1', '238', 5.0, datetime.datetime(2023, 10, 23, 18, 44, 55, 294000))\n",
      "('1', '240', 5.0, datetime.datetime(2023, 10, 23, 18, 44, 55, 294000))\n",
      "('1', '68718', 4.0, datetime.datetime(2023, 10, 23, 18, 44, 55, 294000))\n",
      "('1', '155', 4.0, datetime.datetime(2023, 10, 23, 18, 44, 55, 294000))\n",
      "('1', '767', 5.0, datetime.datetime(2023, 10, 23, 18, 44, 55, 294000))\n",
      "('1', '745', 4.5, datetime.datetime(2023, 10, 23, 18, 44, 55, 294000))\n",
      "('1', '77', 4.0, datetime.datetime(2023, 10, 23, 18, 44, 55, 294000))\n",
      "('1', '58574', 5.0, datetime.datetime(2023, 10, 23, 18, 44, 55, 294000))\n",
      "('1', '244786', 5.0, datetime.datetime(2023, 10, 23, 18, 44, 55, 294000))\n",
      "('1', '10528', 5.0, datetime.datetime(2023, 10, 23, 18, 44, 55, 294000))\n",
      "('1', '10474', 4.5, datetime.datetime(2023, 10, 23, 18, 44, 55, 294000))\n",
      "('1', '207', 5.0, datetime.datetime(2023, 10, 23, 18, 44, 55, 294000))\n",
      "('1', '8363', 3.5, datetime.datetime(2023, 10, 23, 18, 44, 55, 294000))\n"
     ]
    }
   ],
   "source": [
    "%time\n",
    "\n",
    "with engine.connect() as cnx:\n",
    "    result = cnx.execute(text(\"SELECT * FROM ratings WHERE user_id = '1'\"))\n",
    "    for row in result:\n",
    "        print(row)"
   ]
  },
  {
   "cell_type": "code",
   "execution_count": null,
   "metadata": {
    "application/vnd.databricks.v1+cell": {
     "cellMetadata": {},
     "inputWidgets": {},
     "nuid": "56f28c65-6191-496e-80af-3886e98d9a88",
     "showTitle": false,
     "title": ""
    }
   },
   "outputs": [],
   "source": []
  }
 ],
 "metadata": {
  "application/vnd.databricks.v1+notebook": {
   "dashboards": [],
   "language": "python",
   "notebookMetadata": {
    "pythonIndentUnit": 4
   },
   "notebookName": "populate-database",
   "widgets": {}
  },
  "kernelspec": {
   "display_name": "Python 3 (ipykernel)",
   "language": "python",
   "name": "python3"
  },
  "language_info": {
   "codemirror_mode": {
    "name": "ipython",
    "version": 3
   },
   "file_extension": ".py",
   "mimetype": "text/x-python",
   "name": "python",
   "nbconvert_exporter": "python",
   "pygments_lexer": "ipython3",
   "version": "3.9.18"
  }
 },
 "nbformat": 4,
 "nbformat_minor": 4
}
