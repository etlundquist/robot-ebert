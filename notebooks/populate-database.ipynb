{
 "cells": [
  {
   "cell_type": "markdown",
   "metadata": {
    "application/vnd.databricks.v1+cell": {
     "cellMetadata": {},
     "inputWidgets": {},
     "nuid": "bb601ce6-f290-42ea-90a6-ca550d38e3ca",
     "showTitle": false,
     "title": ""
    }
   },
   "source": [
    "### Notebook Set-Up"
   ]
  },
  {
   "cell_type": "markdown",
   "metadata": {
    "application/vnd.databricks.v1+cell": {
     "cellMetadata": {},
     "inputWidgets": {},
     "nuid": "d89d1a2f-ce6b-4b4e-8779-eb60c1c7676d",
     "showTitle": false,
     "title": ""
    }
   },
   "source": [
    "#### Import Required Modules"
   ]
  },
  {
   "cell_type": "code",
   "execution_count": null,
   "metadata": {
    "application/vnd.databricks.v1+cell": {
     "cellMetadata": {
      "byteLimit": 2048000,
      "rowLimit": 10000
     },
     "inputWidgets": {},
     "nuid": "6c0275d4-0791-4bc1-b740-7754bfe76f27",
     "showTitle": false,
     "title": ""
    }
   },
   "outputs": [],
   "source": [
    "# %pip install python-dotenv sqlalchemy duckdb duckdb-engine cloud-sql-python-connector[pg8000]"
   ]
  },
  {
   "cell_type": "code",
   "execution_count": null,
   "metadata": {
    "application/vnd.databricks.v1+cell": {
     "cellMetadata": {
      "byteLimit": 2048000,
      "rowLimit": 10000
     },
     "inputWidgets": {},
     "nuid": "7ad92141-2202-40f0-8029-bebb8b63e18b",
     "showTitle": false,
     "title": ""
    }
   },
   "outputs": [],
   "source": [
    "import os\n",
    "import csv\n",
    "import json\n",
    "import duckdb\n",
    "\n",
    "from typing import List, Dict\n",
    "from dotenv import load_dotenv\n",
    "from datetime import datetime\n",
    "\n",
    "import numpy as np\n",
    "import pandas as pd\n",
    "\n",
    "from pyspark.sql import SparkSession\n",
    "from pyspark.sql import functions as f\n",
    "from pyspark.sql.window import Window"
   ]
  },
  {
   "cell_type": "markdown",
   "metadata": {
    "application/vnd.databricks.v1+cell": {
     "cellMetadata": {},
     "inputWidgets": {},
     "nuid": "3c66a3f9-fe90-46e2-ae65-5100be81faf0",
     "showTitle": false,
     "title": ""
    }
   },
   "source": [
    "#### Load Secrets"
   ]
  },
  {
   "cell_type": "code",
   "execution_count": null,
   "metadata": {
    "application/vnd.databricks.v1+cell": {
     "cellMetadata": {
      "byteLimit": 2048000,
      "rowLimit": 10000
     },
     "inputWidgets": {},
     "nuid": "34c6e1a3-0a28-4d1b-92aa-659c6b047bd2",
     "showTitle": false,
     "title": ""
    }
   },
   "outputs": [
    {
     "name": "stdout",
     "output_type": "stream",
     "text": [
      "Out[55]: True"
     ]
    }
   ],
   "source": [
    "load_dotenv(\"/dbfs/FileStore/env/.env\")"
   ]
  },
  {
   "cell_type": "markdown",
   "metadata": {
    "application/vnd.databricks.v1+cell": {
     "cellMetadata": {},
     "inputWidgets": {},
     "nuid": "8de77a0b-a968-4306-a01f-cbf21973a372",
     "showTitle": false,
     "title": ""
    }
   },
   "source": [
    "#### Get or Create SparkSession"
   ]
  },
  {
   "cell_type": "code",
   "execution_count": null,
   "metadata": {
    "application/vnd.databricks.v1+cell": {
     "cellMetadata": {
      "byteLimit": 2048000,
      "rowLimit": 10000
     },
     "inputWidgets": {},
     "nuid": "fcc0d9be-c3dd-4fbb-ba4f-5a413ce03d97",
     "showTitle": false,
     "title": ""
    }
   },
   "outputs": [
    {
     "data": {
      "text/html": [
       "\n",
       "            <div>\n",
       "                <p><b>SparkSession - hive</b></p>\n",
       "                \n",
       "        <div>\n",
       "            <p><b>SparkContext</b></p>\n",
       "\n",
       "            <p><a href=\"/?o=8355974179873438#setting/sparkui/1017-161542-o0dq748r/driver-7928559540882837674\">Spark UI</a></p>\n",
       "\n",
       "            <dl>\n",
       "              <dt>Version</dt>\n",
       "                <dd><code>v3.3.2</code></dd>\n",
       "              <dt>Master</dt>\n",
       "                <dd><code>spark://driver-proxy:7077</code></dd>\n",
       "              <dt>AppName</dt>\n",
       "                <dd><code>Databricks Shell</code></dd>\n",
       "            </dl>\n",
       "        </div>\n",
       "        \n",
       "            </div>\n",
       "        "
      ]
     },
     "metadata": {
      "application/vnd.databricks.v1+output": {
       "addedWidgets": {},
       "arguments": {},
       "data": "\n            <div>\n                <p><b>SparkSession - hive</b></p>\n                \n        <div>\n            <p><b>SparkContext</b></p>\n\n            <p><a href=\"/?o=8355974179873438#setting/sparkui/1017-161542-o0dq748r/driver-7928559540882837674\">Spark UI</a></p>\n\n            <dl>\n              <dt>Version</dt>\n                <dd><code>v3.3.2</code></dd>\n              <dt>Master</dt>\n                <dd><code>spark://driver-proxy:7077</code></dd>\n              <dt>AppName</dt>\n                <dd><code>Databricks Shell</code></dd>\n            </dl>\n        </div>\n        \n            </div>\n        ",
       "datasetInfos": [],
       "metadata": {},
       "removedWidgets": [],
       "textData": null,
       "type": "htmlSandbox"
      }
     },
     "output_type": "display_data"
    }
   ],
   "source": [
    "spark = SparkSession.builder.getOrCreate()\n",
    "spark.sparkContext.setLogLevel(\"error\")\n",
    "spark"
   ]
  },
  {
   "cell_type": "markdown",
   "metadata": {
    "application/vnd.databricks.v1+cell": {
     "cellMetadata": {},
     "inputWidgets": {},
     "nuid": "5870cbce-ba16-4855-a63d-67980c8d7b86",
     "showTitle": false,
     "title": ""
    }
   },
   "source": [
    "#### Set Workflow Constants"
   ]
  },
  {
   "cell_type": "code",
   "execution_count": null,
   "metadata": {
    "application/vnd.databricks.v1+cell": {
     "cellMetadata": {
      "byteLimit": 2048000,
      "rowLimit": 10000
     },
     "inputWidgets": {},
     "nuid": "826f1837-ac90-4994-8645-70638b65e705",
     "showTitle": false,
     "title": ""
    }
   },
   "outputs": [],
   "source": [
    "CLEAN_PATH = \"dbfs:/FileStore/data/clean\"\n",
    "JSON_PATH = \"/dbfs/FileStore/data/json\""
   ]
  },
  {
   "cell_type": "markdown",
   "metadata": {
    "application/vnd.databricks.v1+cell": {
     "cellMetadata": {},
     "inputWidgets": {},
     "nuid": "bf1ed547-e039-45c0-9636-27233c358ed7",
     "showTitle": false,
     "title": ""
    }
   },
   "source": [
    "### Load the Clean Data"
   ]
  },
  {
   "cell_type": "markdown",
   "metadata": {
    "application/vnd.databricks.v1+cell": {
     "cellMetadata": {},
     "inputWidgets": {},
     "nuid": "58b83bf9-b222-4579-87c9-89f6ade58186",
     "showTitle": false,
     "title": ""
    }
   },
   "source": [
    "#### Import Clean Movies Data"
   ]
  },
  {
   "cell_type": "code",
   "execution_count": null,
   "metadata": {
    "application/vnd.databricks.v1+cell": {
     "cellMetadata": {
      "byteLimit": 2048000,
      "rowLimit": 10000
     },
     "inputWidgets": {},
     "nuid": "0d2451d2-3b0d-4456-9716-3dc8fcc7a1a2",
     "showTitle": false,
     "title": ""
    }
   },
   "outputs": [
    {
     "name": "stdout",
     "output_type": "stream",
     "text": [
      "-RECORD 0------------------------------------------------------------------------------------------------------------------------------------------------------------------------------------------------------------------------------------------------------\n",
      " budget        | 4000000                                                                                                                                                                                                                                       \n",
      " cast          | [Tim Roth, Jennifer Beals, Antonio Banderas, Valeria Golino, David Proval]                                                                                                                                                                    \n",
      " director      | Allison Anders                                                                                                                                                                                                                                \n",
      " genres        | [Comedy]                                                                                                                                                                                                                                      \n",
      " keywords      | [hotel, new year's eve, witch, bet, hotel room, sperm, anthology, los angeles, california, hoodlum, multiple storylines, woman director]                                                                                                      \n",
      " language      | en                                                                                                                                                                                                                                            \n",
      " overview      | It's Ted the Bellhop's first night on the job...and the hotel's very unusual guests are about to place him in some outrageous predicaments. It seems that this evening's room service is serving up one unbelievable happening after another. \n",
      " popularity    | 21.138                                                                                                                                                                                                                                        \n",
      " release_date  | 1995-12-09                                                                                                                                                                                                                                    \n",
      " revenue       | 4257354                                                                                                                                                                                                                                       \n",
      " runtime       | 98                                                                                                                                                                                                                                            \n",
      " status        | Released                                                                                                                                                                                                                                      \n",
      " title         | Four Rooms                                                                                                                                                                                                                                    \n",
      " tmdb_homepage | https://www.themoviedb.org/movie/5                                                                                                                                                                                                            \n",
      " tmdb_id       | 5                                                                                                                                                                                                                                             \n",
      " vote_average  | 5.789                                                                                                                                                                                                                                         \n",
      " vote_count    | 2443                                                                                                                                                                                                                                          \n",
      "only showing top 1 row\n",
      "\n",
      "root\n",
      " |-- budget: long (nullable = true)\n",
      " |-- cast: array (nullable = true)\n",
      " |    |-- element: string (containsNull = true)\n",
      " |-- director: string (nullable = true)\n",
      " |-- genres: array (nullable = true)\n",
      " |    |-- element: string (containsNull = true)\n",
      " |-- keywords: array (nullable = true)\n",
      " |    |-- element: string (containsNull = true)\n",
      " |-- language: string (nullable = true)\n",
      " |-- overview: string (nullable = true)\n",
      " |-- popularity: double (nullable = true)\n",
      " |-- release_date: string (nullable = true)\n",
      " |-- revenue: long (nullable = true)\n",
      " |-- runtime: long (nullable = true)\n",
      " |-- status: string (nullable = true)\n",
      " |-- title: string (nullable = true)\n",
      " |-- tmdb_homepage: string (nullable = true)\n",
      " |-- tmdb_id: string (nullable = true)\n",
      " |-- vote_average: double (nullable = true)\n",
      " |-- vote_count: long (nullable = true)\n",
      "\n",
      "Out[58]: 2264"
     ]
    }
   ],
   "source": [
    "movies = spark.read.parquet(os.path.join(CLEAN_PATH, \"movies\"))\n",
    "movies.show(1, truncate=False, vertical=True)\n",
    "movies.printSchema()\n",
    "movies.count()"
   ]
  },
  {
   "cell_type": "markdown",
   "metadata": {
    "application/vnd.databricks.v1+cell": {
     "cellMetadata": {},
     "inputWidgets": {},
     "nuid": "60d9a261-ba42-4361-a421-2d6cec9f1142",
     "showTitle": false,
     "title": ""
    }
   },
   "source": [
    "#### Import Clean Ratings Data"
   ]
  },
  {
   "cell_type": "code",
   "execution_count": null,
   "metadata": {
    "application/vnd.databricks.v1+cell": {
     "cellMetadata": {
      "byteLimit": 2048000,
      "rowLimit": 10000
     },
     "inputWidgets": {},
     "nuid": "f1761695-94b2-443e-aee4-65fe284ad765",
     "showTitle": false,
     "title": ""
    }
   },
   "outputs": [
    {
     "name": "stdout",
     "output_type": "stream",
     "text": [
      "+-------+-------+------+-------------------+\n",
      "|user_id|tmdb_id|rating|timestamp          |\n",
      "+-------+-------+------+-------------------+\n",
      "|304    |1572   |4.0   |1998-03-29 12:12:08|\n",
      "|469    |2108   |5.0   |2000-08-04 21:46:05|\n",
      "|247    |98     |4.0   |2016-07-04 14:55:39|\n",
      "|307    |1592   |4.0   |2007-10-29 13:08:15|\n",
      "|477    |2048   |3.5   |2008-01-21 18:45:47|\n",
      "+-------+-------+------+-------------------+\n",
      "only showing top 5 rows\n",
      "\n",
      "Out[59]: 81116"
     ]
    }
   ],
   "source": [
    "ratings = spark.read.parquet(os.path.join(CLEAN_PATH, \"ratings\"))\n",
    "ratings.show(5, truncate=False)\n",
    "ratings.count()"
   ]
  },
  {
   "cell_type": "markdown",
   "metadata": {
    "application/vnd.databricks.v1+cell": {
     "cellMetadata": {},
     "inputWidgets": {},
     "nuid": "be4e9f2d-023b-40ef-93b6-1c74f02513fd",
     "showTitle": false,
     "title": ""
    }
   },
   "source": [
    "### Populate the ApplicationDB Tables"
   ]
  },
  {
   "cell_type": "code",
   "execution_count": null,
   "metadata": {
    "application/vnd.databricks.v1+cell": {
     "cellMetadata": {
      "byteLimit": 2048000,
      "rowLimit": 10000
     },
     "inputWidgets": {},
     "nuid": "40e60bff-0ed0-4d85-b8ae-1e788edd4e43",
     "showTitle": false,
     "title": ""
    }
   },
   "outputs": [
    {
     "name": "stdout",
     "output_type": "stream",
     "text": [
      "Out[60]: datetime.datetime(2023, 10, 24, 22, 21, 59, 26204)"
     ]
    }
   ],
   "source": [
    "updated_at = datetime.now()\n",
    "updated_at"
   ]
  },
  {
   "cell_type": "markdown",
   "metadata": {
    "application/vnd.databricks.v1+cell": {
     "cellMetadata": {},
     "inputWidgets": {},
     "nuid": "34ad17af-b078-4173-8c36-b2b413ca8987",
     "showTitle": false,
     "title": ""
    }
   },
   "source": [
    "#### Format the `Users` Table"
   ]
  },
  {
   "cell_type": "code",
   "execution_count": null,
   "metadata": {
    "application/vnd.databricks.v1+cell": {
     "cellMetadata": {
      "byteLimit": 2048000,
      "rowLimit": 10000
     },
     "inputWidgets": {},
     "nuid": "a3ab6a96-631b-4fbb-8839-024b01f0c1d4",
     "showTitle": false,
     "title": ""
    }
   },
   "outputs": [
    {
     "data": {
      "text/html": [
       "<div>\n",
       "<style scoped>\n",
       "    .dataframe tbody tr th:only-of-type {\n",
       "        vertical-align: middle;\n",
       "    }\n",
       "\n",
       "    .dataframe tbody tr th {\n",
       "        vertical-align: top;\n",
       "    }\n",
       "\n",
       "    .dataframe thead th {\n",
       "        text-align: right;\n",
       "    }\n",
       "</style>\n",
       "<table border=\"1\" class=\"dataframe\">\n",
       "  <thead>\n",
       "    <tr style=\"text-align: right;\">\n",
       "      <th></th>\n",
       "      <th>user_id</th>\n",
       "      <th>email</th>\n",
       "      <th>hashed_password</th>\n",
       "      <th>fname</th>\n",
       "      <th>lname</th>\n",
       "      <th>updated_at</th>\n",
       "    </tr>\n",
       "  </thead>\n",
       "  <tbody>\n",
       "    <tr>\n",
       "      <th>0</th>\n",
       "      <td>467</td>\n",
       "      <td>ANONYMOUS@ANONYMOUS.COM</td>\n",
       "      <td>37dac418e085726bf77f285c48558dcf9b3486ed184386...</td>\n",
       "      <td>ANONYMOUS</td>\n",
       "      <td>ANONYMOUS</td>\n",
       "      <td>2023-10-24 22:21:59.026204</td>\n",
       "    </tr>\n",
       "    <tr>\n",
       "      <th>1</th>\n",
       "      <td>296</td>\n",
       "      <td>ANONYMOUS@ANONYMOUS.COM</td>\n",
       "      <td>37dac418e085726bf77f285c48558dcf9b3486ed184386...</td>\n",
       "      <td>ANONYMOUS</td>\n",
       "      <td>ANONYMOUS</td>\n",
       "      <td>2023-10-24 22:21:59.026204</td>\n",
       "    </tr>\n",
       "    <tr>\n",
       "      <th>2</th>\n",
       "      <td>125</td>\n",
       "      <td>ANONYMOUS@ANONYMOUS.COM</td>\n",
       "      <td>37dac418e085726bf77f285c48558dcf9b3486ed184386...</td>\n",
       "      <td>ANONYMOUS</td>\n",
       "      <td>ANONYMOUS</td>\n",
       "      <td>2023-10-24 22:21:59.026204</td>\n",
       "    </tr>\n",
       "    <tr>\n",
       "      <th>3</th>\n",
       "      <td>451</td>\n",
       "      <td>ANONYMOUS@ANONYMOUS.COM</td>\n",
       "      <td>37dac418e085726bf77f285c48558dcf9b3486ed184386...</td>\n",
       "      <td>ANONYMOUS</td>\n",
       "      <td>ANONYMOUS</td>\n",
       "      <td>2023-10-24 22:21:59.026204</td>\n",
       "    </tr>\n",
       "    <tr>\n",
       "      <th>4</th>\n",
       "      <td>51</td>\n",
       "      <td>ANONYMOUS@ANONYMOUS.COM</td>\n",
       "      <td>37dac418e085726bf77f285c48558dcf9b3486ed184386...</td>\n",
       "      <td>ANONYMOUS</td>\n",
       "      <td>ANONYMOUS</td>\n",
       "      <td>2023-10-24 22:21:59.026204</td>\n",
       "    </tr>\n",
       "  </tbody>\n",
       "</table>\n",
       "</div>"
      ]
     },
     "metadata": {
      "application/vnd.databricks.v1+output": {
       "addedWidgets": {},
       "arguments": {},
       "data": "<div>\n<style scoped>\n    .dataframe tbody tr th:only-of-type {\n        vertical-align: middle;\n    }\n\n    .dataframe tbody tr th {\n        vertical-align: top;\n    }\n\n    .dataframe thead th {\n        text-align: right;\n    }\n</style>\n<table border=\"1\" class=\"dataframe\">\n  <thead>\n    <tr style=\"text-align: right;\">\n      <th></th>\n      <th>user_id</th>\n      <th>email</th>\n      <th>hashed_password</th>\n      <th>fname</th>\n      <th>lname</th>\n      <th>updated_at</th>\n    </tr>\n  </thead>\n  <tbody>\n    <tr>\n      <th>0</th>\n      <td>467</td>\n      <td>ANONYMOUS@ANONYMOUS.COM</td>\n      <td>37dac418e085726bf77f285c48558dcf9b3486ed184386...</td>\n      <td>ANONYMOUS</td>\n      <td>ANONYMOUS</td>\n      <td>2023-10-24 22:21:59.026204</td>\n    </tr>\n    <tr>\n      <th>1</th>\n      <td>296</td>\n      <td>ANONYMOUS@ANONYMOUS.COM</td>\n      <td>37dac418e085726bf77f285c48558dcf9b3486ed184386...</td>\n      <td>ANONYMOUS</td>\n      <td>ANONYMOUS</td>\n      <td>2023-10-24 22:21:59.026204</td>\n    </tr>\n    <tr>\n      <th>2</th>\n      <td>125</td>\n      <td>ANONYMOUS@ANONYMOUS.COM</td>\n      <td>37dac418e085726bf77f285c48558dcf9b3486ed184386...</td>\n      <td>ANONYMOUS</td>\n      <td>ANONYMOUS</td>\n      <td>2023-10-24 22:21:59.026204</td>\n    </tr>\n    <tr>\n      <th>3</th>\n      <td>451</td>\n      <td>ANONYMOUS@ANONYMOUS.COM</td>\n      <td>37dac418e085726bf77f285c48558dcf9b3486ed184386...</td>\n      <td>ANONYMOUS</td>\n      <td>ANONYMOUS</td>\n      <td>2023-10-24 22:21:59.026204</td>\n    </tr>\n    <tr>\n      <th>4</th>\n      <td>51</td>\n      <td>ANONYMOUS@ANONYMOUS.COM</td>\n      <td>37dac418e085726bf77f285c48558dcf9b3486ed184386...</td>\n      <td>ANONYMOUS</td>\n      <td>ANONYMOUS</td>\n      <td>2023-10-24 22:21:59.026204</td>\n    </tr>\n  </tbody>\n</table>\n</div>",
       "datasetInfos": [],
       "metadata": {},
       "removedWidgets": [],
       "textData": null,
       "type": "htmlSandbox"
      }
     },
     "output_type": "display_data"
    }
   ],
   "source": [
    "users_pandas = ratings \\\n",
    "    .select(\"user_id\") \\\n",
    "    .distinct() \\\n",
    "    .withColumn(\"email\", f.lit(\"ANONYMOUS@ANONYMOUS.COM\")) \\\n",
    "    .withColumn(\"hashed_password\", f.sha2(\"email\", 256)) \\\n",
    "    .withColumn(\"fname\", f.lit(\"ANONYMOUS\")) \\\n",
    "    .withColumn(\"lname\", f.lit(\"ANONYMOUS\")) \\\n",
    "    .withColumn(\"updated_at\", f.lit(updated_at)) \\\n",
    "    .select(\"user_id\", \"email\", \"hashed_password\", \"fname\", \"lname\", \"updated_at\") \\\n",
    "    .toPandas()\n",
    "\n",
    "users_pandas.head()"
   ]
  },
  {
   "cell_type": "markdown",
   "metadata": {
    "application/vnd.databricks.v1+cell": {
     "cellMetadata": {},
     "inputWidgets": {},
     "nuid": "5de4e9b4-fe11-48c6-a353-872a03d8b4f6",
     "showTitle": false,
     "title": ""
    }
   },
   "source": [
    "#### Format the `Movies` Table"
   ]
  },
  {
   "cell_type": "code",
   "execution_count": null,
   "metadata": {
    "application/vnd.databricks.v1+cell": {
     "cellMetadata": {
      "byteLimit": 2048000,
      "rowLimit": 10000
     },
     "inputWidgets": {},
     "nuid": "03921348-01a1-416d-b41f-a29d4dd372ec",
     "showTitle": false,
     "title": ""
    }
   },
   "outputs": [
    {
     "data": {
      "text/html": [
       "<div>\n",
       "<style scoped>\n",
       "    .dataframe tbody tr th:only-of-type {\n",
       "        vertical-align: middle;\n",
       "    }\n",
       "\n",
       "    .dataframe tbody tr th {\n",
       "        vertical-align: top;\n",
       "    }\n",
       "\n",
       "    .dataframe thead th {\n",
       "        text-align: right;\n",
       "    }\n",
       "</style>\n",
       "<table border=\"1\" class=\"dataframe\">\n",
       "  <thead>\n",
       "    <tr style=\"text-align: right;\">\n",
       "      <th></th>\n",
       "      <th>tmdb_id</th>\n",
       "      <th>tmdb_homepage</th>\n",
       "      <th>title</th>\n",
       "      <th>language</th>\n",
       "      <th>release_date</th>\n",
       "      <th>runtime</th>\n",
       "      <th>director</th>\n",
       "      <th>actors</th>\n",
       "      <th>genres</th>\n",
       "      <th>keywords</th>\n",
       "      <th>overview</th>\n",
       "      <th>budget</th>\n",
       "      <th>revenue</th>\n",
       "      <th>popularity</th>\n",
       "      <th>vote_average</th>\n",
       "      <th>vote_count</th>\n",
       "      <th>updated_at</th>\n",
       "    </tr>\n",
       "  </thead>\n",
       "  <tbody>\n",
       "    <tr>\n",
       "      <th>0</th>\n",
       "      <td>5</td>\n",
       "      <td>https://www.themoviedb.org/movie/5</td>\n",
       "      <td>Four Rooms</td>\n",
       "      <td>en</td>\n",
       "      <td>1995-12-09</td>\n",
       "      <td>98</td>\n",
       "      <td>Allison Anders</td>\n",
       "      <td>[Tim Roth, Jennifer Beals, Antonio Banderas, V...</td>\n",
       "      <td>[Comedy]</td>\n",
       "      <td>[hotel, new year's eve, witch, bet, hotel room...</td>\n",
       "      <td>It's Ted the Bellhop's first night on the job....</td>\n",
       "      <td>4000000</td>\n",
       "      <td>4257354</td>\n",
       "      <td>21.138</td>\n",
       "      <td>5.789</td>\n",
       "      <td>2443</td>\n",
       "      <td>2023-10-24 22:21:59.026204</td>\n",
       "    </tr>\n",
       "    <tr>\n",
       "      <th>1</th>\n",
       "      <td>11</td>\n",
       "      <td>https://www.themoviedb.org/movie/11</td>\n",
       "      <td>Star Wars</td>\n",
       "      <td>en</td>\n",
       "      <td>1977-05-25</td>\n",
       "      <td>121</td>\n",
       "      <td>George Lucas</td>\n",
       "      <td>[Mark Hamill, Harrison Ford, Carrie Fisher, Pe...</td>\n",
       "      <td>[Adventure, Action, Science Fiction]</td>\n",
       "      <td>[android, galaxy, hermit, smuggling (contraban...</td>\n",
       "      <td>Princess Leia is captured and held hostage by ...</td>\n",
       "      <td>11000000</td>\n",
       "      <td>775398007</td>\n",
       "      <td>88.613</td>\n",
       "      <td>8.204</td>\n",
       "      <td>19236</td>\n",
       "      <td>2023-10-24 22:21:59.026204</td>\n",
       "    </tr>\n",
       "    <tr>\n",
       "      <th>2</th>\n",
       "      <td>12</td>\n",
       "      <td>https://www.themoviedb.org/movie/12</td>\n",
       "      <td>Finding Nemo</td>\n",
       "      <td>en</td>\n",
       "      <td>2003-05-30</td>\n",
       "      <td>100</td>\n",
       "      <td>Andrew Stanton</td>\n",
       "      <td>[Albert Brooks, Ellen DeGeneres, Alexander Gou...</td>\n",
       "      <td>[Animation, Family]</td>\n",
       "      <td>[parent child relationship, sydney, australia,...</td>\n",
       "      <td>Nemo, an adventurous young clownfish, is unexp...</td>\n",
       "      <td>94000000</td>\n",
       "      <td>940335536</td>\n",
       "      <td>92.459</td>\n",
       "      <td>7.824</td>\n",
       "      <td>18132</td>\n",
       "      <td>2023-10-24 22:21:59.026204</td>\n",
       "    </tr>\n",
       "    <tr>\n",
       "      <th>3</th>\n",
       "      <td>13</td>\n",
       "      <td>https://www.themoviedb.org/movie/13</td>\n",
       "      <td>Forrest Gump</td>\n",
       "      <td>en</td>\n",
       "      <td>1994-06-23</td>\n",
       "      <td>142</td>\n",
       "      <td>Robert Zemeckis</td>\n",
       "      <td>[Tom Hanks, Robin Wright, Gary Sinise, Sally F...</td>\n",
       "      <td>[Comedy, Drama, Romance]</td>\n",
       "      <td>[vietnam veteran, post-traumatic stress disord...</td>\n",
       "      <td>A man with a low IQ has accomplished great thi...</td>\n",
       "      <td>55000000</td>\n",
       "      <td>677387716</td>\n",
       "      <td>84.723</td>\n",
       "      <td>8.477</td>\n",
       "      <td>25544</td>\n",
       "      <td>2023-10-24 22:21:59.026204</td>\n",
       "    </tr>\n",
       "    <tr>\n",
       "      <th>4</th>\n",
       "      <td>14</td>\n",
       "      <td>https://www.themoviedb.org/movie/14</td>\n",
       "      <td>American Beauty</td>\n",
       "      <td>en</td>\n",
       "      <td>1999-09-15</td>\n",
       "      <td>122</td>\n",
       "      <td>Sam Mendes</td>\n",
       "      <td>[Kevin Spacey, Annette Bening, Thora Birch, We...</td>\n",
       "      <td>[Drama]</td>\n",
       "      <td>[adultery, age difference, parent child relati...</td>\n",
       "      <td>Lester Burnham, a depressed suburban father in...</td>\n",
       "      <td>15000000</td>\n",
       "      <td>356296601</td>\n",
       "      <td>35.477</td>\n",
       "      <td>8.021</td>\n",
       "      <td>11317</td>\n",
       "      <td>2023-10-24 22:21:59.026204</td>\n",
       "    </tr>\n",
       "  </tbody>\n",
       "</table>\n",
       "</div>"
      ]
     },
     "metadata": {
      "application/vnd.databricks.v1+output": {
       "addedWidgets": {},
       "arguments": {},
       "data": "<div>\n<style scoped>\n    .dataframe tbody tr th:only-of-type {\n        vertical-align: middle;\n    }\n\n    .dataframe tbody tr th {\n        vertical-align: top;\n    }\n\n    .dataframe thead th {\n        text-align: right;\n    }\n</style>\n<table border=\"1\" class=\"dataframe\">\n  <thead>\n    <tr style=\"text-align: right;\">\n      <th></th>\n      <th>tmdb_id</th>\n      <th>tmdb_homepage</th>\n      <th>title</th>\n      <th>language</th>\n      <th>release_date</th>\n      <th>runtime</th>\n      <th>director</th>\n      <th>actors</th>\n      <th>genres</th>\n      <th>keywords</th>\n      <th>overview</th>\n      <th>budget</th>\n      <th>revenue</th>\n      <th>popularity</th>\n      <th>vote_average</th>\n      <th>vote_count</th>\n      <th>updated_at</th>\n    </tr>\n  </thead>\n  <tbody>\n    <tr>\n      <th>0</th>\n      <td>5</td>\n      <td>https://www.themoviedb.org/movie/5</td>\n      <td>Four Rooms</td>\n      <td>en</td>\n      <td>1995-12-09</td>\n      <td>98</td>\n      <td>Allison Anders</td>\n      <td>[Tim Roth, Jennifer Beals, Antonio Banderas, V...</td>\n      <td>[Comedy]</td>\n      <td>[hotel, new year's eve, witch, bet, hotel room...</td>\n      <td>It's Ted the Bellhop's first night on the job....</td>\n      <td>4000000</td>\n      <td>4257354</td>\n      <td>21.138</td>\n      <td>5.789</td>\n      <td>2443</td>\n      <td>2023-10-24 22:21:59.026204</td>\n    </tr>\n    <tr>\n      <th>1</th>\n      <td>11</td>\n      <td>https://www.themoviedb.org/movie/11</td>\n      <td>Star Wars</td>\n      <td>en</td>\n      <td>1977-05-25</td>\n      <td>121</td>\n      <td>George Lucas</td>\n      <td>[Mark Hamill, Harrison Ford, Carrie Fisher, Pe...</td>\n      <td>[Adventure, Action, Science Fiction]</td>\n      <td>[android, galaxy, hermit, smuggling (contraban...</td>\n      <td>Princess Leia is captured and held hostage by ...</td>\n      <td>11000000</td>\n      <td>775398007</td>\n      <td>88.613</td>\n      <td>8.204</td>\n      <td>19236</td>\n      <td>2023-10-24 22:21:59.026204</td>\n    </tr>\n    <tr>\n      <th>2</th>\n      <td>12</td>\n      <td>https://www.themoviedb.org/movie/12</td>\n      <td>Finding Nemo</td>\n      <td>en</td>\n      <td>2003-05-30</td>\n      <td>100</td>\n      <td>Andrew Stanton</td>\n      <td>[Albert Brooks, Ellen DeGeneres, Alexander Gou...</td>\n      <td>[Animation, Family]</td>\n      <td>[parent child relationship, sydney, australia,...</td>\n      <td>Nemo, an adventurous young clownfish, is unexp...</td>\n      <td>94000000</td>\n      <td>940335536</td>\n      <td>92.459</td>\n      <td>7.824</td>\n      <td>18132</td>\n      <td>2023-10-24 22:21:59.026204</td>\n    </tr>\n    <tr>\n      <th>3</th>\n      <td>13</td>\n      <td>https://www.themoviedb.org/movie/13</td>\n      <td>Forrest Gump</td>\n      <td>en</td>\n      <td>1994-06-23</td>\n      <td>142</td>\n      <td>Robert Zemeckis</td>\n      <td>[Tom Hanks, Robin Wright, Gary Sinise, Sally F...</td>\n      <td>[Comedy, Drama, Romance]</td>\n      <td>[vietnam veteran, post-traumatic stress disord...</td>\n      <td>A man with a low IQ has accomplished great thi...</td>\n      <td>55000000</td>\n      <td>677387716</td>\n      <td>84.723</td>\n      <td>8.477</td>\n      <td>25544</td>\n      <td>2023-10-24 22:21:59.026204</td>\n    </tr>\n    <tr>\n      <th>4</th>\n      <td>14</td>\n      <td>https://www.themoviedb.org/movie/14</td>\n      <td>American Beauty</td>\n      <td>en</td>\n      <td>1999-09-15</td>\n      <td>122</td>\n      <td>Sam Mendes</td>\n      <td>[Kevin Spacey, Annette Bening, Thora Birch, We...</td>\n      <td>[Drama]</td>\n      <td>[adultery, age difference, parent child relati...</td>\n      <td>Lester Burnham, a depressed suburban father in...</td>\n      <td>15000000</td>\n      <td>356296601</td>\n      <td>35.477</td>\n      <td>8.021</td>\n      <td>11317</td>\n      <td>2023-10-24 22:21:59.026204</td>\n    </tr>\n  </tbody>\n</table>\n</div>",
       "datasetInfos": [],
       "metadata": {},
       "removedWidgets": [],
       "textData": null,
       "type": "htmlSandbox"
      }
     },
     "output_type": "display_data"
    }
   ],
   "source": [
    "movies_pandas = movies \\\n",
    "    .drop(\"status\") \\\n",
    "    .withColumnRenamed(\"cast\", \"actors\") \\\n",
    "    .withColumn(\"updated_at\", f.lit(updated_at)) \\\n",
    "    .select(\n",
    "        \"tmdb_id\", \"tmdb_homepage\", \"title\", \"language\", \"release_date\", \"runtime\", \"director\", \"actors\", \"genres\", \n",
    "        \"keywords\", \"overview\", \"budget\", \"revenue\", \"popularity\",\"vote_average\", \"vote_count\", \"updated_at\"\n",
    "    ) \\\n",
    "    .toPandas()\n",
    "movies_pandas.head()"
   ]
  },
  {
   "cell_type": "markdown",
   "metadata": {
    "application/vnd.databricks.v1+cell": {
     "cellMetadata": {},
     "inputWidgets": {},
     "nuid": "9cece492-c13e-48d4-93e0-a5a595a25c05",
     "showTitle": false,
     "title": ""
    }
   },
   "source": [
    "#### Format the `Ratings` Table"
   ]
  },
  {
   "cell_type": "code",
   "execution_count": null,
   "metadata": {
    "application/vnd.databricks.v1+cell": {
     "cellMetadata": {
      "byteLimit": 2048000,
      "rowLimit": 10000
     },
     "inputWidgets": {},
     "nuid": "ceecd3d0-262a-455e-a902-527319cc04fc",
     "showTitle": false,
     "title": ""
    }
   },
   "outputs": [
    {
     "data": {
      "text/html": [
       "<div>\n",
       "<style scoped>\n",
       "    .dataframe tbody tr th:only-of-type {\n",
       "        vertical-align: middle;\n",
       "    }\n",
       "\n",
       "    .dataframe tbody tr th {\n",
       "        vertical-align: top;\n",
       "    }\n",
       "\n",
       "    .dataframe thead th {\n",
       "        text-align: right;\n",
       "    }\n",
       "</style>\n",
       "<table border=\"1\" class=\"dataframe\">\n",
       "  <thead>\n",
       "    <tr style=\"text-align: right;\">\n",
       "      <th></th>\n",
       "      <th>user_id</th>\n",
       "      <th>tmdb_id</th>\n",
       "      <th>rating</th>\n",
       "      <th>updated_at</th>\n",
       "    </tr>\n",
       "  </thead>\n",
       "  <tbody>\n",
       "    <tr>\n",
       "      <th>0</th>\n",
       "      <td>304</td>\n",
       "      <td>1572</td>\n",
       "      <td>4.0</td>\n",
       "      <td>2023-10-24 22:21:59.026204</td>\n",
       "    </tr>\n",
       "    <tr>\n",
       "      <th>1</th>\n",
       "      <td>469</td>\n",
       "      <td>2108</td>\n",
       "      <td>5.0</td>\n",
       "      <td>2023-10-24 22:21:59.026204</td>\n",
       "    </tr>\n",
       "    <tr>\n",
       "      <th>2</th>\n",
       "      <td>247</td>\n",
       "      <td>98</td>\n",
       "      <td>4.0</td>\n",
       "      <td>2023-10-24 22:21:59.026204</td>\n",
       "    </tr>\n",
       "    <tr>\n",
       "      <th>3</th>\n",
       "      <td>307</td>\n",
       "      <td>1592</td>\n",
       "      <td>4.0</td>\n",
       "      <td>2023-10-24 22:21:59.026204</td>\n",
       "    </tr>\n",
       "    <tr>\n",
       "      <th>4</th>\n",
       "      <td>477</td>\n",
       "      <td>2048</td>\n",
       "      <td>3.5</td>\n",
       "      <td>2023-10-24 22:21:59.026204</td>\n",
       "    </tr>\n",
       "  </tbody>\n",
       "</table>\n",
       "</div>"
      ]
     },
     "metadata": {
      "application/vnd.databricks.v1+output": {
       "addedWidgets": {},
       "arguments": {},
       "data": "<div>\n<style scoped>\n    .dataframe tbody tr th:only-of-type {\n        vertical-align: middle;\n    }\n\n    .dataframe tbody tr th {\n        vertical-align: top;\n    }\n\n    .dataframe thead th {\n        text-align: right;\n    }\n</style>\n<table border=\"1\" class=\"dataframe\">\n  <thead>\n    <tr style=\"text-align: right;\">\n      <th></th>\n      <th>user_id</th>\n      <th>tmdb_id</th>\n      <th>rating</th>\n      <th>updated_at</th>\n    </tr>\n  </thead>\n  <tbody>\n    <tr>\n      <th>0</th>\n      <td>304</td>\n      <td>1572</td>\n      <td>4.0</td>\n      <td>2023-10-24 22:21:59.026204</td>\n    </tr>\n    <tr>\n      <th>1</th>\n      <td>469</td>\n      <td>2108</td>\n      <td>5.0</td>\n      <td>2023-10-24 22:21:59.026204</td>\n    </tr>\n    <tr>\n      <th>2</th>\n      <td>247</td>\n      <td>98</td>\n      <td>4.0</td>\n      <td>2023-10-24 22:21:59.026204</td>\n    </tr>\n    <tr>\n      <th>3</th>\n      <td>307</td>\n      <td>1592</td>\n      <td>4.0</td>\n      <td>2023-10-24 22:21:59.026204</td>\n    </tr>\n    <tr>\n      <th>4</th>\n      <td>477</td>\n      <td>2048</td>\n      <td>3.5</td>\n      <td>2023-10-24 22:21:59.026204</td>\n    </tr>\n  </tbody>\n</table>\n</div>",
       "datasetInfos": [],
       "metadata": {},
       "removedWidgets": [],
       "textData": null,
       "type": "htmlSandbox"
      }
     },
     "output_type": "display_data"
    }
   ],
   "source": [
    "ratings_pandas = ratings.drop('timestamp').withColumn(\"updated_at\", f.lit(updated_at)).toPandas()\n",
    "ratings_pandas.head()"
   ]
  },
  {
   "cell_type": "markdown",
   "metadata": {
    "application/vnd.databricks.v1+cell": {
     "cellMetadata": {},
     "inputWidgets": {},
     "nuid": "7815d492-68c0-4b58-82cf-ad46cb01eb3d",
     "showTitle": false,
     "title": ""
    }
   },
   "source": [
    "#### Save the Formatted Data as JSONLines"
   ]
  },
  {
   "cell_type": "code",
   "execution_count": null,
   "metadata": {
    "application/vnd.databricks.v1+cell": {
     "cellMetadata": {
      "byteLimit": 2048000,
      "rowLimit": 10000
     },
     "inputWidgets": {},
     "nuid": "ca9faac7-6868-4928-aa17-093b5d3ad945",
     "showTitle": false,
     "title": ""
    }
   },
   "outputs": [],
   "source": [
    "users_pandas.to_json(os.path.join(JSON_PATH, \"users.json\"), orient=\"records\", lines=True, date_format=\"iso\")"
   ]
  },
  {
   "cell_type": "code",
   "execution_count": null,
   "metadata": {
    "application/vnd.databricks.v1+cell": {
     "cellMetadata": {
      "byteLimit": 2048000,
      "rowLimit": 10000
     },
     "inputWidgets": {},
     "nuid": "0d1495cd-9022-4774-ad67-584318c57546",
     "showTitle": false,
     "title": ""
    }
   },
   "outputs": [],
   "source": [
    "movies_pandas.to_json(os.path.join(JSON_PATH, \"movies.json\"), orient=\"records\", lines=True, date_format=\"iso\")"
   ]
  },
  {
   "cell_type": "code",
   "execution_count": null,
   "metadata": {
    "application/vnd.databricks.v1+cell": {
     "cellMetadata": {
      "byteLimit": 2048000,
      "rowLimit": 10000
     },
     "inputWidgets": {},
     "nuid": "aa8dd03f-d4c7-4b67-b9fe-8f4fdcaa0327",
     "showTitle": false,
     "title": ""
    }
   },
   "outputs": [],
   "source": [
    "ratings_pandas.to_json(os.path.join(JSON_PATH, \"ratings.json\"), orient=\"records\", lines=True, date_format=\"iso\")"
   ]
  },
  {
   "cell_type": "markdown",
   "metadata": {
    "application/vnd.databricks.v1+cell": {
     "cellMetadata": {},
     "inputWidgets": {},
     "nuid": "8432c94c-2aab-4da3-b253-289a6f66465d",
     "showTitle": false,
     "title": ""
    }
   },
   "source": [
    "#### Read the Formatted Data as JSONLines"
   ]
  },
  {
   "cell_type": "code",
   "execution_count": null,
   "metadata": {
    "application/vnd.databricks.v1+cell": {
     "cellMetadata": {
      "byteLimit": 2048000,
      "rowLimit": 10000
     },
     "inputWidgets": {},
     "nuid": "a32f0aef-0d52-43c7-b871-749c1b225330",
     "showTitle": false,
     "title": ""
    }
   },
   "outputs": [
    {
     "data": {
      "text/html": [
       "<div>\n",
       "<style scoped>\n",
       "    .dataframe tbody tr th:only-of-type {\n",
       "        vertical-align: middle;\n",
       "    }\n",
       "\n",
       "    .dataframe tbody tr th {\n",
       "        vertical-align: top;\n",
       "    }\n",
       "\n",
       "    .dataframe thead th {\n",
       "        text-align: right;\n",
       "    }\n",
       "</style>\n",
       "<table border=\"1\" class=\"dataframe\">\n",
       "  <thead>\n",
       "    <tr style=\"text-align: right;\">\n",
       "      <th></th>\n",
       "      <th>user_id</th>\n",
       "      <th>email</th>\n",
       "      <th>hashed_password</th>\n",
       "      <th>fname</th>\n",
       "      <th>lname</th>\n",
       "      <th>updated_at</th>\n",
       "    </tr>\n",
       "  </thead>\n",
       "  <tbody>\n",
       "    <tr>\n",
       "      <th>0</th>\n",
       "      <td>467</td>\n",
       "      <td>ANONYMOUS@ANONYMOUS.COM</td>\n",
       "      <td>37dac418e085726bf77f285c48558dcf9b3486ed184386...</td>\n",
       "      <td>ANONYMOUS</td>\n",
       "      <td>ANONYMOUS</td>\n",
       "      <td>2023-10-24 22:21:59.026000+00:00</td>\n",
       "    </tr>\n",
       "    <tr>\n",
       "      <th>1</th>\n",
       "      <td>296</td>\n",
       "      <td>ANONYMOUS@ANONYMOUS.COM</td>\n",
       "      <td>37dac418e085726bf77f285c48558dcf9b3486ed184386...</td>\n",
       "      <td>ANONYMOUS</td>\n",
       "      <td>ANONYMOUS</td>\n",
       "      <td>2023-10-24 22:21:59.026000+00:00</td>\n",
       "    </tr>\n",
       "    <tr>\n",
       "      <th>2</th>\n",
       "      <td>125</td>\n",
       "      <td>ANONYMOUS@ANONYMOUS.COM</td>\n",
       "      <td>37dac418e085726bf77f285c48558dcf9b3486ed184386...</td>\n",
       "      <td>ANONYMOUS</td>\n",
       "      <td>ANONYMOUS</td>\n",
       "      <td>2023-10-24 22:21:59.026000+00:00</td>\n",
       "    </tr>\n",
       "    <tr>\n",
       "      <th>3</th>\n",
       "      <td>451</td>\n",
       "      <td>ANONYMOUS@ANONYMOUS.COM</td>\n",
       "      <td>37dac418e085726bf77f285c48558dcf9b3486ed184386...</td>\n",
       "      <td>ANONYMOUS</td>\n",
       "      <td>ANONYMOUS</td>\n",
       "      <td>2023-10-24 22:21:59.026000+00:00</td>\n",
       "    </tr>\n",
       "    <tr>\n",
       "      <th>4</th>\n",
       "      <td>51</td>\n",
       "      <td>ANONYMOUS@ANONYMOUS.COM</td>\n",
       "      <td>37dac418e085726bf77f285c48558dcf9b3486ed184386...</td>\n",
       "      <td>ANONYMOUS</td>\n",
       "      <td>ANONYMOUS</td>\n",
       "      <td>2023-10-24 22:21:59.026000+00:00</td>\n",
       "    </tr>\n",
       "  </tbody>\n",
       "</table>\n",
       "</div>"
      ]
     },
     "metadata": {
      "application/vnd.databricks.v1+output": {
       "addedWidgets": {},
       "arguments": {},
       "data": "<div>\n<style scoped>\n    .dataframe tbody tr th:only-of-type {\n        vertical-align: middle;\n    }\n\n    .dataframe tbody tr th {\n        vertical-align: top;\n    }\n\n    .dataframe thead th {\n        text-align: right;\n    }\n</style>\n<table border=\"1\" class=\"dataframe\">\n  <thead>\n    <tr style=\"text-align: right;\">\n      <th></th>\n      <th>user_id</th>\n      <th>email</th>\n      <th>hashed_password</th>\n      <th>fname</th>\n      <th>lname</th>\n      <th>updated_at</th>\n    </tr>\n  </thead>\n  <tbody>\n    <tr>\n      <th>0</th>\n      <td>467</td>\n      <td>ANONYMOUS@ANONYMOUS.COM</td>\n      <td>37dac418e085726bf77f285c48558dcf9b3486ed184386...</td>\n      <td>ANONYMOUS</td>\n      <td>ANONYMOUS</td>\n      <td>2023-10-24 22:21:59.026000+00:00</td>\n    </tr>\n    <tr>\n      <th>1</th>\n      <td>296</td>\n      <td>ANONYMOUS@ANONYMOUS.COM</td>\n      <td>37dac418e085726bf77f285c48558dcf9b3486ed184386...</td>\n      <td>ANONYMOUS</td>\n      <td>ANONYMOUS</td>\n      <td>2023-10-24 22:21:59.026000+00:00</td>\n    </tr>\n    <tr>\n      <th>2</th>\n      <td>125</td>\n      <td>ANONYMOUS@ANONYMOUS.COM</td>\n      <td>37dac418e085726bf77f285c48558dcf9b3486ed184386...</td>\n      <td>ANONYMOUS</td>\n      <td>ANONYMOUS</td>\n      <td>2023-10-24 22:21:59.026000+00:00</td>\n    </tr>\n    <tr>\n      <th>3</th>\n      <td>451</td>\n      <td>ANONYMOUS@ANONYMOUS.COM</td>\n      <td>37dac418e085726bf77f285c48558dcf9b3486ed184386...</td>\n      <td>ANONYMOUS</td>\n      <td>ANONYMOUS</td>\n      <td>2023-10-24 22:21:59.026000+00:00</td>\n    </tr>\n    <tr>\n      <th>4</th>\n      <td>51</td>\n      <td>ANONYMOUS@ANONYMOUS.COM</td>\n      <td>37dac418e085726bf77f285c48558dcf9b3486ed184386...</td>\n      <td>ANONYMOUS</td>\n      <td>ANONYMOUS</td>\n      <td>2023-10-24 22:21:59.026000+00:00</td>\n    </tr>\n  </tbody>\n</table>\n</div>",
       "datasetInfos": [],
       "metadata": {},
       "removedWidgets": [],
       "textData": null,
       "type": "htmlSandbox"
      }
     },
     "output_type": "display_data"
    }
   ],
   "source": [
    "users = pd.read_json(os.path.join(JSON_PATH, \"users.json\"), orient=\"records\", lines=True)\n",
    "users.head()"
   ]
  },
  {
   "cell_type": "code",
   "execution_count": null,
   "metadata": {
    "application/vnd.databricks.v1+cell": {
     "cellMetadata": {
      "byteLimit": 2048000,
      "rowLimit": 10000
     },
     "inputWidgets": {},
     "nuid": "abea6c99-13b5-441a-8ef7-00d138d7fea0",
     "showTitle": false,
     "title": ""
    }
   },
   "outputs": [
    {
     "data": {
      "text/html": [
       "<div>\n",
       "<style scoped>\n",
       "    .dataframe tbody tr th:only-of-type {\n",
       "        vertical-align: middle;\n",
       "    }\n",
       "\n",
       "    .dataframe tbody tr th {\n",
       "        vertical-align: top;\n",
       "    }\n",
       "\n",
       "    .dataframe thead th {\n",
       "        text-align: right;\n",
       "    }\n",
       "</style>\n",
       "<table border=\"1\" class=\"dataframe\">\n",
       "  <thead>\n",
       "    <tr style=\"text-align: right;\">\n",
       "      <th></th>\n",
       "      <th>tmdb_id</th>\n",
       "      <th>tmdb_homepage</th>\n",
       "      <th>title</th>\n",
       "      <th>language</th>\n",
       "      <th>release_date</th>\n",
       "      <th>runtime</th>\n",
       "      <th>director</th>\n",
       "      <th>actors</th>\n",
       "      <th>genres</th>\n",
       "      <th>keywords</th>\n",
       "      <th>overview</th>\n",
       "      <th>budget</th>\n",
       "      <th>revenue</th>\n",
       "      <th>popularity</th>\n",
       "      <th>vote_average</th>\n",
       "      <th>vote_count</th>\n",
       "      <th>updated_at</th>\n",
       "    </tr>\n",
       "  </thead>\n",
       "  <tbody>\n",
       "    <tr>\n",
       "      <th>0</th>\n",
       "      <td>5</td>\n",
       "      <td>https://www.themoviedb.org/movie/5</td>\n",
       "      <td>Four Rooms</td>\n",
       "      <td>en</td>\n",
       "      <td>1995-12-09</td>\n",
       "      <td>98</td>\n",
       "      <td>Allison Anders</td>\n",
       "      <td>[Tim Roth, Jennifer Beals, Antonio Banderas, V...</td>\n",
       "      <td>[Comedy]</td>\n",
       "      <td>[hotel, new year's eve, witch, bet, hotel room...</td>\n",
       "      <td>It's Ted the Bellhop's first night on the job....</td>\n",
       "      <td>4000000</td>\n",
       "      <td>4257354</td>\n",
       "      <td>21.138</td>\n",
       "      <td>5.789</td>\n",
       "      <td>2443</td>\n",
       "      <td>2023-10-24 22:21:59.026000+00:00</td>\n",
       "    </tr>\n",
       "    <tr>\n",
       "      <th>1</th>\n",
       "      <td>11</td>\n",
       "      <td>https://www.themoviedb.org/movie/11</td>\n",
       "      <td>Star Wars</td>\n",
       "      <td>en</td>\n",
       "      <td>1977-05-25</td>\n",
       "      <td>121</td>\n",
       "      <td>George Lucas</td>\n",
       "      <td>[Mark Hamill, Harrison Ford, Carrie Fisher, Pe...</td>\n",
       "      <td>[Adventure, Action, Science Fiction]</td>\n",
       "      <td>[android, galaxy, hermit, smuggling (contraban...</td>\n",
       "      <td>Princess Leia is captured and held hostage by ...</td>\n",
       "      <td>11000000</td>\n",
       "      <td>775398007</td>\n",
       "      <td>88.613</td>\n",
       "      <td>8.204</td>\n",
       "      <td>19236</td>\n",
       "      <td>2023-10-24 22:21:59.026000+00:00</td>\n",
       "    </tr>\n",
       "    <tr>\n",
       "      <th>2</th>\n",
       "      <td>12</td>\n",
       "      <td>https://www.themoviedb.org/movie/12</td>\n",
       "      <td>Finding Nemo</td>\n",
       "      <td>en</td>\n",
       "      <td>2003-05-30</td>\n",
       "      <td>100</td>\n",
       "      <td>Andrew Stanton</td>\n",
       "      <td>[Albert Brooks, Ellen DeGeneres, Alexander Gou...</td>\n",
       "      <td>[Animation, Family]</td>\n",
       "      <td>[parent child relationship, sydney, australia,...</td>\n",
       "      <td>Nemo, an adventurous young clownfish, is unexp...</td>\n",
       "      <td>94000000</td>\n",
       "      <td>940335536</td>\n",
       "      <td>92.459</td>\n",
       "      <td>7.824</td>\n",
       "      <td>18132</td>\n",
       "      <td>2023-10-24 22:21:59.026000+00:00</td>\n",
       "    </tr>\n",
       "    <tr>\n",
       "      <th>3</th>\n",
       "      <td>13</td>\n",
       "      <td>https://www.themoviedb.org/movie/13</td>\n",
       "      <td>Forrest Gump</td>\n",
       "      <td>en</td>\n",
       "      <td>1994-06-23</td>\n",
       "      <td>142</td>\n",
       "      <td>Robert Zemeckis</td>\n",
       "      <td>[Tom Hanks, Robin Wright, Gary Sinise, Sally F...</td>\n",
       "      <td>[Comedy, Drama, Romance]</td>\n",
       "      <td>[vietnam veteran, post-traumatic stress disord...</td>\n",
       "      <td>A man with a low IQ has accomplished great thi...</td>\n",
       "      <td>55000000</td>\n",
       "      <td>677387716</td>\n",
       "      <td>84.723</td>\n",
       "      <td>8.477</td>\n",
       "      <td>25544</td>\n",
       "      <td>2023-10-24 22:21:59.026000+00:00</td>\n",
       "    </tr>\n",
       "    <tr>\n",
       "      <th>4</th>\n",
       "      <td>14</td>\n",
       "      <td>https://www.themoviedb.org/movie/14</td>\n",
       "      <td>American Beauty</td>\n",
       "      <td>en</td>\n",
       "      <td>1999-09-15</td>\n",
       "      <td>122</td>\n",
       "      <td>Sam Mendes</td>\n",
       "      <td>[Kevin Spacey, Annette Bening, Thora Birch, We...</td>\n",
       "      <td>[Drama]</td>\n",
       "      <td>[adultery, age difference, parent child relati...</td>\n",
       "      <td>Lester Burnham, a depressed suburban father in...</td>\n",
       "      <td>15000000</td>\n",
       "      <td>356296601</td>\n",
       "      <td>35.477</td>\n",
       "      <td>8.021</td>\n",
       "      <td>11317</td>\n",
       "      <td>2023-10-24 22:21:59.026000+00:00</td>\n",
       "    </tr>\n",
       "  </tbody>\n",
       "</table>\n",
       "</div>"
      ]
     },
     "metadata": {
      "application/vnd.databricks.v1+output": {
       "addedWidgets": {},
       "arguments": {},
       "data": "<div>\n<style scoped>\n    .dataframe tbody tr th:only-of-type {\n        vertical-align: middle;\n    }\n\n    .dataframe tbody tr th {\n        vertical-align: top;\n    }\n\n    .dataframe thead th {\n        text-align: right;\n    }\n</style>\n<table border=\"1\" class=\"dataframe\">\n  <thead>\n    <tr style=\"text-align: right;\">\n      <th></th>\n      <th>tmdb_id</th>\n      <th>tmdb_homepage</th>\n      <th>title</th>\n      <th>language</th>\n      <th>release_date</th>\n      <th>runtime</th>\n      <th>director</th>\n      <th>actors</th>\n      <th>genres</th>\n      <th>keywords</th>\n      <th>overview</th>\n      <th>budget</th>\n      <th>revenue</th>\n      <th>popularity</th>\n      <th>vote_average</th>\n      <th>vote_count</th>\n      <th>updated_at</th>\n    </tr>\n  </thead>\n  <tbody>\n    <tr>\n      <th>0</th>\n      <td>5</td>\n      <td>https://www.themoviedb.org/movie/5</td>\n      <td>Four Rooms</td>\n      <td>en</td>\n      <td>1995-12-09</td>\n      <td>98</td>\n      <td>Allison Anders</td>\n      <td>[Tim Roth, Jennifer Beals, Antonio Banderas, V...</td>\n      <td>[Comedy]</td>\n      <td>[hotel, new year's eve, witch, bet, hotel room...</td>\n      <td>It's Ted the Bellhop's first night on the job....</td>\n      <td>4000000</td>\n      <td>4257354</td>\n      <td>21.138</td>\n      <td>5.789</td>\n      <td>2443</td>\n      <td>2023-10-24 22:21:59.026000+00:00</td>\n    </tr>\n    <tr>\n      <th>1</th>\n      <td>11</td>\n      <td>https://www.themoviedb.org/movie/11</td>\n      <td>Star Wars</td>\n      <td>en</td>\n      <td>1977-05-25</td>\n      <td>121</td>\n      <td>George Lucas</td>\n      <td>[Mark Hamill, Harrison Ford, Carrie Fisher, Pe...</td>\n      <td>[Adventure, Action, Science Fiction]</td>\n      <td>[android, galaxy, hermit, smuggling (contraban...</td>\n      <td>Princess Leia is captured and held hostage by ...</td>\n      <td>11000000</td>\n      <td>775398007</td>\n      <td>88.613</td>\n      <td>8.204</td>\n      <td>19236</td>\n      <td>2023-10-24 22:21:59.026000+00:00</td>\n    </tr>\n    <tr>\n      <th>2</th>\n      <td>12</td>\n      <td>https://www.themoviedb.org/movie/12</td>\n      <td>Finding Nemo</td>\n      <td>en</td>\n      <td>2003-05-30</td>\n      <td>100</td>\n      <td>Andrew Stanton</td>\n      <td>[Albert Brooks, Ellen DeGeneres, Alexander Gou...</td>\n      <td>[Animation, Family]</td>\n      <td>[parent child relationship, sydney, australia,...</td>\n      <td>Nemo, an adventurous young clownfish, is unexp...</td>\n      <td>94000000</td>\n      <td>940335536</td>\n      <td>92.459</td>\n      <td>7.824</td>\n      <td>18132</td>\n      <td>2023-10-24 22:21:59.026000+00:00</td>\n    </tr>\n    <tr>\n      <th>3</th>\n      <td>13</td>\n      <td>https://www.themoviedb.org/movie/13</td>\n      <td>Forrest Gump</td>\n      <td>en</td>\n      <td>1994-06-23</td>\n      <td>142</td>\n      <td>Robert Zemeckis</td>\n      <td>[Tom Hanks, Robin Wright, Gary Sinise, Sally F...</td>\n      <td>[Comedy, Drama, Romance]</td>\n      <td>[vietnam veteran, post-traumatic stress disord...</td>\n      <td>A man with a low IQ has accomplished great thi...</td>\n      <td>55000000</td>\n      <td>677387716</td>\n      <td>84.723</td>\n      <td>8.477</td>\n      <td>25544</td>\n      <td>2023-10-24 22:21:59.026000+00:00</td>\n    </tr>\n    <tr>\n      <th>4</th>\n      <td>14</td>\n      <td>https://www.themoviedb.org/movie/14</td>\n      <td>American Beauty</td>\n      <td>en</td>\n      <td>1999-09-15</td>\n      <td>122</td>\n      <td>Sam Mendes</td>\n      <td>[Kevin Spacey, Annette Bening, Thora Birch, We...</td>\n      <td>[Drama]</td>\n      <td>[adultery, age difference, parent child relati...</td>\n      <td>Lester Burnham, a depressed suburban father in...</td>\n      <td>15000000</td>\n      <td>356296601</td>\n      <td>35.477</td>\n      <td>8.021</td>\n      <td>11317</td>\n      <td>2023-10-24 22:21:59.026000+00:00</td>\n    </tr>\n  </tbody>\n</table>\n</div>",
       "datasetInfos": [],
       "metadata": {},
       "removedWidgets": [],
       "textData": null,
       "type": "htmlSandbox"
      }
     },
     "output_type": "display_data"
    }
   ],
   "source": [
    "movies = pd.read_json(os.path.join(JSON_PATH, \"movies.json\"), orient=\"records\", lines=True)\n",
    "movies.head()"
   ]
  },
  {
   "cell_type": "code",
   "execution_count": null,
   "metadata": {
    "application/vnd.databricks.v1+cell": {
     "cellMetadata": {
      "byteLimit": 2048000,
      "rowLimit": 10000
     },
     "inputWidgets": {},
     "nuid": "3167bffe-7bf4-4fb0-8915-efd8478436b8",
     "showTitle": false,
     "title": ""
    }
   },
   "outputs": [
    {
     "data": {
      "text/html": [
       "<div>\n",
       "<style scoped>\n",
       "    .dataframe tbody tr th:only-of-type {\n",
       "        vertical-align: middle;\n",
       "    }\n",
       "\n",
       "    .dataframe tbody tr th {\n",
       "        vertical-align: top;\n",
       "    }\n",
       "\n",
       "    .dataframe thead th {\n",
       "        text-align: right;\n",
       "    }\n",
       "</style>\n",
       "<table border=\"1\" class=\"dataframe\">\n",
       "  <thead>\n",
       "    <tr style=\"text-align: right;\">\n",
       "      <th></th>\n",
       "      <th>user_id</th>\n",
       "      <th>tmdb_id</th>\n",
       "      <th>rating</th>\n",
       "      <th>updated_at</th>\n",
       "    </tr>\n",
       "  </thead>\n",
       "  <tbody>\n",
       "    <tr>\n",
       "      <th>0</th>\n",
       "      <td>304</td>\n",
       "      <td>1572</td>\n",
       "      <td>4.0</td>\n",
       "      <td>2023-10-24 22:21:59.026000+00:00</td>\n",
       "    </tr>\n",
       "    <tr>\n",
       "      <th>1</th>\n",
       "      <td>469</td>\n",
       "      <td>2108</td>\n",
       "      <td>5.0</td>\n",
       "      <td>2023-10-24 22:21:59.026000+00:00</td>\n",
       "    </tr>\n",
       "    <tr>\n",
       "      <th>2</th>\n",
       "      <td>247</td>\n",
       "      <td>98</td>\n",
       "      <td>4.0</td>\n",
       "      <td>2023-10-24 22:21:59.026000+00:00</td>\n",
       "    </tr>\n",
       "    <tr>\n",
       "      <th>3</th>\n",
       "      <td>307</td>\n",
       "      <td>1592</td>\n",
       "      <td>4.0</td>\n",
       "      <td>2023-10-24 22:21:59.026000+00:00</td>\n",
       "    </tr>\n",
       "    <tr>\n",
       "      <th>4</th>\n",
       "      <td>477</td>\n",
       "      <td>2048</td>\n",
       "      <td>3.5</td>\n",
       "      <td>2023-10-24 22:21:59.026000+00:00</td>\n",
       "    </tr>\n",
       "  </tbody>\n",
       "</table>\n",
       "</div>"
      ]
     },
     "metadata": {
      "application/vnd.databricks.v1+output": {
       "addedWidgets": {},
       "arguments": {},
       "data": "<div>\n<style scoped>\n    .dataframe tbody tr th:only-of-type {\n        vertical-align: middle;\n    }\n\n    .dataframe tbody tr th {\n        vertical-align: top;\n    }\n\n    .dataframe thead th {\n        text-align: right;\n    }\n</style>\n<table border=\"1\" class=\"dataframe\">\n  <thead>\n    <tr style=\"text-align: right;\">\n      <th></th>\n      <th>user_id</th>\n      <th>tmdb_id</th>\n      <th>rating</th>\n      <th>updated_at</th>\n    </tr>\n  </thead>\n  <tbody>\n    <tr>\n      <th>0</th>\n      <td>304</td>\n      <td>1572</td>\n      <td>4.0</td>\n      <td>2023-10-24 22:21:59.026000+00:00</td>\n    </tr>\n    <tr>\n      <th>1</th>\n      <td>469</td>\n      <td>2108</td>\n      <td>5.0</td>\n      <td>2023-10-24 22:21:59.026000+00:00</td>\n    </tr>\n    <tr>\n      <th>2</th>\n      <td>247</td>\n      <td>98</td>\n      <td>4.0</td>\n      <td>2023-10-24 22:21:59.026000+00:00</td>\n    </tr>\n    <tr>\n      <th>3</th>\n      <td>307</td>\n      <td>1592</td>\n      <td>4.0</td>\n      <td>2023-10-24 22:21:59.026000+00:00</td>\n    </tr>\n    <tr>\n      <th>4</th>\n      <td>477</td>\n      <td>2048</td>\n      <td>3.5</td>\n      <td>2023-10-24 22:21:59.026000+00:00</td>\n    </tr>\n  </tbody>\n</table>\n</div>",
       "datasetInfos": [],
       "metadata": {},
       "removedWidgets": [],
       "textData": null,
       "type": "htmlSandbox"
      }
     },
     "output_type": "display_data"
    }
   ],
   "source": [
    "ratings = pd.read_json(os.path.join(JSON_PATH, \"ratings.json\"), orient=\"records\", lines=True)\n",
    "ratings.head()"
   ]
  },
  {
   "cell_type": "markdown",
   "metadata": {
    "application/vnd.databricks.v1+cell": {
     "cellMetadata": {},
     "inputWidgets": {},
     "nuid": "85a5ec6a-4238-435f-9f97-52ee0f4c3a21",
     "showTitle": false,
     "title": ""
    }
   },
   "source": [
    "#### Create a DB Engine for SQLAlchemy Insertion"
   ]
  },
  {
   "cell_type": "code",
   "execution_count": null,
   "metadata": {
    "application/vnd.databricks.v1+cell": {
     "cellMetadata": {},
     "inputWidgets": {},
     "nuid": "ff330673-63a9-495a-8897-5c4e8f7857ae",
     "showTitle": false,
     "title": ""
    }
   },
   "outputs": [],
   "source": [
    "# FIXME"
   ]
  },
  {
   "cell_type": "markdown",
   "metadata": {
    "application/vnd.databricks.v1+cell": {
     "cellMetadata": {},
     "inputWidgets": {},
     "nuid": "4318ee91-2b93-4ebc-bde3-03253d3a05d1",
     "showTitle": false,
     "title": ""
    }
   },
   "source": [
    "#### Insert Into the Database"
   ]
  },
  {
   "cell_type": "code",
   "execution_count": null,
   "metadata": {
    "application/vnd.databricks.v1+cell": {
     "cellMetadata": {},
     "inputWidgets": {},
     "nuid": "2dc6fd1d-d92e-4566-bfdb-9ef226f1bdec",
     "showTitle": false,
     "title": ""
    }
   },
   "outputs": [],
   "source": [
    "# users.to_sql(name=\"users\", con=engine, index=False, if_exists=\"append\", chunksize=1000, method=\"multi\")"
   ]
  },
  {
   "cell_type": "code",
   "execution_count": null,
   "metadata": {
    "application/vnd.databricks.v1+cell": {
     "cellMetadata": {},
     "inputWidgets": {},
     "nuid": "58dd9a38-4596-44fc-89c2-3abe6f3cddae",
     "showTitle": false,
     "title": ""
    }
   },
   "outputs": [],
   "source": [
    "# movies.to_sql(name=\"movies\", con=engine, index=False, if_exists=\"append\", chunksize=1000, method=\"multi\")"
   ]
  },
  {
   "cell_type": "code",
   "execution_count": null,
   "metadata": {
    "application/vnd.databricks.v1+cell": {
     "cellMetadata": {},
     "inputWidgets": {},
     "nuid": "13fc6709-f9d3-4973-8934-0d4634ff4148",
     "showTitle": false,
     "title": ""
    }
   },
   "outputs": [],
   "source": [
    "# ratings.to_sql(name=\"ratings\", con=engine, index=False, if_exists=\"append\", chunksize=1000, method=\"multi\")"
   ]
  },
  {
   "cell_type": "code",
   "execution_count": null,
   "metadata": {
    "application/vnd.databricks.v1+cell": {
     "cellMetadata": {},
     "inputWidgets": {},
     "nuid": "12898425-95de-4d07-96ea-0a1f3a3f74bd",
     "showTitle": false,
     "title": ""
    }
   },
   "outputs": [],
   "source": [
    "from sqlalchemy import insert, select, update, delete\n",
    "from app import database"
   ]
  },
  {
   "cell_type": "code",
   "execution_count": null,
   "metadata": {
    "application/vnd.databricks.v1+cell": {
     "cellMetadata": {},
     "inputWidgets": {},
     "nuid": "22a1b970-6b79-415b-adb1-22e610d7af93",
     "showTitle": false,
     "title": ""
    }
   },
   "outputs": [],
   "source": [
    "with engine.begin() as cnx:\n",
    "    for m, movie in enumerate(movies.to_dict(orient=\"records\")):\n",
    "        try:\n",
    "            cnx.execute(insert(database.movies).values(**movie))\n",
    "        except DatabaseError:\n",
    "            print(f\"error with tmdb_id={movie['tmdb_id']}\")\n",
    "        if m % 10 == 0:\n",
    "            print(f\"iteration={m} tmdb_id={movie['tmdb_id']}\")"
   ]
  },
  {
   "cell_type": "code",
   "execution_count": null,
   "metadata": {
    "application/vnd.databricks.v1+cell": {
     "cellMetadata": {},
     "inputWidgets": {},
     "nuid": "3b1e7b52-09b8-4175-9a4c-e80d490d4d44",
     "showTitle": false,
     "title": ""
    }
   },
   "outputs": [],
   "source": []
  }
 ],
 "metadata": {
  "application/vnd.databricks.v1+notebook": {
   "dashboards": [],
   "language": "python",
   "notebookMetadata": {
    "pythonIndentUnit": 4
   },
   "notebookName": "populate-application-database",
   "widgets": {}
  },
  "kernelspec": {
   "display_name": "Python 3 (ipykernel)",
   "language": "python",
   "name": "python3"
  },
  "language_info": {
   "codemirror_mode": {
    "name": "ipython",
    "version": 3
   },
   "file_extension": ".py",
   "mimetype": "text/x-python",
   "name": "python",
   "nbconvert_exporter": "python",
   "pygments_lexer": "ipython3",
   "version": "3.9.18"
  }
 },
 "nbformat": 4,
 "nbformat_minor": 4
}
