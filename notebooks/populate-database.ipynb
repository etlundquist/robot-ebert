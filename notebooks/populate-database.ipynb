{
 "cells": [
  {
   "cell_type": "markdown",
   "metadata": {
    "application/vnd.databricks.v1+cell": {
     "cellMetadata": {},
     "inputWidgets": {},
     "nuid": "bb601ce6-f290-42ea-90a6-ca550d38e3ca",
     "showTitle": false,
     "title": ""
    }
   },
   "source": [
    "### Notebook Set-Up"
   ]
  },
  {
   "cell_type": "markdown",
   "metadata": {
    "application/vnd.databricks.v1+cell": {
     "cellMetadata": {},
     "inputWidgets": {},
     "nuid": "d89d1a2f-ce6b-4b4e-8779-eb60c1c7676d",
     "showTitle": false,
     "title": ""
    }
   },
   "source": [
    "#### Import Required Modules"
   ]
  },
  {
   "cell_type": "code",
   "execution_count": 1,
   "metadata": {
    "application/vnd.databricks.v1+cell": {
     "cellMetadata": {
      "byteLimit": 2048000,
      "rowLimit": 10000
     },
     "inputWidgets": {},
     "nuid": "7ad92141-2202-40f0-8029-bebb8b63e18b",
     "showTitle": false,
     "title": ""
    }
   },
   "outputs": [],
   "source": [
    "import os\n",
    "import json\n",
    "import duckdb\n",
    "\n",
    "from typing import List, Dict\n",
    "from dotenv import load_dotenv\n",
    "from datetime import datetime\n",
    "\n",
    "import numpy as np\n",
    "import pandas as pd\n",
    "\n",
    "from pyspark.sql import SparkSession\n",
    "from pyspark.sql import functions as f\n",
    "from pyspark.sql.window import Window"
   ]
  },
  {
   "cell_type": "markdown",
   "metadata": {
    "application/vnd.databricks.v1+cell": {
     "cellMetadata": {},
     "inputWidgets": {},
     "nuid": "3c66a3f9-fe90-46e2-ae65-5100be81faf0",
     "showTitle": false,
     "title": ""
    }
   },
   "source": [
    "#### Load Secrets as Environment Variables"
   ]
  },
  {
   "cell_type": "code",
   "execution_count": 33,
   "metadata": {
    "application/vnd.databricks.v1+cell": {
     "cellMetadata": {
      "byteLimit": 2048000,
      "rowLimit": 10000
     },
     "inputWidgets": {},
     "nuid": "34c6e1a3-0a28-4d1b-92aa-659c6b047bd2",
     "showTitle": false,
     "title": ""
    }
   },
   "outputs": [
    {
     "data": {
      "text/plain": [
       "True"
      ]
     },
     "execution_count": 33,
     "metadata": {},
     "output_type": "execute_result"
    }
   ],
   "source": [
    "load_dotenv()"
   ]
  },
  {
   "cell_type": "markdown",
   "metadata": {
    "application/vnd.databricks.v1+cell": {
     "cellMetadata": {},
     "inputWidgets": {},
     "nuid": "8de77a0b-a968-4306-a01f-cbf21973a372",
     "showTitle": false,
     "title": ""
    }
   },
   "source": [
    "#### Get or Create SparkSession"
   ]
  },
  {
   "cell_type": "code",
   "execution_count": 29,
   "metadata": {
    "application/vnd.databricks.v1+cell": {
     "cellMetadata": {
      "byteLimit": 2048000,
      "rowLimit": 10000
     },
     "inputWidgets": {},
     "nuid": "fcc0d9be-c3dd-4fbb-ba4f-5a413ce03d97",
     "showTitle": false,
     "title": ""
    }
   },
   "outputs": [
    {
     "data": {
      "text/html": [
       "\n",
       "            <div>\n",
       "                <p><b>SparkSession - in-memory</b></p>\n",
       "                \n",
       "        <div>\n",
       "            <p><b>SparkContext</b></p>\n",
       "\n",
       "            <p><a href=\"http://localhost:4041\">Spark UI</a></p>\n",
       "\n",
       "            <dl>\n",
       "              <dt>Version</dt>\n",
       "                <dd><code>v3.3.2</code></dd>\n",
       "              <dt>Master</dt>\n",
       "                <dd><code>local[*]</code></dd>\n",
       "              <dt>AppName</dt>\n",
       "                <dd><code>pyspark-shell</code></dd>\n",
       "            </dl>\n",
       "        </div>\n",
       "        \n",
       "            </div>\n",
       "        "
      ],
      "text/plain": [
       "<pyspark.sql.session.SparkSession at 0x1274a48b0>"
      ]
     },
     "execution_count": 29,
     "metadata": {},
     "output_type": "execute_result"
    }
   ],
   "source": [
    "spark = SparkSession.builder.getOrCreate()\n",
    "spark.sparkContext.setLogLevel(\"error\")\n",
    "spark"
   ]
  },
  {
   "cell_type": "markdown",
   "metadata": {},
   "source": [
    "#### Create a DuckDB Connection"
   ]
  },
  {
   "cell_type": "code",
   "execution_count": 4,
   "metadata": {},
   "outputs": [
    {
     "data": {
      "text/plain": [
       "<duckdb.duckdb.DuckDBPyConnection at 0x122fceef0>"
      ]
     },
     "execution_count": 4,
     "metadata": {},
     "output_type": "execute_result"
    }
   ],
   "source": [
    "cnx = duckdb.connect('../app/database.duckdb')\n",
    "cnx"
   ]
  },
  {
   "cell_type": "markdown",
   "metadata": {},
   "source": [
    "### Populate the Database with the Static Kaggle Data"
   ]
  },
  {
   "cell_type": "markdown",
   "metadata": {},
   "source": [
    "#### Populate the `movies` Table"
   ]
  },
  {
   "cell_type": "code",
   "execution_count": 5,
   "metadata": {},
   "outputs": [
    {
     "data": {
      "text/plain": [
       "['tmdb_id',\n",
       " 'title',\n",
       " 'release_date',\n",
       " 'runtime',\n",
       " 'genres',\n",
       " 'keywords',\n",
       " 'overview',\n",
       " 'budget',\n",
       " 'revenue',\n",
       " 'popularity',\n",
       " 'vote_average',\n",
       " 'vote_count',\n",
       " 'updated_at']"
      ]
     },
     "execution_count": 5,
     "metadata": {},
     "output_type": "execute_result"
    }
   ],
   "source": [
    "result = cnx.execute(f\"PRAGMA table_info('movies');\").fetchall()\n",
    "columns = [row[1] for row in result]\n",
    "columns"
   ]
  },
  {
   "cell_type": "code",
   "execution_count": 6,
   "metadata": {},
   "outputs": [
    {
     "name": "stderr",
     "output_type": "stream",
     "text": [
      "                                                                                \r"
     ]
    },
    {
     "name": "stdout",
     "output_type": "stream",
     "text": [
      "root\n",
      " |-- tmdb_id: string (nullable = true)\n",
      " |-- title: string (nullable = true)\n",
      " |-- release_date: date (nullable = true)\n",
      " |-- runtime: double (nullable = true)\n",
      " |-- genres: array (nullable = true)\n",
      " |    |-- element: string (containsNull = true)\n",
      " |-- keywords: array (nullable = true)\n",
      " |    |-- element: string (containsNull = true)\n",
      " |-- overview: string (nullable = true)\n",
      " |-- budget: integer (nullable = true)\n",
      " |-- revenue: integer (nullable = true)\n",
      " |-- popularity: double (nullable = true)\n",
      " |-- vote_average: double (nullable = true)\n",
      " |-- vote_count: integer (nullable = true)\n",
      " |-- updated_at: timestamp (nullable = false)\n",
      "\n"
     ]
    },
    {
     "name": "stderr",
     "output_type": "stream",
     "text": [
      "[Stage 1:>                                                          (0 + 1) / 1]\r"
     ]
    },
    {
     "name": "stdout",
     "output_type": "stream",
     "text": [
      "-RECORD 0----------------------------\n",
      " tmdb_id      | 10010                \n",
      " title        | Brother Bear 2       \n",
      " release_date | 2006-08-17           \n",
      " runtime      | 73.0                 \n",
      " genres       | [Adventure, Anima... \n",
      " keywords     | [grizzly bear, hu... \n",
      " overview     | Kenai finds his c... \n",
      " budget       | null                 \n",
      " revenue      | null                 \n",
      " popularity   | 10.861154            \n",
      " vote_average | 6.3                  \n",
      " vote_count   | 318                  \n",
      " updated_at   | 2023-10-21 21:33:... \n",
      "only showing top 1 row\n",
      "\n"
     ]
    },
    {
     "name": "stderr",
     "output_type": "stream",
     "text": [
      "                                                                                \r"
     ]
    }
   ],
   "source": [
    "movies_spark = spark.read.parquet(\"../data/clean/movies\").withColumn(\"updated_at\", f.lit(datetime.now())).select(columns)\n",
    "movies_spark.printSchema()\n",
    "movies_spark.show(1, vertical=True)"
   ]
  },
  {
   "cell_type": "code",
   "execution_count": 7,
   "metadata": {},
   "outputs": [
    {
     "name": "stdout",
     "output_type": "stream",
     "text": [
      "<class 'pandas.core.frame.DataFrame'>\n",
      "RangeIndex: 6918 entries, 0 to 6917\n",
      "Data columns (total 13 columns):\n",
      " #   Column        Non-Null Count  Dtype         \n",
      "---  ------        --------------  -----         \n",
      " 0   tmdb_id       6918 non-null   object        \n",
      " 1   title         6918 non-null   object        \n",
      " 2   release_date  6918 non-null   object        \n",
      " 3   runtime       6918 non-null   float64       \n",
      " 4   genres        6918 non-null   object        \n",
      " 5   keywords      6674 non-null   object        \n",
      " 6   overview      6918 non-null   object        \n",
      " 7   budget        4252 non-null   float64       \n",
      " 8   revenue       4252 non-null   float64       \n",
      " 9   popularity    6918 non-null   float64       \n",
      " 10  vote_average  6914 non-null   float64       \n",
      " 11  vote_count    6916 non-null   float64       \n",
      " 12  updated_at    6918 non-null   datetime64[ns]\n",
      "dtypes: datetime64[ns](1), float64(6), object(6)\n",
      "memory usage: 702.7+ KB\n"
     ]
    }
   ],
   "source": [
    "movies_pandas = movies_spark.toPandas()\n",
    "movies_pandas.info()"
   ]
  },
  {
   "cell_type": "code",
   "execution_count": 8,
   "metadata": {},
   "outputs": [
    {
     "data": {
      "text/plain": [
       "<duckdb.duckdb.DuckDBPyConnection at 0x122fceef0>"
      ]
     },
     "execution_count": 8,
     "metadata": {},
     "output_type": "execute_result"
    }
   ],
   "source": [
    "cnx.execute(\"DELETE FROM movies\")\n",
    "cnx.register(\"movies_pandas\", movies_pandas)\n",
    "cnx.execute(\"INSERT INTO movies SELECT * FROM movies_pandas\")\n",
    "cnx.execute(\"CHECKPOINT\")"
   ]
  },
  {
   "cell_type": "markdown",
   "metadata": {},
   "source": [
    "#### Populate the `ratings` Table"
   ]
  },
  {
   "cell_type": "code",
   "execution_count": 9,
   "metadata": {},
   "outputs": [
    {
     "data": {
      "text/plain": [
       "['user_id', 'tmdb_id', 'rating', 'updated_at']"
      ]
     },
     "execution_count": 9,
     "metadata": {},
     "output_type": "execute_result"
    }
   ],
   "source": [
    "result = cnx.execute(f\"PRAGMA table_info('ratings');\").fetchall()\n",
    "columns = [row[1] for row in result]\n",
    "columns"
   ]
  },
  {
   "cell_type": "code",
   "execution_count": 10,
   "metadata": {},
   "outputs": [
    {
     "name": "stdout",
     "output_type": "stream",
     "text": [
      "root\n",
      " |-- user_id: string (nullable = true)\n",
      " |-- tmdb_id: string (nullable = true)\n",
      " |-- rating: double (nullable = true)\n",
      " |-- updated_at: timestamp (nullable = false)\n",
      "\n"
     ]
    },
    {
     "name": "stderr",
     "output_type": "stream",
     "text": [
      "[Stage 6:>                                                          (0 + 1) / 1]\r"
     ]
    },
    {
     "name": "stdout",
     "output_type": "stream",
     "text": [
      "+-------+-------+------+--------------------+\n",
      "|user_id|tmdb_id|rating|          updated_at|\n",
      "+-------+-------+------+--------------------+\n",
      "|      1|   9685|   5.0|2023-10-21 21:33:...|\n",
      "|    100|    765|   3.5|2023-10-21 21:33:...|\n",
      "|  10000|  82690|   5.0|2023-10-21 21:33:...|\n",
      "| 100000|    280|   4.0|2023-10-21 21:33:...|\n",
      "| 100001|  10158|   4.0|2023-10-21 21:33:...|\n",
      "| 100002|  10923|   3.5|2023-10-21 21:33:...|\n",
      "| 100002|  11529|   4.0|2023-10-21 21:33:...|\n",
      "| 100002|    120|   4.0|2023-10-21 21:33:...|\n",
      "| 100002|    121|   4.0|2023-10-21 21:33:...|\n",
      "| 100002|  15472|   5.0|2023-10-21 21:33:...|\n",
      "+-------+-------+------+--------------------+\n",
      "only showing top 10 rows\n",
      "\n"
     ]
    },
    {
     "name": "stderr",
     "output_type": "stream",
     "text": [
      "                                                                                \r"
     ]
    }
   ],
   "source": [
    "ratings_spark = spark \\\n",
    "  .read.parquet(\"../data/clean/ratings\") \\\n",
    "  .withColumn(\"updated_at\", f.lit(datetime.now())) \\\n",
    "  .withColumn(\"rank\", f.row_number().over(Window.partitionBy(\"user_id\", \"tmdb_id\").orderBy(f.rand(seed=1492)))) \\\n",
    "  .filter(f.col(\"tmdb_id\").isNotNull()) \\\n",
    "  .filter(f.col(\"rank\") == 1) \\\n",
    "  .select(columns)\n",
    "\n",
    "ratings_spark.printSchema()\n",
    "ratings_spark.show(10)"
   ]
  },
  {
   "cell_type": "code",
   "execution_count": 12,
   "metadata": {},
   "outputs": [],
   "source": [
    "ratings_splits = ratings_spark.randomSplit([0.1] * 10)"
   ]
  },
  {
   "cell_type": "code",
   "execution_count": 13,
   "metadata": {},
   "outputs": [
    {
     "name": "stdout",
     "output_type": "stream",
     "text": [
      "split=0\n"
     ]
    },
    {
     "name": "stderr",
     "output_type": "stream",
     "text": [
      "                                                                                \r"
     ]
    },
    {
     "name": "stdout",
     "output_type": "stream",
     "text": [
      "split=1\n"
     ]
    },
    {
     "name": "stderr",
     "output_type": "stream",
     "text": [
      "                                                                                \r"
     ]
    },
    {
     "data": {
      "application/vnd.jupyter.widget-view+json": {
       "model_id": "8d6141badaac4e61962a0ea10d7daa3f",
       "version_major": 2,
       "version_minor": 0
      },
      "text/plain": [
       "FloatProgress(value=0.0, layout=Layout(width='auto'), style=ProgressStyle(bar_color='black'))"
      ]
     },
     "metadata": {},
     "output_type": "display_data"
    },
    {
     "name": "stdout",
     "output_type": "stream",
     "text": [
      "split=2\n"
     ]
    },
    {
     "name": "stderr",
     "output_type": "stream",
     "text": [
      "                                                                                \r"
     ]
    },
    {
     "data": {
      "application/vnd.jupyter.widget-view+json": {
       "model_id": "c6fe44aada4040008cd35ac27a773832",
       "version_major": 2,
       "version_minor": 0
      },
      "text/plain": [
       "FloatProgress(value=0.0, layout=Layout(width='auto'), style=ProgressStyle(bar_color='black'))"
      ]
     },
     "metadata": {},
     "output_type": "display_data"
    },
    {
     "name": "stdout",
     "output_type": "stream",
     "text": [
      "split=3\n"
     ]
    },
    {
     "name": "stderr",
     "output_type": "stream",
     "text": [
      "                                                                                \r"
     ]
    },
    {
     "data": {
      "application/vnd.jupyter.widget-view+json": {
       "model_id": "de4a4b5d9c4547cf92318077e2313e05",
       "version_major": 2,
       "version_minor": 0
      },
      "text/plain": [
       "FloatProgress(value=0.0, layout=Layout(width='auto'), style=ProgressStyle(bar_color='black'))"
      ]
     },
     "metadata": {},
     "output_type": "display_data"
    },
    {
     "name": "stdout",
     "output_type": "stream",
     "text": [
      "split=4\n"
     ]
    },
    {
     "name": "stderr",
     "output_type": "stream",
     "text": [
      "                                                                                \r"
     ]
    },
    {
     "data": {
      "application/vnd.jupyter.widget-view+json": {
       "model_id": "d9a4cbc0b0be4d839fcd22fd942fe9ed",
       "version_major": 2,
       "version_minor": 0
      },
      "text/plain": [
       "FloatProgress(value=0.0, layout=Layout(width='auto'), style=ProgressStyle(bar_color='black'))"
      ]
     },
     "metadata": {},
     "output_type": "display_data"
    },
    {
     "name": "stdout",
     "output_type": "stream",
     "text": [
      "split=5\n"
     ]
    },
    {
     "name": "stderr",
     "output_type": "stream",
     "text": [
      "                                                                                \r"
     ]
    },
    {
     "data": {
      "application/vnd.jupyter.widget-view+json": {
       "model_id": "56c0cbd3633947419e46bbdbb89816b0",
       "version_major": 2,
       "version_minor": 0
      },
      "text/plain": [
       "FloatProgress(value=0.0, layout=Layout(width='auto'), style=ProgressStyle(bar_color='black'))"
      ]
     },
     "metadata": {},
     "output_type": "display_data"
    },
    {
     "name": "stdout",
     "output_type": "stream",
     "text": [
      "split=6\n"
     ]
    },
    {
     "name": "stderr",
     "output_type": "stream",
     "text": [
      "                                                                                \r"
     ]
    },
    {
     "data": {
      "application/vnd.jupyter.widget-view+json": {
       "model_id": "34ea27cee32a4a2ab70a3e1250c70605",
       "version_major": 2,
       "version_minor": 0
      },
      "text/plain": [
       "FloatProgress(value=0.0, layout=Layout(width='auto'), style=ProgressStyle(bar_color='black'))"
      ]
     },
     "metadata": {},
     "output_type": "display_data"
    },
    {
     "name": "stdout",
     "output_type": "stream",
     "text": [
      "split=7\n"
     ]
    },
    {
     "name": "stderr",
     "output_type": "stream",
     "text": [
      "                                                                                \r"
     ]
    },
    {
     "data": {
      "application/vnd.jupyter.widget-view+json": {
       "model_id": "bb27540c56614736b4ca0705528610f6",
       "version_major": 2,
       "version_minor": 0
      },
      "text/plain": [
       "FloatProgress(value=0.0, layout=Layout(width='auto'), style=ProgressStyle(bar_color='black'))"
      ]
     },
     "metadata": {},
     "output_type": "display_data"
    },
    {
     "name": "stdout",
     "output_type": "stream",
     "text": [
      "split=8\n"
     ]
    },
    {
     "name": "stderr",
     "output_type": "stream",
     "text": [
      "                                                                                \r"
     ]
    },
    {
     "data": {
      "application/vnd.jupyter.widget-view+json": {
       "model_id": "44bda2c1be2b4b468c5463a54f5c4518",
       "version_major": 2,
       "version_minor": 0
      },
      "text/plain": [
       "FloatProgress(value=0.0, layout=Layout(width='auto'), style=ProgressStyle(bar_color='black'))"
      ]
     },
     "metadata": {},
     "output_type": "display_data"
    },
    {
     "name": "stdout",
     "output_type": "stream",
     "text": [
      "split=9\n"
     ]
    },
    {
     "name": "stderr",
     "output_type": "stream",
     "text": [
      "                                                                                \r"
     ]
    },
    {
     "data": {
      "application/vnd.jupyter.widget-view+json": {
       "model_id": "12533e64b49d442284123f05931c6188",
       "version_major": 2,
       "version_minor": 0
      },
      "text/plain": [
       "FloatProgress(value=0.0, layout=Layout(width='auto'), style=ProgressStyle(bar_color='black'))"
      ]
     },
     "metadata": {},
     "output_type": "display_data"
    },
    {
     "data": {
      "text/plain": [
       "<duckdb.duckdb.DuckDBPyConnection at 0x122fceef0>"
      ]
     },
     "execution_count": 13,
     "metadata": {},
     "output_type": "execute_result"
    }
   ],
   "source": [
    "cnx.execute(\"DELETE FROM ratings\")\n",
    "for i, split in enumerate(ratings_splits):\n",
    "    print(f\"split={i}\")\n",
    "    ratings_pandas = split.toPandas()\n",
    "    cnx.register(\"ratings_pandas\", ratings_pandas)\n",
    "    cnx.execute(\"INSERT INTO ratings SELECT * FROM ratings_pandas\")\n",
    "cnx.execute(\"CHECKPOINT\")"
   ]
  },
  {
   "cell_type": "markdown",
   "metadata": {},
   "source": [
    "#### Populate the `users` Table"
   ]
  },
  {
   "cell_type": "code",
   "execution_count": 14,
   "metadata": {},
   "outputs": [
    {
     "data": {
      "text/plain": [
       "['user_id', 'fname', 'lname', 'email', 'updated_at']"
      ]
     },
     "execution_count": 14,
     "metadata": {},
     "output_type": "execute_result"
    }
   ],
   "source": [
    "result = cnx.execute(f\"PRAGMA table_info('users');\").fetchall()\n",
    "columns = [row[1] for row in result]\n",
    "columns"
   ]
  },
  {
   "cell_type": "code",
   "execution_count": 17,
   "metadata": {},
   "outputs": [
    {
     "name": "stderr",
     "output_type": "stream",
     "text": [
      "                                                                                \r"
     ]
    },
    {
     "name": "stdout",
     "output_type": "stream",
     "text": [
      "+-------+---------+---------+--------------------+--------------------+\n",
      "|user_id|    fname|    lname|               email|          updated_at|\n",
      "+-------+---------+---------+--------------------+--------------------+\n",
      "| 100010|ANONYMOUS|ANONYMOUS|ANONYMOUS@ANONYMO...|2023-10-21 21:50:...|\n",
      "| 100140|ANONYMOUS|ANONYMOUS|ANONYMOUS@ANONYMO...|2023-10-21 21:50:...|\n",
      "| 100227|ANONYMOUS|ANONYMOUS|ANONYMOUS@ANONYMO...|2023-10-21 21:50:...|\n",
      "| 100263|ANONYMOUS|ANONYMOUS|ANONYMOUS@ANONYMO...|2023-10-21 21:50:...|\n",
      "| 100320|ANONYMOUS|ANONYMOUS|ANONYMOUS@ANONYMO...|2023-10-21 21:50:...|\n",
      "| 100553|ANONYMOUS|ANONYMOUS|ANONYMOUS@ANONYMO...|2023-10-21 21:50:...|\n",
      "| 100704|ANONYMOUS|ANONYMOUS|ANONYMOUS@ANONYMO...|2023-10-21 21:50:...|\n",
      "| 100735|ANONYMOUS|ANONYMOUS|ANONYMOUS@ANONYMO...|2023-10-21 21:50:...|\n",
      "| 100768|ANONYMOUS|ANONYMOUS|ANONYMOUS@ANONYMO...|2023-10-21 21:50:...|\n",
      "|  10096|ANONYMOUS|ANONYMOUS|ANONYMOUS@ANONYMO...|2023-10-21 21:50:...|\n",
      "+-------+---------+---------+--------------------+--------------------+\n",
      "only showing top 10 rows\n",
      "\n"
     ]
    },
    {
     "name": "stderr",
     "output_type": "stream",
     "text": [
      "                                                                                \r"
     ]
    },
    {
     "data": {
      "text/plain": [
       "270888"
      ]
     },
     "execution_count": 17,
     "metadata": {},
     "output_type": "execute_result"
    }
   ],
   "source": [
    "users_spark = ratings_spark \\\n",
    "    .select('user_id') \\\n",
    "    .distinct() \\\n",
    "    .withColumn(\"fname\", f.lit(\"ANONYMOUS\")) \\\n",
    "    .withColumn(\"lname\", f.lit(\"ANONYMOUS\")) \\\n",
    "    .withColumn(\"email\", f.lit(\"ANONYMOUS@ANONYMOUS.COM\")) \\\n",
    "    .withColumn(\"updated_at\", f.lit(datetime.now())) \\\n",
    "    .select(columns)\n",
    "\n",
    "users_spark.show(10)\n",
    "users_spark.count()"
   ]
  },
  {
   "cell_type": "code",
   "execution_count": 18,
   "metadata": {},
   "outputs": [
    {
     "name": "stderr",
     "output_type": "stream",
     "text": [
      "                                                                                \r"
     ]
    },
    {
     "name": "stdout",
     "output_type": "stream",
     "text": [
      "<class 'pandas.core.frame.DataFrame'>\n",
      "RangeIndex: 270888 entries, 0 to 270887\n",
      "Data columns (total 5 columns):\n",
      " #   Column      Non-Null Count   Dtype         \n",
      "---  ------      --------------   -----         \n",
      " 0   user_id     270888 non-null  object        \n",
      " 1   fname       270888 non-null  object        \n",
      " 2   lname       270888 non-null  object        \n",
      " 3   email       270888 non-null  object        \n",
      " 4   updated_at  270888 non-null  datetime64[ns]\n",
      "dtypes: datetime64[ns](1), object(4)\n",
      "memory usage: 10.3+ MB\n"
     ]
    }
   ],
   "source": [
    "users_pandas = users_spark.toPandas()\n",
    "users_pandas.info()"
   ]
  },
  {
   "cell_type": "code",
   "execution_count": 19,
   "metadata": {},
   "outputs": [
    {
     "data": {
      "text/plain": [
       "<duckdb.duckdb.DuckDBPyConnection at 0x122fceef0>"
      ]
     },
     "execution_count": 19,
     "metadata": {},
     "output_type": "execute_result"
    }
   ],
   "source": [
    "cnx.execute(\"DELETE FROM users\")\n",
    "cnx.register(\"users_pandas\", users_pandas)\n",
    "cnx.execute(\"INSERT INTO users SELECT * FROM users_pandas\")\n",
    "cnx.execute(\"CHECKPOINT\")"
   ]
  },
  {
   "cell_type": "markdown",
   "metadata": {},
   "source": [
    "#### Close the Connection to Flush Changes to the Database"
   ]
  },
  {
   "cell_type": "code",
   "execution_count": 20,
   "metadata": {},
   "outputs": [],
   "source": [
    "cnx.close()"
   ]
  },
  {
   "cell_type": "markdown",
   "metadata": {},
   "source": [
    "### Test Out Query Functionality Using SQLAlchemy"
   ]
  },
  {
   "cell_type": "code",
   "execution_count": 22,
   "metadata": {},
   "outputs": [],
   "source": [
    "from sqlalchemy import create_engine, MetaData, Table, select, text"
   ]
  },
  {
   "cell_type": "code",
   "execution_count": 28,
   "metadata": {},
   "outputs": [
    {
     "name": "stdout",
     "output_type": "stream",
     "text": [
      "('10010', 'Brother Bear 2', datetime.date(2006, 8, 17), 73.0, ['Adventure', 'Animation', 'Family'], ['grizzly bear', 'human animal relationship', 'forest', 'hibernation', 'moose'], \"Kenai finds his childhood human friend Nita and the two embark on a journey to burn the amulet he gave to her before he was a bear, much to Koda's dismay.\", None, None, 10.861154, 6.3, 318, datetime.datetime(2023, 10, 21, 21, 33, 48, 25511))\n",
      "('10012', 'Cursed', datetime.date(2005, 2, 25), 97.0, ['Horror', 'Comedy'], ['brother sister relationship', 'bite', 'transformation', 'supernatural powers', 'werewolf'], 'A werewolf loose in Los Angeles changes the lives of three young adults, who, after being mauled by the beast, learn they must kill their attacker if they hope to change their fate to avoid becoming werewolves too.', 35000000, 19294901, 8.949722, 5.1, 168, datetime.datetime(2023, 10, 21, 21, 33, 48, 25511))\n",
      "('100402', 'Captain America: The Winter Soldier', datetime.date(2014, 3, 20), 136.0, ['Action', 'Adventure', 'Science Fiction'], ['washington d.c.', 'future', 'shield', 'marvel comic', 'superhero', 'based on comic', 'captain america', 'aftercreditsstinger', 'duringcreditsstinger', 'marvel cinematic universe', '3d', 'political thriller'], 'After the cataclysmic events in New York with The Avengers, Steve Rogers, aka Captain America is living quietly in Washington, D.C. and trying to adj ... (430 characters truncated) ... Widow enlist the help of a new ally, the Falcon. However, they soon find themselves up against an unexpected and formidable enemy—the Winter Soldier.', 170000000, 714766572, 18.717704, 7.6, 5881, datetime.datetime(2023, 10, 21, 21, 33, 48, 25511))\n",
      "('10068', 'Nine 1/2 Weeks', datetime.date(1986, 2, 14), 117.0, ['Drama', 'Romance'], None, 'An erotic story about a woman, the assistant of an art gallery, who gets involved in an impersonal affair with a man. She barely knows about his life, only about the sex games they play, so the relationship begins to get complicated.', 17000000, 6735922, 6.706262, 5.8, 183, datetime.datetime(2023, 10, 21, 21, 33, 48, 25511))\n",
      "('10096', '13 Going on 30', datetime.date(2004, 4, 13), 98.0, ['Comedy', 'Fantasy', 'Romance'], ['new york', 'photographer', 'editor-in-chief', 'wish', 'michael jackson', 'child as an adult', 'best friends in love'], \"After total humiliation at her thirteenth birthday party, Jenna Rink wants to just hide until she's thirty. With a little magic, her wish is granted, but it turns out that being thirty isn't as always as awesome as she thought it would be!\", 37000000, 96455697, 12.632595, 6.3, 1260, datetime.datetime(2023, 10, 21, 21, 33, 48, 25511))\n"
     ]
    }
   ],
   "source": [
    "engine = create_engine(f\"duckdb:///../app/database.duckdb\")\n",
    "with engine.connect() as cnx:\n",
    "    result = cnx.execute(text(\"SELECT * FROM movies LIMIT 5\"))\n",
    "    for row in result:\n",
    "        print(row)"
   ]
  },
  {
   "cell_type": "code",
   "execution_count": 26,
   "metadata": {
    "application/vnd.databricks.v1+cell": {
     "cellMetadata": {},
     "inputWidgets": {},
     "nuid": "9ee579c8-875f-41da-ac31-5bf8eed0f960",
     "showTitle": false,
     "title": ""
    }
   },
   "outputs": [],
   "source": [
    "cnx.close()"
   ]
  },
  {
   "cell_type": "code",
   "execution_count": 31,
   "metadata": {},
   "outputs": [],
   "source": [
    "import os\n",
    "from sqlalchemy import MetaData, Table, Column, PrimaryKeyConstraint, Engine, create_engine\n",
    "from sqlalchemy.types import ARRAY, Date, DateTime, Double, Integer, Text\n",
    "from google.cloud.sql.connector import Connector\n",
    "from dotenv import load_dotenv\n",
    "from pg8000 import Connection\n",
    "\n",
    "def make_connection() -> Connection:\n",
    "    \"\"\"generate a new pg8000 connection\"\"\"\n",
    "\n",
    "    project = \"robot-ebert\"\n",
    "    region = \"us-west1\"\n",
    "    instance = \"robot-ebert\"\n",
    "    instance_connection_string = f\"{project}:{region}:{instance}\"\n",
    "\n",
    "    connector = Connector()\n",
    "    cnx = connector.connect(\n",
    "        instance_connection_string=instance_connection_string,\n",
    "        driver=\"pg8000\",\n",
    "        user=\"postgres\",\n",
    "        password=os.environ[\"POSTGRES_PASSWORD\"],\n",
    "        db=\"app\"\n",
    "    )\n",
    "    return cnx\n",
    "\n",
    "\n",
    "def get_engine(echo: bool = False) -> Engine:\n",
    "    \"\"\"get a new SQLAlchemy Engine to manage DB connections\"\"\"\n",
    "\n",
    "    engine = create_engine(\"postgresql+pg8000://\", creator=make_connection, echo=echo)\n",
    "    return engine\n",
    "\n"
   ]
  },
  {
   "cell_type": "code",
   "execution_count": 38,
   "metadata": {},
   "outputs": [],
   "source": [
    "engine = get_engine(echo=False)"
   ]
  },
  {
   "cell_type": "code",
   "execution_count": 39,
   "metadata": {},
   "outputs": [
    {
     "name": "stdout",
     "output_type": "stream",
     "text": [
      "(0,)\n"
     ]
    }
   ],
   "source": [
    "with engine.connect() as cnx:\n",
    "    result = cnx.execute(text(\"SELECT COUNT(*) FROM movies\"))\n",
    "    for row in result:\n",
    "        print(row)"
   ]
  },
  {
   "cell_type": "code",
   "execution_count": null,
   "metadata": {},
   "outputs": [],
   "source": []
  }
 ],
 "metadata": {
  "application/vnd.databricks.v1+notebook": {
   "dashboards": [],
   "language": "python",
   "notebookMetadata": {
    "pythonIndentUnit": 4
   },
   "notebookName": "create-collaborative-embeddings",
   "widgets": {}
  },
  "kernelspec": {
   "display_name": "Python 3 (ipykernel)",
   "language": "python",
   "name": "python3"
  },
  "language_info": {
   "codemirror_mode": {
    "name": "ipython",
    "version": 3
   },
   "file_extension": ".py",
   "mimetype": "text/x-python",
   "name": "python",
   "nbconvert_exporter": "python",
   "pygments_lexer": "ipython3",
   "version": "3.9.16"
  }
 },
 "nbformat": 4,
 "nbformat_minor": 4
}
