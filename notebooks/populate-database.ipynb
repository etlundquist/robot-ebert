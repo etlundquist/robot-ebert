{
 "cells": [
  {
   "cell_type": "markdown",
   "metadata": {
    "application/vnd.databricks.v1+cell": {
     "cellMetadata": {},
     "inputWidgets": {},
     "nuid": "bb601ce6-f290-42ea-90a6-ca550d38e3ca",
     "showTitle": false,
     "title": ""
    }
   },
   "source": [
    "### Notebook Set-Up"
   ]
  },
  {
   "cell_type": "markdown",
   "metadata": {
    "application/vnd.databricks.v1+cell": {
     "cellMetadata": {},
     "inputWidgets": {},
     "nuid": "d89d1a2f-ce6b-4b4e-8779-eb60c1c7676d",
     "showTitle": false,
     "title": ""
    }
   },
   "source": [
    "#### Import Required Modules"
   ]
  },
  {
   "cell_type": "code",
   "execution_count": null,
   "metadata": {
    "application/vnd.databricks.v1+cell": {
     "cellMetadata": {
      "byteLimit": 2048000,
      "rowLimit": 10000
     },
     "inputWidgets": {},
     "nuid": "6c0275d4-0791-4bc1-b740-7754bfe76f27",
     "showTitle": false,
     "title": ""
    }
   },
   "outputs": [],
   "source": [
    "# %pip install sqlalchemy duckdb duckdb-engine cloud-sql-python-connector[pg8000]"
   ]
  },
  {
   "cell_type": "code",
   "execution_count": 74,
   "metadata": {
    "application/vnd.databricks.v1+cell": {
     "cellMetadata": {
      "byteLimit": 2048000,
      "rowLimit": 10000
     },
     "inputWidgets": {},
     "nuid": "7ad92141-2202-40f0-8029-bebb8b63e18b",
     "showTitle": false,
     "title": ""
    }
   },
   "outputs": [],
   "source": [
    "import os\n",
    "import sys\n",
    "import csv\n",
    "import json\n",
    "import duckdb\n",
    "\n",
    "from typing import List, Dict\n",
    "from dotenv import load_dotenv\n",
    "from datetime import datetime\n",
    "\n",
    "import numpy as np\n",
    "import pandas as pd\n",
    "\n",
    "# from pyspark.sql import SparkSession\n",
    "# from pyspark.sql import functions as f\n",
    "# from pyspark.sql.window import Window"
   ]
  },
  {
   "cell_type": "markdown",
   "metadata": {
    "application/vnd.databricks.v1+cell": {
     "cellMetadata": {},
     "inputWidgets": {},
     "nuid": "3c66a3f9-fe90-46e2-ae65-5100be81faf0",
     "showTitle": false,
     "title": ""
    }
   },
   "source": [
    "#### Load Secrets as Environment Variables"
   ]
  },
  {
   "cell_type": "code",
   "execution_count": 75,
   "metadata": {
    "application/vnd.databricks.v1+cell": {
     "cellMetadata": {
      "byteLimit": 2048000,
      "rowLimit": 10000
     },
     "inputWidgets": {},
     "nuid": "34c6e1a3-0a28-4d1b-92aa-659c6b047bd2",
     "showTitle": false,
     "title": ""
    }
   },
   "outputs": [
    {
     "data": {
      "text/plain": [
       "True"
      ]
     },
     "execution_count": 75,
     "metadata": {},
     "output_type": "execute_result"
    }
   ],
   "source": [
    "load_dotenv()"
   ]
  },
  {
   "cell_type": "markdown",
   "metadata": {
    "application/vnd.databricks.v1+cell": {
     "cellMetadata": {},
     "inputWidgets": {},
     "nuid": "5870cbce-ba16-4855-a63d-67980c8d7b86",
     "showTitle": false,
     "title": ""
    }
   },
   "source": [
    "#### Set Workflow Constants"
   ]
  },
  {
   "cell_type": "code",
   "execution_count": 76,
   "metadata": {
    "application/vnd.databricks.v1+cell": {
     "cellMetadata": {
      "byteLimit": 2048000,
      "rowLimit": 10000
     },
     "inputWidgets": {},
     "nuid": "826f1837-ac90-4994-8645-70638b65e705",
     "showTitle": false,
     "title": ""
    }
   },
   "outputs": [],
   "source": [
    "RAW_PATH = \"dbfs:/FileStore/data/raw\"\n",
    "CLN_PATH = \"dbfs:/FileStore/data/clean\"\n",
    "JSON_PATH = \"../data/json\""
   ]
  },
  {
   "cell_type": "markdown",
   "metadata": {
    "application/vnd.databricks.v1+cell": {
     "cellMetadata": {},
     "inputWidgets": {},
     "nuid": "bf1ed547-e039-45c0-9636-27233c358ed7",
     "showTitle": false,
     "title": ""
    }
   },
   "source": [
    "### Export the Data as CSV Files to Bulk Insert into the Database"
   ]
  },
  {
   "cell_type": "markdown",
   "metadata": {
    "application/vnd.databricks.v1+cell": {
     "cellMetadata": {},
     "inputWidgets": {},
     "nuid": "be4e9f2d-023b-40ef-93b6-1c74f02513fd",
     "showTitle": false,
     "title": ""
    }
   },
   "source": [
    "#### Import Cleaned Static Data"
   ]
  },
  {
   "cell_type": "code",
   "execution_count": 77,
   "metadata": {
    "application/vnd.databricks.v1+cell": {
     "cellMetadata": {
      "byteLimit": 2048000,
      "rowLimit": 10000
     },
     "inputWidgets": {},
     "nuid": "a3ab6a96-631b-4fbb-8839-024b01f0c1d4",
     "showTitle": false,
     "title": ""
    }
   },
   "outputs": [
    {
     "ename": "NameError",
     "evalue": "name 'spark' is not defined",
     "output_type": "error",
     "traceback": [
      "\u001b[0;31m---------------------------------------------------------------------------\u001b[0m",
      "\u001b[0;31mNameError\u001b[0m                                 Traceback (most recent call last)",
      "Cell \u001b[0;32mIn[77], line 1\u001b[0m\n\u001b[0;32m----> 1\u001b[0m movies \u001b[38;5;241m=\u001b[39m \u001b[43mspark\u001b[49m\u001b[38;5;241m.\u001b[39mread\u001b[38;5;241m.\u001b[39mparquet(os\u001b[38;5;241m.\u001b[39mpath\u001b[38;5;241m.\u001b[39mjoin(CLN_PATH, \u001b[38;5;124m\"\u001b[39m\u001b[38;5;124mmovies\u001b[39m\u001b[38;5;124m\"\u001b[39m))\n\u001b[1;32m      2\u001b[0m movies\u001b[38;5;241m.\u001b[39mshow(\u001b[38;5;241m5\u001b[39m)\n\u001b[1;32m      3\u001b[0m movies\u001b[38;5;241m.\u001b[39mcount()\n",
      "\u001b[0;31mNameError\u001b[0m: name 'spark' is not defined"
     ]
    }
   ],
   "source": [
    "movies = spark.read.parquet(os.path.join(CLN_PATH, \"movies\"))\n",
    "movies.show(5)\n",
    "movies.count()"
   ]
  },
  {
   "cell_type": "code",
   "execution_count": null,
   "metadata": {
    "application/vnd.databricks.v1+cell": {
     "cellMetadata": {
      "byteLimit": 2048000,
      "rowLimit": 10000
     },
     "inputWidgets": {},
     "nuid": "a9b671a8-2c35-4904-9a1b-2d4fbab5a031",
     "showTitle": false,
     "title": ""
    }
   },
   "outputs": [
    {
     "name": "stdout",
     "output_type": "stream",
     "text": [
      "+-------+-------+------+-------------------+\n",
      "|user_id|tmdb_id|rating|          timestamp|\n",
      "+-------+-------+------+-------------------+\n",
      "|  42017|     14|   4.0|2015-09-10 22:15:39|\n",
      "|  54926|    165|   2.5|2006-03-19 20:54:43|\n",
      "|  47629|   1637|   4.0|1996-07-01 14:27:03|\n",
      "|  68508|  13920|   5.0|2003-11-14 01:18:56|\n",
      "|  59910|  24746|   4.0|2017-07-29 19:41:07|\n",
      "+-------+-------+------+-------------------+\n",
      "only showing top 5 rows\n",
      "\n",
      "Out[53]: 26024289"
     ]
    }
   ],
   "source": [
    "ratings = spark.read.parquet(os.path.join(CLN_PATH, \"ratings\"))\n",
    "ratings.show(5)\n",
    "ratings.count()"
   ]
  },
  {
   "cell_type": "code",
   "execution_count": null,
   "metadata": {
    "application/vnd.databricks.v1+cell": {
     "cellMetadata": {
      "byteLimit": 2048000,
      "rowLimit": 10000
     },
     "inputWidgets": {},
     "nuid": "e5283c51-8e86-4ab0-9bc1-05546b3bb8fe",
     "showTitle": false,
     "title": ""
    }
   },
   "outputs": [
    {
     "name": "stdout",
     "output_type": "stream",
     "text": [
      "+-------+-------+------+-------------------+---------+----------+\n",
      "|user_id|tmdb_id|rating|          timestamp|cnt_users|cnt_movies|\n",
      "+-------+-------+------+-------------------+---------+----------+\n",
      "| 171679|   2255|   2.0|2013-04-23 14:39:05|    13641|       133|\n",
      "| 217667|  10427|   2.0|1996-11-08 17:21:30|     3441|        58|\n",
      "|  31793|    532|   3.0|1997-05-07 15:14:38|    12698|       107|\n",
      "|  96489|    197|   3.0|2015-10-25 19:42:18|    61076|        84|\n",
      "| 198045|    641|   2.5|2015-11-04 04:07:02|    19478|       689|\n",
      "+-------+-------+------+-------------------+---------+----------+\n",
      "only showing top 5 rows\n",
      "\n",
      "Out[54]: 15372729"
     ]
    }
   ],
   "source": [
    "model_frame = spark.read.parquet(os.path.join(CLN_PATH, \"model_frame\"))\n",
    "model_frame.show(5)\n",
    "model_frame.count()"
   ]
  },
  {
   "cell_type": "markdown",
   "metadata": {
    "application/vnd.databricks.v1+cell": {
     "cellMetadata": {},
     "inputWidgets": {},
     "nuid": "170b4844-878d-4fae-b120-f9c0c74de8f9",
     "showTitle": false,
     "title": ""
    }
   },
   "source": [
    "#### Select the Subset of Users/Movies/Ratings Making it Into the Model Frame"
   ]
  },
  {
   "cell_type": "code",
   "execution_count": null,
   "metadata": {
    "application/vnd.databricks.v1+cell": {
     "cellMetadata": {
      "byteLimit": 2048000,
      "rowLimit": 10000
     },
     "inputWidgets": {},
     "nuid": "79e098fa-10f7-4f75-bf40-a976c2137389",
     "showTitle": false,
     "title": ""
    }
   },
   "outputs": [
    {
     "name": "stdout",
     "output_type": "stream",
     "text": [
      "Out[55]: 195899"
     ]
    }
   ],
   "source": [
    "model_users = model_frame.select('user_id').distinct().withColumn('user_id', f.col('user_id').cast('STRING')).filter(f.col('user_id').isNotNull())\n",
    "model_users.count()"
   ]
  },
  {
   "cell_type": "code",
   "execution_count": null,
   "metadata": {
    "application/vnd.databricks.v1+cell": {
     "cellMetadata": {
      "byteLimit": 2048000,
      "rowLimit": 10000
     },
     "inputWidgets": {},
     "nuid": "c4941849-7b3d-4026-b45d-3d4127d2c490",
     "showTitle": false,
     "title": ""
    }
   },
   "outputs": [
    {
     "name": "stdout",
     "output_type": "stream",
     "text": [
      "Out[56]: 6235"
     ]
    }
   ],
   "source": [
    "model_movies = model_frame.select('tmdb_id').distinct().withColumn('tmdb_id', f.col('tmdb_id').cast('STRING')).filter(f.col('tmdb_id').isNotNull())\n",
    "model_movies.count()"
   ]
  },
  {
   "cell_type": "code",
   "execution_count": null,
   "metadata": {
    "application/vnd.databricks.v1+cell": {
     "cellMetadata": {
      "byteLimit": 2048000,
      "rowLimit": 10000
     },
     "inputWidgets": {},
     "nuid": "8a984b15-6f14-4ec8-a383-a0e7fbd930a5",
     "showTitle": false,
     "title": ""
    }
   },
   "outputs": [
    {
     "name": "stdout",
     "output_type": "stream",
     "text": [
      "Out[57]: 15372666"
     ]
    }
   ],
   "source": [
    "model_ratings = model_frame \\\n",
    "    .select('user_id', 'tmdb_id').distinct() \\\n",
    "    .withColumn('user_id', f.col('user_id').cast('STRING')) \\\n",
    "    .withColumn('tmdb_id', f.col('tmdb_id').cast('STRING')) \\\n",
    "    .filter(f.col('user_id').isNotNull()) \\\n",
    "    .filter(f.col('tmdb_id').isNotNull())\n",
    "\n",
    "model_ratings.count() "
   ]
  },
  {
   "cell_type": "markdown",
   "metadata": {
    "application/vnd.databricks.v1+cell": {
     "cellMetadata": {},
     "inputWidgets": {},
     "nuid": "bd002a92-6d10-4ce3-9612-cb045b8ca6af",
     "showTitle": false,
     "title": ""
    }
   },
   "source": [
    "#### Create Users/Movies/Ratings Datasets for Export"
   ]
  },
  {
   "cell_type": "code",
   "execution_count": null,
   "metadata": {
    "application/vnd.databricks.v1+cell": {
     "cellMetadata": {
      "byteLimit": 2048000,
      "rowLimit": 10000
     },
     "inputWidgets": {},
     "nuid": "15c7255e-a865-480a-a7bc-6907fef9a841",
     "showTitle": false,
     "title": ""
    }
   },
   "outputs": [
    {
     "name": "stdout",
     "output_type": "stream",
     "text": [
      "Out[58]: datetime.datetime(2023, 10, 23, 18, 44, 55, 294176)"
     ]
    }
   ],
   "source": [
    "updated_at = datetime.now()\n",
    "updated_at"
   ]
  },
  {
   "cell_type": "code",
   "execution_count": null,
   "metadata": {
    "application/vnd.databricks.v1+cell": {
     "cellMetadata": {
      "byteLimit": 2048000,
      "rowLimit": 10000
     },
     "inputWidgets": {},
     "nuid": "4cdd709e-6535-4db6-ba26-0fdcc6cd742b",
     "showTitle": false,
     "title": ""
    }
   },
   "outputs": [
    {
     "name": "stdout",
     "output_type": "stream",
     "text": [
      "+------+-------+\n",
      "| users|records|\n",
      "+------+-------+\n",
      "|195899| 195899|\n",
      "+------+-------+\n",
      "\n",
      "root\n",
      " |-- user_id: string (nullable = true)\n",
      " |-- fname: string (nullable = false)\n",
      " |-- lname: string (nullable = false)\n",
      " |-- email: string (nullable = false)\n",
      " |-- updated_at: timestamp (nullable = false)\n",
      "\n",
      "+-------+---------+---------+--------------------+--------------------+\n",
      "|user_id|    fname|    lname|               email|          updated_at|\n",
      "+-------+---------+---------+--------------------+--------------------+\n",
      "| 231350|ANONYMOUS|ANONYMOUS|ANONYMOUS@ANONYMO...|2023-10-23 18:44:...|\n",
      "| 228408|ANONYMOUS|ANONYMOUS|ANONYMOUS@ANONYMO...|2023-10-23 18:44:...|\n",
      "| 209326|ANONYMOUS|ANONYMOUS|ANONYMOUS@ANONYMO...|2023-10-23 18:44:...|\n",
      "| 207398|ANONYMOUS|ANONYMOUS|ANONYMOUS@ANONYMO...|2023-10-23 18:44:...|\n",
      "|  83250|ANONYMOUS|ANONYMOUS|ANONYMOUS@ANONYMO...|2023-10-23 18:44:...|\n",
      "+-------+---------+---------+--------------------+--------------------+\n",
      "only showing top 5 rows\n",
      "\n"
     ]
    }
   ],
   "source": [
    "export_users = model_users \\\n",
    "    .withColumn('fname', f.lit(\"ANONYMOUS\")) \\\n",
    "    .withColumn('lname', f.lit(\"ANONYMOUS\")) \\\n",
    "    .withColumn('email', f.lit(\"ANONYMOUS@ANONYMOUS.COM\")) \\\n",
    "    .withColumn('updated_at', f.lit(updated_at))\n",
    "\n",
    "export_users.agg(f.countDistinct('user_id').alias('users'), f.count('*').alias('records')).show()\n",
    "export_users.printSchema()\n",
    "export_users.show(5)"
   ]
  },
  {
   "cell_type": "code",
   "execution_count": null,
   "metadata": {
    "application/vnd.databricks.v1+cell": {
     "cellMetadata": {
      "byteLimit": 2048000,
      "rowLimit": 10000
     },
     "inputWidgets": {},
     "nuid": "b34a8af9-af31-4cf3-87c7-32d1fcced94c",
     "showTitle": false,
     "title": ""
    }
   },
   "outputs": [
    {
     "name": "stdout",
     "output_type": "stream",
     "text": [
      "+------+-------+\n",
      "|movies|records|\n",
      "+------+-------+\n",
      "|  6235|   6235|\n",
      "+------+-------+\n",
      "\n",
      "root\n",
      " |-- tmdb_id: string (nullable = true)\n",
      " |-- title: string (nullable = true)\n",
      " |-- release_date: date (nullable = true)\n",
      " |-- runtime: double (nullable = true)\n",
      " |-- genres: array (nullable = true)\n",
      " |    |-- element: string (containsNull = true)\n",
      " |-- keywords: array (nullable = true)\n",
      " |    |-- element: string (containsNull = true)\n",
      " |-- overview: string (nullable = true)\n",
      " |-- budget: integer (nullable = true)\n",
      " |-- revenue: integer (nullable = true)\n",
      " |-- popularity: double (nullable = true)\n",
      " |-- vote_average: double (nullable = true)\n",
      " |-- vote_count: integer (nullable = true)\n",
      " |-- updated_at: timestamp (nullable = false)\n",
      "\n",
      "+-------+--------------------+------------+-------+--------------------+--------------------+--------------------+---------+---------+----------+------------+----------+--------------------+\n",
      "|tmdb_id|               title|release_date|runtime|              genres|            keywords|            overview|   budget|  revenue|popularity|vote_average|vote_count|          updated_at|\n",
      "+-------+--------------------+------------+-------+--------------------+--------------------+--------------------+---------+---------+----------+------------+----------+--------------------+\n",
      "|   9427|      The Full Monty|  1997-08-13|   91.0|            [Comedy]|[suicide attempt,...|Sheffield, Englan...|  3500000|257850122|  8.333322|         6.9|       372|2023-10-23 18:44:...|\n",
      "|  57201|     The Lone Ranger|  2013-07-03|  149.0|[Action, Adventur...|[texas, horse, su...|The Texas Rangers...|255000000| 89289910| 12.729104|         5.9|      2361|2023-10-23 18:44:...|\n",
      "|   1645|      A Time to Kill|  1996-07-24|  149.0|[Crime, Drama, Th...|[ku klux klan, ra...|A young lawyer de...| 40000000|152266007| 13.309013|         7.0|       522|2023-10-23 18:44:...|\n",
      "|  76493|        The Dictator|  2012-05-15|   83.0|            [Comedy]|           [kurdish]|The heroic story ...| 65000000|179379533|  7.446085|         5.9|      1789|2023-10-23 18:44:...|\n",
      "|    496|Borat: Cultural L...|  2006-11-01|   82.0|            [Comedy]|[male nudity, usa...|Kazakh journalist...| 18000000|261572744|  8.278336|         6.5|      1617|2023-10-23 18:44:...|\n",
      "+-------+--------------------+------------+-------+--------------------+--------------------+--------------------+---------+---------+----------+------------+----------+--------------------+\n",
      "only showing top 5 rows\n",
      "\n"
     ]
    }
   ],
   "source": [
    "export_movies = movies \\\n",
    "    .join(model_movies, on='tmdb_id', how='inner') \\\n",
    "    .select(\"tmdb_id\", \"title\", \"release_date\", \"runtime\", \"genres\", \"keywords\", \"overview\", \"budget\", \"revenue\", \"popularity\", \"vote_average\", \"vote_count\") \\\n",
    "    .withColumn('updated_at', f.lit(updated_at))\n",
    "\n",
    "export_movies.agg(f.countDistinct('tmdb_id').alias('movies'), f.count('*').alias('records')).show()\n",
    "export_movies.printSchema()   \n",
    "export_movies.show(5)"
   ]
  },
  {
   "cell_type": "code",
   "execution_count": null,
   "metadata": {
    "application/vnd.databricks.v1+cell": {
     "cellMetadata": {
      "byteLimit": 2048000,
      "rowLimit": 10000
     },
     "inputWidgets": {},
     "nuid": "1f0334e9-d02e-4b80-bfc6-626c317bd59f",
     "showTitle": false,
     "title": ""
    }
   },
   "outputs": [
    {
     "name": "stdout",
     "output_type": "stream",
     "text": [
      "+--------+--------+\n",
      "| ratings| records|\n",
      "+--------+--------+\n",
      "|15372666|15372666|\n",
      "+--------+--------+\n",
      "\n",
      "root\n",
      " |-- user_id: string (nullable = true)\n",
      " |-- tmdb_id: string (nullable = true)\n",
      " |-- rating: double (nullable = true)\n",
      " |-- updated_at: timestamp (nullable = false)\n",
      "\n",
      "+-------+-------+------+--------------------+\n",
      "|user_id|tmdb_id|rating|          updated_at|\n",
      "+-------+-------+------+--------------------+\n",
      "| 100000|    280|   4.0|2023-10-23 18:44:...|\n",
      "| 100001|  10158|   4.0|2023-10-23 18:44:...|\n",
      "| 100002|  10923|   3.5|2023-10-23 18:44:...|\n",
      "| 100002|  11529|   4.0|2023-10-23 18:44:...|\n",
      "| 100002|    120|   4.0|2023-10-23 18:44:...|\n",
      "+-------+-------+------+--------------------+\n",
      "only showing top 5 rows\n",
      "\n"
     ]
    }
   ],
   "source": [
    "export_ratings = ratings \\\n",
    "    .join(model_ratings, on=[\"user_id\", \"tmdb_id\"], how='inner') \\\n",
    "    .withColumn(\"rank\", f.row_number().over(Window.partitionBy(\"user_id\", \"tmdb_id\").orderBy(f.rand(seed=1492)))) \\\n",
    "    .filter(f.col(\"rank\") == 1) \\\n",
    "    .select(\"user_id\", \"tmdb_id\", \"rating\") \\\n",
    "    .withColumn('updated_at', f.lit(updated_at))\n",
    "\n",
    "export_ratings.agg(f.countDistinct('user_id', 'tmdb_id').alias('ratings'), f.count('*').alias('records')).show()\n",
    "export_ratings.printSchema()   \n",
    "export_ratings.show(5)"
   ]
  },
  {
   "cell_type": "markdown",
   "metadata": {
    "application/vnd.databricks.v1+cell": {
     "cellMetadata": {},
     "inputWidgets": {},
     "nuid": "242fdb35-33a1-40e4-8f8a-a64bcad7edb0",
     "showTitle": false,
     "title": ""
    }
   },
   "source": [
    "#### Export the Static User/Movie/Rating Data to JSONLINES"
   ]
  },
  {
   "cell_type": "code",
   "execution_count": null,
   "metadata": {
    "application/vnd.databricks.v1+cell": {
     "cellMetadata": {
      "byteLimit": 2048000,
      "rowLimit": 10000
     },
     "inputWidgets": {},
     "nuid": "202a2973-79d8-4d87-aa90-2249aa63fc8e",
     "showTitle": false,
     "title": ""
    }
   },
   "outputs": [],
   "source": [
    "export_users.toPandas().to_json(os.path.join(JSON_PATH, \"users.json\"), orient=\"records\", lines=True, date_format=\"iso\")"
   ]
  },
  {
   "cell_type": "code",
   "execution_count": null,
   "metadata": {
    "application/vnd.databricks.v1+cell": {
     "cellMetadata": {
      "byteLimit": 2048000,
      "rowLimit": 10000
     },
     "inputWidgets": {},
     "nuid": "c8ceb9e9-56dd-415f-a7cb-8da72ecda824",
     "showTitle": false,
     "title": ""
    }
   },
   "outputs": [],
   "source": [
    "export_movies.toPandas().to_json(os.path.join(JSON_PATH, \"movies.json\"), orient=\"records\", lines=True, date_format=\"iso\")"
   ]
  },
  {
   "cell_type": "code",
   "execution_count": null,
   "metadata": {
    "application/vnd.databricks.v1+cell": {
     "cellMetadata": {
      "byteLimit": 2048000,
      "rowLimit": 10000
     },
     "inputWidgets": {},
     "nuid": "4f1d2c7d-b7ea-4c61-9a77-f49bcc9738a7",
     "showTitle": false,
     "title": ""
    }
   },
   "outputs": [],
   "source": [
    "export_ratings.toPandas().to_json(os.path.join(JSON_PATH, \"ratings.json\"), orient=\"records\", lines=True, date_format=\"iso\")"
   ]
  },
  {
   "cell_type": "markdown",
   "metadata": {
    "application/vnd.databricks.v1+cell": {
     "cellMetadata": {},
     "inputWidgets": {},
     "nuid": "593c60a3-4a4a-46c8-8c57-6225a762f084",
     "showTitle": false,
     "title": ""
    }
   },
   "source": [
    "### Load Static Data into the Application Database"
   ]
  },
  {
   "cell_type": "markdown",
   "metadata": {
    "application/vnd.databricks.v1+cell": {
     "cellMetadata": {},
     "inputWidgets": {},
     "nuid": "029d9321-eb55-438d-beab-c0350c48cf71",
     "showTitle": false,
     "title": ""
    }
   },
   "source": [
    "#### Import Static Data in JSONLines Format"
   ]
  },
  {
   "cell_type": "code",
   "execution_count": 78,
   "metadata": {
    "application/vnd.databricks.v1+cell": {
     "cellMetadata": {},
     "inputWidgets": {},
     "nuid": "8e66479f-a61b-4a55-9e40-fd7248e8036b",
     "showTitle": false,
     "title": ""
    }
   },
   "outputs": [
    {
     "data": {
      "text/html": [
       "<div>\n",
       "<style scoped>\n",
       "    .dataframe tbody tr th:only-of-type {\n",
       "        vertical-align: middle;\n",
       "    }\n",
       "\n",
       "    .dataframe tbody tr th {\n",
       "        vertical-align: top;\n",
       "    }\n",
       "\n",
       "    .dataframe thead th {\n",
       "        text-align: right;\n",
       "    }\n",
       "</style>\n",
       "<table border=\"1\" class=\"dataframe\">\n",
       "  <thead>\n",
       "    <tr style=\"text-align: right;\">\n",
       "      <th></th>\n",
       "      <th>user_id</th>\n",
       "      <th>fname</th>\n",
       "      <th>lname</th>\n",
       "      <th>email</th>\n",
       "      <th>updated_at</th>\n",
       "    </tr>\n",
       "  </thead>\n",
       "  <tbody>\n",
       "    <tr>\n",
       "      <th>0</th>\n",
       "      <td>231350</td>\n",
       "      <td>ANONYMOUS</td>\n",
       "      <td>ANONYMOUS</td>\n",
       "      <td>ANONYMOUS@ANONYMOUS.COM</td>\n",
       "      <td>2023-10-23 18:44:55.294000+00:00</td>\n",
       "    </tr>\n",
       "    <tr>\n",
       "      <th>1</th>\n",
       "      <td>228408</td>\n",
       "      <td>ANONYMOUS</td>\n",
       "      <td>ANONYMOUS</td>\n",
       "      <td>ANONYMOUS@ANONYMOUS.COM</td>\n",
       "      <td>2023-10-23 18:44:55.294000+00:00</td>\n",
       "    </tr>\n",
       "    <tr>\n",
       "      <th>2</th>\n",
       "      <td>209326</td>\n",
       "      <td>ANONYMOUS</td>\n",
       "      <td>ANONYMOUS</td>\n",
       "      <td>ANONYMOUS@ANONYMOUS.COM</td>\n",
       "      <td>2023-10-23 18:44:55.294000+00:00</td>\n",
       "    </tr>\n",
       "    <tr>\n",
       "      <th>3</th>\n",
       "      <td>207398</td>\n",
       "      <td>ANONYMOUS</td>\n",
       "      <td>ANONYMOUS</td>\n",
       "      <td>ANONYMOUS@ANONYMOUS.COM</td>\n",
       "      <td>2023-10-23 18:44:55.294000+00:00</td>\n",
       "    </tr>\n",
       "    <tr>\n",
       "      <th>4</th>\n",
       "      <td>83250</td>\n",
       "      <td>ANONYMOUS</td>\n",
       "      <td>ANONYMOUS</td>\n",
       "      <td>ANONYMOUS@ANONYMOUS.COM</td>\n",
       "      <td>2023-10-23 18:44:55.294000+00:00</td>\n",
       "    </tr>\n",
       "  </tbody>\n",
       "</table>\n",
       "</div>"
      ],
      "text/plain": [
       "   user_id      fname      lname                    email  \\\n",
       "0   231350  ANONYMOUS  ANONYMOUS  ANONYMOUS@ANONYMOUS.COM   \n",
       "1   228408  ANONYMOUS  ANONYMOUS  ANONYMOUS@ANONYMOUS.COM   \n",
       "2   209326  ANONYMOUS  ANONYMOUS  ANONYMOUS@ANONYMOUS.COM   \n",
       "3   207398  ANONYMOUS  ANONYMOUS  ANONYMOUS@ANONYMOUS.COM   \n",
       "4    83250  ANONYMOUS  ANONYMOUS  ANONYMOUS@ANONYMOUS.COM   \n",
       "\n",
       "                        updated_at  \n",
       "0 2023-10-23 18:44:55.294000+00:00  \n",
       "1 2023-10-23 18:44:55.294000+00:00  \n",
       "2 2023-10-23 18:44:55.294000+00:00  \n",
       "3 2023-10-23 18:44:55.294000+00:00  \n",
       "4 2023-10-23 18:44:55.294000+00:00  "
      ]
     },
     "execution_count": 78,
     "metadata": {},
     "output_type": "execute_result"
    }
   ],
   "source": [
    "users = pd.read_json(os.path.join(JSON_PATH, \"users.json\"), orient=\"records\", lines=True)\n",
    "users.head()"
   ]
  },
  {
   "cell_type": "code",
   "execution_count": 79,
   "metadata": {},
   "outputs": [
    {
     "name": "stdout",
     "output_type": "stream",
     "text": [
      "<class 'pandas.core.frame.DataFrame'>\n",
      "RangeIndex: 6235 entries, 0 to 6234\n",
      "Data columns (total 13 columns):\n",
      " #   Column        Non-Null Count  Dtype              \n",
      "---  ------        --------------  -----              \n",
      " 0   tmdb_id       6235 non-null   int64              \n",
      " 1   title         6235 non-null   object             \n",
      " 2   release_date  6235 non-null   object             \n",
      " 3   runtime       6235 non-null   int64              \n",
      " 4   genres        6235 non-null   object             \n",
      " 5   keywords      5999 non-null   object             \n",
      " 6   overview      6235 non-null   object             \n",
      " 7   budget        6235 non-null   int64              \n",
      " 8   revenue       6235 non-null   int64              \n",
      " 9   popularity    6235 non-null   float64            \n",
      " 10  vote_average  6231 non-null   float64            \n",
      " 11  vote_count    6235 non-null   int64              \n",
      " 12  updated_at    6235 non-null   datetime64[ns, UTC]\n",
      "dtypes: datetime64[ns, UTC](1), float64(2), int64(5), object(5)\n",
      "memory usage: 633.4+ KB\n"
     ]
    }
   ],
   "source": [
    "movies = pd.read_json(os.path.join(JSON_PATH, \"movies.json\"), orient=\"records\", lines=True)\n",
    "for col in [\"runtime\", \"budget\", \"revenue\", \"vote_count\"]:\n",
    "    movies[col] = np.where(pd.isnull(movies[col]), -1, movies[col]).astype(int)\n",
    "movies.info()"
   ]
  },
  {
   "cell_type": "code",
   "execution_count": 80,
   "metadata": {},
   "outputs": [
    {
     "name": "stdout",
     "output_type": "stream",
     "text": [
      "<class 'pandas.core.frame.DataFrame'>\n",
      "RangeIndex: 15372666 entries, 0 to 15372665\n",
      "Data columns (total 4 columns):\n",
      " #   Column      Dtype              \n",
      "---  ------      -----              \n",
      " 0   user_id     int64              \n",
      " 1   tmdb_id     int64              \n",
      " 2   rating      float64            \n",
      " 3   updated_at  datetime64[ns, UTC]\n",
      "dtypes: datetime64[ns, UTC](1), float64(1), int64(2)\n",
      "memory usage: 469.1 MB\n"
     ]
    }
   ],
   "source": [
    "ratings = pd.read_json(os.path.join(JSON_PATH, \"ratings.json\"), orient=\"records\", lines=True)\n",
    "ratings.info()"
   ]
  },
  {
   "cell_type": "markdown",
   "metadata": {},
   "source": [
    "#### Create a SQLAlchemy Database Engine"
   ]
  },
  {
   "cell_type": "code",
   "execution_count": 82,
   "metadata": {},
   "outputs": [],
   "source": [
    "from sqlalchemy import Engine, create_engine\n",
    "from google.cloud.sql.connector import Connector\n",
    "from pg8000 import Connection"
   ]
  },
  {
   "cell_type": "code",
   "execution_count": 83,
   "metadata": {},
   "outputs": [],
   "source": [
    "def make_connection() -> Connection:\n",
    "    \"\"\"generate a new pg8000 connection for a CloudSQL instance\"\"\"\n",
    "\n",
    "    project = \"robot-ebert\"\n",
    "    region = \"us-west1\"\n",
    "    instance = \"robot-ebert\"\n",
    "    instance_connection_string = f\"{project}:{region}:{instance}\"\n",
    "\n",
    "    connector = Connector()\n",
    "    cnx = connector.connect(\n",
    "        instance_connection_string=instance_connection_string,\n",
    "        driver=\"pg8000\",\n",
    "        user=\"postgres\",\n",
    "        password=os.environ[\"POSTGRES_PASSWORD\"],\n",
    "        db=\"app\"\n",
    "    )\n",
    "    return cnx\n",
    "\n",
    "\n",
    "def get_engine(test: bool = False, echo: bool = False) -> Engine:\n",
    "    \"\"\"get a new SQLAlchemy Engine to manage DB connections\"\"\"\n",
    "\n",
    "    if test:\n",
    "        engine = create_engine(f\"duckdb:///../app/database.duckdb\", echo=echo)\n",
    "    else:\n",
    "        engine = create_engine(\"postgresql+pg8000://\", creator=make_connection, echo=echo)\n",
    "    return engine\n"
   ]
  },
  {
   "cell_type": "code",
   "execution_count": 84,
   "metadata": {},
   "outputs": [
    {
     "data": {
      "text/plain": [
       "Engine(postgresql+pg8000://)"
      ]
     },
     "execution_count": 84,
     "metadata": {},
     "output_type": "execute_result"
    }
   ],
   "source": [
    "engine = get_engine(test=False, echo=False)\n",
    "engine"
   ]
  },
  {
   "cell_type": "markdown",
   "metadata": {
    "application/vnd.databricks.v1+cell": {
     "cellMetadata": {},
     "inputWidgets": {},
     "nuid": "a23cb67d-725e-4102-9a0c-f4c286d51c8e",
     "showTitle": false,
     "title": ""
    }
   },
   "source": [
    "#### Insert Static Data into the Application Database"
   ]
  },
  {
   "cell_type": "code",
   "execution_count": 81,
   "metadata": {},
   "outputs": [],
   "source": [
    "# users.to_sql(name=\"users\", con=engine, index=False, if_exists=\"append\", chunksize=1000, method=\"multi\")"
   ]
  },
  {
   "cell_type": "code",
   "execution_count": 62,
   "metadata": {},
   "outputs": [],
   "source": [
    "# movies.to_sql(name=\"movies\", con=engine, index=False, if_exists=\"append\", chunksize=1000, method=\"multi\")"
   ]
  },
  {
   "cell_type": "code",
   "execution_count": 85,
   "metadata": {},
   "outputs": [
    {
     "data": {
      "text/plain": [
       "15372666"
      ]
     },
     "execution_count": 85,
     "metadata": {},
     "output_type": "execute_result"
    }
   ],
   "source": [
    "# ratings.to_sql(name=\"ratings\", con=engine, index=False, if_exists=\"append\", chunksize=1000, method=\"multi\")"
   ]
  },
  {
   "cell_type": "markdown",
   "metadata": {},
   "source": [
    "#### Insert Static Data Using SQLAlchemy"
   ]
  },
  {
   "cell_type": "code",
   "execution_count": 63,
   "metadata": {},
   "outputs": [],
   "source": [
    "sys.path.append(\"..\")"
   ]
  },
  {
   "cell_type": "code",
   "execution_count": 64,
   "metadata": {},
   "outputs": [],
   "source": [
    "from sqlalchemy import insert, select, update, delete\n",
    "from app import database"
   ]
  },
  {
   "cell_type": "code",
   "execution_count": 69,
   "metadata": {},
   "outputs": [],
   "source": [
    "# with engine.begin() as cnx:\n",
    "#     cnx.execute(database.movies.insert(), movies.to_dict(orient=\"records\"))"
   ]
  },
  {
   "cell_type": "markdown",
   "metadata": {
    "application/vnd.databricks.v1+cell": {
     "cellMetadata": {},
     "inputWidgets": {},
     "nuid": "69e90657-2627-47e6-8bc0-c373c9f1d850",
     "showTitle": false,
     "title": ""
    }
   },
   "source": [
    "### Test Out Query Functionality Using SQLAlchemy"
   ]
  },
  {
   "cell_type": "code",
   "execution_count": 71,
   "metadata": {
    "application/vnd.databricks.v1+cell": {
     "cellMetadata": {},
     "inputWidgets": {},
     "nuid": "33043ae8-3d6a-49b2-9ff4-acad0ff60837",
     "showTitle": false,
     "title": ""
    }
   },
   "outputs": [],
   "source": [
    "from sqlalchemy import text"
   ]
  },
  {
   "cell_type": "code",
   "execution_count": 93,
   "metadata": {
    "application/vnd.databricks.v1+cell": {
     "cellMetadata": {},
     "inputWidgets": {},
     "nuid": "f86f176e-fc96-44f1-b4cb-3ffd38cdecdb",
     "showTitle": false,
     "title": ""
    }
   },
   "outputs": [
    {
     "name": "stdout",
     "output_type": "stream",
     "text": [
      "CPU times: user 5 µs, sys: 2 µs, total: 7 µs\n",
      "Wall time: 13.8 µs\n",
      "('1', '272', 4.0, datetime.datetime(2023, 10, 23, 18, 44, 55, 294000))\n",
      "('1', '9685', 5.0, datetime.datetime(2023, 10, 23, 18, 44, 55, 294000))\n",
      "('1', '2108', 4.0, datetime.datetime(2023, 10, 23, 18, 44, 55, 294000))\n",
      "('1', '64678', 5.0, datetime.datetime(2023, 10, 23, 18, 44, 55, 294000))\n",
      "('1', '84892', 5.0, datetime.datetime(2023, 10, 23, 18, 44, 55, 294000))\n",
      "('1', '12444', 5.0, datetime.datetime(2023, 10, 23, 18, 44, 55, 294000))\n",
      "('1', '13475', 5.0, datetime.datetime(2023, 10, 23, 18, 44, 55, 294000))\n",
      "('1', '141', 5.0, datetime.datetime(2023, 10, 23, 18, 44, 55, 294000))\n",
      "('1', '1726', 5.0, datetime.datetime(2023, 10, 23, 18, 44, 55, 294000))\n",
      "('1', '9377', 5.0, datetime.datetime(2023, 10, 23, 18, 44, 55, 294000))\n",
      "('1', '238', 5.0, datetime.datetime(2023, 10, 23, 18, 44, 55, 294000))\n",
      "('1', '240', 5.0, datetime.datetime(2023, 10, 23, 18, 44, 55, 294000))\n",
      "('1', '68718', 4.0, datetime.datetime(2023, 10, 23, 18, 44, 55, 294000))\n",
      "('1', '155', 4.0, datetime.datetime(2023, 10, 23, 18, 44, 55, 294000))\n",
      "('1', '767', 5.0, datetime.datetime(2023, 10, 23, 18, 44, 55, 294000))\n",
      "('1', '745', 4.5, datetime.datetime(2023, 10, 23, 18, 44, 55, 294000))\n",
      "('1', '77', 4.0, datetime.datetime(2023, 10, 23, 18, 44, 55, 294000))\n",
      "('1', '58574', 5.0, datetime.datetime(2023, 10, 23, 18, 44, 55, 294000))\n",
      "('1', '244786', 5.0, datetime.datetime(2023, 10, 23, 18, 44, 55, 294000))\n",
      "('1', '10528', 5.0, datetime.datetime(2023, 10, 23, 18, 44, 55, 294000))\n",
      "('1', '10474', 4.5, datetime.datetime(2023, 10, 23, 18, 44, 55, 294000))\n",
      "('1', '207', 5.0, datetime.datetime(2023, 10, 23, 18, 44, 55, 294000))\n",
      "('1', '8363', 3.5, datetime.datetime(2023, 10, 23, 18, 44, 55, 294000))\n"
     ]
    }
   ],
   "source": [
    "%time\n",
    "\n",
    "with engine.connect() as cnx:\n",
    "    result = cnx.execute(text(\"SELECT * FROM ratings WHERE user_id = '1'\"))\n",
    "    for row in result:\n",
    "        print(row)"
   ]
  },
  {
   "cell_type": "code",
   "execution_count": null,
   "metadata": {
    "application/vnd.databricks.v1+cell": {
     "cellMetadata": {},
     "inputWidgets": {},
     "nuid": "56f28c65-6191-496e-80af-3886e98d9a88",
     "showTitle": false,
     "title": ""
    }
   },
   "outputs": [],
   "source": []
  }
 ],
 "metadata": {
  "application/vnd.databricks.v1+notebook": {
   "dashboards": [],
   "language": "python",
   "notebookMetadata": {
    "pythonIndentUnit": 4
   },
   "notebookName": "populate-database",
   "widgets": {}
  },
  "kernelspec": {
   "display_name": "Python 3 (ipykernel)",
   "language": "python",
   "name": "python3"
  },
  "language_info": {
   "codemirror_mode": {
    "name": "ipython",
    "version": 3
   },
   "file_extension": ".py",
   "mimetype": "text/x-python",
   "name": "python",
   "nbconvert_exporter": "python",
   "pygments_lexer": "ipython3",
   "version": "3.9.18"
  }
 },
 "nbformat": 4,
 "nbformat_minor": 4
}
