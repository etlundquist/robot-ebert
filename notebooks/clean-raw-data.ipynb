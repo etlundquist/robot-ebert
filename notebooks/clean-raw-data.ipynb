{
 "cells": [
  {
   "cell_type": "markdown",
   "metadata": {
    "application/vnd.databricks.v1+cell": {
     "cellMetadata": {},
     "inputWidgets": {},
     "nuid": "7aac89c0-51f4-44b3-a121-3be08e28b4b6",
     "showTitle": false,
     "title": ""
    }
   },
   "source": [
    "### Set Up Notebook"
   ]
  },
  {
   "cell_type": "markdown",
   "metadata": {
    "application/vnd.databricks.v1+cell": {
     "cellMetadata": {},
     "inputWidgets": {},
     "nuid": "d89d1a2f-ce6b-4b4e-8779-eb60c1c7676d",
     "showTitle": false,
     "title": ""
    }
   },
   "source": [
    "#### Import Required Modules"
   ]
  },
  {
   "cell_type": "code",
   "execution_count": 0,
   "metadata": {
    "application/vnd.databricks.v1+cell": {
     "cellMetadata": {
      "byteLimit": 2048000,
      "rowLimit": 10000
     },
     "inputWidgets": {},
     "nuid": "7ad92141-2202-40f0-8029-bebb8b63e18b",
     "showTitle": false,
     "title": ""
    }
   },
   "outputs": [],
   "source": [
    "import os\n",
    "import time\n",
    "import json\n",
    "import requests\n",
    "from typing import List, Dict\n",
    "\n",
    "from pyspark.sql import SparkSession\n",
    "from pyspark.sql import functions as f\n",
    "from pyspark.sql.window import Window"
   ]
  },
  {
   "cell_type": "markdown",
   "metadata": {
    "application/vnd.databricks.v1+cell": {
     "cellMetadata": {},
     "inputWidgets": {},
     "nuid": "8de77a0b-a968-4306-a01f-cbf21973a372",
     "showTitle": false,
     "title": ""
    }
   },
   "source": [
    "#### Get or Create SparkSession"
   ]
  },
  {
   "cell_type": "code",
   "execution_count": 0,
   "metadata": {
    "application/vnd.databricks.v1+cell": {
     "cellMetadata": {
      "byteLimit": 2048000,
      "rowLimit": 10000
     },
     "inputWidgets": {},
     "nuid": "fcc0d9be-c3dd-4fbb-ba4f-5a413ce03d97",
     "showTitle": false,
     "title": ""
    }
   },
   "outputs": [
    {
     "output_type": "display_data",
     "data": {
      "text/html": [
       "\n",
       "            <div>\n",
       "                <p><b>SparkSession - hive</b></p>\n",
       "                \n",
       "        <div>\n",
       "            <p><b>SparkContext</b></p>\n",
       "\n",
       "            <p><a href=\"/?o=8355974179873438#setting/sparkui/1017-161542-o0dq748r/driver-7928559540882837674\">Spark UI</a></p>\n",
       "\n",
       "            <dl>\n",
       "              <dt>Version</dt>\n",
       "                <dd><code>v3.3.2</code></dd>\n",
       "              <dt>Master</dt>\n",
       "                <dd><code>spark://driver-proxy:7077</code></dd>\n",
       "              <dt>AppName</dt>\n",
       "                <dd><code>Databricks Shell</code></dd>\n",
       "            </dl>\n",
       "        </div>\n",
       "        \n",
       "            </div>\n",
       "        "
      ]
     },
     "metadata": {
      "application/vnd.databricks.v1+output": {
       "addedWidgets": {},
       "arguments": {},
       "data": "\n            <div>\n                <p><b>SparkSession - hive</b></p>\n                \n        <div>\n            <p><b>SparkContext</b></p>\n\n            <p><a href=\"/?o=8355974179873438#setting/sparkui/1017-161542-o0dq748r/driver-7928559540882837674\">Spark UI</a></p>\n\n            <dl>\n              <dt>Version</dt>\n                <dd><code>v3.3.2</code></dd>\n              <dt>Master</dt>\n                <dd><code>spark://driver-proxy:7077</code></dd>\n              <dt>AppName</dt>\n                <dd><code>Databricks Shell</code></dd>\n            </dl>\n        </div>\n        \n            </div>\n        ",
       "datasetInfos": [],
       "metadata": {},
       "removedWidgets": [],
       "textData": null,
       "type": "htmlSandbox"
      }
     },
     "output_type": "display_data"
    }
   ],
   "source": [
    "spark = SparkSession.builder.getOrCreate()\n",
    "spark.sparkContext.setLogLevel(\"error\")\n",
    "spark"
   ]
  },
  {
   "cell_type": "markdown",
   "metadata": {
    "application/vnd.databricks.v1+cell": {
     "cellMetadata": {},
     "inputWidgets": {},
     "nuid": "14ce4bd9-572b-4820-b110-d1a17cd1452c",
     "showTitle": false,
     "title": ""
    }
   },
   "source": [
    "#### Set Workflow Constants"
   ]
  },
  {
   "cell_type": "code",
   "execution_count": 0,
   "metadata": {
    "application/vnd.databricks.v1+cell": {
     "cellMetadata": {
      "byteLimit": 2048000,
      "rowLimit": 10000
     },
     "inputWidgets": {},
     "nuid": "a4f2e60a-de85-431b-9204-138a78f3780d",
     "showTitle": false,
     "title": ""
    }
   },
   "outputs": [],
   "source": [
    "RAW_PATH = \"dbfs:/FileStore/data/raw/ml-latest-small\"\n",
    "CLEAN_PATH = \"dbfs:/FileStore/data/clean\""
   ]
  },
  {
   "cell_type": "code",
   "execution_count": 0,
   "metadata": {
    "application/vnd.databricks.v1+cell": {
     "cellMetadata": {
      "byteLimit": 2048000,
      "rowLimit": 10000
     },
     "inputWidgets": {},
     "nuid": "fb385ff7-2139-449d-a9a2-c5f6a6f4b5f7",
     "showTitle": false,
     "title": ""
    }
   },
   "outputs": [],
   "source": [
    "MIN_USER_RATINGS = 10\n",
    "MIN_MOVIE_RATINGS = 10\n",
    "MAX_CAST_MEMBERS = 5"
   ]
  },
  {
   "cell_type": "markdown",
   "metadata": {
    "application/vnd.databricks.v1+cell": {
     "cellMetadata": {},
     "inputWidgets": {},
     "nuid": "4c0c228b-1b10-427e-a7db-b1a6cd55f8ca",
     "showTitle": false,
     "title": ""
    }
   },
   "source": [
    "### Import and Clean Ratings Data"
   ]
  },
  {
   "cell_type": "markdown",
   "metadata": {
    "application/vnd.databricks.v1+cell": {
     "cellMetadata": {},
     "inputWidgets": {},
     "nuid": "5c968040-f53a-4e5c-9f09-9817298a2866",
     "showTitle": false,
     "title": ""
    }
   },
   "source": [
    "#### Import Ratings Data"
   ]
  },
  {
   "cell_type": "code",
   "execution_count": 0,
   "metadata": {
    "application/vnd.databricks.v1+cell": {
     "cellMetadata": {
      "byteLimit": 2048000,
      "rowLimit": 10000
     },
     "inputWidgets": {},
     "nuid": "a5a79c63-d385-4040-8347-d1660881311f",
     "showTitle": false,
     "title": ""
    }
   },
   "outputs": [
    {
     "output_type": "stream",
     "name": "stdout",
     "output_type": "stream",
     "text": [
      "root\n |-- user_id: string (nullable = true)\n |-- movie_id: string (nullable = true)\n |-- rating: double (nullable = true)\n |-- timestamp: string (nullable = true)\n\n+-------+--------+------+-------------------+\n|user_id|movie_id|rating|timestamp          |\n+-------+--------+------+-------------------+\n|1      |1       |4.0   |2000-07-30 18:45:03|\n|1      |3       |4.0   |2000-07-30 18:20:47|\n|1      |6       |4.0   |2000-07-30 18:37:04|\n|1      |47      |5.0   |2000-07-30 19:03:35|\n|1      |50      |5.0   |2000-07-30 18:48:51|\n+-------+--------+------+-------------------+\nonly showing top 5 rows\n\n+-----+------+-------+-------------------+-------------------+\n|users|movies|ratings|           min_time|           max_time|\n+-----+------+-------+-------------------+-------------------+\n|  610|  9724| 100836|1996-03-29 18:36:55|2018-09-24 14:27:30|\n+-----+------+-------+-------------------+-------------------+\n\n"
     ]
    }
   ],
   "source": [
    "ratings = spark \\\n",
    "    .read.csv(os.path.join(RAW_PATH, \"ratings.csv\"), header=True) \\\n",
    "    .select(\n",
    "        f.col('userId').cast('string').alias('user_id'),\n",
    "        f.col('movieId').cast('string').alias('movie_id'),\n",
    "        f.col('rating').cast('double').alias('rating'),\n",
    "        f.from_unixtime('timestamp').alias('timestamp')\n",
    "    )\n",
    "\n",
    "ratings.printSchema()\n",
    "ratings.show(5, truncate=False)\n",
    "ratings.agg(\n",
    "    f.countDistinct('user_id').alias('users'), \n",
    "    f.countDistinct('movie_id').alias('movies'), \n",
    "    f.count('*').alias('ratings'),\n",
    "    f.min('timestamp').alias('min_time'),\n",
    "    f.max('timestamp').alias('max_time')\n",
    ").show()"
   ]
  },
  {
   "cell_type": "markdown",
   "metadata": {
    "application/vnd.databricks.v1+cell": {
     "cellMetadata": {},
     "inputWidgets": {},
     "nuid": "ab6f18e9-42a6-4828-9a02-e3bc30e34143",
     "showTitle": false,
     "title": ""
    }
   },
   "source": [
    "#### Import the Links Data"
   ]
  },
  {
   "cell_type": "code",
   "execution_count": 0,
   "metadata": {
    "application/vnd.databricks.v1+cell": {
     "cellMetadata": {
      "byteLimit": 2048000,
      "rowLimit": 10000
     },
     "inputWidgets": {},
     "nuid": "9dd7a187-c469-4502-aae8-084721d3c1a0",
     "showTitle": false,
     "title": ""
    }
   },
   "outputs": [
    {
     "output_type": "stream",
     "name": "stdout",
     "output_type": "stream",
     "text": [
      "root\n |-- movie_id: string (nullable = true)\n |-- imdb_id: string (nullable = true)\n |-- tmdb_id: string (nullable = true)\n\n+--------+-------+-------+\n|movie_id|imdb_id|tmdb_id|\n+--------+-------+-------+\n|1       |0114709|862    |\n|2       |0113497|8844   |\n|3       |0113228|15602  |\n|4       |0114885|31357  |\n|5       |0113041|11862  |\n+--------+-------+-------+\nonly showing top 5 rows\n\n+-------+--------+-------+\n|tmdb_id|movie_id|records|\n+-------+--------+-------+\n|   9733|    9742|   9742|\n+-------+--------+-------+\n\n"
     ]
    }
   ],
   "source": [
    "links = spark \\\n",
    "    .read.csv(os.path.join(RAW_PATH, \"links.csv\"), header=True) \\\n",
    "    .select(\n",
    "        f.col('movieId').cast('string').alias('movie_id'),\n",
    "        f.col('imdbId').cast('string').alias('imdb_id'),\n",
    "        f.col('tmdbId').cast('string').alias('tmdb_id')\n",
    "    )\n",
    "\n",
    "links.printSchema()\n",
    "links.show(5, truncate=False)\n",
    "links.agg(f.countDistinct('tmdb_id').alias('tmdb_id'), f.countDistinct('movie_id').alias('movie_id'), f.count('*').alias('records')).show()"
   ]
  },
  {
   "cell_type": "markdown",
   "metadata": {
    "application/vnd.databricks.v1+cell": {
     "cellMetadata": {},
     "inputWidgets": {},
     "nuid": "72c5f003-f00e-4558-bae8-945461ee2afc",
     "showTitle": false,
     "title": ""
    }
   },
   "source": [
    "#### Clean the Ratings Data and Save as Parquet"
   ]
  },
  {
   "cell_type": "code",
   "execution_count": 0,
   "metadata": {
    "application/vnd.databricks.v1+cell": {
     "cellMetadata": {
      "byteLimit": 2048000,
      "rowLimit": 10000
     },
     "inputWidgets": {},
     "nuid": "be7a704c-9369-4bd0-96e7-53ffd51bf07b",
     "showTitle": false,
     "title": ""
    }
   },
   "outputs": [
    {
     "output_type": "stream",
     "name": "stdout",
     "output_type": "stream",
     "text": [
      "users=610 movies=2269 ratings=81116 sparsity=0.9414\n+-------+-------+\n|ratings|records|\n+-------+-------+\n|  81116|  81116|\n+-------+-------+\n\nroot\n |-- user_id: string (nullable = true)\n |-- tmdb_id: string (nullable = true)\n |-- rating: double (nullable = true)\n |-- timestamp: string (nullable = true)\n\n+-------+-------+------+-------------------+\n|user_id|tmdb_id|rating|          timestamp|\n+-------+-------+------+-------------------+\n|    140|    100|   4.0|2003-06-08 17:14:57|\n|    166|    100|   3.5|2007-09-06 00:24:53|\n|     18|    100|   4.5|2016-02-27 14:48:19|\n|    187|    100|   1.0|2006-10-26 07:52:18|\n|    199|    100|   3.0|2001-07-15 02:47:22|\n+-------+-------+------+-------------------+\nonly showing top 5 rows\n\n"
     ]
    }
   ],
   "source": [
    "clean_ratings = ratings \\\n",
    "    .join(links, on=\"movie_id\", how=\"inner\") \\\n",
    "    .dropna(how=\"any\", subset=[\"user_id\", \"tmdb_id\", \"rating\", \"timestamp\"]) \\\n",
    "    .withColumn(\"rank\", f.row_number().over(Window.partitionBy(\"user_id\", \"tmdb_id\").orderBy(f.desc(\"timestamp\")))) \\\n",
    "    .filter(f.col(\"rank\") == 1) \\\n",
    "    .withColumn(\"cnt_user_ratings\", f.count(\"*\").over(Window.partitionBy(\"user_id\"))) \\\n",
    "    .withColumn(\"cnt_movie_ratings\", f.count(\"*\").over(Window.partitionBy(\"tmdb_id\"))) \\\n",
    "    .filter(f.col(\"cnt_user_ratings\") >= MIN_USER_RATINGS) \\\n",
    "    .filter(f.col(\"cnt_movie_ratings\") >= MIN_MOVIE_RATINGS) \\\n",
    "    .select(\"user_id\", \"tmdb_id\", \"rating\", \"timestamp\")\n",
    "\n",
    "counts = clean_ratings.agg(f.countDistinct('user_id').alias('users'), f.countDistinct('tmdb_id').alias('movies'), f.count('*').alias('ratings')).first()\n",
    "sparsity = round(1 - (counts['ratings'] / (counts['users'] * counts['movies'])), 4)\n",
    "print(f\"users={counts['users']} movies={counts['movies']} ratings={counts['ratings']} sparsity={sparsity}\")\n",
    "\n",
    "clean_ratings.agg(f.countDistinct(\"user_id\", \"tmdb_id\").alias(\"ratings\"), f.count(\"*\").alias(\"records\")).show()\n",
    "clean_ratings.printSchema()\n",
    "clean_ratings.show(5)"
   ]
  },
  {
   "cell_type": "code",
   "execution_count": 0,
   "metadata": {
    "application/vnd.databricks.v1+cell": {
     "cellMetadata": {
      "byteLimit": 2048000,
      "rowLimit": 10000
     },
     "inputWidgets": {},
     "nuid": "24e39e0e-9a27-4bce-a657-556f8e4b15a2",
     "showTitle": false,
     "title": ""
    }
   },
   "outputs": [],
   "source": [
    "clean_ratings.repartition(10).write.parquet(os.path.join(CLEAN_PATH, \"ratings\"), mode=\"overwrite\")"
   ]
  },
  {
   "cell_type": "markdown",
   "metadata": {
    "application/vnd.databricks.v1+cell": {
     "cellMetadata": {},
     "inputWidgets": {},
     "nuid": "9a586911-2445-4b53-9f31-3e4a5547a30a",
     "showTitle": false,
     "title": ""
    }
   },
   "source": [
    "### Gather Movie Information for All Movies in Clean Ratings Data"
   ]
  },
  {
   "cell_type": "markdown",
   "metadata": {
    "application/vnd.databricks.v1+cell": {
     "cellMetadata": {},
     "inputWidgets": {},
     "nuid": "9664c7d8-b4d8-4dd0-81dd-a7539f5ed1d7",
     "showTitle": false,
     "title": ""
    }
   },
   "source": [
    "#### Determine the Set of Movies to Fetch"
   ]
  },
  {
   "cell_type": "code",
   "execution_count": 0,
   "metadata": {
    "application/vnd.databricks.v1+cell": {
     "cellMetadata": {
      "byteLimit": 2048000,
      "rowLimit": 10000
     },
     "inputWidgets": {},
     "nuid": "f5e0d60f-9be2-47a5-969f-baaaf30e7480",
     "showTitle": false,
     "title": ""
    }
   },
   "outputs": [
    {
     "output_type": "stream",
     "name": "stdout",
     "output_type": "stream",
     "text": [
      "Out[9]: 2269"
     ]
    }
   ],
   "source": [
    "ratings_movies = sorted([int(row[\"tmdb_id\"]) for row in clean_ratings.select(\"tmdb_id\").distinct().collect()])\n",
    "len(ratings_movies)"
   ]
  },
  {
   "cell_type": "markdown",
   "metadata": {
    "application/vnd.databricks.v1+cell": {
     "cellMetadata": {},
     "inputWidgets": {},
     "nuid": "093f62c1-288f-4d09-bb3d-e2f54190bf68",
     "showTitle": false,
     "title": ""
    }
   },
   "source": [
    "#### Define a Function to Get All Movie Details"
   ]
  },
  {
   "cell_type": "code",
   "execution_count": 0,
   "metadata": {
    "application/vnd.databricks.v1+cell": {
     "cellMetadata": {
      "byteLimit": 2048000,
      "rowLimit": 10000
     },
     "inputWidgets": {},
     "nuid": "3f6a78ca-dba9-430a-8723-6b94e2b5522e",
     "showTitle": false,
     "title": ""
    }
   },
   "outputs": [],
   "source": [
    "def get_movies(tmdb_ids: List[int], max_rps=20) -> List[Dict]:\n",
    "    \"\"\"get movie information from the TMDB API\"\"\"\n",
    "\n",
    "    # define needed TMDB endpoints\n",
    "    details_endpoint = \"https://api.themoviedb.org/3/movie/{tmdb_id}\"\n",
    "    credits_endpoint = \"https://api.themoviedb.org/3/movie/{tmdb_id}/credits\"\n",
    "    keywords_endpoint = \"https://api.themoviedb.org/3/movie/{tmdb_id}/keywords\"\n",
    "\n",
    "    # define common request headers\n",
    "    headers = {\n",
    "        \"accept\": \"application/json\",\n",
    "        \"Authorization\": f\"Bearer {os.environ['TMDB_ACCESS_TOKEN']}\"\n",
    "    }\n",
    "\n",
    "    # create a Session object to set common parameters and handle connection pooling\n",
    "    session = requests.Session()\n",
    "    session.headers.update(headers)\n",
    "\n",
    "    movies = [None] * len(tmdb_ids)\n",
    "    for i, tmdb_id in enumerate(tmdb_ids):\n",
    "\n",
    "        try:\n",
    "\n",
    "            # get movie details\n",
    "            response = session.get(details_endpoint.format(tmdb_id=tmdb_id))\n",
    "            response.raise_for_status()\n",
    "            response_body = response.json()\n",
    "            movie_details = {\n",
    "                \"tmdb_id\": str(tmdb_id),\n",
    "                \"tmdb_homepage\": f\"https://www.themoviedb.org/movie/{tmdb_id}\",\n",
    "                \"title\": response_body[\"title\"],\n",
    "                \"status\": response_body[\"status\"],\n",
    "                \"language\": response_body[\"original_language\"],\n",
    "                \"release_date\": response_body[\"release_date\"],\n",
    "                \"runtime\": response_body[\"runtime\"],\n",
    "                \"overview\": response_body[\"overview\"],\n",
    "                \"genres\": [genre[\"name\"] for genre in response_body[\"genres\"]],\n",
    "                \"budget\": response_body[\"budget\"],\n",
    "                \"revenue\": response_body[\"revenue\"],\n",
    "                \"popularity\": response_body[\"popularity\"],\n",
    "                \"vote_average\": response_body[\"vote_average\"],\n",
    "                \"vote_count\": response_body[\"vote_count\"]\n",
    "            }\n",
    "\n",
    "            # get movie credits\n",
    "            response = session.get(credits_endpoint.format(tmdb_id=tmdb_id))\n",
    "            response.raise_for_status()\n",
    "            response_body = response.json()\n",
    "            director = [item for item in response_body[\"crew\"] if item[\"job\"] == \"Director\"]\n",
    "            top_cast = sorted(response_body[\"cast\"], key=lambda x: x[\"order\"])[:MAX_CAST_MEMBERS]\n",
    "            movie_credits = {\n",
    "                \"director\": director[0][\"name\"] if len(director) >= 1 else \"\",\n",
    "                \"cast\": [actor[\"name\"] for actor in top_cast]\n",
    "            }\n",
    "\n",
    "            # get movie keywords\n",
    "            response = session.get(keywords_endpoint.format(tmdb_id=tmdb_id))\n",
    "            response.raise_for_status()\n",
    "            response_body = response.json()\n",
    "            movie_keywords = {\n",
    "                \"keywords\": [item[\"name\"] for item in response_body[\"keywords\"]]\n",
    "            }\n",
    "\n",
    "            # combine all movie information together and add to running list\n",
    "            movies[i] = {**movie_details, **movie_credits, **movie_keywords}\n",
    "\n",
    "        # log any movie-specific HTTP errors and continue processing\n",
    "        except requests.HTTPError as err:\n",
    "            print(f\"error for tmdb_id={tmdb_id}\")\n",
    "            print(err)\n",
    "\n",
    "        # add a delay to avoid rate limiting\n",
    "        if (i > 0) and i % max_rps == 0:\n",
    "            print(f\"current iteration={i} current tmdb_id={tmdb_id}\")\n",
    "            time.sleep(0.5)\n",
    "\n",
    "    # remove the None entries for movies with API errors and return\n",
    "    movies = [movie for movie in movies if movie is not None]\n",
    "    return movies"
   ]
  },
  {
   "cell_type": "markdown",
   "metadata": {
    "application/vnd.databricks.v1+cell": {
     "cellMetadata": {},
     "inputWidgets": {},
     "nuid": "d1445c95-0baf-4c88-b8c3-067f8a48fbb4",
     "showTitle": false,
     "title": ""
    }
   },
   "source": [
    "#### Get All Movie Details"
   ]
  },
  {
   "cell_type": "code",
   "execution_count": 0,
   "metadata": {
    "application/vnd.databricks.v1+cell": {
     "cellMetadata": {
      "byteLimit": 2048000,
      "rowLimit": 10000
     },
     "inputWidgets": {},
     "nuid": "698a59dc-d8b5-4def-ac56-21fb8b029dc3",
     "showTitle": false,
     "title": ""
    }
   },
   "outputs": [
    {
     "output_type": "stream",
     "name": "stdout",
     "output_type": "stream",
     "text": [
      "current iteration=20 current tmdb_id=63\ncurrent iteration=40 current tmdb_id=88\ncurrent iteration=60 current tmdb_id=114\ncurrent iteration=80 current tmdb_id=150\ncurrent iteration=100 current tmdb_id=177\ncurrent iteration=120 current tmdb_id=215\ncurrent iteration=140 current tmdb_id=252\ncurrent iteration=160 current tmdb_id=293\ncurrent iteration=180 current tmdb_id=334\ncurrent iteration=200 current tmdb_id=395\ncurrent iteration=220 current tmdb_id=429\ncurrent iteration=240 current tmdb_id=497\ncurrent iteration=260 current tmdb_id=548\ncurrent iteration=280 current tmdb_id=581\ncurrent iteration=300 current tmdb_id=603\ncurrent iteration=320 current tmdb_id=628\ncurrent iteration=340 current tmdb_id=657\ncurrent iteration=360 current tmdb_id=688\ncurrent iteration=380 current tmdb_id=714\ncurrent iteration=400 current tmdb_id=773\ncurrent iteration=420 current tmdb_id=814\ncurrent iteration=440 current tmdb_id=850\ncurrent iteration=460 current tmdb_id=879\ncurrent iteration=480 current tmdb_id=924\ncurrent iteration=500 current tmdb_id=955\ncurrent iteration=520 current tmdb_id=1073\ncurrent iteration=540 current tmdb_id=1281\ncurrent iteration=560 current tmdb_id=1417\ncurrent iteration=580 current tmdb_id=1542\ncurrent iteration=600 current tmdb_id=1587\ncurrent iteration=620 current tmdb_id=1645\ncurrent iteration=640 current tmdb_id=1724\ncurrent iteration=660 current tmdb_id=1850\ncurrent iteration=680 current tmdb_id=1907\ncurrent iteration=700 current tmdb_id=1985\ncurrent iteration=720 current tmdb_id=2046\ncurrent iteration=740 current tmdb_id=2114\ncurrent iteration=760 current tmdb_id=2288\ncurrent iteration=780 current tmdb_id=2503\ncurrent iteration=800 current tmdb_id=2667\ncurrent iteration=820 current tmdb_id=2898\ncurrent iteration=840 current tmdb_id=3085\ncurrent iteration=860 current tmdb_id=3600\ncurrent iteration=880 current tmdb_id=4256\ncurrent iteration=900 current tmdb_id=4547\ncurrent iteration=920 current tmdb_id=4954\ncurrent iteration=940 current tmdb_id=5528\ncurrent iteration=960 current tmdb_id=6068\ncurrent iteration=980 current tmdb_id=6557\ncurrent iteration=1000 current tmdb_id=7300\ncurrent iteration=1020 current tmdb_id=7553\ncurrent iteration=1040 current tmdb_id=8197\ncurrent iteration=1060 current tmdb_id=8393\ncurrent iteration=1080 current tmdb_id=8698\ncurrent iteration=1100 current tmdb_id=8856\ncurrent iteration=1120 current tmdb_id=8989\ncurrent iteration=1140 current tmdb_id=9090\ncurrent iteration=1160 current tmdb_id=9283\ncurrent iteration=1180 current tmdb_id=9327\ncurrent iteration=1200 current tmdb_id=9359\ncurrent iteration=1220 current tmdb_id=9398\ncurrent iteration=1240 current tmdb_id=9443\ncurrent iteration=1260 current tmdb_id=9481\ncurrent iteration=1280 current tmdb_id=9536\ncurrent iteration=1300 current tmdb_id=9606\ncurrent iteration=1320 current tmdb_id=9671\ncurrent iteration=1340 current tmdb_id=9778\ncurrent iteration=1360 current tmdb_id=9870\ncurrent iteration=1380 current tmdb_id=9946\ncurrent iteration=1400 current tmdb_id=10122\ncurrent iteration=1420 current tmdb_id=10184\ncurrent iteration=1440 current tmdb_id=10280\ncurrent iteration=1460 current tmdb_id=10388\ncurrent iteration=1480 current tmdb_id=10451\ncurrent iteration=1500 current tmdb_id=10535\ncurrent iteration=1520 current tmdb_id=10625\ncurrent iteration=1540 current tmdb_id=10705\ncurrent iteration=1560 current tmdb_id=10806\ncurrent iteration=1580 current tmdb_id=10948\ncurrent iteration=1600 current tmdb_id=11040\ncurrent iteration=1620 current tmdb_id=11176\ncurrent iteration=1640 current tmdb_id=11314\ncurrent iteration=1660 current tmdb_id=11381\ncurrent iteration=1680 current tmdb_id=11478\ncurrent iteration=1700 current tmdb_id=11562\ncurrent iteration=1720 current tmdb_id=11663\ncurrent iteration=1740 current tmdb_id=11812\ncurrent iteration=1760 current tmdb_id=11878\ncurrent iteration=1780 current tmdb_id=11979\ncurrent iteration=1800 current tmdb_id=12155\ncurrent iteration=1820 current tmdb_id=12498\ncurrent iteration=1840 current tmdb_id=13203\ncurrent iteration=1860 current tmdb_id=13776\ncurrent iteration=1880 current tmdb_id=14292\nerror for tmdb_id=14301\n404 Client Error: Not Found for url: https://api.themoviedb.org/3/movie/14301\ncurrent iteration=1900 current tmdb_id=14919\ncurrent iteration=1920 current tmdb_id=16300\ncurrent iteration=1940 current tmdb_id=17578\ncurrent iteration=1960 current tmdb_id=19101\ncurrent iteration=1980 current tmdb_id=21991\ncurrent iteration=2000 current tmdb_id=25059\ncurrent iteration=2020 current tmdb_id=35056\ncurrent iteration=2040 current tmdb_id=37165\ncurrent iteration=2060 current tmdb_id=40807\ncurrent iteration=2080 current tmdb_id=49047\ncurrent iteration=2100 current tmdb_id=55721\ncurrent iteration=2120 current tmdb_id=65754\ncurrent iteration=2140 current tmdb_id=76492\ncurrent iteration=2160 current tmdb_id=99861\ncurrent iteration=2180 current tmdb_id=122906\ncurrent iteration=2200 current tmdb_id=177677\nerror for tmdb_id=202249\n404 Client Error: Not Found for url: https://api.themoviedb.org/3/movie/202249\nerror for tmdb_id=206216\n404 Client Error: Not Found for url: https://api.themoviedb.org/3/movie/206216\ncurrent iteration=2220 current tmdb_id=227159\nerror for tmdb_id=253768\n404 Client Error: Not Found for url: https://api.themoviedb.org/3/movie/253768\ncurrent iteration=2240 current tmdb_id=273248\ncurrent iteration=2260 current tmdb_id=333371\nerror for tmdb_id=370646\n404 Client Error: Not Found for url: https://api.themoviedb.org/3/movie/370646\nOut[13]: 2264"
     ]
    }
   ],
   "source": [
    "movies = get_movies(tmdb_ids=ratings_movies)\n",
    "len(movies)"
   ]
  },
  {
   "cell_type": "markdown",
   "metadata": {
    "application/vnd.databricks.v1+cell": {
     "cellMetadata": {},
     "inputWidgets": {},
     "nuid": "43c20f2f-c32d-48d2-b590-edf468b207af",
     "showTitle": false,
     "title": ""
    }
   },
   "source": [
    "#### Convert Movie Details to a Spark DataFrame"
   ]
  },
  {
   "cell_type": "code",
   "execution_count": 0,
   "metadata": {
    "application/vnd.databricks.v1+cell": {
     "cellMetadata": {
      "byteLimit": 2048000,
      "rowLimit": 10000
     },
     "inputWidgets": {},
     "nuid": "a1b89959-f275-4257-b3ef-93bb8d972d6c",
     "showTitle": false,
     "title": ""
    }
   },
   "outputs": [
    {
     "output_type": "stream",
     "name": "stdout",
     "output_type": "stream",
     "text": [
      "root\n |-- budget: long (nullable = true)\n |-- cast: array (nullable = true)\n |    |-- element: string (containsNull = true)\n |-- director: string (nullable = true)\n |-- genres: array (nullable = true)\n |    |-- element: string (containsNull = true)\n |-- keywords: array (nullable = true)\n |    |-- element: string (containsNull = true)\n |-- language: string (nullable = true)\n |-- overview: string (nullable = true)\n |-- popularity: double (nullable = true)\n |-- release_date: string (nullable = true)\n |-- revenue: long (nullable = true)\n |-- runtime: long (nullable = true)\n |-- status: string (nullable = true)\n |-- title: string (nullable = true)\n |-- tmdb_homepage: string (nullable = true)\n |-- tmdb_id: string (nullable = true)\n |-- vote_average: double (nullable = true)\n |-- vote_count: long (nullable = true)\n\n-RECORD 0------------------------------------------------------------------------------------------------------------------------------------------------------------------------------------------------------------------------------------------------------\n budget        | 4000000                                                                                                                                                                                                                                       \n cast          | [Tim Roth, Jennifer Beals, Antonio Banderas, Valeria Golino, David Proval]                                                                                                                                                                    \n director      | Allison Anders                                                                                                                                                                                                                                \n genres        | [Comedy]                                                                                                                                                                                                                                      \n keywords      | [hotel, new year's eve, witch, bet, hotel room, sperm, anthology, los angeles, california, hoodlum, multiple storylines, woman director]                                                                                                      \n language      | en                                                                                                                                                                                                                                            \n overview      | It's Ted the Bellhop's first night on the job...and the hotel's very unusual guests are about to place him in some outrageous predicaments. It seems that this evening's room service is serving up one unbelievable happening after another. \n popularity    | 21.138                                                                                                                                                                                                                                        \n release_date  | 1995-12-09                                                                                                                                                                                                                                    \n revenue       | 4257354                                                                                                                                                                                                                                       \n runtime       | 98                                                                                                                                                                                                                                            \n status        | Released                                                                                                                                                                                                                                      \n title         | Four Rooms                                                                                                                                                                                                                                    \n tmdb_homepage | https://www.themoviedb.org/movie/5                                                                                                                                                                                                            \n tmdb_id       | 5                                                                                                                                                                                                                                             \n vote_average  | 5.789                                                                                                                                                                                                                                         \n vote_count    | 2443                                                                                                                                                                                                                                          \nonly showing top 1 row\n\nOut[14]: 2264"
     ]
    }
   ],
   "source": [
    "clean_movies = spark.createDataFrame(movies)\n",
    "clean_movies.printSchema()\n",
    "clean_movies.show(1, truncate=False, vertical=True)\n",
    "clean_movies.count()"
   ]
  },
  {
   "cell_type": "markdown",
   "metadata": {
    "application/vnd.databricks.v1+cell": {
     "cellMetadata": {},
     "inputWidgets": {},
     "nuid": "1356099d-e737-4b27-b6b9-55b4f2b51c60",
     "showTitle": false,
     "title": ""
    }
   },
   "source": [
    "#### Basic EDA on the Clean Movies Dataset"
   ]
  },
  {
   "cell_type": "code",
   "execution_count": 0,
   "metadata": {
    "application/vnd.databricks.v1+cell": {
     "cellMetadata": {
      "byteLimit": 2048000,
      "rowLimit": 10000
     },
     "inputWidgets": {},
     "nuid": "63fc1542-3c91-4467-b1a2-1dea6cdeb029",
     "showTitle": false,
     "title": ""
    }
   },
   "outputs": [
    {
     "output_type": "stream",
     "name": "stdout",
     "output_type": "stream",
     "text": [
      "+--------+-----+\n|  status|count|\n+--------+-----+\n|Released| 2264|\n+--------+-----+\n\n+--------+-----+\n|language|count|\n+--------+-----+\n|      en| 2156|\n|      ja|   25|\n|      fr|   24|\n|      es|   12|\n|      de|   10|\n|      cn|    9|\n|      it|    9|\n|      zh|    4|\n|      ko|    3|\n|      sv|    3|\n+--------+-----+\nonly showing top 10 rows\n\n+------------------+-----+\n|year(release_date)|count|\n+------------------+-----+\n|              1922|    1|\n|              1925|    1|\n|              1927|    1|\n|              1930|    1|\n|              1931|    4|\n|              1933|    2|\n|              1934|    1|\n|              1935|    1|\n|              1936|    1|\n|              1937|    1|\n|              1938|    1|\n|              1939|    3|\n|              1940|    6|\n|              1941|    3|\n|              1942|    1|\n|              1943|    1|\n|              1944|    3|\n|              1946|    3|\n|              1947|    1|\n|              1948|    4|\n|              1949|    1|\n|              1950|    6|\n|              1951|    5|\n|              1952|    3|\n|              1953|    4|\n|              1954|    6|\n|              1955|    4|\n|              1956|    4|\n|              1957|    4|\n|              1958|    4|\n|              1959|    5|\n|              1960|    6|\n|              1961|    7|\n|              1962|    6|\n|              1963|   10|\n|              1964|    6|\n|              1965|    4|\n|              1966|    3|\n|              1967|   10|\n|              1968|   11|\n|              1969|    7|\n|              1970|    6|\n|              1971|   10|\n|              1972|    7|\n|              1973|   13|\n|              1974|    8|\n|              1975|   10|\n|              1976|   10|\n|              1977|    9|\n|              1978|   12|\n|              1979|   15|\n|              1980|   15|\n|              1981|   21|\n|              1982|   26|\n|              1983|   21|\n|              1984|   33|\n|              1985|   32|\n|              1986|   38|\n|              1987|   34|\n|              1988|   38|\n|              1989|   42|\n|              1990|   35|\n|              1991|   35|\n|              1992|   55|\n|              1993|   73|\n|              1994|   85|\n|              1995|  115|\n|              1996|  107|\n|              1997|   78|\n|              1998|   86|\n|              1999|   90|\n|              2000|   93|\n|              2001|   88|\n|              2002|   78|\n|              2003|   77|\n|              2004|   82|\n|              2005|   60|\n|              2006|   64|\n|              2007|   64|\n|              2008|   57|\n|              2009|   41|\n|              2010|   41|\n|              2011|   45|\n|              2012|   34|\n|              2013|   36|\n|              2014|   36|\n|              2015|   23|\n|              2016|   18|\n|              2017|    9|\n|              2018|    3|\n+------------------+-----+\n\n+------------+-----+\n|(budget = 0)|count|\n+------------+-----+\n|        true|  184|\n|       false| 2080|\n+------------+-----+\n\n+-------------+-----+\n|(revenue = 0)|count|\n+-------------+-----+\n|         true|  136|\n|        false| 2128|\n+-------------+-----+\n\n+-------------+-----+\n|(runtime = 0)|count|\n+-------------+-----+\n|        false| 2264|\n+-------------+-----+\n\n+-------------+-----+\n|(director = )|count|\n+-------------+-----+\n|        false| 2264|\n+-------------+-----+\n\n+----------------------+-----+\n|(vote_average IS NULL)|count|\n+----------------------+-----+\n|                 false| 2264|\n+----------------------+-----+\n\n+--------------------+-----+\n|(vote_count IS NULL)|count|\n+--------------------+-----+\n|               false| 2264|\n+--------------------+-----+\n\n+-------------------+\n|avg_overview_length|\n+-------------------+\n|  287.0278268551237|\n+-------------------+\n\n+----------+-----+\n|size(cast)|count|\n+----------+-----+\n|         5| 2253|\n|         1|    4|\n|         4|    3|\n|         0|    2|\n|         3|    1|\n|         2|    1|\n+----------+-----+\n\n+------------+-----+\n|size(genres)|count|\n+------------+-----+\n|           3|  902|\n|           2|  668|\n|           4|  318|\n|           1|  278|\n|           5|   84|\n|           6|   13|\n|           7|    1|\n+------------+-----+\n\n+--------------+-----+\n|size(keywords)|count|\n+--------------+-----+\n|             9|  151|\n|            13|  147|\n|             8|  147|\n|            11|  144|\n|            10|  141|\n|            12|  137|\n|            14|  129|\n|             6|  116|\n|            15|  113|\n|             7|  108|\n|            16|   98|\n|            17|   92|\n|             5|   88|\n|            18|   79|\n|             4|   76|\n|            20|   75|\n|            19|   73|\n|            21|   57|\n|            22|   51|\n|             3|   46|\n+--------------+-----+\nonly showing top 20 rows\n\n"
     ]
    }
   ],
   "source": [
    "clean_movies.groupby(\"status\").count().sort(f.desc(\"count\")).show()\n",
    "clean_movies.groupby(\"language\").count().sort(f.desc(\"count\")).show(10)\n",
    "clean_movies.groupby(f.year(\"release_date\")).count().sort(f.year(\"release_date\")).show(100)\n",
    "\n",
    "clean_movies.groupby(f.col(\"budget\") == 0).count().show()\n",
    "clean_movies.groupby(f.col(\"revenue\") == 0).count().show()\n",
    "clean_movies.groupby(f.col(\"runtime\") == 0).count().show()\n",
    "\n",
    "clean_movies.groupby(f.col(\"director\") == \"\").count().show()\n",
    "clean_movies.groupby(f.col(\"vote_average\").isNull()).count().show()\n",
    "clean_movies.groupby(f.col(\"vote_count\").isNull()).count().show()\n",
    "\n",
    "clean_movies.agg(f.mean(f.length(\"overview\")).alias(\"avg_overview_length\")).show()\n",
    "clean_movies.groupby(f.size(\"cast\")).count().sort(f.desc('count')).show()\n",
    "clean_movies.groupby(f.size(\"genres\")).count().sort(f.desc('count')).show()\n",
    "clean_movies.groupby(f.size(\"keywords\")).count().sort(f.desc('count')).show()"
   ]
  },
  {
   "cell_type": "code",
   "execution_count": 0,
   "metadata": {
    "application/vnd.databricks.v1+cell": {
     "cellMetadata": {
      "byteLimit": 2048000,
      "rowLimit": 10000
     },
     "inputWidgets": {},
     "nuid": "1cd9a7d2-1668-4477-89cd-786ebe9dbfa4",
     "showTitle": false,
     "title": ""
    }
   },
   "outputs": [
    {
     "output_type": "stream",
     "name": "stdout",
     "output_type": "stream",
     "text": [
      "+---------+--------------------+--------------------+--------------------+----------------------+--------+----------+----------+-------+--------------------+-------+------------+----------+\n|   budget|                cast|            director|              genres|              keywords|language|popularity|   revenue|runtime|               title|tmdb_id|vote_average|vote_count|\n+---------+--------------------+--------------------+--------------------+----------------------+--------+----------+----------+-------+--------------------+-------+------------+----------+\n|  4000000|[Tim Roth, Jennif...|      Allison Anders|            [Comedy]|  [hotel, new year'...|      en|    21.138|   4257354|     98|          Four Rooms|      5|       5.789|      2443|\n| 11000000|[Mark Hamill, Har...|        George Lucas|[Adventure, Actio...|  [android, galaxy,...|      en|    88.613| 775398007|    121|           Star Wars|     11|       8.204|     19236|\n| 94000000|[Albert Brooks, E...|      Andrew Stanton| [Animation, Family]|  [parent child rel...|      en|    92.459| 940335536|    100|        Finding Nemo|     12|       7.824|     18132|\n| 55000000|[Tom Hanks, Robin...|     Robert Zemeckis|[Comedy, Drama, R...|  [vietnam veteran,...|      en|    84.723| 677387716|    142|        Forrest Gump|     13|       8.477|     25544|\n| 15000000|[Kevin Spacey, An...|          Sam Mendes|             [Drama]|  [adultery, age di...|      en|    35.477| 356296601|    122|     American Beauty|     14|       8.021|     11317|\n|   839727|[Orson Welles, Jo...|        Orson Welles|    [Mystery, Drama]|  [journalist, news...|      en|    29.025|  23218000|    119|        Citizen Kane|     15|         8.0|      5069|\n| 12800000|[Björk, Catherine...|      Lars von Trier|      [Drama, Crime]|  [individual, danc...|      en|    17.399|  40031879|    141|  Dancer in the Dark|     16|       7.871|      1626|\n| 90000000|[Bruce Willis, Mi...|          Luc Besson|[Adventure, Fanta...|  [saving the world...|      en|    61.551| 263920180|    126|   The Fifth Element|     18|       7.532|      9997|\n|  1300000|[Gustav Fröhlich,...|          Fritz Lang|[Drama, Science F...|  [man vs machine, ...|      de|    22.184|    650422|    149|          Metropolis|     19|       8.152|      2445|\n|140000000|[Johnny Depp, Orl...|      Gore Verbinski|[Adventure, Fanta...|  [exotic island, b...|      en|   102.491| 655011224|    143|Pirates of the Ca...|     22|       7.795|     19312|\n| 30000000|[Uma Thurman, Luc...|   Quentin Tarantino|     [Action, Crime]|  [japan, coma, mar...|      en|    43.717| 180906076|    111|   Kill Bill: Vol. 1|     24|       7.969|     16247|\n| 72000000|[Jamie Foxx, Jake...|          Sam Mendes|        [Drama, War]|  [california, gulf...|      en|    25.485|  97076152|    123|             Jarhead|     25|       6.623|      2630|\n| 31500000|[Martin Sheen, Fr...|Francis Ford Coppola|        [Drama, War]|  [cia, drug abuse,...|      en|    37.793| 150000000|    147|      Apocalypse Now|     28|       8.284|      7537|\n| 14400000|[Clint Eastwood, ...|      Clint Eastwood|           [Western]|  [prostitute, sher...|      en|    33.929| 159157447|    130|          Unforgiven|     33|        7.91|      3988|\n| 75000000|[Dan Castellaneta...|     David Silverman|[Animation, Comed...|  [parent child rel...|      en|     64.28| 527068851|     87|  The Simpsons Movie|     35|         7.0|      7458|\n| 20000000|[Jim Carrey, Kate...|       Michel Gondry|[Science Fiction,...|  [new york city, d...|      en|    57.433|  72258126|    108|Eternal Sunshine ...|     38|       8.101|     13778|\n|  2000000|[Gael García Bern...|Alejandro Gonzále...|   [Drama, Thriller]|  [homeless person,...|      es|    26.578|  20908467|    154|       Amores Perros|     55|       7.625|      2355|\n|200000000|[Johnny Depp, Orl...|      Gore Verbinski|[Adventure, Fanta...|  [witch, fortune t...|      en|    75.754|1065659812|    151|Pirates of the Ca...|     58|       7.347|     14927|\n| 32000000|[Viggo Mortensen,...|    David Cronenberg|[Drama, Thriller,...|  [robbery, double ...|      en|    29.246|  60740827|     96|A History of Viol...|     59|       7.166|      2922|\n| 12000000|[Keir Dullea, Gar...|     Stanley Kubrick|[Science Fiction,...|  [moon, jupiter, a...|      en|    47.037|  71923560|    149|2001: A Space Ody...|     62|       8.077|     10640|\n| 29000000|[Bruce Willis, Ma...|       Terry Gilliam|[Science Fiction,...|  [schizophrenia, p...|      en|    40.063| 168841459|    129|      Twelve Monkeys|     63|       7.598|      7725|\n|        0|[Leonor Watling, ...|     Pedro Almodóvar|    [Drama, Romance]|  [suicide, spain, ...|      es|    13.935|  64803131|    112|         Talk to Her|     64|       7.586|      1182|\n| 41000000|[Eminem, Kim Basi...|       Curtis Hanson|      [Drama, Music]|  [individual, stre...|      en|     29.71| 242875078|    111|              8 Mile|     65|       7.124|      6717|\n| 50000000|[Clint Eastwood, ...|      Clint Eastwood|[Crime, Drama, Ac...|  [corruption, assa...|      en|    16.412|  50068310|    121|      Absolute Power|     66|       6.638|       963|\n| 15000000|[Jonathan Pryce, ...|       Terry Gilliam|[Comedy, Science ...|  [bureaucracy, pol...|      en|    21.765|   9900000|    143|              Brazil|     68|       7.673|      3040|\n| 28000000|[Joaquin Phoenix,...|       James Mangold|[Drama, Music, Ro...|  [germany, prison,...|      en|    12.705| 186797986|    136|       Walk the Line|     69|       7.487|      2639|\n| 30000000|[Clint Eastwood, ...|      Clint Eastwood|             [Drama]|  [transporter, sui...|      en|    31.277| 216763646|    132| Million Dollar Baby|     70|       7.956|      8917|\n|  5000000|[Jamie Bell, Gary...|      Stephen Daldry|[Drama, Comedy, M...|  [dancing, homopho...|      en|    18.318| 109280263|    110|        Billy Elliot|     71|       7.591|      3578|\n| 20000000|[Edward Norton, E...|           Tony Kaye|             [Drama]|  [neo-nazism, pris...|      en|    34.816|  23875127|    119|  American History X|     73|       8.351|     10788|\n|132000000|[Tom Cruise, Dako...|    Steven Spielberg|[Adventure, Thril...|  [post-traumatic s...|      en|    43.761| 603873119|    117|   War of the Worlds|     74|       6.499|      7773|\n| 70000000|[Jack Nicholson, ...|          Tim Burton|[Comedy, Fantasy,...|  [saving the world...|      en|     32.54| 101371017|    106|       Mars Attacks!|     75|       6.396|      5025|\n|  2500000|[Ethan Hawke, Jul...|   Richard Linklater|    [Drama, Romance]|  [sunrise, talking...|      en|    26.983|   5987386|    101|      Before Sunrise|     76|        7.97|      3747|\n|  9000000|[Guy Pearce, Carr...|   Christopher Nolan| [Mystery, Thriller]|  [insulin, tattoo,...|      en|    38.206|  39723096|    113|             Memento|     77|       8.188|     13802|\n| 28000000|[Harrison Ford, R...|        Ridley Scott|[Science Fiction,...|  [artificial intel...|      en|    61.206|  41722424|    118|        Blade Runner|     78|       7.932|     12840|\n| 31000000|[Jet Li, Tony Leu...|         Zhang Yimou|[Drama, Adventure...|  [countryside, los...|      zh|    20.118| 177394432|     99|                Hero|     79|       7.511|      2041|\n|  2700000|[Ethan Hawke, Jul...|   Richard Linklater|    [Drama, Romance]|  [paris, france, j...|      en|    19.846|  15992615|     80|       Before Sunset|     80|       7.821|      3096|\n|  1000000|[Sumi Shimamoto, ...|      Hayao Miyazaki|[Adventure, Anima...|  [saving the world...|      ja|    31.256|   3301446|    117|Nausicaä of the V...|     81|        7.93|      3195|\n|135000000|[Colin Farrell, J...|        Michael Mann|[Action, Crime, T...|  [miami, florida, ...|      en|    25.261| 163794509|    132|          Miami Vice|     82|       5.988|      1607|\n| 18000000|[Harrison Ford, K...|    Steven Spielberg| [Adventure, Action]|  [saving the world...|      en|    69.229| 389925971|    115|Raiders of the Lo...|     85|       7.925|     11538|\n| 28000000|[Harrison Ford, K...|    Steven Spielberg| [Adventure, Action]|  [riddle, treasure...|      en|    56.457| 333000000|    118|Indiana Jones and...|     87|       7.294|      8551|\n|  6000000|[Jennifer Grey, P...|      Emile Ardolino|[Drama, Music, Ro...|  [dancing, sibling...|      en|    38.647| 214577242|    100|       Dirty Dancing|     88|       7.344|      5698|\n| 48000000|[Harrison Ford, S...|    Steven Spielberg| [Adventure, Action]|  [germany, saving ...|      en|    61.662| 474171806|    127|Indiana Jones and...|     89|       7.846|      9356|\n| 14000000|[Eddie Murphy, Ju...|        Martin Brest|[Action, Comedy, ...|  [showdown, underc...|      en|    28.821| 316360478|    105|   Beverly Hills Cop|     90|       7.184|      3647|\n|140000000|[Bruce Willis, Bi...|         Michael Bay|[Action, Thriller...|  [saving the world...|      en|    47.021| 553799566|    151|          Armageddon|     95|        6.83|      7352|\n| 28000000|[Eddie Murphy, Ju...|          Tony Scott|[Action, Comedy, ...|  [arms smuggling, ...|      en|    23.659| 299965036|    103|Beverly Hills Cop II|     96|       6.471|      2160|\n| 17000000|[Jeff Bridges, Br...|    Steven Lisberger|[Science Fiction,...|  [video game, hack...|      en|    23.536|  33000000|     96|                Tron|     97|        6.67|      2077|\n|103000000|[Russell Crowe, J...|        Ridley Scott|[Action, Drama, A...|  [rome, italy, par...|      en|    72.995| 465361176|    155|           Gladiator|     98|       8.209|     17069|\n|  8272296|[Cecilia Roth, Ma...|     Pedro Almodóvar|     [Comedy, Drama]|  [barcelona, spain...|      es|     14.71|  67872296|    101| All About My Mother|     99|        7.66|      1721|\n|  1350000|[Jason Flemyng, D...|         Guy Ritchie|     [Comedy, Crime]|  [ambush, alcohol,...|      en|    13.831|  28356188|    105|Lock, Stock and T...|    100|       8.126|      6101|\n| 16000000|[Jean Reno, Natal...|          Luc Besson|[Crime, Drama, Ac...|  [new york city, c...|      en|    53.673|  45284974|    111|Léon: The Profess...|    101|       8.314|     13732|\n|  1900000|[Robert De Niro, ...|     Martin Scorsese|      [Crime, Drama]|  [new york city, v...|      en|    58.558|  28600000|    114|         Taxi Driver|    103|         8.2|     11160|\n|  1530000|[Franka Potente, ...|          Tom Tykwer|[Action, Drama, T...|  [berlin, germany,...|      de|     19.86|   7267585|     81|        Run Lola Run|    104|       7.319|      2016|\n| 19000000|[Michael J. Fox, ...|     Robert Zemeckis|[Adventure, Comed...|  [clock tower, fly...|      en|    74.998| 381109762|    116|  Back to the Future|    105|         8.3|     18548|\n| 15000000|[Arnold Schwarzen...|      John McTiernan|[Science Fiction,...|  [guerrilla warfar...|      en|    76.776|  98267558|    107|            Predator|    106|       7.507|      7313|\n| 10000000|[Jason Statham, B...|         Guy Ritchie|     [Crime, Comedy]|  [england, gypsy, ...|      en|     38.41|  83557872|    103|              Snatch|    107|       7.803|      8352|\n|        0|[Juliette Binoche...|Krzysztof Kieślowski|             [Drama]|  [paris, france, l...|      fr|    17.624|         0|     98|  Three Colors: Blue|    108|       7.675|      1512|\n|        0|[Zbigniew Zamacho...|Krzysztof Kieślowski|[Comedy, Drama, M...|  [hairdresser, sex...|      fr|    14.192|         0|     92| Three Colors: White|    109|       7.479|      1056|\n|        0|[Irène Jacob, Jea...|Krzysztof Kieślowski|[Drama, Mystery, ...|  [weather forecast...|      fr|    20.463|         0|    100|   Three Colors: Red|    110|       7.947|      1231|\n| 25000000|[Al Pacino, Steve...|      Brian De Palma|[Action, Crime, D...|  [sibling relation...|      en|    63.238|  66023329|    170|            Scarface|    111|       8.166|     10831|\n|        0|[Oh Young-soo, Ki...|          Kim Ki-duk|             [Drama]|  [buddhism, life a...|      ko|    18.041|   8945072|    103|Spring, Summer, F...|    113|       7.849|       957|\n| 14000000|[Richard Gere, Ju...|      Garry Marshall|   [Comedy, Romance]|  [prostitute, capi...|      en|    45.577| 463406268|    119|        Pretty Woman|    114|       7.451|      7414|\n| 15000000|[Jeff Bridges, Jo...|           Joel Coen|     [Comedy, Crime]|  [white russian, b...|      en|    32.115|  47010480|    117|    The Big Lebowski|    115|       7.841|     10434|\n| 15000000|[Jonathan Rhys Me...|         Woody Allen|[Drama, Thriller,...|  [love triangle, l...|      en|    25.393|  85306374|    124|         Match Point|    116|       7.348|      3780|\n| 25000000|[Kevin Costner, S...|      Brian De Palma|[Crime, Drama, Hi...|  [chicago, illinoi...|      en|    37.809|  76270454|    119|    The Untouchables|    117|        7.77|      5207|\n|150000000|[Johnny Depp, Fre...|          Tim Burton|[Adventure, Comed...|  [london, england,...|      en|   111.102| 474968763|    115|Charlie and the C...|    118|       7.042|     14030|\n| 93000000|[Elijah Wood, Ian...|       Peter Jackson|[Adventure, Fanta...|  [elves, dwarf, or...|      en|    112.14| 871368364|    179|The Lord of the R...|    120|       8.404|     23439|\n| 79000000|[Elijah Wood, Sea...|       Peter Jackson|[Adventure, Fanta...|  [elves, dwarf, or...|      en|    92.164| 926287400|    179|The Lord of the R...|    121|       8.386|     20379|\n| 94000000|[Elijah Wood, Sea...|       Peter Jackson|[Adventure, Fanta...|  [elves, dwarf, or...|      en|    95.199|1118888979|    201|The Lord of the R...|    122|       8.475|     22465|\n|  4000000|[Christopher Guar...|        Ralph Bakshi|[Adventure, Anima...|  [elves, dwarf, ba...|      en|    25.732|  30471420|    132|The Lord of the R...|    123|       6.574|       773|\n| 23500000|[Youji Matsuda, Y...|      Hayao Miyazaki|[Adventure, Fanta...|  [fight, wolf, hum...|      ja|    61.142| 169000000|    134|   Princess Mononoke|    128|       8.337|      7279|\n| 19000000|[Rumi Hiiragi, Mi...|      Hayao Miyazaki|[Animation, Famil...|  [witch, parent ch...|      ja|     90.38| 274925095|    125|       Spirited Away|    129|        8.54|     14999|\n| 26000000|[George Clooney, ...|           Joel Coen|[Adventure, Comed...|  [prophecy, southe...|      en|    26.044|  71870729|    107|O Brother, Where ...|    134|       7.323|      3807|\n| 14600000|[Bill Murray, And...|        Harold Ramis|[Romance, Fantasy...|  [holiday, deja vu...|      en|    31.018|  71074049|    101|       Groundhog Day|    137|       7.607|      7293|\n|  6000000|[Jake Gyllenhaal,...|       Richard Kelly|[Fantasy, Drama, ...|  [fire, parent chi...|      en|    34.654|   7500000|    114|        Donnie Darko|    141|       7.781|     11574|\n| 14000000|[Heath Ledger, Ja...|             Ang Lee|    [Drama, Romance]|  [countryside, hom...|      en|    36.445| 178043761|    134|  Brokeback Mountain|    142|         7.8|      6454|\n|  1448864|[Louis Wolheim, L...|     Lewis Milestone|        [Drama, War]|  [germany, disillu...|      en|    18.951|   3270000|    134|All Quiet on the ...|    143|        7.75|       702|\n|  2500000|[Bruno Ganz, Solv...|         Wim Wenders|[Drama, Fantasy, ...|  [berlin, germany,...|      de|    18.388|   3210139|    128|     Wings of Desire|    144|       7.777|      1157|\n| 17000000|[Chow Yun-fat, Mi...|             Ang Lee|[Adventure, Drama...|  [flying, martial ...|      zh|     23.55| 213525736|    120|Crouching Tiger, ...|    146|         7.4|      2926|\n|        0|[Jean-Pierre Léau...|   François Truffaut|             [Drama]|  [paris, france, d...|      fr|    16.902|         0|     99|       The 400 Blows|    147|       8.057|      1946|\n| 10000000|[Mitsuo Iwata, No...|     Katsuhiro Otomo|[Animation, Scien...|  [saving the world...|      ja|    45.697|    553171|    124|               Akira|    149|         7.9|      3749|\n| 12000000|[Nick Nolte, Eddi...|         Walter Hill|[Thriller, Action...|  [prison, san fran...|      en|    21.816|  78868508|     96|             48 Hrs.|    150|       6.681|      1321|\n| 35000000|[William Shatner,...|         Robert Wise|[Science Fiction,...|  [artificial intel...|      en|     27.74| 139000000|    132|Star Trek: The Mo...|    152|         6.5|      1569|\n|  4000000|[Bill Murray, Sca...|       Sofia Coppola|    [Drama, Romance]|  [upper class, jap...|      en|    21.684| 119723856|    102| Lost in Translation|    153|       7.395|      6758|\n| 12000000|[William Shatner,...|      Nicholas Meyer|[Action, Adventur...|  [life and death, ...|      en|    22.791|  96800000|    113|Star Trek II: The...|    154|       7.459|      1747|\n|185000000|[Christian Bale, ...|   Christopher Nolan|[Drama, Action, C...|  [crime fighter, s...|      en|   112.333|1004558444|    152|     The Dark Knight|    155|         8.5|     30780|\n| 18000000|[William Shatner,...|       Leonard Nimoy|[Science Fiction,...|  [genesis, starshi...|      en|     9.667|  87000000|    105|Star Trek III: Th...|    157|       6.603|      1233|\n| 85000000|[George Clooney, ...|   Steven Soderbergh|   [Thriller, Crime]|  [prison, casino, ...|      en|    43.881| 450717150|    116|      Ocean's Eleven|    161|       7.429|     10828|\n| 20000000|[Johnny Depp, Win...|          Tim Burton|[Fantasy, Drama, ...|  [underdog, love a...|      en|    61.543|  53000000|    105| Edward Scissorhands|    162|       7.718|     12105|\n|110000000|[George Clooney, ...|   Steven Soderbergh|   [Thriller, Crime]|  [rome, italy, seq...|      en|    27.711| 362744280|    125|      Ocean's Twelve|    163|       6.565|      6753|\n|  2500000|[Audrey Hepburn, ...|       Blake Edwards|[Comedy, Romance,...|  [new york city, c...|      en|    22.484|   9500000|    115|Breakfast at Tiff...|    164|       7.677|      3898|\n| 40000000|[Michael J. Fox, ...|     Robert Zemeckis|[Adventure, Comed...|  [skateboarding, f...|      en|    42.762| 332000000|    108|Back to the Futur...|    165|       7.752|     11877|\n| 48000000|[Jeff Bridges, Ke...|        Iain Softley|[Science Fiction,...|  [robbery, dream, ...|      en|    16.887|  50315140|    120|               K-PAX|    167|        7.19|      2180|\n| 24000000|[William Shatner,...|       Leonard Nimoy|[Science Fiction,...|  [saving the world...|      en|    19.473| 133000000|    119|Star Trek IV: The...|    168|         7.2|      1339|\n| 35000000|[Danny Glover, Ga...|     Stephen Hopkins|[Science Fiction,...|  [predator, war on...|      en|    49.115|  57120318|    108|          Predator 2|    169|       6.263|      2921|\n|  5000000|[Cillian Murphy, ...|         Danny Boyle|[Horror, Thriller...|  [london, england,...|      en|    38.632|  85720385|    113|       28 Days Later|    170|       7.203|      6140|\n| 30000000|[William Shatner,...|     William Shatner|[Science Fiction,...|  [uss enterprise-a...|      en|    16.822|  70200000|    106|Star Trek V: The ...|    172|         5.7|      1073|\n|  5000000|[Kirk Douglas, Ja...|   Richard Fleischer|[Adventure, Drama...|  [diving, ocean, s...|      en|    19.922|  28200000|    127|20,000 Leagues Un...|    173|       7.056|       778|\n| 27000000|[William Shatner,...|      Nicholas Meyer|[Science Fiction,...|  [farewell, peace ...|      en|    16.489|  96900000|    109|Star Trek VI: The...|    174|         7.0|      1150|\n| 14390509|[Jean-Marc Barr, ...|          Luc Besson|[Drama, Romance, ...|  [italy, suicide, ...|      fr|    21.961|         0|    168|        The Big Blue|    175|       7.465|      1321|\n|  1200000|[Cary Elwes, Leig...|           James Wan|[Horror, Mystery,...|  [detective, shotg...|      en|   234.881| 103911669|    103|                 Saw|    176|       7.405|      8459|\n| 24000000|[Jeff Bridges, Ro...|       Terry Gilliam|     [Comedy, Drama]|  [holy grail, loss...|      en|    14.193|  41895491|    138|     The Fisher King|    177|       7.274|      1211|\n| 28000000|[Jeff Bridges, To...|     Stephen Hopkins|            [Action]|  [boston, massachu...|      en|    17.446|  30156002|    121|          Blown Away|    178|       6.185|       482|\n|102000000|[Tom Cruise, Coli...|    Steven Spielberg|[Action, Thriller...|  [self-fulfilling ...|      en|    33.807| 358372926|    145|     Minority Report|    180|       7.341|      8061|\n| 12000000|[Pam Grier, Samue...|   Quentin Tarantino|[Crime, Drama, Th...|  [based on novel o...|      en|    21.551|  39673162|    154|        Jackie Brown|    184|       7.354|      5848|\n|  2200000|[Malcolm McDowell...|     Stanley Kubrick|[Science Fiction,...|  [london, england,...|      en|    42.761|  26589000|    137|  A Clockwork Orange|    185|       8.211|     12008|\n| 27000000|[Josh Hartnett, M...|       Paul McGuigan|[Drama, Thriller,...|  [assassination, a...|      en|    21.222|  56308881|    110| Lucky Number Slevin|    186|       7.478|      3754|\n| 40000000|[Bruce Willis, Je...|    Robert Rodriguez|[Thriller, Action...|  [dystopia, based ...|      en|    26.715| 158733820|    124|            Sin City|    187|       7.448|      7572|\n| 18000000|[Sean Connery, F....| Jean-Jacques Annaud|[Drama, Thriller,...|  [christianity, li...|      en|    28.107|  77200000|    130|The Name of the Rose|    192|       7.471|      2721|\n| 38000000|[Patrick Stewart,...|        David Carson|[Science Fiction,...|  [loss of loved on...|      en|    17.093| 120000000|    117|Star Trek: Genera...|    193|       6.514|      1204|\n| 10000000|[Audrey Tautou, M...|  Jean-Pierre Jeunet|   [Comedy, Romance]|  [paris, france, l...|      fr|    33.541| 173921954|    122|              Amélie|    194|       7.906|     10803|\n| 40000000|[Michael J. Fox, ...|     Robert Zemeckis|[Adventure, Comed...|  [california, indi...|      en|    45.535| 244527583|    119|Back to the Futur...|    196|       7.465|      9730|\n| 72000000|[Mel Gibson, Cath...|          Mel Gibson|[Action, Drama, H...|[勇敢的心, braveheart]|      en|    45.122| 213216216|    177|          Braveheart|    197|       7.933|      9392|\n| 46000000|[Patrick Stewart,...|     Jonathan Frakes|[Science Fiction,...|  [borg, enterprise...|      en|    19.516| 150000000|    111|Star Trek: First ...|    199|         7.3|      1600|\n| 70000000|[Patrick Stewart,...|     Jonathan Frakes|[Science Fiction,...|  [fountain of yout...|      en|    18.077| 118000000|    102|Star Trek: Insurr...|    200|         6.4|      1091|\n| 60000000|[Patrick Stewart,...|        Stuart Baird|[Science Fiction,...|  [clone, assassina...|      en|    24.036|  67312826|    116|  Star Trek: Nemesis|    201|         6.3|      1293|\n| 17500000|[Don Cheadle, Sop...|        Terry George|[Drama, History, ...|  [rwanda, refugee,...|      en|    19.985|  38000000|    121|        Hotel Rwanda|    205|         7.7|      2639|\n| 16400000|[Robin Williams, ...|          Peter Weir|             [Drama]|  [individual, phil...|      en|    44.008| 235860116|    128|  Dead Poets Society|    207|       8.313|     10368|\n|  1120175|[Cary Grant, Pris...|         Frank Capra|     [Comedy, Crime]|  [poison, cemetery...|      en|    11.976|         0|    118|Arsenic and Old Lace|    212|        7.64|       837|\n|  4000000|[Cary Grant, Eva ...|    Alfred Hitchcock| [Mystery, Thriller]|  [new york city, a...|      en|    20.812|  13275000|    136|  North by Northwest|    213|       7.986|      3763|\n| 10000000|[Tobin Bell, Shaw...| Darren Lynn Bousman|[Horror, Thriller...|  [brain tumor, suf...|      en|   136.573| 164874275|    120|             Saw III|    214|         6.4|      4086|\n|  4000000|[Tobin Bell, Donn...| Darren Lynn Bousman|            [Horror]|  [riddle, sadism, ...|      en|    163.92| 147748505|     93|              Saw II|    215|         6.6|      4872|\n|185000000|[Harrison Ford, C...|    Steven Spielberg| [Adventure, Action]|  [saving the world...|      en|    49.286| 786636033|    122|Indiana Jones and...|    217|       5.998|      7662|\n|  6400000|[Linda Hamilton, ...|       James Cameron|[Action, Thriller...|  [saving the world...|      en|    62.926|  78371200|    108|      The Terminator|    218|       7.647|     11945|\n|  1500000|[James Dean, Nata...|        Nicholas Ray|             [Drama]|  [individual, rebe...|      en|    20.687|   4500000|    111|Rebel Without a C...|    221|       7.532|      1479|\n|  1288000|[Laurence Olivier...|    Alfred Hitchcock|[Mystery, Romance...|  [monte carlo, bas...|      en|     22.25|   7592465|    130|             Rebecca|    223|        7.91|      1593|\n|  2000000|[Hilary Swank, Ch...|     Kimberly Peirce|      [Crime, Drama]|  [rape, identity, ...|      en|     12.86|  11540607|    118|      Boys Don't Cry|    226|       7.445|      1204|\n| 10000000|[C. Thomas Howell...|Francis Ford Coppola|      [Crime, Drama]|  [street gang, bas...|      en|    31.329|  33697647|     91|       The Outsiders|    227|       7.227|      1194|\n| 50000000|[George Clooney, ...|      Stephen Gaghan|   [Drama, Thriller]|  [middle east, cia...|      en|     13.77|  93974620|    128|             Syriana|    231|       6.411|      1237|\n|  8000000|[Wil Wheaton, Riv...|          Rob Reiner|      [Crime, Drama]|  [based on novel o...|      en|     26.72|  52287414|     89|         Stand by Me|    235|       7.854|      5353|\n|  3000000|[Toni Collette, B...|          P.J. Hogan|[Comedy, Drama, R...|  [individual, beco...|      en|    13.453|  15119639|    106|    Muriel's Wedding|    236|       6.856|       396|\n|  6000000|[Marlon Brando, A...|Francis Ford Coppola|      [Drama, Crime]|  [italy, loss of l...|      en|   116.429| 245066411|    175|       The Godfather|    238|       8.709|     18809|\n|  2883848|[Tony Curtis, Jac...|        Billy Wilder|[Comedy, Romance,...|  [chicago, illinoi...|      en|    32.866|  25000000|    122|    Some Like It Hot|    239|       8.108|      3171|\n| 13000000|[Al Pacino, Rober...|Francis Ford Coppola|      [Drama, Crime]|  [italy, italian a...|      en|      68.6| 102600000|    202|The Godfather Par...|    240|       8.591|     11368|\n| 34000000|[Woody Harrelson,...|        Oliver Stone|[Crime, Thriller,...|  [sadistic, journa...|      en|    27.462|  50283563|    118|Natural Born Killers|    241|       7.069|      3116|\n| 54000000|[Al Pacino, Diane...|Francis Ford Coppola|[Crime, Drama, Th...|  [italy, christian...|      en|    65.217| 136766062|    162|The Godfather Par...|    242|       7.423|      5659|\n| 30000000|[John Cusack, Ibe...|      Stephen Frears|[Drama, Comedy, R...|  [chicago, illinoi...|      en|    13.165|  47126295|    113|       High Fidelity|    243|       7.133|      1791|\n|   672000|[Robert Armstrong...|    Merian C. Cooper|[Adventure, Fanta...|  [new york city, s...|      en|    26.757|  10000000|    104|           King Kong|    244|         7.6|      1335|\n| 27000000|[Hugh Grant, Nich...|         Chris Weitz|[Drama, Comedy, R...|  [london, england,...|      en|    16.067| 129000000|    101|         About a Boy|    245|       6.654|      2060|\n|  2500000|[Takeshi Kitano, ...|      Takeshi Kitano|[Adventure, Drama...|  [japan, martial a...|      ja|    13.304|  34196922|    111|            Zatoichi|    246|       7.241|       780|\n| 22000000|[Patrick Swayze, ...|        Jerry Zucker|[Fantasy, Drama, ...|  [corruption, fort...|      en|    43.026| 505000000|    127|               Ghost|    251|       7.206|      5121|\n|  3000000|[Gene Wilder, Pet...|          Mel Stuart|[Family, Fantasy,...|  [chocolate, facto...|      en|    48.062|   4000000|     99|Willy Wonka & the...|    252|       7.484|      3106|\n|  7000000|[Roger Moore, Yap...|        Guy Hamilton|[Adventure, Actio...|  [london, england,...|      en|    26.183| 126377836|    121|    Live and Let Die|    253|       6.486|      1839|\n|207000000|[Naomi Watts, Jac...|       Peter Jackson|[Adventure, Drama...|  [new york city, s...|      en|    36.995| 562363449|    187|           King Kong|    254|       6.871|      7334|\n|        0|[Robert Donat, Ma...|    Alfred Hitchcock| [Mystery, Thriller]|  [london, england,...|      en|     12.99|         0|     86|        The 39 Steps|    260|         7.4|       848|\n|  3000000|[Elizabeth Taylor...|      Richard Brooks|             [Drama]|  [individual, suic...|      en|    10.554|  17570324|    108|Cat on a Hot Tin ...|    261|        7.65|       683|\n| 35000000|[Michael Keaton, ...|          Tim Burton|[Fantasy, Action,...|  [double life, dua...|      en|     50.08| 411348924|    126|              Batman|    268|       7.216|      7194|\n|150000000|[Christian Bale, ...|   Christopher Nolan|[Action, Crime, D...|  [loss of loved on...|      en|    59.877| 374218673|    140|       Batman Begins|    272|       7.701|     19651|\n| 19000000|[Jodie Foster, An...|      Jonathan Demme|[Crime, Drama, Th...|  [based on novel o...|      en|    16.137| 272742922|    119|The Silence of th...|    274|       8.343|     15110|\n|  7000000|[William H. Macy,...|           Joel Coen|[Crime, Drama, Th...|  [cheating, ransom...|      en|    29.164|  60611975|     98|               Fargo|    275|       7.868|      7321|\n| 22000000|[Kate Beckinsale,...|         Len Wiseman|[Fantasy, Action,...|  [budapest, hungar...|      en|    40.664|  95708457|    122|          Underworld|    277|       6.808|      5714|\n| 25000000|[Tim Robbins, Mor...|      Frank Darabont|      [Drama, Crime]|  [prison, corrupti...|      en|   105.427|  28341469|    142|The Shawshank Red...|    278|       8.703|     24787|\n| 18000000|[F. Murray Abraha...|        Miloš Forman|[History, Music, ...|  [italy, austria, ...|      en|     28.72|  51973029|    161|             Amadeus|    279|       8.035|      3858|\n|102000000|[Arnold Schwarzen...|       James Cameron|[Action, Thriller...|  [cyborg, shotgun,...|      en|    81.691| 520000000|    137|Terminator 2: Jud...|    280|       8.105|     11811|\n| 42000000|[Ralph Fiennes, A...|     Kathryn Bigelow|[Crime, Drama, Sc...|  [pornography, pro...|      en|    12.744|   7959291|    145|        Strange Days|    281|       6.991|      1194|\n|  3000000|[Jack Lemmon, Shi...|        Billy Wilder|[Comedy, Drama, R...|  [new york city, n...|      en|     21.08|  25000000|    125|       The Apartment|    284|       8.224|      2034|\n|300000000|[Johnny Depp, Orl...|      Gore Verbinski|[Adventure, Fanta...|  [exotic island, e...|      en|     83.26| 961000000|    169|Pirates of the Ca...|    285|       7.242|     13404|\n|  7000000|[Kevin Costner, S...|         Ron Shelton|   [Comedy, Romance]|  [love triangle, p...|      en|    17.758|  50888000|    108|         Bull Durham|    287|         6.7|       513|\n|   730000|[Gary Cooper, Gra...|      Fred Zinnemann|    [Western, Drama]|  [gunslinger, show...|      en|    19.031|   8000000|     85|           High Noon|    288|       7.695|      1286|\n|   878000|[Humphrey Bogart,...|      Michael Curtiz|    [Drama, Romance]|  [love triangle, c...|      en|     28.76|  10462500|    102|          Casablanca|    289|       8.169|      4960|\n|  9000000|[John Turturro, J...|           Joel Coen|     [Comedy, Drama]|  [hotel, screenpla...|      en|    16.935|   6153939|    117|         Barton Fink|    290|       7.456|      1526|\n| 12000000|[Craig Sheffer, B...|      Robert Redford|     [Drama, Family]|  [individual, sibl...|      en|    17.916|  43440294|    123|A River Runs Thro...|    293|       7.032|       942|\n|200000000|[Arnold Schwarzen...|     Jonathan Mostow|[Action, Thriller...|  [saving the world...|      en|    52.686| 435000000|    109|Terminator 3: Ris...|    296|       6.145|      6130|\n| 90000000|[Brad Pitt, Antho...|        Martin Brest|[Fantasy, Drama, ...|  [life and death, ...|      en|    48.199| 142940100|    178|      Meet Joe Black|    297|       7.303|      4631|\n| 85000000|[George Clooney, ...|   Steven Soderbergh|   [Crime, Thriller]|  [casino, thief, r...|      en|     26.41| 311312624|    122|    Ocean's Thirteen|    298|        6.72|      5888|\n|        0|[Frank Sinatra, D...|     Lewis Milestone|[Crime, Comedy, M...|  [gambling, perfec...|      en|    14.521|   2800000|    127|      Ocean's Eleven|    299|       6.385|       305|\n|  6000000|[Gael García Bern...|       Michel Gondry|[Comedy, Drama, F...|  [paris, france, d...|      fr|    11.616|   9524340|    105|The Science of Sleep|    300|       7.032|       697|\n|  2000000|[Ingrid Bergman, ...|    Alfred Hitchcock|[Thriller, Romanc...|  [poison, spy, lov...|      en|    17.813|  24500000|    103|           Notorious|    303|        7.76|      1429|\n| 50000000|[Eddie Murphy, Ju...|         John Landis|[Action, Comedy, ...|  [detective, under...|      en|    28.869| 119208989|    105|Beverly Hills Cop...|    306|       5.869|      1600|\n| 10000000|[Bill Murray, Jul...|        Jim Jarmusch|[Comedy, Drama, M...|  [bachelor, ex-boy...|      en|     8.409|  46720491|    106|      Broken Flowers|    308|       6.899|      1204|\n|  1300000|[Ulrich Thomsen, ...|   Thomas Vinterberg|             [Drama]|  [suicide, child a...|      da|      9.51|         0|    105|     The Celebration|    309|       7.713|       941|\n| 80000000|[Jim Carrey, Morg...|         Tom Shadyac|   [Fantasy, Comedy]|  [christianity, mo...|      en|    54.139| 484592874|    101|      Bruce Almighty|    310|       6.709|     10052|\n| 30000000|[Robert De Niro, ...|        Sergio Leone|      [Drama, Crime]|  [new york city, l...|      en|    37.655|   5500000|    229|Once Upon a Time ...|    311|       8.427|      4902|\n| 12500000|[Christian Slater...|          Tony Scott|[Action, Crime, R...|  [hotel, detective...|      en|    28.542|  12600000|    120|        True Romance|    319|        7.54|      2473|\n| 46000000|[Al Pacino, Robin...|   Christopher Nolan|   [Thriller, Crime]|  [hotel, detective...|      en|    22.294| 113714830|    118|            Insomnia|    320|       6.934|      4333|\n| 25000000|[Sean Penn, Tim R...|      Clint Eastwood|[Thriller, Crime,...|  [child abuse, los...|      en|    22.589| 156822020|    138|        Mystic River|    322|       7.748|      6074|\n| 33000000|[Samuel L. Jackso...|      David R. Ellis|[Action, Crime, T...|  [snake, fbi, airp...|      en|    23.292|  62022014|    105|   Snakes on a Plane|    326|       5.419|      1620|\n| 63000000|[Sam Neill, Laura...|    Steven Spielberg|[Adventure, Scien...|  [exotic island, d...|      en|    26.991| 920100000|    127|       Jurassic Park|    329|       7.941|     15215|\n| 73000000|[Jeff Goldblum, J...|    Steven Spielberg|[Adventure, Actio...|  [exotic island, d...|      en|     2.505| 618638999|    129|The Lost World: J...|    330|       6.527|      7783|\n| 93000000|[Sam Neill, Willi...|        Joe Johnston|[Adventure, Actio...|  [exotic island, d...|      en|     2.366| 368780809|     92|   Jurassic Park III|    331|       6.127|      6622|\n| 75000000|[Matthew Broderic...|       David Kellogg|[Action, Adventur...|  [gadget, villain,...|      en|    17.041| 134400000|     78|    Inspector Gadget|    332|       4.457|      1109|\n| 37000000|[Philip Baker Hal...|Paul Thomas Anderson|             [Drama]|  [farewell, loss o...|      en|    19.784|  48451803|    189|            Magnolia|    334|       7.729|      3252|\n|  5000000|[Claudia Cardinal...|        Sergio Leone|    [Drama, Western]|  [loss of loved on...|      it|    34.272|   5380118|    166|Once Upon a Time ...|    335|       8.289|      3946|\n|  4800000|[Daniel Brühl, Ka...|     Wolfgang Becker|     [Comedy, Drama]|  [bureaucracy, ber...|      de|    14.887|  79384880|    121|    Good Bye, Lenin!|    338|       7.561|      2211|\n|  1200000|[Ruth Gordon, Bud...|           Hal Ashby|[Comedy, Drama, R...|  [suicide, life an...|      en|    15.212|         0|     91|    Harold and Maude|    343|       7.607|       972|\n| 65000000|[Tom Cruise, Nico...|     Stanley Kubrick|[Drama, Thriller,...|  [new york city, s...|      en|    43.513| 162100000|    159|      Eyes Wide Shut|    345|       7.472|      5597|\n|  2000000|[Toshirō Mifune, ...|      Akira Kurosawa|     [Action, Drama]|  [japan, martial a...|      ja|      35.5|    346300|    207|       Seven Samurai|    346|        8.45|      3261|\n| 11000000|[Sigourney Weaver...|        Ridley Scott|[Horror, Science ...|  [android, spacecr...|      en|    74.591| 104931801|    117|               Alien|    348|       8.149|     13297|\n| 35000000|[Anne Hathaway, M...|       David Frankel|[Comedy, Drama, R...|  [paris, france, n...|      en|    51.364| 326706115|    109|The Devil Wears P...|    350|       7.386|     11131|\n| 80000000|[Michael Keaton, ...|          Tim Burton|   [Action, Fantasy]|  [corruption, doub...|      en|    35.818| 280000000|    126|      Batman Returns|    364|       6.916|      6015|\n|  1100000|[Heather Langenka...|          Wes Craven|            [Horror]|  [child murder, dr...|      en|    93.834|  57000000|     91|A Nightmare on El...|    377|       7.326|      4652|\n|  6000000|[Nicolas Cage, Ho...|           Joel Coen|     [Comedy, Crime]|  [robbery, baby, s...|      en|    19.899|  29180280|     94|     Raising Arizona|    378|       7.044|      1872|\n| 14000000|[Gabriel Byrne, A...|           Joel Coen|[Drama, Thriller,...|  [corruption, stre...|      en|    13.405|   5080409|    115|   Miller's Crossing|    379|         7.5|      1490|\n| 25000000|[Dustin Hoffman, ...|      Barry Levinson|             [Drama]|  [individual, loss...|      en|    31.301| 354825435|    134|            Rain Man|    380|       7.757|      5847|\n|  2500000|[Cary Grant, Grac...|    Alfred Hitchcock|[Mystery, Thrille...|  [hotel, falsely a...|      en|    21.631|   8750000|    106|    To Catch a Thief|    381|         7.3|      1364|\n| 14000000|[Jürgen Prochnow,...|   Wolfgang Petersen|[Drama, History, ...|  [submarine, based...|      de|    23.598|  85000000|    150|            Das Boot|    387|        8.08|      2000|\n| 45000000|[Denzel Washingto...|           Spike Lee|[Crime, Drama, Th...|  [new york city, b...|      en|    28.002| 186003591|    129|          Inside Man|    388|       7.399|      5322|\n|   350000|[Martin Balsam, J...|        Sidney Lumet|             [Drama]|  [judge, jurors, s...|      en|    44.858|   1000000|     97|        12 Angry Men|    389|       8.541|      7726|\n|   200000|[Clint Eastwood, ...|        Sergio Leone|           [Western]|  [gunslinger, base...|      it|     32.51|  14500000|     99|A Fistful of Dollars|    391|       7.847|      3794|\n| 25000000|[Juliette Binoche...|     Lasse Hallström|[Comedy, Drama, R...|  [france, chocolat...|      en|    17.115| 152500343|    121|            Chocolat|    392|       6.962|      3075|\n| 30000000|[Uma Thurman, Dav...|   Quentin Tarantino|[Action, Crime, T...|  [sibling relation...|      en|    33.571| 152159461|    136|   Kill Bill: Vol. 2|    393|       7.876|     12968|\n+---------+--------------------+--------------------+--------------------+----------------------+--------+----------+----------+-------+--------------------+-------+------------+----------+\nonly showing top 200 rows\n\n"
     ]
    }
   ],
   "source": [
    "clean_movies.drop('status', 'release_date', 'overview', 'tmdb_homepage').show(200)"
   ]
  },
  {
   "cell_type": "markdown",
   "metadata": {
    "application/vnd.databricks.v1+cell": {
     "cellMetadata": {},
     "inputWidgets": {},
     "nuid": "e44a1d10-4161-4f16-ae4f-de86c824c697",
     "showTitle": false,
     "title": ""
    }
   },
   "source": [
    "#### Save the Cleaned Movies Dataset"
   ]
  },
  {
   "cell_type": "code",
   "execution_count": 0,
   "metadata": {
    "application/vnd.databricks.v1+cell": {
     "cellMetadata": {
      "byteLimit": 2048000,
      "rowLimit": 10000
     },
     "inputWidgets": {},
     "nuid": "5a20ef1d-692e-47b1-9953-8e30364fec29",
     "showTitle": false,
     "title": ""
    }
   },
   "outputs": [],
   "source": [
    "clean_movies.coalesce(1).write.parquet(os.path.join(CLEAN_PATH, \"movies\"), mode=\"overwrite\")"
   ]
  },
  {
   "cell_type": "markdown",
   "metadata": {
    "application/vnd.databricks.v1+cell": {
     "cellMetadata": {},
     "inputWidgets": {},
     "nuid": "c7b248f8-f933-4e40-be16-aa3931b5c0e3",
     "showTitle": false,
     "title": ""
    }
   },
   "source": [
    "# START SANDBOX CODE"
   ]
  },
  {
   "cell_type": "code",
   "execution_count": 0,
   "metadata": {
    "application/vnd.databricks.v1+cell": {
     "cellMetadata": {},
     "inputWidgets": {},
     "nuid": "741aeb04-a8e2-45aa-b44a-565ac79aa54c",
     "showTitle": false,
     "title": ""
    }
   },
   "outputs": [],
   "source": []
  }
 ],
 "metadata": {
  "application/vnd.databricks.v1+notebook": {
   "dashboards": [],
   "language": "python",
   "notebookMetadata": {
    "pythonIndentUnit": 4
   },
   "notebookName": "import-raw-data",
   "widgets": {}
  },
  "kernelspec": {
   "display_name": "Python 3 (ipykernel)",
   "language": "python",
   "name": "python3"
  },
  "language_info": {
   "codemirror_mode": {
    "name": "ipython",
    "version": 3
   },
   "file_extension": ".py",
   "mimetype": "text/x-python",
   "name": "python",
   "nbconvert_exporter": "python",
   "pygments_lexer": "ipython3",
   "version": "3.9.16"
  }
 },
 "nbformat": 4,
 "nbformat_minor": 0
}
