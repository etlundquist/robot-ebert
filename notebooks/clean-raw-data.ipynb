{
 "cells": [
  {
   "cell_type": "markdown",
   "metadata": {
    "application/vnd.databricks.v1+cell": {
     "cellMetadata": {},
     "inputWidgets": {},
     "nuid": "7aac89c0-51f4-44b3-a121-3be08e28b4b6",
     "showTitle": false,
     "title": ""
    }
   },
   "source": [
    "### Set Up Notebook"
   ]
  },
  {
   "cell_type": "markdown",
   "metadata": {
    "application/vnd.databricks.v1+cell": {
     "cellMetadata": {},
     "inputWidgets": {},
     "nuid": "d89d1a2f-ce6b-4b4e-8779-eb60c1c7676d",
     "showTitle": false,
     "title": ""
    }
   },
   "source": [
    "#### Import Required Modules"
   ]
  },
  {
   "cell_type": "code",
   "execution_count": 0,
   "metadata": {
    "application/vnd.databricks.v1+cell": {
     "cellMetadata": {
      "byteLimit": 2048000,
      "rowLimit": 10000
     },
     "inputWidgets": {},
     "nuid": "7ad92141-2202-40f0-8029-bebb8b63e18b",
     "showTitle": false,
     "title": ""
    }
   },
   "outputs": [],
   "source": [
    "import os\n",
    "import json\n",
    "\n",
    "from pyspark.sql import SparkSession\n",
    "from pyspark.sql import functions as f\n",
    "from pyspark.sql.window import Window"
   ]
  },
  {
   "cell_type": "markdown",
   "metadata": {
    "application/vnd.databricks.v1+cell": {
     "cellMetadata": {},
     "inputWidgets": {},
     "nuid": "8de77a0b-a968-4306-a01f-cbf21973a372",
     "showTitle": false,
     "title": ""
    }
   },
   "source": [
    "#### Get or Create SparkSession"
   ]
  },
  {
   "cell_type": "code",
   "execution_count": 0,
   "metadata": {
    "application/vnd.databricks.v1+cell": {
     "cellMetadata": {
      "byteLimit": 2048000,
      "rowLimit": 10000
     },
     "inputWidgets": {},
     "nuid": "fcc0d9be-c3dd-4fbb-ba4f-5a413ce03d97",
     "showTitle": false,
     "title": ""
    }
   },
   "outputs": [
    {
     "output_type": "display_data",
     "data": {
      "text/html": [
       "\n",
       "            <div>\n",
       "                <p><b>SparkSession - hive</b></p>\n",
       "                \n",
       "        <div>\n",
       "            <p><b>SparkContext</b></p>\n",
       "\n",
       "            <p><a href=\"/?o=8355974179873438#setting/sparkui/1017-161542-o0dq748r/driver-8863286062915118277\">Spark UI</a></p>\n",
       "\n",
       "            <dl>\n",
       "              <dt>Version</dt>\n",
       "                <dd><code>v3.3.2</code></dd>\n",
       "              <dt>Master</dt>\n",
       "                <dd><code>spark://driver-proxy:7077</code></dd>\n",
       "              <dt>AppName</dt>\n",
       "                <dd><code>Databricks Shell</code></dd>\n",
       "            </dl>\n",
       "        </div>\n",
       "        \n",
       "            </div>\n",
       "        "
      ]
     },
     "metadata": {
      "application/vnd.databricks.v1+output": {
       "addedWidgets": {},
       "arguments": {},
       "data": "\n            <div>\n                <p><b>SparkSession - hive</b></p>\n                \n        <div>\n            <p><b>SparkContext</b></p>\n\n            <p><a href=\"/?o=8355974179873438#setting/sparkui/1017-161542-o0dq748r/driver-8863286062915118277\">Spark UI</a></p>\n\n            <dl>\n              <dt>Version</dt>\n                <dd><code>v3.3.2</code></dd>\n              <dt>Master</dt>\n                <dd><code>spark://driver-proxy:7077</code></dd>\n              <dt>AppName</dt>\n                <dd><code>Databricks Shell</code></dd>\n            </dl>\n        </div>\n        \n            </div>\n        ",
       "datasetInfos": [],
       "metadata": {},
       "removedWidgets": [],
       "textData": null,
       "type": "htmlSandbox"
      }
     },
     "output_type": "display_data"
    }
   ],
   "source": [
    "spark = SparkSession.builder.getOrCreate()\n",
    "spark.sparkContext.setLogLevel(\"error\")\n",
    "spark"
   ]
  },
  {
   "cell_type": "markdown",
   "metadata": {
    "application/vnd.databricks.v1+cell": {
     "cellMetadata": {},
     "inputWidgets": {},
     "nuid": "14ce4bd9-572b-4820-b110-d1a17cd1452c",
     "showTitle": false,
     "title": ""
    }
   },
   "source": [
    "#### Set Workflow Constants"
   ]
  },
  {
   "cell_type": "code",
   "execution_count": 0,
   "metadata": {
    "application/vnd.databricks.v1+cell": {
     "cellMetadata": {
      "byteLimit": 2048000,
      "rowLimit": 10000
     },
     "inputWidgets": {},
     "nuid": "a4f2e60a-de85-431b-9204-138a78f3780d",
     "showTitle": false,
     "title": ""
    }
   },
   "outputs": [],
   "source": [
    "RAW_PATH = \"dbfs:/FileStore/data/raw\"\n",
    "CLN_PATH = \"dbfs:/FileStore/data/clean\""
   ]
  },
  {
   "cell_type": "code",
   "execution_count": 0,
   "metadata": {
    "application/vnd.databricks.v1+cell": {
     "cellMetadata": {
      "byteLimit": 2048000,
      "rowLimit": 10000
     },
     "inputWidgets": {},
     "nuid": "fb385ff7-2139-449d-a9a2-c5f6a6f4b5f7",
     "showTitle": false,
     "title": ""
    }
   },
   "outputs": [],
   "source": [
    "MIN_RELEASE_DATE = '1970-01-01'\n",
    "MIN_POPULARITY = 5.0"
   ]
  },
  {
   "cell_type": "markdown",
   "metadata": {
    "application/vnd.databricks.v1+cell": {
     "cellMetadata": {},
     "inputWidgets": {},
     "nuid": "4c0c228b-1b10-427e-a7db-b1a6cd55f8ca",
     "showTitle": false,
     "title": ""
    }
   },
   "source": [
    "### Import and Clean Raw Data"
   ]
  },
  {
   "cell_type": "markdown",
   "metadata": {
    "application/vnd.databricks.v1+cell": {
     "cellMetadata": {},
     "inputWidgets": {},
     "nuid": "5c968040-f53a-4e5c-9f09-9817298a2866",
     "showTitle": false,
     "title": ""
    }
   },
   "source": [
    "#### Movie Metadata"
   ]
  },
  {
   "cell_type": "code",
   "execution_count": 0,
   "metadata": {
    "application/vnd.databricks.v1+cell": {
     "cellMetadata": {
      "byteLimit": 2048000,
      "rowLimit": 10000
     },
     "inputWidgets": {},
     "nuid": "a5a79c63-d385-4040-8347-d1660881311f",
     "showTitle": false,
     "title": ""
    }
   },
   "outputs": [
    {
     "output_type": "stream",
     "name": "stdout",
     "output_type": "stream",
     "text": [
      "-RECORD 0--------------------------------------------------------------------------------------------------------------------------------------------------------------------------------------------------------------------------------------------------------------------------------------------------------------------------------\n adult                 | False                                                                                                                                                                                                                                                                                                           \n belongs_to_collection | {'id': 10194, 'name': 'Toy Story Collection', 'poster_path': '/7G9915LfUQ2lVfwMEEhDsn3kT4B.jpg', 'backdrop_path': '/9FBwqcd9IRruEDUrTdcaafOMKUq.jpg'}                                                                                                                                                           \n budget                | 30000000                                                                                                                                                                                                                                                                                                        \n genres                | [{'id': 16, 'name': 'Animation'}, {'id': 35, 'name': 'Comedy'}, {'id': 10751, 'name': 'Family'}]                                                                                                                                                                                                                \n homepage              | http://toystory.disney.com/toy-story                                                                                                                                                                                                                                                                            \n id                    | 862                                                                                                                                                                                                                                                                                                             \n imdb_id               | tt0114709                                                                                                                                                                                                                                                                                                       \n original_language     | en                                                                                                                                                                                                                                                                                                              \n original_title        | Toy Story                                                                                                                                                                                                                                                                                                       \n overview              | Led by Woody, Andy's toys live happily in his room until Andy's birthday brings Buzz Lightyear onto the scene. Afraid of losing his place in Andy's heart, Woody plots against Buzz. But when circumstances separate Buzz and Woody from their owner, the duo eventually learns to put aside their differences. \n popularity            | 21.946943                                                                                                                                                                                                                                                                                                       \n poster_path           | /rhIRbceoE9lR4veEXuwCC2wARtG.jpg                                                                                                                                                                                                                                                                                \n production_companies  | [{'name': 'Pixar Animation Studios', 'id': 3}]                                                                                                                                                                                                                                                                  \n production_countries  | [{'iso_3166_1': 'US', 'name': 'United States of America'}]                                                                                                                                                                                                                                                      \n release_date          | 1995-10-30                                                                                                                                                                                                                                                                                                      \n revenue               | 373554033                                                                                                                                                                                                                                                                                                       \n runtime               | 81.0                                                                                                                                                                                                                                                                                                            \n spoken_languages      | [{'iso_639_1': 'en', 'name': 'English'}]                                                                                                                                                                                                                                                                        \n status                | Released                                                                                                                                                                                                                                                                                                        \n tagline               | null                                                                                                                                                                                                                                                                                                            \n title                 | Toy Story                                                                                                                                                                                                                                                                                                       \n video                 | False                                                                                                                                                                                                                                                                                                           \n vote_average          | 7.7                                                                                                                                                                                                                                                                                                             \n vote_count            | 5415                                                                                                                                                                                                                                                                                                            \nonly showing top 1 row\n\nroot\n |-- adult: string (nullable = true)\n |-- belongs_to_collection: string (nullable = true)\n |-- budget: string (nullable = true)\n |-- genres: string (nullable = true)\n |-- homepage: string (nullable = true)\n |-- id: string (nullable = true)\n |-- imdb_id: string (nullable = true)\n |-- original_language: string (nullable = true)\n |-- original_title: string (nullable = true)\n |-- overview: string (nullable = true)\n |-- popularity: string (nullable = true)\n |-- poster_path: string (nullable = true)\n |-- production_companies: string (nullable = true)\n |-- production_countries: string (nullable = true)\n |-- release_date: string (nullable = true)\n |-- revenue: string (nullable = true)\n |-- runtime: string (nullable = true)\n |-- spoken_languages: string (nullable = true)\n |-- status: string (nullable = true)\n |-- tagline: string (nullable = true)\n |-- title: string (nullable = true)\n |-- video: string (nullable = true)\n |-- vote_average: string (nullable = true)\n |-- vote_count: string (nullable = true)\n\n"
     ]
    }
   ],
   "source": [
    "metadata_raw = spark.read.csv(os.path.join(RAW_PATH, \"movies_metadata.csv\"), header=True)\n",
    "metadata_raw.show(1, truncate=False, vertical=True)\n",
    "metadata_raw.printSchema()"
   ]
  },
  {
   "cell_type": "code",
   "execution_count": 0,
   "metadata": {
    "application/vnd.databricks.v1+cell": {
     "cellMetadata": {
      "byteLimit": 2048000,
      "rowLimit": 10000
     },
     "inputWidgets": {},
     "nuid": "1784aaeb-1971-4f15-9ac9-50bdac19ed1a",
     "showTitle": false,
     "title": ""
    }
   },
   "outputs": [
    {
     "output_type": "stream",
     "name": "stdout",
     "output_type": "stream",
     "text": [
      "root\n |-- tmdb_id: string (nullable = true)\n |-- title: string (nullable = true)\n |-- release_date: date (nullable = true)\n |-- runtime: double (nullable = true)\n |-- genres: array (nullable = true)\n |    |-- element: string (containsNull = true)\n |-- overview: string (nullable = true)\n |-- budget: integer (nullable = true)\n |-- revenue: integer (nullable = true)\n |-- popularity: double (nullable = true)\n |-- vote_average: double (nullable = true)\n |-- vote_count: integer (nullable = true)\n\n-RECORD 0----------------------------------------------------------------------------------------------------------------------------------------------------------------------------------------------------------------------------------------------------------------------------------------------------------------------------------------------------------------------\n tmdb_id      | 10003                                                                                                                                                                                                                                                                                                                                                          \n title        | The Saint                                                                                                                                                                                                                                                                                                                                                      \n release_date | 1997-04-03                                                                                                                                                                                                                                                                                                                                                     \n runtime      | 116.0                                                                                                                                                                                                                                                                                                                                                          \n genres       | [Thriller, Action, Romance, Science Fiction, Adventure]                                                                                                                                                                                                                                                                                                        \n overview     | Ivan Tretiak, Russian Mafia boss who wants to create an oil crisis in Moscow and seize power as a result sends Simon Templar, great international criminal, to England to get a secret formula for cold fusion from U.S. scientist Emma Russell. Templar falls in love with Emma and they try to outwit Tretiak and his guerrillas, hiding from them in Moscow \n budget       | 68000000                                                                                                                                                                                                                                                                                                                                                       \n revenue      | 118063304                                                                                                                                                                                                                                                                                                                                                      \n popularity   | 10.97633                                                                                                                                                                                                                                                                                                                                                       \n vote_average | 5.9                                                                                                                                                                                                                                                                                                                                                            \n vote_count   | 310                                                                                                                                                                                                                                                                                                                                                            \nonly showing top 1 row\n\n+-------+-------+\n|tmdb_id|records|\n+-------+-------+\n|   6918|   6918|\n+-------+-------+\n\n"
     ]
    }
   ],
   "source": [
    "metadata = metadata_raw \\\n",
    "    .select(\n",
    "        f.col('adult').cast('BOOLEAN').alias('adult'),\n",
    "        f.col('budget').cast('INTEGER').alias('budget'),\n",
    "        f.transform(f.from_json('genres', \"ARRAY<STRUCT<id:INTEGER,name:STRING>>\"), lambda x: x['name']).alias('genres'),\n",
    "        f.col('id').cast('STRING').alias('tmdb_id'),\n",
    "        f.col('overview'),\n",
    "        f.col('popularity').cast('DOUBLE').alias('popularity'),\n",
    "        f.col('release_date').cast('DATE').alias('release_date'),\n",
    "        f.col('revenue').cast('INTEGER').alias('revenue'),\n",
    "        f.col('runtime').cast('DOUBLE').alias('runtime'),\n",
    "        f.transform(f.from_json('spoken_languages', \"ARRAY<STRUCT<iso_639_1:STRING,name:STRING>>\"), lambda x: x['name']).alias('spoken_languages'),\n",
    "        f.col('status'),\n",
    "        f.col('title'),\n",
    "        f.col('vote_average').cast('DOUBLE').alias('vote_average'),\n",
    "        f.col('vote_count').cast('INTEGER').alias('vote_count')\n",
    "    ) \\\n",
    "    .withColumn('budget', f.when(f.col('budget') == 0, f.lit(None)).otherwise(f.col('budget'))) \\\n",
    "    .withColumn('revenue', f.when(f.col('revenue') == 0, f.lit(None)).otherwise(f.col('revenue'))) \\\n",
    "    .withColumn('id_rank', f.row_number().over(Window.partitionBy('tmdb_id').orderBy(f.rand(seed=1492)))) \\\n",
    "    .filter(f.col('id_rank') == 1) \\\n",
    "    .filter(f.col('status') == 'Released') \\\n",
    "    .filter(f.col('adult') == False) \\\n",
    "    .filter(f.array_contains('spoken_languages', 'English') == True) \\\n",
    "    .filter(f.col('release_date') >= MIN_RELEASE_DATE) \\\n",
    "    .filter(f.col('popularity') >= MIN_POPULARITY) \\\n",
    "    .select('tmdb_id', 'title', 'release_date', 'runtime', 'genres', 'overview', 'budget', 'revenue', 'popularity', 'vote_average', 'vote_count') \\\n",
    "    .sort('tmdb_id')\n",
    "\n",
    "metadata.printSchema()\n",
    "metadata.show(1, truncate=False, vertical=True)\n",
    "metadata.agg(f.countDistinct('tmdb_id').alias('tmdb_id'), f.count('*').alias('records')).show()"
   ]
  },
  {
   "cell_type": "markdown",
   "metadata": {
    "application/vnd.databricks.v1+cell": {
     "cellMetadata": {},
     "inputWidgets": {},
     "nuid": "48cb791e-b955-4b28-aaf3-dba735d9b1e8",
     "showTitle": false,
     "title": ""
    }
   },
   "source": [
    "#### Movie Keywords"
   ]
  },
  {
   "cell_type": "code",
   "execution_count": 0,
   "metadata": {
    "application/vnd.databricks.v1+cell": {
     "cellMetadata": {
      "byteLimit": 2048000,
      "rowLimit": 10000
     },
     "inputWidgets": {},
     "nuid": "10cdd796-b08c-42e1-8fb4-15352f441a28",
     "showTitle": false,
     "title": ""
    }
   },
   "outputs": [
    {
     "output_type": "stream",
     "name": "stdout",
     "output_type": "stream",
     "text": [
      "-RECORD 0------------------------------------------------------------------------------------------------------------------------------------------------------------------------------------------------------------------------------------------------------------------------------------------------------------------------------\n id       | 862                                                                                                                                                                                                                                                                                                                        \n keywords | [{'id': 931, 'name': 'jealousy'}, {'id': 4290, 'name': 'toy'}, {'id': 5202, 'name': 'boy'}, {'id': 6054, 'name': 'friendship'}, {'id': 9713, 'name': 'friends'}, {'id': 9823, 'name': 'rivalry'}, {'id': 165503, 'name': 'boy next door'}, {'id': 170722, 'name': 'new toy'}, {'id': 187065, 'name': 'toy comes to life'}] \nonly showing top 1 row\n\n"
     ]
    }
   ],
   "source": [
    "keywords_raw = spark.read.csv(os.path.join(RAW_PATH, \"keywords.csv\"), header=True)\n",
    "keywords_raw.show(1, truncate=False, vertical=True)"
   ]
  },
  {
   "cell_type": "code",
   "execution_count": 0,
   "metadata": {
    "application/vnd.databricks.v1+cell": {
     "cellMetadata": {
      "byteLimit": 2048000,
      "rowLimit": 10000
     },
     "inputWidgets": {},
     "nuid": "f85831b4-02be-4a52-8841-0f45149550e9",
     "showTitle": false,
     "title": ""
    }
   },
   "outputs": [
    {
     "output_type": "stream",
     "name": "stdout",
     "output_type": "stream",
     "text": [
      "root\n |-- tmdb_id: string (nullable = true)\n |-- keywords: array (nullable = true)\n |    |-- element: string (containsNull = true)\n\n-RECORD 0---------------------------------------------------------------------------------------------------------------------------------------------------------------------------------------------\n tmdb_id  | 100                                                                                                                                                                                       \n keywords | [ambush, alcohol, shotgun, tea, joint, machismo, cocktail, rifle, marijuana, cockney accent, pot smoking, hatchet, antique, cardsharp, anger, carjacking, piano, strip show, high stakes] \nonly showing top 1 row\n\n+-------+-------+\n|tmdb_id|records|\n+-------+-------+\n|  45432|  45432|\n+-------+-------+\n\n"
     ]
    }
   ],
   "source": [
    "keywords = keywords_raw \\\n",
    "    .select(\n",
    "        f.col('id').cast('STRING').alias('tmdb_id'),\n",
    "        f.transform(f.from_json('keywords', 'ARRAY<STRUCT<id:INTEGER,name:STRING>>'), lambda x: x['name']).alias('keywords')\n",
    "    ) \\\n",
    "    .withColumn('id_rank', f.row_number().over(Window.partitionBy('tmdb_id').orderBy(f.rand(seed=1492)))) \\\n",
    "    .filter(f.col('id_rank') == 1) \\\n",
    "    .select('tmdb_id', 'keywords') \\\n",
    "    .sort('tmdb_id')\n",
    "\n",
    "keywords.printSchema()\n",
    "keywords.show(1, truncate=False, vertical=True)\n",
    "keywords.agg(f.countDistinct('tmdb_id').alias('tmdb_id'), f.count('*').alias('records')).show()"
   ]
  },
  {
   "cell_type": "markdown",
   "metadata": {
    "application/vnd.databricks.v1+cell": {
     "cellMetadata": {},
     "inputWidgets": {},
     "nuid": "e69c76ed-4717-402c-b4cd-ce7c5df8e9b6",
     "showTitle": false,
     "title": ""
    }
   },
   "source": [
    "#### Movie ID Crosswalk"
   ]
  },
  {
   "cell_type": "code",
   "execution_count": 0,
   "metadata": {
    "application/vnd.databricks.v1+cell": {
     "cellMetadata": {
      "byteLimit": 2048000,
      "rowLimit": 10000
     },
     "inputWidgets": {},
     "nuid": "0cfdd7fa-6d23-4df0-abd0-a4ed341cac06",
     "showTitle": false,
     "title": ""
    }
   },
   "outputs": [
    {
     "output_type": "stream",
     "name": "stdout",
     "output_type": "stream",
     "text": [
      "root\n |-- movie_id: string (nullable = true)\n |-- imdb_id: string (nullable = true)\n |-- tmdb_id: string (nullable = true)\n\n+--------+-------+-------+\n|movie_id|imdb_id|tmdb_id|\n+--------+-------+-------+\n|1       |0114709|862    |\n|2       |0113497|8844   |\n|3       |0113228|15602  |\n|4       |0114885|31357  |\n|5       |0113041|11862  |\n+--------+-------+-------+\nonly showing top 5 rows\n\n+-------+--------+-------+\n|tmdb_id|movie_id|records|\n+-------+--------+-------+\n|  45594|   45843|  45843|\n+-------+--------+-------+\n\n"
     ]
    }
   ],
   "source": [
    "links_path = \"dbfs:/FileStore/data/raw/links.csv\"\n",
    "links = spark \\\n",
    "    .read.csv(os.path.join(RAW_PATH, \"links.csv\"), header=True) \\\n",
    "    .withColumnRenamed('movieId', 'movie_id') \\\n",
    "    .withColumnRenamed('imdbId', 'imdb_id') \\\n",
    "    .withColumnRenamed('tmdbId', 'tmdb_id')\n",
    "\n",
    "links.printSchema()\n",
    "links.show(5, truncate=False)\n",
    "links.agg(f.countDistinct('tmdb_id').alias('tmdb_id'), f.countDistinct('movie_id').alias('movie_id'), f.count('*').alias('records')).show()"
   ]
  },
  {
   "cell_type": "markdown",
   "metadata": {
    "application/vnd.databricks.v1+cell": {
     "cellMetadata": {},
     "inputWidgets": {},
     "nuid": "e3a0a69d-d4a5-4a5d-8a44-fc90fb248ebf",
     "showTitle": false,
     "title": ""
    }
   },
   "source": [
    "#### Movie Ratings"
   ]
  },
  {
   "cell_type": "code",
   "execution_count": 0,
   "metadata": {
    "application/vnd.databricks.v1+cell": {
     "cellMetadata": {
      "byteLimit": 2048000,
      "rowLimit": 10000
     },
     "inputWidgets": {},
     "nuid": "79210e26-57a2-4dee-9178-a681e903293f",
     "showTitle": false,
     "title": ""
    }
   },
   "outputs": [
    {
     "output_type": "stream",
     "name": "stdout",
     "output_type": "stream",
     "text": [
      "+------+-------+------+----------+\n|userId|movieId|rating|timestamp |\n+------+-------+------+----------+\n|1     |110    |1.0   |1425941529|\n|1     |147    |4.5   |1425942435|\n|1     |858    |5.0   |1425941523|\n|1     |1221   |5.0   |1425941546|\n|1     |1246   |5.0   |1425941556|\n+------+-------+------+----------+\nonly showing top 5 rows\n\n"
     ]
    }
   ],
   "source": [
    "ratings_raw = spark.read.csv(os.path.join(RAW_PATH, \"ratings.csv\"), header=True)\n",
    "ratings_raw.show(5, truncate=False)"
   ]
  },
  {
   "cell_type": "code",
   "execution_count": 0,
   "metadata": {
    "application/vnd.databricks.v1+cell": {
     "cellMetadata": {
      "byteLimit": 2048000,
      "rowLimit": 10000
     },
     "inputWidgets": {},
     "nuid": "3d557920-c44f-48e4-aab3-dab878c778c7",
     "showTitle": false,
     "title": ""
    }
   },
   "outputs": [
    {
     "output_type": "stream",
     "name": "stdout",
     "output_type": "stream",
     "text": [
      "root\n |-- user_id: string (nullable = true)\n |-- movie_id: string (nullable = true)\n |-- rating: double (nullable = true)\n |-- timestamp: string (nullable = true)\n\n+-------+--------+------+-------------------+\n|user_id|movie_id|rating|timestamp          |\n+-------+--------+------+-------------------+\n|1      |110     |1.0   |2015-03-09 22:52:09|\n|1      |147     |4.5   |2015-03-09 23:07:15|\n|1      |858     |5.0   |2015-03-09 22:52:03|\n|1      |1221    |5.0   |2015-03-09 22:52:26|\n|1      |1246    |5.0   |2015-03-09 22:52:36|\n+-------+--------+------+-------------------+\nonly showing top 5 rows\n\n+-----------+------------+-------------+\n|total_users|total_movies|total_ratings|\n+-----------+------------+-------------+\n|     270896|       45115|     26024289|\n+-----------+------------+-------------+\n\n"
     ]
    }
   ],
   "source": [
    "ratings = ratings_raw \\\n",
    "    .select(\n",
    "        f.col('userId').alias('user_id'),\n",
    "        f.col('movieId').alias('movie_id'),\n",
    "        f.col('rating').cast('DOUBLE').alias('rating'),\n",
    "        f.from_unixtime('timestamp').alias('timestamp')\n",
    "    )\n",
    "\n",
    "ratings.printSchema()\n",
    "ratings.show(5, truncate=False)\n",
    "ratings.agg(f.countDistinct('user_id').alias('total_users'), f.countDistinct('movie_id').alias('total_movies'), f.count('*').alias('total_ratings')).show()"
   ]
  },
  {
   "cell_type": "markdown",
   "metadata": {
    "application/vnd.databricks.v1+cell": {
     "cellMetadata": {},
     "inputWidgets": {},
     "nuid": "7e9cee79-b530-45b2-a526-4f6f15228824",
     "showTitle": false,
     "title": ""
    }
   },
   "source": [
    "### Save Clean Data Entities"
   ]
  },
  {
   "cell_type": "markdown",
   "metadata": {
    "application/vnd.databricks.v1+cell": {
     "cellMetadata": {},
     "inputWidgets": {},
     "nuid": "0db1fd6d-c68a-4137-8a40-a066bc348141",
     "showTitle": false,
     "title": ""
    }
   },
   "source": [
    "#### Clean Ratings Data"
   ]
  },
  {
   "cell_type": "code",
   "execution_count": 0,
   "metadata": {
    "application/vnd.databricks.v1+cell": {
     "cellMetadata": {
      "byteLimit": 2048000,
      "rowLimit": 10000
     },
     "inputWidgets": {},
     "nuid": "74948c6f-6aa3-4650-8965-0ab176e2cd21",
     "showTitle": false,
     "title": ""
    }
   },
   "outputs": [
    {
     "output_type": "stream",
     "name": "stdout",
     "output_type": "stream",
     "text": [
      "root\n |-- user_id: string (nullable = true)\n |-- tmdb_id: string (nullable = true)\n |-- rating: double (nullable = true)\n |-- timestamp: string (nullable = true)\n\n+-------+-------+------+-------------------+\n|user_id|tmdb_id|rating|          timestamp|\n+-------+-------+------+-------------------+\n|      1|    197|   1.0|2015-03-09 22:52:09|\n|      1|  10474|   4.5|2015-03-09 23:07:15|\n|      1|    238|   5.0|2015-03-09 22:52:03|\n|      1|    240|   5.0|2015-03-09 22:52:26|\n|      1|    207|   5.0|2015-03-09 22:52:36|\n+-------+-------+------+-------------------+\nonly showing top 5 rows\n\nOut[20]: 26024289"
     ]
    }
   ],
   "source": [
    "ratings = ratings.join(links, on=\"movie_id\", how=\"inner\").select('user_id', 'tmdb_id', 'rating', 'timestamp')\n",
    "ratings.printSchema()\n",
    "ratings.show(5)\n",
    "ratings.count()"
   ]
  },
  {
   "cell_type": "code",
   "execution_count": 0,
   "metadata": {
    "application/vnd.databricks.v1+cell": {
     "cellMetadata": {
      "byteLimit": 2048000,
      "rowLimit": 10000
     },
     "inputWidgets": {},
     "nuid": "7e780f39-db13-42a6-a54e-5843e5627aab",
     "showTitle": false,
     "title": ""
    }
   },
   "outputs": [],
   "source": [
    "ratings.repartition(10).write.parquet(os.path.join(CLN_PATH, \"ratings\"), mode=\"overwrite\")"
   ]
  },
  {
   "cell_type": "markdown",
   "metadata": {
    "application/vnd.databricks.v1+cell": {
     "cellMetadata": {},
     "inputWidgets": {},
     "nuid": "43c6f216-a6e9-49f6-bfcf-ec40ef22bad2",
     "showTitle": false,
     "title": ""
    }
   },
   "source": [
    "#### Clean Movies Data"
   ]
  },
  {
   "cell_type": "code",
   "execution_count": 0,
   "metadata": {
    "application/vnd.databricks.v1+cell": {
     "cellMetadata": {
      "byteLimit": 2048000,
      "rowLimit": 10000
     },
     "inputWidgets": {},
     "nuid": "8a2efacb-c8a1-4142-bdc5-e4372dc24a0b",
     "showTitle": false,
     "title": ""
    }
   },
   "outputs": [
    {
     "output_type": "stream",
     "name": "stdout",
     "output_type": "stream",
     "text": [
      "+-------+--------------------+------------+-------+--------------------+--------------------+---------+---------+----------+------------+----------+--------------------+\n|tmdb_id|               title|release_date|runtime|              genres|            overview|   budget|  revenue|popularity|vote_average|vote_count|            keywords|\n+-------+--------------------+------------+-------+--------------------+--------------------+---------+---------+----------+------------+----------+--------------------+\n|  10010|      Brother Bear 2|  2006-08-17|   73.0|[Adventure, Anima...|Kenai finds his c...|     null|     null| 10.861154|         6.3|       318|[grizzly bear, hu...|\n|  10012|              Cursed|  2005-02-25|   97.0|    [Horror, Comedy]|A werewolf loose ...| 35000000| 19294901|  8.949722|         5.1|       168|[brother sister r...|\n| 100402|Captain America: ...|  2014-03-20|  136.0|[Action, Adventur...|After the catacly...|170000000|714766572| 18.717704|         7.6|      5881|[washington d.c.,...|\n|  10068|      Nine 1/2 Weeks|  1986-02-14|  117.0|    [Drama, Romance]|An erotic story a...| 17000000|  6735922|  6.706262|         5.8|       183|                null|\n|  10096|      13 Going on 30|  2004-04-13|   98.0|[Comedy, Fantasy,...|After total humil...| 37000000| 96455697| 12.632595|         6.3|      1260|[new york, photog...|\n|  10110|   Empire of the Sun|  1987-12-09|  153.0|[Drama, History, ...|Jamie Graham, a p...| 35000000| 22238696| 10.220906|         7.3|       491|[japan, stadium, ...|\n| 101325|          The Forger|  2011-03-09|   96.0|             [Drama]|While staying at ...|     null|     null|  7.854465|         6.0|        40|[california, pain...|\n|  10133|              Cypher|  2002-10-01|   95.0|[Thriller, Scienc...|An unsuspecting, ...|  7500000|     null|  7.348974|         6.7|       196|[double life, und...|\n|  10138|          Iron Man 2|  2010-04-28|  124.0|[Adventure, Actio...|With the world no...|200000000|623933331| 19.083344|         6.6|      6969|[malibu, marvel c...|\n|  10145|       The Forgotten|  2004-09-24|   91.0|[Crime, Drama, Ho...|Telly Paretta is ...| 42000000|117575636|   6.40146|         5.5|       359|[loss of son, mot...|\n+-------+--------------------+------------+-------+--------------------+--------------------+---------+---------+----------+------------+----------+--------------------+\nonly showing top 10 rows\n\nroot\n |-- tmdb_id: string (nullable = true)\n |-- title: string (nullable = true)\n |-- release_date: date (nullable = true)\n |-- runtime: double (nullable = true)\n |-- genres: array (nullable = true)\n |    |-- element: string (containsNull = true)\n |-- overview: string (nullable = true)\n |-- budget: integer (nullable = true)\n |-- revenue: integer (nullable = true)\n |-- popularity: double (nullable = true)\n |-- vote_average: double (nullable = true)\n |-- vote_count: integer (nullable = true)\n |-- keywords: array (nullable = true)\n |    |-- element: string (containsNull = true)\n\n+-------+-------+\n|tmdb_id|records|\n+-------+-------+\n|   6918|   6918|\n+-------+-------+\n\n+-------+-----+------------+-------+------+--------+------+-------+----------+------------+----------+--------+\n|tmdb_id|title|release_date|runtime|genres|overview|budget|revenue|popularity|vote_average|vote_count|keywords|\n+-------+-----+------------+-------+------+--------+------+-------+----------+------------+----------+--------+\n|      0|    0|           0|      0|     0|       0|  2666|   2666|         0|           4|         2|     244|\n+-------+-----+------------+-------+------+--------+------+-------+----------+------------+----------+--------+\n\n"
     ]
    }
   ],
   "source": [
    "movies = metadata.join(keywords, on='tmdb_id', how='inner')\n",
    "movies.show(10)\n",
    "movies.printSchema()\n",
    "movies.agg(f.countDistinct('tmdb_id').alias('tmdb_id'), f.count('*').alias('records')).show()\n",
    "movies.agg(*[f.sum(f.col(col).isNull().cast('int')).alias(col) for col in movies.columns]).show()"
   ]
  },
  {
   "cell_type": "code",
   "execution_count": 0,
   "metadata": {
    "application/vnd.databricks.v1+cell": {
     "cellMetadata": {
      "byteLimit": 2048000,
      "rowLimit": 10000
     },
     "inputWidgets": {},
     "nuid": "c2dfeca0-8cd6-4fc8-97bf-561b76b9d95c",
     "showTitle": false,
     "title": ""
    }
   },
   "outputs": [],
   "source": [
    "movies.coalesce(1).write.parquet(os.path.join(CLN_PATH, \"movies\"), mode=\"overwrite\")"
   ]
  },
  {
   "cell_type": "code",
   "execution_count": 0,
   "metadata": {
    "application/vnd.databricks.v1+cell": {
     "cellMetadata": {},
     "inputWidgets": {},
     "nuid": "c7b248f8-f933-4e40-be16-aa3931b5c0e3",
     "showTitle": false,
     "title": ""
    }
   },
   "outputs": [],
   "source": []
  }
 ],
 "metadata": {
  "application/vnd.databricks.v1+notebook": {
   "dashboards": [],
   "language": "python",
   "notebookMetadata": {
    "pythonIndentUnit": 4
   },
   "notebookName": "clean-raw-data",
   "widgets": {}
  },
  "kernelspec": {
   "display_name": "Python 3 (ipykernel)",
   "language": "python",
   "name": "python3"
  },
  "language_info": {
   "codemirror_mode": {
    "name": "ipython",
    "version": 3
   },
   "file_extension": ".py",
   "mimetype": "text/x-python",
   "name": "python",
   "nbconvert_exporter": "python",
   "pygments_lexer": "ipython3",
   "version": "3.9.16"
  }
 },
 "nbformat": 4,
 "nbformat_minor": 0
}
