{
 "cells": [
  {
   "cell_type": "markdown",
   "metadata": {
    "application/vnd.databricks.v1+cell": {
     "cellMetadata": {},
     "inputWidgets": {},
     "nuid": "bb601ce6-f290-42ea-90a6-ca550d38e3ca",
     "showTitle": false,
     "title": ""
    }
   },
   "source": [
    "### Notebook Set-Up"
   ]
  },
  {
   "cell_type": "markdown",
   "metadata": {
    "application/vnd.databricks.v1+cell": {
     "cellMetadata": {},
     "inputWidgets": {},
     "nuid": "d89d1a2f-ce6b-4b4e-8779-eb60c1c7676d",
     "showTitle": false,
     "title": ""
    }
   },
   "source": [
    "#### Import Required Modules"
   ]
  },
  {
   "cell_type": "code",
   "execution_count": 0,
   "metadata": {
    "application/vnd.databricks.v1+cell": {
     "cellMetadata": {
      "byteLimit": 2048000,
      "rowLimit": 10000
     },
     "inputWidgets": {},
     "nuid": "adbc3289-2f87-4aee-a6cc-6f1366256b2a",
     "showTitle": false,
     "title": ""
    }
   },
   "outputs": [],
   "source": [
    "# %pip install pinecone-client python-dotenv"
   ]
  },
  {
   "cell_type": "code",
   "execution_count": 0,
   "metadata": {
    "application/vnd.databricks.v1+cell": {
     "cellMetadata": {
      "byteLimit": 2048000,
      "rowLimit": 10000
     },
     "inputWidgets": {},
     "nuid": "7ad92141-2202-40f0-8029-bebb8b63e18b",
     "showTitle": false,
     "title": ""
    }
   },
   "outputs": [],
   "source": [
    "import os\n",
    "import json\n",
    "\n",
    "from typing import List, Dict\n",
    "from dotenv import load_dotenv\n",
    "\n",
    "from pyspark.sql import SparkSession\n",
    "from pyspark.sql import functions as f\n",
    "from pyspark.sql.window import Window\n",
    "\n",
    "from pyspark.ml.recommendation import ALS"
   ]
  },
  {
   "cell_type": "markdown",
   "metadata": {
    "application/vnd.databricks.v1+cell": {
     "cellMetadata": {},
     "inputWidgets": {},
     "nuid": "8de77a0b-a968-4306-a01f-cbf21973a372",
     "showTitle": false,
     "title": ""
    }
   },
   "source": [
    "#### Get or Create SparkSession"
   ]
  },
  {
   "cell_type": "code",
   "execution_count": 0,
   "metadata": {
    "application/vnd.databricks.v1+cell": {
     "cellMetadata": {
      "byteLimit": 2048000,
      "rowLimit": 10000
     },
     "inputWidgets": {},
     "nuid": "fcc0d9be-c3dd-4fbb-ba4f-5a413ce03d97",
     "showTitle": false,
     "title": ""
    }
   },
   "outputs": [
    {
     "output_type": "display_data",
     "data": {
      "text/html": [
       "\n",
       "            <div>\n",
       "                <p><b>SparkSession - hive</b></p>\n",
       "                \n",
       "        <div>\n",
       "            <p><b>SparkContext</b></p>\n",
       "\n",
       "            <p><a href=\"/?o=8355974179873438#setting/sparkui/1017-161542-o0dq748r/driver-5895511688770939112\">Spark UI</a></p>\n",
       "\n",
       "            <dl>\n",
       "              <dt>Version</dt>\n",
       "                <dd><code>v3.3.2</code></dd>\n",
       "              <dt>Master</dt>\n",
       "                <dd><code>spark://driver-proxy:7077</code></dd>\n",
       "              <dt>AppName</dt>\n",
       "                <dd><code>Databricks Shell</code></dd>\n",
       "            </dl>\n",
       "        </div>\n",
       "        \n",
       "            </div>\n",
       "        "
      ]
     },
     "metadata": {
      "application/vnd.databricks.v1+output": {
       "addedWidgets": {},
       "arguments": {},
       "data": "\n            <div>\n                <p><b>SparkSession - hive</b></p>\n                \n        <div>\n            <p><b>SparkContext</b></p>\n\n            <p><a href=\"/?o=8355974179873438#setting/sparkui/1017-161542-o0dq748r/driver-5895511688770939112\">Spark UI</a></p>\n\n            <dl>\n              <dt>Version</dt>\n                <dd><code>v3.3.2</code></dd>\n              <dt>Master</dt>\n                <dd><code>spark://driver-proxy:7077</code></dd>\n              <dt>AppName</dt>\n                <dd><code>Databricks Shell</code></dd>\n            </dl>\n        </div>\n        \n            </div>\n        ",
       "datasetInfos": [],
       "metadata": {},
       "removedWidgets": [],
       "textData": null,
       "type": "htmlSandbox"
      }
     },
     "output_type": "display_data"
    }
   ],
   "source": [
    "spark = SparkSession.builder.getOrCreate()\n",
    "spark.sparkContext.setLogLevel(\"error\")\n",
    "spark"
   ]
  },
  {
   "cell_type": "markdown",
   "metadata": {
    "application/vnd.databricks.v1+cell": {
     "cellMetadata": {},
     "inputWidgets": {},
     "nuid": "3c66a3f9-fe90-46e2-ae65-5100be81faf0",
     "showTitle": false,
     "title": ""
    }
   },
   "source": [
    "#### Load Secrets as Environment Variables"
   ]
  },
  {
   "cell_type": "code",
   "execution_count": 0,
   "metadata": {
    "application/vnd.databricks.v1+cell": {
     "cellMetadata": {
      "byteLimit": 2048000,
      "rowLimit": 10000
     },
     "inputWidgets": {},
     "nuid": "34c6e1a3-0a28-4d1b-92aa-659c6b047bd2",
     "showTitle": false,
     "title": ""
    }
   },
   "outputs": [
    {
     "output_type": "stream",
     "name": "stdout",
     "output_type": "stream",
     "text": [
      "Out[3]: True"
     ]
    }
   ],
   "source": [
    "env_path = \"/dbfs/FileStore/env/.env\"\n",
    "load_dotenv(env_path)\n"
   ]
  },
  {
   "cell_type": "markdown",
   "metadata": {
    "application/vnd.databricks.v1+cell": {
     "cellMetadata": {},
     "inputWidgets": {},
     "nuid": "14ce4bd9-572b-4820-b110-d1a17cd1452c",
     "showTitle": false,
     "title": ""
    }
   },
   "source": [
    "#### Set Constants"
   ]
  },
  {
   "cell_type": "code",
   "execution_count": 0,
   "metadata": {
    "application/vnd.databricks.v1+cell": {
     "cellMetadata": {},
     "inputWidgets": {},
     "nuid": "fb385ff7-2139-449d-a9a2-c5f6a6f4b5f7",
     "showTitle": false,
     "title": ""
    }
   },
   "outputs": [],
   "source": []
  },
  {
   "cell_type": "markdown",
   "metadata": {
    "application/vnd.databricks.v1+cell": {
     "cellMetadata": {},
     "inputWidgets": {},
     "nuid": "4c0c228b-1b10-427e-a7db-b1a6cd55f8ca",
     "showTitle": false,
     "title": ""
    }
   },
   "source": [
    "### Import and Clean the Raw Data"
   ]
  },
  {
   "cell_type": "markdown",
   "metadata": {
    "application/vnd.databricks.v1+cell": {
     "cellMetadata": {},
     "inputWidgets": {},
     "nuid": "5c968040-f53a-4e5c-9f09-9817298a2866",
     "showTitle": false,
     "title": ""
    }
   },
   "source": [
    "#### Import and Clean Movie Metadata"
   ]
  },
  {
   "cell_type": "code",
   "execution_count": 0,
   "metadata": {
    "application/vnd.databricks.v1+cell": {
     "cellMetadata": {
      "byteLimit": 2048000,
      "rowLimit": 10000
     },
     "inputWidgets": {},
     "nuid": "a5a79c63-d385-4040-8347-d1660881311f",
     "showTitle": false,
     "title": ""
    }
   },
   "outputs": [
    {
     "output_type": "stream",
     "name": "stdout",
     "output_type": "stream",
     "text": [
      "root\n |-- adult: string (nullable = true)\n |-- belongs_to_collection: string (nullable = true)\n |-- budget: string (nullable = true)\n |-- genres: string (nullable = true)\n |-- homepage: string (nullable = true)\n |-- id: string (nullable = true)\n |-- imdb_id: string (nullable = true)\n |-- original_language: string (nullable = true)\n |-- original_title: string (nullable = true)\n |-- overview: string (nullable = true)\n |-- popularity: string (nullable = true)\n |-- poster_path: string (nullable = true)\n |-- production_companies: string (nullable = true)\n |-- production_countries: string (nullable = true)\n |-- release_date: string (nullable = true)\n |-- revenue: string (nullable = true)\n |-- runtime: string (nullable = true)\n |-- spoken_languages: string (nullable = true)\n |-- status: string (nullable = true)\n |-- tagline: string (nullable = true)\n |-- title: string (nullable = true)\n |-- video: string (nullable = true)\n |-- vote_average: string (nullable = true)\n |-- vote_count: string (nullable = true)\n\n-RECORD 0--------------------------------------------------------------------------------------------------------------------------------------------------------------------------------------------------------------------------------------------------------------------------------------------------------------------------------\n adult                 | False                                                                                                                                                                                                                                                                                                           \n belongs_to_collection | {'id': 10194, 'name': 'Toy Story Collection', 'poster_path': '/7G9915LfUQ2lVfwMEEhDsn3kT4B.jpg', 'backdrop_path': '/9FBwqcd9IRruEDUrTdcaafOMKUq.jpg'}                                                                                                                                                           \n budget                | 30000000                                                                                                                                                                                                                                                                                                        \n genres                | [{'id': 16, 'name': 'Animation'}, {'id': 35, 'name': 'Comedy'}, {'id': 10751, 'name': 'Family'}]                                                                                                                                                                                                                \n homepage              | http://toystory.disney.com/toy-story                                                                                                                                                                                                                                                                            \n id                    | 862                                                                                                                                                                                                                                                                                                             \n imdb_id               | tt0114709                                                                                                                                                                                                                                                                                                       \n original_language     | en                                                                                                                                                                                                                                                                                                              \n original_title        | Toy Story                                                                                                                                                                                                                                                                                                       \n overview              | Led by Woody, Andy's toys live happily in his room until Andy's birthday brings Buzz Lightyear onto the scene. Afraid of losing his place in Andy's heart, Woody plots against Buzz. But when circumstances separate Buzz and Woody from their owner, the duo eventually learns to put aside their differences. \n popularity            | 21.946943                                                                                                                                                                                                                                                                                                       \n poster_path           | /rhIRbceoE9lR4veEXuwCC2wARtG.jpg                                                                                                                                                                                                                                                                                \n production_companies  | [{'name': 'Pixar Animation Studios', 'id': 3}]                                                                                                                                                                                                                                                                  \n production_countries  | [{'iso_3166_1': 'US', 'name': 'United States of America'}]                                                                                                                                                                                                                                                      \n release_date          | 1995-10-30                                                                                                                                                                                                                                                                                                      \n revenue               | 373554033                                                                                                                                                                                                                                                                                                       \n runtime               | 81.0                                                                                                                                                                                                                                                                                                            \n spoken_languages      | [{'iso_639_1': 'en', 'name': 'English'}]                                                                                                                                                                                                                                                                        \n status                | Released                                                                                                                                                                                                                                                                                                        \n tagline               | null                                                                                                                                                                                                                                                                                                            \n title                 | Toy Story                                                                                                                                                                                                                                                                                                       \n video                 | False                                                                                                                                                                                                                                                                                                           \n vote_average          | 7.7                                                                                                                                                                                                                                                                                                             \n vote_count            | 5415                                                                                                                                                                                                                                                                                                            \nonly showing top 1 row\n\n"
     ]
    }
   ],
   "source": [
    "metadata_path = \"dbfs:/FileStore/data/raw/movies_metadata.csv\"\n",
    "metadata_raw = spark.read.csv(metadata_path, header=True)\n",
    "metadata_raw.printSchema()\n",
    "metadata_raw.show(1, truncate=False, vertical=True)"
   ]
  },
  {
   "cell_type": "code",
   "execution_count": 0,
   "metadata": {
    "application/vnd.databricks.v1+cell": {
     "cellMetadata": {
      "byteLimit": 2048000,
      "rowLimit": 10000
     },
     "inputWidgets": {},
     "nuid": "1784aaeb-1971-4f15-9ac9-50bdac19ed1a",
     "showTitle": false,
     "title": ""
    }
   },
   "outputs": [
    {
     "output_type": "stream",
     "name": "stdout",
     "output_type": "stream",
     "text": [
      "root\n |-- id: string (nullable = true)\n |-- imdb_id: string (nullable = true)\n |-- title: string (nullable = true)\n |-- release_date: date (nullable = true)\n |-- popularity: double (nullable = true)\n |-- genres: array (nullable = true)\n |    |-- element: string (containsNull = true)\n |-- overview: string (nullable = true)\n |-- runtime: double (nullable = true)\n |-- vote_average: double (nullable = true)\n |-- vote_count: integer (nullable = true)\n\n-RECORD 0-----------------------------------------------------------------------------------------------------------------------------------------------------------------------------------------------------------------------------------------------------------------------------------------------------------------------\n id           | 862                                                                                                                                                                                                                                                                                                             \n imdb_id      | tt0114709                                                                                                                                                                                                                                                                                                       \n title        | Toy Story                                                                                                                                                                                                                                                                                                       \n release_date | 1995-10-30                                                                                                                                                                                                                                                                                                      \n popularity   | 21.946943                                                                                                                                                                                                                                                                                                       \n genres       | [Animation, Comedy, Family]                                                                                                                                                                                                                                                                                     \n overview     | Led by Woody, Andy's toys live happily in his room until Andy's birthday brings Buzz Lightyear onto the scene. Afraid of losing his place in Andy's heart, Woody plots against Buzz. But when circumstances separate Buzz and Woody from their owner, the duo eventually learns to put aside their differences. \n runtime      | 81.0                                                                                                                                                                                                                                                                                                            \n vote_average | 7.7                                                                                                                                                                                                                                                                                                             \n vote_count   | 5415                                                                                                                                                                                                                                                                                                            \nonly showing top 1 row\n\nOut[5]: 6925"
     ]
    }
   ],
   "source": [
    "metadata = metadata_raw \\\n",
    "    .select(\n",
    "        f.col('id').cast('STRING').alias('id'),\n",
    "        f.col('imdb_id'),\n",
    "        f.col('title'),\n",
    "        f.col('release_date').cast('DATE').alias('release_date'),\n",
    "        f.col('popularity').cast('DOUBLE').alias('popularity'),\n",
    "        f.transform(f.from_json('genres', \"ARRAY<STRUCT<id:INTEGER,name:STRING>>\"), lambda x: x['name']).alias('genres'),\n",
    "        f.col('overview'),\n",
    "        f.col('runtime').cast('DOUBLE').alias('runtime'),\n",
    "        f.from_json('spoken_languages', \"ARRAY<STRUCT<iso_639_1:STRING,name:STRING>>\").alias('spoken_languages'),\n",
    "        f.col('adult').cast('BOOLEAN').alias('adult'),\n",
    "        f.col('status'),\n",
    "        f.col('vote_average').cast('DOUBLE').alias('vote_average'),\n",
    "        f.col('vote_count').cast('INTEGER').alias('vote_count')\n",
    "    ) \\\n",
    "    .filter(f.col('adult') == False) \\\n",
    "    .filter(f.col('release_date') >= '1970-01-01') \\\n",
    "    .filter(f.array_contains(f.transform('spoken_languages', lambda x: x['name']), 'English')) \\\n",
    "    .filter(f.col('status') == 'Released') \\\n",
    "    .filter(f.col('popularity') >= 5.0) \\\n",
    "    .select('id', 'imdb_id', 'title', 'release_date', 'popularity', 'genres', 'overview', 'runtime', 'vote_average', 'vote_count')\n",
    "    \n",
    "metadata.printSchema()\n",
    "metadata.show(1, truncate=False, vertical=True)\n",
    "metadata.count()"
   ]
  },
  {
   "cell_type": "markdown",
   "metadata": {
    "application/vnd.databricks.v1+cell": {
     "cellMetadata": {},
     "inputWidgets": {},
     "nuid": "a5aa99e3-992a-4af8-88cb-b8590dc00d71",
     "showTitle": false,
     "title": ""
    }
   },
   "source": [
    "#### Import and Clean the Ratings Data"
   ]
  },
  {
   "cell_type": "code",
   "execution_count": 0,
   "metadata": {
    "application/vnd.databricks.v1+cell": {
     "cellMetadata": {
      "byteLimit": 2048000,
      "rowLimit": 10000
     },
     "inputWidgets": {},
     "nuid": "5b222b3e-89f6-4c70-80b6-ec65fd0fab8d",
     "showTitle": false,
     "title": ""
    }
   },
   "outputs": [
    {
     "output_type": "stream",
     "name": "stdout",
     "output_type": "stream",
     "text": [
      "root\n |-- userId: string (nullable = true)\n |-- movieId: string (nullable = true)\n |-- rating: string (nullable = true)\n |-- timestamp: string (nullable = true)\n\n+------+-------+------+----------+\n|userId|movieId|rating|timestamp |\n+------+-------+------+----------+\n|1     |110    |1.0   |1425941529|\n|1     |147    |4.5   |1425942435|\n|1     |858    |5.0   |1425941523|\n|1     |1221   |5.0   |1425941546|\n|1     |1246   |5.0   |1425941556|\n+------+-------+------+----------+\nonly showing top 5 rows\n\n"
     ]
    }
   ],
   "source": [
    "ratings_path = \"dbfs:/FileStore/data/raw/ratings.csv\"\n",
    "ratings_raw = spark.read.csv(ratings_path, header=True)\n",
    "ratings_raw.printSchema()\n",
    "ratings_raw.show(5, truncate=False)"
   ]
  },
  {
   "cell_type": "code",
   "execution_count": 0,
   "metadata": {
    "application/vnd.databricks.v1+cell": {
     "cellMetadata": {
      "byteLimit": 2048000,
      "rowLimit": 10000
     },
     "inputWidgets": {},
     "nuid": "d488e91f-5922-417c-b8cb-84d4b162e670",
     "showTitle": false,
     "title": ""
    }
   },
   "outputs": [
    {
     "output_type": "stream",
     "name": "stdout",
     "output_type": "stream",
     "text": [
      "root\n |-- user_id: string (nullable = true)\n |-- movie_id: string (nullable = true)\n |-- rating: double (nullable = true)\n |-- timestamp: string (nullable = true)\n\n+-------+--------+------+-------------------+\n|user_id|movie_id|rating|timestamp          |\n+-------+--------+------+-------------------+\n|1      |110     |1.0   |2015-03-09 22:52:09|\n|1      |147     |4.5   |2015-03-09 23:07:15|\n|1      |858     |5.0   |2015-03-09 22:52:03|\n|1      |1221    |5.0   |2015-03-09 22:52:26|\n|1      |1246    |5.0   |2015-03-09 22:52:36|\n+-------+--------+------+-------------------+\nonly showing top 5 rows\n\n+-----------+------------+-------------+\n|total_users|total_movies|total_ratings|\n+-----------+------------+-------------+\n|     270896|       45115|     26024289|\n+-----------+------------+-------------+\n\n"
     ]
    }
   ],
   "source": [
    "ratings = ratings_raw \\\n",
    "    .select(\n",
    "        f.col('userId').alias('user_id'),\n",
    "        f.col('movieId').alias('movie_id'),\n",
    "        f.col('rating').cast('DOUBLE').alias('rating'),\n",
    "        f.from_unixtime('timestamp').alias('timestamp')\n",
    "    )\n",
    "\n",
    "ratings.printSchema()\n",
    "ratings.show(5, truncate=False)\n",
    "ratings.agg(\n",
    "    f.countDistinct('user_id').alias('total_users'),\n",
    "    f.countDistinct('movie_id').alias('total_movies'),\n",
    "    f.count('*').alias('total_ratings')\n",
    ").show()"
   ]
  },
  {
   "cell_type": "markdown",
   "metadata": {
    "application/vnd.databricks.v1+cell": {
     "cellMetadata": {},
     "inputWidgets": {},
     "nuid": "ec7118d2-8f92-4931-95bb-36e07bc23ab2",
     "showTitle": false,
     "title": ""
    }
   },
   "source": [
    "#### Join with the Metadata to Select Only Movies in Both Datasets"
   ]
  },
  {
   "cell_type": "code",
   "execution_count": 0,
   "metadata": {
    "application/vnd.databricks.v1+cell": {
     "cellMetadata": {
      "byteLimit": 2048000,
      "rowLimit": 10000
     },
     "inputWidgets": {},
     "nuid": "06f567c7-d28d-45fc-b0a7-492995e2b420",
     "showTitle": false,
     "title": ""
    }
   },
   "outputs": [
    {
     "output_type": "stream",
     "name": "stdout",
     "output_type": "stream",
     "text": [
      "+-----------+------------+-------------+\n|total_users|total_movies|total_ratings|\n+-----------+------------+-------------+\n|     250691|        1617|      4978604|\n+-----------+------------+-------------+\n\n"
     ]
    }
   ],
   "source": [
    "ratings = ratings \\\n",
    "    .join(metadata, on=(ratings['movie_id'] == metadata['id']), how='inner') \\\n",
    "    .select('user_id', 'movie_id', 'rating', 'timestamp') \\\n",
    "    \n",
    "ratings.agg(\n",
    "    f.countDistinct('user_id').alias('total_users'),\n",
    "    f.countDistinct('movie_id').alias('total_movies'),\n",
    "    f.count('*').alias('total_ratings')\n",
    ").show()"
   ]
  },
  {
   "cell_type": "markdown",
   "metadata": {
    "application/vnd.databricks.v1+cell": {
     "cellMetadata": {},
     "inputWidgets": {},
     "nuid": "0eae88cf-2153-4919-9a16-e11267fd8309",
     "showTitle": false,
     "title": ""
    }
   },
   "source": [
    "#### Convert to an Implicit Feedback Dataset"
   ]
  },
  {
   "cell_type": "code",
   "execution_count": 0,
   "metadata": {
    "application/vnd.databricks.v1+cell": {
     "cellMetadata": {
      "byteLimit": 2048000,
      "rowLimit": 10000
     },
     "inputWidgets": {},
     "nuid": "cd60282c-077a-4f8d-9e73-d43b4fc7a936",
     "showTitle": false,
     "title": ""
    }
   },
   "outputs": [],
   "source": [
    "MIN_RATING = 3\n",
    "MIN_USERS = 10\n",
    "MIN_MOVIES = 10"
   ]
  },
  {
   "cell_type": "code",
   "execution_count": 0,
   "metadata": {
    "application/vnd.databricks.v1+cell": {
     "cellMetadata": {
      "byteLimit": 2048000,
      "rowLimit": 10000
     },
     "inputWidgets": {},
     "nuid": "993886fc-7f9f-4def-8f99-b3cab4a368a8",
     "showTitle": false,
     "title": ""
    }
   },
   "outputs": [
    {
     "output_type": "stream",
     "name": "stdout",
     "output_type": "stream",
     "text": [
      "+-----------+------------+-------------+\n|total_users|total_movies|total_ratings|\n+-----------+------------+-------------+\n|     102103|        1382|      3575530|\n+-----------+------------+-------------+\n\n+------+-------+\n|rating|  count|\n+------+-------+\n|   1.0|1042945|\n|   1.5| 396672|\n|   2.0|1218635|\n|   2.5| 263803|\n|   3.0| 653475|\n+------+-------+\n\n"
     ]
    }
   ],
   "source": [
    "model_frame = ratings \\\n",
    "    .filter(f.col('rating') >= MIN_RATING) \\\n",
    "    .withColumn('cnt_users', f.count('user_id').over(Window.partitionBy('movie_id'))) \\\n",
    "    .filter(f.col('cnt_users') >= 10) \\\n",
    "    .withColumn('cnt_movies', f.count('movie_id').over(Window.partitionBy('user_id'))) \\\n",
    "    .filter(f.col('cnt_movies') >= 10) \\\n",
    "    .withColumn('rating', f.col('rating') - (MIN_RATING - 1)) \\\n",
    "    .withColumn('user_id', f.col('user_id').cast('INTEGER')) \\\n",
    "    .withColumn('movie_id', f.col('movie_id').cast('INTEGER')) \\\n",
    "    .cache()\n",
    "\n",
    "model_frame.agg(\n",
    "    f.countDistinct('user_id').alias('total_users'),\n",
    "    f.countDistinct('movie_id').alias('total_movies'),\n",
    "    f.count('*').alias('total_ratings')\n",
    ").show()\n",
    "model_frame.groupby('rating').count().sort('rating').show()"
   ]
  },
  {
   "cell_type": "markdown",
   "metadata": {
    "application/vnd.databricks.v1+cell": {
     "cellMetadata": {},
     "inputWidgets": {},
     "nuid": "f65cb00a-5ea6-4aff-9720-a504f1901007",
     "showTitle": false,
     "title": ""
    }
   },
   "source": [
    "### Train the ALS Recommender Model"
   ]
  },
  {
   "cell_type": "code",
   "execution_count": 0,
   "metadata": {
    "application/vnd.databricks.v1+cell": {
     "cellMetadata": {
      "byteLimit": 2048000,
      "rowLimit": 10000
     },
     "inputWidgets": {},
     "nuid": "432e0608-2230-4049-ae8a-0c4e769e4146",
     "showTitle": false,
     "title": ""
    }
   },
   "outputs": [
    {
     "output_type": "stream",
     "name": "stdout",
     "output_type": "stream",
     "text": [
      "Out[11]: ALSModel: uid=ALS_c47afbb0c064, rank=20"
     ]
    }
   ],
   "source": [
    "estimator = ALS(rank=20, maxIter=20, regParam=0.1, implicitPrefs=True, userCol='user_id', itemCol='movie_id', ratingCol='rating', coldStartStrategy='nan')\n",
    "transformer = estimator.fit(model_frame)\n",
    "transformer"
   ]
  },
  {
   "cell_type": "markdown",
   "metadata": {
    "application/vnd.databricks.v1+cell": {
     "cellMetadata": {},
     "inputWidgets": {},
     "nuid": "0e194305-8598-4eec-8e46-6e13c52c717e",
     "showTitle": false,
     "title": ""
    }
   },
   "source": [
    "### Extract The User/Movie Embeddings"
   ]
  },
  {
   "cell_type": "code",
   "execution_count": 0,
   "metadata": {
    "application/vnd.databricks.v1+cell": {
     "cellMetadata": {
      "byteLimit": 2048000,
      "rowLimit": 10000
     },
     "inputWidgets": {},
     "nuid": "11207ec7-7033-4687-a5bc-f6aa972d05e2",
     "showTitle": false,
     "title": ""
    }
   },
   "outputs": [
    {
     "output_type": "stream",
     "name": "stdout",
     "output_type": "stream",
     "text": [
      "Out[12]: (102103, 1382)"
     ]
    }
   ],
   "source": [
    "user_embeddings = transformer.userFactors \\\n",
    "    .withColumn('id', f.col('id').cast('string')) \\\n",
    "    .withColumnRenamed('features', 'values') \\\n",
    "    .toPandas() \\\n",
    "    .to_dict(orient='records')\n",
    "\n",
    "movie_embeddings = transformer.itemFactors \\\n",
    "    .withColumn('id', f.col('id').cast('string')) \\\n",
    "    .withColumnRenamed('features', 'values') \\\n",
    "    .toPandas() \\\n",
    "    .to_dict(orient='records')\n",
    "\n",
    "len(user_embeddings), len(movie_embeddings)"
   ]
  },
  {
   "cell_type": "code",
   "execution_count": 0,
   "metadata": {
    "application/vnd.databricks.v1+cell": {
     "cellMetadata": {
      "byteLimit": 2048000,
      "rowLimit": 10000
     },
     "inputWidgets": {},
     "nuid": "25cdafdf-3d54-44df-9f8b-c5fadb9b1444",
     "showTitle": false,
     "title": ""
    }
   },
   "outputs": [
    {
     "output_type": "stream",
     "name": "stdout",
     "output_type": "stream",
     "text": [
      "Out[13]: {'id': '20',\n 'values': array([-0.05790565,  0.57013506,  0.05492533, -0.25566995,  0.39340326,\n        -0.0469562 , -0.1545669 , -0.11135219, -0.2998827 , -0.04662196,\n         0.21610533,  0.33735046,  0.18087918,  0.03378131, -0.282393  ,\n        -0.06347315, -0.18413539, -0.02516779, -0.05733555, -0.01083682],\n       dtype=float32)}"
     ]
    }
   ],
   "source": [
    "user_embeddings[0]"
   ]
  },
  {
   "cell_type": "markdown",
   "metadata": {
    "application/vnd.databricks.v1+cell": {
     "cellMetadata": {},
     "inputWidgets": {},
     "nuid": "1d97513a-8f57-47ea-be7f-4d46bd93a5f3",
     "showTitle": false,
     "title": ""
    }
   },
   "source": [
    "### Insert the User/Movie Embeddings into Pinecone"
   ]
  },
  {
   "cell_type": "code",
   "execution_count": 0,
   "metadata": {
    "application/vnd.databricks.v1+cell": {
     "cellMetadata": {
      "byteLimit": 2048000,
      "rowLimit": 10000
     },
     "inputWidgets": {},
     "nuid": "0edf2493-2310-4d61-a284-59bdaed8529c",
     "showTitle": false,
     "title": ""
    }
   },
   "outputs": [],
   "source": [
    "import pinecone      \n",
    "pinecone.init(api_key=os.environ[\"PINECONE_API_KEY\"], environment=os.environ[\"PINECONE_ENVIRONMENT\"])   "
   ]
  },
  {
   "cell_type": "code",
   "execution_count": 0,
   "metadata": {
    "application/vnd.databricks.v1+cell": {
     "cellMetadata": {
      "byteLimit": 2048000,
      "rowLimit": 10000
     },
     "inputWidgets": {},
     "nuid": "f278abfb-1582-4d0f-ac85-5a7c94b8cc37",
     "showTitle": false,
     "title": ""
    }
   },
   "outputs": [],
   "source": [
    "# pinecone.delete_index('cf-embed')\n",
    "# pinecone.create_index(name='cf-embed', dimension=20, metric='cosine', pods=1, replicas=1, pod_type=\"p1\")"
   ]
  },
  {
   "cell_type": "code",
   "execution_count": 0,
   "metadata": {
    "application/vnd.databricks.v1+cell": {
     "cellMetadata": {
      "byteLimit": 2048000,
      "rowLimit": 10000
     },
     "inputWidgets": {},
     "nuid": "63c3fdc0-b330-4042-813c-37b628a68b7a",
     "showTitle": false,
     "title": ""
    }
   },
   "outputs": [
    {
     "output_type": "stream",
     "name": "stdout",
     "output_type": "stream",
     "text": [
      "Out[16]: {'dimension': 20,\n 'index_fullness': 0.0,\n 'namespaces': {'movies': {'vector_count': 1382},\n                'users': {'vector_count': 102103}},\n 'total_vector_count': 103485}"
     ]
    }
   ],
   "source": [
    "index = pinecone.Index('cf-embed')\n",
    "index.describe_index_stats()"
   ]
  },
  {
   "cell_type": "code",
   "execution_count": 0,
   "metadata": {
    "application/vnd.databricks.v1+cell": {
     "cellMetadata": {
      "byteLimit": 2048000,
      "rowLimit": 10000
     },
     "inputWidgets": {},
     "nuid": "51dbe809-7140-47a8-8bbc-e9f274bdceac",
     "showTitle": false,
     "title": ""
    }
   },
   "outputs": [
    {
     "output_type": "display_data",
     "data": {
      "application/vnd.jupyter.widget-view+json": {
       "model_id": "37b4dfe05fc84f4a971326093dbab6c1",
       "version_major": 2,
       "version_minor": 0
      },
      "text/plain": [
       "Upserted vectors:   0%|          | 0/102103 [00:00<?, ?it/s]"
      ]
     },
     "metadata": {},
     "output_type": "display_data"
    },
    {
     "output_type": "stream",
     "name": "stderr",
     "output_type": "stream",
     "text": [
      "/local_disk0/.ephemeral_nfs/envs/pythonEnv-0d7f1e01-a163-49ab-9724-4d214c842502/lib/python3.9/site-packages/pinecone/core/utils/__init__.py:113: FutureWarning: DEPRECATED since v2.2.1 [Will be removed in v3.0.0]: Deprecated type passed in 'values'. The ability to pass a numpy ndarray as part of a dictionary argument to upsert() will be removed in a future version of the pinecone client. To remove this warning, use the numpy.ndarray.tolist method to convert your ndarray into a python list before calling upsert().\n  warnings.warn(message, FutureWarning)\n"
     ]
    },
    {
     "output_type": "stream",
     "name": "stdout",
     "output_type": "stream",
     "text": [
      "Out[17]: {'upserted_count': 102103}"
     ]
    }
   ],
   "source": [
    "index.upsert(vectors=user_embeddings, namespace=\"users\", batch_size=100)"
   ]
  },
  {
   "cell_type": "code",
   "execution_count": 0,
   "metadata": {
    "application/vnd.databricks.v1+cell": {
     "cellMetadata": {
      "byteLimit": 2048000,
      "rowLimit": 10000
     },
     "inputWidgets": {},
     "nuid": "037d0e1d-e7de-4aec-9630-ee9bb3345ae7",
     "showTitle": false,
     "title": ""
    }
   },
   "outputs": [
    {
     "output_type": "display_data",
     "data": {
      "application/vnd.jupyter.widget-view+json": {
       "model_id": "8c736010499a4df59ec575a4e92df042",
       "version_major": 2,
       "version_minor": 0
      },
      "text/plain": [
       "Upserted vectors:   0%|          | 0/1382 [00:00<?, ?it/s]"
      ]
     },
     "metadata": {},
     "output_type": "display_data"
    },
    {
     "output_type": "stream",
     "name": "stdout",
     "output_type": "stream",
     "text": [
      "Out[18]: {'upserted_count': 1382}"
     ]
    }
   ],
   "source": [
    "index.upsert(vectors=movie_embeddings, namespace=\"movies\", batch_size=100)"
   ]
  },
  {
   "cell_type": "code",
   "execution_count": 0,
   "metadata": {
    "application/vnd.databricks.v1+cell": {
     "cellMetadata": {
      "byteLimit": 2048000,
      "rowLimit": 10000
     },
     "inputWidgets": {},
     "nuid": "60ed05ea-d897-40ca-83db-4b06b9778cc0",
     "showTitle": false,
     "title": ""
    }
   },
   "outputs": [
    {
     "output_type": "stream",
     "name": "stdout",
     "output_type": "stream",
     "text": [
      "Out[27]: {'dimension': 20,\n 'index_fullness': 0.0,\n 'namespaces': {'movies': {'vector_count': 1382},\n                'users': {'vector_count': 102103}},\n 'total_vector_count': 103485}"
     ]
    }
   ],
   "source": [
    "index.describe_index_stats()"
   ]
  },
  {
   "cell_type": "markdown",
   "metadata": {
    "application/vnd.databricks.v1+cell": {
     "cellMetadata": {},
     "inputWidgets": {},
     "nuid": "d7fe251d-819e-42a9-97df-5f6aaa9fbc69",
     "showTitle": false,
     "title": ""
    }
   },
   "source": [
    "### Test the Query Functionality"
   ]
  },
  {
   "cell_type": "code",
   "execution_count": 0,
   "metadata": {
    "application/vnd.databricks.v1+cell": {
     "cellMetadata": {
      "byteLimit": 2048000,
      "rowLimit": 10000
     },
     "inputWidgets": {},
     "nuid": "268f7ef2-c295-422a-91ff-e1dd9db7fb27",
     "showTitle": false,
     "title": ""
    }
   },
   "outputs": [
    {
     "output_type": "stream",
     "name": "stdout",
     "output_type": "stream",
     "text": [
      "Out[20]: [{'id': '20', 'score': 1.00000012, 'values': []},\n {'id': '192522', 'score': 0.909715772, 'values': []},\n {'id': '6244', 'score': 0.905727327, 'values': []},\n {'id': '41', 'score': 0.905266404, 'values': []},\n {'id': '248850', 'score': 0.904566705, 'values': []},\n {'id': '24256', 'score': 0.903814316, 'values': []},\n {'id': '173611', 'score': 0.903347969, 'values': []},\n {'id': '80342', 'score': 0.902463555, 'values': []},\n {'id': '194328', 'score': 0.902438939, 'values': []},\n {'id': '142376', 'score': 0.894477427, 'values': []}]"
     ]
    }
   ],
   "source": [
    "index.query(namespace='users', id='20', top_k=10)['matches']"
   ]
  },
  {
   "cell_type": "code",
   "execution_count": 0,
   "metadata": {
    "application/vnd.databricks.v1+cell": {
     "cellMetadata": {
      "byteLimit": 2048000,
      "rowLimit": 10000
     },
     "inputWidgets": {},
     "nuid": "d84b8952-3af9-4ea3-8797-be7ffcc8c081",
     "showTitle": false,
     "title": ""
    }
   },
   "outputs": [
    {
     "output_type": "stream",
     "name": "stdout",
     "output_type": "stream",
     "text": [
      "Out[21]: [{'id': '63', 'score': 1.00000012, 'values': []},\n {'id': '88', 'score': 0.946648419, 'values': []},\n {'id': '1439', 'score': 0.900474, 'values': []},\n {'id': '710', 'score': 0.884406686, 'values': []},\n {'id': '829', 'score': 0.854542, 'values': []},\n {'id': '75', 'score': 0.85163331, 'values': []},\n {'id': '840', 'score': 0.849387765, 'values': []},\n {'id': '663', 'score': 0.839607358, 'values': []},\n {'id': '619', 'score': 0.837498069, 'values': []},\n {'id': '782', 'score': 0.835884154, 'values': []}]"
     ]
    }
   ],
   "source": [
    "matches = index.query(namespace='movies', id='63', top_k=10)['matches']\n",
    "matches"
   ]
  },
  {
   "cell_type": "code",
   "execution_count": 0,
   "metadata": {
    "application/vnd.databricks.v1+cell": {
     "cellMetadata": {
      "byteLimit": 2048000,
      "rowLimit": 10000
     },
     "inputWidgets": {},
     "nuid": "418ee981-caca-4f9d-963b-2a9d7846212e",
     "showTitle": false,
     "title": ""
    }
   },
   "outputs": [
    {
     "output_type": "stream",
     "name": "stdout",
     "output_type": "stream",
     "text": [
      "+----+---------+--------------------+------------+----------+--------------------+--------------------+-------+------------+----------+\n|  id|  imdb_id|               title|release_date|popularity|              genres|            overview|runtime|vote_average|vote_count|\n+----+---------+--------------------+------------+----------+--------------------+--------------------+-------+------------+----------+\n| 710|tt0113189|           GoldenEye|  1995-11-16| 14.686036|[Adventure, Actio...|James Bond must u...|  130.0|         6.6|      1194|\n|  63|tt0114746|      Twelve Monkeys|  1995-12-29| 12.297305|[Science Fiction,...|In the year 2035,...|  129.0|         7.4|      2470|\n|  88|tt0092890|       Dirty Dancing|  1987-08-21| 14.044122|[Drama, Music, Ro...|Expecting the usu...|  100.0|         7.1|      1371|\n| 829|tt0071315|           Chinatown|  1974-06-20|  12.29227|[Crime, Drama, My...|Private eye Jake ...|  130.0|         7.9|       939|\n|  75|tt0116996|       Mars Attacks!|  1996-12-12|  15.63424|[Comedy, Fantasy,...|'We come in peace...|  106.0|         6.1|      1544|\n| 782|tt0119177|             Gattaca|  1997-09-07|  12.89312|[Thriller, Scienc...|Science fiction d...|  106.0|         7.5|      1846|\n|1439|tt0166485|   Anna and the King|  1999-12-16|  17.65016|[Drama, History, ...|The story of the ...|  148.0|         6.4|       204|\n| 619|tt0103855|       The Bodyguard|  1992-11-25|  9.805017|[Thriller, Action...|A former Secret S...|  129.0|         6.2|       681|\n| 840|tt0075860|Close Encounters ...|  1977-11-16| 10.610446|[Science Fiction,...|After an encounte...|  135.0|         7.2|      1122|\n| 663|tt0890870|              Saw IV|  2007-10-25| 12.233863|[Horror, Thriller...|Jigsaw and his ap...|   93.0|         5.9|       938|\n+----+---------+--------------------+------------+----------+--------------------+--------------------+-------+------------+----------+\n\n"
     ]
    }
   ],
   "source": [
    "metadata.filter(f.col('id').isin([movie['id'] for movie in matches])).show()"
   ]
  },
  {
   "cell_type": "markdown",
   "metadata": {
    "application/vnd.databricks.v1+cell": {
     "cellMetadata": {},
     "inputWidgets": {},
     "nuid": "912d796d-6037-4bf6-8e63-e5f47e959102",
     "showTitle": false,
     "title": ""
    }
   },
   "source": [
    "### Save the Clean Ratings and Metadata Data to DBFS"
   ]
  },
  {
   "cell_type": "code",
   "execution_count": 0,
   "metadata": {
    "application/vnd.databricks.v1+cell": {
     "cellMetadata": {
      "byteLimit": 2048000,
      "rowLimit": 10000
     },
     "inputWidgets": {},
     "nuid": "c2570940-9754-49f3-ac6d-986c8c86fdc4",
     "showTitle": false,
     "title": ""
    }
   },
   "outputs": [],
   "source": [
    "metadata.write.parquet(\"dbfs:/FileStore/data/clean/metadata\", mode='overwrite')"
   ]
  },
  {
   "cell_type": "code",
   "execution_count": 0,
   "metadata": {
    "application/vnd.databricks.v1+cell": {
     "cellMetadata": {
      "byteLimit": 2048000,
      "rowLimit": 10000
     },
     "inputWidgets": {},
     "nuid": "54574695-a487-4414-804b-44445e045387",
     "showTitle": false,
     "title": ""
    }
   },
   "outputs": [],
   "source": [
    "ratings.write.parquet(\"dbfs:/FileStore/data/clean/ratings\", mode='overwrite')"
   ]
  },
  {
   "cell_type": "code",
   "execution_count": 0,
   "metadata": {
    "application/vnd.databricks.v1+cell": {
     "cellMetadata": {},
     "inputWidgets": {},
     "nuid": "fac12333-30f1-4fb3-a017-74b5990bafb1",
     "showTitle": false,
     "title": ""
    }
   },
   "outputs": [],
   "source": []
  }
 ],
 "metadata": {
  "application/vnd.databricks.v1+notebook": {
   "dashboards": [],
   "language": "python",
   "notebookMetadata": {
    "pythonIndentUnit": 4
   },
   "notebookName": "create-cf-embeddings",
   "widgets": {}
  },
  "kernelspec": {
   "display_name": "Python 3 (ipykernel)",
   "language": "python",
   "name": "python3"
  },
  "language_info": {
   "codemirror_mode": {
    "name": "ipython",
    "version": 3
   },
   "file_extension": ".py",
   "mimetype": "text/x-python",
   "name": "python",
   "nbconvert_exporter": "python",
   "pygments_lexer": "ipython3",
   "version": "3.9.16"
  }
 },
 "nbformat": 4,
 "nbformat_minor": 0
}
