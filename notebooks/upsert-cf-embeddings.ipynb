{
 "cells": [
  {
   "cell_type": "markdown",
   "id": "13b7767a-3474-4f87-8478-61aaee28ceaf",
   "metadata": {},
   "source": [
    "### Notebook Set-Up"
   ]
  },
  {
   "cell_type": "code",
   "execution_count": 1,
   "id": "0a66338a-2939-4663-917c-cb9760c1be97",
   "metadata": {},
   "outputs": [],
   "source": [
    "import os\n",
    "import json\n",
    "\n",
    "from typing import List, Dict\n",
    "from dotenv import load_dotenv\n",
    "\n",
    "from pyspark.sql import SparkSession\n",
    "from pyspark.sql import functions as f\n",
    "from pyspark.sql.window import Window\n",
    "\n",
    "from pyspark.ml.recommendation import ALS"
   ]
  },
  {
   "cell_type": "code",
   "execution_count": 2,
   "id": "5c11c81e-4745-4660-ad49-8bb962d790cb",
   "metadata": {},
   "outputs": [
    {
     "name": "stderr",
     "output_type": "stream",
     "text": [
      "Setting default log level to \"WARN\".\n",
      "To adjust logging level use sc.setLogLevel(newLevel). For SparkR, use setLogLevel(newLevel).\n"
     ]
    },
    {
     "name": "stdout",
     "output_type": "stream",
     "text": [
      "23/10/16 21:26:18 WARN NativeCodeLoader: Unable to load native-hadoop library for your platform... using builtin-java classes where applicable\n",
      "23/10/16 21:26:19 WARN Utils: Service 'SparkUI' could not bind on port 4040. Attempting port 4041.\n"
     ]
    },
    {
     "data": {
      "text/html": [
       "\n",
       "            <div>\n",
       "                <p><b>SparkSession - in-memory</b></p>\n",
       "                \n",
       "        <div>\n",
       "            <p><b>SparkContext</b></p>\n",
       "\n",
       "            <p><a href=\"http://localhost:4041\">Spark UI</a></p>\n",
       "\n",
       "            <dl>\n",
       "              <dt>Version</dt>\n",
       "                <dd><code>v3.3.2</code></dd>\n",
       "              <dt>Master</dt>\n",
       "                <dd><code>local[*]</code></dd>\n",
       "              <dt>AppName</dt>\n",
       "                <dd><code>pyspark-shell</code></dd>\n",
       "            </dl>\n",
       "        </div>\n",
       "        \n",
       "            </div>\n",
       "        "
      ],
      "text/plain": [
       "<pyspark.sql.session.SparkSession at 0x10fb78d60>"
      ]
     },
     "execution_count": 2,
     "metadata": {},
     "output_type": "execute_result"
    }
   ],
   "source": [
    "spark = SparkSession.builder.getOrCreate()\n",
    "spark.sparkContext.setLogLevel(\"error\")\n",
    "spark"
   ]
  },
  {
   "cell_type": "code",
   "execution_count": 3,
   "id": "8f409715-7595-4cb6-a9d3-8734fef57858",
   "metadata": {},
   "outputs": [
    {
     "data": {
      "text/plain": [
       "True"
      ]
     },
     "execution_count": 3,
     "metadata": {},
     "output_type": "execute_result"
    }
   ],
   "source": [
    "load_dotenv() "
   ]
  },
  {
   "cell_type": "markdown",
   "id": "c21ee70c-afc0-4600-8859-f46a4996ba7c",
   "metadata": {},
   "source": [
    "### Load Input Data"
   ]
  },
  {
   "cell_type": "code",
   "execution_count": 4,
   "id": "dd6f5a0c-94f7-4f72-b37b-f588a8e30852",
   "metadata": {},
   "outputs": [
    {
     "name": "stderr",
     "output_type": "stream",
     "text": [
      "                                                                                \r"
     ]
    },
    {
     "name": "stdout",
     "output_type": "stream",
     "text": [
      "root\n",
      " |-- userId: integer (nullable = true)\n",
      " |-- movieId: integer (nullable = true)\n",
      " |-- rating: double (nullable = true)\n",
      " |-- timestamp: string (nullable = true)\n",
      "\n",
      "+------+-------+------+-------------------+\n",
      "|userId|movieId|rating|timestamp          |\n",
      "+------+-------+------+-------------------+\n",
      "|1     |31     |2.5   |2009-12-13 18:52:24|\n",
      "|1     |1029   |3.0   |2009-12-13 18:52:59|\n",
      "|1     |1061   |3.0   |2009-12-13 18:53:02|\n",
      "|1     |1129   |2.0   |2009-12-13 18:53:05|\n",
      "|1     |1172   |4.0   |2009-12-13 18:53:25|\n",
      "+------+-------+------+-------------------+\n",
      "only showing top 5 rows\n",
      "\n"
     ]
    },
    {
     "data": {
      "text/plain": [
       "100004"
      ]
     },
     "execution_count": 4,
     "metadata": {},
     "output_type": "execute_result"
    }
   ],
   "source": [
    "ratings_path = \"../data/ratings_small.csv\"\n",
    "ratings = spark.read.csv(ratings_path, header=True, inferSchema=True)\n",
    "ratings = ratings.withColumn('timestamp', f.from_unixtime('timestamp'))\n",
    "\n",
    "ratings.printSchema()\n",
    "ratings.show(5, truncate=False)\n",
    "ratings.count()"
   ]
  },
  {
   "cell_type": "code",
   "execution_count": 5,
   "id": "41b39013-e016-4ac3-ba00-1d66c37cf11b",
   "metadata": {},
   "outputs": [
    {
     "name": "stderr",
     "output_type": "stream",
     "text": [
      "                                                                                \r"
     ]
    },
    {
     "name": "stdout",
     "output_type": "stream",
     "text": [
      "+-----------+------------+-------------+\n",
      "|total_users|total_movies|total_ratings|\n",
      "+-----------+------------+-------------+\n",
      "|        671|        9066|       100004|\n",
      "+-----------+------------+-------------+\n",
      "\n",
      "+------+-----+\n",
      "|rating|count|\n",
      "+------+-----+\n",
      "|   0.5| 1101|\n",
      "|   1.0| 3326|\n",
      "|   1.5| 1687|\n",
      "|   2.0| 7271|\n",
      "|   2.5| 4449|\n",
      "|   3.0|20064|\n",
      "|   3.5|10538|\n",
      "|   4.0|28750|\n",
      "|   4.5| 7723|\n",
      "|   5.0|15095|\n",
      "+------+-----+\n",
      "\n"
     ]
    }
   ],
   "source": [
    "ratings.agg(\n",
    "    f.countDistinct('userId').alias('total_users'),\n",
    "    f.countDistinct('movieId').alias('total_movies'),\n",
    "    f.count('*').alias('total_ratings')\n",
    ").show()\n",
    "ratings.groupby('rating').count().sort('rating').show()"
   ]
  },
  {
   "cell_type": "markdown",
   "id": "98ebdee5-29e7-4e84-9f98-224bbf07f41a",
   "metadata": {},
   "source": [
    "### Convert to an Implicit Feedback Dataset"
   ]
  },
  {
   "cell_type": "code",
   "execution_count": 6,
   "id": "c905a582-5819-4a07-890d-d8584d58079b",
   "metadata": {},
   "outputs": [],
   "source": [
    "MIN_RATING = 3\n",
    "MIN_USERS = 10\n",
    "MIN_MOVIES = 10"
   ]
  },
  {
   "cell_type": "code",
   "execution_count": 7,
   "id": "eb6592e8-00ce-4778-85c5-379c68778ca0",
   "metadata": {},
   "outputs": [
    {
     "name": "stderr",
     "output_type": "stream",
     "text": [
      "                                                                                \r"
     ]
    },
    {
     "name": "stdout",
     "output_type": "stream",
     "text": [
      "+-----------+------------+-------------+\n",
      "|total_users|total_movies|total_ratings|\n",
      "+-----------+------------+-------------+\n",
      "|        660|        1862|        66021|\n",
      "+-----------+------------+-------------+\n",
      "\n"
     ]
    },
    {
     "name": "stderr",
     "output_type": "stream",
     "text": [
      "[Stage 29:====================================================> (193 + 7) / 200]\r"
     ]
    },
    {
     "name": "stdout",
     "output_type": "stream",
     "text": [
      "+------+-----+\n",
      "|rating|count|\n",
      "+------+-----+\n",
      "|   1.0|15218|\n",
      "|   1.5| 7931|\n",
      "|   2.0|23338|\n",
      "|   2.5| 6367|\n",
      "|   3.0|13167|\n",
      "+------+-----+\n",
      "\n"
     ]
    },
    {
     "name": "stderr",
     "output_type": "stream",
     "text": [
      "                                                                                \r"
     ]
    }
   ],
   "source": [
    "ratings = ratings \\\n",
    "    .filter(f.col('rating') >= MIN_RATING) \\\n",
    "    .withColumn('cnt_users', f.count('userId').over(Window.partitionBy('movieId'))) \\\n",
    "    .filter(f.col('cnt_users') >= 10) \\\n",
    "    .withColumn('cnt_movies', f.count('movieId').over(Window.partitionBy('userId'))) \\\n",
    "    .filter(f.col('cnt_movies') >= 10) \\\n",
    "    .withColumn('rating', f.col('rating') - (MIN_RATING - 1)) \\\n",
    "    .cache()\n",
    "\n",
    "ratings.agg(\n",
    "    f.countDistinct('userId').alias('total_users'),\n",
    "    f.countDistinct('movieId').alias('total_movies'),\n",
    "    f.count('*').alias('total_ratings')\n",
    ").show()\n",
    "ratings.groupby('rating').count().sort('rating').show()"
   ]
  },
  {
   "cell_type": "markdown",
   "id": "fb6f1bf0-cac6-4d1b-9067-e87d65eb5698",
   "metadata": {},
   "source": [
    "### Train the ALS Recommender Model"
   ]
  },
  {
   "cell_type": "code",
   "execution_count": 8,
   "id": "2c18abfd-9bba-43e4-9d13-f7b7d8d3dd12",
   "metadata": {},
   "outputs": [
    {
     "name": "stderr",
     "output_type": "stream",
     "text": [
      "                                                                                \r"
     ]
    },
    {
     "data": {
      "text/plain": [
       "ALSModel: uid=ALS_45689656b171, rank=20"
      ]
     },
     "execution_count": 8,
     "metadata": {},
     "output_type": "execute_result"
    }
   ],
   "source": [
    "estimator = ALS(rank=20, maxIter=20, regParam=0.1, implicitPrefs=True, userCol='userId', itemCol='movieId', ratingCol='rating', coldStartStrategy='nan')\n",
    "transformer = estimator.fit(ratings)\n",
    "transformer"
   ]
  },
  {
   "cell_type": "markdown",
   "id": "2aa2d158-e0b9-4979-808f-1972f15e8f5e",
   "metadata": {},
   "source": [
    "### Extract The User/Movie Embeddings"
   ]
  },
  {
   "cell_type": "code",
   "execution_count": 9,
   "id": "e3745046-fb70-4d66-b2e4-92d59f1f15fd",
   "metadata": {},
   "outputs": [
    {
     "data": {
      "text/plain": [
       "(660, 1862)"
      ]
     },
     "execution_count": 9,
     "metadata": {},
     "output_type": "execute_result"
    }
   ],
   "source": [
    "user_embeddings = transformer.userFactors \\\n",
    "    .withColumn('id', f.col('id').cast('string')) \\\n",
    "    .withColumnRenamed('features', 'values') \\\n",
    "    .toPandas() \\\n",
    "    .to_dict(orient='records')\n",
    "\n",
    "movie_embeddings = transformer.itemFactors \\\n",
    "    .withColumn('id', f.col('id').cast('string')) \\\n",
    "    .withColumnRenamed('features', 'values') \\\n",
    "    .toPandas() \\\n",
    "    .to_dict(orient='records')\n",
    "\n",
    "len(user_embeddings), len(movie_embeddings)"
   ]
  },
  {
   "cell_type": "code",
   "execution_count": 10,
   "id": "4ab192de-be13-47c7-acd6-182a9efa3ad3",
   "metadata": {},
   "outputs": [
    {
     "data": {
      "text/plain": [
       "{'id': '10',\n",
       " 'values': [-0.06223471835255623,\n",
       "  0.058902062475681305,\n",
       "  0.07113000750541687,\n",
       "  -0.19392582774162292,\n",
       "  -0.02988211065530777,\n",
       "  -0.17706599831581116,\n",
       "  0.24346260726451874,\n",
       "  -0.10334749519824982,\n",
       "  -0.24157141149044037,\n",
       "  -0.01667705550789833,\n",
       "  0.020632153376936913,\n",
       "  -0.21882857382297516,\n",
       "  0.008991416543722153,\n",
       "  0.10517088323831558,\n",
       "  -0.003086844924837351,\n",
       "  0.010951409116387367,\n",
       "  -0.018499843776226044,\n",
       "  0.0952700823545456,\n",
       "  0.05312608927488327,\n",
       "  -0.006292677950114012]}"
      ]
     },
     "execution_count": 10,
     "metadata": {},
     "output_type": "execute_result"
    }
   ],
   "source": [
    "user_embeddings[0]"
   ]
  },
  {
   "cell_type": "markdown",
   "id": "73dd6ff0-c478-420f-b4bc-00cc5943e53f",
   "metadata": {},
   "source": [
    "### Insert the User/Movie Embeddings into Pinecone"
   ]
  },
  {
   "cell_type": "code",
   "execution_count": 11,
   "id": "40d10699-aa85-4387-81a1-57db5db346da",
   "metadata": {},
   "outputs": [
    {
     "name": "stderr",
     "output_type": "stream",
     "text": [
      "/Users/ericlundquist/anaconda3/envs/fabriq_monorepo/lib/python3.9/site-packages/pinecone/index.py:4: TqdmExperimentalWarning: Using `tqdm.autonotebook.tqdm` in notebook mode. Use `tqdm.tqdm` instead to force console mode (e.g. in jupyter console)\n",
      "  from tqdm.autonotebook import tqdm\n"
     ]
    },
    {
     "data": {
      "text/plain": [
       "<pinecone.index.Index at 0x101549070>"
      ]
     },
     "execution_count": 11,
     "metadata": {},
     "output_type": "execute_result"
    }
   ],
   "source": [
    "import pinecone      \n",
    "pinecone.init(api_key=os.environ[\"PINECONE_API_KEY\"], environment=os.environ[\"PINECONE_ENVIRONMENT\"])      \n",
    "index = pinecone.Index('cf-embed')\n",
    "index"
   ]
  },
  {
   "cell_type": "code",
   "execution_count": 12,
   "id": "46b84314-ce24-43e3-ba69-88f8cb122bd0",
   "metadata": {},
   "outputs": [
    {
     "data": {
      "application/vnd.jupyter.widget-view+json": {
       "model_id": "1bcd0518a2104a32b526e8d45a56d030",
       "version_major": 2,
       "version_minor": 0
      },
      "text/plain": [
       "Upserted vectors:   0%|          | 0/660 [00:00<?, ?it/s]"
      ]
     },
     "metadata": {},
     "output_type": "display_data"
    },
    {
     "data": {
      "text/plain": [
       "{'upserted_count': 660}"
      ]
     },
     "execution_count": 12,
     "metadata": {},
     "output_type": "execute_result"
    }
   ],
   "source": [
    "index.upsert(vectors=user_embeddings, namespace=\"users\", batch_size=100)"
   ]
  },
  {
   "cell_type": "code",
   "execution_count": 13,
   "id": "609760ec-0389-4179-bae2-d4f3eac9b665",
   "metadata": {},
   "outputs": [
    {
     "data": {
      "application/vnd.jupyter.widget-view+json": {
       "model_id": "7a5dac1222014563822d78a69036a194",
       "version_major": 2,
       "version_minor": 0
      },
      "text/plain": [
       "Upserted vectors:   0%|          | 0/1862 [00:00<?, ?it/s]"
      ]
     },
     "metadata": {},
     "output_type": "display_data"
    },
    {
     "data": {
      "text/plain": [
       "{'upserted_count': 1862}"
      ]
     },
     "execution_count": 13,
     "metadata": {},
     "output_type": "execute_result"
    }
   ],
   "source": [
    "index.upsert(vectors=movie_embeddings, namespace=\"movies\", batch_size=100)"
   ]
  },
  {
   "cell_type": "markdown",
   "id": "c4dd4bee-b60a-452e-8e6e-baa805257468",
   "metadata": {},
   "source": [
    "### Test the Query Functionality"
   ]
  },
  {
   "cell_type": "code",
   "execution_count": 14,
   "id": "15973d93-d452-4ce7-b361-83171979326c",
   "metadata": {},
   "outputs": [
    {
     "data": {
      "text/plain": [
       "{'matches': [{'id': '10', 'score': 1.00000012, 'values': []},\n",
       "             {'id': '271', 'score': 0.844474137, 'values': []},\n",
       "             {'id': '425', 'score': 0.829484522, 'values': []},\n",
       "             {'id': '74', 'score': 0.797080636, 'values': []},\n",
       "             {'id': '101', 'score': 0.794035, 'values': []},\n",
       "             {'id': '116', 'score': 0.789813, 'values': []},\n",
       "             {'id': '237', 'score': 0.782995045, 'values': []},\n",
       "             {'id': '651', 'score': 0.780538201, 'values': []},\n",
       "             {'id': '260', 'score': 0.777691126, 'values': []},\n",
       "             {'id': '277', 'score': 0.759184182, 'values': []}],\n",
       " 'namespace': 'users'}"
      ]
     },
     "execution_count": 14,
     "metadata": {},
     "output_type": "execute_result"
    }
   ],
   "source": [
    "index.query(namespace='users', id='10', top_k=10)"
   ]
  },
  {
   "cell_type": "code",
   "execution_count": 15,
   "id": "36ee92a1-fd03-47c0-a12f-d39e0ba1e9dd",
   "metadata": {},
   "outputs": [
    {
     "data": {
      "text/plain": [
       "{'matches': [{'id': '2571', 'score': 0.741118371, 'values': []},\n",
       "             {'id': '1196', 'score': 0.723255754, 'values': []},\n",
       "             {'id': '1198', 'score': 0.717089295, 'values': []},\n",
       "             {'id': '2028', 'score': 0.673573196, 'values': []},\n",
       "             {'id': '1210', 'score': 0.654001296, 'values': []},\n",
       "             {'id': '260', 'score': 0.648884952, 'values': []},\n",
       "             {'id': '2762', 'score': 0.638979614, 'values': []},\n",
       "             {'id': '1270', 'score': 0.621263206, 'values': []},\n",
       "             {'id': '318', 'score': 0.608622491, 'values': []},\n",
       "             {'id': '593', 'score': 0.588954, 'values': []}],\n",
       " 'namespace': 'movies'}"
      ]
     },
     "execution_count": 15,
     "metadata": {},
     "output_type": "execute_result"
    }
   ],
   "source": [
    "index.query(namespace='movies', vector=user_embeddings[0]['values'], top_k=10)"
   ]
  },
  {
   "cell_type": "code",
   "execution_count": null,
   "id": "b83c0ab9-cb49-4718-bbac-7e66088987f7",
   "metadata": {},
   "outputs": [],
   "source": []
  }
 ],
 "metadata": {
  "kernelspec": {
   "display_name": "Python 3 (ipykernel)",
   "language": "python",
   "name": "python3"
  },
  "language_info": {
   "codemirror_mode": {
    "name": "ipython",
    "version": 3
   },
   "file_extension": ".py",
   "mimetype": "text/x-python",
   "name": "python",
   "nbconvert_exporter": "python",
   "pygments_lexer": "ipython3",
   "version": "3.9.16"
  }
 },
 "nbformat": 4,
 "nbformat_minor": 5
}
