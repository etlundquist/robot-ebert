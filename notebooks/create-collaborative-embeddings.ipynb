{
 "cells": [
  {
   "cell_type": "markdown",
   "metadata": {
    "application/vnd.databricks.v1+cell": {
     "cellMetadata": {},
     "inputWidgets": {},
     "nuid": "bb601ce6-f290-42ea-90a6-ca550d38e3ca",
     "showTitle": false,
     "title": ""
    }
   },
   "source": [
    "### Set Up Notebook"
   ]
  },
  {
   "cell_type": "markdown",
   "metadata": {
    "application/vnd.databricks.v1+cell": {
     "cellMetadata": {},
     "inputWidgets": {},
     "nuid": "d89d1a2f-ce6b-4b4e-8779-eb60c1c7676d",
     "showTitle": false,
     "title": ""
    }
   },
   "source": [
    "#### Import Required Modules"
   ]
  },
  {
   "cell_type": "code",
   "execution_count": 0,
   "metadata": {
    "application/vnd.databricks.v1+cell": {
     "cellMetadata": {
      "byteLimit": 2048000,
      "rowLimit": 10000
     },
     "inputWidgets": {},
     "nuid": "adbc3289-2f87-4aee-a6cc-6f1366256b2a",
     "showTitle": false,
     "title": ""
    }
   },
   "outputs": [],
   "source": [
    "# %pip install pinecone-client python-dotenv"
   ]
  },
  {
   "cell_type": "code",
   "execution_count": 0,
   "metadata": {
    "application/vnd.databricks.v1+cell": {
     "cellMetadata": {
      "byteLimit": 2048000,
      "rowLimit": 10000
     },
     "inputWidgets": {},
     "nuid": "7ad92141-2202-40f0-8029-bebb8b63e18b",
     "showTitle": false,
     "title": ""
    }
   },
   "outputs": [],
   "source": [
    "import os\n",
    "import json\n",
    "\n",
    "from typing import List, Dict\n",
    "from dotenv import load_dotenv\n",
    "\n",
    "from pyspark.sql import SparkSession\n",
    "from pyspark.sql import functions as f\n",
    "from pyspark.sql.window import Window\n",
    "\n",
    "from pyspark.ml.recommendation import ALS"
   ]
  },
  {
   "cell_type": "markdown",
   "metadata": {
    "application/vnd.databricks.v1+cell": {
     "cellMetadata": {},
     "inputWidgets": {},
     "nuid": "8de77a0b-a968-4306-a01f-cbf21973a372",
     "showTitle": false,
     "title": ""
    }
   },
   "source": [
    "#### Get or Create SparkSession"
   ]
  },
  {
   "cell_type": "code",
   "execution_count": 0,
   "metadata": {
    "application/vnd.databricks.v1+cell": {
     "cellMetadata": {
      "byteLimit": 2048000,
      "rowLimit": 10000
     },
     "inputWidgets": {},
     "nuid": "fcc0d9be-c3dd-4fbb-ba4f-5a413ce03d97",
     "showTitle": false,
     "title": ""
    }
   },
   "outputs": [
    {
     "output_type": "display_data",
     "data": {
      "text/html": [
       "\n",
       "            <div>\n",
       "                <p><b>SparkSession - hive</b></p>\n",
       "                \n",
       "        <div>\n",
       "            <p><b>SparkContext</b></p>\n",
       "\n",
       "            <p><a href=\"/?o=8355974179873438#setting/sparkui/1017-161542-o0dq748r/driver-8863286062915118277\">Spark UI</a></p>\n",
       "\n",
       "            <dl>\n",
       "              <dt>Version</dt>\n",
       "                <dd><code>v3.3.2</code></dd>\n",
       "              <dt>Master</dt>\n",
       "                <dd><code>spark://driver-proxy:7077</code></dd>\n",
       "              <dt>AppName</dt>\n",
       "                <dd><code>Databricks Shell</code></dd>\n",
       "            </dl>\n",
       "        </div>\n",
       "        \n",
       "            </div>\n",
       "        "
      ]
     },
     "metadata": {
      "application/vnd.databricks.v1+output": {
       "addedWidgets": {},
       "arguments": {},
       "data": "\n            <div>\n                <p><b>SparkSession - hive</b></p>\n                \n        <div>\n            <p><b>SparkContext</b></p>\n\n            <p><a href=\"/?o=8355974179873438#setting/sparkui/1017-161542-o0dq748r/driver-8863286062915118277\">Spark UI</a></p>\n\n            <dl>\n              <dt>Version</dt>\n                <dd><code>v3.3.2</code></dd>\n              <dt>Master</dt>\n                <dd><code>spark://driver-proxy:7077</code></dd>\n              <dt>AppName</dt>\n                <dd><code>Databricks Shell</code></dd>\n            </dl>\n        </div>\n        \n            </div>\n        ",
       "datasetInfos": [],
       "metadata": {},
       "removedWidgets": [],
       "textData": null,
       "type": "htmlSandbox"
      }
     },
     "output_type": "display_data"
    }
   ],
   "source": [
    "spark = SparkSession.builder.getOrCreate()\n",
    "spark.sparkContext.setLogLevel(\"error\")\n",
    "spark"
   ]
  },
  {
   "cell_type": "markdown",
   "metadata": {
    "application/vnd.databricks.v1+cell": {
     "cellMetadata": {},
     "inputWidgets": {},
     "nuid": "3c66a3f9-fe90-46e2-ae65-5100be81faf0",
     "showTitle": false,
     "title": ""
    }
   },
   "source": [
    "#### Load Secrets as Environment Variables"
   ]
  },
  {
   "cell_type": "code",
   "execution_count": 0,
   "metadata": {
    "application/vnd.databricks.v1+cell": {
     "cellMetadata": {
      "byteLimit": 2048000,
      "rowLimit": 10000
     },
     "inputWidgets": {},
     "nuid": "34c6e1a3-0a28-4d1b-92aa-659c6b047bd2",
     "showTitle": false,
     "title": ""
    }
   },
   "outputs": [
    {
     "output_type": "stream",
     "name": "stdout",
     "output_type": "stream",
     "text": [
      "Out[6]: True"
     ]
    }
   ],
   "source": [
    "load_dotenv(\"/dbfs/FileStore/env/.env\")"
   ]
  },
  {
   "cell_type": "markdown",
   "metadata": {
    "application/vnd.databricks.v1+cell": {
     "cellMetadata": {},
     "inputWidgets": {},
     "nuid": "14ce4bd9-572b-4820-b110-d1a17cd1452c",
     "showTitle": false,
     "title": ""
    }
   },
   "source": [
    "#### Set Workflow Constants"
   ]
  },
  {
   "cell_type": "code",
   "execution_count": 0,
   "metadata": {
    "application/vnd.databricks.v1+cell": {
     "cellMetadata": {
      "byteLimit": 2048000,
      "rowLimit": 10000
     },
     "inputWidgets": {},
     "nuid": "fb385ff7-2139-449d-a9a2-c5f6a6f4b5f7",
     "showTitle": false,
     "title": ""
    }
   },
   "outputs": [],
   "source": [
    "MIN_RATING = 3\n",
    "MIN_USERS = 10\n",
    "MIN_MOVIES = 10\n",
    "DIMENSION = 32\n",
    "INDEX_NAME = \"collaborative-embeddings\"\n",
    "CLN_PATH = \"dbfs:/FileStore/data/clean\""
   ]
  },
  {
   "cell_type": "markdown",
   "metadata": {
    "application/vnd.databricks.v1+cell": {
     "cellMetadata": {},
     "inputWidgets": {},
     "nuid": "4c0c228b-1b10-427e-a7db-b1a6cd55f8ca",
     "showTitle": false,
     "title": ""
    }
   },
   "source": [
    "### Create Model Frame "
   ]
  },
  {
   "cell_type": "markdown",
   "metadata": {
    "application/vnd.databricks.v1+cell": {
     "cellMetadata": {},
     "inputWidgets": {},
     "nuid": "5c968040-f53a-4e5c-9f09-9817298a2866",
     "showTitle": false,
     "title": ""
    }
   },
   "source": [
    "#### Import Clean Data"
   ]
  },
  {
   "cell_type": "code",
   "execution_count": 0,
   "metadata": {
    "application/vnd.databricks.v1+cell": {
     "cellMetadata": {
      "byteLimit": 2048000,
      "rowLimit": 10000
     },
     "inputWidgets": {},
     "nuid": "a5a79c63-d385-4040-8347-d1660881311f",
     "showTitle": false,
     "title": ""
    }
   },
   "outputs": [
    {
     "output_type": "stream",
     "name": "stdout",
     "output_type": "stream",
     "text": [
      "+-------+--------------------+------------+-------+--------------------+--------------------+---------+---------+----------+------------+----------+--------------------+\n|tmdb_id|               title|release_date|runtime|              genres|            overview|   budget|  revenue|popularity|vote_average|vote_count|            keywords|\n+-------+--------------------+------------+-------+--------------------+--------------------+---------+---------+----------+------------+----------+--------------------+\n|  10010|      Brother Bear 2|  2006-08-17|   73.0|[Adventure, Anima...|Kenai finds his c...|     null|     null| 10.861154|         6.3|       318|[grizzly bear, hu...|\n|  10012|              Cursed|  2005-02-25|   97.0|    [Horror, Comedy]|A werewolf loose ...| 35000000| 19294901|  8.949722|         5.1|       168|[brother sister r...|\n| 100402|Captain America: ...|  2014-03-20|  136.0|[Action, Adventur...|After the catacly...|170000000|714766572| 18.717704|         7.6|      5881|[washington d.c.,...|\n|  10068|      Nine 1/2 Weeks|  1986-02-14|  117.0|    [Drama, Romance]|An erotic story a...| 17000000|  6735922|  6.706262|         5.8|       183|                null|\n|  10096|      13 Going on 30|  2004-04-13|   98.0|[Comedy, Fantasy,...|After total humil...| 37000000| 96455697| 12.632595|         6.3|      1260|[new york, photog...|\n|  10110|   Empire of the Sun|  1987-12-09|  153.0|[Drama, History, ...|Jamie Graham, a p...| 35000000| 22238696| 10.220906|         7.3|       491|[japan, stadium, ...|\n| 101325|          The Forger|  2011-03-09|   96.0|             [Drama]|While staying at ...|     null|     null|  7.854465|         6.0|        40|[california, pain...|\n|  10133|              Cypher|  2002-10-01|   95.0|[Thriller, Scienc...|An unsuspecting, ...|  7500000|     null|  7.348974|         6.7|       196|[double life, und...|\n|  10138|          Iron Man 2|  2010-04-28|  124.0|[Adventure, Actio...|With the world no...|200000000|623933331| 19.083344|         6.6|      6969|[malibu, marvel c...|\n|  10145|       The Forgotten|  2004-09-24|   91.0|[Crime, Drama, Ho...|Telly Paretta is ...| 42000000|117575636|   6.40146|         5.5|       359|[loss of son, mot...|\n+-------+--------------------+------------+-------+--------------------+--------------------+---------+---------+----------+------------+----------+--------------------+\nonly showing top 10 rows\n\n"
     ]
    }
   ],
   "source": [
    "movies = spark.read.parquet(os.path.join(CLN_PATH, \"movies\"))\n",
    "movies.show(10)"
   ]
  },
  {
   "cell_type": "code",
   "execution_count": 0,
   "metadata": {
    "application/vnd.databricks.v1+cell": {
     "cellMetadata": {
      "byteLimit": 2048000,
      "rowLimit": 10000
     },
     "inputWidgets": {},
     "nuid": "1a318756-c731-42b9-b7fa-38052703ecb8",
     "showTitle": false,
     "title": ""
    }
   },
   "outputs": [
    {
     "output_type": "stream",
     "name": "stdout",
     "output_type": "stream",
     "text": [
      "+-------+-------+------+-------------------+\n|user_id|tmdb_id|rating|          timestamp|\n+-------+-------+------+-------------------+\n|  42017|     14|   4.0|2015-09-10 22:15:39|\n|  54926|    165|   2.5|2006-03-19 20:54:43|\n|  47629|   1637|   4.0|1996-07-01 14:27:03|\n|  68508|  13920|   5.0|2003-11-14 01:18:56|\n|  59910|  24746|   4.0|2017-07-29 19:41:07|\n|  50057|  26195|   4.0|2006-10-22 17:38:40|\n|  61522|   1621|   3.0|2001-07-04 22:26:29|\n|  64941|    873|   5.0|2010-07-08 17:55:35|\n|  53592|  10110|   5.0|2001-07-17 15:55:23|\n|  56874| 150540|   5.0|2016-07-15 16:21:38|\n+-------+-------+------+-------------------+\nonly showing top 10 rows\n\n"
     ]
    }
   ],
   "source": [
    "ratings = spark.read.parquet(os.path.join(CLN_PATH, \"ratings\"))\n",
    "ratings.show(10)"
   ]
  },
  {
   "cell_type": "markdown",
   "metadata": {
    "application/vnd.databricks.v1+cell": {
     "cellMetadata": {},
     "inputWidgets": {},
     "nuid": "0eae88cf-2153-4919-9a16-e11267fd8309",
     "showTitle": false,
     "title": ""
    }
   },
   "source": [
    "#### Create an Implicit Feedback Recommender Model Frame"
   ]
  },
  {
   "cell_type": "code",
   "execution_count": 0,
   "metadata": {
    "application/vnd.databricks.v1+cell": {
     "cellMetadata": {
      "byteLimit": 2048000,
      "rowLimit": 10000
     },
     "inputWidgets": {},
     "nuid": "993886fc-7f9f-4def-8f99-b3cab4a368a8",
     "showTitle": false,
     "title": ""
    }
   },
   "outputs": [
    {
     "output_type": "stream",
     "name": "stdout",
     "output_type": "stream",
     "text": [
      "users=195899 movies=6235 ratings=15372729 sparsity=0.9874\n+-------+-------+------+-------------------+---------+----------+\n|user_id|tmdb_id|rating|timestamp          |cnt_users|cnt_movies|\n+-------+-------+------+-------------------+---------+----------+\n|100010 |11     |3.0   |1997-02-21 13:37:24|71403    |27        |\n|100010 |10534  |3.0   |1997-02-21 13:41:49|4056     |27        |\n|100010 |36915  |1.0   |1997-02-21 13:44:51|622      |27        |\n|100010 |11860  |1.0   |1997-02-21 13:36:43|12818    |27        |\n|100010 |1645   |2.0   |1997-02-21 13:37:54|12426    |27        |\n|100010 |9294   |2.0   |1997-02-21 13:38:28|12200    |27        |\n|100010 |63     |2.0   |1997-02-21 13:35:32|49933    |27        |\n|100010 |252    |2.0   |1997-02-21 13:36:43|29169    |27        |\n|100010 |954    |1.0   |1997-02-21 13:35:33|37731    |27        |\n|100010 |602    |1.0   |1997-02-21 13:35:32|45885    |27        |\n+-------+-------+------+-------------------+---------+----------+\nonly showing top 10 rows\n\n"
     ]
    }
   ],
   "source": [
    "model_frame = ratings \\\n",
    "    .join(movies, on='tmdb_id', how='inner') \\\n",
    "    .select('user_id', 'tmdb_id', 'rating', 'timestamp') \\\n",
    "    .filter(f.col('rating') >= MIN_RATING) \\\n",
    "    .withColumn('cnt_users', f.count('*').over(Window.partitionBy('tmdb_id'))) \\\n",
    "    .withColumn('cnt_movies', f.count('*').over(Window.partitionBy('user_id'))) \\\n",
    "    .filter(f.col('cnt_users') >= MIN_USERS) \\\n",
    "    .filter(f.col('cnt_movies') >= MIN_MOVIES) \\\n",
    "    .withColumn('rating', f.col('rating') - (MIN_RATING - 1)) \\\n",
    "    .withColumn('user_id', f.col('user_id').cast('INTEGER')) \\\n",
    "    .withColumn('tmdb_id', f.col('tmdb_id').cast('INTEGER')) \\\n",
    "    .cache()\n",
    "\n",
    "counts = model_frame.agg(f.countDistinct('user_id').alias('users'), f.countDistinct('tmdb_id').alias('movies'), f.count('*').alias('ratings')).first()\n",
    "sparsity = round(1 - (counts['ratings'] / (counts['users'] * counts['movies'])), 4)\n",
    "print(f\"users={counts['users']} movies={counts['movies']} ratings={counts['ratings']} sparsity={sparsity}\")\n",
    "model_frame.show(10, truncate=False)"
   ]
  },
  {
   "cell_type": "code",
   "execution_count": 0,
   "metadata": {
    "application/vnd.databricks.v1+cell": {
     "cellMetadata": {
      "byteLimit": 2048000,
      "rowLimit": 10000
     },
     "inputWidgets": {},
     "nuid": "e61e4a92-dc29-472c-83aa-dd3758553039",
     "showTitle": false,
     "title": ""
    }
   },
   "outputs": [],
   "source": [
    "model_frame.repartition(10).write.parquet(os.path.join(CLN_PATH, \"model_frame\"), mode=\"overwrite\")"
   ]
  },
  {
   "cell_type": "markdown",
   "metadata": {
    "application/vnd.databricks.v1+cell": {
     "cellMetadata": {},
     "inputWidgets": {},
     "nuid": "f65cb00a-5ea6-4aff-9720-a504f1901007",
     "showTitle": false,
     "title": ""
    }
   },
   "source": [
    "### Train the ALS Recommender Model and Update User/Movie Embeddings"
   ]
  },
  {
   "cell_type": "markdown",
   "metadata": {
    "application/vnd.databricks.v1+cell": {
     "cellMetadata": {},
     "inputWidgets": {},
     "nuid": "50155f17-53cd-4c48-bdaf-d42b7c536e20",
     "showTitle": false,
     "title": ""
    }
   },
   "source": [
    "#### Train the ALS Model"
   ]
  },
  {
   "cell_type": "code",
   "execution_count": 0,
   "metadata": {
    "application/vnd.databricks.v1+cell": {
     "cellMetadata": {
      "byteLimit": 2048000,
      "rowLimit": 10000
     },
     "inputWidgets": {},
     "nuid": "432e0608-2230-4049-ae8a-0c4e769e4146",
     "showTitle": false,
     "title": ""
    }
   },
   "outputs": [
    {
     "output_type": "stream",
     "name": "stdout",
     "output_type": "stream",
     "text": [
      "Out[31]: ALSModel: uid=ALS_68021d38058b, rank=32"
     ]
    }
   ],
   "source": [
    "estimator = ALS(rank=DIMENSION, maxIter=15, regParam=0.1, implicitPrefs=True, userCol='user_id', itemCol='tmdb_id', ratingCol='rating')\n",
    "transformer = estimator.fit(model_frame)\n",
    "transformer"
   ]
  },
  {
   "cell_type": "markdown",
   "metadata": {
    "application/vnd.databricks.v1+cell": {
     "cellMetadata": {},
     "inputWidgets": {},
     "nuid": "0e194305-8598-4eec-8e46-6e13c52c717e",
     "showTitle": false,
     "title": ""
    }
   },
   "source": [
    "#### Extract the Embeddings from the Fit Model and Format for Index Insertion"
   ]
  },
  {
   "cell_type": "code",
   "execution_count": 0,
   "metadata": {
    "application/vnd.databricks.v1+cell": {
     "cellMetadata": {
      "byteLimit": 2048000,
      "rowLimit": 10000
     },
     "inputWidgets": {},
     "nuid": "11207ec7-7033-4687-a5bc-f6aa972d05e2",
     "showTitle": false,
     "title": ""
    }
   },
   "outputs": [
    {
     "output_type": "stream",
     "name": "stdout",
     "output_type": "stream",
     "text": [
      "Out[32]: (195899, 6235)"
     ]
    }
   ],
   "source": [
    "user_embeddings = transformer.userFactors \\\n",
    "    .withColumn('id', f.col('id').cast('string')) \\\n",
    "    .withColumnRenamed('features', 'values') \\\n",
    "    .toPandas() \\\n",
    "    .to_dict(orient='records')\n",
    "\n",
    "movie_embeddings = transformer.itemFactors \\\n",
    "    .withColumn('id', f.col('id').cast('string')) \\\n",
    "    .withColumnRenamed('features', 'values') \\\n",
    "    .toPandas() \\\n",
    "    .to_dict(orient='records')\n",
    "\n",
    "user_embeddings  = [{\"id\": item[\"id\"], \"values\": item[\"values\"].tolist()} for item in user_embeddings]\n",
    "movie_embeddings = [{\"id\": item[\"id\"], \"values\": item[\"values\"].tolist()} for item in movie_embeddings]\n",
    "len(user_embeddings), len(movie_embeddings)"
   ]
  },
  {
   "cell_type": "markdown",
   "metadata": {
    "application/vnd.databricks.v1+cell": {
     "cellMetadata": {},
     "inputWidgets": {},
     "nuid": "1d97513a-8f57-47ea-be7f-4d46bd93a5f3",
     "showTitle": false,
     "title": ""
    }
   },
   "source": [
    "#### Insert the User/Movie Embeddings into the Pinecone Index"
   ]
  },
  {
   "cell_type": "code",
   "execution_count": 0,
   "metadata": {
    "application/vnd.databricks.v1+cell": {
     "cellMetadata": {
      "byteLimit": 2048000,
      "rowLimit": 10000
     },
     "inputWidgets": {},
     "nuid": "0edf2493-2310-4d61-a284-59bdaed8529c",
     "showTitle": false,
     "title": ""
    }
   },
   "outputs": [],
   "source": [
    "import pinecone      \n",
    "pinecone.init(api_key=os.environ[\"PINECONE_API_KEY\"], environment=os.environ[\"PINECONE_ENVIRONMENT\"])   "
   ]
  },
  {
   "cell_type": "code",
   "execution_count": 0,
   "metadata": {
    "application/vnd.databricks.v1+cell": {
     "cellMetadata": {
      "byteLimit": 2048000,
      "rowLimit": 10000
     },
     "inputWidgets": {},
     "nuid": "f278abfb-1582-4d0f-ac85-5a7c94b8cc37",
     "showTitle": false,
     "title": ""
    }
   },
   "outputs": [],
   "source": [
    "# pinecone.delete_index(INDEX_NAME)\n",
    "# pinecone.create_index(name=INDEX_NAME, dimension=DIMENSION, metric='cosine', pods=1, replicas=1, pod_type=\"p1\")"
   ]
  },
  {
   "cell_type": "code",
   "execution_count": 0,
   "metadata": {
    "application/vnd.databricks.v1+cell": {
     "cellMetadata": {
      "byteLimit": 2048000,
      "rowLimit": 10000
     },
     "inputWidgets": {},
     "nuid": "63c3fdc0-b330-4042-813c-37b628a68b7a",
     "showTitle": false,
     "title": ""
    }
   },
   "outputs": [
    {
     "output_type": "stream",
     "name": "stdout",
     "output_type": "stream",
     "text": [
      "Out[41]: {'dimension': 32,\n 'index_fullness': 0.0,\n 'namespaces': {},\n 'total_vector_count': 0}"
     ]
    }
   ],
   "source": [
    "index = pinecone.Index(INDEX_NAME)\n",
    "index.describe_index_stats()"
   ]
  },
  {
   "cell_type": "code",
   "execution_count": 0,
   "metadata": {
    "application/vnd.databricks.v1+cell": {
     "cellMetadata": {
      "byteLimit": 2048000,
      "rowLimit": 10000
     },
     "inputWidgets": {},
     "nuid": "51dbe809-7140-47a8-8bbc-e9f274bdceac",
     "showTitle": false,
     "title": ""
    }
   },
   "outputs": [
    {
     "output_type": "display_data",
     "data": {
      "application/vnd.jupyter.widget-view+json": {
       "model_id": "9461cc359ed14c28912901518c076e1c",
       "version_major": 2,
       "version_minor": 0
      },
      "text/plain": [
       "Upserted vectors:   0%|          | 0/195899 [00:00<?, ?it/s]"
      ]
     },
     "metadata": {},
     "output_type": "display_data"
    },
    {
     "output_type": "stream",
     "name": "stdout",
     "output_type": "stream",
     "text": [
      "Out[42]: {'upserted_count': 195899}"
     ]
    }
   ],
   "source": [
    "index.upsert(vectors=user_embeddings, namespace=\"users\", batch_size=100)"
   ]
  },
  {
   "cell_type": "code",
   "execution_count": 0,
   "metadata": {
    "application/vnd.databricks.v1+cell": {
     "cellMetadata": {
      "byteLimit": 2048000,
      "rowLimit": 10000
     },
     "inputWidgets": {},
     "nuid": "037d0e1d-e7de-4aec-9630-ee9bb3345ae7",
     "showTitle": false,
     "title": ""
    }
   },
   "outputs": [
    {
     "output_type": "display_data",
     "data": {
      "application/vnd.jupyter.widget-view+json": {
       "model_id": "29bf6560b07a4a3c835040fc9786318c",
       "version_major": 2,
       "version_minor": 0
      },
      "text/plain": [
       "Upserted vectors:   0%|          | 0/6235 [00:00<?, ?it/s]"
      ]
     },
     "metadata": {},
     "output_type": "display_data"
    },
    {
     "output_type": "stream",
     "name": "stdout",
     "output_type": "stream",
     "text": [
      "Out[43]: {'upserted_count': 6235}"
     ]
    }
   ],
   "source": [
    "index.upsert(vectors=movie_embeddings, namespace=\"movies\", batch_size=100)"
   ]
  },
  {
   "cell_type": "code",
   "execution_count": 0,
   "metadata": {
    "application/vnd.databricks.v1+cell": {
     "cellMetadata": {
      "byteLimit": 2048000,
      "rowLimit": 10000
     },
     "inputWidgets": {},
     "nuid": "60ed05ea-d897-40ca-83db-4b06b9778cc0",
     "showTitle": false,
     "title": ""
    }
   },
   "outputs": [
    {
     "output_type": "stream",
     "name": "stdout",
     "output_type": "stream",
     "text": [
      "Out[44]: {'dimension': 32,\n 'index_fullness': 0.0,\n 'namespaces': {'movies': {'vector_count': 6235},\n                'users': {'vector_count': 195899}},\n 'total_vector_count': 202134}"
     ]
    }
   ],
   "source": [
    "index.describe_index_stats()"
   ]
  },
  {
   "cell_type": "markdown",
   "metadata": {
    "application/vnd.databricks.v1+cell": {
     "cellMetadata": {},
     "inputWidgets": {},
     "nuid": "d7fe251d-819e-42a9-97df-5f6aaa9fbc69",
     "showTitle": false,
     "title": ""
    }
   },
   "source": [
    "#### Spot Check the Collaborative Filtering Embeddings with Sample Queries"
   ]
  },
  {
   "cell_type": "code",
   "execution_count": 0,
   "metadata": {
    "application/vnd.databricks.v1+cell": {
     "cellMetadata": {
      "byteLimit": 2048000,
      "rowLimit": 10000
     },
     "inputWidgets": {},
     "nuid": "268f7ef2-c295-422a-91ff-e1dd9db7fb27",
     "showTitle": false,
     "title": ""
    }
   },
   "outputs": [
    {
     "output_type": "stream",
     "name": "stdout",
     "output_type": "stream",
     "text": [
      "+-------+--------------------+------------+-------+--------------------+--------------------+---------+---------+----------+------------+----------+--------------------+\n|tmdb_id|               title|release_date|runtime|              genres|            overview|   budget|  revenue|popularity|vote_average|vote_count|            keywords|\n+-------+--------------------+------------+-------+--------------------+--------------------+---------+---------+----------+------------+----------+--------------------+\n|  10003|           The Saint|  1997-04-03|  116.0|[Thriller, Action...|Ivan Tretiak, Rus...| 68000000|118063304|  10.97633|         5.9|       310|[berlin, russia, ...|\n| 100042|  Dumb and Dumber To|  2014-11-12|  110.0|            [Comedy]|20 years after th...| 40000000|169837010| 15.402597|         5.4|      1140|[friendship, sequ...|\n|  10005|Behind Enemy Line...|  2006-10-17|   96.0|[Action, Adventur...|Navy SEALS, heade...|     null|     null| 11.063562|         4.5|        31|[nuclear missile,...|\n|  10007|         See No Evil|  2006-05-19|   84.0|  [Horror, Thriller]|A group of delinq...|  8000000|     null|  5.659608|         4.8|       146|[hotel, eye ball,...|\n|  10008|An American Haunting|  2005-05-05|   83.0|  [Horror, Thriller]|Based on the true...|     null|     null|  5.026855|         5.3|       143|[witch, independe...|\n|  10009|        Brother Bear|  2003-10-23|   85.0|[Adventure, Anima...|When an impulsive...|100000000|     null| 12.300905|         6.9|      1410|[brother brother ...|\n|  10010|      Brother Bear 2|  2006-08-17|   73.0|[Adventure, Anima...|Kenai finds his c...|     null|     null| 10.861154|         6.3|       318|[grizzly bear, hu...|\n|  10012|              Cursed|  2005-02-25|   97.0|    [Horror, Comedy]|A werewolf loose ...| 35000000| 19294901|  8.949722|         5.1|       168|[brother sister r...|\n|  10013|Peggy Sue Got Mar...|  1986-10-05|  103.0|[Comedy, Drama, F...|Peggy Sue faints ...| 18000000| 41382841|  7.471655|         5.9|       138|[time travel, hig...|\n|  10014|A Nightmare on El...|  1985-10-31|   87.0|            [Horror]|A new family move...|  3000000| 29999213|  8.668146|         5.7|       367|[gay, dancing, fi...|\n|  10015|    Heartbreak Ridge|  1986-12-15|  130.0|[Action, Comedy, ...|A hard-nosed, har...| 15000000| 42724017|  7.390012|         6.5|       270|[recruit, officer...|\n|  10016|      Ghosts of Mars|  2001-08-24|   98.0|[Action, Horror, ...|Melanie Ballard (...| 28000000| 14010832|  7.058599|         4.8|       299|[climbing up a wa...|\n|  10017|          The Wraith|  1986-11-21|   93.0|[Romance, Science...|Packard Walsh and...|  2700000|  3500000|  7.657918|         5.9|       109|[male nudity, fem...|\n|  10019|           Mannequin|  1987-02-13|   89.0|[Fantasy, Comedy,...|Jonathan Switcher...|  6000000| 42721196|  8.525782|         5.5|       130|[new love, depart...|\n|  10020|Beauty and the Beast|  1991-11-13|   84.0|[Romance, Family,...|Follow the advent...| 25000000|377350553| 23.433511|         7.5|      3029|[prince, book, ca...|\n|  10021|The Secret of My ...|  1987-04-10|  111.0|            [Comedy]|Brantley Foster, ...| 12000000|110996879|  5.409557|         6.2|       151|[dual identity, m...|\n|  10022|        The Pacifier|  2005-03-04|   95.0|[Action, Comedy, ...|Disgraced Navy SE...| 56000000|113006880|   7.81645|         5.8|       865|[bodybuilder, chi...|\n|  10023|             Dragnet|  1987-06-25|  106.0|[Action, Comedy, ...|\"The equally-stra...| 20000000| 66673516|  7.907938|         5.7|       139|[molotow cocktail...|\n|  10024|  My Sister's Keeper|  2009-06-26|  109.0|             [Drama]|Sara and Brian li...| 30000000| 95714875|  6.793972|         7.1|       614|[parent child rel...|\n| 100241|     I, Frankenstein|  2014-01-22|   92.0|  [Horror, Thriller]|200 years after h...| 65000000| 71154592|  9.415817|         5.1|       701|[soul, queen, ant...|\n|  10025|        Just My Luck|  2006-05-12|  103.0|[Comedy, Drama, F...|Manhattanite Ashl...| 28000000| 38159905|  6.053567|         5.8|       512|[jinx, bad luck, ...|\n|  10028|               Honey|  2003-11-24|   94.0|[Romance, Music, ...|Honey Daniels (Je...| 18000000| 62646763| 11.863954|         6.0|       313|[new york, dancin...|\n|  10029|     Very Bad Things|  1998-09-11|  100.0|[Comedy, Crime, T...|Kyle Fisher has o...| 30000000|  9898412| 10.432293|         6.2|       182|[prostitute, hote...|\n|  10030|     Good Luck Chuck|  2007-09-21|  101.0|            [Comedy]|Cursed since chil...| 25000000| 59192128|  7.456047|         5.6|       454|[sex, aquarium, n...|\n|  10032|Van Wilder 2: The...|  2006-12-01|   97.0|            [Comedy]|Taj Mahal Badalan...|     null|  6086508|  5.985236|         5.1|       162|[indian lead, sno...|\n|  10033|        Just Friends|  2005-11-23|   96.0|   [Comedy, Romance]|While visiting hi...|     null| 50817508|  8.208492|         5.9|       424|[success, change,...|\n| 100402|Captain America: ...|  2014-03-20|  136.0|[Action, Adventur...|After the catacly...|170000000|714766572| 18.717704|         7.6|      5881|[washington d.c.,...|\n|  10046|           Blueberry|  2004-02-09|  124.0|           [Western]|U.S Marshal Mike ...| 53000000|     null|  7.892626|         5.0|        51|[indian territory...|\n|  10047|The Messenger: Th...|  1999-10-18|  148.0|[Adventure, Drama...|In 1429 a teenage...| 60000000| 66976317|  9.471838|         6.2|       373|[schizophrenia, f...|\n|  10048|             Stealth|  2005-07-28|  121.0|            [Action]|Deeply ensconced ...|135000000| 76932943|  13.89018|         4.9|       341|[artificial intel...|\n|  10049|        Attack Force|  2006-12-05|   94.0|  [Action, Thriller]|Marshall Lawson i...|     null|     null|  8.844451|         4.3|        25|[army, slaughter,...|\n|  10053|When a Stranger C...|  2006-02-03|   87.0|  [Horror, Thriller]|Far away from the...| 15000000| 66966987|  5.149058|         5.4|       273|[babysitter, deat...|\n|  10054|            Spy Kids|  2001-03-18|   88.0|[Action, Comedy, ...|\"Carmen and Juni ...| 35000000|147934180|  9.576745|         5.5|       893|[double life, par...|\n|  10057|The Three Musketeers|  1993-11-11|  105.0|[Action, Adventur...|D'Artagnan travel...| 30000000| 53898845|   6.34785|         6.2|       219|  [paris, musketeer]|\n|  10060|Get Rich or Die T...|  2005-11-09|  117.0|             [Drama]|A tale of an inne...| 40000000| 46442528|  9.820229|         6.3|       188|[loss of mother, ...|\n|  10061|    Escape from L.A.|  1996-08-09|   97.0|[Action, Adventur...|This time, a cata...| 50000000| 42277365| 12.229381|         5.6|       381|[prison, usa pres...|\n|  10064|              Edison|  2005-07-29|   99.0|          [Thriller]|Upon discovering ...|     null|     null|  5.394304|         5.4|        82|[journalist, poli...|\n|  10065|The Amityville Ho...|  2005-04-15|   90.0|[Horror, Thriller...|A family is terro...| 19000000|108047131| 13.088552|         6.0|       606|[holy water, long...|\n|  10066|        House of Wax|  2005-04-30|  113.0|            [Horror]|A group of unwitt...| 40000000| 68766121|  7.163099|         5.5|       696|[american footbal...|\n|  10068|      Nine 1/2 Weeks|  1986-02-14|  117.0|    [Drama, Romance]|An erotic story a...| 17000000|  6735922|  6.706262|         5.8|       183|                null|\n|  10070|               Feast|  2005-10-14|   95.0|[Action, Comedy, ...|Patrons locked in...|     null|   658573|  7.888988|         6.1|       162|[monster, pub, du...|\n|  10071|The Brothers Solomon|  2007-09-07|   93.0|            [Comedy]|A pair of well-me...|     null|     null|  7.985172|         4.9|        46|[brother brother ...|\n|  10072|A Nightmare on El...|  1987-02-27|   96.0|  [Horror, Thriller]|It's been many ye...|  5000000| 44793222| 10.035081|         6.5|       363|[group therapy, n...|\n|  10073|          Date Movie|  2006-02-17|   83.0|            [Comedy]|Spoof of romantic...| 20000000| 48548426|  5.682129|         3.6|       225|[date, diary, par...|\n|  10074|             Hot Rod|  2007-08-03|   88.0|    [Action, Comedy]|For Rod Kimball, ...|     null| 14334401|  6.117846|         6.3|       317|[stuntman, step f...|\n|  10075| Blood and Chocolate|  2007-01-26|   98.0|[Drama, Fantasy, ...|A young teenage w...|     null|     null|  5.415846|         5.5|        92|[chocolate, werew...|\n|  10078|           Magicians|  2007-05-18|   90.0|            [Comedy]|A pair of rivalin...|     null|  1752038|  6.478953|         6.2|        25|[magic, guillotin...|\n|  10081|       The Principal|  1987-09-18|  109.0|[Action, Adventur...|Burglary. Drugs. ...|     null|     null|  8.332485|         6.1|        62|[resistance, drug...|\n|  10083|          No Way Out|  1987-08-14|  114.0|[Action, Drama, T...|Navy Lt. Tom Farr...| 15000000| 35509515| 11.457803|         6.9|       155|[homicide, pentag...|\n|  10092|            Cry_Wolf|  2005-09-16|   90.0|  [Horror, Thriller]|Eight unsuspectin...|  1000000| 10047674|  9.454335|         5.6|       127|[murder, serial k...|\n|  10093|          The Return|  2006-11-10|   85.0|[Drama, Horror, T...|Joanna Mills has ...| 15000000| 11992014|  9.338989|         5.1|        61|[wound, nightmare...|\n|  10096|      13 Going on 30|  2004-04-13|   98.0|[Comedy, Fantasy,...|After total humil...| 37000000| 96455697| 12.632595|         6.3|      1260|[new york, photog...|\n|  10105| Saints and Soldiers|  2003-09-11|   90.0|[Action, Adventur...|Five American sol...|   780000|     null|  7.975389|         6.6|        98|[winter, belgium,...|\n|  10107|       Firehouse Dog|  2007-04-04|  111.0|[Adventure, Comed...|Rexxx, Hollywood'...|     null|     null|  7.078447|         6.0|        44|[human animal rel...|\n|  10110|   Empire of the Sun|  1987-12-09|  153.0|[Drama, History, ...|Jamie Graham, a p...| 35000000| 22238696| 10.220906|         7.3|       491|[japan, stadium, ...|\n|  10112|      The Aristocats|  1970-12-23|   78.0|[Animation, Comed...|When Madame Adela...|  4000000| 55675257|  9.834047|         7.1|      1287|[paris, cat, butl...|\n|  10115|            Stick It|  2006-04-21|  105.0|     [Comedy, Drama]|Haley is a natura...|     null|     null|  7.255225|         6.3|       153|[gymnastics, trai...|\n|  10117|      Action Jackson|  1988-02-12|   96.0|[Action, Adventur...|Vengence drives a...|  7000000| 20256975| 14.054862|         4.9|        51|[showdown, suspic...|\n| 101173|          Coriolanus|  2011-02-14|  123.0|   [Drama, Thriller]|Caius Martius, ak...|  7700000|  1072602|  6.914615|         5.9|       133|[senate, general,...|\n| 101176|  The Butterfly Room|  2012-08-04|   87.0|  [Horror, Thriller]|Ann, a reclusive ...|     null|     1081|  6.569589|         5.9|        38|                  []|\n|  10122|Flight of the Nav...|  1986-07-30|   90.0|[Family, Science ...|This 1986 Disney ...|     null| 18564613|  5.526865|         6.9|       227|[artificial intel...|\n|  10126|              Colors|  1988-04-15|  120.0|[Action, Crime, D...|A confident young...|  6000000| 46616067|  5.529808|         6.6|       100|[police brutality...|\n| 101267|Katy Perry: Part ...|  2012-06-28|   93.0|[Documentary, Music]|Giving fans unpre...| 12000000| 32726956|  8.960713|         6.5|        88|    [woman director]|\n|  10127|          Critters 2|  1988-04-29|   86.0|[Comedy, Horror, ...|A batch of unhatc...|  4500000|  3813293|   9.97523|         5.0|        91|[female nudity, b...|\n|  10128|        Alien Nation|  1988-10-07|   91.0|[Crime, Science F...|A few years from ...| 16000000| 32155047| 15.133316|         5.9|        81|[living together,...|\n|  10130|Gorillas in the Mist|  1988-09-23|  129.0|             [Drama]|The story of Dian...| 22000000|     null| 11.978983|         6.7|       136|[gorilla, menace,...|\n|  10131|A Nightmare on El...|  1988-08-19|   99.0|  [Horror, Thriller]|Dream demon Fredd...|  7000000| 72500000|  8.120317|         5.8|       287|[martial arts, ni...|\n|  10132|          Talk Radio|  1988-12-21|  110.0|             [Drama]|A rude, contemptu...|  4000000|  3468572|  6.865513|         6.7|        46|[anonymity, radio...|\n| 101325|          The Forger|  2011-03-09|   96.0|             [Drama]|While staying at ...|     null|     null|  7.854465|         6.0|        40|[california, pain...|\n|  10133|              Cypher|  2002-10-01|   95.0|[Thriller, Scienc...|An unsuspecting, ...|  7500000|     null|  7.348974|         6.7|       196|[double life, und...|\n|  10134|              Cyborg|  1989-04-07|   86.0|[Action, Science ...|A martial artist ...|   500000| 10166459|  8.473602|         4.9|       154|[cyborg, martial ...|\n|  10136|    The Golden Child|  1986-12-12|   94.0|[Action, Adventur...|A detective speci...| 25000000| 79817939|  8.236472|         5.6|       311|[monk, social wor...|\n|  10137|       Stuart Little|  1999-12-17|   84.0|[Animation, Fanta...|The adventures of...|133000000|300135367|    8.3595|         5.8|       998|[brother brother ...|\n|  10138|          Iron Man 2|  2010-04-28|  124.0|[Adventure, Actio...|With the world no...|200000000|623933331| 19.083344|         6.6|      6969|[malibu, marvel c...|\n|  10139|                Milk|  2008-11-26|  128.0|    [History, Drama]|The story of Cali...| 20000000| 54586584| 10.680121|         7.1|       628|[gay, san francis...|\n|  10140|The Chronicles of...|  2010-08-13|  113.0|[Adventure, Famil...|This time around ...|155000000|415686217| 12.383398|         6.2|      1555|[based on novel, ...|\n|  10141|Dirty Rotten Scou...|  1988-12-14|  110.0|     [Crime, Comedy]|Two con men try t...|     null| 42039085|   6.78824|         7.0|       223|[competition, lux...|\n|  10142|   Casualties of War|  1989-08-18|  113.0|[Drama, History, ...|During the Vietna...| 22500000| 18671317|  7.435688|         6.8|       203|[rape, menace, vi...|\n|  10144|  The Little Mermaid|  1989-11-17|   83.0| [Animation, Family]|This colorful adv...| 40000000|222300000| 17.496832|         7.2|      1921|[sea, fireworks, ...|\n|  10145|       The Forgotten|  2004-09-24|   91.0|[Crime, Drama, Ho...|Telly Paretta is ...| 42000000|117575636|   6.40146|         5.5|       359|[loss of son, mot...|\n|  10147|           Bad Santa|  2003-11-26|   91.0|[Drama, Comedy, C...|A miserable conma...| 23000000| 76488889| 10.930143|         6.4|       666|[holiday, elves, ...|\n|  10149|               Smoke|  1995-06-09|  112.0|     [Comedy, Drama]|Writer Paul Benja...|  7000000|  8349430|  5.552946|         7.2|       115|[smoking, robber,...|\n|  10150|    The Last Unicorn|  1982-11-19|   92.0|[Fantasy, Animati...|From a riddle-spe...|     null|  6455530|  6.634939|         7.0|       117|                null|\n| 101519|A Fantastic Fear ...|  2012-06-07|  100.0|  [Comedy, Thriller]|Jack is a childre...|     null|     null|  5.507377|         5.7|       102|          [paranoia]|\n|  10152|Dumb and Dumberer...|  2003-06-13|   85.0|            [Comedy]|This wacky preque...| 19000000| 39267515|  9.280038|         4.1|       211|[skateboarding, a...|\n|  10153|              Sphere|  1998-02-13|  134.0|   [Science Fiction]|The OSSA discover...| 75000000| 13100000|  7.124735|         5.8|       483|[ocean, extraterr...|\n|  10154|    Mickey Blue Eyes|  1999-08-16|  102.0|[Comedy, Crime, R...|\"An English aucti...|     null|     null|  6.951414|         5.3|       142|[new york, marria...|\n|  10155|              U Turn|  1997-10-03|  125.0|          [Thriller]|When Bobby's car ...| 19000000|  6682098|  7.923639|         6.5|       185|[car breakdown, w...|\n|  10156|History of the Wo...|  1981-06-12|   92.0|            [Comedy]|An uproarious ver...| 11000000| 31672907|  9.270492|         6.5|       205|[moses, roman emp...|\n|  10157|Police Academy 2:...|  1985-03-28|   87.0|     [Comedy, Crime]|Officer Carey Mah...|     null| 55600000|  9.021668|         5.6|       349|[handcuffs, polic...|\n|  10158|White Men Can't Jump|  1992-03-26|  115.0|     [Comedy, Drama]|Billy Hoyle (Wood...|     null| 90753806|  8.795941|         6.2|       305|[white trash, mal...|\n|  10159|         The Rundown|  2003-09-26|  104.0|[Adventure, Actio...|When Travis, the ...| 85000000| 80916492|  8.304835|         6.4|       523|[hunter, bounty, ...|\n|  10161|My Left Foot: The...|  1989-07-21|  103.0|             [Drama]|In this true stor...|   645180| 14743391|  5.841931|         7.5|       208|[bodily disabled ...|\n|  10163|   The Lawnmower Man|  1992-03-05|  108.0|[Horror, Thriller...|A simple man is t...| 10000000| 32101000|  6.685948|         5.4|       198|[dream, chimp, ma...|\n|  10164|        Cadillac Man|  1990-05-18|   97.0|     [Comedy, Drama]|Joe's a car sales...|     null| 27575086|  6.882529|         5.3|        54|[jealousy, car de...|\n|  10166|         The Witches|  1990-02-16|   91.0|[Adventure, Fanta...|A young boy named...|     null| 15360553|  8.208991|         6.7|       224|[witch, chocolate...|\n| 101669|        Mother's Day|  2010-09-23|  112.0|[Crime, Drama, Ho...|Crazed members of...| 11000000|     null|  5.165083|         6.3|       126|[hostage, vomit, ...|\n|  10167|      Half Past Dead|  2002-11-15|   98.0|[Crime, Action, T...|This movie tells ...| 13000000|     null|  8.650691|         4.6|        82|[resistance, unde...|\n|  10169|         Men at Work|  1990-08-24|   98.0|     [Comedy, Crime]|Two garbage men f...|     null|     null|  8.339485|         5.5|        99|[vietnam veteran,...|\n|  10170|    The Russia House|  1990-12-19|  122.0|[Drama, Action, T...|An expatriate Bri...| 22997992|     null| 10.445117|         6.3|        54|[cia, secret, sov...|\n+-------+--------------------+------------+-------+--------------------+--------------------+---------+---------+----------+------------+----------+--------------------+\nonly showing top 100 rows\n\n"
     ]
    }
   ],
   "source": [
    "movies.sort('tmdb_id').show(100)"
   ]
  },
  {
   "cell_type": "code",
   "execution_count": 0,
   "metadata": {
    "application/vnd.databricks.v1+cell": {
     "cellMetadata": {
      "byteLimit": 2048000,
      "rowLimit": 10000
     },
     "inputWidgets": {},
     "nuid": "d84b8952-3af9-4ea3-8797-be7ffcc8c081",
     "showTitle": false,
     "title": ""
    }
   },
   "outputs": [
    {
     "output_type": "stream",
     "name": "stdout",
     "output_type": "stream",
     "text": [
      "+-------+--------------------+------------+-------+--------------------+--------------------+--------+---------+----------+------------+----------+--------------------+-----------+\n|tmdb_id|               title|release_date|runtime|              genres|            overview|  budget|  revenue|popularity|vote_average|vote_count|            keywords|      score|\n+-------+--------------------+------------+-------+--------------------+--------------------+--------+---------+----------+------------+----------+--------------------+-----------+\n|  10096|      13 Going on 30|  2004-04-13|   98.0|[Comedy, Fantasy,...|After total humil...|37000000| 96455697| 12.632595|         6.3|      1260|[new york, photog...|        1.0|\n|   9919|How to Lose a Guy...|  2003-02-07|  116.0|   [Comedy, Romance]|An advice columni...|50000000|177371441|  5.188107|         6.3|       873|[new york, bet, j...|0.959636867|\n|   9779|The Sisterhood of...|  2005-06-01|  119.0|     [Drama, Comedy]|Four best friends...|25000000| 39053061|  9.263965|         6.3|       396|[holiday, female ...|0.954320252|\n|  10229|  A Walk to Remember|  2002-01-25|  101.0|    [Drama, Romance]|\"When the popular...|11000000| 41227069|  8.054499|         7.5|      1057|[based on novel, ...|0.952181935|\n|  10330|       Freaky Friday|  2003-08-03|   97.0|            [Comedy]|Mother and daught...|26000000|110230332|  7.867999|         6.0|       919|[single parent, b...|0.948255539|\n|   6557|          27 Dresses|  2008-01-10|  111.0|   [Comedy, Romance]|Altruistic Jane f...|30000000|160259319| 10.342202|         6.1|      1013|[lovesickness, ne...|   0.945344|\n|   9880|The Princess Diaries|  2001-08-03|  115.0|[Comedy, Family, ...|A socially awkwar...|37000000|165335153|  7.387171|         6.5|      1063|[heir to the thro...|0.939030766|\n|  10735|   What a Girl Wants|  2003-03-27|  105.0|            [Comedy]|An American girl,...|    null|     null|  6.743151|         5.8|       377|[london england, ...|0.934522569|\n|  11529|  Sweet Home Alabama|  2002-09-26|  108.0|   [Comedy, Romance]|New York fashion ...|30000000|180622424|  8.587129|         6.1|       408|[new york, marria...|0.933405638|\n|  11247|  A Cinderella Story|  2004-07-10|   95.0|            [Comedy]|Sam Montgomery is...|19000000| 70067909|  8.385361|         6.1|       737|[jealousy, cinder...|0.933202863|\n+-------+--------------------+------------+-------+--------------------+--------------------+--------+---------+----------+------------+----------+--------------------+-----------+\n\n"
     ]
    }
   ],
   "source": [
    "tmdb_id = '10096'\n",
    "matches = index.query(namespace=\"movies\", id=tmdb_id, top_k=10)['matches']\n",
    "matches = spark.createDataFrame([{\"tmdb_id\": item[\"id\"], \"score\": item[\"score\"]} for item in matches])\n",
    "movies.join(matches, on='tmdb_id', how='inner').sort(f.desc('score')).show()"
   ]
  },
  {
   "cell_type": "code",
   "execution_count": 0,
   "metadata": {
    "application/vnd.databricks.v1+cell": {
     "cellMetadata": {},
     "inputWidgets": {},
     "nuid": "9ee579c8-875f-41da-ac31-5bf8eed0f960",
     "showTitle": false,
     "title": ""
    }
   },
   "outputs": [],
   "source": []
  }
 ],
 "metadata": {
  "application/vnd.databricks.v1+notebook": {
   "dashboards": [],
   "language": "python",
   "notebookMetadata": {
    "pythonIndentUnit": 4
   },
   "notebookName": "create-collaborative-embeddings",
   "widgets": {}
  },
  "kernelspec": {
   "display_name": "Python 3 (ipykernel)",
   "language": "python",
   "name": "python3"
  },
  "language_info": {
   "codemirror_mode": {
    "name": "ipython",
    "version": 3
   },
   "file_extension": ".py",
   "mimetype": "text/x-python",
   "name": "python",
   "nbconvert_exporter": "python",
   "pygments_lexer": "ipython3",
   "version": "3.9.16"
  }
 },
 "nbformat": 4,
 "nbformat_minor": 0
}
