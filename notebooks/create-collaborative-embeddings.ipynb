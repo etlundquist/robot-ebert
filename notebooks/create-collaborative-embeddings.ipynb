{
 "cells": [
  {
   "cell_type": "markdown",
   "metadata": {
    "application/vnd.databricks.v1+cell": {
     "cellMetadata": {},
     "inputWidgets": {},
     "nuid": "bb601ce6-f290-42ea-90a6-ca550d38e3ca",
     "showTitle": false,
     "title": ""
    }
   },
   "source": [
    "### Notebook Set-Up"
   ]
  },
  {
   "cell_type": "markdown",
   "metadata": {
    "application/vnd.databricks.v1+cell": {
     "cellMetadata": {},
     "inputWidgets": {},
     "nuid": "d89d1a2f-ce6b-4b4e-8779-eb60c1c7676d",
     "showTitle": false,
     "title": ""
    }
   },
   "source": [
    "#### Import Required Modules"
   ]
  },
  {
   "cell_type": "code",
   "execution_count": 0,
   "metadata": {
    "application/vnd.databricks.v1+cell": {
     "cellMetadata": {
      "byteLimit": 2048000,
      "rowLimit": 10000
     },
     "inputWidgets": {},
     "nuid": "adbc3289-2f87-4aee-a6cc-6f1366256b2a",
     "showTitle": false,
     "title": ""
    }
   },
   "outputs": [],
   "source": [
    "# %pip install pinecone-client python-dotenv"
   ]
  },
  {
   "cell_type": "code",
   "execution_count": 0,
   "metadata": {
    "application/vnd.databricks.v1+cell": {
     "cellMetadata": {
      "byteLimit": 2048000,
      "rowLimit": 10000
     },
     "inputWidgets": {},
     "nuid": "7ad92141-2202-40f0-8029-bebb8b63e18b",
     "showTitle": false,
     "title": ""
    }
   },
   "outputs": [],
   "source": [
    "import os\n",
    "import json\n",
    "\n",
    "from typing import List, Dict\n",
    "from dotenv import load_dotenv\n",
    "\n",
    "from pyspark.sql import SparkSession\n",
    "from pyspark.sql import functions as f\n",
    "from pyspark.sql.window import Window\n",
    "\n",
    "from pyspark.ml.recommendation import ALS"
   ]
  },
  {
   "cell_type": "markdown",
   "metadata": {
    "application/vnd.databricks.v1+cell": {
     "cellMetadata": {},
     "inputWidgets": {},
     "nuid": "8de77a0b-a968-4306-a01f-cbf21973a372",
     "showTitle": false,
     "title": ""
    }
   },
   "source": [
    "#### Get or Create SparkSession"
   ]
  },
  {
   "cell_type": "code",
   "execution_count": 0,
   "metadata": {
    "application/vnd.databricks.v1+cell": {
     "cellMetadata": {
      "byteLimit": 2048000,
      "rowLimit": 10000
     },
     "inputWidgets": {},
     "nuid": "fcc0d9be-c3dd-4fbb-ba4f-5a413ce03d97",
     "showTitle": false,
     "title": ""
    }
   },
   "outputs": [
    {
     "output_type": "display_data",
     "data": {
      "text/html": [
       "\n",
       "            <div>\n",
       "                <p><b>SparkSession - hive</b></p>\n",
       "                \n",
       "        <div>\n",
       "            <p><b>SparkContext</b></p>\n",
       "\n",
       "            <p><a href=\"/?o=8355974179873438#setting/sparkui/1017-161542-o0dq748r/driver-5895511688770939112\">Spark UI</a></p>\n",
       "\n",
       "            <dl>\n",
       "              <dt>Version</dt>\n",
       "                <dd><code>v3.3.2</code></dd>\n",
       "              <dt>Master</dt>\n",
       "                <dd><code>spark://driver-proxy:7077</code></dd>\n",
       "              <dt>AppName</dt>\n",
       "                <dd><code>Databricks Shell</code></dd>\n",
       "            </dl>\n",
       "        </div>\n",
       "        \n",
       "            </div>\n",
       "        "
      ]
     },
     "metadata": {
      "application/vnd.databricks.v1+output": {
       "addedWidgets": {},
       "arguments": {},
       "data": "\n            <div>\n                <p><b>SparkSession - hive</b></p>\n                \n        <div>\n            <p><b>SparkContext</b></p>\n\n            <p><a href=\"/?o=8355974179873438#setting/sparkui/1017-161542-o0dq748r/driver-5895511688770939112\">Spark UI</a></p>\n\n            <dl>\n              <dt>Version</dt>\n                <dd><code>v3.3.2</code></dd>\n              <dt>Master</dt>\n                <dd><code>spark://driver-proxy:7077</code></dd>\n              <dt>AppName</dt>\n                <dd><code>Databricks Shell</code></dd>\n            </dl>\n        </div>\n        \n            </div>\n        ",
       "datasetInfos": [],
       "metadata": {},
       "removedWidgets": [],
       "textData": null,
       "type": "htmlSandbox"
      }
     },
     "output_type": "display_data"
    }
   ],
   "source": [
    "spark = SparkSession.builder.getOrCreate()\n",
    "spark.sparkContext.setLogLevel(\"error\")\n",
    "spark"
   ]
  },
  {
   "cell_type": "markdown",
   "metadata": {
    "application/vnd.databricks.v1+cell": {
     "cellMetadata": {},
     "inputWidgets": {},
     "nuid": "3c66a3f9-fe90-46e2-ae65-5100be81faf0",
     "showTitle": false,
     "title": ""
    }
   },
   "source": [
    "#### Load Secrets as Environment Variables"
   ]
  },
  {
   "cell_type": "code",
   "execution_count": 0,
   "metadata": {
    "application/vnd.databricks.v1+cell": {
     "cellMetadata": {
      "byteLimit": 2048000,
      "rowLimit": 10000
     },
     "inputWidgets": {},
     "nuid": "34c6e1a3-0a28-4d1b-92aa-659c6b047bd2",
     "showTitle": false,
     "title": ""
    }
   },
   "outputs": [
    {
     "output_type": "stream",
     "name": "stdout",
     "output_type": "stream",
     "text": [
      "Out[8]: True"
     ]
    }
   ],
   "source": [
    "load_dotenv(\"/dbfs/FileStore/env/.env\")"
   ]
  },
  {
   "cell_type": "markdown",
   "metadata": {
    "application/vnd.databricks.v1+cell": {
     "cellMetadata": {},
     "inputWidgets": {},
     "nuid": "14ce4bd9-572b-4820-b110-d1a17cd1452c",
     "showTitle": false,
     "title": ""
    }
   },
   "source": [
    "#### Set Workflow Constants"
   ]
  },
  {
   "cell_type": "code",
   "execution_count": 0,
   "metadata": {
    "application/vnd.databricks.v1+cell": {
     "cellMetadata": {
      "byteLimit": 2048000,
      "rowLimit": 10000
     },
     "inputWidgets": {},
     "nuid": "fb385ff7-2139-449d-a9a2-c5f6a6f4b5f7",
     "showTitle": false,
     "title": ""
    }
   },
   "outputs": [],
   "source": [
    "MIN_RELEASE_DATE = '1970-01-01'\n",
    "MIN_POPULARITY = 5.0\n",
    "MIN_RATING = 3\n",
    "MIN_USERS = 10\n",
    "MIN_MOVIES = 10\n",
    "FACTOR_DIMENSION = 20\n",
    "INDEX_NAME = \"cf-embed\""
   ]
  },
  {
   "cell_type": "markdown",
   "metadata": {
    "application/vnd.databricks.v1+cell": {
     "cellMetadata": {},
     "inputWidgets": {},
     "nuid": "4c0c228b-1b10-427e-a7db-b1a6cd55f8ca",
     "showTitle": false,
     "title": ""
    }
   },
   "source": [
    "### Import and Clean Raw Data"
   ]
  },
  {
   "cell_type": "markdown",
   "metadata": {
    "application/vnd.databricks.v1+cell": {
     "cellMetadata": {},
     "inputWidgets": {},
     "nuid": "5c968040-f53a-4e5c-9f09-9817298a2866",
     "showTitle": false,
     "title": ""
    }
   },
   "source": [
    "#### Movie Metadata"
   ]
  },
  {
   "cell_type": "code",
   "execution_count": 0,
   "metadata": {
    "application/vnd.databricks.v1+cell": {
     "cellMetadata": {
      "byteLimit": 2048000,
      "rowLimit": 10000
     },
     "inputWidgets": {},
     "nuid": "a5a79c63-d385-4040-8347-d1660881311f",
     "showTitle": false,
     "title": ""
    }
   },
   "outputs": [],
   "source": [
    "metadata_path = \"dbfs:/FileStore/data/raw/movies_metadata.csv\"\n",
    "metadata_raw = spark.read.csv(metadata_path, header=True)\n",
    "# metadata_raw.show(1, truncate=False, vertical=True)"
   ]
  },
  {
   "cell_type": "code",
   "execution_count": 0,
   "metadata": {
    "application/vnd.databricks.v1+cell": {
     "cellMetadata": {
      "byteLimit": 2048000,
      "rowLimit": 10000
     },
     "inputWidgets": {},
     "nuid": "1784aaeb-1971-4f15-9ac9-50bdac19ed1a",
     "showTitle": false,
     "title": ""
    }
   },
   "outputs": [
    {
     "output_type": "stream",
     "name": "stdout",
     "output_type": "stream",
     "text": [
      "root\n |-- tmdb_id: string (nullable = true)\n |-- title: string (nullable = true)\n |-- release_date: date (nullable = true)\n |-- popularity: double (nullable = true)\n |-- genres: array (nullable = true)\n |    |-- element: string (containsNull = true)\n |-- overview: string (nullable = true)\n |-- runtime: double (nullable = true)\n |-- vote_average: double (nullable = true)\n |-- vote_count: integer (nullable = true)\n\n-RECORD 0----------------------------------------------------------------------------------------------------------------------------------------------------------------------------------------------------------------------------------------------------------------------------------------------------------------------------------------------------------------------\n tmdb_id      | 10003                                                                                                                                                                                                                                                                                                                                                          \n title        | The Saint                                                                                                                                                                                                                                                                                                                                                      \n release_date | 1997-04-03                                                                                                                                                                                                                                                                                                                                                     \n popularity   | 10.97633                                                                                                                                                                                                                                                                                                                                                       \n genres       | [Thriller, Action, Romance, Science Fiction, Adventure]                                                                                                                                                                                                                                                                                                        \n overview     | Ivan Tretiak, Russian Mafia boss who wants to create an oil crisis in Moscow and seize power as a result sends Simon Templar, great international criminal, to England to get a secret formula for cold fusion from U.S. scientist Emma Russell. Templar falls in love with Emma and they try to outwit Tretiak and his guerrillas, hiding from them in Moscow \n runtime      | 116.0                                                                                                                                                                                                                                                                                                                                                          \n vote_average | 5.9                                                                                                                                                                                                                                                                                                                                                            \n vote_count   | 310                                                                                                                                                                                                                                                                                                                                                            \nonly showing top 1 row\n\n+-------+-------+\n|tmdb_id|records|\n+-------+-------+\n|   6918|   6918|\n+-------+-------+\n\n"
     ]
    }
   ],
   "source": [
    "metadata = metadata_raw \\\n",
    "    .select(\n",
    "        f.col('id').cast('STRING').alias('tmdb_id'),\n",
    "        f.col('title'),\n",
    "        f.col('overview'),\n",
    "        f.col('status'),\n",
    "        f.col('release_date').cast('DATE').alias('release_date'),\n",
    "        f.col('popularity').cast('DOUBLE').alias('popularity'),\n",
    "        f.transform(f.from_json('genres', \"ARRAY<STRUCT<id:INTEGER,name:STRING>>\"), lambda x: x['name']).alias('genres'),\n",
    "        f.col('runtime').cast('DOUBLE').alias('runtime'),\n",
    "        f.from_json('spoken_languages', \"ARRAY<STRUCT<iso_639_1:STRING,name:STRING>>\").alias('spoken_languages'),\n",
    "        f.col('adult').cast('BOOLEAN').alias('adult'),\n",
    "        f.col('vote_average').cast('DOUBLE').alias('vote_average'),\n",
    "        f.col('vote_count').cast('INTEGER').alias('vote_count')\n",
    "    ) \\\n",
    "    .withColumn('id_rank', f.row_number().over(Window.partitionBy('tmdb_id').orderBy(f.rand(seed=1492)))) \\\n",
    "    .filter(f.col('id_rank') == 1) \\\n",
    "    .filter(f.col('status') == 'Released') \\\n",
    "    .filter(f.col('adult') == False) \\\n",
    "    .filter(f.array_contains(f.transform('spoken_languages', lambda x: x['name']), 'English')) \\\n",
    "    .filter(f.col('release_date') >= MIN_RELEASE_DATE) \\\n",
    "    .filter(f.col('popularity') >= MIN_POPULARITY) \\\n",
    "    .select('tmdb_id', 'title', 'release_date', 'popularity', 'genres', 'overview', 'runtime', 'vote_average', 'vote_count') \\\n",
    "    .sort('tmdb_id')\n",
    "    \n",
    "metadata.printSchema()\n",
    "metadata.show(1, truncate=False, vertical=True)\n",
    "metadata.agg(f.countDistinct('tmdb_id').alias('tmdb_id'), f.count('*').alias('records')).show()"
   ]
  },
  {
   "cell_type": "markdown",
   "metadata": {
    "application/vnd.databricks.v1+cell": {
     "cellMetadata": {},
     "inputWidgets": {},
     "nuid": "48cb791e-b955-4b28-aaf3-dba735d9b1e8",
     "showTitle": false,
     "title": ""
    }
   },
   "source": [
    "#### Movie Keywords"
   ]
  },
  {
   "cell_type": "code",
   "execution_count": 0,
   "metadata": {
    "application/vnd.databricks.v1+cell": {
     "cellMetadata": {
      "byteLimit": 2048000,
      "rowLimit": 10000
     },
     "inputWidgets": {},
     "nuid": "10cdd796-b08c-42e1-8fb4-15352f441a28",
     "showTitle": false,
     "title": ""
    }
   },
   "outputs": [],
   "source": [
    "keywords_path = \"dbfs:/FileStore/data/raw/keywords.csv\"\n",
    "keywords_raw = spark.read.csv(keywords_path, header=True)\n",
    "# keywords_raw.show(1, truncate=False, vertical=True)"
   ]
  },
  {
   "cell_type": "code",
   "execution_count": 0,
   "metadata": {
    "application/vnd.databricks.v1+cell": {
     "cellMetadata": {
      "byteLimit": 2048000,
      "rowLimit": 10000
     },
     "inputWidgets": {},
     "nuid": "f85831b4-02be-4a52-8841-0f45149550e9",
     "showTitle": false,
     "title": ""
    }
   },
   "outputs": [
    {
     "output_type": "stream",
     "name": "stdout",
     "output_type": "stream",
     "text": [
      "root\n |-- tmdb_id: string (nullable = true)\n |-- keywords: array (nullable = true)\n |    |-- element: string (containsNull = true)\n\n-RECORD 0---------------------------------------------------------------------------------------------------------------------------------------------------------------------------------------------\n tmdb_id  | 100                                                                                                                                                                                       \n keywords | [ambush, alcohol, shotgun, tea, joint, machismo, cocktail, rifle, marijuana, cockney accent, pot smoking, hatchet, antique, cardsharp, anger, carjacking, piano, strip show, high stakes] \nonly showing top 1 row\n\n+-------+-------+\n|tmdb_id|records|\n+-------+-------+\n|  45432|  45432|\n+-------+-------+\n\n"
     ]
    }
   ],
   "source": [
    "keywords = keywords_raw \\\n",
    "    .select(\n",
    "        f.col('id').alias('tmdb_id'),\n",
    "        f.transform(f.from_json('keywords', 'ARRAY<STRUCT<id:INTEGER,name:STRING>>'), lambda x: x['name']).alias('keywords')\n",
    "    ) \\\n",
    "    .withColumn('id_rank', f.row_number().over(Window.partitionBy('tmdb_id').orderBy(f.rand(seed=1492)))) \\\n",
    "    .filter(f.col('id_rank') == 1) \\\n",
    "    .select('tmdb_id', 'keywords') \\\n",
    "    .sort('tmdb_id')\n",
    "\n",
    "keywords.printSchema()\n",
    "keywords.show(1, truncate=False, vertical=True)\n",
    "keywords.agg(f.countDistinct('tmdb_id').alias('tmdb_id'), f.count('*').alias('records')).show()"
   ]
  },
  {
   "cell_type": "markdown",
   "metadata": {
    "application/vnd.databricks.v1+cell": {
     "cellMetadata": {},
     "inputWidgets": {},
     "nuid": "e69c76ed-4717-402c-b4cd-ce7c5df8e9b6",
     "showTitle": false,
     "title": ""
    }
   },
   "source": [
    "#### Movie Identifier Crosswalk"
   ]
  },
  {
   "cell_type": "code",
   "execution_count": 0,
   "metadata": {
    "application/vnd.databricks.v1+cell": {
     "cellMetadata": {
      "byteLimit": 2048000,
      "rowLimit": 10000
     },
     "inputWidgets": {},
     "nuid": "0cfdd7fa-6d23-4df0-abd0-a4ed341cac06",
     "showTitle": false,
     "title": ""
    }
   },
   "outputs": [
    {
     "output_type": "stream",
     "name": "stdout",
     "output_type": "stream",
     "text": [
      "root\n |-- movie_id: string (nullable = true)\n |-- imdb_id: string (nullable = true)\n |-- tmdb_id: string (nullable = true)\n\n+--------+-------+-------+\n|movie_id|imdb_id|tmdb_id|\n+--------+-------+-------+\n|1       |0114709|862    |\n|2       |0113497|8844   |\n|3       |0113228|15602  |\n|4       |0114885|31357  |\n|5       |0113041|11862  |\n+--------+-------+-------+\nonly showing top 5 rows\n\n+-------+--------+-------+\n|tmdb_id|movie_id|records|\n+-------+--------+-------+\n|  45594|   45843|  45843|\n+-------+--------+-------+\n\n"
     ]
    }
   ],
   "source": [
    "links_path = \"dbfs:/FileStore/data/raw/links.csv\"\n",
    "links = spark \\\n",
    "    .read.csv(links_path, header=True) \\\n",
    "    .withColumnRenamed('movieId', 'movie_id') \\\n",
    "    .withColumnRenamed('imdbId', 'imdb_id') \\\n",
    "    .withColumnRenamed('tmdbId', 'tmdb_id')\n",
    "\n",
    "links.printSchema()\n",
    "links.show(5, truncate=False)\n",
    "links.agg(f.countDistinct('tmdb_id').alias('tmdb_id'), f.countDistinct('movie_id').alias('movie_id'), f.count('*').alias('records')).show()"
   ]
  },
  {
   "cell_type": "markdown",
   "metadata": {
    "application/vnd.databricks.v1+cell": {
     "cellMetadata": {},
     "inputWidgets": {},
     "nuid": "0226fddd-ed46-440e-9f5b-a32432df6853",
     "showTitle": false,
     "title": ""
    }
   },
   "source": [
    "#### Create a Combined Movies Dataset"
   ]
  },
  {
   "cell_type": "code",
   "execution_count": 0,
   "metadata": {
    "application/vnd.databricks.v1+cell": {
     "cellMetadata": {
      "byteLimit": 2048000,
      "rowLimit": 10000
     },
     "inputWidgets": {},
     "nuid": "0f303e7d-474f-4072-9016-44cc7304914b",
     "showTitle": false,
     "title": ""
    }
   },
   "outputs": [
    {
     "output_type": "stream",
     "name": "stdout",
     "output_type": "stream",
     "text": [
      "+--------+-------+-------+--------------------+------------+-------+----------+--------------------+--------------------+--------------------+------------+----------+\n|movie_id|tmdb_id|imdb_id|               title|release_date|runtime|popularity|            overview|              genres|            keywords|vote_average|vote_count|\n+--------+-------+-------+--------------------+------------+-------+----------+--------------------+--------------------+--------------------+------------+----------+\n|    7444|  10096|0337563|      13 Going on 30|  2004-04-13|   98.0| 12.632595|After total humil...|[Comedy, Fantasy,...|[new york, photog...|         6.3|      1260|\n|    1623|  10351|0120524|          Wishmaster|  1997-09-19|   90.0|  5.215107|The Djinn having ...|            [Horror]|[fire, menace, wi...|         5.6|       114|\n|     412|  10436|0106226|The Age of Innocence|  1993-09-17|  139.0|  8.013617|Tale of 19th cent...|    [Drama, Romance]|[upper class, new...|         7.0|       172|\n|    2672|   1090|0139809|The Thirteenth Floor|  1999-04-16|  100.0|  9.356587|Computer scientis...|[Thriller, Scienc...|[artificial intel...|         6.8|       381|\n|    6014|  11078|0271668|   National Security|  2003-01-17|   88.0|  6.409297|Two mismatched se...|[Action, Comedy, ...|[security camera,...|         5.5|       244|\n|    5048|  11888|0281373|           Snow Dogs|  2002-01-18|   99.0| 13.470227|When a Miami dent...|[Adventure, Comed...|[adoption, log ca...|         5.3|       190|\n|  102819| 119675|1291580|Behind the Candel...|  2013-05-26|  118.0|  7.339451|Based on the auto...|    [Drama, Romance]|[based on novel, ...|         6.6|       307|\n|    7991|  13282|0072856|     Death Race 2000|  1975-04-27|   80.0|  6.064898|In a boorish futu...|[Action, Comedy, ...|[dystopia, street...|         6.0|       125|\n|     165|   1572|0112864|Die Hard: With a ...|  1995-05-19|  128.0| 15.138855|\"New York detecti...|  [Action, Thriller]|[bomb, taxi, ridd...|         6.9|      2094|\n|   34405|  16320|0379786|            Serenity|  2005-08-25|  119.0| 11.919995|When the renegade...|[Science Fiction,...|[martial arts, te...|         7.4|      1287|\n+--------+-------+-------+--------------------+------------+-------+----------+--------------------+--------------------+--------------------+------------+----------+\nonly showing top 10 rows\n\nroot\n |-- movie_id: string (nullable = true)\n |-- tmdb_id: string (nullable = true)\n |-- imdb_id: string (nullable = true)\n |-- title: string (nullable = true)\n |-- release_date: date (nullable = true)\n |-- runtime: double (nullable = true)\n |-- popularity: double (nullable = true)\n |-- overview: string (nullable = true)\n |-- genres: array (nullable = true)\n |    |-- element: string (containsNull = true)\n |-- keywords: array (nullable = true)\n |    |-- element: string (containsNull = true)\n |-- vote_average: double (nullable = true)\n |-- vote_count: integer (nullable = true)\n\n+--------+-------+-------+\n|movie_id|tmdb_id|records|\n+--------+-------+-------+\n|    6924|   6918|   6924|\n+--------+-------+-------+\n\n+--------+-------+-------+-----+------------+-------+----------+--------+------+--------------------+--------------------+--------------------+\n|movie_id|tmdb_id|imdb_id|title|release_date|runtime|popularity|overview|genres|            keywords|        vote_average|          vote_count|\n+--------+-------+-------+-----+------------+-------+----------+--------+------+--------------------+--------------------+--------------------+\n|     0.0|    0.0|    0.0|  0.0|         0.0|    0.0|       0.0|     0.0|   0.0|0.035239745811669554|5.777007510109763E-4|2.888503755054881...|\n+--------+-------+-------+-----+------------+-------+----------+--------+------+--------------------+--------------------+--------------------+\n\n"
     ]
    }
   ],
   "source": [
    "movies = metadata \\\n",
    "    .join(keywords, on='tmdb_id', how='inner') \\\n",
    "    .join(links,    on='tmdb_id', how='inner') \\\n",
    "    .select('movie_id', 'tmdb_id', 'imdb_id', 'title', 'release_date', 'runtime', 'popularity', 'overview', 'genres', 'keywords', 'vote_average', 'vote_count') \\\n",
    "    .cache()\n",
    "\n",
    "movies.show(10)\n",
    "movies.printSchema()\n",
    "movies.agg(f.countDistinct('movie_id').alias('movie_id'), f.countDistinct('tmdb_id').alias('tmdb_id'), f.count('*').alias('records')).show()\n",
    "movies.agg(*[f.avg(f.col(col).isNull().cast('int')).alias(col) for col in movies.columns]).show()"
   ]
  },
  {
   "cell_type": "markdown",
   "metadata": {
    "application/vnd.databricks.v1+cell": {
     "cellMetadata": {},
     "inputWidgets": {},
     "nuid": "e1eef41a-6fc2-43da-86fb-1059ced332cd",
     "showTitle": false,
     "title": ""
    }
   },
   "source": [
    "#### Save the Combined Movies Dataset"
   ]
  },
  {
   "cell_type": "code",
   "execution_count": 0,
   "metadata": {
    "application/vnd.databricks.v1+cell": {
     "cellMetadata": {
      "byteLimit": 2048000,
      "rowLimit": 10000
     },
     "inputWidgets": {},
     "nuid": "a6548dce-796d-494b-af4a-303bf4e2325f",
     "showTitle": false,
     "title": ""
    }
   },
   "outputs": [],
   "source": [
    "movies_path = \"dbfs:/FileStore/data/clean/movies\"\n",
    "movies.repartition(10).write.parquet(movies_path, mode='overwrite')"
   ]
  },
  {
   "cell_type": "markdown",
   "metadata": {
    "application/vnd.databricks.v1+cell": {
     "cellMetadata": {},
     "inputWidgets": {},
     "nuid": "a5aa99e3-992a-4af8-88cb-b8590dc00d71",
     "showTitle": false,
     "title": ""
    }
   },
   "source": [
    "#### Import and Clean the Ratings Data"
   ]
  },
  {
   "cell_type": "code",
   "execution_count": 0,
   "metadata": {
    "application/vnd.databricks.v1+cell": {
     "cellMetadata": {
      "byteLimit": 2048000,
      "rowLimit": 10000
     },
     "inputWidgets": {},
     "nuid": "5b222b3e-89f6-4c70-80b6-ec65fd0fab8d",
     "showTitle": false,
     "title": ""
    }
   },
   "outputs": [
    {
     "output_type": "stream",
     "name": "stdout",
     "output_type": "stream",
     "text": [
      "+------+-------+------+----------+\n|userId|movieId|rating|timestamp |\n+------+-------+------+----------+\n|1     |110    |1.0   |1425941529|\n|1     |147    |4.5   |1425942435|\n|1     |858    |5.0   |1425941523|\n|1     |1221   |5.0   |1425941546|\n|1     |1246   |5.0   |1425941556|\n+------+-------+------+----------+\nonly showing top 5 rows\n\n"
     ]
    }
   ],
   "source": [
    "ratings_path = \"dbfs:/FileStore/data/raw/ratings.csv\"\n",
    "ratings_raw = spark.read.csv(ratings_path, header=True)\n",
    "ratings_raw.show(5, truncate=False)"
   ]
  },
  {
   "cell_type": "code",
   "execution_count": 0,
   "metadata": {
    "application/vnd.databricks.v1+cell": {
     "cellMetadata": {
      "byteLimit": 2048000,
      "rowLimit": 10000
     },
     "inputWidgets": {},
     "nuid": "d488e91f-5922-417c-b8cb-84d4b162e670",
     "showTitle": false,
     "title": ""
    }
   },
   "outputs": [
    {
     "output_type": "stream",
     "name": "stdout",
     "output_type": "stream",
     "text": [
      "root\n |-- user_id: string (nullable = true)\n |-- movie_id: string (nullable = true)\n |-- rating: double (nullable = true)\n |-- timestamp: string (nullable = true)\n\n+-------+--------+------+-------------------+\n|user_id|movie_id|rating|timestamp          |\n+-------+--------+------+-------------------+\n|1      |110     |1.0   |2015-03-09 22:52:09|\n|1      |147     |4.5   |2015-03-09 23:07:15|\n|1      |858     |5.0   |2015-03-09 22:52:03|\n|1      |1221    |5.0   |2015-03-09 22:52:26|\n|1      |1246    |5.0   |2015-03-09 22:52:36|\n+-------+--------+------+-------------------+\nonly showing top 5 rows\n\n+-----------+------------+-------------+\n|total_users|total_movies|total_ratings|\n+-----------+------------+-------------+\n|     270896|       45115|     26024289|\n+-----------+------------+-------------+\n\n"
     ]
    }
   ],
   "source": [
    "ratings = ratings_raw \\\n",
    "    .select(\n",
    "        f.col('userId').alias('user_id'),\n",
    "        f.col('movieId').alias('movie_id'),\n",
    "        f.col('rating').cast('DOUBLE').alias('rating'),\n",
    "        f.from_unixtime('timestamp').alias('timestamp')\n",
    "    )\n",
    "\n",
    "ratings.printSchema()\n",
    "ratings.show(5, truncate=False)\n",
    "ratings.agg(f.countDistinct('user_id').alias('total_users'), f.countDistinct('movie_id').alias('total_movies'), f.count('*').alias('total_ratings')).show()"
   ]
  },
  {
   "cell_type": "markdown",
   "metadata": {
    "application/vnd.databricks.v1+cell": {
     "cellMetadata": {},
     "inputWidgets": {},
     "nuid": "2d0399e9-fcc8-4abb-acb9-edc37080f992",
     "showTitle": false,
     "title": ""
    }
   },
   "source": [
    "#### Save the Ratings Dataset"
   ]
  },
  {
   "cell_type": "code",
   "execution_count": 0,
   "metadata": {
    "application/vnd.databricks.v1+cell": {
     "cellMetadata": {
      "byteLimit": 2048000,
      "rowLimit": 10000
     },
     "inputWidgets": {},
     "nuid": "64b9b72e-e869-4b05-951e-eb1fa49bc08a",
     "showTitle": false,
     "title": ""
    }
   },
   "outputs": [],
   "source": [
    "ratings_path = \"dbfs:/FileStore/data/clean/ratings\"\n",
    "ratings.repartition(10).write.parquet(ratings_path, mode='overwrite')"
   ]
  },
  {
   "cell_type": "markdown",
   "metadata": {
    "application/vnd.databricks.v1+cell": {
     "cellMetadata": {},
     "inputWidgets": {},
     "nuid": "6e9b7dfd-b0f8-444f-a0fe-66a0c4629594",
     "showTitle": false,
     "title": ""
    }
   },
   "source": [
    "### Train the Implicit Feedback Recommender Model and Extract Embeddings"
   ]
  },
  {
   "cell_type": "markdown",
   "metadata": {
    "application/vnd.databricks.v1+cell": {
     "cellMetadata": {},
     "inputWidgets": {},
     "nuid": "0eae88cf-2153-4919-9a16-e11267fd8309",
     "showTitle": false,
     "title": ""
    }
   },
   "source": [
    "#### Convert the Ratings to an Implicit Feedback Dataset"
   ]
  },
  {
   "cell_type": "code",
   "execution_count": 0,
   "metadata": {
    "application/vnd.databricks.v1+cell": {
     "cellMetadata": {
      "byteLimit": 2048000,
      "rowLimit": 10000
     },
     "inputWidgets": {},
     "nuid": "993886fc-7f9f-4def-8f99-b3cab4a368a8",
     "showTitle": false,
     "title": ""
    }
   },
   "outputs": [
    {
     "output_type": "stream",
     "name": "stdout",
     "output_type": "stream",
     "text": [
      "total_users=195883 total_movies=6236 total_ratings=15372570 sparsity=0.9874\n"
     ]
    }
   ],
   "source": [
    "model_frame = ratings \\\n",
    "    .join(movies, on='movie_id', how='inner') \\\n",
    "    .select('user_id', 'movie_id', 'rating', 'timestamp') \\\n",
    "    .filter(f.col('rating') >= MIN_RATING) \\\n",
    "    .withColumn('cnt_users', f.count('user_id').over(Window.partitionBy('movie_id'))) \\\n",
    "    .filter(f.col('cnt_users') >= MIN_USERS) \\\n",
    "    .withColumn('cnt_movies', f.count('movie_id').over(Window.partitionBy('user_id'))) \\\n",
    "    .filter(f.col('cnt_movies') >= MIN_MOVIES) \\\n",
    "    .withColumn('rating', f.col('rating') - (MIN_RATING - 1)) \\\n",
    "    .withColumn('user_id', f.col('user_id').cast('INTEGER')) \\\n",
    "    .withColumn('movie_id', f.col('movie_id').cast('INTEGER')) \\\n",
    "    .cache()\n",
    "\n",
    "counts = model_frame.agg(f.countDistinct('user_id').alias('total_users'), f.countDistinct('movie_id').alias('total_movies'), f.count('*').alias('total_ratings')).first()\n",
    "sparsity = round(1 - (counts['total_ratings'] / (counts['total_users'] * counts['total_movies'])), 4)\n",
    "print(f\"total_users={counts['total_users']} total_movies={counts['total_movies']} total_ratings={counts['total_ratings']} sparsity={sparsity}\")"
   ]
  },
  {
   "cell_type": "code",
   "execution_count": 0,
   "metadata": {
    "application/vnd.databricks.v1+cell": {
     "cellMetadata": {
      "byteLimit": 2048000,
      "rowLimit": 10000
     },
     "inputWidgets": {},
     "nuid": "e61e4a92-dc29-472c-83aa-dd3758553039",
     "showTitle": false,
     "title": ""
    }
   },
   "outputs": [],
   "source": [
    "model_frame_path = \"dbfs:/FileStore/data/clean/model_frame\"\n",
    "model_frame.repartition(10).write.parquet(model_frame_path, mode='overwrite')"
   ]
  },
  {
   "cell_type": "markdown",
   "metadata": {
    "application/vnd.databricks.v1+cell": {
     "cellMetadata": {},
     "inputWidgets": {},
     "nuid": "f65cb00a-5ea6-4aff-9720-a504f1901007",
     "showTitle": false,
     "title": ""
    }
   },
   "source": [
    "### Train the ALS Recommender Model"
   ]
  },
  {
   "cell_type": "code",
   "execution_count": 0,
   "metadata": {
    "application/vnd.databricks.v1+cell": {
     "cellMetadata": {
      "byteLimit": 2048000,
      "rowLimit": 10000
     },
     "inputWidgets": {},
     "nuid": "432e0608-2230-4049-ae8a-0c4e769e4146",
     "showTitle": false,
     "title": ""
    }
   },
   "outputs": [
    {
     "output_type": "stream",
     "name": "stdout",
     "output_type": "stream",
     "text": [
      "Out[22]: ALSModel: uid=ALS_d05ee7c4bd21, rank=20"
     ]
    }
   ],
   "source": [
    "estimator = ALS(rank=FACTOR_DIMENSION, maxIter=15, regParam=0.1, implicitPrefs=True, userCol='user_id', itemCol='movie_id', ratingCol='rating', coldStartStrategy='nan')\n",
    "transformer = estimator.fit(model_frame)\n",
    "transformer"
   ]
  },
  {
   "cell_type": "markdown",
   "metadata": {
    "application/vnd.databricks.v1+cell": {
     "cellMetadata": {},
     "inputWidgets": {},
     "nuid": "0e194305-8598-4eec-8e46-6e13c52c717e",
     "showTitle": false,
     "title": ""
    }
   },
   "source": [
    "### Extract The User/Movie Embeddings"
   ]
  },
  {
   "cell_type": "code",
   "execution_count": 0,
   "metadata": {
    "application/vnd.databricks.v1+cell": {
     "cellMetadata": {
      "byteLimit": 2048000,
      "rowLimit": 10000
     },
     "inputWidgets": {},
     "nuid": "11207ec7-7033-4687-a5bc-f6aa972d05e2",
     "showTitle": false,
     "title": ""
    }
   },
   "outputs": [
    {
     "output_type": "stream",
     "name": "stdout",
     "output_type": "stream",
     "text": [
      "Out[25]: (195883, 6236)"
     ]
    }
   ],
   "source": [
    "user_embeddings = transformer.userFactors \\\n",
    "    .withColumn('id', f.col('id').cast('string')) \\\n",
    "    .withColumnRenamed('features', 'values') \\\n",
    "    .toPandas() \\\n",
    "    .to_dict(orient='records')\n",
    "\n",
    "movie_embeddings = transformer.itemFactors \\\n",
    "    .withColumn('id', f.col('id').cast('string')) \\\n",
    "    .withColumnRenamed('features', 'values') \\\n",
    "    .toPandas() \\\n",
    "    .to_dict(orient='records')\n",
    "\n",
    "user_embeddings  = [{\"id\": item[\"id\"], \"values\": item[\"values\"].tolist()} for item in user_embeddings]\n",
    "movie_embeddings = [{\"id\": item[\"id\"], \"values\": item[\"values\"].tolist()} for item in movie_embeddings]\n",
    "len(user_embeddings), len(movie_embeddings)"
   ]
  },
  {
   "cell_type": "code",
   "execution_count": 0,
   "metadata": {
    "application/vnd.databricks.v1+cell": {
     "cellMetadata": {
      "byteLimit": 2048000,
      "rowLimit": 10000
     },
     "inputWidgets": {},
     "nuid": "25cdafdf-3d54-44df-9f8b-c5fadb9b1444",
     "showTitle": false,
     "title": ""
    }
   },
   "outputs": [
    {
     "output_type": "stream",
     "name": "stdout",
     "output_type": "stream",
     "text": [
      "Out[26]: {'id': '10',\n 'values': [-0.0364203155040741,\n  0.10358455032110214,\n  0.002394407754763961,\n  0.009727544151246548,\n  -0.09657862037420273,\n  0.1660528928041458,\n  -0.17063908278942108,\n  0.18315237760543823,\n  0.17520791292190552,\n  0.14551199972629547,\n  0.2445758730173111,\n  0.08945835381746292,\n  -0.13605937361717224,\n  0.01712501235306263,\n  -0.44428420066833496,\n  0.2247859686613083,\n  0.1914227455854416,\n  0.29872438311576843,\n  -0.1750021129846573,\n  0.047015074640512466]}"
     ]
    }
   ],
   "source": [
    "user_embeddings[0]"
   ]
  },
  {
   "cell_type": "markdown",
   "metadata": {
    "application/vnd.databricks.v1+cell": {
     "cellMetadata": {},
     "inputWidgets": {},
     "nuid": "1d97513a-8f57-47ea-be7f-4d46bd93a5f3",
     "showTitle": false,
     "title": ""
    }
   },
   "source": [
    "### Insert the User/Movie Embeddings into Pinecone"
   ]
  },
  {
   "cell_type": "code",
   "execution_count": 0,
   "metadata": {
    "application/vnd.databricks.v1+cell": {
     "cellMetadata": {
      "byteLimit": 2048000,
      "rowLimit": 10000
     },
     "inputWidgets": {},
     "nuid": "0edf2493-2310-4d61-a284-59bdaed8529c",
     "showTitle": false,
     "title": ""
    }
   },
   "outputs": [
    {
     "output_type": "stream",
     "name": "stderr",
     "output_type": "stream",
     "text": [
      "/databricks/python_shell/dbruntime/PythonPackageImportsInstrumentation/__init__.py:171: TqdmExperimentalWarning: Using `tqdm.autonotebook.tqdm` in notebook mode. Use `tqdm.tqdm` instead to force console mode (e.g. in jupyter console)\n  original_result = python_builtin_import(name, globals, locals, fromlist, level)\n"
     ]
    }
   ],
   "source": [
    "import pinecone      \n",
    "pinecone.init(api_key=os.environ[\"PINECONE_API_KEY\"], environment=os.environ[\"PINECONE_ENVIRONMENT\"])   "
   ]
  },
  {
   "cell_type": "code",
   "execution_count": 0,
   "metadata": {
    "application/vnd.databricks.v1+cell": {
     "cellMetadata": {
      "byteLimit": 2048000,
      "rowLimit": 10000
     },
     "inputWidgets": {},
     "nuid": "f278abfb-1582-4d0f-ac85-5a7c94b8cc37",
     "showTitle": false,
     "title": ""
    }
   },
   "outputs": [],
   "source": [
    "# pinecone.delete_index(INDEX_NAME)\n",
    "# pinecone.create_index(name=INDEX_NAME, dimension=FACTOR_DIMENSION, metric='cosine', pods=1, replicas=1, pod_type=\"p1\")"
   ]
  },
  {
   "cell_type": "code",
   "execution_count": 0,
   "metadata": {
    "application/vnd.databricks.v1+cell": {
     "cellMetadata": {
      "byteLimit": 2048000,
      "rowLimit": 10000
     },
     "inputWidgets": {},
     "nuid": "63c3fdc0-b330-4042-813c-37b628a68b7a",
     "showTitle": false,
     "title": ""
    }
   },
   "outputs": [
    {
     "output_type": "stream",
     "name": "stdout",
     "output_type": "stream",
     "text": [
      "Out[29]: {'dimension': 20,\n 'index_fullness': 0.0,\n 'namespaces': {'movies': {'vector_count': 6238},\n                'users': {'vector_count': 195889}},\n 'total_vector_count': 202127}"
     ]
    }
   ],
   "source": [
    "index = pinecone.Index('cf-embed')\n",
    "index.describe_index_stats()"
   ]
  },
  {
   "cell_type": "code",
   "execution_count": 0,
   "metadata": {
    "application/vnd.databricks.v1+cell": {
     "cellMetadata": {
      "byteLimit": 2048000,
      "rowLimit": 10000
     },
     "inputWidgets": {},
     "nuid": "51dbe809-7140-47a8-8bbc-e9f274bdceac",
     "showTitle": false,
     "title": ""
    }
   },
   "outputs": [
    {
     "output_type": "display_data",
     "data": {
      "application/vnd.jupyter.widget-view+json": {
       "model_id": "a838d2520b3f40cab6fe019b8d438db1",
       "version_major": 2,
       "version_minor": 0
      },
      "text/plain": [
       "Upserted vectors:   0%|          | 0/195883 [00:00<?, ?it/s]"
      ]
     },
     "metadata": {},
     "output_type": "display_data"
    },
    {
     "output_type": "stream",
     "name": "stdout",
     "output_type": "stream",
     "text": [
      "Out[30]: {'upserted_count': 195883}"
     ]
    }
   ],
   "source": [
    "index.upsert(vectors=user_embeddings, namespace=\"users\", batch_size=100)"
   ]
  },
  {
   "cell_type": "code",
   "execution_count": 0,
   "metadata": {
    "application/vnd.databricks.v1+cell": {
     "cellMetadata": {
      "byteLimit": 2048000,
      "rowLimit": 10000
     },
     "inputWidgets": {},
     "nuid": "037d0e1d-e7de-4aec-9630-ee9bb3345ae7",
     "showTitle": false,
     "title": ""
    }
   },
   "outputs": [
    {
     "output_type": "display_data",
     "data": {
      "application/vnd.jupyter.widget-view+json": {
       "model_id": "11065d6fe37c478faa14dbec7d4d695c",
       "version_major": 2,
       "version_minor": 0
      },
      "text/plain": [
       "Upserted vectors:   0%|          | 0/6236 [00:00<?, ?it/s]"
      ]
     },
     "metadata": {},
     "output_type": "display_data"
    },
    {
     "output_type": "stream",
     "name": "stdout",
     "output_type": "stream",
     "text": [
      "Out[31]: {'upserted_count': 6236}"
     ]
    }
   ],
   "source": [
    "index.upsert(vectors=movie_embeddings, namespace=\"movies\", batch_size=100)"
   ]
  },
  {
   "cell_type": "code",
   "execution_count": 0,
   "metadata": {
    "application/vnd.databricks.v1+cell": {
     "cellMetadata": {
      "byteLimit": 2048000,
      "rowLimit": 10000
     },
     "inputWidgets": {},
     "nuid": "60ed05ea-d897-40ca-83db-4b06b9778cc0",
     "showTitle": false,
     "title": ""
    }
   },
   "outputs": [
    {
     "output_type": "stream",
     "name": "stdout",
     "output_type": "stream",
     "text": [
      "Out[32]: {'dimension': 20,\n 'index_fullness': 0.0,\n 'namespaces': {'movies': {'vector_count': 6238},\n                'users': {'vector_count': 195889}},\n 'total_vector_count': 202127}"
     ]
    }
   ],
   "source": [
    "index.describe_index_stats()"
   ]
  },
  {
   "cell_type": "markdown",
   "metadata": {
    "application/vnd.databricks.v1+cell": {
     "cellMetadata": {},
     "inputWidgets": {},
     "nuid": "d7fe251d-819e-42a9-97df-5f6aaa9fbc69",
     "showTitle": false,
     "title": ""
    }
   },
   "source": [
    "### Spot Check the Embeddings using Similarity Queries"
   ]
  },
  {
   "cell_type": "code",
   "execution_count": 0,
   "metadata": {
    "application/vnd.databricks.v1+cell": {
     "cellMetadata": {
      "byteLimit": 2048000,
      "rowLimit": 10000
     },
     "inputWidgets": {},
     "nuid": "268f7ef2-c295-422a-91ff-e1dd9db7fb27",
     "showTitle": false,
     "title": ""
    }
   },
   "outputs": [
    {
     "output_type": "stream",
     "name": "stdout",
     "output_type": "stream",
     "text": [
      "+--------+-------+-------+--------------------+------------+-------+----------+--------------------+--------------------+--------------------+------------+----------+\n|movie_id|tmdb_id|imdb_id|               title|release_date|runtime|popularity|            overview|              genres|            keywords|vote_average|vote_count|\n+--------+-------+-------+--------------------+------------+-------+----------+--------------------+--------------------+--------------------+------------+----------+\n|       1|    862|0114709|           Toy Story|  1995-10-30|   81.0| 21.946943|Led by Woody, And...|[Animation, Comed...|[jealousy, toy, b...|         7.7|      5415|\n|      10|    710|0113189|           GoldenEye|  1995-11-16|  130.0| 14.686036|James Bond must u...|[Adventure, Actio...|[cuba, falsely ac...|         6.6|      1194|\n|  100010|  59197|1758570|Battle of Los Ang...|  2011-03-10|   91.0|  7.987112|In February 1942 ...|[Science Fiction,...|[android, pilot, ...|         3.8|        46|\n|  100017|  84290|2011953|  Keep the Lights On|  2012-02-25|  101.0|  6.651607|An emotionally an...|    [Drama, Romance]|[hiv, lgbt, docum...|         5.4|        25|\n|  100062|  94047|1606384|              My Way|  2011-12-21|  137.0|   5.74216|Inspired by a tru...|[Drama, Action, H...|      [world war ii]|         7.6|        75|\n|  100068|  85872|1911553|             Le Chef|  2012-03-07|   84.0|  5.691572|A veteran chef fa...|            [Comedy]|                  []|         5.9|       173|\n|  100093| 156717|1988591| Death Race: Inferno|  2013-01-04|  105.0|  8.531668|Carl Lucas / Fran...|[Action, Science ...|       [sequel, car]|         5.3|       231|\n|  100108| 119283|1904996|              Parker|  2013-01-23|  118.0| 13.963892|A thief with a un...|     [Action, Crime]|[professional thi...|         5.7|      1467|\n|  100159| 117974|2023690|          Sightseers|  2012-11-30|   88.0|  9.921876|Chris wants to sh...|[Comedy, Crime, A...|[caravan, series ...|         6.2|       187|\n|  100163|  60304|1428538|Hansel & Gretel: ...|  2013-01-17|   88.0| 10.337211|After getting a t...|[Fantasy, Horror,...|[witch, black mag...|         5.7|      3290|\n|  100244|  87499|1869716|            The East|  2013-05-31|  116.0|   6.53667|An operative for ...|   [Drama, Thriller]|[secret organizat...|         6.5|       308|\n|  100302|  58244|1374992|         Upside Down|  2012-09-27|  104.0|   7.37535|In an alternate u...|[Romance, Science...|                  []|         6.2|      1094|\n|  100304| 162145|2081437|       The Liability|  2012-11-24|   95.0|  6.301471|When 19-year-old ...|[Thriller, Comedy...|[thriller, road m...|         5.7|        85|\n|  100322|  81446|1836944| The Baytown Outlaws|  2012-08-27|   98.0|  7.379497|When three rednec...|[Action, Comedy, ...|[painted face, fa...|         5.9|       108|\n|  100326| 121824|1389096|       Stand Up Guys|  2013-01-31|   95.0|   5.75637|After serving 28 ...|[Thriller, Comedy...|[release from pri...|         5.9|       327|\n|  100342|  34843|0395571|             Hawking|  2004-12-10|   90.0|  6.400496|The story of Prof...|   [Drama, TV Movie]|[biography, steph...|         7.1|        43|\n|  100356|  90369|1937264|         Now Is Good|  2012-05-25|  103.0|  5.348025|A girl dying of l...|    [Drama, Romance]|[cancer, teenager...|         7.3|       379|\n|  100359| 150202|1457765|The Haunting in C...|  2013-02-01|  101.0|   8.61296|Sequel to the 200...|[Horror, Drama, T...|[new home, ghost,...|         5.6|       177|\n|  100363|  13648|1174954|Resident Evil: De...|  2008-02-13|   97.0|  8.156555|A zombie attack b...|[Animation, Horro...|[biological weapo...|         6.3|       248|\n|  100383| 109421|2053463|        Side Effects|  2013-02-07|  106.0| 11.645847|A woman turns to ...|[Thriller, Crime,...|[fraud, cover-up,...|         6.4|      1340|\n|  100385| 121598|1714866| Midnight's Children|  2012-10-26|  148.0|   8.00411|A Canadian-Brith ...|             [Drama]|    [woman director]|         5.4|        15|\n|  100390| 109431|2024432|      Identity Thief|  2013-02-07|  111.0|  7.321172|When a mild-manne...|     [Comedy, Crime]|                  []|         5.6|      1667|\n|  100397|  87436|1935896|   The ABCs of Death|  2013-06-28|  123.0|  5.839324|An ambitious anth...|            [Horror]|[horror, woman di...|         4.7|       175|\n|    1004|   9625|0116421|     The Glimmer Man|  1996-10-04|   92.0|  5.918737|A former governme...|[Action, Adventur...|[secret agent, pa...|         4.7|       102|\n|  100440| 121835|1996310|                Lore|  2012-08-02|  108.0|  6.468915|After her Nazi pa...|[Drama, War, Thri...|    [woman director]|         7.1|       104|\n|  100469|  98567|1424310|      Chinese Zodiac|  2012-12-20|  120.0|  11.02591|Asian Hawk (Jacki...| [Action, Adventure]|                [3d]|         6.0|       266|\n|  100487| 109491|1559547| Beautiful Creatures|  2013-02-13|  124.0| 20.485203|Ethan Wate just w...|[Fantasy, Drama, ...|[civil war, south...|         5.6|      1017|\n|  100498|  47964|1606378|A Good Day to Die...|  2013-02-06|   98.0| 12.471865|Iconoclastic, tak...|  [Action, Thriller]|[bomb, cia, russi...|         5.2|      3519|\n|    1005|  10680|0116000|D3: The Mighty Ducks|  1996-10-04|  104.0|  5.511475|The Ducks are off...|[Action, Comedy, ...|[college, sport, ...|         5.3|        99|\n|  100507| 107811|1711425|           21 & Over|  2013-03-01|   93.0|  11.29356|Brilliant student...|            [Comedy]|[alcohol, birthda...|         5.7|       748|\n|  100527| 112949|1702439|          Safe Haven|  2013-02-07|  115.0|  7.598422|A young woman wit...|           [Romance]|[based on novel, ...|         6.9|       840|\n|  100529|  85545|1549589|               Elles|  2011-09-09|   96.0|  9.921433|A journalist trie...|    [Drama, Romance]|[female nudity, s...|         5.1|        45|\n|  100556| 123678|2375605|  The Act of Killing|  2012-08-31|  115.0|  6.373118|In a place where ...|       [Documentary]|[corruption, war,...|         7.5|       213|\n|  100579| 122857|1659343|Universal Soldier...|  2012-10-04|  114.0| 12.887287|In a world withou...|[Thriller, Action...|                null|         5.1|       139|\n|  100581|  84330|2085910|            Room 237|  2012-10-26|  102.0|  6.154844|A subjective docu...|       [Documentary]|[conspiracy theor...|         6.2|       212|\n|  100611|  68179|0765446|Escape from Plane...|  2013-02-14|   89.0| 11.617481|Astronaut Scorch ...|[Animation, Comed...|[spaceship, alien...|         5.7|       337|\n|  100714| 132344|2209418|     Before Midnight|  2013-04-05|  108.0|  11.30324|We meet Jesse and...|    [Romance, Drama]|[hotel, airport, ...|         7.3|       583|\n|  100717|  89008|1313139|         The Oranges|  2011-09-09|   90.0| 13.869345|A man's (Hugh Lau...|[Comedy, Romance,...|[family relations...|         5.3|       149|\n|  100729| 114478|2085930|Starship Troopers...|  2012-07-21|   89.0| 13.357011|A distant Federat...|[Animation, Actio...|[starships, space...|         5.6|       139|\n|  100737| 134411|0882977|              Snitch|  2013-02-21|  112.0| 13.542675|Construction comp...|   [Thriller, Drama]|[father son relat...|         5.8|      1155|\n|  100810| 145135|2387433|          Dark Skies|  2013-02-21|   97.0| 26.972326|From the producer...|[Science Fiction,...|[supernatural, ho...|         6.1|       668|\n|  100843| 130739|1954701|  A Coffee in Berlin|  2012-07-03|   88.0|   7.90622|A fateful day pus...|     [Comedy, Drama]|                  []|         7.0|       113|\n|    1009|  14821|0072951|Escape to Witch M...|  1975-03-21|   97.0|  7.151691|Tia and Tony are ...|[Adventure, Fanta...| [attempt to escape]|         6.5|        60|\n|     101|  13685|0115734|       Bottle Rocket|  1996-02-21|   91.0|  6.904831|Upon his release ...|[Comedy, Crime, D...|[brother brother ...|         6.8|       285|\n|  101025|  81005|1351685|Jack the Giant Sl...|  2013-02-27|  114.0| 11.606061|The story of an a...|[Action, Family, ...|[based on fairy t...|         5.5|      2634|\n|  101060| 146203|2034139|The Last Exorcism...|  2013-02-28|   88.0|  5.874458|As Nell Sweetzer ...|  [Horror, Thriller]|     [found footage]|         4.4|       204|\n|  101076|  72559|1583421|G.I. Joe: Retalia...|  2013-03-26|  110.0| 10.560608|Framed for crimes...|[Adventure, Actio...|[terror, assassin...|         5.4|      3045|\n|  101088|  86825|1682180|              Stoker|  2013-02-28|   99.0|  7.222816|After India's fat...|[Drama, Horror, T...|           [mystery]|         6.5|       895|\n|  101097| 152259|1922685|             Phantom|  2013-01-03|   99.0|  6.651567|The haunted Capta...|          [Thriller]|[submarine, cold ...|         5.5|       120|\n|  101112|  68728|1623205|Oz: The Great and...|  2013-03-07|  130.0| 11.137329|Oscar Diggs, a sm...|[Fantasy, Adventu...|[circus, witch, m...|         5.7|      3576|\n|  101137| 102362|2101341|       Dead Man Down|  2013-03-08|  118.0|  7.150388|In New York City,...|[Thriller, Action...|[revenge, new yor...|         5.9|       646|\n|  101142|  49519|0481499|          The Croods|  2013-03-20|   98.0| 14.757874|The Croods is a p...|[Adventure, Anima...|[stone age, daugh...|         6.8|      2447|\n|  101168|  17728|0800268|             Wieners|  2008-06-03|   89.0| 11.978788|A road trip comed...|            [Comedy]|                  []|         5.1|        16|\n|  101182|  26883|0098512|The Trial of the ...|  1989-05-06|  100.0|  5.702677|On the run again,...|[Adventure, Fanta...|[dual identity, c...|         4.9|        15|\n|  101186| 136403|2070776|           Populaire|  2012-11-27|  111.0|  8.804555|Set in 1958, Popu...|            [Comedy]|[typewriter, 1950...|         6.6|       190|\n|  101260|  35558|1579247|          StarStruck|  2010-02-14|   90.0|  5.458241|Jessica Olsen goe...|[Comedy, Romance,...|[beach, sister si...|         6.3|       231|\n|  101262|  81250|1835977|       Geek Charming|  2011-11-11|   97.0|   5.04144|Dylan Schoenfield...|[Comedy, Drama, F...|[geek, high schoo...|         6.0|       188|\n|  101281| 150117|2244901|    I Give It a Year|  2013-02-08|   97.0| 11.783332|After a quick cou...|   [Comedy, Romance]|[marriage, newlyw...|         5.4|       348|\n|  101283| 124459|0790628|The Incredible Bu...|  2013-03-14|  100.0|  9.385769|\"After breaking u...|            [Comedy]|  [magic, las vegas]|         5.3|       732|\n|  101360| 158011|1911644|            The Call|  2013-03-14|   94.0|  8.611077|Jordan Turner is ...|   [Crime, Thriller]|[underground, gas...|         6.6|      1275|\n|  101415|  84199|1763303|      The First Time|  2012-10-19|   95.0|  5.731701|Dave, a high scho...|[Drama, Comedy, R...|[virgin, high sch...|         7.1|       725|\n|  101448|  43550|1050002|My Last Five Girl...|  2009-04-29|   87.0|   7.04835|My Last Five Girl...|   [Romance, Comedy]|  [independent film]|         5.6|        11|\n|  101466|  25038|1261041|                2:22|  2008-09-24|  104.0|  5.543966|The plan was easy...|          [Thriller]|[suspect, delinqu...|         5.2|        13|\n|    1015|   6878|0107131|Homeward Bound: T...|  1993-02-03|   84.0|  7.186506|Remake of the pop...|[Adventure, Comed...|[based on novel, ...|         6.6|       218|\n|  101525|  97367|1817273|The Place Beyond ...|  2013-03-20|  140.0|  7.492658|A motorcycle stun...|      [Drama, Crime]|[corruption, fath...|         6.8|      1689|\n|  101527|  78215|1876277|      Into the White|  2012-03-06|  100.0|  9.572066|Into the White is...|     [Action, Drama]|[norway, winter, ...|         6.9|        96|\n|  101529| 127867|1935902|    The Brass Teapot|  2012-09-08|  100.0| 10.642891|When a couple dis...|[Comedy, Fantasy,...|[fantasy, based o...|         5.8|       165|\n|  101577|  72710|1517260|            The Host|  2013-03-22|  125.0| 11.342024|\"A parasitic alie...|[Action, Adventur...|[based on novel, ...|         6.0|      1859|\n|  101599|  65650|1582271|     The Good Doctor|  2011-01-01|   93.0|  8.278079|Dr. Martin Blake,...|   [Drama, Thriller]|                  []|         5.0|        52|\n|  101612| 144340|1814621|           Admission|  2013-03-21|  107.0| 10.098539|Strait-laced Prin...|[Comedy, Drama, R...|[princeton univer...|         5.5|       307|\n|  101672|  18843|0481513|      Dr. Dolittle 3|  2006-04-25|   95.0|  6.204275|Lisa Dolittle sen...|[Comedy, Family, ...|[ranch, sequel, t...|         4.5|        82|\n|  101685|  75720|1762300|            One Life|  2011-07-19|   85.0|  5.389068|One Life captures...|[Family, Document...|[natural history,...|         7.2|        24|\n|  101739| 109428|1288558|           Evil Dead|  2013-04-05|   91.0|  12.01525|Evil Dead, the fo...|            [Horror]|[remake, demon, n...|         6.4|      1754|\n|  101741|  68727|1924429|              Trance|  2013-03-27|  101.0|  7.876299|A fine art auctio...|[Thriller, Crime,...|[amnesia, art thi...|         6.5|       975|\n|  101761|  93828|1684233|Welcome to the Punch|  2013-03-15|   99.0|   7.67857|When notorious cr...|[Action, Adventur...|[detective, assas...|         5.7|       284|\n|  101770| 173294|2006810| Papadopoulos & Sons|  2012-12-20|  109.0|   6.60279|Following his rui...|     [Comedy, Drama]|                  []|         5.7|        15|\n|  101801|  85449|1638350|              Skylab|  2011-09-19|  113.0|  7.502597|It is 1979 and Al...|            [Comedy]|[family relations...|         6.3|        23|\n|  101864|  75612|1483013|            Oblivion|  2013-04-10|  124.0| 14.654053|Jack Harper is on...|[Action, Science ...|[spacecraft, dyst...|         6.4|      4862|\n|  101880| 171337|1697064|  Siberian Education|  2013-02-27|  110.0| 13.631223|The story of a ga...|      [Drama, Crime]|                  []|         6.7|       138|\n|  101884|  59963|1507563|           Dark Tide|  2012-03-28|  113.0|  5.405958|\"A traumatized sh...|[Thriller, Advent...|[suspense, shark,...|         4.8|        61|\n|  101893|  60281|1595656|       To the Wonder|  2013-02-22|  112.0|  8.452485|After falling in ...|    [Drama, Romance]|                  []|         5.9|       164|\n|  101952| 103707|1680305|         Afghan Luke|  2011-09-23|  100.0|  5.114346|Disheartened when...|             [Drama]|                  []|         4.8|         7|\n|  101973| 127517|1433811|          Disconnect|  2012-09-11|  115.0|  12.18812|Disconnect interw...|   [Drama, Thriller]|[technology, rela...|         6.9|       459|\n|  101997|   4258|0795461|       Scary Movie 5|  2013-04-11|   86.0|  14.27281|Home with their n...|            [Comedy]|[sequel, parody, ...|         4.6|       813|\n|    1020|    864|0106611|       Cool Runnings|  1993-09-30|   98.0|   8.30721|When a Jamaican s...|            [Comedy]|[winter, trainer,...|         6.8|       510|\n|  102033| 134374|1980209|         Pain & Gain|  2013-04-18|  130.0|  9.218002|Daniel Lugo, mana...|[Thriller, Crime,...|[miami, scam, cri...|         6.1|      1595|\n|  102058|  15257|1325753|  Hulk vs. Wolverine|  2009-01-27|   38.0|  5.539197|Department H send...|[Animation, Actio...|[mutant, marvel c...|         6.8|        48|\n|  102066| 121606|1977895|          Resolution|  2012-04-20|   93.0|  5.825388|Michael is commit...|[Horror, Thriller...|[fire, cabin, fri...|         6.3|        74|\n|  102070|  84204|1525366|            Grabbers|  2012-08-10|   94.0|  9.609614|Something siniste...|[Science Fiction,...|[monster, ireland...|         6.0|       140|\n|  102072| 106021|1645155|              Erased|  2012-09-27|  100.0|  9.329974|A former agent of...|  [Action, Thriller]|[assassin, secret...|         5.6|       251|\n|    1021|  24795|0109127|Angels in the Out...|  1994-07-15|  102.0| 10.892812|Roger is a foster...|[Fantasy, Drama, ...|          [baseball]|         5.7|       124|\n|  102123| 109414|1245492|     This Is the End|  2013-06-12|  107.0| 11.414048|While attending a...|    [Action, Comedy]|[rape, monster, p...|         6.2|      2394|\n|  102125|  68721|1300854|          Iron Man 3|  2013-04-18|  130.0| 23.721243|When Tony Stark's...|[Action, Adventur...|[terrorist, war o...|         6.8|      8951|\n|  102127|  18089|1076240| Miss Austen Regrets|  2008-02-03|   90.0|  5.540214|An outwardly conf...|             [Drama]|                  []|         5.4|        21|\n|  102152|  19688|1032817|   Middle of Nowhere|  2008-09-06|   95.0| 11.295267|The film follows ...|     [Comedy, Drama]|[dysfunctional fa...|         6.1|        20|\n|  102160|  77234|1659338| The Numbers Station|  2013-04-18|   90.0|  7.112624|When the moral va...|  [Action, Thriller]|                  []|         5.3|       223|\n|  102165| 174321|2055765| The English Teacher|  2013-05-16|   91.0|  9.673017|Teacher Linda Sin...|     [Comedy, Drama]|[pennsylvania, hi...|         5.8|       117|\n|  102174|  77221|1701210|          Black Gold|  2011-12-21|  130.0|  6.652197|On the Arabian Pe...|  [Adventure, Drama]|                  []|         5.9|        77|\n|  102194| 103731|1935179|                 Mud|  2013-05-01|  130.0|  7.881579|Two teenage boys ...|             [Drama]|[river, snake, ar...|         7.0|      1080|\n|  102242| 110272|1159922|Cheerful Weather ...|  2012-12-07|   93.0|  7.987933|England, 1932. To...|[Drama, Comedy, R...|[based on novel, ...|         5.5|        16|\n+--------+-------+-------+--------------------+------------+-------+----------+--------------------+--------------------+--------------------+------------+----------+\nonly showing top 100 rows\n\n"
     ]
    }
   ],
   "source": [
    "movies.sort('movie_id').show(100)"
   ]
  },
  {
   "cell_type": "code",
   "execution_count": 0,
   "metadata": {
    "application/vnd.databricks.v1+cell": {
     "cellMetadata": {
      "byteLimit": 2048000,
      "rowLimit": 10000
     },
     "inputWidgets": {},
     "nuid": "d84b8952-3af9-4ea3-8797-be7ffcc8c081",
     "showTitle": false,
     "title": ""
    }
   },
   "outputs": [],
   "source": [
    "movie_id = '101739'\n",
    "matches = [{\"movie_id\": item[\"id\"], \"score\": item[\"score\"]} for item in index.query(namespace='movies', id=movie_id, top_k=10)['matches']]\n",
    "matches = spark.createDataFrame(matches).sort(f.desc('score'))"
   ]
  },
  {
   "cell_type": "code",
   "execution_count": 0,
   "metadata": {
    "application/vnd.databricks.v1+cell": {
     "cellMetadata": {
      "byteLimit": 2048000,
      "rowLimit": 10000
     },
     "inputWidgets": {},
     "nuid": "418ee981-caca-4f9d-963b-2a9d7846212e",
     "showTitle": false,
     "title": ""
    }
   },
   "outputs": [
    {
     "output_type": "stream",
     "name": "stdout",
     "output_type": "stream",
     "text": [
      "+--------+-------+-------+------------------+------------+-------+----------+--------------------+--------------------+--------------------+------------+----------+-----------+\n|movie_id|tmdb_id|imdb_id|             title|release_date|runtime|popularity|            overview|              genres|            keywords|vote_average|vote_count|      score|\n+--------+-------+-------+------------------+------------+-------+----------+--------------------+--------------------+--------------------+------------+----------+-----------+\n|  101739| 109428|1288558|         Evil Dead|  2013-04-05|   91.0|  12.01525|Evil Dead, the fo...|            [Horror]|[remake, demon, n...|         6.4|      1754|0.999999881|\n|  113780| 256274|2870612|As Above, So Below|  2014-08-14|   93.0| 10.846585|When a team of ex...|  [Horror, Thriller]|                null|         6.1|       788|0.994952619|\n|  110591| 157547|2388715|            Oculus|  2013-09-08|  104.0|  8.698043|A woman tries to ...|            [Horror]|[hallucination, s...|         6.3|      1079|0.991470516|\n|  133832| 171424|2403021| The Green Inferno|  2014-09-04|  100.0|  9.336019|A group of studen...|[Action, Adventur...|[chile, gore, jun...|         5.0|       359|0.991184413|\n|   97188|  82507|1922777|          Sinister|  2012-03-29|  110.0| 12.490637|Found footage hel...|[Horror, Thriller...|[drowning, pennsy...|         6.8|      1611|0.987181485|\n|  163937| 351211|1540011|       Blair Witch|  2016-09-15|   90.0| 11.901343|Students on a cam...|  [Thriller, Horror]|[river, camping, ...|         4.9|       590|0.986603796|\n|   96815|  84348|2105044|             V/H/S|  2012-07-28|  116.0|  7.820787|When a group of m...|  [Thriller, Horror]|[webcam, antholog...|         5.8|       385|0.986566544|\n|  144482| 335866|3118452|            Circle|  2015-10-02|   87.0|  6.735649|Could you trust a...|[Horror, Science ...|[survival, execut...|         6.0|       342|   0.986127|\n|   92391|  50698|1703199|  Grave Encounters|  2011-09-09|   92.0|  5.324419|A crew from a par...|  [Thriller, Horror]|[camcorder, reali...|         6.2|       385|0.986005604|\n|  130052| 112454|1780798|             Clown|  2014-11-13|  100.0|  6.428814|A loving father f...|            [Horror]|[clown, boy, murd...|         5.3|       372|0.985438526|\n+--------+-------+-------+------------------+------------+-------+----------+--------------------+--------------------+--------------------+------------+----------+-----------+\n\n"
     ]
    }
   ],
   "source": [
    "movies.join(matches, on='movie_id', how='inner').sort(f.desc('score')).show()"
   ]
  },
  {
   "cell_type": "code",
   "execution_count": 0,
   "metadata": {
    "application/vnd.databricks.v1+cell": {
     "cellMetadata": {},
     "inputWidgets": {},
     "nuid": "9ee579c8-875f-41da-ac31-5bf8eed0f960",
     "showTitle": false,
     "title": ""
    }
   },
   "outputs": [],
   "source": []
  }
 ],
 "metadata": {
  "application/vnd.databricks.v1+notebook": {
   "dashboards": [],
   "language": "python",
   "notebookMetadata": {
    "pythonIndentUnit": 4
   },
   "notebookName": "create-collaborative-embeddings",
   "widgets": {}
  },
  "kernelspec": {
   "display_name": "Python 3 (ipykernel)",
   "language": "python",
   "name": "python3"
  },
  "language_info": {
   "codemirror_mode": {
    "name": "ipython",
    "version": 3
   },
   "file_extension": ".py",
   "mimetype": "text/x-python",
   "name": "python",
   "nbconvert_exporter": "python",
   "pygments_lexer": "ipython3",
   "version": "3.9.16"
  }
 },
 "nbformat": 4,
 "nbformat_minor": 0
}
