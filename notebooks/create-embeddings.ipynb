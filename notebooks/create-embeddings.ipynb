{
 "cells": [
  {
   "cell_type": "markdown",
   "metadata": {
    "application/vnd.databricks.v1+cell": {
     "cellMetadata": {},
     "inputWidgets": {},
     "nuid": "bb601ce6-f290-42ea-90a6-ca550d38e3ca",
     "showTitle": false,
     "title": ""
    }
   },
   "source": [
    "### Set Up Notebook"
   ]
  },
  {
   "cell_type": "markdown",
   "metadata": {
    "application/vnd.databricks.v1+cell": {
     "cellMetadata": {},
     "inputWidgets": {},
     "nuid": "d89d1a2f-ce6b-4b4e-8779-eb60c1c7676d",
     "showTitle": false,
     "title": ""
    }
   },
   "source": [
    "#### Import Required Modules"
   ]
  },
  {
   "cell_type": "code",
   "execution_count": 0,
   "metadata": {
    "application/vnd.databricks.v1+cell": {
     "cellMetadata": {
      "byteLimit": 2048000,
      "rowLimit": 10000
     },
     "inputWidgets": {},
     "nuid": "adbc3289-2f87-4aee-a6cc-6f1366256b2a",
     "showTitle": false,
     "title": ""
    }
   },
   "outputs": [],
   "source": [
    "# %pip install openai pinecone-client python-dotenv"
   ]
  },
  {
   "cell_type": "code",
   "execution_count": 0,
   "metadata": {
    "application/vnd.databricks.v1+cell": {
     "cellMetadata": {
      "byteLimit": 2048000,
      "rowLimit": 10000
     },
     "inputWidgets": {},
     "nuid": "7ad92141-2202-40f0-8029-bebb8b63e18b",
     "showTitle": false,
     "title": ""
    }
   },
   "outputs": [],
   "source": [
    "import os\n",
    "import json\n",
    "\n",
    "from typing import List, Dict\n",
    "from dotenv import load_dotenv\n",
    "\n",
    "import openai\n",
    "import pinecone\n",
    "import numpy as np\n",
    "import pandas as pd\n",
    "\n",
    "from pyspark.sql import SparkSession\n",
    "from pyspark.sql import functions as f\n",
    "from pyspark.sql.window import Window\n",
    "from pyspark.ml.recommendation import ALS"
   ]
  },
  {
   "cell_type": "markdown",
   "metadata": {
    "application/vnd.databricks.v1+cell": {
     "cellMetadata": {},
     "inputWidgets": {},
     "nuid": "8de77a0b-a968-4306-a01f-cbf21973a372",
     "showTitle": false,
     "title": ""
    }
   },
   "source": [
    "#### Get or Create SparkSession"
   ]
  },
  {
   "cell_type": "code",
   "execution_count": 0,
   "metadata": {
    "application/vnd.databricks.v1+cell": {
     "cellMetadata": {
      "byteLimit": 2048000,
      "rowLimit": 10000
     },
     "inputWidgets": {},
     "nuid": "fcc0d9be-c3dd-4fbb-ba4f-5a413ce03d97",
     "showTitle": false,
     "title": ""
    }
   },
   "outputs": [
    {
     "output_type": "display_data",
     "data": {
      "text/html": [
       "\n",
       "            <div>\n",
       "                <p><b>SparkSession - hive</b></p>\n",
       "                \n",
       "        <div>\n",
       "            <p><b>SparkContext</b></p>\n",
       "\n",
       "            <p><a href=\"/?o=8355974179873438#setting/sparkui/1017-161542-o0dq748r/driver-7928559540882837674\">Spark UI</a></p>\n",
       "\n",
       "            <dl>\n",
       "              <dt>Version</dt>\n",
       "                <dd><code>v3.3.2</code></dd>\n",
       "              <dt>Master</dt>\n",
       "                <dd><code>spark://driver-proxy:7077</code></dd>\n",
       "              <dt>AppName</dt>\n",
       "                <dd><code>Databricks Shell</code></dd>\n",
       "            </dl>\n",
       "        </div>\n",
       "        \n",
       "            </div>\n",
       "        "
      ]
     },
     "metadata": {
      "application/vnd.databricks.v1+output": {
       "addedWidgets": {},
       "arguments": {},
       "data": "\n            <div>\n                <p><b>SparkSession - hive</b></p>\n                \n        <div>\n            <p><b>SparkContext</b></p>\n\n            <p><a href=\"/?o=8355974179873438#setting/sparkui/1017-161542-o0dq748r/driver-7928559540882837674\">Spark UI</a></p>\n\n            <dl>\n              <dt>Version</dt>\n                <dd><code>v3.3.2</code></dd>\n              <dt>Master</dt>\n                <dd><code>spark://driver-proxy:7077</code></dd>\n              <dt>AppName</dt>\n                <dd><code>Databricks Shell</code></dd>\n            </dl>\n        </div>\n        \n            </div>\n        ",
       "datasetInfos": [],
       "metadata": {},
       "removedWidgets": [],
       "textData": null,
       "type": "htmlSandbox"
      }
     },
     "output_type": "display_data"
    }
   ],
   "source": [
    "spark = SparkSession.builder.getOrCreate()\n",
    "spark.sparkContext.setLogLevel(\"error\")\n",
    "spark"
   ]
  },
  {
   "cell_type": "markdown",
   "metadata": {
    "application/vnd.databricks.v1+cell": {
     "cellMetadata": {},
     "inputWidgets": {},
     "nuid": "3c66a3f9-fe90-46e2-ae65-5100be81faf0",
     "showTitle": false,
     "title": ""
    }
   },
   "source": [
    "#### Load Secrets"
   ]
  },
  {
   "cell_type": "code",
   "execution_count": 0,
   "metadata": {
    "application/vnd.databricks.v1+cell": {
     "cellMetadata": {
      "byteLimit": 2048000,
      "rowLimit": 10000
     },
     "inputWidgets": {},
     "nuid": "34c6e1a3-0a28-4d1b-92aa-659c6b047bd2",
     "showTitle": false,
     "title": ""
    }
   },
   "outputs": [
    {
     "output_type": "stream",
     "name": "stdout",
     "output_type": "stream",
     "text": [
      "Out[41]: True"
     ]
    }
   ],
   "source": [
    "env_path = \"/dbfs/FileStore/env/.env\"\n",
    "load_dotenv(env_path)"
   ]
  },
  {
   "cell_type": "markdown",
   "metadata": {
    "application/vnd.databricks.v1+cell": {
     "cellMetadata": {},
     "inputWidgets": {},
     "nuid": "14ce4bd9-572b-4820-b110-d1a17cd1452c",
     "showTitle": false,
     "title": ""
    }
   },
   "source": [
    "#### Set Workflow Constants"
   ]
  },
  {
   "cell_type": "code",
   "execution_count": 0,
   "metadata": {
    "application/vnd.databricks.v1+cell": {
     "cellMetadata": {
      "byteLimit": 2048000,
      "rowLimit": 10000
     },
     "inputWidgets": {},
     "nuid": "c758c725-7e95-41a3-9c7c-15e6011dcbb0",
     "showTitle": false,
     "title": ""
    }
   },
   "outputs": [],
   "source": [
    "CLEAN_PATH = \"dbfs:/FileStore/data/clean\"\n",
    "CONTENT_INDEX_NAME = \"content-embeddings\"\n",
    "CONTENT_DIMENSION = 1536\n",
    "COLLABORATIVE_INDEX_NAME = \"collaborative-embeddings\"\n",
    "COLLABORATIVE_DIMENSION = 32"
   ]
  },
  {
   "cell_type": "markdown",
   "metadata": {
    "application/vnd.databricks.v1+cell": {
     "cellMetadata": {},
     "inputWidgets": {},
     "nuid": "e88b2b3a-531f-4e8d-9442-0682761afc2a",
     "showTitle": false,
     "title": ""
    }
   },
   "source": [
    "#### Authenticate Providers"
   ]
  },
  {
   "cell_type": "code",
   "execution_count": 0,
   "metadata": {
    "application/vnd.databricks.v1+cell": {
     "cellMetadata": {
      "byteLimit": 2048000,
      "rowLimit": 10000
     },
     "inputWidgets": {},
     "nuid": "4e7800b9-818c-4962-a09a-a1ec72d23c82",
     "showTitle": false,
     "title": ""
    }
   },
   "outputs": [],
   "source": [
    "openai.api_key = os.environ[\"OPENAI_API_KEY\"]        \n",
    "pinecone.init(api_key=os.environ[\"PINECONE_API_KEY\"], environment=os.environ[\"PINECONE_ENVIRONMENT\"]) "
   ]
  },
  {
   "cell_type": "markdown",
   "metadata": {
    "application/vnd.databricks.v1+cell": {
     "cellMetadata": {},
     "inputWidgets": {},
     "nuid": "d9156a53-bb1f-4e30-8aaa-68dd9263d745",
     "showTitle": false,
     "title": ""
    }
   },
   "source": [
    "### Create Content Embedding Vectors"
   ]
  },
  {
   "cell_type": "markdown",
   "metadata": {
    "application/vnd.databricks.v1+cell": {
     "cellMetadata": {},
     "inputWidgets": {},
     "nuid": "4585567f-ea4f-4776-9062-5c87765c1d93",
     "showTitle": false,
     "title": ""
    }
   },
   "source": [
    "#### Import Clean Movies Data"
   ]
  },
  {
   "cell_type": "code",
   "execution_count": 0,
   "metadata": {
    "application/vnd.databricks.v1+cell": {
     "cellMetadata": {
      "byteLimit": 2048000,
      "rowLimit": 10000
     },
     "inputWidgets": {},
     "nuid": "029a4267-14f8-46ed-b8e8-014cc9a0e1a9",
     "showTitle": false,
     "title": ""
    }
   },
   "outputs": [
    {
     "output_type": "stream",
     "name": "stdout",
     "output_type": "stream",
     "text": [
      "-RECORD 0------------------------------------------------------------------------------------------------------------------------------------------------------------------------------------------------------------------------------------------------------\n budget        | 4000000                                                                                                                                                                                                                                       \n cast          | [Tim Roth, Jennifer Beals, Antonio Banderas, Valeria Golino, David Proval]                                                                                                                                                                    \n director      | Allison Anders                                                                                                                                                                                                                                \n genres        | [Comedy]                                                                                                                                                                                                                                      \n keywords      | [hotel, new year's eve, witch, bet, hotel room, sperm, anthology, los angeles, california, hoodlum, multiple storylines, woman director]                                                                                                      \n language      | en                                                                                                                                                                                                                                            \n overview      | It's Ted the Bellhop's first night on the job...and the hotel's very unusual guests are about to place him in some outrageous predicaments. It seems that this evening's room service is serving up one unbelievable happening after another. \n popularity    | 21.138                                                                                                                                                                                                                                        \n release_date  | 1995-12-09                                                                                                                                                                                                                                    \n revenue       | 4257354                                                                                                                                                                                                                                       \n runtime       | 98                                                                                                                                                                                                                                            \n status        | Released                                                                                                                                                                                                                                      \n title         | Four Rooms                                                                                                                                                                                                                                    \n tmdb_homepage | https://www.themoviedb.org/movie/5                                                                                                                                                                                                            \n tmdb_id       | 5                                                                                                                                                                                                                                             \n vote_average  | 5.789                                                                                                                                                                                                                                         \n vote_count    | 2443                                                                                                                                                                                                                                          \nonly showing top 1 row\n\nOut[50]: 2264"
     ]
    }
   ],
   "source": [
    "movies = spark.read.parquet(os.path.join(CLEAN_PATH, \"movies\"))\n",
    "movies.show(1, truncate=False, vertical=True)\n",
    "movies.count()"
   ]
  },
  {
   "cell_type": "markdown",
   "metadata": {
    "application/vnd.databricks.v1+cell": {
     "cellMetadata": {},
     "inputWidgets": {},
     "nuid": "89c8d13f-8237-4286-8610-4f2bf1eaef2c",
     "showTitle": false,
     "title": ""
    }
   },
   "source": [
    "#### Create a Combined `Text` Field to Convert to Vector Embeddings"
   ]
  },
  {
   "cell_type": "code",
   "execution_count": 0,
   "metadata": {
    "application/vnd.databricks.v1+cell": {
     "cellMetadata": {
      "byteLimit": 2048000,
      "rowLimit": 10000
     },
     "inputWidgets": {},
     "nuid": "27912569-df2e-4990-aadc-c9e345c8c709",
     "showTitle": false,
     "title": ""
    }
   },
   "outputs": [
    {
     "output_type": "stream",
     "name": "stdout",
     "output_type": "stream",
     "text": [
      "-RECORD 0-----------------------------------------------------------------------------------------------------------------------------------------------------------------------------------------------------------------------------------------------------------------------------------------------------------------------------------------------------------------------------------------------------------------------------------------------------------------------------------------------------------------------------------------------------------------------------------------------------------------------------------------------------------------------------------------------------------------------------------------------------------------------------------------------------------------------------------\n budget        | 4000000                                                                                                                                                                                                                                                                                                                                                                                                                                                                                                                                                                                                                                                                                                                                                                                                                    \n cast          | [Tim Roth, Jennifer Beals, Antonio Banderas, Valeria Golino, David Proval]                                                                                                                                                                                                                                                                                                                                                                                                                                                                                                                                                                                                                                                                                                                                                 \n director      | Allison Anders                                                                                                                                                                                                                                                                                                                                                                                                                                                                                                                                                                                                                                                                                                                                                                                                             \n genres        | [Comedy]                                                                                                                                                                                                                                                                                                                                                                                                                                                                                                                                                                                                                                                                                                                                                                                                                   \n keywords      | [hotel, new year's eve, witch, bet, hotel room, sperm, anthology, los angeles, california, hoodlum, multiple storylines, woman director]                                                                                                                                                                                                                                                                                                                                                                                                                                                                                                                                                                                                                                                                                   \n language      | en                                                                                                                                                                                                                                                                                                                                                                                                                                                                                                                                                                                                                                                                                                                                                                                                                         \n overview      | It's Ted the Bellhop's first night on the job...and the hotel's very unusual guests are about to place him in some outrageous predicaments. It seems that this evening's room service is serving up one unbelievable happening after another.                                                                                                                                                                                                                                                                                                                                                                                                                                                                                                                                                                              \n popularity    | 21.138                                                                                                                                                                                                                                                                                                                                                                                                                                                                                                                                                                                                                                                                                                                                                                                                                     \n release_date  | 1995-12-09                                                                                                                                                                                                                                                                                                                                                                                                                                                                                                                                                                                                                                                                                                                                                                                                                 \n revenue       | 4257354                                                                                                                                                                                                                                                                                                                                                                                                                                                                                                                                                                                                                                                                                                                                                                                                                    \n runtime       | 98                                                                                                                                                                                                                                                                                                                                                                                                                                                                                                                                                                                                                                                                                                                                                                                                                         \n status        | Released                                                                                                                                                                                                                                                                                                                                                                                                                                                                                                                                                                                                                                                                                                                                                                                                                   \n title         | Four Rooms                                                                                                                                                                                                                                                                                                                                                                                                                                                                                                                                                                                                                                                                                                                                                                                                                 \n tmdb_homepage | https://www.themoviedb.org/movie/5                                                                                                                                                                                                                                                                                                                                                                                                                                                                                                                                                                                                                                                                                                                                                                                         \n tmdb_id       | 5                                                                                                                                                                                                                                                                                                                                                                                                                                                                                                                                                                                                                                                                                                                                                                                                                          \n vote_average  | 5.789                                                                                                                                                                                                                                                                                                                                                                                                                                                                                                                                                                                                                                                                                                                                                                                                                      \n vote_count    | 2443                                                                                                                                                                                                                                                                                                                                                                                                                                                                                                                                                                                                                                                                                                                                                                                                                       \n text          | genres: Comedy | keywords: hotel, new year's eve, witch, bet, hotel room, sperm, anthology, los angeles, california, hoodlum, multiple storylines, woman director | plot: It's Ted the Bellhop's first night on the job...and the hotel's very unusual guests are about to place him in some outrageous predicaments. It seems that this evening's room service is serving up one unbelievable happening after another. | director: Allison Anders | actors: Tim Roth, Jennifer Beals, Antonio Banderas, Valeria Golino, David Proval | release_date: 1995-12-09                                                                                                                                                                                                                                                           \n-RECORD 1-----------------------------------------------------------------------------------------------------------------------------------------------------------------------------------------------------------------------------------------------------------------------------------------------------------------------------------------------------------------------------------------------------------------------------------------------------------------------------------------------------------------------------------------------------------------------------------------------------------------------------------------------------------------------------------------------------------------------------------------------------------------------------------------------------------------------------------\n budget        | 11000000                                                                                                                                                                                                                                                                                                                                                                                                                                                                                                                                                                                                                                                                                                                                                                                                                   \n cast          | [Mark Hamill, Harrison Ford, Carrie Fisher, Peter Cushing, Alec Guinness]                                                                                                                                                                                                                                                                                                                                                                                                                                                                                                                                                                                                                                                                                                                                                  \n director      | George Lucas                                                                                                                                                                                                                                                                                                                                                                                                                                                                                                                                                                                                                                                                                                                                                                                                               \n genres        | [Adventure, Action, Science Fiction]                                                                                                                                                                                                                                                                                                                                                                                                                                                                                                                                                                                                                                                                                                                                                                                       \n keywords      | [android, galaxy, hermit, smuggling (contraband), superhero, space, rescue mission, empire, rebellion, planet, desert, super power, space opera, wizard, totalitarianism]                                                                                                                                                                                                                                                                                                                                                                                                                                                                                                                                                                                                                                                  \n language      | en                                                                                                                                                                                                                                                                                                                                                                                                                                                                                                                                                                                                                                                                                                                                                                                                                         \n overview      | Princess Leia is captured and held hostage by the evil Imperial forces in their effort to take over the galactic Empire. Venturesome Luke Skywalker and dashing captain Han Solo team together with the loveable robot duo R2-D2 and C-3PO to rescue the beautiful princess and restore peace and justice in the Empire.                                                                                                                                                                                                                                                                                                                                                                                                                                                                                                   \n popularity    | 88.613                                                                                                                                                                                                                                                                                                                                                                                                                                                                                                                                                                                                                                                                                                                                                                                                                     \n release_date  | 1977-05-25                                                                                                                                                                                                                                                                                                                                                                                                                                                                                                                                                                                                                                                                                                                                                                                                                 \n revenue       | 775398007                                                                                                                                                                                                                                                                                                                                                                                                                                                                                                                                                                                                                                                                                                                                                                                                                  \n runtime       | 121                                                                                                                                                                                                                                                                                                                                                                                                                                                                                                                                                                                                                                                                                                                                                                                                                        \n status        | Released                                                                                                                                                                                                                                                                                                                                                                                                                                                                                                                                                                                                                                                                                                                                                                                                                   \n title         | Star Wars                                                                                                                                                                                                                                                                                                                                                                                                                                                                                                                                                                                                                                                                                                                                                                                                                  \n tmdb_homepage | https://www.themoviedb.org/movie/11                                                                                                                                                                                                                                                                                                                                                                                                                                                                                                                                                                                                                                                                                                                                                                                        \n tmdb_id       | 11                                                                                                                                                                                                                                                                                                                                                                                                                                                                                                                                                                                                                                                                                                                                                                                                                         \n vote_average  | 8.204                                                                                                                                                                                                                                                                                                                                                                                                                                                                                                                                                                                                                                                                                                                                                                                                                      \n vote_count    | 19236                                                                                                                                                                                                                                                                                                                                                                                                                                                                                                                                                                                                                                                                                                                                                                                                                      \n text          | genres: Adventure, Action, Science Fiction | keywords: android, galaxy, hermit, smuggling (contraband), superhero, space, rescue mission, empire, rebellion, planet, desert, super power, space opera, wizard, totalitarianism | plot: Princess Leia is captured and held hostage by the evil Imperial forces in their effort to take over the galactic Empire. Venturesome Luke Skywalker and dashing captain Han Solo team together with the loveable robot duo R2-D2 and C-3PO to rescue the beautiful princess and restore peace and justice in the Empire. | director: George Lucas | actors: Mark Hamill, Harrison Ford, Carrie Fisher, Peter Cushing, Alec Guinness | release_date: 1977-05-25                                                                                                                      \n-RECORD 2-----------------------------------------------------------------------------------------------------------------------------------------------------------------------------------------------------------------------------------------------------------------------------------------------------------------------------------------------------------------------------------------------------------------------------------------------------------------------------------------------------------------------------------------------------------------------------------------------------------------------------------------------------------------------------------------------------------------------------------------------------------------------------------------------------------------------------------\n budget        | 94000000                                                                                                                                                                                                                                                                                                                                                                                                                                                                                                                                                                                                                                                                                                                                                                                                                   \n cast          | [Albert Brooks, Ellen DeGeneres, Alexander Gould, Willem Dafoe, Geoffrey Rush]                                                                                                                                                                                                                                                                                                                                                                                                                                                                                                                                                                                                                                                                                                                                             \n director      | Andrew Stanton                                                                                                                                                                                                                                                                                                                                                                                                                                                                                                                                                                                                                                                                                                                                                                                                             \n genres        | [Animation, Family]                                                                                                                                                                                                                                                                                                                                                                                                                                                                                                                                                                                                                                                                                                                                                                                                        \n keywords      | [parent child relationship, sydney, australia, harbor, anthropomorphism, underwater, shark, pelican, fish tank, great barrier reef, sea turtle, missing child, aftercreditsstinger, duringcreditsstinger, short term memory loss, clownfish, father son reunion, protective father]                                                                                                                                                                                                                                                                                                                                                                                                                                                                                                                                        \n language      | en                                                                                                                                                                                                                                                                                                                                                                                                                                                                                                                                                                                                                                                                                                                                                                                                                         \n overview      | Nemo, an adventurous young clownfish, is unexpectedly taken from his Great Barrier Reef home to a dentist's office aquarium. It's up to his worrisome father Marlin and a friendly but forgetful fish Dory to bring Nemo home -- meeting vegetarian sharks, surfer dude turtles, hypnotic jellyfish, hungry seagulls, and more along the way.                                                                                                                                                                                                                                                                                                                                                                                                                                                                              \n popularity    | 92.459                                                                                                                                                                                                                                                                                                                                                                                                                                                                                                                                                                                                                                                                                                                                                                                                                     \n release_date  | 2003-05-30                                                                                                                                                                                                                                                                                                                                                                                                                                                                                                                                                                                                                                                                                                                                                                                                                 \n revenue       | 940335536                                                                                                                                                                                                                                                                                                                                                                                                                                                                                                                                                                                                                                                                                                                                                                                                                  \n runtime       | 100                                                                                                                                                                                                                                                                                                                                                                                                                                                                                                                                                                                                                                                                                                                                                                                                                        \n status        | Released                                                                                                                                                                                                                                                                                                                                                                                                                                                                                                                                                                                                                                                                                                                                                                                                                   \n title         | Finding Nemo                                                                                                                                                                                                                                                                                                                                                                                                                                                                                                                                                                                                                                                                                                                                                                                                               \n tmdb_homepage | https://www.themoviedb.org/movie/12                                                                                                                                                                                                                                                                                                                                                                                                                                                                                                                                                                                                                                                                                                                                                                                        \n tmdb_id       | 12                                                                                                                                                                                                                                                                                                                                                                                                                                                                                                                                                                                                                                                                                                                                                                                                                         \n vote_average  | 7.824                                                                                                                                                                                                                                                                                                                                                                                                                                                                                                                                                                                                                                                                                                                                                                                                                      \n vote_count    | 18132                                                                                                                                                                                                                                                                                                                                                                                                                                                                                                                                                                                                                                                                                                                                                                                                                      \n text          | genres: Animation, Family | keywords: parent child relationship, sydney, australia, harbor, anthropomorphism, underwater, shark, pelican, fish tank, great barrier reef, sea turtle, missing child, aftercreditsstinger, duringcreditsstinger, short term memory loss, clownfish, father son reunion, protective father | plot: Nemo, an adventurous young clownfish, is unexpectedly taken from his Great Barrier Reef home to a dentist's office aquarium. It's up to his worrisome father Marlin and a friendly but forgetful fish Dory to bring Nemo home -- meeting vegetarian sharks, surfer dude turtles, hypnotic jellyfish, hungry seagulls, and more along the way. | director: Andrew Stanton | actors: Albert Brooks, Ellen DeGeneres, Alexander Gould, Willem Dafoe, Geoffrey Rush | release_date: 2003-05-30 \nonly showing top 3 rows\n\nOut[51]: 2264"
     ]
    }
   ],
   "source": [
    "movies = movies \\\n",
    "    .withColumn(\"text\", f.concat_ws(\" | \", \n",
    "        f.concat_ws(\" \", f.lit(\"genres:\"), f.array_join(\"genres\", \", \")), \n",
    "        f.concat_ws(\" \", f.lit(\"keywords:\"), f.array_join(\"keywords\", \", \")), \n",
    "        f.concat_ws(\" \", f.lit(\"plot:\"), f.col(\"overview\")),\n",
    "        f.concat_ws(\" \", f.lit(\"director:\"), f.col(\"director\")),\n",
    "        f.concat_ws(\" \", f.lit(\"actors:\"), f.array_join(\"cast\", \", \")),\n",
    "        f.concat_ws(\" \", f.lit(\"release_date:\"), f.col(\"release_date\"))\n",
    "    ))\n",
    "        \n",
    "movies.show(3, truncate=False, vertical=True)\n",
    "movies.count()"
   ]
  },
  {
   "cell_type": "markdown",
   "metadata": {
    "application/vnd.databricks.v1+cell": {
     "cellMetadata": {},
     "inputWidgets": {},
     "nuid": "3ee147d1-526e-43cc-a54e-da445754f594",
     "showTitle": false,
     "title": ""
    }
   },
   "source": [
    "#### Convert the Combined Movie Text to Embedding Representations"
   ]
  },
  {
   "cell_type": "code",
   "execution_count": 0,
   "metadata": {
    "application/vnd.databricks.v1+cell": {
     "cellMetadata": {
      "byteLimit": 2048000,
      "rowLimit": 10000
     },
     "inputWidgets": {},
     "nuid": "7ffb59ff-a750-46c2-b245-1046982a93d7",
     "showTitle": false,
     "title": ""
    }
   },
   "outputs": [
    {
     "output_type": "stream",
     "name": "stdout",
     "output_type": "stream",
     "text": [
      "Out[36]: 2264"
     ]
    }
   ],
   "source": [
    "movie_embeddings = [\n",
    "    openai.Embedding.create(\n",
    "        model=\"text-embedding-ada-002\",\n",
    "        input=movie[\"text\"]\n",
    "    )[\"data\"][0][\"embedding\"] for movie in movies.toPandas().to_dict(orient=\"records\")\n",
    "]\n",
    "len(movie_embeddings)"
   ]
  },
  {
   "cell_type": "markdown",
   "metadata": {
    "application/vnd.databricks.v1+cell": {
     "cellMetadata": {},
     "inputWidgets": {},
     "nuid": "8229e9cc-6db0-432d-bc67-e6ed4c828870",
     "showTitle": false,
     "title": ""
    }
   },
   "source": [
    "#### Insert the Movie Content Embeddings into the Pinecone Index"
   ]
  },
  {
   "cell_type": "code",
   "execution_count": 0,
   "metadata": {
    "application/vnd.databricks.v1+cell": {
     "cellMetadata": {
      "byteLimit": 2048000,
      "rowLimit": 10000
     },
     "inputWidgets": {},
     "nuid": "df6a8f58-9621-4201-809c-42d1fb947923",
     "showTitle": false,
     "title": ""
    }
   },
   "outputs": [
    {
     "output_type": "stream",
     "name": "stdout",
     "output_type": "stream",
     "text": [
      "Out[37]: 2264"
     ]
    }
   ],
   "source": [
    "movie_vectors = [\n",
    "    {\n",
    "        \"id\": movie[\"tmdb_id\"],\n",
    "        \"values\": embedding,\n",
    "    }\n",
    "    for movie, embedding in zip(movies, movie_embeddings)\n",
    "]\n",
    "len(movie_vectors)"
   ]
  },
  {
   "cell_type": "code",
   "execution_count": 0,
   "metadata": {
    "application/vnd.databricks.v1+cell": {
     "cellMetadata": {
      "byteLimit": 2048000,
      "rowLimit": 10000
     },
     "inputWidgets": {},
     "nuid": "8caac28e-0409-40bd-b5b8-c5ef8dc1fb12",
     "showTitle": false,
     "title": ""
    }
   },
   "outputs": [],
   "source": [
    "# pinecone.delete_index(CONTENT_INDEX_NAME)\n",
    "# pinecone.create_index(name=CONTENT_INDEX_NAME, dimension=CONTENT_DIMENSION, metric='cosine', pods=1, replicas=1, pod_type=\"p1\")"
   ]
  },
  {
   "cell_type": "code",
   "execution_count": 0,
   "metadata": {
    "application/vnd.databricks.v1+cell": {
     "cellMetadata": {
      "byteLimit": 2048000,
      "rowLimit": 10000
     },
     "inputWidgets": {},
     "nuid": "c8a0c735-59d4-455c-af37-f606e2b80e70",
     "showTitle": false,
     "title": ""
    }
   },
   "outputs": [
    {
     "output_type": "display_data",
     "data": {
      "application/vnd.jupyter.widget-view+json": {
       "model_id": "29bd216a2e494080b0b93fac47a53b03",
       "version_major": 2,
       "version_minor": 0
      },
      "text/plain": [
       "Upserted vectors:   0%|          | 0/2264 [00:00<?, ?it/s]"
      ]
     },
     "metadata": {},
     "output_type": "display_data"
    },
    {
     "output_type": "stream",
     "name": "stdout",
     "output_type": "stream",
     "text": [
      "Out[87]: {'upserted_count': 2264}"
     ]
    }
   ],
   "source": [
    "index = pinecone.Index(CONTENT_INDEX_NAME)\n",
    "index.upsert(vectors=movie_vectors, batch_size=100)"
   ]
  },
  {
   "cell_type": "code",
   "execution_count": 0,
   "metadata": {
    "application/vnd.databricks.v1+cell": {
     "cellMetadata": {
      "byteLimit": 2048000,
      "rowLimit": 10000
     },
     "inputWidgets": {},
     "nuid": "6805b056-b777-4a20-9dc6-940af1909d37",
     "showTitle": false,
     "title": ""
    }
   },
   "outputs": [
    {
     "output_type": "stream",
     "name": "stdout",
     "output_type": "stream",
     "text": [
      "Out[89]: {'dimension': 1536,\n 'index_fullness': 0.0,\n 'namespaces': {'': {'vector_count': 2264}},\n 'total_vector_count': 2264}"
     ]
    }
   ],
   "source": [
    "index.describe_index_stats()"
   ]
  },
  {
   "cell_type": "markdown",
   "metadata": {
    "application/vnd.databricks.v1+cell": {
     "cellMetadata": {},
     "inputWidgets": {},
     "nuid": "71abff79-5e22-494e-9c52-ab23a42d5aa0",
     "showTitle": false,
     "title": ""
    }
   },
   "source": [
    "#### Spot Check the Content Embeddings with a Few Queries"
   ]
  },
  {
   "cell_type": "code",
   "execution_count": 0,
   "metadata": {
    "application/vnd.databricks.v1+cell": {
     "cellMetadata": {
      "byteLimit": 2048000,
      "rowLimit": 10000
     },
     "inputWidgets": {},
     "nuid": "0ed9b492-125b-492d-97a7-58ced9bd6191",
     "showTitle": false,
     "title": ""
    }
   },
   "outputs": [
    {
     "output_type": "stream",
     "name": "stdout",
     "output_type": "stream",
     "text": [
      "+--------------------+--------------------+--------------------+--------------------+------------+--------------------+--------------------+-----------+\n|               title|              genres|            keywords|            overview|release_date|            director|                cast|      score|\n+--------------------+--------------------+--------------------+--------------------+------------+--------------------+--------------------+-----------+\n|       Carlito's Way|[Crime, Drama, Ro...|[new york city, b...|A Puerto-Rican ex...|  1993-11-10|      Brian De Palma|[Al Pacino, Sean ...| 0.88834095|\n|Once Upon a Time ...|      [Drama, Crime]|[new york city, l...|A former Prohibit...|  1984-05-23|        Sergio Leone|[Robert De Niro, ...|0.875242472|\n|           City Hall|   [Drama, Thriller]|[corruption, unde...|The accidental sh...|  1996-02-16|       Harold Becker|[Al Pacino, John ...|  0.8738904|\n|             Payback|[Crime, Action, D...|[new york city, p...|With friends like...|  1999-02-05|     Brian Helgeland|[Mel Gibson, Greg...|  0.8737517|\n|       Donnie Brasco|[Crime, Drama, Th...|[new york city, f...|An FBI undercover...|  1997-02-27|         Mike Newell|[Johnny Depp, Al ...|0.872900844|\n|           25th Hour|      [Crime, Drama]|[new york city, b...|In New York City ...|  2002-12-19|           Spike Lee|[Edward Norton, P...|0.869666219|\n|        A Bronx Tale|      [Drama, Crime]|[gambling, black ...|Set in the Bronx ...|  1993-09-14|      Robert De Niro|[Robert De Niro, ...|0.869248092|\n|            Scarface|[Action, Crime, D...|[sibling relation...|After getting a g...|  1983-12-09|      Brian De Palma|[Al Pacino, Steve...|0.867401779|\n|The Godfather Par...|[Crime, Drama, Th...|[italy, christian...|In the midst of t...|  1990-12-25|Francis Ford Coppola|[Al Pacino, Diane...|0.867321193|\n|     American Hustle|      [Drama, Crime]|[new jersey, 1970...|A conman and his ...|  2013-12-03|    David O. Russell|[Christian Bale, ...|   0.866686|\n+--------------------+--------------------+--------------------+--------------------+------------+--------------------+--------------------+-----------+\n\n"
     ]
    }
   ],
   "source": [
    "query = \"a gritty crime drama set in new york city starring al pacino\"\n",
    "query_embedding = openai.Embedding.create(model=\"text-embedding-ada-002\", input=query)[\"data\"][0][\"embedding\"]\n",
    "matches = index.query(vector=query_embedding, top_k=10, include_values=False, include_metadata=True)[\"matches\"]\n",
    "matches = spark.createDataFrame([{\"tmdb_id\": item[\"id\"], \"score\": item[\"score\"]} for item in matches])\n",
    "matches = matches.join(movies, on=\"tmdb_id\", how=\"inner\").select(\"title\", \"genres\", \"keywords\", \"overview\", \"release_date\", \"director\", \"cast\", \"score\").sort(f.desc(\"score\")).show()"
   ]
  },
  {
   "cell_type": "markdown",
   "metadata": {
    "application/vnd.databricks.v1+cell": {
     "cellMetadata": {
      "byteLimit": 2048000,
      "rowLimit": 10000
     },
     "inputWidgets": {},
     "nuid": "d20f2af2-3d30-4a86-814a-45ce38967a7e",
     "showTitle": false,
     "title": ""
    }
   },
   "source": [
    "### Create Collaborative Filtering Embedding Vectors"
   ]
  },
  {
   "cell_type": "markdown",
   "metadata": {
    "application/vnd.databricks.v1+cell": {
     "cellMetadata": {},
     "inputWidgets": {},
     "nuid": "80445582-60aa-440f-b970-ac0c9face1cb",
     "showTitle": false,
     "title": ""
    }
   },
   "source": [
    "#### Import Clean Ratings Data"
   ]
  },
  {
   "cell_type": "code",
   "execution_count": 0,
   "metadata": {
    "application/vnd.databricks.v1+cell": {
     "cellMetadata": {
      "byteLimit": 2048000,
      "rowLimit": 10000
     },
     "inputWidgets": {},
     "nuid": "784aa1d9-f3e0-45f3-bdd3-bf22ad39ff67",
     "showTitle": false,
     "title": ""
    }
   },
   "outputs": [
    {
     "output_type": "stream",
     "name": "stdout",
     "output_type": "stream",
     "text": [
      "+-------+-------+------+-------------------+\n|user_id|tmdb_id|rating|timestamp          |\n+-------+-------+------+-------------------+\n|304    |1572   |4.0   |1998-03-29 12:12:08|\n|469    |2108   |5.0   |2000-08-04 21:46:05|\n|247    |98     |4.0   |2016-07-04 14:55:39|\n|307    |1592   |4.0   |2007-10-29 13:08:15|\n|477    |2048   |3.5   |2008-01-21 18:45:47|\n+-------+-------+------+-------------------+\nonly showing top 5 rows\n\nOut[70]: 81116"
     ]
    }
   ],
   "source": [
    "ratings = spark.read.parquet(os.path.join(CLEAN_PATH, \"ratings\"))\n",
    "ratings.show(5, truncate=False)\n",
    "ratings.count()"
   ]
  },
  {
   "cell_type": "markdown",
   "metadata": {
    "application/vnd.databricks.v1+cell": {
     "cellMetadata": {},
     "inputWidgets": {},
     "nuid": "806fea4c-d049-41d3-872d-30fc6e01d5be",
     "showTitle": false,
     "title": ""
    }
   },
   "source": [
    "#### Create an Implicit Feedback Recommender Model Frame"
   ]
  },
  {
   "cell_type": "code",
   "execution_count": 0,
   "metadata": {
    "application/vnd.databricks.v1+cell": {
     "cellMetadata": {
      "byteLimit": 2048000,
      "rowLimit": 10000
     },
     "inputWidgets": {},
     "nuid": "99b3e90d-4006-469d-ba5e-6a1278d36307",
     "showTitle": false,
     "title": ""
    }
   },
   "outputs": [
    {
     "output_type": "stream",
     "name": "stdout",
     "output_type": "stream",
     "text": [
      "users=610 movies=2269 ratings=81116 sparsity=0.9414\n+------+-----+\n|rating|count|\n+------+-----+\n|   0.5|  918|\n|   1.0| 1989|\n|   1.5| 1121|\n|   2.0| 5397|\n|   2.5| 4035|\n|   3.0|15973|\n|   3.5|10260|\n|   4.0|22460|\n|   4.5| 7225|\n|   5.0|11738|\n+------+-----+\n\n+-------+-------+------+-------------------+\n|user_id|tmdb_id|rating|timestamp          |\n+-------+-------+------+-------------------+\n|304    |1572   |4.0   |1998-03-29 12:12:08|\n|469    |2108   |5.0   |2000-08-04 21:46:05|\n|247    |98     |4.0   |2016-07-04 14:55:39|\n|307    |1592   |4.0   |2007-10-29 13:08:15|\n|477    |2048   |3.5   |2008-01-21 18:45:47|\n+-------+-------+------+-------------------+\nonly showing top 5 rows\n\n"
     ]
    }
   ],
   "source": [
    "model_frame = ratings \\\n",
    "    .withColumn('user_id', f.col('user_id').cast('INTEGER')) \\\n",
    "    .withColumn('tmdb_id', f.col('tmdb_id').cast('INTEGER')) \\\n",
    "    .cache()\n",
    "\n",
    "counts = model_frame.agg(f.countDistinct('user_id').alias('users'), f.countDistinct('tmdb_id').alias('movies'), f.count('*').alias('ratings')).first()\n",
    "sparsity = round(1 - (counts['ratings'] / (counts['users'] * counts['movies'])), 4)\n",
    "print(f\"users={counts['users']} movies={counts['movies']} ratings={counts['ratings']} sparsity={sparsity}\")\n",
    "\n",
    "model_frame.groupby(\"rating\").count().sort(\"rating\").show()\n",
    "model_frame.show(5, truncate=False)"
   ]
  },
  {
   "cell_type": "markdown",
   "metadata": {
    "application/vnd.databricks.v1+cell": {
     "cellMetadata": {},
     "inputWidgets": {},
     "nuid": "6c7fe594-35f8-4f99-a59c-378e1ae71389",
     "showTitle": false,
     "title": ""
    }
   },
   "source": [
    "#### Train the ALS Model"
   ]
  },
  {
   "cell_type": "code",
   "execution_count": 0,
   "metadata": {
    "application/vnd.databricks.v1+cell": {
     "cellMetadata": {
      "byteLimit": 2048000,
      "rowLimit": 10000
     },
     "inputWidgets": {},
     "nuid": "36674979-c9b3-4943-af01-dd34f773137b",
     "showTitle": false,
     "title": ""
    }
   },
   "outputs": [
    {
     "output_type": "stream",
     "name": "stdout",
     "output_type": "stream",
     "text": [
      "Out[75]: ALSModel: uid=ALS_78f7317cb457, rank=32"
     ]
    }
   ],
   "source": [
    "estimator = ALS(rank=COLLABORATIVE_DIMENSION, maxIter=15, regParam=0.1, implicitPrefs=True, userCol='user_id', itemCol='tmdb_id', ratingCol='rating')\n",
    "transformer = estimator.fit(model_frame)\n",
    "transformer"
   ]
  },
  {
   "cell_type": "markdown",
   "metadata": {
    "application/vnd.databricks.v1+cell": {
     "cellMetadata": {},
     "inputWidgets": {},
     "nuid": "95f40385-05c0-4809-8741-6560874e490c",
     "showTitle": false,
     "title": ""
    }
   },
   "source": [
    "#### Extract the Embeddings from the Fit Model and Format for Index Insertion"
   ]
  },
  {
   "cell_type": "code",
   "execution_count": 0,
   "metadata": {
    "application/vnd.databricks.v1+cell": {
     "cellMetadata": {
      "byteLimit": 2048000,
      "rowLimit": 10000
     },
     "inputWidgets": {},
     "nuid": "cf9df851-e740-49a3-ac71-f241830313e6",
     "showTitle": false,
     "title": ""
    }
   },
   "outputs": [
    {
     "output_type": "stream",
     "name": "stdout",
     "output_type": "stream",
     "text": [
      "Out[76]: (610, 2269)"
     ]
    }
   ],
   "source": [
    "user_embeddings = transformer.userFactors \\\n",
    "    .withColumn('id', f.col('id').cast('string')) \\\n",
    "    .withColumnRenamed('features', 'values') \\\n",
    "    .toPandas() \\\n",
    "    .to_dict(orient='records')\n",
    "\n",
    "movie_embeddings = transformer.itemFactors \\\n",
    "    .withColumn('id', f.col('id').cast('string')) \\\n",
    "    .withColumnRenamed('features', 'values') \\\n",
    "    .toPandas() \\\n",
    "    .to_dict(orient='records')\n",
    "\n",
    "user_embeddings  = [{\"id\": item[\"id\"], \"values\": item[\"values\"].tolist()} for item in user_embeddings]\n",
    "movie_embeddings = [{\"id\": item[\"id\"], \"values\": item[\"values\"].tolist()} for item in movie_embeddings]\n",
    "len(user_embeddings), len(movie_embeddings)"
   ]
  },
  {
   "cell_type": "markdown",
   "metadata": {
    "application/vnd.databricks.v1+cell": {
     "cellMetadata": {},
     "inputWidgets": {},
     "nuid": "84c658c4-bf67-4009-ac06-d748280b7dce",
     "showTitle": false,
     "title": ""
    }
   },
   "source": [
    "#### Insert the User/Movie Embeddings into the Pinecone Index"
   ]
  },
  {
   "cell_type": "code",
   "execution_count": 0,
   "metadata": {
    "application/vnd.databricks.v1+cell": {
     "cellMetadata": {
      "byteLimit": 2048000,
      "rowLimit": 10000
     },
     "inputWidgets": {},
     "nuid": "a7d0aa6d-ed8d-4bc1-afe3-058be4bfd8e6",
     "showTitle": false,
     "title": ""
    }
   },
   "outputs": [],
   "source": [
    "pinecone.delete_index(COLLABORATIVE_INDEX_NAME)\n",
    "pinecone.create_index(name=COLLABORATIVE_INDEX_NAME, dimension=COLLABORATIVE_DIMENSION, metric='cosine', pods=1, replicas=1, pod_type=\"p1\")"
   ]
  },
  {
   "cell_type": "code",
   "execution_count": 0,
   "metadata": {
    "application/vnd.databricks.v1+cell": {
     "cellMetadata": {
      "byteLimit": 2048000,
      "rowLimit": 10000
     },
     "inputWidgets": {},
     "nuid": "bd7d0d38-c6e1-4131-aed5-805e529fa1fd",
     "showTitle": false,
     "title": ""
    }
   },
   "outputs": [
    {
     "output_type": "display_data",
     "data": {
      "application/vnd.jupyter.widget-view+json": {
       "model_id": "5a5cc503373f42c984fa306d760506e3",
       "version_major": 2,
       "version_minor": 0
      },
      "text/plain": [
       "Upserted vectors:   0%|          | 0/610 [00:00<?, ?it/s]"
      ]
     },
     "metadata": {},
     "output_type": "display_data"
    },
    {
     "output_type": "display_data",
     "data": {
      "application/vnd.jupyter.widget-view+json": {
       "model_id": "c88ff6fdbda0461597cf8e4cf83bd024",
       "version_major": 2,
       "version_minor": 0
      },
      "text/plain": [
       "Upserted vectors:   0%|          | 0/2269 [00:00<?, ?it/s]"
      ]
     },
     "metadata": {},
     "output_type": "display_data"
    },
    {
     "output_type": "stream",
     "name": "stdout",
     "output_type": "stream",
     "text": [
      "Out[81]: {'upserted_count': 2269}"
     ]
    }
   ],
   "source": [
    "index = pinecone.Index(COLLABORATIVE_INDEX_NAME)\n",
    "index.upsert(vectors=user_embeddings, namespace=\"users\", batch_size=100)\n",
    "index.upsert(vectors=movie_embeddings, namespace=\"movies\", batch_size=100)"
   ]
  },
  {
   "cell_type": "code",
   "execution_count": 0,
   "metadata": {
    "application/vnd.databricks.v1+cell": {
     "cellMetadata": {
      "byteLimit": 2048000,
      "rowLimit": 10000
     },
     "inputWidgets": {},
     "nuid": "528bfde0-abef-47ed-83f1-2edf06e6eac3",
     "showTitle": false,
     "title": ""
    }
   },
   "outputs": [
    {
     "output_type": "stream",
     "name": "stdout",
     "output_type": "stream",
     "text": [
      "Out[85]: {'dimension': 32,\n 'index_fullness': 0.0,\n 'namespaces': {'movies': {'vector_count': 2269},\n                'users': {'vector_count': 610}},\n 'total_vector_count': 2879}"
     ]
    }
   ],
   "source": [
    "index.describe_index_stats()"
   ]
  },
  {
   "cell_type": "markdown",
   "metadata": {
    "application/vnd.databricks.v1+cell": {
     "cellMetadata": {},
     "inputWidgets": {},
     "nuid": "5de27d60-708a-4acc-b3cf-88726be3639f",
     "showTitle": false,
     "title": ""
    }
   },
   "source": [
    "#### Spot Check the Content Embeddings with a Few Queries"
   ]
  },
  {
   "cell_type": "code",
   "execution_count": 0,
   "metadata": {
    "application/vnd.databricks.v1+cell": {
     "cellMetadata": {
      "byteLimit": 2048000,
      "rowLimit": 10000
     },
     "inputWidgets": {},
     "nuid": "6bb5630f-5376-447c-af21-c47b47ed4b7c",
     "showTitle": false,
     "title": ""
    }
   },
   "outputs": [
    {
     "output_type": "stream",
     "name": "stdout",
     "output_type": "stream",
     "text": [
      "+--------------------+--------------------+--------------------+--------------------+------------+--------------------+--------------------+-----------+\n|               title|              genres|            keywords|            overview|release_date|            director|                cast|      score|\n+--------------------+--------------------+--------------------+--------------------+------------+--------------------+--------------------+-----------+\n|          GoodFellas|      [Drama, Crime]|[new york city, p...|The true story of...|  1990-09-12|     Martin Scorsese|[Ray Liotta, Robe...| 1.00000012|\n|      Reservoir Dogs|   [Crime, Thriller]|[traitor, jewelry...|A botched robbery...|  1992-09-02|   Quentin Tarantino|[Harvey Keitel, T...|0.896228135|\n|       The Godfather|      [Drama, Crime]|[italy, loss of l...|Spanning the year...|  1972-03-14|Francis Ford Coppola|[Marlon Brando, A...| 0.83672756|\n|The Godfather Par...|      [Drama, Crime]|[italy, italian a...|In the continuing...|  1974-12-20|Francis Ford Coppola|[Al Pacino, Rober...|0.833817244|\n|      Apocalypse Now|        [Drama, War]|[cia, drug abuse,...|At the height of ...|  1979-08-15|Francis Ford Coppola|[Martin Sheen, Fr...|0.783673346|\n|   Full Metal Jacket|        [Drama, War]|[suicide, prostit...|A pragmatic U.S. ...|  1987-06-26|     Stanley Kubrick|[Matthew Modine, ...|0.772079408|\n|  The Usual Suspects|[Drama, Crime, Th...|[new york city, r...|Held in an L.A. i...|  1995-07-19|        Bryan Singer|[Gabriel Byrne, K...|0.766112626|\n|Lock, Stock and T...|     [Comedy, Crime]|[ambush, alcohol,...|A card shark and ...|  1998-08-28|         Guy Ritchie|[Jason Flemyng, D...|0.743983626|\n|One Flew Over the...|             [Drama]|[nurse, mentally ...|A petty criminal ...|  1975-11-19|        Miloš Forman|[Jack Nicholson, ...|0.741500556|\n|   L.A. Confidential|[Crime, Mystery, ...|[corruption, call...|Three detectives ...|  1997-09-19|       Curtis Hanson|[Russell Crowe, G...|0.738057733|\n+--------------------+--------------------+--------------------+--------------------+------------+--------------------+--------------------+-----------+\n\n"
     ]
    }
   ],
   "source": [
    "tmdb_id = '769'\n",
    "matches = index.query(namespace=\"movies\", id=tmdb_id, top_k=10)['matches']\n",
    "matches = spark.createDataFrame([{\"tmdb_id\": item[\"id\"], \"score\": item[\"score\"]} for item in matches])\n",
    "movies.join(matches, on='tmdb_id', how='inner').select(\"title\", \"genres\", \"keywords\", \"overview\", \"release_date\", \"director\", \"cast\", \"score\").sort(f.desc(\"score\")).show()"
   ]
  },
  {
   "cell_type": "markdown",
   "metadata": {
    "application/vnd.databricks.v1+cell": {
     "cellMetadata": {},
     "inputWidgets": {},
     "nuid": "d8af4d94-d133-4f24-a4c4-3ae2e9586ec3",
     "showTitle": false,
     "title": ""
    }
   },
   "source": [
    "# START SANDBOX CODE"
   ]
  },
  {
   "cell_type": "code",
   "execution_count": 0,
   "metadata": {
    "application/vnd.databricks.v1+cell": {
     "cellMetadata": {},
     "inputWidgets": {},
     "nuid": "885aeba0-16c0-43b9-9bb8-fbf6a950509e",
     "showTitle": false,
     "title": ""
    }
   },
   "outputs": [],
   "source": []
  }
 ],
 "metadata": {
  "application/vnd.databricks.v1+notebook": {
   "dashboards": [],
   "language": "python",
   "notebookMetadata": {
    "pythonIndentUnit": 4
   },
   "notebookName": "create-embeddings",
   "widgets": {}
  },
  "kernelspec": {
   "display_name": "Python 3 (ipykernel)",
   "language": "python",
   "name": "python3"
  },
  "language_info": {
   "codemirror_mode": {
    "name": "ipython",
    "version": 3
   },
   "file_extension": ".py",
   "mimetype": "text/x-python",
   "name": "python",
   "nbconvert_exporter": "python",
   "pygments_lexer": "ipython3",
   "version": "3.9.16"
  }
 },
 "nbformat": 4,
 "nbformat_minor": 0
}
