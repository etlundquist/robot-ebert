{
 "cells": [
  {
   "cell_type": "markdown",
   "metadata": {
    "application/vnd.databricks.v1+cell": {
     "cellMetadata": {},
     "inputWidgets": {},
     "nuid": "bb601ce6-f290-42ea-90a6-ca550d38e3ca",
     "showTitle": false,
     "title": ""
    }
   },
   "source": [
    "### Set Up Notebook"
   ]
  },
  {
   "cell_type": "markdown",
   "metadata": {
    "application/vnd.databricks.v1+cell": {
     "cellMetadata": {},
     "inputWidgets": {},
     "nuid": "d89d1a2f-ce6b-4b4e-8779-eb60c1c7676d",
     "showTitle": false,
     "title": ""
    }
   },
   "source": [
    "#### Import Required Modules"
   ]
  },
  {
   "cell_type": "code",
   "execution_count": 4,
   "metadata": {
    "application/vnd.databricks.v1+cell": {
     "cellMetadata": {
      "byteLimit": 2048000,
      "rowLimit": 10000
     },
     "inputWidgets": {},
     "nuid": "7ad92141-2202-40f0-8029-bebb8b63e18b",
     "showTitle": false,
     "title": ""
    }
   },
   "outputs": [],
   "source": [
    "import os\n",
    "import json\n",
    "\n",
    "from typing import List, Dict\n",
    "from dotenv import load_dotenv\n",
    "\n",
    "import openai\n",
    "import chromadb\n",
    "import numpy as np\n",
    "import pandas as pd\n",
    "\n",
    "from pyspark.sql import SparkSession\n",
    "from pyspark.sql import functions as f\n",
    "from pyspark.sql.window import Window\n",
    "from pyspark.ml.recommendation import ALS\n",
    "\n",
    "from llama_index import ServiceContext, StorageContext\n",
    "from llama_index.schema import TextNode, MetadataMode\n",
    "from llama_index.llms import OpenAI\n",
    "from llama_index.embeddings import OpenAIEmbedding\n",
    "from llama_index.vector_stores import ChromaVectorStore\n",
    "from llama_index.indices.vector_store import VectorStoreIndex"
   ]
  },
  {
   "cell_type": "markdown",
   "metadata": {
    "application/vnd.databricks.v1+cell": {
     "cellMetadata": {},
     "inputWidgets": {},
     "nuid": "8de77a0b-a968-4306-a01f-cbf21973a372",
     "showTitle": false,
     "title": ""
    }
   },
   "source": [
    "#### Get or Create SparkSession"
   ]
  },
  {
   "cell_type": "code",
   "execution_count": 5,
   "metadata": {
    "application/vnd.databricks.v1+cell": {
     "cellMetadata": {
      "byteLimit": 2048000,
      "rowLimit": 10000
     },
     "inputWidgets": {},
     "nuid": "fcc0d9be-c3dd-4fbb-ba4f-5a413ce03d97",
     "showTitle": false,
     "title": ""
    }
   },
   "outputs": [
    {
     "data": {
      "text/html": [
       "\n",
       "            <div>\n",
       "                <p><b>SparkSession - in-memory</b></p>\n",
       "                \n",
       "        <div>\n",
       "            <p><b>SparkContext</b></p>\n",
       "\n",
       "            <p><a href=\"http://localhost:4040\">Spark UI</a></p>\n",
       "\n",
       "            <dl>\n",
       "              <dt>Version</dt>\n",
       "                <dd><code>v3.5.0</code></dd>\n",
       "              <dt>Master</dt>\n",
       "                <dd><code>local[*]</code></dd>\n",
       "              <dt>AppName</dt>\n",
       "                <dd><code>pyspark-shell</code></dd>\n",
       "            </dl>\n",
       "        </div>\n",
       "        \n",
       "            </div>\n",
       "        "
      ],
      "text/plain": [
       "<pyspark.sql.session.SparkSession at 0x286ac7a90>"
      ]
     },
     "execution_count": 5,
     "metadata": {},
     "output_type": "execute_result"
    }
   ],
   "source": [
    "spark = SparkSession.builder.getOrCreate()\n",
    "spark.sparkContext.setLogLevel(\"ERROR\")\n",
    "spark"
   ]
  },
  {
   "cell_type": "markdown",
   "metadata": {
    "application/vnd.databricks.v1+cell": {
     "cellMetadata": {},
     "inputWidgets": {},
     "nuid": "3c66a3f9-fe90-46e2-ae65-5100be81faf0",
     "showTitle": false,
     "title": ""
    }
   },
   "source": [
    "#### Load Secrets"
   ]
  },
  {
   "cell_type": "code",
   "execution_count": 6,
   "metadata": {
    "application/vnd.databricks.v1+cell": {
     "cellMetadata": {
      "byteLimit": 2048000,
      "rowLimit": 10000
     },
     "inputWidgets": {},
     "nuid": "34c6e1a3-0a28-4d1b-92aa-659c6b047bd2",
     "showTitle": false,
     "title": ""
    }
   },
   "outputs": [
    {
     "data": {
      "text/plain": [
       "True"
      ]
     },
     "execution_count": 6,
     "metadata": {},
     "output_type": "execute_result"
    }
   ],
   "source": [
    "# env_path = \"/dbfs/FileStore/env/.env\"\n",
    "load_dotenv()"
   ]
  },
  {
   "cell_type": "markdown",
   "metadata": {
    "application/vnd.databricks.v1+cell": {
     "cellMetadata": {},
     "inputWidgets": {},
     "nuid": "14ce4bd9-572b-4820-b110-d1a17cd1452c",
     "showTitle": false,
     "title": ""
    }
   },
   "source": [
    "#### Set Workflow Constants"
   ]
  },
  {
   "cell_type": "code",
   "execution_count": 47,
   "metadata": {
    "application/vnd.databricks.v1+cell": {
     "cellMetadata": {
      "byteLimit": 2048000,
      "rowLimit": 10000
     },
     "inputWidgets": {},
     "nuid": "c758c725-7e95-41a3-9c7c-15e6011dcbb0",
     "showTitle": false,
     "title": ""
    }
   },
   "outputs": [],
   "source": [
    "# CLEAN_PATH = \"dbfs:/FileStore/data/clean\"\n",
    "CLEAN_PATH = \"../data/json\"\n",
    "\n",
    "MOVIES_CONTENT_INDEX_NAME = \"movies-content\"\n",
    "USERS_COLLAB_INDEX_NAME = \"users-collab\"\n",
    "MOVIES_COLLAB_INDEX_NAME = \"movies-collab\"\n",
    "\n",
    "CONTENT_DIMENSION = 1536\n",
    "COLLAB_DIMENSION = 32"
   ]
  },
  {
   "cell_type": "markdown",
   "metadata": {
    "application/vnd.databricks.v1+cell": {
     "cellMetadata": {},
     "inputWidgets": {},
     "nuid": "d9156a53-bb1f-4e30-8aaa-68dd9263d745",
     "showTitle": false,
     "title": ""
    }
   },
   "source": [
    "### Create Content Embedding Vectors"
   ]
  },
  {
   "cell_type": "markdown",
   "metadata": {
    "application/vnd.databricks.v1+cell": {
     "cellMetadata": {},
     "inputWidgets": {},
     "nuid": "4585567f-ea4f-4776-9062-5c87765c1d93",
     "showTitle": false,
     "title": ""
    }
   },
   "source": [
    "#### Import Clean Movies Data"
   ]
  },
  {
   "cell_type": "code",
   "execution_count": 48,
   "metadata": {
    "application/vnd.databricks.v1+cell": {
     "cellMetadata": {
      "byteLimit": 2048000,
      "rowLimit": 10000
     },
     "inputWidgets": {},
     "nuid": "029a4267-14f8-46ed-b8e8-014cc9a0e1a9",
     "showTitle": false,
     "title": ""
    }
   },
   "outputs": [
    {
     "name": "stdout",
     "output_type": "stream",
     "text": [
      "-RECORD 0------------------------------------------------------------------------------------------------------------------------------------------------------------------------------------------------------------------------------------------------------\n",
      " actors        | [Tim Roth, Jennifer Beals, Antonio Banderas, Valeria Golino, David Proval]                                                                                                                                                                    \n",
      " budget        | 4000000                                                                                                                                                                                                                                       \n",
      " director      | Allison Anders                                                                                                                                                                                                                                \n",
      " genres        | [Comedy]                                                                                                                                                                                                                                      \n",
      " keywords      | [hotel, new year's eve, witch, bet, hotel room, sperm, anthology, los angeles, california, hoodlum, multiple storylines, woman director]                                                                                                      \n",
      " language      | en                                                                                                                                                                                                                                            \n",
      " overview      | It's Ted the Bellhop's first night on the job...and the hotel's very unusual guests are about to place him in some outrageous predicaments. It seems that this evening's room service is serving up one unbelievable happening after another. \n",
      " popularity    | 21.138                                                                                                                                                                                                                                        \n",
      " release_date  | 1995-12-09                                                                                                                                                                                                                                    \n",
      " revenue       | 4257354                                                                                                                                                                                                                                       \n",
      " runtime       | 98                                                                                                                                                                                                                                            \n",
      " title         | Four Rooms                                                                                                                                                                                                                                    \n",
      " tmdb_homepage | https://www.themoviedb.org/movie/5                                                                                                                                                                                                            \n",
      " tmdb_id       | 5                                                                                                                                                                                                                                             \n",
      " updated_at    | 2023-10-24T21:38:29.594Z                                                                                                                                                                                                                      \n",
      " vote_average  | 5.789                                                                                                                                                                                                                                         \n",
      " vote_count    | 2443                                                                                                                                                                                                                                          \n",
      "only showing top 1 row\n",
      "\n"
     ]
    },
    {
     "data": {
      "text/plain": [
       "2264"
      ]
     },
     "execution_count": 48,
     "metadata": {},
     "output_type": "execute_result"
    }
   ],
   "source": [
    "movies = spark.read.json(os.path.join(CLEAN_PATH, \"movies.json\"))\n",
    "movies.show(1, truncate=False, vertical=True)\n",
    "movies.count()"
   ]
  },
  {
   "cell_type": "markdown",
   "metadata": {},
   "source": [
    "#### Convert Movies into LLamaIndex Nodes"
   ]
  },
  {
   "cell_type": "code",
   "execution_count": 49,
   "metadata": {},
   "outputs": [
    {
     "data": {
      "text/plain": [
       "{'actors': ['Tim Roth',\n",
       "  'Jennifer Beals',\n",
       "  'Antonio Banderas',\n",
       "  'Valeria Golino',\n",
       "  'David Proval'],\n",
       " 'budget': 4000000,\n",
       " 'director': 'Allison Anders',\n",
       " 'genres': ['Comedy'],\n",
       " 'keywords': ['hotel',\n",
       "  \"new year's eve\",\n",
       "  'witch',\n",
       "  'bet',\n",
       "  'hotel room',\n",
       "  'sperm',\n",
       "  'anthology',\n",
       "  'los angeles, california',\n",
       "  'hoodlum',\n",
       "  'multiple storylines',\n",
       "  'woman director'],\n",
       " 'language': 'en',\n",
       " 'overview': \"It's Ted the Bellhop's first night on the job...and the hotel's very unusual guests are about to place him in some outrageous predicaments. It seems that this evening's room service is serving up one unbelievable happening after another.\",\n",
       " 'popularity': 21.138,\n",
       " 'release_date': '1995-12-09',\n",
       " 'revenue': 4257354,\n",
       " 'runtime': 98,\n",
       " 'title': 'Four Rooms',\n",
       " 'tmdb_homepage': 'https://www.themoviedb.org/movie/5',\n",
       " 'tmdb_id': '5',\n",
       " 'updated_at': '2023-10-24T21:38:29.594Z',\n",
       " 'vote_average': 5.789,\n",
       " 'vote_count': 2443}"
      ]
     },
     "execution_count": 49,
     "metadata": {},
     "output_type": "execute_result"
    }
   ],
   "source": [
    "movies = movies.toPandas().to_dict(orient=\"records\")\n",
    "movies[0]"
   ]
  },
  {
   "cell_type": "code",
   "execution_count": 50,
   "metadata": {},
   "outputs": [
    {
     "data": {
      "text/plain": [
       "['actors',\n",
       " 'budget',\n",
       " 'director',\n",
       " 'genres',\n",
       " 'keywords',\n",
       " 'language',\n",
       " 'overview',\n",
       " 'popularity',\n",
       " 'release_date',\n",
       " 'revenue',\n",
       " 'runtime',\n",
       " 'title',\n",
       " 'tmdb_homepage',\n",
       " 'tmdb_id',\n",
       " 'updated_at',\n",
       " 'vote_average',\n",
       " 'vote_count']"
      ]
     },
     "execution_count": 50,
     "metadata": {},
     "output_type": "execute_result"
    }
   ],
   "source": [
    "list(movies[0].keys())"
   ]
  },
  {
   "cell_type": "code",
   "execution_count": 51,
   "metadata": {},
   "outputs": [
    {
     "data": {
      "text/plain": [
       "['budget',\n",
       " 'language',\n",
       " 'overview',\n",
       " 'popularity',\n",
       " 'release_date',\n",
       " 'revenue',\n",
       " 'runtime',\n",
       " 'title',\n",
       " 'tmdb_homepage',\n",
       " 'tmdb_id',\n",
       " 'updated_at',\n",
       " 'vote_average',\n",
       " 'vote_count']"
      ]
     },
     "execution_count": 51,
     "metadata": {},
     "output_type": "execute_result"
    }
   ],
   "source": [
    "emb_metadata_keys = [\"genres\", \"keywords\", \"director\", \"actors\", \"decade\"]\n",
    "excluded_embed_metadata_keys = sorted(set(movies[0].keys()) - set(emb_metadata_keys))\n",
    "excluded_embed_metadata_keys"
   ]
  },
  {
   "cell_type": "code",
   "execution_count": 52,
   "metadata": {},
   "outputs": [
    {
     "data": {
      "text/plain": [
       "['tmdb_homepage', 'tmdb_id', 'updated_at']"
      ]
     },
     "execution_count": 52,
     "metadata": {},
     "output_type": "execute_result"
    }
   ],
   "source": [
    "excluded_llm_metadata_keys = [\"tmdb_homepage\", \"tmdb_id\", \"updated_at\"]\n",
    "excluded_llm_metadata_keys"
   ]
  },
  {
   "cell_type": "code",
   "execution_count": 53,
   "metadata": {},
   "outputs": [],
   "source": [
    "nodes = []\n",
    "for movie in movies:\n",
    "\n",
    "    metadata = movie.copy()\n",
    "    text = metadata.pop(\"overview\")\n",
    "    \n",
    "    metadata[\"actors\"] = \", \".join(metadata[\"actors\"])\n",
    "    metadata[\"genres\"] = \", \".join(metadata[\"genres\"])\n",
    "    metadata[\"keywords\"] = \", \".join(metadata[\"keywords\"])\n",
    "    \n",
    "    metadata[\"decade\"] = metadata['release_date'][:3] + \"0s\"\n",
    "    metadata.pop(\"release_date\")\n",
    "\n",
    "    node = TextNode(\n",
    "        text=text,\n",
    "        metadata=metadata,\n",
    "        excluded_embed_metadata_keys=excluded_embed_metadata_keys,\n",
    "        excluded_llm_metadata_keys=excluded_llm_metadata_keys,\n",
    "        text_template=\"{metadata_str}\\nplot overview: {content}\"\n",
    "    )\n",
    "    node.id_ = metadata[\"tmdb_id\"]\n",
    "    nodes.append(node)"
   ]
  },
  {
   "cell_type": "code",
   "execution_count": 71,
   "metadata": {},
   "outputs": [
    {
     "name": "stdout",
     "output_type": "stream",
     "text": [
      "actors: Tim Roth, Jennifer Beals, Antonio Banderas, Valeria Golino, David Proval\n",
      "director: Allison Anders\n",
      "genres: Comedy\n",
      "keywords: hotel, new year's eve, witch, bet, hotel room, sperm, anthology, los angeles, california, hoodlum, multiple storylines, woman director\n",
      "decade: 1990s\n",
      "plot overview: It's Ted the Bellhop's first night on the job...and the hotel's very unusual guests are about to place him in some outrageous predicaments. It seems that this evening's room service is serving up one unbelievable happening after another.\n"
     ]
    }
   ],
   "source": [
    "print(nodes[0].get_content(metadata_mode=MetadataMode.EMBED))"
   ]
  },
  {
   "cell_type": "code",
   "execution_count": 55,
   "metadata": {},
   "outputs": [
    {
     "name": "stdout",
     "output_type": "stream",
     "text": [
      "actors: Tim Roth, Jennifer Beals, Antonio Banderas, Valeria Golino, David Proval\n",
      "budget: 4000000\n",
      "director: Allison Anders\n",
      "genres: Comedy\n",
      "keywords: hotel, new year's eve, witch, bet, hotel room, sperm, anthology, los angeles, california, hoodlum, multiple storylines, woman director\n",
      "language: en\n",
      "popularity: 21.138\n",
      "revenue: 4257354\n",
      "runtime: 98\n",
      "title: Four Rooms\n",
      "vote_average: 5.789\n",
      "vote_count: 2443\n",
      "decade: 1990s\n",
      "plot overview: It's Ted the Bellhop's first night on the job...and the hotel's very unusual guests are about to place him in some outrageous predicaments. It seems that this evening's room service is serving up one unbelievable happening after another.\n"
     ]
    }
   ],
   "source": [
    "print(nodes[0].get_content(metadata_mode=MetadataMode.LLM))"
   ]
  },
  {
   "cell_type": "markdown",
   "metadata": {
    "application/vnd.databricks.v1+cell": {
     "cellMetadata": {},
     "inputWidgets": {},
     "nuid": "8229e9cc-6db0-432d-bc67-e6ed4c828870",
     "showTitle": false,
     "title": ""
    }
   },
   "source": [
    "#### Get or Create a Chroma Collection"
   ]
  },
  {
   "cell_type": "code",
   "execution_count": 56,
   "metadata": {},
   "outputs": [
    {
     "data": {
      "text/plain": [
       "<chromadb.api.client.Client at 0x29a921e40>"
      ]
     },
     "execution_count": 56,
     "metadata": {},
     "output_type": "execute_result"
    }
   ],
   "source": [
    "chroma_client = chromadb.PersistentClient(path=\"../src/chroma\")\n",
    "chroma_client"
   ]
  },
  {
   "cell_type": "code",
   "execution_count": 57,
   "metadata": {},
   "outputs": [],
   "source": [
    "embedding_function = chromadb.utils.embedding_functions.OpenAIEmbeddingFunction(\n",
    "    api_key=os.environ[\"OPENAI_API_KEY\"], \n",
    "    model_name=\"text-embedding-ada-002\"\n",
    ")"
   ]
  },
  {
   "cell_type": "code",
   "execution_count": 58,
   "metadata": {},
   "outputs": [],
   "source": [
    "chroma_client.delete_collection(name=MOVIES_CONTENT_INDEX_NAME)"
   ]
  },
  {
   "cell_type": "code",
   "execution_count": 59,
   "metadata": {},
   "outputs": [
    {
     "data": {
      "text/plain": [
       "0"
      ]
     },
     "execution_count": 59,
     "metadata": {},
     "output_type": "execute_result"
    }
   ],
   "source": [
    "movies_content_collection = chroma_client.get_or_create_collection(\n",
    "    name=MOVIES_CONTENT_INDEX_NAME, \n",
    "    metadata={\"hnsw:space\": \"cosine\"},\n",
    "    embedding_function=embedding_function\n",
    ")\n",
    "movies_content_collection.count()"
   ]
  },
  {
   "cell_type": "markdown",
   "metadata": {},
   "source": [
    "#### Create a LLamaIndex ChromaDB VectorStore and Insert Nodes"
   ]
  },
  {
   "cell_type": "code",
   "execution_count": 60,
   "metadata": {},
   "outputs": [
    {
     "data": {
      "text/plain": [
       "StorageContext(docstore=<llama_index.storage.docstore.simple_docstore.SimpleDocumentStore object at 0x29c2882e0>, index_store=<llama_index.storage.index_store.simple_index_store.SimpleIndexStore object at 0x29c288850>, vector_stores={'default': ChromaVectorStore(stores_text=True, is_embedding_query=True, flat_metadata=True, collection_name=None, host=None, port=None, ssl=False, headers=None, persist_dir=None, collection_kwargs={}), 'image': <llama_index.vector_stores.simple.SimpleVectorStore object at 0x29c288640>}, graph_store=<llama_index.graph_stores.simple.SimpleGraphStore object at 0x29c288790>)"
      ]
     },
     "execution_count": 60,
     "metadata": {},
     "output_type": "execute_result"
    }
   ],
   "source": [
    "movies_content_store = ChromaVectorStore(chroma_collection=movies_content_collection)\n",
    "storage_context = StorageContext.from_defaults(vector_store=movies_content_store)\n",
    "storage_context"
   ]
  },
  {
   "cell_type": "code",
   "execution_count": 61,
   "metadata": {},
   "outputs": [],
   "source": [
    "llm = OpenAI(model=\"gpt-4-1106-preview\", temperature=0.1, max_tokens=1000, api_key=os.environ[\"OPENAI_API_KEY\"])\n",
    "embed_model = OpenAIEmbedding(model=\"text-embedding-ada-002\", api_key=os.environ[\"OPENAI_API_KEY\"])\n",
    "service_context = ServiceContext.from_defaults(llm=llm, embed_model=embed_model)"
   ]
  },
  {
   "cell_type": "code",
   "execution_count": 62,
   "metadata": {},
   "outputs": [
    {
     "name": "stderr",
     "output_type": "stream",
     "text": [
      "/Users/ericlundquist/anaconda3/envs/robot_ebert/lib/python3.10/site-packages/tqdm/auto.py:21: TqdmWarning: IProgress not found. Please update jupyter and ipywidgets. See https://ipywidgets.readthedocs.io/en/stable/user_install.html\n",
      "  from .autonotebook import tqdm as notebook_tqdm\n",
      "Generating embeddings: 100%|███████████████████████████████████████████████████████████████████████████████████████████████████████████████████████████| 2048/2048 [01:01<00:00, 33.27it/s]\n",
      "Generating embeddings: 100%|█████████████████████████████████████████████████████████████████████████████████████████████████████████████████████████████| 216/216 [00:06<00:00, 32.92it/s]\n"
     ]
    }
   ],
   "source": [
    "movies_content_index = VectorStoreIndex(\n",
    "    nodes=nodes,\n",
    "    service_context=service_context,\n",
    "    storage_context=storage_context,\n",
    "    show_progress=True\n",
    ")"
   ]
  },
  {
   "cell_type": "code",
   "execution_count": 63,
   "metadata": {},
   "outputs": [
    {
     "data": {
      "text/plain": [
       "2264"
      ]
     },
     "execution_count": 63,
     "metadata": {},
     "output_type": "execute_result"
    }
   ],
   "source": [
    "movies_content_collection.count()"
   ]
  },
  {
   "cell_type": "code",
   "execution_count": 64,
   "metadata": {},
   "outputs": [
    {
     "data": {
      "text/plain": [
       "{'ids': ['5'],\n",
       " 'embeddings': None,\n",
       " 'metadatas': [{'_node_content': '{\"id_\": \"5\", \"embedding\": null, \"metadata\": {\"actors\": \"Tim Roth, Jennifer Beals, Antonio Banderas, Valeria Golino, David Proval\", \"budget\": 4000000, \"director\": \"Allison Anders\", \"genres\": \"Comedy\", \"keywords\": \"hotel, new year\\'s eve, witch, bet, hotel room, sperm, anthology, los angeles, california, hoodlum, multiple storylines, woman director\", \"language\": \"en\", \"popularity\": 21.138, \"revenue\": 4257354, \"runtime\": 98, \"title\": \"Four Rooms\", \"tmdb_homepage\": \"https://www.themoviedb.org/movie/5\", \"tmdb_id\": \"5\", \"updated_at\": \"2023-10-24T21:38:29.594Z\", \"vote_average\": 5.789, \"vote_count\": 2443, \"decade\": \"1990s\"}, \"excluded_embed_metadata_keys\": [\"budget\", \"language\", \"overview\", \"popularity\", \"release_date\", \"revenue\", \"runtime\", \"title\", \"tmdb_homepage\", \"tmdb_id\", \"updated_at\", \"vote_average\", \"vote_count\"], \"excluded_llm_metadata_keys\": [\"tmdb_homepage\", \"tmdb_id\", \"updated_at\"], \"relationships\": {}, \"hash\": \"fee8ab35938ad33e02d589a0d73ace995011f8998d94ac08007a8c23da3ddbb2\", \"text\": \"\", \"start_char_idx\": null, \"end_char_idx\": null, \"text_template\": \"{metadata_str}\\\\nplot overview: {content}\", \"metadata_template\": \"{key}: {value}\", \"metadata_seperator\": \"\\\\n\", \"class_name\": \"TextNode\"}',\n",
       "   '_node_type': 'TextNode',\n",
       "   'actors': 'Tim Roth, Jennifer Beals, Antonio Banderas, Valeria Golino, David Proval',\n",
       "   'budget': 4000000,\n",
       "   'decade': '1990s',\n",
       "   'director': 'Allison Anders',\n",
       "   'doc_id': 'None',\n",
       "   'document_id': 'None',\n",
       "   'genres': 'Comedy',\n",
       "   'keywords': \"hotel, new year's eve, witch, bet, hotel room, sperm, anthology, los angeles, california, hoodlum, multiple storylines, woman director\",\n",
       "   'language': 'en',\n",
       "   'popularity': 21.138,\n",
       "   'ref_doc_id': 'None',\n",
       "   'revenue': 4257354,\n",
       "   'runtime': 98,\n",
       "   'title': 'Four Rooms',\n",
       "   'tmdb_homepage': 'https://www.themoviedb.org/movie/5',\n",
       "   'tmdb_id': '5',\n",
       "   'updated_at': '2023-10-24T21:38:29.594Z',\n",
       "   'vote_average': 5.789,\n",
       "   'vote_count': 2443}],\n",
       " 'documents': [\"It's Ted the Bellhop's first night on the job...and the hotel's very unusual guests are about to place him in some outrageous predicaments. It seems that this evening's room service is serving up one unbelievable happening after another.\"],\n",
       " 'uris': None,\n",
       " 'data': None}"
      ]
     },
     "execution_count": 64,
     "metadata": {},
     "output_type": "execute_result"
    }
   ],
   "source": [
    "movies_content_collection.get(ids=\"5\")"
   ]
  },
  {
   "cell_type": "markdown",
   "metadata": {
    "application/vnd.databricks.v1+cell": {
     "cellMetadata": {},
     "inputWidgets": {},
     "nuid": "3ee147d1-526e-43cc-a54e-da445754f594",
     "showTitle": false,
     "title": ""
    }
   },
   "source": [
    "#### Convert the Combined Movie Text to Embedding Representations"
   ]
  },
  {
   "cell_type": "code",
   "execution_count": 65,
   "metadata": {},
   "outputs": [],
   "source": [
    "openai_client = openai.OpenAI(api_key=os.environ[\"OPENAI_API_KEY\"])"
   ]
  },
  {
   "cell_type": "code",
   "execution_count": 66,
   "metadata": {
    "application/vnd.databricks.v1+cell": {
     "cellMetadata": {
      "byteLimit": 2048000,
      "rowLimit": 10000
     },
     "inputWidgets": {},
     "nuid": "7ffb59ff-a750-46c2-b245-1046982a93d7",
     "showTitle": false,
     "title": ""
    }
   },
   "outputs": [],
   "source": [
    "# movie_embeddings = [\n",
    "#     openai_client.embeddings.create(\n",
    "#         model=\"text-embedding-ada-002\",\n",
    "#         input=movie[\"text\"]\n",
    "#     ).data[0].embedding for movie in movies\n",
    "# ]"
   ]
  },
  {
   "cell_type": "code",
   "execution_count": 67,
   "metadata": {},
   "outputs": [],
   "source": [
    "# len(movies), len(movie_embeddings)"
   ]
  },
  {
   "cell_type": "code",
   "execution_count": 68,
   "metadata": {},
   "outputs": [],
   "source": [
    "# movies_content_collection.upsert(\n",
    "#     ids=[movie[\"tmdb_id\"] for movie in movies],\n",
    "#     embeddings=movie_embeddings,\n",
    "#     documents=[movie[\"text\"] for movie in movies]\n",
    "# )\n",
    "# movies_content_collection.count()"
   ]
  },
  {
   "cell_type": "markdown",
   "metadata": {
    "application/vnd.databricks.v1+cell": {
     "cellMetadata": {},
     "inputWidgets": {},
     "nuid": "71abff79-5e22-494e-9c52-ab23a42d5aa0",
     "showTitle": false,
     "title": ""
    }
   },
   "source": [
    "#### Spot Check the Content Embeddings with a Few Queries"
   ]
  },
  {
   "cell_type": "code",
   "execution_count": 69,
   "metadata": {},
   "outputs": [],
   "source": [
    "retriever = movies_content_index.as_retriever(similarity_top_k=5, verbose=True)"
   ]
  },
  {
   "cell_type": "code",
   "execution_count": 70,
   "metadata": {},
   "outputs": [
    {
     "name": "stdout",
     "output_type": "stream",
     "text": [
      "actors: Al Pacino, Sean Penn, Penelope Ann Miller, John Leguizamo, Ingrid Rogers\n",
      "budget: 30000000\n",
      "director: Brian De Palma\n",
      "genres: Crime, Drama, Romance, Thriller\n",
      "keywords: new york city, based on novel or book, 1970s, go-go dancer, puerto rico, cocaine, nightclub, gangster, release from prison, criminal past, love, lawyer, drugs, disco, neo-noir\n",
      "language: en\n",
      "popularity: 24.27\n",
      "revenue: 63848322\n",
      "runtime: 144\n",
      "title: Carlito's Way\n",
      "vote_average: 7.834\n",
      "vote_count: 2875\n",
      "decade: 1990s\n",
      "plot overview: A Puerto-Rican ex-con, just released from prison, pledges to stay away from drugs and violence despite the pressure around him, and lead a better life outside NYC.\n",
      "\n",
      "actors: Al Pacino, John Cusack, Bridget Fonda, Danny Aiello, Martin Landau\n",
      "budget: 0\n",
      "director: Harold Becker\n",
      "genres: Drama, Thriller\n",
      "keywords: corruption, undercover, war on drugs, mayor, drug dealer, presidential election, undercover agent, investigation, police, drugs\n",
      "language: en\n",
      "popularity: 17.394\n",
      "revenue: 0\n",
      "runtime: 111\n",
      "title: City Hall\n",
      "vote_average: 5.908\n",
      "vote_count: 250\n",
      "decade: 1990s\n",
      "plot overview: The accidental shooting of a boy in New York leads to an investigation by the Deputy Mayor, and unexpectedly far-reaching consequences.\n",
      "\n",
      "actors: Al Pacino, John Cazale, Charles Durning, Chris Sarandon, James Broderick\n",
      "budget: 1800000\n",
      "director: Sidney Lumet\n",
      "genres: Crime, Drama, Thriller\n",
      "keywords: new york city, bank, hostage, fbi, police, heist, bank robbery, brooklyn, new york city, bank cashier, car procession, attica, unhappy marriage, based on magazine, newspaper or article\n",
      "language: en\n",
      "popularity: 18.607\n",
      "revenue: 46665856\n",
      "runtime: 125\n",
      "title: Dog Day Afternoon\n",
      "vote_average: 7.833\n",
      "vote_count: 2684\n",
      "decade: 1970s\n",
      "plot overview: Based on the true story of would-be Brooklyn bank robbers John Wojtowicz and Salvatore Naturale. Sonny and Sal attempt a bank heist which quickly turns sour and escalates into a hostage situation and stand-off with the police. As Sonny's motives for the robbery are slowly revealed and things become more complicated, the heist turns into a media circus.\n",
      "\n",
      "actors: Al Pacino, Steven Bauer, Michelle Pfeiffer, Mary Elizabeth Mastrantonio, Robert Loggia\n",
      "budget: 25000000\n",
      "director: Brian De Palma\n",
      "genres: Action, Crime, Drama\n",
      "keywords: sibling relationship, miami, florida, corruption, loss of loved one, cuba, prohibition era, cocaine, gangster, rise and fall, remake, drug cartel, mafia, drug lord, bitterness, rise to power, miami beach, cuban refugees, drug war\n",
      "language: en\n",
      "popularity: 63.238\n",
      "revenue: 66023329\n",
      "runtime: 170\n",
      "title: Scarface\n",
      "vote_average: 8.166\n",
      "vote_count: 10831\n",
      "decade: 1980s\n",
      "plot overview: After getting a green card in exchange for assassinating a Cuban government official, Tony Montana stakes a claim on the drug trade in Miami. Viciously murdering anyone who stands in his way, Tony eventually becomes the biggest drug lord in the state, controlling nearly all the cocaine that comes through Miami. But increased pressure from the police, wars with Colombian drug cartels and his own drug-fueled paranoia serve to fuel the flames of his eventual downfall.\n",
      "\n",
      "actors: Johnny Depp, Al Pacino, Michael Madsen, Bruno Kirby, James Russo\n",
      "budget: 35000000\n",
      "director: Mike Newell\n",
      "genres: Crime, Drama, Thriller\n",
      "keywords: new york city, florida, 1970s, undercover, gangster, based on true story, mafia, mobster, dirty cop, informant, surveillance, card playing, stealing money, marriage counselor, drug deal, fbi agent, brutal violence\n",
      "language: en\n",
      "popularity: 24.749\n",
      "revenue: 124909762\n",
      "runtime: 127\n",
      "title: Donnie Brasco\n",
      "vote_average: 7.535\n",
      "vote_count: 4065\n",
      "decade: 1990s\n",
      "plot overview: An FBI undercover agent infiltrates the mob and identifies more with the mafia life at the expense of his regular one.\n"
     ]
    }
   ],
   "source": [
    "query = \"a gritty crime drama set in new york city starring al pacino\"\n",
    "results = retriever.retrieve(query)\n",
    "print(\"\\n\\n\".join([result.get_content(metadata_mode=MetadataMode.LLM) for result in results]))"
   ]
  },
  {
   "cell_type": "markdown",
   "metadata": {
    "application/vnd.databricks.v1+cell": {
     "cellMetadata": {
      "byteLimit": 2048000,
      "rowLimit": 10000
     },
     "inputWidgets": {},
     "nuid": "d20f2af2-3d30-4a86-814a-45ce38967a7e",
     "showTitle": false,
     "title": ""
    }
   },
   "source": [
    "### Create Collaborative Filtering Embedding Vectors"
   ]
  },
  {
   "cell_type": "markdown",
   "metadata": {
    "application/vnd.databricks.v1+cell": {
     "cellMetadata": {},
     "inputWidgets": {},
     "nuid": "80445582-60aa-440f-b970-ac0c9face1cb",
     "showTitle": false,
     "title": ""
    }
   },
   "source": [
    "#### Import Clean Ratings Data"
   ]
  },
  {
   "cell_type": "code",
   "execution_count": 23,
   "metadata": {
    "application/vnd.databricks.v1+cell": {
     "cellMetadata": {
      "byteLimit": 2048000,
      "rowLimit": 10000
     },
     "inputWidgets": {},
     "nuid": "784aa1d9-f3e0-45f3-bdd3-bf22ad39ff67",
     "showTitle": false,
     "title": ""
    }
   },
   "outputs": [
    {
     "name": "stdout",
     "output_type": "stream",
     "text": [
      "+------+-------+------------------------+-------+\n",
      "|rating|tmdb_id|updated_at              |user_id|\n",
      "+------+-------+------------------------+-------+\n",
      "|4.0   |1572   |2023-10-24T21:38:29.594Z|304    |\n",
      "|5.0   |2108   |2023-10-24T21:38:29.594Z|469    |\n",
      "|4.0   |98     |2023-10-24T21:38:29.594Z|247    |\n",
      "|4.0   |1592   |2023-10-24T21:38:29.594Z|307    |\n",
      "|3.5   |2048   |2023-10-24T21:38:29.594Z|477    |\n",
      "+------+-------+------------------------+-------+\n",
      "only showing top 5 rows\n",
      "\n"
     ]
    },
    {
     "data": {
      "text/plain": [
       "81116"
      ]
     },
     "execution_count": 23,
     "metadata": {},
     "output_type": "execute_result"
    }
   ],
   "source": [
    "ratings = spark.read.json(os.path.join(CLEAN_PATH, \"ratings.json\"))\n",
    "ratings.show(5, truncate=False)\n",
    "ratings.count()"
   ]
  },
  {
   "cell_type": "markdown",
   "metadata": {
    "application/vnd.databricks.v1+cell": {
     "cellMetadata": {},
     "inputWidgets": {},
     "nuid": "806fea4c-d049-41d3-872d-30fc6e01d5be",
     "showTitle": false,
     "title": ""
    }
   },
   "source": [
    "#### Create an Implicit Feedback Recommender Model Frame"
   ]
  },
  {
   "cell_type": "code",
   "execution_count": 24,
   "metadata": {
    "application/vnd.databricks.v1+cell": {
     "cellMetadata": {
      "byteLimit": 2048000,
      "rowLimit": 10000
     },
     "inputWidgets": {},
     "nuid": "99b3e90d-4006-469d-ba5e-6a1278d36307",
     "showTitle": false,
     "title": ""
    }
   },
   "outputs": [
    {
     "name": "stderr",
     "output_type": "stream",
     "text": [
      "                                                                                \r"
     ]
    },
    {
     "name": "stdout",
     "output_type": "stream",
     "text": [
      "users=610 movies=2269 ratings=81116 sparsity=0.9414\n",
      "+------+-----+\n",
      "|rating|count|\n",
      "+------+-----+\n",
      "|   0.5|  918|\n",
      "|   1.0| 1989|\n",
      "|   1.5| 1121|\n",
      "|   2.0| 5397|\n",
      "|   2.5| 4035|\n",
      "|   3.0|15973|\n",
      "|   3.5|10260|\n",
      "|   4.0|22460|\n",
      "|   4.5| 7225|\n",
      "|   5.0|11738|\n",
      "+------+-----+\n",
      "\n",
      "+------+-------+------------------------+-------+\n",
      "|rating|tmdb_id|updated_at              |user_id|\n",
      "+------+-------+------------------------+-------+\n",
      "|4.0   |1572   |2023-10-24T21:38:29.594Z|304    |\n",
      "|5.0   |2108   |2023-10-24T21:38:29.594Z|469    |\n",
      "|4.0   |98     |2023-10-24T21:38:29.594Z|247    |\n",
      "|4.0   |1592   |2023-10-24T21:38:29.594Z|307    |\n",
      "|3.5   |2048   |2023-10-24T21:38:29.594Z|477    |\n",
      "+------+-------+------------------------+-------+\n",
      "only showing top 5 rows\n",
      "\n"
     ]
    }
   ],
   "source": [
    "model_frame = ratings \\\n",
    "    .withColumn('user_id', f.col('user_id').cast('INTEGER')) \\\n",
    "    .withColumn('tmdb_id', f.col('tmdb_id').cast('INTEGER')) \\\n",
    "    .cache()\n",
    "\n",
    "counts = model_frame.agg(f.countDistinct('user_id').alias('users'), f.countDistinct('tmdb_id').alias('movies'), f.count('*').alias('ratings')).first()\n",
    "sparsity = round(1 - (counts['ratings'] / (counts['users'] * counts['movies'])), 4)\n",
    "print(f\"users={counts['users']} movies={counts['movies']} ratings={counts['ratings']} sparsity={sparsity}\")\n",
    "\n",
    "model_frame.groupby(\"rating\").count().sort(\"rating\").show()\n",
    "model_frame.show(5, truncate=False)"
   ]
  },
  {
   "cell_type": "markdown",
   "metadata": {
    "application/vnd.databricks.v1+cell": {
     "cellMetadata": {},
     "inputWidgets": {},
     "nuid": "6c7fe594-35f8-4f99-a59c-378e1ae71389",
     "showTitle": false,
     "title": ""
    }
   },
   "source": [
    "#### Train the ALS Model"
   ]
  },
  {
   "cell_type": "code",
   "execution_count": 27,
   "metadata": {
    "application/vnd.databricks.v1+cell": {
     "cellMetadata": {
      "byteLimit": 2048000,
      "rowLimit": 10000
     },
     "inputWidgets": {},
     "nuid": "36674979-c9b3-4943-af01-dd34f773137b",
     "showTitle": false,
     "title": ""
    }
   },
   "outputs": [
    {
     "name": "stderr",
     "output_type": "stream",
     "text": [
      "                                                                                \r"
     ]
    },
    {
     "data": {
      "text/plain": [
       "ALSModel: uid=ALS_1a320d47a959, rank=32"
      ]
     },
     "execution_count": 27,
     "metadata": {},
     "output_type": "execute_result"
    }
   ],
   "source": [
    "estimator = ALS(rank=COLLAB_DIMENSION, maxIter=15, regParam=0.1, implicitPrefs=True, userCol='user_id', itemCol='tmdb_id', ratingCol='rating')\n",
    "transformer = estimator.fit(model_frame)\n",
    "transformer"
   ]
  },
  {
   "cell_type": "markdown",
   "metadata": {
    "application/vnd.databricks.v1+cell": {
     "cellMetadata": {},
     "inputWidgets": {},
     "nuid": "95f40385-05c0-4809-8741-6560874e490c",
     "showTitle": false,
     "title": ""
    }
   },
   "source": [
    "#### Extract the Embeddings from the Fit Model and Format for Index Insertion"
   ]
  },
  {
   "cell_type": "code",
   "execution_count": 28,
   "metadata": {
    "application/vnd.databricks.v1+cell": {
     "cellMetadata": {
      "byteLimit": 2048000,
      "rowLimit": 10000
     },
     "inputWidgets": {},
     "nuid": "cf9df851-e740-49a3-ac71-f241830313e6",
     "showTitle": false,
     "title": ""
    }
   },
   "outputs": [
    {
     "name": "stderr",
     "output_type": "stream",
     "text": [
      "                                                                                \r"
     ]
    }
   ],
   "source": [
    "user_embeddings = transformer.userFactors \\\n",
    "    .withColumn('id', f.col('id').cast('string')) \\\n",
    "    .withColumnRenamed('features', 'values') \\\n",
    "    .sort('id') \\\n",
    "    .toPandas() \\\n",
    "    .to_dict(orient='list')\n",
    "\n",
    "movie_embeddings = transformer.itemFactors \\\n",
    "    .withColumn('id', f.col('id').cast('string')) \\\n",
    "    .withColumnRenamed('features', 'values') \\\n",
    "    .sort('id') \\\n",
    "    .toPandas() \\\n",
    "    .to_dict(orient='list')"
   ]
  },
  {
   "cell_type": "markdown",
   "metadata": {
    "application/vnd.databricks.v1+cell": {
     "cellMetadata": {},
     "inputWidgets": {},
     "nuid": "84c658c4-bf67-4009-ac06-d748280b7dce",
     "showTitle": false,
     "title": ""
    }
   },
   "source": [
    "#### Create Collaborative Filtering Embeddings for the Users"
   ]
  },
  {
   "cell_type": "code",
   "execution_count": 30,
   "metadata": {},
   "outputs": [
    {
     "data": {
      "text/plain": [
       "Collection(name=users-collab)"
      ]
     },
     "execution_count": 30,
     "metadata": {},
     "output_type": "execute_result"
    }
   ],
   "source": [
    "users_collab_collection = chroma_client.get_or_create_collection(\n",
    "    name=USERS_COLLAB_INDEX_NAME, \n",
    "    metadata={\"hnsw:space\": \"cosine\"},\n",
    "    embedding_function=embedding_function\n",
    ")\n",
    "users_collab_collection"
   ]
  },
  {
   "cell_type": "code",
   "execution_count": 31,
   "metadata": {},
   "outputs": [
    {
     "data": {
      "text/plain": [
       "610"
      ]
     },
     "execution_count": 31,
     "metadata": {},
     "output_type": "execute_result"
    }
   ],
   "source": [
    "users_collab_collection.upsert(\n",
    "    ids=user_embeddings[\"id\"],\n",
    "    embeddings=user_embeddings[\"values\"]\n",
    ")\n",
    "users_collab_collection.count()"
   ]
  },
  {
   "cell_type": "markdown",
   "metadata": {},
   "source": [
    "#### Create Collaborative Filtering Embeddings for the Movies"
   ]
  },
  {
   "cell_type": "code",
   "execution_count": 32,
   "metadata": {
    "application/vnd.databricks.v1+cell": {
     "cellMetadata": {
      "byteLimit": 2048000,
      "rowLimit": 10000
     },
     "inputWidgets": {},
     "nuid": "a7d0aa6d-ed8d-4bc1-afe3-058be4bfd8e6",
     "showTitle": false,
     "title": ""
    }
   },
   "outputs": [
    {
     "data": {
      "text/plain": [
       "Collection(name=movies-collab)"
      ]
     },
     "execution_count": 32,
     "metadata": {},
     "output_type": "execute_result"
    }
   ],
   "source": [
    "movies_collab_collection = chroma_client.get_or_create_collection(\n",
    "    name=MOVIES_COLLAB_INDEX_NAME, \n",
    "    metadata={\"hnsw:space\": \"cosine\"},\n",
    "    embedding_function=embedding_function\n",
    ")\n",
    "movies_collab_collection"
   ]
  },
  {
   "cell_type": "code",
   "execution_count": 33,
   "metadata": {
    "application/vnd.databricks.v1+cell": {
     "cellMetadata": {
      "byteLimit": 2048000,
      "rowLimit": 10000
     },
     "inputWidgets": {},
     "nuid": "bd7d0d38-c6e1-4131-aed5-805e529fa1fd",
     "showTitle": false,
     "title": ""
    }
   },
   "outputs": [
    {
     "data": {
      "text/plain": [
       "2269"
      ]
     },
     "execution_count": 33,
     "metadata": {},
     "output_type": "execute_result"
    }
   ],
   "source": [
    "movies_collab_collection.upsert(\n",
    "    ids=movie_embeddings[\"id\"],\n",
    "    embeddings=movie_embeddings[\"values\"]\n",
    ")\n",
    "movies_collab_collection.count()"
   ]
  },
  {
   "cell_type": "markdown",
   "metadata": {
    "application/vnd.databricks.v1+cell": {
     "cellMetadata": {},
     "inputWidgets": {},
     "nuid": "5de27d60-708a-4acc-b3cf-88726be3639f",
     "showTitle": false,
     "title": ""
    }
   },
   "source": [
    "#### Spot Check the Content Embeddings with a Few Queries"
   ]
  },
  {
   "cell_type": "code",
   "execution_count": 34,
   "metadata": {
    "application/vnd.databricks.v1+cell": {
     "cellMetadata": {
      "byteLimit": 2048000,
      "rowLimit": 10000
     },
     "inputWidgets": {},
     "nuid": "6bb5630f-5376-447c-af21-c47b47ed4b7c",
     "showTitle": false,
     "title": ""
    }
   },
   "outputs": [
    {
     "name": "stderr",
     "output_type": "stream",
     "text": [
      "/Users/ericlundquist/anaconda3/envs/prodigy/lib/python3.9/site-packages/pyspark/sql/pandas/conversion.py:485: FutureWarning: is_datetime64tz_dtype is deprecated and will be removed in a future version. Check `isinstance(dtype, pd.DatetimeTZDtype)` instead.\n",
      "  if should_localize and is_datetime64tz_dtype(s.dtype) and s.dt.tz is not None:\n",
      "                                                                                \r"
     ]
    },
    {
     "name": "stdout",
     "output_type": "stream",
     "text": [
      "+-------+--------------------+--------------------+--------------------+--------------------+------------+--------------------+--------------------+--------------------+\n",
      "|tmdb_id|               title|              genres|            keywords|            overview|release_date|            director|              actors|            distance|\n",
      "+-------+--------------------+--------------------+--------------------+--------------------+------------+--------------------+--------------------+--------------------+\n",
      "|    769|          GoodFellas|      [Drama, Crime]|[new york city, p...|The true story of...|  1990-09-12|     Martin Scorsese|[Ray Liotta, Robe...|5.960464477539062...|\n",
      "|    500|      Reservoir Dogs|   [Crime, Thriller]|[traitor, jewelry...|A botched robbery...|  1992-09-02|   Quentin Tarantino|[Harvey Keitel, T...| 0.13296473026275635|\n",
      "|    240|The Godfather Par...|      [Drama, Crime]|[italy, italian a...|In the continuing...|  1974-12-20|Francis Ford Coppola|[Al Pacino, Rober...| 0.13902032375335693|\n",
      "|    238|       The Godfather|      [Drama, Crime]|[italy, loss of l...|Spanning the year...|  1972-03-14|Francis Ford Coppola|[Marlon Brando, A...| 0.15771204233169556|\n",
      "|     28|      Apocalypse Now|        [Drama, War]|[cia, drug abuse,...|At the height of ...|  1979-08-15|Francis Ford Coppola|[Martin Sheen, Fr...| 0.21272510290145874|\n",
      "|    600|   Full Metal Jacket|        [Drama, War]|[suicide, prostit...|A pragmatic U.S. ...|  1987-06-26|     Stanley Kubrick|[Matthew Modine, ...| 0.21370470523834229|\n",
      "|    629|  The Usual Suspects|[Drama, Crime, Th...|[new york city, r...|Held in an L.A. i...|  1995-07-19|        Bryan Singer|[Gabriel Byrne, K...| 0.24030327796936035|\n",
      "|    510|One Flew Over the...|             [Drama]|[nurse, mentally ...|A petty criminal ...|  1975-11-19|        Miloš Forman|[Jack Nicholson, ...| 0.26372188329696655|\n",
      "|     73|  American History X|             [Drama]|[neo-nazism, pris...|Derek Vineyard is...|  1998-07-01|           Tony Kaye|[Edward Norton, E...| 0.28161853551864624|\n",
      "|    100|Lock, Stock and T...|     [Comedy, Crime]|[ambush, alcohol,...|A card shark and ...|  1998-08-28|         Guy Ritchie|[Jason Flemyng, D...| 0.29284703731536865|\n",
      "+-------+--------------------+--------------------+--------------------+--------------------+------------+--------------------+--------------------+--------------------+\n",
      "\n"
     ]
    }
   ],
   "source": [
    "tmdb_id = '769'\n",
    "embedding = movie_embeddings[\"values\"][movie_embeddings[\"id\"].index(tmdb_id)]\n",
    "\n",
    "matches = movies_collab_collection.query(query_embeddings=embedding, n_results=10)\n",
    "matches = spark \\\n",
    "    .createDataFrame(pd.DataFrame({\"tmdb_id\": matches[\"ids\"][0], \"distance\": matches[\"distances\"][0]})) \\\n",
    "    .join(spark.createDataFrame(movies), on=\"tmdb_id\", how=\"inner\") \\\n",
    "    .select(\"tmdb_id\", \"title\", \"genres\", \"keywords\", \"overview\", \"release_date\", \"director\", \"actors\", \"distance\") \\\n",
    "    .sort(\"distance\").show()"
   ]
  },
  {
   "cell_type": "markdown",
   "metadata": {
    "application/vnd.databricks.v1+cell": {
     "cellMetadata": {},
     "inputWidgets": {},
     "nuid": "d8af4d94-d133-4f24-a4c4-3ae2e9586ec3",
     "showTitle": false,
     "title": ""
    }
   },
   "source": [
    "# START SANDBOX CODE"
   ]
  },
  {
   "cell_type": "code",
   "execution_count": null,
   "metadata": {
    "application/vnd.databricks.v1+cell": {
     "cellMetadata": {},
     "inputWidgets": {},
     "nuid": "885aeba0-16c0-43b9-9bb8-fbf6a950509e",
     "showTitle": false,
     "title": ""
    }
   },
   "outputs": [],
   "source": []
  }
 ],
 "metadata": {
  "application/vnd.databricks.v1+notebook": {
   "dashboards": [],
   "language": "python",
   "notebookMetadata": {
    "pythonIndentUnit": 4
   },
   "notebookName": "create-embeddings",
   "widgets": {}
  },
  "kernelspec": {
   "display_name": "Python 3 (ipykernel)",
   "language": "python",
   "name": "python3"
  },
  "language_info": {
   "codemirror_mode": {
    "name": "ipython",
    "version": 3
   },
   "file_extension": ".py",
   "mimetype": "text/x-python",
   "name": "python",
   "nbconvert_exporter": "python",
   "pygments_lexer": "ipython3",
   "version": "3.10.13"
  }
 },
 "nbformat": 4,
 "nbformat_minor": 4
}
