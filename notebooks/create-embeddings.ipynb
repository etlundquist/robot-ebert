{
 "cells": [
  {
   "cell_type": "markdown",
   "metadata": {
    "application/vnd.databricks.v1+cell": {
     "cellMetadata": {},
     "inputWidgets": {},
     "nuid": "bb601ce6-f290-42ea-90a6-ca550d38e3ca",
     "showTitle": false,
     "title": ""
    }
   },
   "source": [
    "### Set Up Notebook"
   ]
  },
  {
   "cell_type": "markdown",
   "metadata": {
    "application/vnd.databricks.v1+cell": {
     "cellMetadata": {},
     "inputWidgets": {},
     "nuid": "d89d1a2f-ce6b-4b4e-8779-eb60c1c7676d",
     "showTitle": false,
     "title": ""
    }
   },
   "source": [
    "#### Import Required Modules"
   ]
  },
  {
   "cell_type": "code",
   "execution_count": 1,
   "metadata": {
    "application/vnd.databricks.v1+cell": {
     "cellMetadata": {
      "byteLimit": 2048000,
      "rowLimit": 10000
     },
     "inputWidgets": {},
     "nuid": "adbc3289-2f87-4aee-a6cc-6f1366256b2a",
     "showTitle": false,
     "title": ""
    }
   },
   "outputs": [],
   "source": [
    "# %pip install openai python-dotenv chromadb"
   ]
  },
  {
   "cell_type": "code",
   "execution_count": 2,
   "metadata": {
    "application/vnd.databricks.v1+cell": {
     "cellMetadata": {
      "byteLimit": 2048000,
      "rowLimit": 10000
     },
     "inputWidgets": {},
     "nuid": "7ad92141-2202-40f0-8029-bebb8b63e18b",
     "showTitle": false,
     "title": ""
    }
   },
   "outputs": [],
   "source": [
    "import os\n",
    "import json\n",
    "\n",
    "from typing import List, Dict\n",
    "from dotenv import load_dotenv\n",
    "\n",
    "import openai\n",
    "import chromadb\n",
    "import numpy as np\n",
    "import pandas as pd\n",
    "\n",
    "from pyspark.sql import SparkSession\n",
    "from pyspark.sql import functions as f\n",
    "from pyspark.sql.window import Window\n",
    "from pyspark.ml.recommendation import ALS"
   ]
  },
  {
   "cell_type": "markdown",
   "metadata": {
    "application/vnd.databricks.v1+cell": {
     "cellMetadata": {},
     "inputWidgets": {},
     "nuid": "8de77a0b-a968-4306-a01f-cbf21973a372",
     "showTitle": false,
     "title": ""
    }
   },
   "source": [
    "#### Get or Create SparkSession"
   ]
  },
  {
   "cell_type": "code",
   "execution_count": 3,
   "metadata": {
    "application/vnd.databricks.v1+cell": {
     "cellMetadata": {
      "byteLimit": 2048000,
      "rowLimit": 10000
     },
     "inputWidgets": {},
     "nuid": "fcc0d9be-c3dd-4fbb-ba4f-5a413ce03d97",
     "showTitle": false,
     "title": ""
    }
   },
   "outputs": [
    {
     "name": "stderr",
     "output_type": "stream",
     "text": [
      "Setting default log level to \"WARN\".\n",
      "To adjust logging level use sc.setLogLevel(newLevel). For SparkR, use setLogLevel(newLevel).\n",
      "23/11/23 23:47:08 WARN NativeCodeLoader: Unable to load native-hadoop library for your platform... using builtin-java classes where applicable\n"
     ]
    },
    {
     "data": {
      "text/html": [
       "\n",
       "            <div>\n",
       "                <p><b>SparkSession - in-memory</b></p>\n",
       "                \n",
       "        <div>\n",
       "            <p><b>SparkContext</b></p>\n",
       "\n",
       "            <p><a href=\"http://localhost:4040\">Spark UI</a></p>\n",
       "\n",
       "            <dl>\n",
       "              <dt>Version</dt>\n",
       "                <dd><code>v3.5.0</code></dd>\n",
       "              <dt>Master</dt>\n",
       "                <dd><code>local[*]</code></dd>\n",
       "              <dt>AppName</dt>\n",
       "                <dd><code>pyspark-shell</code></dd>\n",
       "            </dl>\n",
       "        </div>\n",
       "        \n",
       "            </div>\n",
       "        "
      ],
      "text/plain": [
       "<pyspark.sql.session.SparkSession at 0x13d924610>"
      ]
     },
     "execution_count": 3,
     "metadata": {},
     "output_type": "execute_result"
    }
   ],
   "source": [
    "spark = SparkSession.builder.getOrCreate()\n",
    "spark.sparkContext.setLogLevel(\"ERROR\")\n",
    "spark"
   ]
  },
  {
   "cell_type": "markdown",
   "metadata": {
    "application/vnd.databricks.v1+cell": {
     "cellMetadata": {},
     "inputWidgets": {},
     "nuid": "3c66a3f9-fe90-46e2-ae65-5100be81faf0",
     "showTitle": false,
     "title": ""
    }
   },
   "source": [
    "#### Load Secrets"
   ]
  },
  {
   "cell_type": "code",
   "execution_count": 4,
   "metadata": {
    "application/vnd.databricks.v1+cell": {
     "cellMetadata": {
      "byteLimit": 2048000,
      "rowLimit": 10000
     },
     "inputWidgets": {},
     "nuid": "34c6e1a3-0a28-4d1b-92aa-659c6b047bd2",
     "showTitle": false,
     "title": ""
    }
   },
   "outputs": [
    {
     "data": {
      "text/plain": [
       "True"
      ]
     },
     "execution_count": 4,
     "metadata": {},
     "output_type": "execute_result"
    }
   ],
   "source": [
    "# env_path = \"/dbfs/FileStore/env/.env\"\n",
    "load_dotenv()"
   ]
  },
  {
   "cell_type": "markdown",
   "metadata": {
    "application/vnd.databricks.v1+cell": {
     "cellMetadata": {},
     "inputWidgets": {},
     "nuid": "14ce4bd9-572b-4820-b110-d1a17cd1452c",
     "showTitle": false,
     "title": ""
    }
   },
   "source": [
    "#### Set Workflow Constants"
   ]
  },
  {
   "cell_type": "code",
   "execution_count": 6,
   "metadata": {
    "application/vnd.databricks.v1+cell": {
     "cellMetadata": {
      "byteLimit": 2048000,
      "rowLimit": 10000
     },
     "inputWidgets": {},
     "nuid": "c758c725-7e95-41a3-9c7c-15e6011dcbb0",
     "showTitle": false,
     "title": ""
    }
   },
   "outputs": [],
   "source": [
    "# CLEAN_PATH = \"dbfs:/FileStore/data/clean\"\n",
    "CLEAN_PATH = \"../data/json\"\n",
    "\n",
    "MOVIES_CONTENT_INDEX_NAME = \"movies-content\"\n",
    "USERS_COLLAB_INDEX_NAME = \"users-collab\"\n",
    "MOVIES_COLLAB_INDEX_NAME = \"movies-collab\"\n",
    "\n",
    "CONTENT_DIMENSION = 1536\n",
    "COLLAB_DIMENSION = 32"
   ]
  },
  {
   "cell_type": "markdown",
   "metadata": {
    "application/vnd.databricks.v1+cell": {
     "cellMetadata": {},
     "inputWidgets": {},
     "nuid": "d9156a53-bb1f-4e30-8aaa-68dd9263d745",
     "showTitle": false,
     "title": ""
    }
   },
   "source": [
    "### Create Content Embedding Vectors"
   ]
  },
  {
   "cell_type": "markdown",
   "metadata": {
    "application/vnd.databricks.v1+cell": {
     "cellMetadata": {},
     "inputWidgets": {},
     "nuid": "4585567f-ea4f-4776-9062-5c87765c1d93",
     "showTitle": false,
     "title": ""
    }
   },
   "source": [
    "#### Import Clean Movies Data"
   ]
  },
  {
   "cell_type": "code",
   "execution_count": 7,
   "metadata": {
    "application/vnd.databricks.v1+cell": {
     "cellMetadata": {
      "byteLimit": 2048000,
      "rowLimit": 10000
     },
     "inputWidgets": {},
     "nuid": "029a4267-14f8-46ed-b8e8-014cc9a0e1a9",
     "showTitle": false,
     "title": ""
    }
   },
   "outputs": [
    {
     "name": "stderr",
     "output_type": "stream",
     "text": [
      "                                                                                \r"
     ]
    },
    {
     "name": "stdout",
     "output_type": "stream",
     "text": [
      "-RECORD 0------------------------------------------------------------------------------------------------------------------------------------------------------------------------------------------------------------------------------------------------------\n",
      " actors        | [Tim Roth, Jennifer Beals, Antonio Banderas, Valeria Golino, David Proval]                                                                                                                                                                    \n",
      " budget        | 4000000                                                                                                                                                                                                                                       \n",
      " director      | Allison Anders                                                                                                                                                                                                                                \n",
      " genres        | [Comedy]                                                                                                                                                                                                                                      \n",
      " keywords      | [hotel, new year's eve, witch, bet, hotel room, sperm, anthology, los angeles, california, hoodlum, multiple storylines, woman director]                                                                                                      \n",
      " language      | en                                                                                                                                                                                                                                            \n",
      " overview      | It's Ted the Bellhop's first night on the job...and the hotel's very unusual guests are about to place him in some outrageous predicaments. It seems that this evening's room service is serving up one unbelievable happening after another. \n",
      " popularity    | 21.138                                                                                                                                                                                                                                        \n",
      " release_date  | 1995-12-09                                                                                                                                                                                                                                    \n",
      " revenue       | 4257354                                                                                                                                                                                                                                       \n",
      " runtime       | 98                                                                                                                                                                                                                                            \n",
      " title         | Four Rooms                                                                                                                                                                                                                                    \n",
      " tmdb_homepage | https://www.themoviedb.org/movie/5                                                                                                                                                                                                            \n",
      " tmdb_id       | 5                                                                                                                                                                                                                                             \n",
      " updated_at    | 2023-10-24T21:38:29.594Z                                                                                                                                                                                                                      \n",
      " vote_average  | 5.789                                                                                                                                                                                                                                         \n",
      " vote_count    | 2443                                                                                                                                                                                                                                          \n",
      "only showing top 1 row\n",
      "\n"
     ]
    },
    {
     "data": {
      "text/plain": [
       "2264"
      ]
     },
     "execution_count": 7,
     "metadata": {},
     "output_type": "execute_result"
    }
   ],
   "source": [
    "movies = spark.read.json(os.path.join(CLEAN_PATH, \"movies.json\"))\n",
    "movies.show(1, truncate=False, vertical=True)\n",
    "movies.count()"
   ]
  },
  {
   "cell_type": "markdown",
   "metadata": {
    "application/vnd.databricks.v1+cell": {
     "cellMetadata": {},
     "inputWidgets": {},
     "nuid": "89c8d13f-8237-4286-8610-4f2bf1eaef2c",
     "showTitle": false,
     "title": ""
    }
   },
   "source": [
    "#### Create a Combined `Text` Field to Convert to Vector Embeddings"
   ]
  },
  {
   "cell_type": "code",
   "execution_count": 8,
   "metadata": {
    "application/vnd.databricks.v1+cell": {
     "cellMetadata": {
      "byteLimit": 2048000,
      "rowLimit": 10000
     },
     "inputWidgets": {},
     "nuid": "27912569-df2e-4990-aadc-c9e345c8c709",
     "showTitle": false,
     "title": ""
    }
   },
   "outputs": [
    {
     "name": "stdout",
     "output_type": "stream",
     "text": [
      "-RECORD 0--------------------------------------------------------------------------------------------------------------------------------------------------------------------------------------------------------------------------------------------------------------------------------------------------------------------------------------------------------------------------------------------------------------------------------------------------------------------------------------------------------------------------------------------------------------------------------------------------------------------------------------------------------------------------------------------------------------------------------------------------------------\n",
      " actors        | [Tim Roth, Jennifer Beals, Antonio Banderas, Valeria Golino, David Proval]                                                                                                                                                                                                                                                                                                                                                                                                                                                                                                                                                                                                                                                                            \n",
      " budget        | 4000000                                                                                                                                                                                                                                                                                                                                                                                                                                                                                                                                                                                                                                                                                                                                               \n",
      " director      | Allison Anders                                                                                                                                                                                                                                                                                                                                                                                                                                                                                                                                                                                                                                                                                                                                        \n",
      " genres        | [Comedy]                                                                                                                                                                                                                                                                                                                                                                                                                                                                                                                                                                                                                                                                                                                                              \n",
      " keywords      | [hotel, new year's eve, witch, bet, hotel room, sperm, anthology, los angeles, california, hoodlum, multiple storylines, woman director]                                                                                                                                                                                                                                                                                                                                                                                                                                                                                                                                                                                                              \n",
      " language      | en                                                                                                                                                                                                                                                                                                                                                                                                                                                                                                                                                                                                                                                                                                                                                    \n",
      " overview      | It's Ted the Bellhop's first night on the job...and the hotel's very unusual guests are about to place him in some outrageous predicaments. It seems that this evening's room service is serving up one unbelievable happening after another.                                                                                                                                                                                                                                                                                                                                                                                                                                                                                                         \n",
      " popularity    | 21.138                                                                                                                                                                                                                                                                                                                                                                                                                                                                                                                                                                                                                                                                                                                                                \n",
      " release_date  | 1995-12-09                                                                                                                                                                                                                                                                                                                                                                                                                                                                                                                                                                                                                                                                                                                                            \n",
      " revenue       | 4257354                                                                                                                                                                                                                                                                                                                                                                                                                                                                                                                                                                                                                                                                                                                                               \n",
      " runtime       | 98                                                                                                                                                                                                                                                                                                                                                                                                                                                                                                                                                                                                                                                                                                                                                    \n",
      " title         | Four Rooms                                                                                                                                                                                                                                                                                                                                                                                                                                                                                                                                                                                                                                                                                                                                            \n",
      " tmdb_homepage | https://www.themoviedb.org/movie/5                                                                                                                                                                                                                                                                                                                                                                                                                                                                                                                                                                                                                                                                                                                    \n",
      " tmdb_id       | 5                                                                                                                                                                                                                                                                                                                                                                                                                                                                                                                                                                                                                                                                                                                                                     \n",
      " updated_at    | 2023-10-24T21:38:29.594Z                                                                                                                                                                                                                                                                                                                                                                                                                                                                                                                                                                                                                                                                                                                              \n",
      " vote_average  | 5.789                                                                                                                                                                                                                                                                                                                                                                                                                                                                                                                                                                                                                                                                                                                                                 \n",
      " vote_count    | 2443                                                                                                                                                                                                                                                                                                                                                                                                                                                                                                                                                                                                                                                                                                                                                  \n",
      " text          | Comedy | hotel, new year's eve, witch, bet, hotel room, sperm, anthology, los angeles, california, hoodlum, multiple storylines, woman director | It's Ted the Bellhop's first night on the job...and the hotel's very unusual guests are about to place him in some outrageous predicaments. It seems that this evening's room service is serving up one unbelievable happening after another. | Allison Anders | Tim Roth, Jennifer Beals, Antonio Banderas, Valeria Golino, David Proval                                                                                                                                                                                                                                                           \n",
      "-RECORD 1--------------------------------------------------------------------------------------------------------------------------------------------------------------------------------------------------------------------------------------------------------------------------------------------------------------------------------------------------------------------------------------------------------------------------------------------------------------------------------------------------------------------------------------------------------------------------------------------------------------------------------------------------------------------------------------------------------------------------------------------------------------\n",
      " actors        | [Mark Hamill, Harrison Ford, Carrie Fisher, Peter Cushing, Alec Guinness]                                                                                                                                                                                                                                                                                                                                                                                                                                                                                                                                                                                                                                                                             \n",
      " budget        | 11000000                                                                                                                                                                                                                                                                                                                                                                                                                                                                                                                                                                                                                                                                                                                                              \n",
      " director      | George Lucas                                                                                                                                                                                                                                                                                                                                                                                                                                                                                                                                                                                                                                                                                                                                          \n",
      " genres        | [Adventure, Action, Science Fiction]                                                                                                                                                                                                                                                                                                                                                                                                                                                                                                                                                                                                                                                                                                                  \n",
      " keywords      | [android, galaxy, hermit, smuggling (contraband), superhero, space, rescue mission, empire, rebellion, planet, desert, super power, space opera, wizard, totalitarianism]                                                                                                                                                                                                                                                                                                                                                                                                                                                                                                                                                                             \n",
      " language      | en                                                                                                                                                                                                                                                                                                                                                                                                                                                                                                                                                                                                                                                                                                                                                    \n",
      " overview      | Princess Leia is captured and held hostage by the evil Imperial forces in their effort to take over the galactic Empire. Venturesome Luke Skywalker and dashing captain Han Solo team together with the loveable robot duo R2-D2 and C-3PO to rescue the beautiful princess and restore peace and justice in the Empire.                                                                                                                                                                                                                                                                                                                                                                                                                              \n",
      " popularity    | 88.613                                                                                                                                                                                                                                                                                                                                                                                                                                                                                                                                                                                                                                                                                                                                                \n",
      " release_date  | 1977-05-25                                                                                                                                                                                                                                                                                                                                                                                                                                                                                                                                                                                                                                                                                                                                            \n",
      " revenue       | 775398007                                                                                                                                                                                                                                                                                                                                                                                                                                                                                                                                                                                                                                                                                                                                             \n",
      " runtime       | 121                                                                                                                                                                                                                                                                                                                                                                                                                                                                                                                                                                                                                                                                                                                                                   \n",
      " title         | Star Wars                                                                                                                                                                                                                                                                                                                                                                                                                                                                                                                                                                                                                                                                                                                                             \n",
      " tmdb_homepage | https://www.themoviedb.org/movie/11                                                                                                                                                                                                                                                                                                                                                                                                                                                                                                                                                                                                                                                                                                                   \n",
      " tmdb_id       | 11                                                                                                                                                                                                                                                                                                                                                                                                                                                                                                                                                                                                                                                                                                                                                    \n",
      " updated_at    | 2023-10-24T21:38:29.594Z                                                                                                                                                                                                                                                                                                                                                                                                                                                                                                                                                                                                                                                                                                                              \n",
      " vote_average  | 8.204                                                                                                                                                                                                                                                                                                                                                                                                                                                                                                                                                                                                                                                                                                                                                 \n",
      " vote_count    | 19236                                                                                                                                                                                                                                                                                                                                                                                                                                                                                                                                                                                                                                                                                                                                                 \n",
      " text          | Adventure, Action, Science Fiction | android, galaxy, hermit, smuggling (contraband), superhero, space, rescue mission, empire, rebellion, planet, desert, super power, space opera, wizard, totalitarianism | Princess Leia is captured and held hostage by the evil Imperial forces in their effort to take over the galactic Empire. Venturesome Luke Skywalker and dashing captain Han Solo team together with the loveable robot duo R2-D2 and C-3PO to rescue the beautiful princess and restore peace and justice in the Empire. | George Lucas | Mark Hamill, Harrison Ford, Carrie Fisher, Peter Cushing, Alec Guinness                                                                                                                      \n",
      "-RECORD 2--------------------------------------------------------------------------------------------------------------------------------------------------------------------------------------------------------------------------------------------------------------------------------------------------------------------------------------------------------------------------------------------------------------------------------------------------------------------------------------------------------------------------------------------------------------------------------------------------------------------------------------------------------------------------------------------------------------------------------------------------------------\n",
      " actors        | [Albert Brooks, Ellen DeGeneres, Alexander Gould, Willem Dafoe, Geoffrey Rush]                                                                                                                                                                                                                                                                                                                                                                                                                                                                                                                                                                                                                                                                        \n",
      " budget        | 94000000                                                                                                                                                                                                                                                                                                                                                                                                                                                                                                                                                                                                                                                                                                                                              \n",
      " director      | Andrew Stanton                                                                                                                                                                                                                                                                                                                                                                                                                                                                                                                                                                                                                                                                                                                                        \n",
      " genres        | [Animation, Family]                                                                                                                                                                                                                                                                                                                                                                                                                                                                                                                                                                                                                                                                                                                                   \n",
      " keywords      | [parent child relationship, sydney, australia, harbor, anthropomorphism, underwater, shark, pelican, fish tank, great barrier reef, sea turtle, missing child, aftercreditsstinger, duringcreditsstinger, short term memory loss, clownfish, father son reunion, protective father]                                                                                                                                                                                                                                                                                                                                                                                                                                                                   \n",
      " language      | en                                                                                                                                                                                                                                                                                                                                                                                                                                                                                                                                                                                                                                                                                                                                                    \n",
      " overview      | Nemo, an adventurous young clownfish, is unexpectedly taken from his Great Barrier Reef home to a dentist's office aquarium. It's up to his worrisome father Marlin and a friendly but forgetful fish Dory to bring Nemo home -- meeting vegetarian sharks, surfer dude turtles, hypnotic jellyfish, hungry seagulls, and more along the way.                                                                                                                                                                                                                                                                                                                                                                                                         \n",
      " popularity    | 92.459                                                                                                                                                                                                                                                                                                                                                                                                                                                                                                                                                                                                                                                                                                                                                \n",
      " release_date  | 2003-05-30                                                                                                                                                                                                                                                                                                                                                                                                                                                                                                                                                                                                                                                                                                                                            \n",
      " revenue       | 940335536                                                                                                                                                                                                                                                                                                                                                                                                                                                                                                                                                                                                                                                                                                                                             \n",
      " runtime       | 100                                                                                                                                                                                                                                                                                                                                                                                                                                                                                                                                                                                                                                                                                                                                                   \n",
      " title         | Finding Nemo                                                                                                                                                                                                                                                                                                                                                                                                                                                                                                                                                                                                                                                                                                                                          \n",
      " tmdb_homepage | https://www.themoviedb.org/movie/12                                                                                                                                                                                                                                                                                                                                                                                                                                                                                                                                                                                                                                                                                                                   \n",
      " tmdb_id       | 12                                                                                                                                                                                                                                                                                                                                                                                                                                                                                                                                                                                                                                                                                                                                                    \n",
      " updated_at    | 2023-10-24T21:38:29.594Z                                                                                                                                                                                                                                                                                                                                                                                                                                                                                                                                                                                                                                                                                                                              \n",
      " vote_average  | 7.824                                                                                                                                                                                                                                                                                                                                                                                                                                                                                                                                                                                                                                                                                                                                                 \n",
      " vote_count    | 18132                                                                                                                                                                                                                                                                                                                                                                                                                                                                                                                                                                                                                                                                                                                                                 \n",
      " text          | Animation, Family | parent child relationship, sydney, australia, harbor, anthropomorphism, underwater, shark, pelican, fish tank, great barrier reef, sea turtle, missing child, aftercreditsstinger, duringcreditsstinger, short term memory loss, clownfish, father son reunion, protective father | Nemo, an adventurous young clownfish, is unexpectedly taken from his Great Barrier Reef home to a dentist's office aquarium. It's up to his worrisome father Marlin and a friendly but forgetful fish Dory to bring Nemo home -- meeting vegetarian sharks, surfer dude turtles, hypnotic jellyfish, hungry seagulls, and more along the way. | Andrew Stanton | Albert Brooks, Ellen DeGeneres, Alexander Gould, Willem Dafoe, Geoffrey Rush \n",
      "only showing top 3 rows\n",
      "\n"
     ]
    },
    {
     "data": {
      "text/plain": [
       "2264"
      ]
     },
     "execution_count": 8,
     "metadata": {},
     "output_type": "execute_result"
    }
   ],
   "source": [
    "movies = movies \\\n",
    "    .withColumn(\"text\", f.concat_ws(\" | \", \n",
    "        f.array_join(\"genres\", \", \"), \n",
    "        f.array_join(\"keywords\", \", \"), \n",
    "        f.col(\"overview\"),\n",
    "        f.col(\"director\"),\n",
    "        f.array_join(\"actors\", \", \")\n",
    "    ))\n",
    "                                   \n",
    "movies.show(3, truncate=False, vertical=True)\n",
    "movies.count()"
   ]
  },
  {
   "cell_type": "code",
   "execution_count": 9,
   "metadata": {},
   "outputs": [
    {
     "name": "stderr",
     "output_type": "stream",
     "text": [
      "                                                                                \r"
     ]
    },
    {
     "data": {
      "text/plain": [
       "{'actors': ['Tim Roth',\n",
       "  'Jennifer Beals',\n",
       "  'Antonio Banderas',\n",
       "  'Valeria Golino',\n",
       "  'David Proval'],\n",
       " 'budget': 4000000,\n",
       " 'director': 'Allison Anders',\n",
       " 'genres': ['Comedy'],\n",
       " 'keywords': ['hotel',\n",
       "  \"new year's eve\",\n",
       "  'witch',\n",
       "  'bet',\n",
       "  'hotel room',\n",
       "  'sperm',\n",
       "  'anthology',\n",
       "  'los angeles, california',\n",
       "  'hoodlum',\n",
       "  'multiple storylines',\n",
       "  'woman director'],\n",
       " 'language': 'en',\n",
       " 'overview': \"It's Ted the Bellhop's first night on the job...and the hotel's very unusual guests are about to place him in some outrageous predicaments. It seems that this evening's room service is serving up one unbelievable happening after another.\",\n",
       " 'popularity': 21.138,\n",
       " 'release_date': '1995-12-09',\n",
       " 'revenue': 4257354,\n",
       " 'runtime': 98,\n",
       " 'title': 'Four Rooms',\n",
       " 'tmdb_homepage': 'https://www.themoviedb.org/movie/5',\n",
       " 'tmdb_id': '5',\n",
       " 'updated_at': '2023-10-24T21:38:29.594Z',\n",
       " 'vote_average': 5.789,\n",
       " 'vote_count': 2443,\n",
       " 'text': \"Comedy | hotel, new year's eve, witch, bet, hotel room, sperm, anthology, los angeles, california, hoodlum, multiple storylines, woman director | It's Ted the Bellhop's first night on the job...and the hotel's very unusual guests are about to place him in some outrageous predicaments. It seems that this evening's room service is serving up one unbelievable happening after another. | Allison Anders | Tim Roth, Jennifer Beals, Antonio Banderas, Valeria Golino, David Proval\"}"
      ]
     },
     "execution_count": 9,
     "metadata": {},
     "output_type": "execute_result"
    }
   ],
   "source": [
    "movies = movies.toPandas().to_dict(orient=\"records\")\n",
    "movies[0]"
   ]
  },
  {
   "cell_type": "markdown",
   "metadata": {
    "application/vnd.databricks.v1+cell": {
     "cellMetadata": {},
     "inputWidgets": {},
     "nuid": "3ee147d1-526e-43cc-a54e-da445754f594",
     "showTitle": false,
     "title": ""
    }
   },
   "source": [
    "#### Convert the Combined Movie Text to Embedding Representations"
   ]
  },
  {
   "cell_type": "code",
   "execution_count": 11,
   "metadata": {},
   "outputs": [],
   "source": [
    "openai_client = openai.OpenAI(api_key=os.environ[\"OPENAI_API_KEY\"])"
   ]
  },
  {
   "cell_type": "code",
   "execution_count": 12,
   "metadata": {
    "application/vnd.databricks.v1+cell": {
     "cellMetadata": {
      "byteLimit": 2048000,
      "rowLimit": 10000
     },
     "inputWidgets": {},
     "nuid": "7ffb59ff-a750-46c2-b245-1046982a93d7",
     "showTitle": false,
     "title": ""
    }
   },
   "outputs": [],
   "source": [
    "movie_embeddings = [\n",
    "    openai_client.embeddings.create(\n",
    "        model=\"text-embedding-ada-002\",\n",
    "        input=movie[\"text\"]\n",
    "    ).data[0].embedding for movie in movies\n",
    "]"
   ]
  },
  {
   "cell_type": "code",
   "execution_count": 14,
   "metadata": {},
   "outputs": [
    {
     "data": {
      "text/plain": [
       "(2264, 2264)"
      ]
     },
     "execution_count": 14,
     "metadata": {},
     "output_type": "execute_result"
    }
   ],
   "source": [
    "len(movies), len(movie_embeddings)"
   ]
  },
  {
   "cell_type": "markdown",
   "metadata": {
    "application/vnd.databricks.v1+cell": {
     "cellMetadata": {},
     "inputWidgets": {},
     "nuid": "8229e9cc-6db0-432d-bc67-e6ed4c828870",
     "showTitle": false,
     "title": ""
    }
   },
   "source": [
    "#### Create a Chroma Collection and Insert the Movie Embeddings"
   ]
  },
  {
   "cell_type": "code",
   "execution_count": 15,
   "metadata": {},
   "outputs": [
    {
     "data": {
      "text/plain": [
       "<chromadb.api.client.Client at 0x13dd83b20>"
      ]
     },
     "execution_count": 15,
     "metadata": {},
     "output_type": "execute_result"
    }
   ],
   "source": [
    "chroma_client = chromadb.PersistentClient(path=\"../src/chroma\")\n",
    "chroma_client"
   ]
  },
  {
   "cell_type": "code",
   "execution_count": 16,
   "metadata": {},
   "outputs": [],
   "source": [
    "embedding_function = chromadb.utils.embedding_functions.OpenAIEmbeddingFunction(\n",
    "    api_key=os.environ[\"OPENAI_API_KEY\"], \n",
    "    model_name=\"text-embedding-ada-002\"\n",
    ")"
   ]
  },
  {
   "cell_type": "code",
   "execution_count": 17,
   "metadata": {},
   "outputs": [],
   "source": [
    "# client.delete_collection(name=MOVIES_CONTENT_INDEX_NAME)"
   ]
  },
  {
   "cell_type": "code",
   "execution_count": 19,
   "metadata": {},
   "outputs": [],
   "source": [
    "movies_content_collection = chroma_client.get_or_create_collection(\n",
    "    name=MOVIES_CONTENT_INDEX_NAME, \n",
    "    metadata={\"hnsw:space\": \"cosine\"},\n",
    "    embedding_function=embedding_function\n",
    ")"
   ]
  },
  {
   "cell_type": "code",
   "execution_count": 20,
   "metadata": {},
   "outputs": [
    {
     "data": {
      "text/plain": [
       "2264"
      ]
     },
     "execution_count": 20,
     "metadata": {},
     "output_type": "execute_result"
    }
   ],
   "source": [
    "movies_content_collection.upsert(\n",
    "    ids=[movie[\"tmdb_id\"] for movie in movies],\n",
    "    embeddings=movie_embeddings\n",
    ")\n",
    "movies_content_collection.count()"
   ]
  },
  {
   "cell_type": "markdown",
   "metadata": {
    "application/vnd.databricks.v1+cell": {
     "cellMetadata": {},
     "inputWidgets": {},
     "nuid": "71abff79-5e22-494e-9c52-ab23a42d5aa0",
     "showTitle": false,
     "title": ""
    }
   },
   "source": [
    "#### Spot Check the Content Embeddings with a Few Queries"
   ]
  },
  {
   "cell_type": "code",
   "execution_count": 22,
   "metadata": {
    "application/vnd.databricks.v1+cell": {
     "cellMetadata": {
      "byteLimit": 2048000,
      "rowLimit": 10000
     },
     "inputWidgets": {},
     "nuid": "0ed9b492-125b-492d-97a7-58ced9bd6191",
     "showTitle": false,
     "title": ""
    }
   },
   "outputs": [
    {
     "name": "stderr",
     "output_type": "stream",
     "text": [
      "/Users/ericlundquist/anaconda3/envs/prodigy/lib/python3.9/site-packages/pyspark/sql/pandas/conversion.py:485: FutureWarning: is_datetime64tz_dtype is deprecated and will be removed in a future version. Check `isinstance(dtype, pd.DatetimeTZDtype)` instead.\n",
      "  if should_localize and is_datetime64tz_dtype(s.dtype) and s.dt.tz is not None:\n",
      "                                                                                \r"
     ]
    },
    {
     "name": "stdout",
     "output_type": "stream",
     "text": [
      "+-------+--------------------+--------------------+--------------------+--------------------+------------+----------------+--------------------+-------------------+\n",
      "|tmdb_id|               title|              genres|            keywords|            overview|release_date|        director|              actors|           distance|\n",
      "+-------+--------------------+--------------------+--------------------+--------------------+------------+----------------+--------------------+-------------------+\n",
      "|   6075|       Carlito's Way|[Crime, Drama, Ro...|[new york city, b...|A Puerto-Rican ex...|  1993-11-10|  Brian De Palma|[Al Pacino, Sean ...|0.11422139406204224|\n",
      "|   1429|           25th Hour|      [Crime, Drama]|[new york city, b...|In New York City ...|  2002-12-19|       Spike Lee|[Edward Norton, P...|0.12457805871963501|\n",
      "|    311|Once Upon a Time ...|      [Drama, Crime]|[new york city, l...|A former Prohibit...|  1984-05-23|    Sergio Leone|[Robert De Niro, ...|  0.125485360622406|\n",
      "|   2112|             Payback|[Crime, Action, D...|[new york city, p...|With friends like...|  1999-02-05| Brian Helgeland|[Mel Gibson, Greg...|0.12582296133041382|\n",
      "|  11062|           City Hall|   [Drama, Thriller]|[corruption, unde...|The accidental sh...|  1996-02-16|   Harold Becker|[Al Pacino, John ...|0.12697196006774902|\n",
      "|    379|   Miller's Crossing|[Drama, Thriller,...|[corruption, stre...|Set in 1929, a po...|  1990-09-21|       Joel Coen|[Gabriel Byrne, A...|0.12992852926254272|\n",
      "|   9366|       Donnie Brasco|[Crime, Drama, Th...|[new york city, f...|An FBI undercover...|  1997-02-27|     Mike Newell|[Johnny Depp, Al ...|0.13079869747161865|\n",
      "|    103|         Taxi Driver|      [Crime, Drama]|[new york city, v...|A mentally unstab...|  1976-02-09| Martin Scorsese|[Robert De Niro, ...| 0.1308930516242981|\n",
      "|   1607|        A Bronx Tale|      [Drama, Crime]|[gambling, black ...|Set in the Bronx ...|  1993-09-14|  Robert De Niro|[Robert De Niro, ...|0.13320428133010864|\n",
      "| 168672|     American Hustle|      [Drama, Crime]|[new jersey, 1970...|A conman and his ...|  2013-12-03|David O. Russell|[Christian Bale, ...|0.13903164863586426|\n",
      "+-------+--------------------+--------------------+--------------------+--------------------+------------+----------------+--------------------+-------------------+\n",
      "\n"
     ]
    }
   ],
   "source": [
    "query = \"a gritty crime drama set in new york city starring al pacino\"\n",
    "matches = movies_content_collection.query(query_texts=query, n_results=10)\n",
    "\n",
    "query_embedding = openai_client.embeddings.create(model=\"text-embedding-ada-002\", input=query).data[0].embedding\n",
    "matches = movies_content_collection.query(query_embeddings=query_embedding, n_results=10)\n",
    "\n",
    "matches = spark \\\n",
    "    .createDataFrame(pd.DataFrame({\"tmdb_id\": matches[\"ids\"][0], \"distance\": matches[\"distances\"][0]})) \\\n",
    "    .join(spark.createDataFrame(movies), on=\"tmdb_id\", how=\"inner\") \\\n",
    "    .select(\"tmdb_id\", \"title\", \"genres\", \"keywords\", \"overview\", \"release_date\", \"director\", \"actors\", \"distance\") \\\n",
    "    .sort(\"distance\").show()"
   ]
  },
  {
   "cell_type": "markdown",
   "metadata": {
    "application/vnd.databricks.v1+cell": {
     "cellMetadata": {
      "byteLimit": 2048000,
      "rowLimit": 10000
     },
     "inputWidgets": {},
     "nuid": "d20f2af2-3d30-4a86-814a-45ce38967a7e",
     "showTitle": false,
     "title": ""
    }
   },
   "source": [
    "### Create Collaborative Filtering Embedding Vectors"
   ]
  },
  {
   "cell_type": "markdown",
   "metadata": {
    "application/vnd.databricks.v1+cell": {
     "cellMetadata": {},
     "inputWidgets": {},
     "nuid": "80445582-60aa-440f-b970-ac0c9face1cb",
     "showTitle": false,
     "title": ""
    }
   },
   "source": [
    "#### Import Clean Ratings Data"
   ]
  },
  {
   "cell_type": "code",
   "execution_count": 23,
   "metadata": {
    "application/vnd.databricks.v1+cell": {
     "cellMetadata": {
      "byteLimit": 2048000,
      "rowLimit": 10000
     },
     "inputWidgets": {},
     "nuid": "784aa1d9-f3e0-45f3-bdd3-bf22ad39ff67",
     "showTitle": false,
     "title": ""
    }
   },
   "outputs": [
    {
     "name": "stdout",
     "output_type": "stream",
     "text": [
      "+------+-------+------------------------+-------+\n",
      "|rating|tmdb_id|updated_at              |user_id|\n",
      "+------+-------+------------------------+-------+\n",
      "|4.0   |1572   |2023-10-24T21:38:29.594Z|304    |\n",
      "|5.0   |2108   |2023-10-24T21:38:29.594Z|469    |\n",
      "|4.0   |98     |2023-10-24T21:38:29.594Z|247    |\n",
      "|4.0   |1592   |2023-10-24T21:38:29.594Z|307    |\n",
      "|3.5   |2048   |2023-10-24T21:38:29.594Z|477    |\n",
      "+------+-------+------------------------+-------+\n",
      "only showing top 5 rows\n",
      "\n"
     ]
    },
    {
     "data": {
      "text/plain": [
       "81116"
      ]
     },
     "execution_count": 23,
     "metadata": {},
     "output_type": "execute_result"
    }
   ],
   "source": [
    "ratings = spark.read.json(os.path.join(CLEAN_PATH, \"ratings.json\"))\n",
    "ratings.show(5, truncate=False)\n",
    "ratings.count()"
   ]
  },
  {
   "cell_type": "markdown",
   "metadata": {
    "application/vnd.databricks.v1+cell": {
     "cellMetadata": {},
     "inputWidgets": {},
     "nuid": "806fea4c-d049-41d3-872d-30fc6e01d5be",
     "showTitle": false,
     "title": ""
    }
   },
   "source": [
    "#### Create an Implicit Feedback Recommender Model Frame"
   ]
  },
  {
   "cell_type": "code",
   "execution_count": 24,
   "metadata": {
    "application/vnd.databricks.v1+cell": {
     "cellMetadata": {
      "byteLimit": 2048000,
      "rowLimit": 10000
     },
     "inputWidgets": {},
     "nuid": "99b3e90d-4006-469d-ba5e-6a1278d36307",
     "showTitle": false,
     "title": ""
    }
   },
   "outputs": [
    {
     "name": "stderr",
     "output_type": "stream",
     "text": [
      "                                                                                \r"
     ]
    },
    {
     "name": "stdout",
     "output_type": "stream",
     "text": [
      "users=610 movies=2269 ratings=81116 sparsity=0.9414\n",
      "+------+-----+\n",
      "|rating|count|\n",
      "+------+-----+\n",
      "|   0.5|  918|\n",
      "|   1.0| 1989|\n",
      "|   1.5| 1121|\n",
      "|   2.0| 5397|\n",
      "|   2.5| 4035|\n",
      "|   3.0|15973|\n",
      "|   3.5|10260|\n",
      "|   4.0|22460|\n",
      "|   4.5| 7225|\n",
      "|   5.0|11738|\n",
      "+------+-----+\n",
      "\n",
      "+------+-------+------------------------+-------+\n",
      "|rating|tmdb_id|updated_at              |user_id|\n",
      "+------+-------+------------------------+-------+\n",
      "|4.0   |1572   |2023-10-24T21:38:29.594Z|304    |\n",
      "|5.0   |2108   |2023-10-24T21:38:29.594Z|469    |\n",
      "|4.0   |98     |2023-10-24T21:38:29.594Z|247    |\n",
      "|4.0   |1592   |2023-10-24T21:38:29.594Z|307    |\n",
      "|3.5   |2048   |2023-10-24T21:38:29.594Z|477    |\n",
      "+------+-------+------------------------+-------+\n",
      "only showing top 5 rows\n",
      "\n"
     ]
    }
   ],
   "source": [
    "model_frame = ratings \\\n",
    "    .withColumn('user_id', f.col('user_id').cast('INTEGER')) \\\n",
    "    .withColumn('tmdb_id', f.col('tmdb_id').cast('INTEGER')) \\\n",
    "    .cache()\n",
    "\n",
    "counts = model_frame.agg(f.countDistinct('user_id').alias('users'), f.countDistinct('tmdb_id').alias('movies'), f.count('*').alias('ratings')).first()\n",
    "sparsity = round(1 - (counts['ratings'] / (counts['users'] * counts['movies'])), 4)\n",
    "print(f\"users={counts['users']} movies={counts['movies']} ratings={counts['ratings']} sparsity={sparsity}\")\n",
    "\n",
    "model_frame.groupby(\"rating\").count().sort(\"rating\").show()\n",
    "model_frame.show(5, truncate=False)"
   ]
  },
  {
   "cell_type": "markdown",
   "metadata": {
    "application/vnd.databricks.v1+cell": {
     "cellMetadata": {},
     "inputWidgets": {},
     "nuid": "6c7fe594-35f8-4f99-a59c-378e1ae71389",
     "showTitle": false,
     "title": ""
    }
   },
   "source": [
    "#### Train the ALS Model"
   ]
  },
  {
   "cell_type": "code",
   "execution_count": 27,
   "metadata": {
    "application/vnd.databricks.v1+cell": {
     "cellMetadata": {
      "byteLimit": 2048000,
      "rowLimit": 10000
     },
     "inputWidgets": {},
     "nuid": "36674979-c9b3-4943-af01-dd34f773137b",
     "showTitle": false,
     "title": ""
    }
   },
   "outputs": [
    {
     "name": "stderr",
     "output_type": "stream",
     "text": [
      "                                                                                \r"
     ]
    },
    {
     "data": {
      "text/plain": [
       "ALSModel: uid=ALS_1a320d47a959, rank=32"
      ]
     },
     "execution_count": 27,
     "metadata": {},
     "output_type": "execute_result"
    }
   ],
   "source": [
    "estimator = ALS(rank=COLLAB_DIMENSION, maxIter=15, regParam=0.1, implicitPrefs=True, userCol='user_id', itemCol='tmdb_id', ratingCol='rating')\n",
    "transformer = estimator.fit(model_frame)\n",
    "transformer"
   ]
  },
  {
   "cell_type": "markdown",
   "metadata": {
    "application/vnd.databricks.v1+cell": {
     "cellMetadata": {},
     "inputWidgets": {},
     "nuid": "95f40385-05c0-4809-8741-6560874e490c",
     "showTitle": false,
     "title": ""
    }
   },
   "source": [
    "#### Extract the Embeddings from the Fit Model and Format for Index Insertion"
   ]
  },
  {
   "cell_type": "code",
   "execution_count": 28,
   "metadata": {
    "application/vnd.databricks.v1+cell": {
     "cellMetadata": {
      "byteLimit": 2048000,
      "rowLimit": 10000
     },
     "inputWidgets": {},
     "nuid": "cf9df851-e740-49a3-ac71-f241830313e6",
     "showTitle": false,
     "title": ""
    }
   },
   "outputs": [
    {
     "name": "stderr",
     "output_type": "stream",
     "text": [
      "                                                                                \r"
     ]
    }
   ],
   "source": [
    "user_embeddings = transformer.userFactors \\\n",
    "    .withColumn('id', f.col('id').cast('string')) \\\n",
    "    .withColumnRenamed('features', 'values') \\\n",
    "    .sort('id') \\\n",
    "    .toPandas() \\\n",
    "    .to_dict(orient='list')\n",
    "\n",
    "movie_embeddings = transformer.itemFactors \\\n",
    "    .withColumn('id', f.col('id').cast('string')) \\\n",
    "    .withColumnRenamed('features', 'values') \\\n",
    "    .sort('id') \\\n",
    "    .toPandas() \\\n",
    "    .to_dict(orient='list')"
   ]
  },
  {
   "cell_type": "markdown",
   "metadata": {
    "application/vnd.databricks.v1+cell": {
     "cellMetadata": {},
     "inputWidgets": {},
     "nuid": "84c658c4-bf67-4009-ac06-d748280b7dce",
     "showTitle": false,
     "title": ""
    }
   },
   "source": [
    "#### Create Collaborative Filtering Embeddings for the Users"
   ]
  },
  {
   "cell_type": "code",
   "execution_count": 30,
   "metadata": {},
   "outputs": [
    {
     "data": {
      "text/plain": [
       "Collection(name=users-collab)"
      ]
     },
     "execution_count": 30,
     "metadata": {},
     "output_type": "execute_result"
    }
   ],
   "source": [
    "users_collab_collection = chroma_client.get_or_create_collection(\n",
    "    name=USERS_COLLAB_INDEX_NAME, \n",
    "    metadata={\"hnsw:space\": \"cosine\"},\n",
    "    embedding_function=embedding_function\n",
    ")\n",
    "users_collab_collection"
   ]
  },
  {
   "cell_type": "code",
   "execution_count": 31,
   "metadata": {},
   "outputs": [
    {
     "data": {
      "text/plain": [
       "610"
      ]
     },
     "execution_count": 31,
     "metadata": {},
     "output_type": "execute_result"
    }
   ],
   "source": [
    "users_collab_collection.upsert(\n",
    "    ids=user_embeddings[\"id\"],\n",
    "    embeddings=user_embeddings[\"values\"]\n",
    ")\n",
    "users_collab_collection.count()"
   ]
  },
  {
   "cell_type": "markdown",
   "metadata": {},
   "source": [
    "#### Create Collaborative Filtering Embeddings for the Movies"
   ]
  },
  {
   "cell_type": "code",
   "execution_count": 32,
   "metadata": {
    "application/vnd.databricks.v1+cell": {
     "cellMetadata": {
      "byteLimit": 2048000,
      "rowLimit": 10000
     },
     "inputWidgets": {},
     "nuid": "a7d0aa6d-ed8d-4bc1-afe3-058be4bfd8e6",
     "showTitle": false,
     "title": ""
    }
   },
   "outputs": [
    {
     "data": {
      "text/plain": [
       "Collection(name=movies-collab)"
      ]
     },
     "execution_count": 32,
     "metadata": {},
     "output_type": "execute_result"
    }
   ],
   "source": [
    "movies_collab_collection = chroma_client.get_or_create_collection(\n",
    "    name=MOVIES_COLLAB_INDEX_NAME, \n",
    "    metadata={\"hnsw:space\": \"cosine\"},\n",
    "    embedding_function=embedding_function\n",
    ")\n",
    "movies_collab_collection"
   ]
  },
  {
   "cell_type": "code",
   "execution_count": 33,
   "metadata": {
    "application/vnd.databricks.v1+cell": {
     "cellMetadata": {
      "byteLimit": 2048000,
      "rowLimit": 10000
     },
     "inputWidgets": {},
     "nuid": "bd7d0d38-c6e1-4131-aed5-805e529fa1fd",
     "showTitle": false,
     "title": ""
    }
   },
   "outputs": [
    {
     "data": {
      "text/plain": [
       "2269"
      ]
     },
     "execution_count": 33,
     "metadata": {},
     "output_type": "execute_result"
    }
   ],
   "source": [
    "movies_collab_collection.upsert(\n",
    "    ids=movie_embeddings[\"id\"],\n",
    "    embeddings=movie_embeddings[\"values\"]\n",
    ")\n",
    "movies_collab_collection.count()"
   ]
  },
  {
   "cell_type": "markdown",
   "metadata": {
    "application/vnd.databricks.v1+cell": {
     "cellMetadata": {},
     "inputWidgets": {},
     "nuid": "5de27d60-708a-4acc-b3cf-88726be3639f",
     "showTitle": false,
     "title": ""
    }
   },
   "source": [
    "#### Spot Check the Content Embeddings with a Few Queries"
   ]
  },
  {
   "cell_type": "code",
   "execution_count": 34,
   "metadata": {
    "application/vnd.databricks.v1+cell": {
     "cellMetadata": {
      "byteLimit": 2048000,
      "rowLimit": 10000
     },
     "inputWidgets": {},
     "nuid": "6bb5630f-5376-447c-af21-c47b47ed4b7c",
     "showTitle": false,
     "title": ""
    }
   },
   "outputs": [
    {
     "name": "stderr",
     "output_type": "stream",
     "text": [
      "/Users/ericlundquist/anaconda3/envs/prodigy/lib/python3.9/site-packages/pyspark/sql/pandas/conversion.py:485: FutureWarning: is_datetime64tz_dtype is deprecated and will be removed in a future version. Check `isinstance(dtype, pd.DatetimeTZDtype)` instead.\n",
      "  if should_localize and is_datetime64tz_dtype(s.dtype) and s.dt.tz is not None:\n",
      "                                                                                \r"
     ]
    },
    {
     "name": "stdout",
     "output_type": "stream",
     "text": [
      "+-------+--------------------+--------------------+--------------------+--------------------+------------+--------------------+--------------------+--------------------+\n",
      "|tmdb_id|               title|              genres|            keywords|            overview|release_date|            director|              actors|            distance|\n",
      "+-------+--------------------+--------------------+--------------------+--------------------+------------+--------------------+--------------------+--------------------+\n",
      "|    769|          GoodFellas|      [Drama, Crime]|[new york city, p...|The true story of...|  1990-09-12|     Martin Scorsese|[Ray Liotta, Robe...|5.960464477539062...|\n",
      "|    500|      Reservoir Dogs|   [Crime, Thriller]|[traitor, jewelry...|A botched robbery...|  1992-09-02|   Quentin Tarantino|[Harvey Keitel, T...| 0.13296473026275635|\n",
      "|    240|The Godfather Par...|      [Drama, Crime]|[italy, italian a...|In the continuing...|  1974-12-20|Francis Ford Coppola|[Al Pacino, Rober...| 0.13902032375335693|\n",
      "|    238|       The Godfather|      [Drama, Crime]|[italy, loss of l...|Spanning the year...|  1972-03-14|Francis Ford Coppola|[Marlon Brando, A...| 0.15771204233169556|\n",
      "|     28|      Apocalypse Now|        [Drama, War]|[cia, drug abuse,...|At the height of ...|  1979-08-15|Francis Ford Coppola|[Martin Sheen, Fr...| 0.21272510290145874|\n",
      "|    600|   Full Metal Jacket|        [Drama, War]|[suicide, prostit...|A pragmatic U.S. ...|  1987-06-26|     Stanley Kubrick|[Matthew Modine, ...| 0.21370470523834229|\n",
      "|    629|  The Usual Suspects|[Drama, Crime, Th...|[new york city, r...|Held in an L.A. i...|  1995-07-19|        Bryan Singer|[Gabriel Byrne, K...| 0.24030327796936035|\n",
      "|    510|One Flew Over the...|             [Drama]|[nurse, mentally ...|A petty criminal ...|  1975-11-19|        Miloš Forman|[Jack Nicholson, ...| 0.26372188329696655|\n",
      "|     73|  American History X|             [Drama]|[neo-nazism, pris...|Derek Vineyard is...|  1998-07-01|           Tony Kaye|[Edward Norton, E...| 0.28161853551864624|\n",
      "|    100|Lock, Stock and T...|     [Comedy, Crime]|[ambush, alcohol,...|A card shark and ...|  1998-08-28|         Guy Ritchie|[Jason Flemyng, D...| 0.29284703731536865|\n",
      "+-------+--------------------+--------------------+--------------------+--------------------+------------+--------------------+--------------------+--------------------+\n",
      "\n"
     ]
    }
   ],
   "source": [
    "tmdb_id = '769'\n",
    "embedding = movie_embeddings[\"values\"][movie_embeddings[\"id\"].index(tmdb_id)]\n",
    "\n",
    "matches = movies_collab_collection.query(query_embeddings=embedding, n_results=10)\n",
    "matches = spark \\\n",
    "    .createDataFrame(pd.DataFrame({\"tmdb_id\": matches[\"ids\"][0], \"distance\": matches[\"distances\"][0]})) \\\n",
    "    .join(spark.createDataFrame(movies), on=\"tmdb_id\", how=\"inner\") \\\n",
    "    .select(\"tmdb_id\", \"title\", \"genres\", \"keywords\", \"overview\", \"release_date\", \"director\", \"actors\", \"distance\") \\\n",
    "    .sort(\"distance\").show()"
   ]
  },
  {
   "cell_type": "markdown",
   "metadata": {
    "application/vnd.databricks.v1+cell": {
     "cellMetadata": {},
     "inputWidgets": {},
     "nuid": "d8af4d94-d133-4f24-a4c4-3ae2e9586ec3",
     "showTitle": false,
     "title": ""
    }
   },
   "source": [
    "# START SANDBOX CODE"
   ]
  },
  {
   "cell_type": "code",
   "execution_count": null,
   "metadata": {
    "application/vnd.databricks.v1+cell": {
     "cellMetadata": {},
     "inputWidgets": {},
     "nuid": "885aeba0-16c0-43b9-9bb8-fbf6a950509e",
     "showTitle": false,
     "title": ""
    }
   },
   "outputs": [],
   "source": []
  }
 ],
 "metadata": {
  "application/vnd.databricks.v1+notebook": {
   "dashboards": [],
   "language": "python",
   "notebookMetadata": {
    "pythonIndentUnit": 4
   },
   "notebookName": "create-embeddings",
   "widgets": {}
  },
  "kernelspec": {
   "display_name": "Python 3 (ipykernel)",
   "language": "python",
   "name": "python3"
  },
  "language_info": {
   "codemirror_mode": {
    "name": "ipython",
    "version": 3
   },
   "file_extension": ".py",
   "mimetype": "text/x-python",
   "name": "python",
   "nbconvert_exporter": "python",
   "pygments_lexer": "ipython3",
   "version": "3.9.18"
  }
 },
 "nbformat": 4,
 "nbformat_minor": 4
}
