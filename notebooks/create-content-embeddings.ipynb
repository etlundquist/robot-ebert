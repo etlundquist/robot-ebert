{
 "cells": [
  {
   "cell_type": "markdown",
   "metadata": {
    "application/vnd.databricks.v1+cell": {
     "cellMetadata": {},
     "inputWidgets": {},
     "nuid": "bb601ce6-f290-42ea-90a6-ca550d38e3ca",
     "showTitle": false,
     "title": ""
    }
   },
   "source": [
    "### Set Up Notebook"
   ]
  },
  {
   "cell_type": "markdown",
   "metadata": {
    "application/vnd.databricks.v1+cell": {
     "cellMetadata": {},
     "inputWidgets": {},
     "nuid": "d89d1a2f-ce6b-4b4e-8779-eb60c1c7676d",
     "showTitle": false,
     "title": ""
    }
   },
   "source": [
    "#### Import Required Modules"
   ]
  },
  {
   "cell_type": "code",
   "execution_count": 0,
   "metadata": {
    "application/vnd.databricks.v1+cell": {
     "cellMetadata": {
      "byteLimit": 2048000,
      "rowLimit": 10000
     },
     "inputWidgets": {},
     "nuid": "adbc3289-2f87-4aee-a6cc-6f1366256b2a",
     "showTitle": false,
     "title": ""
    }
   },
   "outputs": [],
   "source": [
    "# %pip install openai pinecone-client python-dotenv"
   ]
  },
  {
   "cell_type": "code",
   "execution_count": 0,
   "metadata": {
    "application/vnd.databricks.v1+cell": {
     "cellMetadata": {
      "byteLimit": 2048000,
      "rowLimit": 10000
     },
     "inputWidgets": {},
     "nuid": "7ad92141-2202-40f0-8029-bebb8b63e18b",
     "showTitle": false,
     "title": ""
    }
   },
   "outputs": [
    {
     "output_type": "display_data",
     "data": {
      "application/vnd.databricks.v1+bamboolib_hint": "{\"pd.DataFrames\": [], \"version\": \"0.0.1\"}",
      "text/plain": []
     },
     "metadata": {},
     "output_type": "display_data"
    }
   ],
   "source": [
    "import os\n",
    "import json\n",
    "\n",
    "from typing import List, Dict\n",
    "from dotenv import load_dotenv\n",
    "\n",
    "import openai\n",
    "import pinecone\n",
    "\n",
    "import numpy as np\n",
    "import pandas as pd\n",
    "\n",
    "from pyspark.sql import SparkSession\n",
    "from pyspark.sql import functions as f\n",
    "from pyspark.sql.window import Window"
   ]
  },
  {
   "cell_type": "markdown",
   "metadata": {
    "application/vnd.databricks.v1+cell": {
     "cellMetadata": {},
     "inputWidgets": {},
     "nuid": "8de77a0b-a968-4306-a01f-cbf21973a372",
     "showTitle": false,
     "title": ""
    }
   },
   "source": [
    "#### Get or Create SparkSession"
   ]
  },
  {
   "cell_type": "code",
   "execution_count": 0,
   "metadata": {
    "application/vnd.databricks.v1+cell": {
     "cellMetadata": {
      "byteLimit": 2048000,
      "rowLimit": 10000
     },
     "inputWidgets": {},
     "nuid": "fcc0d9be-c3dd-4fbb-ba4f-5a413ce03d97",
     "showTitle": false,
     "title": ""
    }
   },
   "outputs": [
    {
     "output_type": "display_data",
     "data": {
      "text/html": [
       "\n",
       "            <div>\n",
       "                <p><b>SparkSession - hive</b></p>\n",
       "                \n",
       "        <div>\n",
       "            <p><b>SparkContext</b></p>\n",
       "\n",
       "            <p><a href=\"/?o=8355974179873438#setting/sparkui/1017-161542-o0dq748r/driver-8863286062915118277\">Spark UI</a></p>\n",
       "\n",
       "            <dl>\n",
       "              <dt>Version</dt>\n",
       "                <dd><code>v3.3.2</code></dd>\n",
       "              <dt>Master</dt>\n",
       "                <dd><code>spark://driver-proxy:7077</code></dd>\n",
       "              <dt>AppName</dt>\n",
       "                <dd><code>Databricks Shell</code></dd>\n",
       "            </dl>\n",
       "        </div>\n",
       "        \n",
       "            </div>\n",
       "        "
      ]
     },
     "metadata": {
      "application/vnd.databricks.v1+output": {
       "addedWidgets": {},
       "arguments": {},
       "data": "\n            <div>\n                <p><b>SparkSession - hive</b></p>\n                \n        <div>\n            <p><b>SparkContext</b></p>\n\n            <p><a href=\"/?o=8355974179873438#setting/sparkui/1017-161542-o0dq748r/driver-8863286062915118277\">Spark UI</a></p>\n\n            <dl>\n              <dt>Version</dt>\n                <dd><code>v3.3.2</code></dd>\n              <dt>Master</dt>\n                <dd><code>spark://driver-proxy:7077</code></dd>\n              <dt>AppName</dt>\n                <dd><code>Databricks Shell</code></dd>\n            </dl>\n        </div>\n        \n            </div>\n        ",
       "datasetInfos": [],
       "metadata": {},
       "removedWidgets": [],
       "textData": null,
       "type": "htmlSandbox"
      }
     },
     "output_type": "display_data"
    }
   ],
   "source": [
    "spark = SparkSession.builder.getOrCreate()\n",
    "spark.sparkContext.setLogLevel(\"error\")\n",
    "spark"
   ]
  },
  {
   "cell_type": "markdown",
   "metadata": {
    "application/vnd.databricks.v1+cell": {
     "cellMetadata": {},
     "inputWidgets": {},
     "nuid": "3c66a3f9-fe90-46e2-ae65-5100be81faf0",
     "showTitle": false,
     "title": ""
    }
   },
   "source": [
    "#### Load Secrets as Environment Variables"
   ]
  },
  {
   "cell_type": "code",
   "execution_count": 0,
   "metadata": {
    "application/vnd.databricks.v1+cell": {
     "cellMetadata": {
      "byteLimit": 2048000,
      "rowLimit": 10000
     },
     "inputWidgets": {},
     "nuid": "34c6e1a3-0a28-4d1b-92aa-659c6b047bd2",
     "showTitle": false,
     "title": ""
    }
   },
   "outputs": [
    {
     "output_type": "stream",
     "name": "stdout",
     "output_type": "stream",
     "text": [
      "Out[33]: True"
     ]
    }
   ],
   "source": [
    "env_path = \"/dbfs/FileStore/env/.env\"\n",
    "load_dotenv(env_path)"
   ]
  },
  {
   "cell_type": "markdown",
   "metadata": {
    "application/vnd.databricks.v1+cell": {
     "cellMetadata": {},
     "inputWidgets": {},
     "nuid": "14ce4bd9-572b-4820-b110-d1a17cd1452c",
     "showTitle": false,
     "title": ""
    }
   },
   "source": [
    "#### Set Workflow Constants"
   ]
  },
  {
   "cell_type": "code",
   "execution_count": 0,
   "metadata": {
    "application/vnd.databricks.v1+cell": {
     "cellMetadata": {
      "byteLimit": 2048000,
      "rowLimit": 10000
     },
     "inputWidgets": {},
     "nuid": "c758c725-7e95-41a3-9c7c-15e6011dcbb0",
     "showTitle": false,
     "title": ""
    }
   },
   "outputs": [],
   "source": [
    "CLN_PATH = \"dbfs:/FileStore/data/clean\"\n",
    "INDEX_NAME = \"content-embeddings\"\n",
    "DIMENSION = 1536"
   ]
  },
  {
   "cell_type": "markdown",
   "metadata": {
    "application/vnd.databricks.v1+cell": {
     "cellMetadata": {},
     "inputWidgets": {},
     "nuid": "d9156a53-bb1f-4e30-8aaa-68dd9263d745",
     "showTitle": false,
     "title": ""
    }
   },
   "source": [
    "### Create Content Embedding Vectors"
   ]
  },
  {
   "cell_type": "markdown",
   "metadata": {
    "application/vnd.databricks.v1+cell": {
     "cellMetadata": {},
     "inputWidgets": {},
     "nuid": "4585567f-ea4f-4776-9062-5c87765c1d93",
     "showTitle": false,
     "title": ""
    }
   },
   "source": [
    "#### Import Clean Data"
   ]
  },
  {
   "cell_type": "code",
   "execution_count": 0,
   "metadata": {
    "application/vnd.databricks.v1+cell": {
     "cellMetadata": {
      "byteLimit": 2048000,
      "rowLimit": 10000
     },
     "inputWidgets": {},
     "nuid": "029a4267-14f8-46ed-b8e8-014cc9a0e1a9",
     "showTitle": false,
     "title": ""
    }
   },
   "outputs": [
    {
     "output_type": "stream",
     "name": "stdout",
     "output_type": "stream",
     "text": [
      "+-------+--------------------+------------+-------+--------------------+--------------------+---------+---------+----------+------------+----------+--------------------+\n|tmdb_id|               title|release_date|runtime|              genres|            overview|   budget|  revenue|popularity|vote_average|vote_count|            keywords|\n+-------+--------------------+------------+-------+--------------------+--------------------+---------+---------+----------+------------+----------+--------------------+\n|  10010|      Brother Bear 2|  2006-08-17|   73.0|[Adventure, Anima...|Kenai finds his c...|     null|     null| 10.861154|         6.3|       318|[grizzly bear, hu...|\n|  10012|              Cursed|  2005-02-25|   97.0|    [Horror, Comedy]|A werewolf loose ...| 35000000| 19294901|  8.949722|         5.1|       168|[brother sister r...|\n| 100402|Captain America: ...|  2014-03-20|  136.0|[Action, Adventur...|After the catacly...|170000000|714766572| 18.717704|         7.6|      5881|[washington d.c.,...|\n|  10068|      Nine 1/2 Weeks|  1986-02-14|  117.0|    [Drama, Romance]|An erotic story a...| 17000000|  6735922|  6.706262|         5.8|       183|                null|\n|  10096|      13 Going on 30|  2004-04-13|   98.0|[Comedy, Fantasy,...|After total humil...| 37000000| 96455697| 12.632595|         6.3|      1260|[new york, photog...|\n|  10110|   Empire of the Sun|  1987-12-09|  153.0|[Drama, History, ...|Jamie Graham, a p...| 35000000| 22238696| 10.220906|         7.3|       491|[japan, stadium, ...|\n| 101325|          The Forger|  2011-03-09|   96.0|             [Drama]|While staying at ...|     null|     null|  7.854465|         6.0|        40|[california, pain...|\n|  10133|              Cypher|  2002-10-01|   95.0|[Thriller, Scienc...|An unsuspecting, ...|  7500000|     null|  7.348974|         6.7|       196|[double life, und...|\n|  10138|          Iron Man 2|  2010-04-28|  124.0|[Adventure, Actio...|With the world no...|200000000|623933331| 19.083344|         6.6|      6969|[malibu, marvel c...|\n|  10145|       The Forgotten|  2004-09-24|   91.0|[Crime, Drama, Ho...|Telly Paretta is ...| 42000000|117575636|   6.40146|         5.5|       359|[loss of son, mot...|\n+-------+--------------------+------------+-------+--------------------+--------------------+---------+---------+----------+------------+----------+--------------------+\nonly showing top 10 rows\n\n"
     ]
    }
   ],
   "source": [
    "movies = spark.read.parquet(os.path.join(CLN_PATH, \"movies\"))\n",
    "movies.show(10)"
   ]
  },
  {
   "cell_type": "code",
   "execution_count": 0,
   "metadata": {
    "application/vnd.databricks.v1+cell": {
     "cellMetadata": {
      "byteLimit": 2048000,
      "rowLimit": 10000
     },
     "inputWidgets": {},
     "nuid": "3c881495-05b5-4ab4-95e6-245efc6a3d6b",
     "showTitle": false,
     "title": ""
    }
   },
   "outputs": [
    {
     "output_type": "stream",
     "name": "stdout",
     "output_type": "stream",
     "text": [
      "+-------+-------+------+-------------------+---------+----------+\n|user_id|tmdb_id|rating|          timestamp|cnt_users|cnt_movies|\n+-------+-------+------+-------------------+---------+----------+\n| 171679|   2255|   2.0|2013-04-23 14:39:05|    13641|       133|\n| 217667|  10427|   2.0|1996-11-08 17:21:30|     3441|        58|\n|  31793|    532|   3.0|1997-05-07 15:14:38|    12698|       107|\n|  96489|    197|   3.0|2015-10-25 19:42:18|    61076|        84|\n| 198045|    641|   2.5|2015-11-04 04:07:02|    19478|       689|\n|  34058|   1551|   1.0|2015-08-05 20:08:07|     3358|      1113|\n|  55981|    603|   2.0|2008-03-26 11:50:09|    72417|       152|\n| 250847|   2164|   1.0|1996-06-11 09:51:07|    30738|        34|\n| 200371|    687|   1.0|2002-04-23 09:36:49|    22338|       183|\n| 145188|    154|   2.0|2013-01-21 23:45:51|    15405|        34|\n+-------+-------+------+-------------------+---------+----------+\nonly showing top 10 rows\n\n"
     ]
    }
   ],
   "source": [
    "model_frame = spark.read.parquet(os.path.join(CLN_PATH, \"model_frame\"))\n",
    "model_frame.show(10)"
   ]
  },
  {
   "cell_type": "code",
   "execution_count": 0,
   "metadata": {
    "application/vnd.databricks.v1+cell": {
     "cellMetadata": {
      "byteLimit": 2048000,
      "rowLimit": 10000
     },
     "inputWidgets": {},
     "nuid": "487af4b8-7fe3-4834-b48c-a13af60ed439",
     "showTitle": false,
     "title": ""
    }
   },
   "outputs": [
    {
     "output_type": "stream",
     "name": "stdout",
     "output_type": "stream",
     "text": [
      "Out[37]: 6235"
     ]
    }
   ],
   "source": [
    "model_frame_movies = model_frame.select('tmdb_id').distinct()\n",
    "model_frame_movies.count()"
   ]
  },
  {
   "cell_type": "markdown",
   "metadata": {
    "application/vnd.databricks.v1+cell": {
     "cellMetadata": {},
     "inputWidgets": {},
     "nuid": "89c8d13f-8237-4286-8610-4f2bf1eaef2c",
     "showTitle": false,
     "title": ""
    }
   },
   "source": [
    "#### Format Combined Movie Text for Embedding"
   ]
  },
  {
   "cell_type": "code",
   "execution_count": 0,
   "metadata": {
    "application/vnd.databricks.v1+cell": {
     "cellMetadata": {
      "byteLimit": 2048000,
      "rowLimit": 10000
     },
     "inputWidgets": {},
     "nuid": "27912569-df2e-4990-aadc-c9e345c8c709",
     "showTitle": false,
     "title": ""
    }
   },
   "outputs": [
    {
     "output_type": "stream",
     "name": "stdout",
     "output_type": "stream",
     "text": [
      "-RECORD 0------------------------------------------------------------------------------------------------------------------------------------------------------------------------------------------------------------------------------------------------------------------------------------------------------------------------------------------------------------------------------------------------------------------------------------------------------------------------------------------------------------------------------------------------------------------------------------\n tmdb_id      | 10003                                                                                                                                                                                                                                                                                                                                                                                                                                                                                                                                                                        \n title        | The Saint                                                                                                                                                                                                                                                                                                                                                                                                                                                                                                                                                                    \n release_date | 1997-04-03                                                                                                                                                                                                                                                                                                                                                                                                                                                                                                                                                                   \n runtime      | 116.0                                                                                                                                                                                                                                                                                                                                                                                                                                                                                                                                                                        \n genres       | [Thriller, Action, Romance, Science Fiction, Adventure]                                                                                                                                                                                                                                                                                                                                                                                                                                                                                                                      \n overview     | Ivan Tretiak, Russian Mafia boss who wants to create an oil crisis in Moscow and seize power as a result sends Simon Templar, great international criminal, to England to get a secret formula for cold fusion from U.S. scientist Emma Russell. Templar falls in love with Emma and they try to outwit Tretiak and his guerrillas, hiding from them in Moscow                                                                                                                                                                                                               \n budget       | 68000000                                                                                                                                                                                                                                                                                                                                                                                                                                                                                                                                                                     \n revenue      | 118063304                                                                                                                                                                                                                                                                                                                                                                                                                                                                                                                                                                    \n popularity   | 10.97633                                                                                                                                                                                                                                                                                                                                                                                                                                                                                                                                                                     \n vote_average | 5.9                                                                                                                                                                                                                                                                                                                                                                                                                                                                                                                                                                          \n vote_count   | 310                                                                                                                                                                                                                                                                                                                                                                                                                                                                                                                                                                          \n keywords     | [berlin, russia, gas, master thief, the saint]                                                                                                                                                                                                                                                                                                                                                                                                                                                                                                                               \n text         | Thriller, Action, Romance, Science Fiction, Adventure | berlin, russia, gas, master thief, the saint | Ivan Tretiak, Russian Mafia boss who wants to create an oil crisis in Moscow and seize power as a result sends Simon Templar, great international criminal, to England to get a secret formula for cold fusion from U.S. scientist Emma Russell. Templar falls in love with Emma and they try to outwit Tretiak and his guerrillas, hiding from them in Moscow                                                                                                        \n-RECORD 1------------------------------------------------------------------------------------------------------------------------------------------------------------------------------------------------------------------------------------------------------------------------------------------------------------------------------------------------------------------------------------------------------------------------------------------------------------------------------------------------------------------------------------------------------------------------------------\n tmdb_id      | 100042                                                                                                                                                                                                                                                                                                                                                                                                                                                                                                                                                                       \n title        | Dumb and Dumber To                                                                                                                                                                                                                                                                                                                                                                                                                                                                                                                                                           \n release_date | 2014-11-12                                                                                                                                                                                                                                                                                                                                                                                                                                                                                                                                                                   \n runtime      | 110.0                                                                                                                                                                                                                                                                                                                                                                                                                                                                                                                                                                        \n genres       | [Comedy]                                                                                                                                                                                                                                                                                                                                                                                                                                                                                                                                                                     \n overview     | 20 years after the dimwits set out on their first adventure, they head out in search of one of their long lost children in the hope of gaining a new kidney.                                                                                                                                                                                                                                                                                                                                                                                                                 \n budget       | 40000000                                                                                                                                                                                                                                                                                                                                                                                                                                                                                                                                                                     \n revenue      | 169837010                                                                                                                                                                                                                                                                                                                                                                                                                                                                                                                                                                    \n popularity   | 15.402597                                                                                                                                                                                                                                                                                                                                                                                                                                                                                                                                                                    \n vote_average | 5.4                                                                                                                                                                                                                                                                                                                                                                                                                                                                                                                                                                          \n vote_count   | 1140                                                                                                                                                                                                                                                                                                                                                                                                                                                                                                                                                                         \n keywords     | [friendship, sequel, road movie, buddy comedy]                                                                                                                                                                                                                                                                                                                                                                                                                                                                                                                               \n text         | Comedy | friendship, sequel, road movie, buddy comedy | 20 years after the dimwits set out on their first adventure, they head out in search of one of their long lost children in the hope of gaining a new kidney.                                                                                                                                                                                                                                                                                                                                                         \n-RECORD 2------------------------------------------------------------------------------------------------------------------------------------------------------------------------------------------------------------------------------------------------------------------------------------------------------------------------------------------------------------------------------------------------------------------------------------------------------------------------------------------------------------------------------------------------------------------------------------\n tmdb_id      | 10007                                                                                                                                                                                                                                                                                                                                                                                                                                                                                                                                                                        \n title        | See No Evil                                                                                                                                                                                                                                                                                                                                                                                                                                                                                                                                                                  \n release_date | 2006-05-19                                                                                                                                                                                                                                                                                                                                                                                                                                                                                                                                                                   \n runtime      | 84.0                                                                                                                                                                                                                                                                                                                                                                                                                                                                                                                                                                         \n genres       | [Horror, Thriller]                                                                                                                                                                                                                                                                                                                                                                                                                                                                                                                                                           \n overview     | A group of delinquents are sent to clean the Blackwell Hotel. Little do they know reclusive psychopath Jacob Goodnight (Jacobs) has holed away in the rotting hotel. When one of the teens is captured, those who remain -- a group that includes the cop who put a bullet in Goodnight's head four years ago -- band together to survive against the brutal killer.                                                                                                                                                                                                         \n budget       | 8000000                                                                                                                                                                                                                                                                                                                                                                                                                                                                                                                                                                      \n revenue      | null                                                                                                                                                                                                                                                                                                                                                                                                                                                                                                                                                                         \n popularity   | 5.659608                                                                                                                                                                                                                                                                                                                                                                                                                                                                                                                                                                     \n vote_average | 4.8                                                                                                                                                                                                                                                                                                                                                                                                                                                                                                                                                                          \n vote_count   | 146                                                                                                                                                                                                                                                                                                                                                                                                                                                                                                                                                                          \n keywords     | [hotel, eye ball, murder, serial killer, youth, religious fanatic]                                                                                                                                                                                                                                                                                                                                                                                                                                                                                                           \n text         | Horror, Thriller | hotel, eye ball, murder, serial killer, youth, religious fanatic | A group of delinquents are sent to clean the Blackwell Hotel. Little do they know reclusive psychopath Jacob Goodnight (Jacobs) has holed away in the rotting hotel. When one of the teens is captured, those who remain -- a group that includes the cop who put a bullet in Goodnight's head four years ago -- band together to survive against the brutal killer.                                                                                                                   \n-RECORD 3------------------------------------------------------------------------------------------------------------------------------------------------------------------------------------------------------------------------------------------------------------------------------------------------------------------------------------------------------------------------------------------------------------------------------------------------------------------------------------------------------------------------------------------------------------------------------------\n tmdb_id      | 10008                                                                                                                                                                                                                                                                                                                                                                                                                                                                                                                                                                        \n title        | An American Haunting                                                                                                                                                                                                                                                                                                                                                                                                                                                                                                                                                         \n release_date | 2005-05-05                                                                                                                                                                                                                                                                                                                                                                                                                                                                                                                                                                   \n runtime      | 83.0                                                                                                                                                                                                                                                                                                                                                                                                                                                                                                                                                                         \n genres       | [Horror, Thriller]                                                                                                                                                                                                                                                                                                                                                                                                                                                                                                                                                           \n overview     | Based on the true events of the only case in US History where a spirit caused the death of a man.                                                                                                                                                                                                                                                                                                                                                                                                                                                                            \n budget       | null                                                                                                                                                                                                                                                                                                                                                                                                                                                                                                                                                                         \n revenue      | null                                                                                                                                                                                                                                                                                                                                                                                                                                                                                                                                                                         \n popularity   | 5.026855                                                                                                                                                                                                                                                                                                                                                                                                                                                                                                                                                                     \n vote_average | 5.3                                                                                                                                                                                                                                                                                                                                                                                                                                                                                                                                                                          \n vote_count   | 143                                                                                                                                                                                                                                                                                                                                                                                                                                                                                                                                                                          \n keywords     | [witch, independent film, curse, suitor, family]                                                                                                                                                                                                                                                                                                                                                                                                                                                                                                                             \n text         | Horror, Thriller | witch, independent film, curse, suitor, family | Based on the true events of the only case in US History where a spirit caused the death of a man.                                                                                                                                                                                                                                                                                                                                                                                                        \n-RECORD 4------------------------------------------------------------------------------------------------------------------------------------------------------------------------------------------------------------------------------------------------------------------------------------------------------------------------------------------------------------------------------------------------------------------------------------------------------------------------------------------------------------------------------------------------------------------------------------\n tmdb_id      | 10009                                                                                                                                                                                                                                                                                                                                                                                                                                                                                                                                                                        \n title        | Brother Bear                                                                                                                                                                                                                                                                                                                                                                                                                                                                                                                                                                 \n release_date | 2003-10-23                                                                                                                                                                                                                                                                                                                                                                                                                                                                                                                                                                   \n runtime      | 85.0                                                                                                                                                                                                                                                                                                                                                                                                                                                                                                                                                                         \n genres       | [Adventure, Animation, Family]                                                                                                                                                                                                                                                                                                                                                                                                                                                                                                                                               \n overview     | When an impulsive boy named Kenai is magically transformed into a bear, he must literally walk in another's footsteps until he learns some valuable life lessons. His courageous and often zany journey introduces him to a forest full of wildlife, including the lovable bear cub Koda, hilarious moose Rutt and Tuke, woolly mammoths and rambunctious rams.                                                                                                                                                                                                              \n budget       | 100000000                                                                                                                                                                                                                                                                                                                                                                                                                                                                                                                                                                    \n revenue      | null                                                                                                                                                                                                                                                                                                                                                                                                                                                                                                                                                                         \n popularity   | 12.300905                                                                                                                                                                                                                                                                                                                                                                                                                                                                                                                                                                    \n vote_average | 6.9                                                                                                                                                                                                                                                                                                                                                                                                                                                                                                                                                                          \n vote_count   | 1410                                                                                                                                                                                                                                                                                                                                                                                                                                                                                                                                                                         \n keywords     | [brother brother relationship, grizzly bear, inuit, transformation, friendship, sibling rivalry, unlikely friendship, aftercreditsstinger, duringcreditsstinger, animal lead]                                                                                                                                                                                                                                                                                                                                                                                                \n text         | Adventure, Animation, Family | brother brother relationship, grizzly bear, inuit, transformation, friendship, sibling rivalry, unlikely friendship, aftercreditsstinger, duringcreditsstinger, animal lead | When an impulsive boy named Kenai is magically transformed into a bear, he must literally walk in another's footsteps until he learns some valuable life lessons. His courageous and often zany journey introduces him to a forest full of wildlife, including the lovable bear cub Koda, hilarious moose Rutt and Tuke, woolly mammoths and rambunctious rams. \nonly showing top 5 rows\n\nOut[38]: 6235"
     ]
    }
   ],
   "source": [
    "movies = movies \\\n",
    "    .join(model_frame_movies, on='tmdb_id', how='inner') \\\n",
    "    .withColumn('genres',   f.when(f.col('genres').isNull(),   f.array().cast('ARRAY<STRING>')).otherwise(f.col('genres'))) \\\n",
    "    .withColumn('keywords', f.when(f.col('keywords').isNull(), f.array().cast('ARRAY<STRING>')).otherwise(f.col('keywords'))) \\\n",
    "    .withColumn('text', f.concat_ws(\" | \", f.array_join(f.col('genres'), \", \"), f.array_join(f.col('keywords'), \", \"), f.col('overview'))) \\\n",
    "    .sort('tmdb_id')\n",
    "\n",
    "movies.show(5, truncate=False, vertical=True)\n",
    "movies.count()"
   ]
  },
  {
   "cell_type": "code",
   "execution_count": 0,
   "metadata": {
    "application/vnd.databricks.v1+cell": {
     "cellMetadata": {
      "byteLimit": 2048000,
      "rowLimit": 10000
     },
     "inputWidgets": {},
     "nuid": "87991a6d-b79f-4485-8831-882b03b91a1b",
     "showTitle": false,
     "title": ""
    }
   },
   "outputs": [
    {
     "output_type": "stream",
     "name": "stdout",
     "output_type": "stream",
     "text": [
      "Out[39]: {'tmdb_id': '10003',\n 'title': 'The Saint',\n 'release_date': datetime.date(1997, 4, 3),\n 'runtime': 116.0,\n 'genres': array(['Thriller', 'Action', 'Romance', 'Science Fiction', 'Adventure'],\n       dtype=object),\n 'overview': 'Ivan Tretiak, Russian Mafia boss who wants to create an oil crisis in Moscow and seize power as a result sends Simon Templar, great international criminal, to England to get a secret formula for cold fusion from U.S. scientist Emma Russell. Templar falls in love with Emma and they try to outwit Tretiak and his guerrillas, hiding from them in Moscow',\n 'budget': 68000000.0,\n 'revenue': 118063304.0,\n 'popularity': 10.97633,\n 'vote_average': 5.9,\n 'vote_count': 310.0,\n 'keywords': array(['berlin', 'russia', 'gas', 'master thief', 'the saint'],\n       dtype=object),\n 'text': 'Thriller, Action, Romance, Science Fiction, Adventure | berlin, russia, gas, master thief, the saint | Ivan Tretiak, Russian Mafia boss who wants to create an oil crisis in Moscow and seize power as a result sends Simon Templar, great international criminal, to England to get a secret formula for cold fusion from U.S. scientist Emma Russell. Templar falls in love with Emma and they try to outwit Tretiak and his guerrillas, hiding from them in Moscow'}"
     ]
    }
   ],
   "source": [
    "movies = movies.toPandas().to_dict(orient=\"records\")\n",
    "movies[0]"
   ]
  },
  {
   "cell_type": "markdown",
   "metadata": {
    "application/vnd.databricks.v1+cell": {
     "cellMetadata": {},
     "inputWidgets": {},
     "nuid": "3ee147d1-526e-43cc-a54e-da445754f594",
     "showTitle": false,
     "title": ""
    }
   },
   "source": [
    "#### Convert the Combined Movie Text to Embedding Representations"
   ]
  },
  {
   "cell_type": "code",
   "execution_count": 0,
   "metadata": {
    "application/vnd.databricks.v1+cell": {
     "cellMetadata": {
      "byteLimit": 2048000,
      "rowLimit": 10000
     },
     "inputWidgets": {},
     "nuid": "e5a4ab17-e587-41c2-a15a-d20210d281aa",
     "showTitle": false,
     "title": ""
    }
   },
   "outputs": [],
   "source": [
    "openai.api_key = os.environ[\"OPENAI_API_KEY\"]"
   ]
  },
  {
   "cell_type": "code",
   "execution_count": 0,
   "metadata": {
    "application/vnd.databricks.v1+cell": {
     "cellMetadata": {
      "byteLimit": 2048000,
      "rowLimit": 10000
     },
     "inputWidgets": {},
     "nuid": "7ffb59ff-a750-46c2-b245-1046982a93d7",
     "showTitle": false,
     "title": ""
    }
   },
   "outputs": [],
   "source": [
    "movie_embeddings = [\n",
    "    openai.Embedding.create(\n",
    "        model=\"text-embedding-ada-002\",\n",
    "        input=movie[\"text\"]\n",
    "    )[\"data\"][0][\"embedding\"] for movie in movies\n",
    "]"
   ]
  },
  {
   "cell_type": "code",
   "execution_count": 0,
   "metadata": {
    "application/vnd.databricks.v1+cell": {
     "cellMetadata": {
      "byteLimit": 2048000,
      "rowLimit": 10000
     },
     "inputWidgets": {},
     "nuid": "cfd95a90-1c95-48e2-afd4-c4e53097056d",
     "showTitle": false,
     "title": ""
    }
   },
   "outputs": [
    {
     "output_type": "stream",
     "name": "stdout",
     "output_type": "stream",
     "text": [
      "Out[44]: (6235, 6235)"
     ]
    }
   ],
   "source": [
    "len(movies), len(movie_embeddings)"
   ]
  },
  {
   "cell_type": "markdown",
   "metadata": {
    "application/vnd.databricks.v1+cell": {
     "cellMetadata": {},
     "inputWidgets": {},
     "nuid": "8229e9cc-6db0-432d-bc67-e6ed4c828870",
     "showTitle": false,
     "title": ""
    }
   },
   "source": [
    "#### Format the Movie Metadata + Embeddings as Vectors and Insert into the Pinecone Index"
   ]
  },
  {
   "cell_type": "code",
   "execution_count": 0,
   "metadata": {
    "application/vnd.databricks.v1+cell": {
     "cellMetadata": {
      "byteLimit": 2048000,
      "rowLimit": 10000
     },
     "inputWidgets": {},
     "nuid": "df6a8f58-9621-4201-809c-42d1fb947923",
     "showTitle": false,
     "title": ""
    }
   },
   "outputs": [
    {
     "output_type": "stream",
     "name": "stdout",
     "output_type": "stream",
     "text": [
      "Out[68]: 6235"
     ]
    }
   ],
   "source": [
    "movie_vectors = [\n",
    "    {\n",
    "        \"id\": movie[\"tmdb_id\"],\n",
    "        \"values\": embedding,\n",
    "        \"metadata\": {\n",
    "            \"title\": movie[\"title\"],\n",
    "            \"release_date\": movie[\"release_date\"],\n",
    "            \"runtime\": movie[\"runtime\"],\n",
    "            \"text\": movie[\"text\"],\n",
    "            \"budget\": movie[\"budget\"] if not np.isnan(movie[\"budget\"]) else -1,\n",
    "            \"revenue\": movie[\"revenue\"] if not np.isnan(movie[\"revenue\"]) else -1,\n",
    "            \"popularity\": movie[\"popularity\"],\n",
    "            \"vote_average\": movie[\"vote_average\"] if not np.isnan(movie[\"vote_average\"]) else -1,\n",
    "            \"vote_count\": movie[\"vote_count\"] if not np.isnan(movie[\"vote_count\"]) else -1,\n",
    "            \"genres\": movie[\"genres\"].tolist(),\n",
    "            \"keywords\": movie[\"keywords\"].tolist(),\n",
    "            \"overview\": movie[\"overview\"],\n",
    "            \"text\": movie[\"text\"],\n",
    "        }\n",
    "    }\n",
    "    for movie, embedding in zip(movies, movie_embeddings)\n",
    "]\n",
    "len(movie_vectors)"
   ]
  },
  {
   "cell_type": "code",
   "execution_count": 0,
   "metadata": {
    "application/vnd.databricks.v1+cell": {
     "cellMetadata": {
      "byteLimit": 2048000,
      "rowLimit": 10000
     },
     "inputWidgets": {},
     "nuid": "d825ab3c-8044-41dc-9089-a9778ec844d7",
     "showTitle": false,
     "title": ""
    }
   },
   "outputs": [],
   "source": [
    "import pinecone      \n",
    "pinecone.init(api_key=os.environ[\"PINECONE_API_KEY\"], environment=os.environ[\"PINECONE_ENVIRONMENT\"])   "
   ]
  },
  {
   "cell_type": "code",
   "execution_count": 0,
   "metadata": {
    "application/vnd.databricks.v1+cell": {
     "cellMetadata": {
      "byteLimit": 2048000,
      "rowLimit": 10000
     },
     "inputWidgets": {},
     "nuid": "8caac28e-0409-40bd-b5b8-c5ef8dc1fb12",
     "showTitle": false,
     "title": ""
    }
   },
   "outputs": [],
   "source": [
    "# pinecone.delete_index(INDEX_NAME)\n",
    "# pinecone.create_index(name=INDEX_NAME, dimension=DIMENSION, metric='cosine', pods=1, replicas=1, pod_type=\"p1\")"
   ]
  },
  {
   "cell_type": "code",
   "execution_count": 0,
   "metadata": {
    "application/vnd.databricks.v1+cell": {
     "cellMetadata": {
      "byteLimit": 2048000,
      "rowLimit": 10000
     },
     "inputWidgets": {},
     "nuid": "c8a0c735-59d4-455c-af37-f606e2b80e70",
     "showTitle": false,
     "title": ""
    }
   },
   "outputs": [
    {
     "output_type": "stream",
     "name": "stdout",
     "output_type": "stream",
     "text": [
      "Out[71]: {'dimension': 1536,\n 'index_fullness': 0.0,\n 'namespaces': {'': {'vector_count': 900}},\n 'total_vector_count': 900}"
     ]
    }
   ],
   "source": [
    "index = pinecone.Index(INDEX_NAME)\n",
    "index.describe_index_stats()"
   ]
  },
  {
   "cell_type": "code",
   "execution_count": 0,
   "metadata": {
    "application/vnd.databricks.v1+cell": {
     "cellMetadata": {
      "byteLimit": 2048000,
      "rowLimit": 10000
     },
     "inputWidgets": {},
     "nuid": "d8470591-a28e-4769-917d-2f99091abab0",
     "showTitle": false,
     "title": ""
    }
   },
   "outputs": [
    {
     "output_type": "display_data",
     "data": {
      "application/vnd.jupyter.widget-view+json": {
       "model_id": "b4d0c8ad52534e8eb6a8b12515560b88",
       "version_major": 2,
       "version_minor": 0
      },
      "text/plain": [
       "Upserted vectors:   0%|          | 0/6235 [00:00<?, ?it/s]"
      ]
     },
     "metadata": {},
     "output_type": "display_data"
    },
    {
     "output_type": "stream",
     "name": "stdout",
     "output_type": "stream",
     "text": [
      "Out[72]: {'upserted_count': 6235}"
     ]
    }
   ],
   "source": [
    "index.upsert(vectors=movie_vectors, batch_size=100)"
   ]
  },
  {
   "cell_type": "code",
   "execution_count": 0,
   "metadata": {
    "application/vnd.databricks.v1+cell": {
     "cellMetadata": {
      "byteLimit": 2048000,
      "rowLimit": 10000
     },
     "inputWidgets": {},
     "nuid": "df376043-cc50-4a01-9e8c-2041e265bae3",
     "showTitle": false,
     "title": ""
    }
   },
   "outputs": [
    {
     "output_type": "stream",
     "name": "stdout",
     "output_type": "stream",
     "text": [
      "Out[73]: {'dimension': 1536,\n 'index_fullness': 0.0,\n 'namespaces': {'': {'vector_count': 6235}},\n 'total_vector_count': 6235}"
     ]
    }
   ],
   "source": [
    "index.describe_index_stats()"
   ]
  },
  {
   "cell_type": "markdown",
   "metadata": {
    "application/vnd.databricks.v1+cell": {
     "cellMetadata": {},
     "inputWidgets": {},
     "nuid": "71abff79-5e22-494e-9c52-ab23a42d5aa0",
     "showTitle": false,
     "title": ""
    }
   },
   "source": [
    "### Spot Check the Embeddings using Similarity Queries"
   ]
  },
  {
   "cell_type": "code",
   "execution_count": 0,
   "metadata": {
    "application/vnd.databricks.v1+cell": {
     "cellMetadata": {
      "byteLimit": 2048000,
      "rowLimit": 10000
     },
     "inputWidgets": {},
     "nuid": "0ed9b492-125b-492d-97a7-58ced9bd6191",
     "showTitle": false,
     "title": ""
    }
   },
   "outputs": [
    {
     "output_type": "stream",
     "name": "stdout",
     "output_type": "stream",
     "text": [
      "Out[80]: [{'id': '13476',\n  'metadata': {'budget': 17000000.0,\n               'genres': ['Comedy', 'Romance'],\n               'keywords': ['celebrity',\n                            'romantic comedy',\n                            'male female relationship',\n                            'movie star'],\n               'overview': 'A small-town girl wins a date with a Hollywood star '\n                           'through a contest. When the date goes better than '\n                           'expected, a love triangle forms between the girl, '\n                           \"the celebrity, and the girl's best friend.\",\n               'popularity': 5.924226,\n               'release_date': datetime.date(2004, 1, 23),\n               'revenue': 16980098.0,\n               'runtime': 95.0,\n               'text': 'Comedy, Romance | celebrity, romantic comedy, male '\n                       'female relationship, movie star | A small-town girl '\n                       'wins a date with a Hollywood star through a contest. '\n                       'When the date goes better than expected, a love '\n                       'triangle forms between the girl, the celebrity, and the '\n                       \"girl's best friend.\",\n               'title': 'Win a Date with Tad Hamilton!',\n               'vote_average': 5.5,\n               'vote_count': 163.0},\n  'score': 0.876550436,\n  'values': []},\n {'id': '85735',\n  'metadata': {'budget': -1.0,\n               'genres': ['Romance', 'Comedy'],\n               'keywords': [],\n               'overview': 'A look at the dissolution of a marriage...',\n               'popularity': 5.019821,\n               'release_date': datetime.date(2011, 12, 10),\n               'revenue': -1.0,\n               'runtime': 98.0,\n               'text': 'Romance, Comedy |  | A look at the dissolution of a '\n                       'marriage...',\n               'title': 'Love Lasts Three Years',\n               'vote_average': 5.8,\n               'vote_count': 119.0},\n  'score': 0.872407734,\n  'values': []},\n {'id': '4564',\n  'metadata': {'budget': 65000000.0,\n               'genres': ['Comedy', 'Drama', 'Romance'],\n               'keywords': [],\n               'overview': 'A New York writer on sex and love is finally '\n                           'getting married to her Mr. Big. But her three best '\n                           'girlfriends must console her after one of them '\n                           'inadvertently leads Mr. Big to jilt her.',\n               'popularity': 9.170332,\n               'release_date': datetime.date(2008, 5, 12),\n               'revenue': 415252786.0,\n               'runtime': 145.0,\n               'text': 'Comedy, Drama, Romance |  | A New York writer on sex '\n                       'and love is finally getting married to her Mr. Big. But '\n                       'her three best girlfriends must console her after one '\n                       'of them inadvertently leads Mr. Big to jilt her.',\n               'title': 'Sex and the City',\n               'vote_average': 6.0,\n               'vote_count': 525.0},\n  'score': 0.867908657,\n  'values': []},\n {'id': '22419',\n  'metadata': {'budget': 6000000.0,\n               'genres': ['Comedy', 'Drama', 'Romance'],\n               'keywords': ['independent film'],\n               'overview': 'A twisted honeymoon adventure about a young couple '\n                           'on their way to Niagara Falls.',\n               'popularity': 8.776971,\n               'release_date': datetime.date(2008, 4, 13),\n               'revenue': -1.0,\n               'runtime': 94.0,\n               'text': 'Comedy, Drama, Romance | independent film | A twisted '\n                       'honeymoon adventure about a young couple on their way '\n                       'to Niagara Falls.',\n               'title': 'Camille',\n               'vote_average': 6.1,\n               'vote_count': 36.0},\n  'score': 0.864612162,\n  'values': []},\n {'id': '239571',\n  'metadata': {'budget': 26000000.0,\n               'genres': ['Drama', 'Romance'],\n               'keywords': ['high school sweetheart'],\n               'overview': 'A pair of former high school sweethearts reunite '\n                           'after many years when they return to visit their '\n                           'small hometown.',\n               'popularity': 8.196975,\n               'release_date': datetime.date(2014, 10, 16),\n               'revenue': 35926213.0,\n               'runtime': 117.0,\n               'text': 'Drama, Romance | high school sweetheart | A pair of '\n                       'former high school sweethearts reunite after many years '\n                       'when they return to visit their small hometown.',\n               'title': 'The Best of Me',\n               'vote_average': 7.2,\n               'vote_count': 777.0},\n  'score': 0.86449796,\n  'values': []},\n {'id': '52338',\n  'metadata': {'budget': -1.0,\n               'genres': ['Drama', 'Romance'],\n               'keywords': ['love', 'hollywood', 'unemployed'],\n               'overview': 'A Hollywood-set romantic tale of a guy who is '\n                           'content to live his life without a job yet with the '\n                           'love of his life, a young actress.',\n               'popularity': 9.679653,\n               'release_date': datetime.date(2010, 2, 10),\n               'revenue': -1.0,\n               'runtime': 94.0,\n               'text': 'Drama, Romance | love, hollywood, unemployed | A '\n                       'Hollywood-set romantic tale of a guy who is content to '\n                       'live his life without a job yet with the love of his '\n                       'life, a young actress.',\n               'title': 'Waiting for Forever',\n               'vote_average': 5.7,\n               'vote_count': 122.0},\n  'score': 0.863751352,\n  'values': []},\n {'id': '10033',\n  'metadata': {'budget': -1.0,\n               'genres': ['Comedy', 'Romance'],\n               'keywords': ['success',\n                            'change',\n                            'male female relationship',\n                            'falling in love',\n                            'hometown',\n                            'arrogance',\n                            'weight loss'],\n               'overview': 'While visiting his hometown during Christmas, a man '\n                           'comes face-to-face with his old high school crush '\n                           'whom he was best friends with – a woman whose '\n                           'rejection of him turned him into a ferocious '\n                           'womanizer.',\n               'popularity': 8.208492,\n               'release_date': datetime.date(2005, 11, 23),\n               'revenue': 50817508.0,\n               'runtime': 96.0,\n               'text': 'Comedy, Romance | success, change, male female '\n                       'relationship, falling in love, hometown, arrogance, '\n                       'weight loss | While visiting his hometown during '\n                       'Christmas, a man comes face-to-face with his old high '\n                       'school crush whom he was best friends with – a woman '\n                       'whose rejection of him turned him into a ferocious '\n                       'womanizer.',\n               'title': 'Just Friends',\n               'vote_average': 5.9,\n               'vote_count': 424.0},\n  'score': 0.863010705,\n  'values': []},\n {'id': '111969',\n  'metadata': {'budget': -1.0,\n               'genres': ['Drama', 'Comedy'],\n               'keywords': ['love',\n                            'independent film',\n                            'relationship',\n                            'family',\n                            'novelist',\n                            'unhappiness'],\n               'overview': 'An acclaimed writer, his ex-wife, and their '\n                           'teenaged children come to terms with the '\n                           'complexities of love in all its forms over the '\n                           'course of one tumultuous year.',\n               'popularity': 6.715938,\n               'release_date': datetime.date(2012, 9, 9),\n               'revenue': 81071.0,\n               'runtime': 97.0,\n               'text': 'Drama, Comedy | love, independent film, relationship, '\n                       'family, novelist, unhappiness | An acclaimed writer, '\n                       'his ex-wife, and their teenaged children come to terms '\n                       'with the complexities of love in all its forms over the '\n                       'course of one tumultuous year.',\n               'title': 'Stuck in Love',\n               'vote_average': 7.3,\n               'vote_count': 657.0},\n  'score': 0.862805784,\n  'values': []},\n {'id': '21055',\n  'metadata': {'budget': -1.0,\n               'genres': ['Comedy', 'Romance'],\n               'keywords': ['love',\n                            'friends',\n                            'homosexuality',\n                            'independent film',\n                            'woman director'],\n               'overview': 'A contemporary romantic comedy exploring the '\n                           'unlikely pairing of two 20-somethings thrown '\n                           'together by their respective best friends in hopes '\n                           'of igniting their own romance.',\n               'popularity': 7.332279,\n               'release_date': datetime.date(2001, 3, 7),\n               'revenue': 1051948.0,\n               'runtime': 95.0,\n               'text': 'Comedy, Romance | love, friends, homosexuality, '\n                       'independent film, woman director | A contemporary '\n                       'romantic comedy exploring the unlikely pairing of two '\n                       '20-somethings thrown together by their respective best '\n                       'friends in hopes of igniting their own romance.',\n               'title': 'All Over the Guy',\n               'vote_average': 5.6,\n               'vote_count': 23.0},\n  'score': 0.861238837,\n  'values': []},\n {'id': '13163',\n  'metadata': {'budget': -1.0,\n               'genres': ['Comedy', 'Romance'],\n               'keywords': ['sex',\n                            'girlfriend',\n                            'engagement',\n                            'love',\n                            'friends',\n                            'dating'],\n               'overview': 'A commitment-averse man frantically hits the dating '\n                           'scene after his girlfriend starts pressuring him to '\n                           'pop the question.',\n               'popularity': 7.922964,\n               'release_date': datetime.date(2002, 1, 14),\n               'revenue': -1.0,\n               'runtime': 88.0,\n               'text': 'Comedy, Romance | sex, girlfriend, engagement, love, '\n                       'friends, dating | A commitment-averse man frantically '\n                       'hits the dating scene after his girlfriend starts '\n                       'pressuring him to pop the question.',\n               'title': 'Buying the Cow',\n               'vote_average': 5.6,\n               'vote_count': 27.0},\n  'score': 0.860088527,\n  'values': []}]"
     ]
    }
   ],
   "source": [
    "query = \"a romantic comedy with a happy ending\"\n",
    "query_embedding = openai.Embedding.create(model=\"text-embedding-ada-002\", input=query)[\"data\"][0][\"embedding\"]\n",
    "matches = index.query(vector=query_embedding, top_k=10, include_values=False, include_metadata=True)[\"matches\"]\n",
    "matches"
   ]
  },
  {
   "cell_type": "code",
   "execution_count": 0,
   "metadata": {
    "application/vnd.databricks.v1+cell": {
     "cellMetadata": {},
     "inputWidgets": {},
     "nuid": "d20f2af2-3d30-4a86-814a-45ce38967a7e",
     "showTitle": false,
     "title": ""
    }
   },
   "outputs": [],
   "source": []
  }
 ],
 "metadata": {
  "application/vnd.databricks.v1+notebook": {
   "dashboards": [],
   "language": "python",
   "notebookMetadata": {
    "pythonIndentUnit": 4
   },
   "notebookName": "create-content-embeddings",
   "widgets": {}
  },
  "kernelspec": {
   "display_name": "Python 3 (ipykernel)",
   "language": "python",
   "name": "python3"
  },
  "language_info": {
   "codemirror_mode": {
    "name": "ipython",
    "version": 3
   },
   "file_extension": ".py",
   "mimetype": "text/x-python",
   "name": "python",
   "nbconvert_exporter": "python",
   "pygments_lexer": "ipython3",
   "version": "3.9.16"
  }
 },
 "nbformat": 4,
 "nbformat_minor": 0
}
